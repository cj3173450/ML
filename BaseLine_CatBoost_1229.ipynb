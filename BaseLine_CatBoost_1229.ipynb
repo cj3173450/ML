{
 "cells": [
  {
   "cell_type": "code",
   "execution_count": 1,
   "id": "cf79f30f-2365-41bf-85e9-d2bc61374245",
   "metadata": {},
   "outputs": [],
   "source": [
    "import os\n",
    "import datetime\n",
    "import random\n",
    "import pandas as pd\n",
    "import numpy as np\n",
    "\n",
    "from sklearn import model_selection\n",
    "from sklearn.preprocessing import LabelEncoder\n",
    "from sklearn.utils.class_weight import compute_sample_weight\n",
    "#from sklearn.utils.class_weight import compute_class_weight\n",
    "from sklearn.metrics import confusion_matrix\n",
    "from sklearn.metrics import f1_score\n",
    "\n",
    "from category_encoders import CountEncoder\n",
    "\n",
    "import catboost as cb\n",
    "\n",
    "#from sklearn.decomposition import TruncatedSVD\n",
    "\n",
    "import seaborn as sns\n",
    "#sns.set(font='Yu Gothic')\n",
    "\n",
    "import matplotlib.pyplot as plt\n",
    "%matplotlib inline"
   ]
  },
  {
   "cell_type": "code",
   "execution_count": 2,
   "id": "7890b4fa-6a7e-488b-a25c-388ce7648432",
   "metadata": {},
   "outputs": [],
   "source": [
    "def seed_everything(seed: int):\n",
    "    random.seed(seed)\n",
    "    os.environ[\"PYTHONHASHSEED\"] = str(seed)\n",
    "    np.random.seed(seed)"
   ]
  },
  {
   "cell_type": "code",
   "execution_count": 3,
   "id": "b656827e-bf7c-422c-a8cb-85c8f71c2570",
   "metadata": {},
   "outputs": [],
   "source": [
    "# Congig\n",
    "SEED = 42\n",
    "FOLD = 5\n",
    "pd.get_option('display.max_columns')\n",
    "seed_everything(SEED)"
   ]
  },
  {
   "cell_type": "code",
   "execution_count": 4,
   "id": "db780a6c-663b-45c2-a473-de9d2592e38a",
   "metadata": {},
   "outputs": [
    {
     "data": {
      "text/plain": [
       "((19984, 25), (19702, 23))"
      ]
     },
     "execution_count": 4,
     "metadata": {},
     "output_type": "execute_result"
    }
   ],
   "source": [
    "train = pd.read_csv('./train_kfold.csv',index_col=0)\n",
    "test = pd.read_csv('./test_geo.csv',index_col=0)\n",
    "sample_submission = pd.read_csv(\"./sample_submission.csv\",index_col=0, header=None)\n",
    "train.shape, test.shape"
   ]
  },
  {
   "cell_type": "markdown",
   "id": "2ca84bf5-0907-4e4a-a8fd-060731585552",
   "metadata": {},
   "source": [
    "### 欠損値"
   ]
  },
  {
   "cell_type": "code",
   "execution_count": 5,
   "id": "301d73ee-d281-4c33-831a-ae41931b3372",
   "metadata": {},
   "outputs": [
    {
     "data": {
      "text/plain": [
       "created_at              0\n",
       "tree_dbh                0\n",
       "curb_loc                0\n",
       "health                  0\n",
       "steward             14883\n",
       "guards              14943\n",
       "sidewalk                0\n",
       "user_type               0\n",
       "problems            12243\n",
       "spc_common              0\n",
       "spc_latin               0\n",
       "nta                     0\n",
       "nta_name                0\n",
       "borocode                0\n",
       "boro_ct                 0\n",
       "boroname                0\n",
       "zip_city                0\n",
       "cb_num                  0\n",
       "st_senate               0\n",
       "st_assem                0\n",
       "cncldist                0\n",
       "combined_address        0\n",
       "latitude                0\n",
       "longitude               0\n",
       "kfold                   0\n",
       "dtype: int64"
      ]
     },
     "execution_count": 5,
     "metadata": {},
     "output_type": "execute_result"
    }
   ],
   "source": [
    "train.isnull().sum()"
   ]
  },
  {
   "cell_type": "code",
   "execution_count": 6,
   "id": "3d55f349-2b08-4831-80b0-823d2231ff64",
   "metadata": {},
   "outputs": [
    {
     "data": {
      "text/plain": [
       "created_at          0\n",
       "tree_dbh            0\n",
       "curb_loc            0\n",
       "health              0\n",
       "steward             0\n",
       "guards              0\n",
       "sidewalk            0\n",
       "user_type           0\n",
       "problems            0\n",
       "spc_common          0\n",
       "spc_latin           0\n",
       "nta                 0\n",
       "nta_name            0\n",
       "borocode            0\n",
       "boro_ct             0\n",
       "boroname            0\n",
       "zip_city            0\n",
       "cb_num              0\n",
       "st_senate           0\n",
       "st_assem            0\n",
       "cncldist            0\n",
       "combined_address    0\n",
       "latitude            0\n",
       "longitude           0\n",
       "kfold               0\n",
       "dtype: int64"
      ]
     },
     "execution_count": 6,
     "metadata": {},
     "output_type": "execute_result"
    }
   ],
   "source": [
    "train.fillna('NULL', inplace=True)\n",
    "train.isnull().sum()"
   ]
  },
  {
   "cell_type": "code",
   "execution_count": 7,
   "id": "d228e855-864f-456c-8669-431103812201",
   "metadata": {},
   "outputs": [
    {
     "data": {
      "text/plain": [
       "created_at              0\n",
       "tree_dbh                0\n",
       "curb_loc                0\n",
       "steward             14526\n",
       "guards              14567\n",
       "sidewalk                0\n",
       "user_type               0\n",
       "problems            12045\n",
       "spc_common              0\n",
       "spc_latin               0\n",
       "nta                     0\n",
       "nta_name                0\n",
       "borocode                0\n",
       "boro_ct                 0\n",
       "boroname                0\n",
       "zip_city                0\n",
       "cb_num                  0\n",
       "st_senate               0\n",
       "st_assem                0\n",
       "cncldist                0\n",
       "combined_address        0\n",
       "latitude                0\n",
       "longitude               0\n",
       "dtype: int64"
      ]
     },
     "execution_count": 7,
     "metadata": {},
     "output_type": "execute_result"
    }
   ],
   "source": [
    "test.isnull().sum()"
   ]
  },
  {
   "cell_type": "code",
   "execution_count": 8,
   "id": "41294266-9d04-4e62-841a-b30afc7826fb",
   "metadata": {},
   "outputs": [
    {
     "data": {
      "text/plain": [
       "created_at          0\n",
       "tree_dbh            0\n",
       "curb_loc            0\n",
       "steward             0\n",
       "guards              0\n",
       "sidewalk            0\n",
       "user_type           0\n",
       "problems            0\n",
       "spc_common          0\n",
       "spc_latin           0\n",
       "nta                 0\n",
       "nta_name            0\n",
       "borocode            0\n",
       "boro_ct             0\n",
       "boroname            0\n",
       "zip_city            0\n",
       "cb_num              0\n",
       "st_senate           0\n",
       "st_assem            0\n",
       "cncldist            0\n",
       "combined_address    0\n",
       "latitude            0\n",
       "longitude           0\n",
       "dtype: int64"
      ]
     },
     "execution_count": 8,
     "metadata": {},
     "output_type": "execute_result"
    }
   ],
   "source": [
    "test.fillna('NULL', inplace=True)\n",
    "test.isnull().sum()"
   ]
  },
  {
   "cell_type": "code",
   "execution_count": 9,
   "id": "77375649-ce4b-439d-8405-b786984d3a57",
   "metadata": {},
   "outputs": [
    {
     "data": {
      "text/html": [
       "<div>\n",
       "<style scoped>\n",
       "    .dataframe tbody tr th:only-of-type {\n",
       "        vertical-align: middle;\n",
       "    }\n",
       "\n",
       "    .dataframe tbody tr th {\n",
       "        vertical-align: top;\n",
       "    }\n",
       "\n",
       "    .dataframe thead th {\n",
       "        text-align: right;\n",
       "    }\n",
       "</style>\n",
       "<table border=\"1\" class=\"dataframe\">\n",
       "  <thead>\n",
       "    <tr style=\"text-align: right;\">\n",
       "      <th></th>\n",
       "      <th>created_at</th>\n",
       "      <th>tree_dbh</th>\n",
       "      <th>curb_loc</th>\n",
       "      <th>health</th>\n",
       "      <th>steward</th>\n",
       "      <th>guards</th>\n",
       "      <th>sidewalk</th>\n",
       "      <th>user_type</th>\n",
       "      <th>problems</th>\n",
       "      <th>spc_common</th>\n",
       "      <th>...</th>\n",
       "      <th>boroname</th>\n",
       "      <th>zip_city</th>\n",
       "      <th>cb_num</th>\n",
       "      <th>st_senate</th>\n",
       "      <th>st_assem</th>\n",
       "      <th>cncldist</th>\n",
       "      <th>combined_address</th>\n",
       "      <th>latitude</th>\n",
       "      <th>longitude</th>\n",
       "      <th>kfold</th>\n",
       "    </tr>\n",
       "  </thead>\n",
       "  <tbody>\n",
       "    <tr>\n",
       "      <th>0</th>\n",
       "      <td>2015-06-29</td>\n",
       "      <td>14</td>\n",
       "      <td>OnCurb</td>\n",
       "      <td>1</td>\n",
       "      <td>NULL</td>\n",
       "      <td>NULL</td>\n",
       "      <td>Damage</td>\n",
       "      <td>Volunteer</td>\n",
       "      <td>NULL</td>\n",
       "      <td>English oak</td>\n",
       "      <td>...</td>\n",
       "      <td>Queens</td>\n",
       "      <td>Little Neck</td>\n",
       "      <td>411</td>\n",
       "      <td>11</td>\n",
       "      <td>25</td>\n",
       "      <td>23</td>\n",
       "      <td>Little Neck, Queens</td>\n",
       "      <td>40.774534</td>\n",
       "      <td>-73.741256</td>\n",
       "      <td>2</td>\n",
       "    </tr>\n",
       "    <tr>\n",
       "      <th>1</th>\n",
       "      <td>2016-09-21</td>\n",
       "      <td>5</td>\n",
       "      <td>OnCurb</td>\n",
       "      <td>1</td>\n",
       "      <td>3or4</td>\n",
       "      <td>Helpful</td>\n",
       "      <td>NoDamage</td>\n",
       "      <td>Volunteer</td>\n",
       "      <td>NULL</td>\n",
       "      <td>crimson king maple</td>\n",
       "      <td>...</td>\n",
       "      <td>Bronx</td>\n",
       "      <td>Bronx</td>\n",
       "      <td>207</td>\n",
       "      <td>33</td>\n",
       "      <td>78</td>\n",
       "      <td>15</td>\n",
       "      <td>Bronx, Bronx</td>\n",
       "      <td>40.850656</td>\n",
       "      <td>-73.866524</td>\n",
       "      <td>3</td>\n",
       "    </tr>\n",
       "    <tr>\n",
       "      <th>2</th>\n",
       "      <td>2015-09-13</td>\n",
       "      <td>26</td>\n",
       "      <td>OnCurb</td>\n",
       "      <td>2</td>\n",
       "      <td>NULL</td>\n",
       "      <td>NULL</td>\n",
       "      <td>NoDamage</td>\n",
       "      <td>Volunteer</td>\n",
       "      <td>StonesBranchLights</td>\n",
       "      <td>English oak</td>\n",
       "      <td>...</td>\n",
       "      <td>Staten Island</td>\n",
       "      <td>Staten Island</td>\n",
       "      <td>503</td>\n",
       "      <td>24</td>\n",
       "      <td>62</td>\n",
       "      <td>51</td>\n",
       "      <td>Staten Island, Staten Island</td>\n",
       "      <td>40.583456</td>\n",
       "      <td>-74.149605</td>\n",
       "      <td>2</td>\n",
       "    </tr>\n",
       "    <tr>\n",
       "      <th>3</th>\n",
       "      <td>2016-05-09</td>\n",
       "      <td>15</td>\n",
       "      <td>OnCurb</td>\n",
       "      <td>0</td>\n",
       "      <td>NULL</td>\n",
       "      <td>NULL</td>\n",
       "      <td>Damage</td>\n",
       "      <td>NYC Parks Staff</td>\n",
       "      <td>NULL</td>\n",
       "      <td>honeylocust</td>\n",
       "      <td>...</td>\n",
       "      <td>Staten Island</td>\n",
       "      <td>Staten Island</td>\n",
       "      <td>503</td>\n",
       "      <td>24</td>\n",
       "      <td>62</td>\n",
       "      <td>51</td>\n",
       "      <td>Staten Island, Staten Island</td>\n",
       "      <td>40.583456</td>\n",
       "      <td>-74.149605</td>\n",
       "      <td>2</td>\n",
       "    </tr>\n",
       "    <tr>\n",
       "      <th>4</th>\n",
       "      <td>2016-06-24</td>\n",
       "      <td>23</td>\n",
       "      <td>OnCurb</td>\n",
       "      <td>1</td>\n",
       "      <td>NULL</td>\n",
       "      <td>NULL</td>\n",
       "      <td>NoDamage</td>\n",
       "      <td>Volunteer</td>\n",
       "      <td>Stones</td>\n",
       "      <td>London planetree</td>\n",
       "      <td>...</td>\n",
       "      <td>Manhattan</td>\n",
       "      <td>New York</td>\n",
       "      <td>110</td>\n",
       "      <td>30</td>\n",
       "      <td>70</td>\n",
       "      <td>9</td>\n",
       "      <td>New York, Manhattan</td>\n",
       "      <td>40.789624</td>\n",
       "      <td>-73.959894</td>\n",
       "      <td>2</td>\n",
       "    </tr>\n",
       "  </tbody>\n",
       "</table>\n",
       "<p>5 rows × 25 columns</p>\n",
       "</div>"
      ],
      "text/plain": [
       "   created_at  tree_dbh curb_loc  health steward   guards  sidewalk  \\\n",
       "0  2015-06-29        14   OnCurb       1    NULL     NULL    Damage   \n",
       "1  2016-09-21         5   OnCurb       1    3or4  Helpful  NoDamage   \n",
       "2  2015-09-13        26   OnCurb       2    NULL     NULL  NoDamage   \n",
       "3  2016-05-09        15   OnCurb       0    NULL     NULL    Damage   \n",
       "4  2016-06-24        23   OnCurb       1    NULL     NULL  NoDamage   \n",
       "\n",
       "         user_type            problems          spc_common  ...  \\\n",
       "0        Volunteer                NULL         English oak  ...   \n",
       "1        Volunteer                NULL  crimson king maple  ...   \n",
       "2        Volunteer  StonesBranchLights         English oak  ...   \n",
       "3  NYC Parks Staff                NULL         honeylocust  ...   \n",
       "4        Volunteer              Stones    London planetree  ...   \n",
       "\n",
       "        boroname       zip_city cb_num  st_senate  st_assem cncldist  \\\n",
       "0         Queens    Little Neck    411         11        25       23   \n",
       "1          Bronx          Bronx    207         33        78       15   \n",
       "2  Staten Island  Staten Island    503         24        62       51   \n",
       "3  Staten Island  Staten Island    503         24        62       51   \n",
       "4      Manhattan       New York    110         30        70        9   \n",
       "\n",
       "               combined_address   latitude  longitude  kfold  \n",
       "0           Little Neck, Queens  40.774534 -73.741256      2  \n",
       "1                  Bronx, Bronx  40.850656 -73.866524      3  \n",
       "2  Staten Island, Staten Island  40.583456 -74.149605      2  \n",
       "3  Staten Island, Staten Island  40.583456 -74.149605      2  \n",
       "4           New York, Manhattan  40.789624 -73.959894      2  \n",
       "\n",
       "[5 rows x 25 columns]"
      ]
     },
     "execution_count": 9,
     "metadata": {},
     "output_type": "execute_result"
    }
   ],
   "source": [
    "train.head()"
   ]
  },
  {
   "cell_type": "code",
   "execution_count": 10,
   "id": "c8a892f8-0447-4cce-af48-70ddd8e561e6",
   "metadata": {
    "scrolled": true
   },
   "outputs": [
    {
     "data": {
      "text/html": [
       "<div>\n",
       "<style scoped>\n",
       "    .dataframe tbody tr th:only-of-type {\n",
       "        vertical-align: middle;\n",
       "    }\n",
       "\n",
       "    .dataframe tbody tr th {\n",
       "        vertical-align: top;\n",
       "    }\n",
       "\n",
       "    .dataframe thead th {\n",
       "        text-align: right;\n",
       "    }\n",
       "</style>\n",
       "<table border=\"1\" class=\"dataframe\">\n",
       "  <thead>\n",
       "    <tr style=\"text-align: right;\">\n",
       "      <th></th>\n",
       "      <th>created_at</th>\n",
       "      <th>tree_dbh</th>\n",
       "      <th>curb_loc</th>\n",
       "      <th>steward</th>\n",
       "      <th>guards</th>\n",
       "      <th>sidewalk</th>\n",
       "      <th>user_type</th>\n",
       "      <th>problems</th>\n",
       "      <th>spc_common</th>\n",
       "      <th>spc_latin</th>\n",
       "      <th>...</th>\n",
       "      <th>boro_ct</th>\n",
       "      <th>boroname</th>\n",
       "      <th>zip_city</th>\n",
       "      <th>cb_num</th>\n",
       "      <th>st_senate</th>\n",
       "      <th>st_assem</th>\n",
       "      <th>cncldist</th>\n",
       "      <th>combined_address</th>\n",
       "      <th>latitude</th>\n",
       "      <th>longitude</th>\n",
       "    </tr>\n",
       "  </thead>\n",
       "  <tbody>\n",
       "    <tr>\n",
       "      <th>0</th>\n",
       "      <td>2015-09-08</td>\n",
       "      <td>15</td>\n",
       "      <td>OnCurb</td>\n",
       "      <td>NULL</td>\n",
       "      <td>NULL</td>\n",
       "      <td>Damage</td>\n",
       "      <td>NYC Parks Staff</td>\n",
       "      <td>NULL</td>\n",
       "      <td>Callery pear</td>\n",
       "      <td>Pyrus calleryana</td>\n",
       "      <td>...</td>\n",
       "      <td>3062000</td>\n",
       "      <td>Brooklyn</td>\n",
       "      <td>Brooklyn</td>\n",
       "      <td>315</td>\n",
       "      <td>22</td>\n",
       "      <td>45</td>\n",
       "      <td>48</td>\n",
       "      <td>Brooklyn, Brooklyn</td>\n",
       "      <td>40.652601</td>\n",
       "      <td>-73.949721</td>\n",
       "    </tr>\n",
       "    <tr>\n",
       "      <th>1</th>\n",
       "      <td>2015-10-15</td>\n",
       "      <td>5</td>\n",
       "      <td>OnCurb</td>\n",
       "      <td>1or2</td>\n",
       "      <td>NULL</td>\n",
       "      <td>NoDamage</td>\n",
       "      <td>Volunteer</td>\n",
       "      <td>NULL</td>\n",
       "      <td>cherry</td>\n",
       "      <td>Prunus</td>\n",
       "      <td>...</td>\n",
       "      <td>2045101</td>\n",
       "      <td>Bronx</td>\n",
       "      <td>Bronx</td>\n",
       "      <td>212</td>\n",
       "      <td>34</td>\n",
       "      <td>81</td>\n",
       "      <td>11</td>\n",
       "      <td>Bronx, Bronx</td>\n",
       "      <td>40.850656</td>\n",
       "      <td>-73.866524</td>\n",
       "    </tr>\n",
       "    <tr>\n",
       "      <th>2</th>\n",
       "      <td>2016-08-03</td>\n",
       "      <td>4</td>\n",
       "      <td>OnCurb</td>\n",
       "      <td>NULL</td>\n",
       "      <td>Unsure</td>\n",
       "      <td>NoDamage</td>\n",
       "      <td>Volunteer</td>\n",
       "      <td>NULL</td>\n",
       "      <td>littleleaf linden</td>\n",
       "      <td>Tilia cordata</td>\n",
       "      <td>...</td>\n",
       "      <td>4013800</td>\n",
       "      <td>Queens</td>\n",
       "      <td>Kew Gardens</td>\n",
       "      <td>409</td>\n",
       "      <td>14</td>\n",
       "      <td>27</td>\n",
       "      <td>29</td>\n",
       "      <td>Kew Gardens, Queens</td>\n",
       "      <td>40.713941</td>\n",
       "      <td>-73.830742</td>\n",
       "    </tr>\n",
       "    <tr>\n",
       "      <th>3</th>\n",
       "      <td>2015-08-06</td>\n",
       "      <td>7</td>\n",
       "      <td>OnCurb</td>\n",
       "      <td>NULL</td>\n",
       "      <td>NULL</td>\n",
       "      <td>NoDamage</td>\n",
       "      <td>TreesCount Staff</td>\n",
       "      <td>NULL</td>\n",
       "      <td>dawn redwood</td>\n",
       "      <td>Metasequoia glyptostroboides</td>\n",
       "      <td>...</td>\n",
       "      <td>3000301</td>\n",
       "      <td>Brooklyn</td>\n",
       "      <td>Brooklyn</td>\n",
       "      <td>302</td>\n",
       "      <td>26</td>\n",
       "      <td>52</td>\n",
       "      <td>33</td>\n",
       "      <td>Brooklyn, Brooklyn</td>\n",
       "      <td>40.652601</td>\n",
       "      <td>-73.949721</td>\n",
       "    </tr>\n",
       "    <tr>\n",
       "      <th>4</th>\n",
       "      <td>2015-10-21</td>\n",
       "      <td>6</td>\n",
       "      <td>OnCurb</td>\n",
       "      <td>1or2</td>\n",
       "      <td>Helpful</td>\n",
       "      <td>NoDamage</td>\n",
       "      <td>TreesCount Staff</td>\n",
       "      <td>Stones</td>\n",
       "      <td>purple-leaf plum</td>\n",
       "      <td>Prunus cerasifera</td>\n",
       "      <td>...</td>\n",
       "      <td>3025100</td>\n",
       "      <td>Brooklyn</td>\n",
       "      <td>Brooklyn</td>\n",
       "      <td>303</td>\n",
       "      <td>25</td>\n",
       "      <td>56</td>\n",
       "      <td>36</td>\n",
       "      <td>Brooklyn, Brooklyn</td>\n",
       "      <td>40.652601</td>\n",
       "      <td>-73.949721</td>\n",
       "    </tr>\n",
       "  </tbody>\n",
       "</table>\n",
       "<p>5 rows × 23 columns</p>\n",
       "</div>"
      ],
      "text/plain": [
       "   created_at  tree_dbh curb_loc steward   guards  sidewalk         user_type  \\\n",
       "0  2015-09-08        15   OnCurb    NULL     NULL    Damage   NYC Parks Staff   \n",
       "1  2015-10-15         5   OnCurb    1or2     NULL  NoDamage         Volunteer   \n",
       "2  2016-08-03         4   OnCurb    NULL   Unsure  NoDamage         Volunteer   \n",
       "3  2015-08-06         7   OnCurb    NULL     NULL  NoDamage  TreesCount Staff   \n",
       "4  2015-10-21         6   OnCurb    1or2  Helpful  NoDamage  TreesCount Staff   \n",
       "\n",
       "  problems         spc_common                     spc_latin  ...  boro_ct  \\\n",
       "0     NULL       Callery pear              Pyrus calleryana  ...  3062000   \n",
       "1     NULL             cherry                        Prunus  ...  2045101   \n",
       "2     NULL  littleleaf linden                 Tilia cordata  ...  4013800   \n",
       "3     NULL       dawn redwood  Metasequoia glyptostroboides  ...  3000301   \n",
       "4   Stones   purple-leaf plum             Prunus cerasifera  ...  3025100   \n",
       "\n",
       "   boroname     zip_city  cb_num st_senate st_assem  cncldist  \\\n",
       "0  Brooklyn     Brooklyn     315        22       45        48   \n",
       "1     Bronx        Bronx     212        34       81        11   \n",
       "2    Queens  Kew Gardens     409        14       27        29   \n",
       "3  Brooklyn     Brooklyn     302        26       52        33   \n",
       "4  Brooklyn     Brooklyn     303        25       56        36   \n",
       "\n",
       "      combined_address   latitude  longitude  \n",
       "0   Brooklyn, Brooklyn  40.652601 -73.949721  \n",
       "1         Bronx, Bronx  40.850656 -73.866524  \n",
       "2  Kew Gardens, Queens  40.713941 -73.830742  \n",
       "3   Brooklyn, Brooklyn  40.652601 -73.949721  \n",
       "4   Brooklyn, Brooklyn  40.652601 -73.949721  \n",
       "\n",
       "[5 rows x 23 columns]"
      ]
     },
     "execution_count": 10,
     "metadata": {},
     "output_type": "execute_result"
    }
   ],
   "source": [
    "test.head()"
   ]
  },
  {
   "cell_type": "code",
   "execution_count": 11,
   "id": "0ab454e0-2987-409e-98a8-ef7413fa6b4d",
   "metadata": {},
   "outputs": [
    {
     "name": "stdout",
     "output_type": "stream",
     "text": [
      "<class 'pandas.core.frame.DataFrame'>\n",
      "Index: 19984 entries, 0 to 19983\n",
      "Data columns (total 25 columns):\n",
      " #   Column            Non-Null Count  Dtype  \n",
      "---  ------            --------------  -----  \n",
      " 0   created_at        19984 non-null  object \n",
      " 1   tree_dbh          19984 non-null  int64  \n",
      " 2   curb_loc          19984 non-null  object \n",
      " 3   health            19984 non-null  int64  \n",
      " 4   steward           19984 non-null  object \n",
      " 5   guards            19984 non-null  object \n",
      " 6   sidewalk          19984 non-null  object \n",
      " 7   user_type         19984 non-null  object \n",
      " 8   problems          19984 non-null  object \n",
      " 9   spc_common        19984 non-null  object \n",
      " 10  spc_latin         19984 non-null  object \n",
      " 11  nta               19984 non-null  object \n",
      " 12  nta_name          19984 non-null  object \n",
      " 13  borocode          19984 non-null  int64  \n",
      " 14  boro_ct           19984 non-null  int64  \n",
      " 15  boroname          19984 non-null  object \n",
      " 16  zip_city          19984 non-null  object \n",
      " 17  cb_num            19984 non-null  int64  \n",
      " 18  st_senate         19984 non-null  int64  \n",
      " 19  st_assem          19984 non-null  int64  \n",
      " 20  cncldist          19984 non-null  int64  \n",
      " 21  combined_address  19984 non-null  object \n",
      " 22  latitude          19984 non-null  float64\n",
      " 23  longitude         19984 non-null  float64\n",
      " 24  kfold             19984 non-null  int64  \n",
      "dtypes: float64(2), int64(9), object(14)\n",
      "memory usage: 4.0+ MB\n"
     ]
    }
   ],
   "source": [
    "train.info()"
   ]
  },
  {
   "cell_type": "markdown",
   "id": "6b08d162-158d-4599-88c7-19c8d86108fd",
   "metadata": {},
   "source": [
    "## ターゲットの分布\n",
    "### 木の健康状態（目的変数）\n",
    "### 0:Fair（普通） 1:Good（良い） 2:Poor（悪い）"
   ]
  },
  {
   "cell_type": "code",
   "execution_count": 12,
   "id": "bf795440-065a-43da-a6a9-e016f94f188b",
   "metadata": {},
   "outputs": [
    {
     "data": {
      "text/plain": [
       "health\n",
       "1    15751\n",
       "0     3535\n",
       "2      698\n",
       "Name: count, dtype: int64"
      ]
     },
     "execution_count": 12,
     "metadata": {},
     "output_type": "execute_result"
    }
   ],
   "source": [
    "train[\"health\"].value_counts()"
   ]
  },
  {
   "cell_type": "code",
   "execution_count": 13,
   "id": "4323f939-5413-4a21-ae17-c48d92dae967",
   "metadata": {},
   "outputs": [
    {
     "data": {
      "text/plain": [
       "<Axes: xlabel='health', ylabel='count'>"
      ]
     },
     "execution_count": 13,
     "metadata": {},
     "output_type": "execute_result"
    },
    {
     "data": {
      "image/png": "[encoded data removed]",
      "text/plain": [
       "<Figure size 640x480 with 1 Axes>"
      ]
     },
     "metadata": {},
     "output_type": "display_data"
    }
   ],
   "source": [
    "sns.countplot(data=train, x=\"health\")"
   ]
  },
  {
   "cell_type": "code",
   "execution_count": 14,
   "id": "38fab801-a87a-4bbf-9abd-62f33f7752ff",
   "metadata": {},
   "outputs": [
    {
     "data": {
      "text/plain": [
       "<Axes: xlabel='target', ylabel='count'>"
      ]
     },
     "execution_count": 14,
     "metadata": {},
     "output_type": "execute_result"
    },
    {
     "data": {
      "image/png": "[encoded data removed]",
      "text/plain": [
       "<Figure size 640x480 with 1 Axes>"
      ]
     },
     "metadata": {},
     "output_type": "display_data"
    }
   ],
   "source": [
    "# For Target Enc\n",
    "train[\"target\"] = train[\"health\"]\n",
    "train[\"target\"] = train[\"target\"].replace(2,-1)\n",
    "sns.countplot(data=train, x=\"target\")"
   ]
  },
  {
   "cell_type": "markdown",
   "id": "5e4df5ce-66ed-4cff-8fdf-53ba358a2939",
   "metadata": {},
   "source": [
    "# 前処理部分"
   ]
  },
  {
   "cell_type": "code",
   "execution_count": 15,
   "id": "8aef7d12-34a4-4894-b227-4af007e35f5d",
   "metadata": {},
   "outputs": [],
   "source": [
    "#Tag\n",
    "test[\"health\"] = -99\n",
    "test[\"kfold\"] = -99\n",
    "train[\"Tag\"] = 1\n",
    "test[\"Tag\"] = 0"
   ]
  },
  {
   "cell_type": "code",
   "execution_count": 16,
   "id": "851efcc2-134a-4f85-bef5-8ad9fdba6b2a",
   "metadata": {},
   "outputs": [
    {
     "data": {
      "text/plain": [
       "(39686, 27)"
      ]
     },
     "execution_count": 16,
     "metadata": {},
     "output_type": "execute_result"
    }
   ],
   "source": [
    "df_concat = pd.concat([train, test])\n",
    "df_concat.shape"
   ]
  },
  {
   "cell_type": "markdown",
   "id": "defd9342-bbc3-4f6f-b874-ec6dfa4a340a",
   "metadata": {},
   "source": [
    "### 欠損値"
   ]
  },
  {
   "cell_type": "code",
   "execution_count": 17,
   "id": "df94b828-177e-4b97-9b42-6c117bdb28d3",
   "metadata": {},
   "outputs": [
    {
     "data": {
      "text/plain": [
       "created_at              0\n",
       "tree_dbh                0\n",
       "curb_loc                0\n",
       "health                  0\n",
       "steward                 0\n",
       "guards                  0\n",
       "sidewalk                0\n",
       "user_type               0\n",
       "problems                0\n",
       "spc_common              0\n",
       "spc_latin               0\n",
       "nta                     0\n",
       "nta_name                0\n",
       "borocode                0\n",
       "boro_ct                 0\n",
       "boroname                0\n",
       "zip_city                0\n",
       "cb_num                  0\n",
       "st_senate               0\n",
       "st_assem                0\n",
       "cncldist                0\n",
       "combined_address        0\n",
       "latitude                0\n",
       "longitude               0\n",
       "kfold                   0\n",
       "target              19702\n",
       "Tag                     0\n",
       "dtype: int64"
      ]
     },
     "execution_count": 17,
     "metadata": {},
     "output_type": "execute_result"
    }
   ],
   "source": [
    "df_concat.isnull().sum()"
   ]
  },
  {
   "cell_type": "markdown",
   "id": "18aadd74-85e8-4b75-a47a-f8134318e986",
   "metadata": {},
   "source": [
    "### 多重共線性"
   ]
  },
  {
   "cell_type": "code",
   "execution_count": 18,
   "id": "c52cd57e-b1de-4c7b-949d-66c25aed28cf",
   "metadata": {},
   "outputs": [],
   "source": [
    "# spc_latin\n",
    "# nta_name\n",
    "# boroname"
   ]
  },
  {
   "cell_type": "markdown",
   "id": "1a276499-7b91-45b1-8d81-1ffab7047dec",
   "metadata": {},
   "source": [
    "### 特徴量作成"
   ]
  },
  {
   "cell_type": "code",
   "execution_count": 19,
   "id": "1e00635d-8c65-48d5-be67-5ede8ef40888",
   "metadata": {},
   "outputs": [],
   "source": [
    "def fea_eng(df):\n",
    "\n",
    "    # 日時\n",
    "    df[\"created_at\"] = pd.to_datetime(df[\"created_at\"])\n",
    "    df[\"year\"] = df[\"created_at\"].apply(lambda x: x.year)\n",
    "    df[\"month\"] = df[\"created_at\"].apply(lambda x: x.month)\n",
    "    #df[\"day\"] = df[\"created_at\"].apply(lambda x: x.day)\n",
    "    df = df.drop('created_at',axis=1)\n",
    "    \n",
    "    # user_type\n",
    "    df['Staff'] = df['user_type'].map(lambda x: 1 if 'Staff' in str(x) else 0)\n",
    "    \n",
    "    df['bool_problems'] = df['problems'].apply(lambda x: 0 if x=='NULL' else 1)\n",
    "\n",
    "    # spc_common\n",
    "    df['oak'] = df['spc_common'].map(lambda x: 1 if 'oak' in str(x) else 0)\n",
    "    df['maple'] = df['spc_common'].map(lambda x: 1 if 'maple' in str(x) else 0)\n",
    "    df['pine'] = df['spc_common'].map(lambda x: 1 if 'pine' in str(x) else 0)\n",
    "    df['ash'] = df['spc_common'].map(lambda x: 1 if 'ash' in str(x) else 0) \n",
    "    df['white'] = df['spc_common'].map(lambda x: 1 if 'white' in str(x) else 0) \n",
    "    df['black'] = df['spc_common'].map(lambda x: 1 if 'black' in str(x) else 0) \n",
    "    df['red'] = df['spc_common'].map(lambda x: 1 if 'red' in str(x) else 0)\n",
    "\n",
    "    # Category組み合わせ\n",
    "    df[\"On_SIDEWALK\"] = df['curb_loc'].astype(str) + \"_\" + df['sidewalk'].astype(str)\n",
    "    df[\"guards_SIDEWALK\"] = df['guards'].astype(str) + \"_\" + df['sidewalk'].astype(str)\n",
    "    df[\"problems_SIDEWALK\"] = df['problems'].astype(str) + \"_\" + df['sidewalk'].astype(str)      \n",
    "    df[\"spc_SIDEWALK\"] = df['spc_common'].astype(str) + \"_\" + df['sidewalk'].astype(str)  \n",
    "    \n",
    "    df[\"curb_NTA\"] = df['curb_loc'].astype(str) + \"_\" + df['nta'].astype(str)\n",
    "    df[\"guards_NTA\"] = df['guards'].astype(str) + \"_\" + df['nta'].astype(str)     \n",
    "    df[\"sidewalk_NTA\"] = df['sidewalk'].astype(str) + \"_\" + df['nta'].astype(str)\n",
    "    #df[\"user_NTA\"] = df['user_type'].astype(str) + \"_\" + df['nta'].astype(str)\n",
    "    df[\"problems_NTA\"] = df['problems'].astype(str) + \"_\" + df['nta'].astype(str)\n",
    "    df[\"spc_NTA\"] = df['spc_common'].astype(str) + \"_\" + df['nta'].astype(str)    \n",
    "\n",
    "    df[\"problems_GUARDS\"] = df['problems'].astype(str) + \"_\" + df['guards'].astype(str)     \n",
    "\n",
    "    return df"
   ]
  },
  {
   "cell_type": "code",
   "execution_count": 20,
   "id": "864200f9-b477-4c1c-a02f-0d5d209d8991",
   "metadata": {},
   "outputs": [
    {
     "name": "stdout",
     "output_type": "stream",
     "text": [
      "CPU times: user 178 ms, sys: 6.28 ms, total: 184 ms\n",
      "Wall time: 184 ms\n"
     ]
    },
    {
     "data": {
      "text/plain": [
       "(39686, 47)"
      ]
     },
     "execution_count": 20,
     "metadata": {},
     "output_type": "execute_result"
    }
   ],
   "source": [
    "%%time\n",
    "df_concat = fea_eng(df_concat)\n",
    "df_concat.shape"
   ]
  },
  {
   "cell_type": "code",
   "execution_count": 21,
   "id": "726a7367-0557-42b9-b7fa-067b1738d022",
   "metadata": {},
   "outputs": [],
   "source": [
    "# For Target Encoding\n",
    "train = fea_eng(train)"
   ]
  },
  {
   "cell_type": "markdown",
   "id": "150c67f3-0994-4f94-8a0a-3358de9e8c41",
   "metadata": {},
   "source": [
    "## spc_commonごとのtree_dbh"
   ]
  },
  {
   "cell_type": "code",
   "execution_count": 22,
   "id": "8309d837-9093-4005-9416-aa166e68e2af",
   "metadata": {},
   "outputs": [],
   "source": [
    "temp_mean = df_concat[[\"tree_dbh\", \"spc_common\"]].groupby(\"spc_common\").mean().reset_index().rename({\"tree_dbh\":\"Mean_tree_dbh\"}, axis=1)\n",
    "df_concat = df_concat.merge(temp_mean, how = \"left\", on = \"spc_common\")"
   ]
  },
  {
   "cell_type": "code",
   "execution_count": 23,
   "id": "a2ebc0df-c301-42a9-9469-d4307d625d38",
   "metadata": {},
   "outputs": [],
   "source": [
    "df_concat[\"dbh_per_SpcAve\"] = df_concat[\"tree_dbh\"] / df_concat[\"Mean_tree_dbh\"]\n",
    "df_concat = df_concat.drop('Mean_tree_dbh',axis=1)"
   ]
  },
  {
   "cell_type": "code",
   "execution_count": 24,
   "id": "553a7e71-feaa-403c-add2-be7a8bb5a0e9",
   "metadata": {},
   "outputs": [],
   "source": [
    "#temp_mean = df_concat[[\"tree_dbh\", \"nta\"]].groupby(\"nta\").mean().reset_index().rename({\"tree_dbh\":\"NTA_tree_dbh\"}, axis=1)\n",
    "#df_concat = df_concat.merge(temp_mean, how = \"left\", on = \"nta\")"
   ]
  },
  {
   "cell_type": "code",
   "execution_count": 25,
   "id": "ae0d0e0a-e87d-41dc-921e-f24969b3c20d",
   "metadata": {},
   "outputs": [],
   "source": [
    "#df_concat[\"dbh_per_NTA\"] = df_concat[\"tree_dbh\"] / df_concat[\"NTA_tree_dbh\"]\n",
    "#df_concat = df_concat.drop('NTA_tree_dbh',axis=1)"
   ]
  },
  {
   "cell_type": "markdown",
   "id": "2994fa4d-6b73-4899-b312-04ee39c400c4",
   "metadata": {},
   "source": [
    "## 位置情報"
   ]
  },
  {
   "cell_type": "code",
   "execution_count": 26,
   "id": "0efb351b-68e1-4920-a239-1988564b6123",
   "metadata": {},
   "outputs": [],
   "source": [
    "# 緯度、経度\n",
    "df_concat['r'] = np.sqrt(df_concat['latitude']**2 + df_concat['longitude']**2)\n",
    "df_concat['theta'] = np.arctan2(df_concat['latitude'], df_concat['longitude'])"
   ]
  },
  {
   "cell_type": "code",
   "execution_count": 27,
   "id": "9e468b14-aaa7-441c-94d0-1a82a7180677",
   "metadata": {},
   "outputs": [],
   "source": [
    "df_concat['rot_15_x'] = (np.cos(np.radians(15)) * df_concat['longitude']) + (np.sin(np.radians(15)) * df_concat['latitude'])\n",
    "df_concat['rot_15_y'] = (np.cos(np.radians(15)) * df_concat['latitude']) + (np.sin(np.radians(15)) * df_concat['longitude'])\n",
    "df_concat['rot_30_x'] = (np.cos(np.radians(30)) * df_concat['longitude']) + (np.sin(np.radians(30)) * df_concat['latitude'])\n",
    "df_concat['rot_30_y'] = (np.cos(np.radians(30)) * df_concat['latitude']) + (np.sin(np.radians(30)) * df_concat['longitude'])\n",
    "df_concat['rot_45_x'] = (np.cos(np.radians(45)) * df_concat['longitude']) + (np.sin(np.radians(45)) * df_concat['latitude'])\n",
    "df_concat['rot_45_y'] = (np.cos(np.radians(45)) * df_concat['latitude']) + (np.sin(np.radians(45)) * df_concat['longitude'])"
   ]
  },
  {
   "cell_type": "markdown",
   "id": "f7822a8d-791e-404e-b5cb-df1bacef59c1",
   "metadata": {},
   "source": [
    "### カラム"
   ]
  },
  {
   "cell_type": "code",
   "execution_count": 28,
   "id": "014dcc6d-3b03-4a8f-bc3d-1e8b33cbe872",
   "metadata": {},
   "outputs": [
    {
     "data": {
      "text/html": [
       "<div>\n",
       "<style scoped>\n",
       "    .dataframe tbody tr th:only-of-type {\n",
       "        vertical-align: middle;\n",
       "    }\n",
       "\n",
       "    .dataframe tbody tr th {\n",
       "        vertical-align: top;\n",
       "    }\n",
       "\n",
       "    .dataframe thead th {\n",
       "        text-align: right;\n",
       "    }\n",
       "</style>\n",
       "<table border=\"1\" class=\"dataframe\">\n",
       "  <thead>\n",
       "    <tr style=\"text-align: right;\">\n",
       "      <th></th>\n",
       "      <th>tree_dbh</th>\n",
       "      <th>curb_loc</th>\n",
       "      <th>health</th>\n",
       "      <th>steward</th>\n",
       "      <th>guards</th>\n",
       "      <th>sidewalk</th>\n",
       "      <th>user_type</th>\n",
       "      <th>problems</th>\n",
       "      <th>spc_common</th>\n",
       "      <th>spc_latin</th>\n",
       "      <th>...</th>\n",
       "      <th>problems_GUARDS</th>\n",
       "      <th>dbh_per_SpcAve</th>\n",
       "      <th>r</th>\n",
       "      <th>theta</th>\n",
       "      <th>rot_15_x</th>\n",
       "      <th>rot_15_y</th>\n",
       "      <th>rot_30_x</th>\n",
       "      <th>rot_30_y</th>\n",
       "      <th>rot_45_x</th>\n",
       "      <th>rot_45_y</th>\n",
       "    </tr>\n",
       "  </thead>\n",
       "  <tbody>\n",
       "    <tr>\n",
       "      <th>0</th>\n",
       "      <td>14</td>\n",
       "      <td>OnCurb</td>\n",
       "      <td>1</td>\n",
       "      <td>NULL</td>\n",
       "      <td>NULL</td>\n",
       "      <td>Damage</td>\n",
       "      <td>Volunteer</td>\n",
       "      <td>NULL</td>\n",
       "      <td>English oak</td>\n",
       "      <td>Quercus robur</td>\n",
       "      <td>...</td>\n",
       "      <td>NULL_NULL</td>\n",
       "      <td>1.133911</td>\n",
       "      <td>84.263489</td>\n",
       "      <td>2.636495</td>\n",
       "      <td>-60.675358</td>\n",
       "      <td>20.299534</td>\n",
       "      <td>-43.474534</td>\n",
       "      <td>-1.558846</td>\n",
       "      <td>-23.310993</td>\n",
       "      <td>-23.310993</td>\n",
       "    </tr>\n",
       "    <tr>\n",
       "      <th>1</th>\n",
       "      <td>5</td>\n",
       "      <td>OnCurb</td>\n",
       "      <td>1</td>\n",
       "      <td>3or4</td>\n",
       "      <td>Helpful</td>\n",
       "      <td>NoDamage</td>\n",
       "      <td>Volunteer</td>\n",
       "      <td>NULL</td>\n",
       "      <td>crimson king maple</td>\n",
       "      <td>Acer platanoides 'Crimson King'</td>\n",
       "      <td>...</td>\n",
       "      <td>NULL_Helpful</td>\n",
       "      <td>0.492248</td>\n",
       "      <td>84.409949</td>\n",
       "      <td>2.636424</td>\n",
       "      <td>-60.776656</td>\n",
       "      <td>20.340640</td>\n",
       "      <td>-43.544958</td>\n",
       "      <td>-1.555556</td>\n",
       "      <td>-23.345744</td>\n",
       "      <td>-23.345744</td>\n",
       "    </tr>\n",
       "    <tr>\n",
       "      <th>2</th>\n",
       "      <td>26</td>\n",
       "      <td>OnCurb</td>\n",
       "      <td>2</td>\n",
       "      <td>NULL</td>\n",
       "      <td>NULL</td>\n",
       "      <td>NoDamage</td>\n",
       "      <td>Volunteer</td>\n",
       "      <td>StonesBranchLights</td>\n",
       "      <td>English oak</td>\n",
       "      <td>Quercus robur</td>\n",
       "      <td>...</td>\n",
       "      <td>StonesBranchLights_NULL</td>\n",
       "      <td>2.105835</td>\n",
       "      <td>84.529171</td>\n",
       "      <td>2.640810</td>\n",
       "      <td>-61.119247</td>\n",
       "      <td>20.009278</td>\n",
       "      <td>-43.923714</td>\n",
       "      <td>-1.928499</td>\n",
       "      <td>-23.734852</td>\n",
       "      <td>-23.734852</td>\n",
       "    </tr>\n",
       "    <tr>\n",
       "      <th>3</th>\n",
       "      <td>15</td>\n",
       "      <td>OnCurb</td>\n",
       "      <td>0</td>\n",
       "      <td>NULL</td>\n",
       "      <td>NULL</td>\n",
       "      <td>Damage</td>\n",
       "      <td>NYC Parks Staff</td>\n",
       "      <td>NULL</td>\n",
       "      <td>honeylocust</td>\n",
       "      <td>Gleditsia triacanthos var. inermis</td>\n",
       "      <td>...</td>\n",
       "      <td>NULL_NULL</td>\n",
       "      <td>1.306129</td>\n",
       "      <td>84.529171</td>\n",
       "      <td>2.640810</td>\n",
       "      <td>-61.119247</td>\n",
       "      <td>20.009278</td>\n",
       "      <td>-43.923714</td>\n",
       "      <td>-1.928499</td>\n",
       "      <td>-23.734852</td>\n",
       "      <td>-23.734852</td>\n",
       "    </tr>\n",
       "    <tr>\n",
       "      <th>4</th>\n",
       "      <td>23</td>\n",
       "      <td>OnCurb</td>\n",
       "      <td>1</td>\n",
       "      <td>NULL</td>\n",
       "      <td>NULL</td>\n",
       "      <td>NoDamage</td>\n",
       "      <td>Volunteer</td>\n",
       "      <td>Stones</td>\n",
       "      <td>London planetree</td>\n",
       "      <td>Platanus x acerifolia</td>\n",
       "      <td>...</td>\n",
       "      <td>Stones_NULL</td>\n",
       "      <td>1.183565</td>\n",
       "      <td>84.462177</td>\n",
       "      <td>2.637591</td>\n",
       "      <td>-60.882640</td>\n",
       "      <td>20.257522</td>\n",
       "      <td>-43.656335</td>\n",
       "      <td>-1.655096</td>\n",
       "      <td>-23.454923</td>\n",
       "      <td>-23.454923</td>\n",
       "    </tr>\n",
       "  </tbody>\n",
       "</table>\n",
       "<p>5 rows × 56 columns</p>\n",
       "</div>"
      ],
      "text/plain": [
       "   tree_dbh curb_loc  health steward   guards  sidewalk        user_type  \\\n",
       "0        14   OnCurb       1    NULL     NULL    Damage        Volunteer   \n",
       "1         5   OnCurb       1    3or4  Helpful  NoDamage        Volunteer   \n",
       "2        26   OnCurb       2    NULL     NULL  NoDamage        Volunteer   \n",
       "3        15   OnCurb       0    NULL     NULL    Damage  NYC Parks Staff   \n",
       "4        23   OnCurb       1    NULL     NULL  NoDamage        Volunteer   \n",
       "\n",
       "             problems          spc_common                           spc_latin  \\\n",
       "0                NULL         English oak                       Quercus robur   \n",
       "1                NULL  crimson king maple     Acer platanoides 'Crimson King'   \n",
       "2  StonesBranchLights         English oak                       Quercus robur   \n",
       "3                NULL         honeylocust  Gleditsia triacanthos var. inermis   \n",
       "4              Stones    London planetree               Platanus x acerifolia   \n",
       "\n",
       "   ...          problems_GUARDS dbh_per_SpcAve          r     theta  \\\n",
       "0  ...                NULL_NULL       1.133911  84.263489  2.636495   \n",
       "1  ...             NULL_Helpful       0.492248  84.409949  2.636424   \n",
       "2  ...  StonesBranchLights_NULL       2.105835  84.529171  2.640810   \n",
       "3  ...                NULL_NULL       1.306129  84.529171  2.640810   \n",
       "4  ...              Stones_NULL       1.183565  84.462177  2.637591   \n",
       "\n",
       "    rot_15_x   rot_15_y   rot_30_x  rot_30_y   rot_45_x   rot_45_y  \n",
       "0 -60.675358  20.299534 -43.474534 -1.558846 -23.310993 -23.310993  \n",
       "1 -60.776656  20.340640 -43.544958 -1.555556 -23.345744 -23.345744  \n",
       "2 -61.119247  20.009278 -43.923714 -1.928499 -23.734852 -23.734852  \n",
       "3 -61.119247  20.009278 -43.923714 -1.928499 -23.734852 -23.734852  \n",
       "4 -60.882640  20.257522 -43.656335 -1.655096 -23.454923 -23.454923  \n",
       "\n",
       "[5 rows x 56 columns]"
      ]
     },
     "execution_count": 28,
     "metadata": {},
     "output_type": "execute_result"
    }
   ],
   "source": [
    "df_concat.head()"
   ]
  },
  {
   "cell_type": "code",
   "execution_count": 29,
   "id": "6590459a-23fa-4b26-9b97-17b3d52f98b7",
   "metadata": {},
   "outputs": [
    {
     "data": {
      "text/plain": [
       "Index(['tree_dbh', 'curb_loc', 'health', 'steward', 'guards', 'sidewalk',\n",
       "       'user_type', 'problems', 'spc_common', 'spc_latin', 'nta', 'nta_name',\n",
       "       'borocode', 'boro_ct', 'boroname', 'zip_city', 'cb_num', 'st_senate',\n",
       "       'st_assem', 'cncldist', 'combined_address', 'latitude', 'longitude',\n",
       "       'kfold', 'target', 'Tag', 'year', 'month', 'Staff', 'bool_problems',\n",
       "       'oak', 'maple', 'pine', 'ash', 'white', 'black', 'red', 'On_SIDEWALK',\n",
       "       'guards_SIDEWALK', 'problems_SIDEWALK', 'spc_SIDEWALK', 'curb_NTA',\n",
       "       'guards_NTA', 'sidewalk_NTA', 'problems_NTA', 'spc_NTA',\n",
       "       'problems_GUARDS', 'dbh_per_SpcAve', 'r', 'theta', 'rot_15_x',\n",
       "       'rot_15_y', 'rot_30_x', 'rot_30_y', 'rot_45_x', 'rot_45_y'],\n",
       "      dtype='object')"
      ]
     },
     "execution_count": 29,
     "metadata": {},
     "output_type": "execute_result"
    }
   ],
   "source": [
    "df_concat.columns"
   ]
  },
  {
   "cell_type": "code",
   "execution_count": 30,
   "id": "241f4c02-165b-463b-a725-180254525402",
   "metadata": {},
   "outputs": [
    {
     "name": "stdout",
     "output_type": "stream",
     "text": [
      "<class 'pandas.core.frame.DataFrame'>\n",
      "RangeIndex: 39686 entries, 0 to 39685\n",
      "Data columns (total 56 columns):\n",
      " #   Column             Non-Null Count  Dtype  \n",
      "---  ------             --------------  -----  \n",
      " 0   tree_dbh           39686 non-null  int64  \n",
      " 1   curb_loc           39686 non-null  object \n",
      " 2   health             39686 non-null  int64  \n",
      " 3   steward            39686 non-null  object \n",
      " 4   guards             39686 non-null  object \n",
      " 5   sidewalk           39686 non-null  object \n",
      " 6   user_type          39686 non-null  object \n",
      " 7   problems           39686 non-null  object \n",
      " 8   spc_common         39686 non-null  object \n",
      " 9   spc_latin          39686 non-null  object \n",
      " 10  nta                39686 non-null  object \n",
      " 11  nta_name           39686 non-null  object \n",
      " 12  borocode           39686 non-null  int64  \n",
      " 13  boro_ct            39686 non-null  int64  \n",
      " 14  boroname           39686 non-null  object \n",
      " 15  zip_city           39686 non-null  object \n",
      " 16  cb_num             39686 non-null  int64  \n",
      " 17  st_senate          39686 non-null  int64  \n",
      " 18  st_assem           39686 non-null  int64  \n",
      " 19  cncldist           39686 non-null  int64  \n",
      " 20  combined_address   39686 non-null  object \n",
      " 21  latitude           39686 non-null  float64\n",
      " 22  longitude          39686 non-null  float64\n",
      " 23  kfold              39686 non-null  int64  \n",
      " 24  target             19984 non-null  float64\n",
      " 25  Tag                39686 non-null  int64  \n",
      " 26  year               39686 non-null  int64  \n",
      " 27  month              39686 non-null  int64  \n",
      " 28  Staff              39686 non-null  int64  \n",
      " 29  bool_problems      39686 non-null  int64  \n",
      " 30  oak                39686 non-null  int64  \n",
      " 31  maple              39686 non-null  int64  \n",
      " 32  pine               39686 non-null  int64  \n",
      " 33  ash                39686 non-null  int64  \n",
      " 34  white              39686 non-null  int64  \n",
      " 35  black              39686 non-null  int64  \n",
      " 36  red                39686 non-null  int64  \n",
      " 37  On_SIDEWALK        39686 non-null  object \n",
      " 38  guards_SIDEWALK    39686 non-null  object \n",
      " 39  problems_SIDEWALK  39686 non-null  object \n",
      " 40  spc_SIDEWALK       39686 non-null  object \n",
      " 41  curb_NTA           39686 non-null  object \n",
      " 42  guards_NTA         39686 non-null  object \n",
      " 43  sidewalk_NTA       39686 non-null  object \n",
      " 44  problems_NTA       39686 non-null  object \n",
      " 45  spc_NTA            39686 non-null  object \n",
      " 46  problems_GUARDS    39686 non-null  object \n",
      " 47  dbh_per_SpcAve     39686 non-null  float64\n",
      " 48  r                  39686 non-null  float64\n",
      " 49  theta              39686 non-null  float64\n",
      " 50  rot_15_x           39686 non-null  float64\n",
      " 51  rot_15_y           39686 non-null  float64\n",
      " 52  rot_30_x           39686 non-null  float64\n",
      " 53  rot_30_y           39686 non-null  float64\n",
      " 54  rot_45_x           39686 non-null  float64\n",
      " 55  rot_45_y           39686 non-null  float64\n",
      "dtypes: float64(12), int64(21), object(23)\n",
      "memory usage: 17.0+ MB\n"
     ]
    }
   ],
   "source": [
    "df_concat.info()"
   ]
  },
  {
   "cell_type": "markdown",
   "id": "13c23c77-c032-489f-a063-7e0e54fb83ad",
   "metadata": {},
   "source": [
    "### Target Encoding"
   ]
  },
  {
   "cell_type": "code",
   "execution_count": 31,
   "id": "f48b28cb-dd2a-4ab6-925a-15dd88da8ff8",
   "metadata": {},
   "outputs": [],
   "source": [
    "#temp_mean = train[[\"curb_loc\", \"target\"]].groupby(\"curb_loc\").mean().reset_index().rename({\"target\":\"TE_curb_loc\"}, axis=1)\n",
    "#df_concat = df_concat.merge(temp_mean, how = \"left\", on = \"curb_loc\")\n",
    "#\n",
    "#temp_mean = train[[\"steward\", \"target\"]].groupby(\"steward\").mean().reset_index().rename({\"target\":\"TE_steward\"}, axis=1)\n",
    "#df_concat = df_concat.merge(temp_mean, how = \"left\", on = \"steward\")\n",
    "#\n",
    "#temp_mean = train[[\"guards\", \"target\"]].groupby(\"guards\").mean().reset_index().rename({\"target\":\"TE_guards\"}, axis=1)\n",
    "#df_concat = df_concat.merge(temp_mean, how = \"left\", on = \"guards\")\n",
    "#\n",
    "#temp_mean = train[[\"sidewalk\", \"target\"]].groupby(\"sidewalk\").mean().reset_index().rename({\"target\":\"TE_sidewalk\"}, axis=1)\n",
    "#df_concat = df_concat.merge(temp_mean, how = \"left\", on = \"sidewalk\")\n",
    "#\n",
    "#temp_mean = train[[\"user_type\", \"target\"]].groupby(\"user_type\").mean().reset_index().rename({\"target\":\"TE_user_type\"}, axis=1)\n",
    "#df_concat = df_concat.merge(temp_mean, how = \"left\", on = \"user_type\")\n",
    "#\n",
    "#temp_mean = train[[\"problems\", \"target\"]].groupby(\"problems\").mean().reset_index().rename({\"target\":\"TE_problems\"}, axis=1)\n",
    "#df_concat = df_concat.merge(temp_mean, how = \"left\", on = \"problems\")\n",
    "#\n",
    "# 木の種類の一般的な名前\n",
    "#temp_mean = train[[\"spc_common\", \"target\"]].groupby(\"spc_common\").mean().reset_index().rename({\"target\":\"TE_spc_common\"}, axis=1)\n",
    "#df_concat = df_concat.merge(temp_mean, how = \"left\", on = \"spc_common\")\n",
    "#\n",
    "# 木のラテン名\n",
    "#temp_mean = train[[\"spc_latin\", \"target\"]].groupby(\"spc_latin\").mean().reset_index().rename({\"target\":\"TE_spc_latin\"}, axis=1)\n",
    "#df_concat = df_concat.merge(temp_mean, how = \"left\", on = \"spc_latin\")\n",
    "#\n",
    "# 地域（Neighborhood Tabulation Area）の略称\n",
    "#temp_mean = train[[\"nta\", \"target\"]].groupby(\"nta\").mean().reset_index().rename({\"target\":\"TE_nta\"}, axis=1)\n",
    "#df_concat = df_concat.merge(temp_mean, how = \"left\", on = \"nta\")\n",
    "#\n",
    "# 地域（Neighborhood Tabulation Area）の正式な名称\n",
    "#temp_mean = train[[\"nta_name\", \"target\"]].groupby(\"nta_name\").mean().reset_index().rename({\"target\":\"TE_nta_name\"}, axis=1)\n",
    "#df_concat = df_concat.merge(temp_mean, how = \"left\", on = \"nta_name\")\n",
    "#\n",
    "# ニューヨーク市の行政区分（ボロー）の名称\n",
    "#temp_mean = train[[\"boroname\", \"target\"]].groupby(\"boroname\").mean().reset_index().rename({\"target\":\"TE_boroname\"}, axis=1)\n",
    "#df_concat = df_concat.merge(temp_mean, how = \"left\", on = \"boroname\")\n",
    "#\n",
    "# 郵便番号に関連する都市または地区\n",
    "#temp_mean = train[[\"zip_city\", \"target\"]].groupby(\"zip_city\").mean().reset_index().rename({\"target\":\"TE_zip_city\"}, axis=1)\n",
    "#df_concat = df_concat.merge(temp_mean, how = \"left\", on = \"zip_city\")\n",
    "\n",
    "## 独自\n",
    "#temp_mean = train[[\"On_SIDEWALK\", \"target\"]].groupby(\"On_SIDEWALK\").mean().reset_index().rename({\"target\":\"TE_On_SIDEWALK\"}, axis=1)\n",
    "#df_concat = df_concat.merge(temp_mean, how = \"left\", on = \"On_SIDEWALK\")\n",
    "#\n",
    "#temp_mean = train[[\"guards_SIDEWALK\", \"target\"]].groupby(\"guards_SIDEWALK\").mean().reset_index().rename({\"target\":\"TE_guards_SIDEWALK\"}, axis=1)\n",
    "#df_concat = df_concat.merge(temp_mean, how = \"left\", on = \"guards_SIDEWALK\")\n",
    "#\n",
    "#temp_mean = train[[\"problems_SIDEWALK\", \"target\"]].groupby(\"problems_SIDEWALK\").mean().reset_index().rename({\"target\":\"TE_problems_SIDEWALK\"}, axis=1)\n",
    "#df_concat = df_concat.merge(temp_mean, how = \"left\", on = \"problems_SIDEWALK\")\n",
    "#\n",
    "#temp_mean = train[[\"spc_SIDEWALK\", \"target\"]].groupby(\"spc_SIDEWALK\").mean().reset_index().rename({\"target\":\"TE_spc_SIDEWALK\"}, axis=1)\n",
    "#df_concat = df_concat.merge(temp_mean, how = \"left\", on = \"spc_SIDEWALK\")\n",
    "#\n",
    "#temp_mean = train[[\"curb_NTA\", \"target\"]].groupby(\"curb_NTA\").mean().reset_index().rename({\"target\":\"TE_curb_NTA\"}, axis=1)\n",
    "#df_concat = df_concat.merge(temp_mean, how = \"left\", on = \"curb_NTA\")\n",
    "#\n",
    "#temp_mean = train[[\"guards_NTA\", \"target\"]].groupby(\"guards_NTA\").mean().reset_index().rename({\"target\":\"TE_guards_NTA\"}, axis=1)\n",
    "#df_concat = df_concat.merge(temp_mean, how = \"left\", on = \"guards_NTA\")\n",
    "#\n",
    "#temp_mean = train[[\"sidewalk_NTA\", \"target\"]].groupby(\"sidewalk_NTA\").mean().reset_index().rename({\"target\":\"TE_sidewalk_NTA\"}, axis=1)\n",
    "#df_concat = df_concat.merge(temp_mean, how = \"left\", on = \"sidewalk_NTA\")\n",
    "#\n",
    "#temp_mean = train[[\"problems_NTA\", \"target\"]].groupby(\"problems_NTA\").mean().reset_index().rename({\"target\":\"TE_problems_NTA\"}, axis=1)\n",
    "#df_concat = df_concat.merge(temp_mean, how = \"left\", on = \"problems_NTA\")\n",
    "#\n",
    "#temp_mean = train[[\"spc_NTA\", \"target\"]].groupby(\"spc_NTA\").mean().reset_index().rename({\"target\":\"TE_spc_NTA\"}, axis=1)\n",
    "#df_concat = df_concat.merge(temp_mean, how = \"left\", on = \"spc_NTA\")\n",
    "#\n",
    "#temp_mean = train[[\"problems_GUARDS\", \"target\"]].groupby(\"problems_GUARDS\").mean().reset_index().rename({\"target\":\"TE_problems_GUARDS\"}, axis=1)\n",
    "#df_concat = df_concat.merge(temp_mean, how = \"left\", on = \"problems_GUARDS\")"
   ]
  },
  {
   "cell_type": "markdown",
   "id": "4a77139f-5861-4d8a-bea4-a8300082af5e",
   "metadata": {},
   "source": [
    "### Count Encoding"
   ]
  },
  {
   "cell_type": "code",
   "execution_count": 32,
   "id": "5d13fbb8-2392-4780-81d0-3eec29875cc5",
   "metadata": {},
   "outputs": [],
   "source": [
    "#categoricals = [\"curb_loc\", \"steward\", \"guards\", \"sidewalk\", \"user_type\",\"problems\",\"spc_common\",\"spc_latin\",\"nta\",\"nta_name\",\"boroname\",\"zip_city\"]\n",
    "\n",
    "# 欠損値のあるカテゴリ\n",
    "categoricals = [\"steward\",\"guards\",\"problems\"]\n",
    "\n",
    "for col in categoricals:\n",
    "    encoder = CountEncoder()\n",
    "    encoder.fit(df_concat[col])\n",
    "    df_concat['%s_count'%col] = encoder.transform(df_concat[col])"
   ]
  },
  {
   "cell_type": "markdown",
   "id": "c671ef88-0a48-4030-8d1e-7a8951cc7810",
   "metadata": {},
   "source": [
    "### Label Encoding"
   ]
  },
  {
   "cell_type": "code",
   "execution_count": 33,
   "id": "95edbec7-7be4-4865-a694-a0e1b752976b",
   "metadata": {},
   "outputs": [
    {
     "data": {
      "text/plain": [
       "tree_dbh               int64\n",
       "curb_loc              object\n",
       "health                 int64\n",
       "steward               object\n",
       "guards                object\n",
       "sidewalk              object\n",
       "user_type             object\n",
       "problems              object\n",
       "spc_common            object\n",
       "spc_latin             object\n",
       "nta                   object\n",
       "nta_name              object\n",
       "borocode               int64\n",
       "boro_ct                int64\n",
       "boroname              object\n",
       "zip_city              object\n",
       "cb_num                 int64\n",
       "st_senate              int64\n",
       "st_assem               int64\n",
       "cncldist               int64\n",
       "combined_address      object\n",
       "latitude             float64\n",
       "longitude            float64\n",
       "kfold                  int64\n",
       "target               float64\n",
       "Tag                    int64\n",
       "year                   int64\n",
       "month                  int64\n",
       "Staff                  int64\n",
       "bool_problems          int64\n",
       "oak                    int64\n",
       "maple                  int64\n",
       "pine                   int64\n",
       "ash                    int64\n",
       "white                  int64\n",
       "black                  int64\n",
       "red                    int64\n",
       "On_SIDEWALK           object\n",
       "guards_SIDEWALK       object\n",
       "problems_SIDEWALK     object\n",
       "spc_SIDEWALK          object\n",
       "curb_NTA              object\n",
       "guards_NTA            object\n",
       "sidewalk_NTA          object\n",
       "problems_NTA          object\n",
       "spc_NTA               object\n",
       "problems_GUARDS       object\n",
       "dbh_per_SpcAve       float64\n",
       "r                    float64\n",
       "theta                float64\n",
       "rot_15_x             float64\n",
       "rot_15_y             float64\n",
       "rot_30_x             float64\n",
       "rot_30_y             float64\n",
       "rot_45_x             float64\n",
       "rot_45_y             float64\n",
       "steward_count          int64\n",
       "guards_count           int64\n",
       "problems_count         int64\n",
       "dtype: object"
      ]
     },
     "execution_count": 33,
     "metadata": {},
     "output_type": "execute_result"
    }
   ],
   "source": [
    "df_concat.dtypes"
   ]
  },
  {
   "cell_type": "code",
   "execution_count": 34,
   "id": "75034794-004e-4476-a23e-74adef8e82d3",
   "metadata": {},
   "outputs": [],
   "source": [
    "cat_features = df_concat.select_dtypes(include=['object']).columns.tolist()"
   ]
  },
  {
   "cell_type": "code",
   "execution_count": 35,
   "id": "bfdefb53-cd2a-45ac-b35f-46414cb1cc6a",
   "metadata": {},
   "outputs": [],
   "source": [
    "# LabelEncoder\n",
    "# 文字列を数値に変換したい\n",
    "def preprocess(df):\n",
    "    df[\"curb_loc\"] = LabelEncoder().fit_transform(df[\"curb_loc\"])\n",
    "    df[\"steward\"] = LabelEncoder().fit_transform(df[\"steward\"])\n",
    "    df[\"guards\"] = LabelEncoder().fit_transform(df[\"guards\"])\n",
    "    df[\"sidewalk\"] = LabelEncoder().fit_transform(df[\"sidewalk\"])\n",
    "    df[\"user_type\"] = LabelEncoder().fit_transform(df[\"user_type\"])\n",
    "    df[\"problems\"] = LabelEncoder().fit_transform(df[\"problems\"])\n",
    "    df[\"spc_common\"] = LabelEncoder().fit_transform(df[\"spc_common\"])\n",
    "    df[\"spc_latin\"] = LabelEncoder().fit_transform(df[\"spc_latin\"])\n",
    "    df[\"nta\"] = LabelEncoder().fit_transform(df[\"nta\"])\n",
    "    df[\"nta_name\"] = LabelEncoder().fit_transform(df[\"nta_name\"])\n",
    "    df[\"boroname\"] = LabelEncoder().fit_transform(df[\"boroname\"])\n",
    "    df[\"zip_city\"] = LabelEncoder().fit_transform(df[\"zip_city\"])\n",
    "\n",
    "    # 独自\n",
    "    df[\"On_SIDEWALK\"] = LabelEncoder().fit_transform(df[\"On_SIDEWALK\"])\n",
    "    df[\"guards_SIDEWALK\"] = LabelEncoder().fit_transform(df[\"guards_SIDEWALK\"])\n",
    "    df[\"problems_SIDEWALK\"] = LabelEncoder().fit_transform(df[\"problems_SIDEWALK\"])\n",
    "    df[\"spc_SIDEWALK\"] = LabelEncoder().fit_transform(df[\"spc_SIDEWALK\"])\n",
    "    \n",
    "    df[\"curb_NTA\"] = LabelEncoder().fit_transform(df[\"curb_NTA\"])\n",
    "    df[\"guards_NTA\"] = LabelEncoder().fit_transform(df[\"guards_NTA\"])\n",
    "    df[\"sidewalk_NTA\"] = LabelEncoder().fit_transform(df[\"sidewalk_NTA\"])\n",
    "    #df[\"user_NTA\"] = LabelEncoder().fit_transform(df[\"user_NTA\"])\n",
    "    df[\"problems_NTA\"] = LabelEncoder().fit_transform(df[\"problems_NTA\"])\n",
    "    df[\"spc_NTA\"] = LabelEncoder().fit_transform(df[\"spc_NTA\"])\n",
    "\n",
    "    df[\"problems_GUARDS\"] = LabelEncoder().fit_transform(df[\"problems_GUARDS\"])\n",
    "    df[\"combined_address\"] = LabelEncoder().fit_transform(df[\"combined_address\"])\n",
    "    return df "
   ]
  },
  {
   "cell_type": "code",
   "execution_count": 36,
   "id": "b6961c5f-a0b5-4df5-bd33-ae131947cf28",
   "metadata": {},
   "outputs": [
    {
     "name": "stdout",
     "output_type": "stream",
     "text": [
      "CPU times: user 104 ms, sys: 2.02 ms, total: 106 ms\n",
      "Wall time: 114 ms\n"
     ]
    }
   ],
   "source": [
    "%%time\n",
    "df_concat = preprocess(df_concat)"
   ]
  },
  {
   "cell_type": "code",
   "execution_count": 37,
   "id": "75f49921-7039-480f-80b9-208e974c08e3",
   "metadata": {},
   "outputs": [
    {
     "data": {
      "text/html": [
       "<div>\n",
       "<style scoped>\n",
       "    .dataframe tbody tr th:only-of-type {\n",
       "        vertical-align: middle;\n",
       "    }\n",
       "\n",
       "    .dataframe tbody tr th {\n",
       "        vertical-align: top;\n",
       "    }\n",
       "\n",
       "    .dataframe thead th {\n",
       "        text-align: right;\n",
       "    }\n",
       "</style>\n",
       "<table border=\"1\" class=\"dataframe\">\n",
       "  <thead>\n",
       "    <tr style=\"text-align: right;\">\n",
       "      <th></th>\n",
       "      <th>tree_dbh</th>\n",
       "      <th>curb_loc</th>\n",
       "      <th>health</th>\n",
       "      <th>steward</th>\n",
       "      <th>guards</th>\n",
       "      <th>sidewalk</th>\n",
       "      <th>user_type</th>\n",
       "      <th>problems</th>\n",
       "      <th>spc_common</th>\n",
       "      <th>spc_latin</th>\n",
       "      <th>...</th>\n",
       "      <th>theta</th>\n",
       "      <th>rot_15_x</th>\n",
       "      <th>rot_15_y</th>\n",
       "      <th>rot_30_x</th>\n",
       "      <th>rot_30_y</th>\n",
       "      <th>rot_45_x</th>\n",
       "      <th>rot_45_y</th>\n",
       "      <th>steward_count</th>\n",
       "      <th>guards_count</th>\n",
       "      <th>problems_count</th>\n",
       "    </tr>\n",
       "  </thead>\n",
       "  <tbody>\n",
       "    <tr>\n",
       "      <th>0</th>\n",
       "      <td>14</td>\n",
       "      <td>1</td>\n",
       "      <td>1</td>\n",
       "      <td>3</td>\n",
       "      <td>2</td>\n",
       "      <td>0</td>\n",
       "      <td>2</td>\n",
       "      <td>10</td>\n",
       "      <td>17</td>\n",
       "      <td>98</td>\n",
       "      <td>...</td>\n",
       "      <td>2.636495</td>\n",
       "      <td>-60.675358</td>\n",
       "      <td>20.299534</td>\n",
       "      <td>-43.474534</td>\n",
       "      <td>-1.558846</td>\n",
       "      <td>-23.310993</td>\n",
       "      <td>-23.310993</td>\n",
       "      <td>29409</td>\n",
       "      <td>29510</td>\n",
       "      <td>24288</td>\n",
       "    </tr>\n",
       "    <tr>\n",
       "      <th>1</th>\n",
       "      <td>5</td>\n",
       "      <td>1</td>\n",
       "      <td>1</td>\n",
       "      <td>1</td>\n",
       "      <td>1</td>\n",
       "      <td>1</td>\n",
       "      <td>2</td>\n",
       "      <td>10</td>\n",
       "      <td>56</td>\n",
       "      <td>7</td>\n",
       "      <td>...</td>\n",
       "      <td>2.636424</td>\n",
       "      <td>-60.776656</td>\n",
       "      <td>20.340640</td>\n",
       "      <td>-43.544958</td>\n",
       "      <td>-1.555556</td>\n",
       "      <td>-23.345744</td>\n",
       "      <td>-23.345744</td>\n",
       "      <td>2068</td>\n",
       "      <td>7366</td>\n",
       "      <td>24288</td>\n",
       "    </tr>\n",
       "    <tr>\n",
       "      <th>2</th>\n",
       "      <td>26</td>\n",
       "      <td>1</td>\n",
       "      <td>2</td>\n",
       "      <td>3</td>\n",
       "      <td>2</td>\n",
       "      <td>1</td>\n",
       "      <td>2</td>\n",
       "      <td>29</td>\n",
       "      <td>17</td>\n",
       "      <td>98</td>\n",
       "      <td>...</td>\n",
       "      <td>2.640810</td>\n",
       "      <td>-61.119247</td>\n",
       "      <td>20.009278</td>\n",
       "      <td>-43.923714</td>\n",
       "      <td>-1.928499</td>\n",
       "      <td>-23.734852</td>\n",
       "      <td>-23.734852</td>\n",
       "      <td>29409</td>\n",
       "      <td>29510</td>\n",
       "      <td>1529</td>\n",
       "    </tr>\n",
       "    <tr>\n",
       "      <th>3</th>\n",
       "      <td>15</td>\n",
       "      <td>1</td>\n",
       "      <td>0</td>\n",
       "      <td>3</td>\n",
       "      <td>2</td>\n",
       "      <td>0</td>\n",
       "      <td>0</td>\n",
       "      <td>10</td>\n",
       "      <td>73</td>\n",
       "      <td>52</td>\n",
       "      <td>...</td>\n",
       "      <td>2.640810</td>\n",
       "      <td>-61.119247</td>\n",
       "      <td>20.009278</td>\n",
       "      <td>-43.923714</td>\n",
       "      <td>-1.928499</td>\n",
       "      <td>-23.734852</td>\n",
       "      <td>-23.734852</td>\n",
       "      <td>29409</td>\n",
       "      <td>29510</td>\n",
       "      <td>24288</td>\n",
       "    </tr>\n",
       "    <tr>\n",
       "      <th>4</th>\n",
       "      <td>23</td>\n",
       "      <td>1</td>\n",
       "      <td>1</td>\n",
       "      <td>3</td>\n",
       "      <td>2</td>\n",
       "      <td>1</td>\n",
       "      <td>2</td>\n",
       "      <td>28</td>\n",
       "      <td>28</td>\n",
       "      <td>81</td>\n",
       "      <td>...</td>\n",
       "      <td>2.637591</td>\n",
       "      <td>-60.882640</td>\n",
       "      <td>20.257522</td>\n",
       "      <td>-43.656335</td>\n",
       "      <td>-1.655096</td>\n",
       "      <td>-23.454923</td>\n",
       "      <td>-23.454923</td>\n",
       "      <td>29409</td>\n",
       "      <td>29510</td>\n",
       "      <td>4455</td>\n",
       "    </tr>\n",
       "  </tbody>\n",
       "</table>\n",
       "<p>5 rows × 59 columns</p>\n",
       "</div>"
      ],
      "text/plain": [
       "   tree_dbh  curb_loc  health  steward  guards  sidewalk  user_type  problems  \\\n",
       "0        14         1       1        3       2         0          2        10   \n",
       "1         5         1       1        1       1         1          2        10   \n",
       "2        26         1       2        3       2         1          2        29   \n",
       "3        15         1       0        3       2         0          0        10   \n",
       "4        23         1       1        3       2         1          2        28   \n",
       "\n",
       "   spc_common  spc_latin  ...     theta   rot_15_x   rot_15_y   rot_30_x  \\\n",
       "0          17         98  ...  2.636495 -60.675358  20.299534 -43.474534   \n",
       "1          56          7  ...  2.636424 -60.776656  20.340640 -43.544958   \n",
       "2          17         98  ...  2.640810 -61.119247  20.009278 -43.923714   \n",
       "3          73         52  ...  2.640810 -61.119247  20.009278 -43.923714   \n",
       "4          28         81  ...  2.637591 -60.882640  20.257522 -43.656335   \n",
       "\n",
       "   rot_30_y   rot_45_x   rot_45_y  steward_count  guards_count  problems_count  \n",
       "0 -1.558846 -23.310993 -23.310993          29409         29510           24288  \n",
       "1 -1.555556 -23.345744 -23.345744           2068          7366           24288  \n",
       "2 -1.928499 -23.734852 -23.734852          29409         29510            1529  \n",
       "3 -1.928499 -23.734852 -23.734852          29409         29510           24288  \n",
       "4 -1.655096 -23.454923 -23.454923          29409         29510            4455  \n",
       "\n",
       "[5 rows x 59 columns]"
      ]
     },
     "execution_count": 37,
     "metadata": {},
     "output_type": "execute_result"
    }
   ],
   "source": [
    "df_concat.head()"
   ]
  },
  {
   "cell_type": "markdown",
   "id": "3e668389-f7f1-4654-8614-17615d1cba87",
   "metadata": {},
   "source": [
    "### SVD"
   ]
  },
  {
   "cell_type": "code",
   "execution_count": 38,
   "id": "dbc0aa5e-93e8-452b-bf6a-e164046b2241",
   "metadata": {},
   "outputs": [],
   "source": [
    "#svd = TruncatedSVD(n_components=2,random_state=SEED)\n",
    "##coordinates = df_concat[['latitude','longitude','sidewalk','problems','spc_common']].values\n",
    "#coordinates = df_concat[['problems','spc_common']].values\n",
    "#svd.fit(coordinates)\n",
    "#\n",
    "#df_concat['pos_x'] = svd.transform(coordinates)[:,0]\n",
    "#df_concat['pos_y'] = svd.transform(coordinates)[:,1]\n",
    "#df_concat['pos_r'] = np.sqrt(df_concat['pos_x']**2 + df_concat['pos_y']**2)\n",
    "#\n",
    "##plot\n",
    "#plt.scatter(df_concat['pos_x'],df_concat['pos_y'],c=df_concat['health'])\n",
    "#plt.colorbar()\n",
    "#plt.title('svd', fontsize=10)\n",
    "#plt.show()"
   ]
  },
  {
   "cell_type": "markdown",
   "id": "5376b280-5a32-4170-8471-a8f275a419e6",
   "metadata": {},
   "source": [
    "### TrainとTestに戻す"
   ]
  },
  {
   "cell_type": "code",
   "execution_count": 39,
   "id": "f9d865c2-a3cf-4249-97cc-fcdd2af76028",
   "metadata": {},
   "outputs": [],
   "source": [
    "#data load\n",
    "train = df_concat[df_concat['Tag']==1]\n",
    "test = df_concat[df_concat['Tag']==0]"
   ]
  },
  {
   "cell_type": "code",
   "execution_count": 40,
   "id": "723e7c85-dd22-443b-8f7c-25cc18b7f61f",
   "metadata": {},
   "outputs": [
    {
     "data": {
      "text/plain": [
       "((19984, 58), (19702, 58))"
      ]
     },
     "execution_count": 40,
     "metadata": {},
     "output_type": "execute_result"
    }
   ],
   "source": [
    "train = train.drop('Tag',axis=1)\n",
    "test = test.drop('Tag',axis=1)\n",
    "train.shape, test.shape"
   ]
  },
  {
   "cell_type": "code",
   "execution_count": 41,
   "id": "64c51f84-cd27-44ea-8be1-2ebf34011727",
   "metadata": {},
   "outputs": [],
   "source": [
    "train['id'] = train.index"
   ]
  },
  {
   "cell_type": "code",
   "execution_count": 42,
   "id": "5be0f3e9-2900-4e7a-8cb6-d585f9350012",
   "metadata": {},
   "outputs": [
    {
     "data": {
      "text/html": [
       "<div>\n",
       "<style scoped>\n",
       "    .dataframe tbody tr th:only-of-type {\n",
       "        vertical-align: middle;\n",
       "    }\n",
       "\n",
       "    .dataframe tbody tr th {\n",
       "        vertical-align: top;\n",
       "    }\n",
       "\n",
       "    .dataframe thead th {\n",
       "        text-align: right;\n",
       "    }\n",
       "</style>\n",
       "<table border=\"1\" class=\"dataframe\">\n",
       "  <thead>\n",
       "    <tr style=\"text-align: right;\">\n",
       "      <th></th>\n",
       "      <th>tree_dbh</th>\n",
       "      <th>curb_loc</th>\n",
       "      <th>health</th>\n",
       "      <th>steward</th>\n",
       "      <th>guards</th>\n",
       "      <th>sidewalk</th>\n",
       "      <th>user_type</th>\n",
       "      <th>problems</th>\n",
       "      <th>spc_common</th>\n",
       "      <th>spc_latin</th>\n",
       "      <th>...</th>\n",
       "      <th>rot_15_x</th>\n",
       "      <th>rot_15_y</th>\n",
       "      <th>rot_30_x</th>\n",
       "      <th>rot_30_y</th>\n",
       "      <th>rot_45_x</th>\n",
       "      <th>rot_45_y</th>\n",
       "      <th>steward_count</th>\n",
       "      <th>guards_count</th>\n",
       "      <th>problems_count</th>\n",
       "      <th>id</th>\n",
       "    </tr>\n",
       "  </thead>\n",
       "  <tbody>\n",
       "    <tr>\n",
       "      <th>0</th>\n",
       "      <td>14</td>\n",
       "      <td>1</td>\n",
       "      <td>1</td>\n",
       "      <td>3</td>\n",
       "      <td>2</td>\n",
       "      <td>0</td>\n",
       "      <td>2</td>\n",
       "      <td>10</td>\n",
       "      <td>17</td>\n",
       "      <td>98</td>\n",
       "      <td>...</td>\n",
       "      <td>-60.675358</td>\n",
       "      <td>20.299534</td>\n",
       "      <td>-43.474534</td>\n",
       "      <td>-1.558846</td>\n",
       "      <td>-23.310993</td>\n",
       "      <td>-23.310993</td>\n",
       "      <td>29409</td>\n",
       "      <td>29510</td>\n",
       "      <td>24288</td>\n",
       "      <td>0</td>\n",
       "    </tr>\n",
       "    <tr>\n",
       "      <th>1</th>\n",
       "      <td>5</td>\n",
       "      <td>1</td>\n",
       "      <td>1</td>\n",
       "      <td>1</td>\n",
       "      <td>1</td>\n",
       "      <td>1</td>\n",
       "      <td>2</td>\n",
       "      <td>10</td>\n",
       "      <td>56</td>\n",
       "      <td>7</td>\n",
       "      <td>...</td>\n",
       "      <td>-60.776656</td>\n",
       "      <td>20.340640</td>\n",
       "      <td>-43.544958</td>\n",
       "      <td>-1.555556</td>\n",
       "      <td>-23.345744</td>\n",
       "      <td>-23.345744</td>\n",
       "      <td>2068</td>\n",
       "      <td>7366</td>\n",
       "      <td>24288</td>\n",
       "      <td>1</td>\n",
       "    </tr>\n",
       "    <tr>\n",
       "      <th>2</th>\n",
       "      <td>26</td>\n",
       "      <td>1</td>\n",
       "      <td>2</td>\n",
       "      <td>3</td>\n",
       "      <td>2</td>\n",
       "      <td>1</td>\n",
       "      <td>2</td>\n",
       "      <td>29</td>\n",
       "      <td>17</td>\n",
       "      <td>98</td>\n",
       "      <td>...</td>\n",
       "      <td>-61.119247</td>\n",
       "      <td>20.009278</td>\n",
       "      <td>-43.923714</td>\n",
       "      <td>-1.928499</td>\n",
       "      <td>-23.734852</td>\n",
       "      <td>-23.734852</td>\n",
       "      <td>29409</td>\n",
       "      <td>29510</td>\n",
       "      <td>1529</td>\n",
       "      <td>2</td>\n",
       "    </tr>\n",
       "    <tr>\n",
       "      <th>3</th>\n",
       "      <td>15</td>\n",
       "      <td>1</td>\n",
       "      <td>0</td>\n",
       "      <td>3</td>\n",
       "      <td>2</td>\n",
       "      <td>0</td>\n",
       "      <td>0</td>\n",
       "      <td>10</td>\n",
       "      <td>73</td>\n",
       "      <td>52</td>\n",
       "      <td>...</td>\n",
       "      <td>-61.119247</td>\n",
       "      <td>20.009278</td>\n",
       "      <td>-43.923714</td>\n",
       "      <td>-1.928499</td>\n",
       "      <td>-23.734852</td>\n",
       "      <td>-23.734852</td>\n",
       "      <td>29409</td>\n",
       "      <td>29510</td>\n",
       "      <td>24288</td>\n",
       "      <td>3</td>\n",
       "    </tr>\n",
       "    <tr>\n",
       "      <th>4</th>\n",
       "      <td>23</td>\n",
       "      <td>1</td>\n",
       "      <td>1</td>\n",
       "      <td>3</td>\n",
       "      <td>2</td>\n",
       "      <td>1</td>\n",
       "      <td>2</td>\n",
       "      <td>28</td>\n",
       "      <td>28</td>\n",
       "      <td>81</td>\n",
       "      <td>...</td>\n",
       "      <td>-60.882640</td>\n",
       "      <td>20.257522</td>\n",
       "      <td>-43.656335</td>\n",
       "      <td>-1.655096</td>\n",
       "      <td>-23.454923</td>\n",
       "      <td>-23.454923</td>\n",
       "      <td>29409</td>\n",
       "      <td>29510</td>\n",
       "      <td>4455</td>\n",
       "      <td>4</td>\n",
       "    </tr>\n",
       "  </tbody>\n",
       "</table>\n",
       "<p>5 rows × 59 columns</p>\n",
       "</div>"
      ],
      "text/plain": [
       "   tree_dbh  curb_loc  health  steward  guards  sidewalk  user_type  problems  \\\n",
       "0        14         1       1        3       2         0          2        10   \n",
       "1         5         1       1        1       1         1          2        10   \n",
       "2        26         1       2        3       2         1          2        29   \n",
       "3        15         1       0        3       2         0          0        10   \n",
       "4        23         1       1        3       2         1          2        28   \n",
       "\n",
       "   spc_common  spc_latin  ...   rot_15_x   rot_15_y   rot_30_x  rot_30_y  \\\n",
       "0          17         98  ... -60.675358  20.299534 -43.474534 -1.558846   \n",
       "1          56          7  ... -60.776656  20.340640 -43.544958 -1.555556   \n",
       "2          17         98  ... -61.119247  20.009278 -43.923714 -1.928499   \n",
       "3          73         52  ... -61.119247  20.009278 -43.923714 -1.928499   \n",
       "4          28         81  ... -60.882640  20.257522 -43.656335 -1.655096   \n",
       "\n",
       "    rot_45_x   rot_45_y  steward_count  guards_count  problems_count  id  \n",
       "0 -23.310993 -23.310993          29409         29510           24288   0  \n",
       "1 -23.345744 -23.345744           2068          7366           24288   1  \n",
       "2 -23.734852 -23.734852          29409         29510            1529   2  \n",
       "3 -23.734852 -23.734852          29409         29510           24288   3  \n",
       "4 -23.454923 -23.454923          29409         29510            4455   4  \n",
       "\n",
       "[5 rows x 59 columns]"
      ]
     },
     "execution_count": 42,
     "metadata": {},
     "output_type": "execute_result"
    }
   ],
   "source": [
    "train.head()"
   ]
  },
  {
   "cell_type": "markdown",
   "id": "434e2ac3-184a-45dd-a39a-2efd0a39ccb5",
   "metadata": {},
   "source": [
    "# 学習部"
   ]
  },
  {
   "cell_type": "code",
   "execution_count": 43,
   "id": "2f8911b6-971f-4c61-854c-d3384aef0b28",
   "metadata": {},
   "outputs": [
    {
     "data": {
      "text/plain": [
       "['tree_dbh',\n",
       " 'curb_loc',\n",
       " 'steward',\n",
       " 'guards',\n",
       " 'sidewalk',\n",
       " 'user_type',\n",
       " 'problems',\n",
       " 'spc_common',\n",
       " 'spc_latin',\n",
       " 'nta',\n",
       " 'nta_name',\n",
       " 'borocode',\n",
       " 'boro_ct',\n",
       " 'boroname',\n",
       " 'zip_city',\n",
       " 'cb_num',\n",
       " 'st_senate',\n",
       " 'st_assem',\n",
       " 'cncldist',\n",
       " 'combined_address',\n",
       " 'latitude',\n",
       " 'longitude',\n",
       " 'year',\n",
       " 'month',\n",
       " 'Staff',\n",
       " 'bool_problems',\n",
       " 'oak',\n",
       " 'maple',\n",
       " 'pine',\n",
       " 'ash',\n",
       " 'white',\n",
       " 'black',\n",
       " 'red',\n",
       " 'On_SIDEWALK',\n",
       " 'guards_SIDEWALK',\n",
       " 'problems_SIDEWALK',\n",
       " 'spc_SIDEWALK',\n",
       " 'curb_NTA',\n",
       " 'guards_NTA',\n",
       " 'sidewalk_NTA',\n",
       " 'problems_NTA',\n",
       " 'spc_NTA',\n",
       " 'problems_GUARDS',\n",
       " 'dbh_per_SpcAve',\n",
       " 'r',\n",
       " 'theta',\n",
       " 'rot_15_x',\n",
       " 'rot_15_y',\n",
       " 'rot_30_x',\n",
       " 'rot_30_y',\n",
       " 'rot_45_x',\n",
       " 'rot_45_y',\n",
       " 'steward_count',\n",
       " 'guards_count',\n",
       " 'problems_count']"
      ]
     },
     "execution_count": 43,
     "metadata": {},
     "output_type": "execute_result"
    }
   ],
   "source": [
    "#useful_features = [c for c in train.columns if c not in (\"id\",\"health\", \"created_at\", \"kfold\",\"target\",\"spc_latin\",\"nta_name\",\"boroname\",\"combined_address\")]\n",
    "useful_features = [c for c in train.columns if c not in (\"id\",\"health\", \"created_at\", \"kfold\",\"target\")]\n",
    "useful_features"
   ]
  },
  {
   "cell_type": "code",
   "execution_count": 44,
   "id": "9dd87ca4-6232-4458-905e-5e62a5832c94",
   "metadata": {},
   "outputs": [],
   "source": [
    "# CatBoostのパラメータを設定\n",
    "cat_params = {\n",
    "    'objective' : 'MultiClass',\n",
    "    'loss_function' : 'TotalF1',\n",
    "    #'auto_class_weights' :'Balanced',\n",
    "    'num_boost_round':10000,\n",
    "    'early_stopping_rounds':10,\n",
    "    'learning_rate': 0.03, \n",
    "    'random_seed': SEED,\n",
    "    'l2_leaf_reg':3.0,\n",
    "    'max_depth':6,\n",
    "    'grow_policy':'SymmetricTree',\n",
    "    'min_data_in_leaf':1,\n",
    "    'max_leaves':31,\n",
    "}"
   ]
  },
  {
   "cell_type": "code",
   "execution_count": 45,
   "id": "8dd33ebe-7716-4e47-9e3d-11950ee5e095",
   "metadata": {},
   "outputs": [
    {
     "name": "stdout",
     "output_type": "stream",
     "text": [
      "0:\tlearn: 1.0702474\ttest: 1.0702330\tbest: 1.0702330 (0)\ttotal: 73.5ms\tremaining: 12m 14s\n",
      "Stopped by overfitting detector  (10 iterations wait)\n",
      "\n",
      "bestTest = 0.6027995227\n",
      "bestIteration = 422\n",
      "\n",
      "Shrink model to first 423 iterations.\n",
      "fold 0 F1: 0.2939338835268336\n",
      "0:\tlearn: 1.0702472\ttest: 1.0702339\tbest: 1.0702339 (0)\ttotal: 14.1ms\tremaining: 2m 21s\n",
      "Stopped by overfitting detector  (10 iterations wait)\n",
      "\n",
      "bestTest = 0.6073158227\n",
      "bestIteration = 179\n",
      "\n",
      "Shrink model to first 180 iterations.\n",
      "fold 1 F1: 0.2938817384816266\n",
      "0:\tlearn: 1.0702198\ttest: 1.0702756\tbest: 1.0702756 (0)\ttotal: 50.6ms\tremaining: 8m 25s\n",
      "Stopped by overfitting detector  (10 iterations wait)\n",
      "\n",
      "bestTest = 0.6061915796\n",
      "bestIteration = 356\n",
      "\n",
      "Shrink model to first 357 iterations.\n",
      "fold 2 F1: 0.2936730123180291\n",
      "0:\tlearn: 1.0702506\ttest: 1.0702425\tbest: 1.0702425 (0)\ttotal: 38.8ms\tremaining: 6m 27s\n",
      "Stopped by overfitting detector  (10 iterations wait)\n",
      "\n",
      "bestTest = 0.6029776716\n",
      "bestIteration = 291\n",
      "\n",
      "Shrink model to first 292 iterations.\n",
      "fold 3 F1: 0.2937252157686027\n",
      "0:\tlearn: 1.0703631\ttest: 1.0702326\tbest: 1.0702326 (0)\ttotal: 59.6ms\tremaining: 9m 55s\n",
      "Stopped by overfitting detector  (10 iterations wait)\n",
      "\n",
      "bestTest = 0.6037797592\n",
      "bestIteration = 248\n",
      "\n",
      "Shrink model to first 249 iterations.\n",
      "fold 4 F1: 0.2940271366624703\n",
      "0.29384819735151246 0.00013137782974925047\n"
     ]
    }
   ],
   "source": [
    "test_predictions = []\n",
    "valid_predictions = {}\n",
    "scores = []\n",
    "\n",
    "for fold in range(FOLD):\n",
    "\n",
    "    xtrain = train[train.kfold != fold].reset_index(drop=True)\n",
    "    xvalid = train[train.kfold == fold].reset_index(drop=True)\n",
    "    xtest = test[useful_features]\n",
    "\n",
    "    # For Stacking\n",
    "    valid_ids = xvalid.id.values.tolist()\n",
    "\n",
    "    ytrain = xtrain.health\n",
    "    yvalid = xvalid.health\n",
    "    \n",
    "    xtrain = xtrain[useful_features]\n",
    "    xvalid = xvalid[useful_features]\n",
    "\n",
    "    # 不均衡データ対策    \n",
    "    cat_train = cb.Pool(data=xtrain, label=ytrain,\n",
    "                        cat_features=cat_features\n",
    "                       )\n",
    "    \n",
    "    cat_valid = cb.Pool(data=xvalid, label=yvalid,\n",
    "                        cat_features=cat_features\n",
    "                       )\n",
    "\n",
    "    # Training\n",
    "    model = cb.CatBoost(cat_params)\n",
    "    \n",
    "    model.fit(cat_train, \n",
    "              eval_set=[cat_valid],\n",
    "              verbose=500, \n",
    "              use_best_model=True,\n",
    "              plot=False)\n",
    "    \n",
    "    # For Validation\n",
    "    preds_valid = model.predict(xvalid,prediction_type='Probability')\n",
    "    preds_valid = np.argmax(preds_valid, axis=1)  # 最尤と判断したクラスを選ぶ\n",
    "    valid_predictions.update(dict(zip(valid_ids, preds_valid)))\n",
    "\n",
    "    ###########\n",
    "    # 推論部分 #\n",
    "    ##########    \n",
    "    # For Test\n",
    "    test_preds = model.predict(xtest,prediction_type='Probability')\n",
    "    test_predictions.append(test_preds)\n",
    "\n",
    "    # F1を計算する\n",
    "    score = f1_score(yvalid, preds_valid, average='macro')\n",
    "    print(f'fold {fold} F1: {score}')\n",
    "    scores.append(score)\n",
    "\n",
    "    #print(model.params)\n",
    "\n",
    "print(np.mean(scores), np.std(scores))\n",
    "\n",
    "# For Blending and Stacking\n",
    "final_valid_predictions = pd.DataFrame.from_dict(valid_predictions, orient=\"index\").reset_index()\n",
    "final_valid_predictions.columns = [\"id\", \"Cat_pred\"]\n",
    "final_valid_predictions.to_csv(\"train_Cat_20231229_pred.csv\", index=False)\n",
    "\n",
    "\n",
    "final_test_predictions = np.average(test_predictions, axis = 0)\n",
    "pred = np.argmax(final_test_predictions, axis=1)  # 最尤と判断したクラスを選ぶ\n",
    "sample_submission[1] = pred\n",
    "sample_submission.to_csv(\"test_Cat_20231229_pred.csv\",header=False,index=False)"
   ]
  },
  {
   "cell_type": "markdown",
   "id": "df1e1ef2-ed87-4293-aa70-34c264c721ef",
   "metadata": {},
   "source": [
    "### 5th Sub\n",
    "cv:0.3573653589927327<BR> \n",
    "LB:0.3561516"
   ]
  },
  {
   "cell_type": "markdown",
   "id": "97f1373c-be0c-4603-8c25-40cbee88f483",
   "metadata": {},
   "source": [
    "### 4th Sub\n",
    "cv:0.3561764534865773<BR>\n",
    "LB:0.3538946"
   ]
  },
  {
   "cell_type": "markdown",
   "id": "1f5668d8-7308-42cd-85a5-c6b535e64ad0",
   "metadata": {},
   "source": [
    "# 解析"
   ]
  },
  {
   "cell_type": "code",
   "execution_count": 46,
   "id": "0a3dcb7a-9d86-41ad-888e-fd8ba088fa9c",
   "metadata": {},
   "outputs": [
    {
     "data": {
      "text/plain": [
       "Text(0.5, 1.0, 'Feature Importance')"
      ]
     },
     "execution_count": 46,
     "metadata": {},
     "output_type": "execute_result"
    },
    {
     "data": {
      "image/png": "[encoded data removed]",
      "text/plain": [
       "<Figure size 1000x2000 with 1 Axes>"
      ]
     },
     "metadata": {},
     "output_type": "display_data"
    }
   ],
   "source": [
    "feature_importance = model.feature_importances_\n",
    "sorted_idx = np.argsort(feature_importance)\n",
    "fig = plt.figure(figsize=(10, 20))\n",
    "plt.barh(range(len(sorted_idx)), feature_importance[sorted_idx], align='center')\n",
    "plt.yticks(range(len(sorted_idx)), np.array(xtest.columns)[sorted_idx])\n",
    "plt.title('Feature Importance')"
   ]
  },
  {
   "cell_type": "code",
   "execution_count": 47,
   "id": "9496b851-dc15-408f-a95d-36bfcd5accda",
   "metadata": {},
   "outputs": [
    {
     "data": {
      "image/png": "[encoded data removed]",
      "text/plain": [
       "<Figure size 640x480 with 2 Axes>"
      ]
     },
     "metadata": {},
     "output_type": "display_data"
    }
   ],
   "source": [
    "# confusion　matrix\n",
    "train_pred = model.predict(train[useful_features],prediction_type='Probability').argmax(axis=1)\n",
    "cm = confusion_matrix(train['health'], train_pred)\n",
    "sns.heatmap(cm, annot=True, cmap='Blues')\n",
    "plt.show()"
   ]
  },
  {
   "cell_type": "markdown",
   "id": "cb7233b0-c214-4580-b050-66d3c77aa7b8",
   "metadata": {},
   "source": [
    "## 提出"
   ]
  },
  {
   "cell_type": "code",
   "execution_count": 48,
   "id": "7acebc64-57cb-4073-9917-dca6a43f50f1",
   "metadata": {},
   "outputs": [
    {
     "data": {
      "text/html": [
       "<div>\n",
       "<style scoped>\n",
       "    .dataframe tbody tr th:only-of-type {\n",
       "        vertical-align: middle;\n",
       "    }\n",
       "\n",
       "    .dataframe tbody tr th {\n",
       "        vertical-align: top;\n",
       "    }\n",
       "\n",
       "    .dataframe thead th {\n",
       "        text-align: right;\n",
       "    }\n",
       "</style>\n",
       "<table border=\"1\" class=\"dataframe\">\n",
       "  <thead>\n",
       "    <tr style=\"text-align: right;\">\n",
       "      <th></th>\n",
       "      <th>1</th>\n",
       "    </tr>\n",
       "    <tr>\n",
       "      <th>0</th>\n",
       "      <th></th>\n",
       "    </tr>\n",
       "  </thead>\n",
       "  <tbody>\n",
       "    <tr>\n",
       "      <th>19984</th>\n",
       "      <td>1</td>\n",
       "    </tr>\n",
       "    <tr>\n",
       "      <th>19985</th>\n",
       "      <td>1</td>\n",
       "    </tr>\n",
       "    <tr>\n",
       "      <th>19986</th>\n",
       "      <td>1</td>\n",
       "    </tr>\n",
       "    <tr>\n",
       "      <th>19987</th>\n",
       "      <td>1</td>\n",
       "    </tr>\n",
       "    <tr>\n",
       "      <th>19988</th>\n",
       "      <td>1</td>\n",
       "    </tr>\n",
       "  </tbody>\n",
       "</table>\n",
       "</div>"
      ],
      "text/plain": [
       "       1\n",
       "0       \n",
       "19984  1\n",
       "19985  1\n",
       "19986  1\n",
       "19987  1\n",
       "19988  1"
      ]
     },
     "execution_count": 48,
     "metadata": {},
     "output_type": "execute_result"
    }
   ],
   "source": [
    "sample_submission.head()"
   ]
  },
  {
   "cell_type": "code",
   "execution_count": 49,
   "id": "2fe5912e-94be-433b-a860-857ce3593d85",
   "metadata": {},
   "outputs": [
    {
     "data": {
      "text/plain": [
       "[array([[0.17069478, 0.7905255 , 0.03877972],\n",
       "        [0.13316651, 0.84354006, 0.02329343],\n",
       "        [0.20769894, 0.75801089, 0.03429017],\n",
       "        ...,\n",
       "        [0.16520988, 0.80163353, 0.03315659],\n",
       "        [0.1879471 , 0.78549314, 0.02655976],\n",
       "        [0.18230495, 0.79187159, 0.02582346]]),\n",
       " array([[0.17101665, 0.79371502, 0.03526833],\n",
       "        [0.12717873, 0.84139152, 0.03142975],\n",
       "        [0.21428437, 0.74757566, 0.03813998],\n",
       "        ...,\n",
       "        [0.16853664, 0.79804627, 0.0334171 ],\n",
       "        [0.180081  , 0.79003822, 0.02988078],\n",
       "        [0.17681538, 0.79276948, 0.03041514]]),\n",
       " array([[0.17749489, 0.78740264, 0.03510247],\n",
       "        [0.12309328, 0.85242763, 0.02447908],\n",
       "        [0.24274744, 0.71984687, 0.03740569],\n",
       "        ...,\n",
       "        [0.16703736, 0.8008536 , 0.03210904],\n",
       "        [0.17775385, 0.79533928, 0.02690686],\n",
       "        [0.16902059, 0.80308867, 0.02789074]]),\n",
       " array([[0.17301843, 0.79032403, 0.03665754],\n",
       "        [0.12800933, 0.84654352, 0.02544715],\n",
       "        [0.20712242, 0.76056536, 0.03231223],\n",
       "        ...,\n",
       "        [0.1710415 , 0.79262443, 0.03633407],\n",
       "        [0.1839472 , 0.7894954 , 0.0265574 ],\n",
       "        [0.18528843, 0.78843388, 0.02627769]]),\n",
       " array([[0.17066347, 0.79219712, 0.03713942],\n",
       "        [0.1372088 , 0.8381316 , 0.02465961],\n",
       "        [0.2121337 , 0.75890157, 0.02896473],\n",
       "        ...,\n",
       "        [0.15981784, 0.80828203, 0.03190013],\n",
       "        [0.17987545, 0.79202626, 0.02809829],\n",
       "        [0.17491621, 0.79632633, 0.02875746]])]"
      ]
     },
     "execution_count": 49,
     "metadata": {},
     "output_type": "execute_result"
    }
   ],
   "source": [
    "test_predictions"
   ]
  },
  {
   "cell_type": "code",
   "execution_count": 50,
   "id": "55681ed9-627d-4809-8b0e-26fd5dd3b809",
   "metadata": {},
   "outputs": [
    {
     "data": {
      "text/plain": [
       "array([[0.17257764, 0.79083286, 0.0365895 ],\n",
       "       [0.12973133, 0.84440687, 0.0258618 ],\n",
       "       [0.21679737, 0.74898007, 0.03422256],\n",
       "       ...,\n",
       "       [0.16632864, 0.80028797, 0.03338338],\n",
       "       [0.18192092, 0.79047846, 0.02760062],\n",
       "       [0.17766911, 0.79449799, 0.0278329 ]])"
      ]
     },
     "execution_count": 50,
     "metadata": {},
     "output_type": "execute_result"
    }
   ],
   "source": [
    "final_test_predictions = np.average(test_predictions, axis = 0)\n",
    "final_test_predictions"
   ]
  },
  {
   "cell_type": "code",
   "execution_count": 51,
   "id": "77da2488-d062-4e76-918d-69b1ecf648c0",
   "metadata": {},
   "outputs": [],
   "source": [
    "pred = np.argmax(final_test_predictions, axis=1)  # 最尤と判断したクラスを選ぶ"
   ]
  },
  {
   "cell_type": "code",
   "execution_count": 52,
   "id": "7b362991-dec3-4ea2-820a-447b7f5fbc6b",
   "metadata": {},
   "outputs": [
    {
     "data": {
      "text/plain": [
       "array([1, 1, 1, ..., 1, 1, 1])"
      ]
     },
     "execution_count": 52,
     "metadata": {},
     "output_type": "execute_result"
    }
   ],
   "source": [
    "pred"
   ]
  },
  {
   "cell_type": "code",
   "execution_count": 53,
   "id": "6fc64c63-9956-434d-a102-12be3567c246",
   "metadata": {},
   "outputs": [
    {
     "data": {
      "text/html": [
       "<div>\n",
       "<style scoped>\n",
       "    .dataframe tbody tr th:only-of-type {\n",
       "        vertical-align: middle;\n",
       "    }\n",
       "\n",
       "    .dataframe tbody tr th {\n",
       "        vertical-align: top;\n",
       "    }\n",
       "\n",
       "    .dataframe thead th {\n",
       "        text-align: right;\n",
       "    }\n",
       "</style>\n",
       "<table border=\"1\" class=\"dataframe\">\n",
       "  <thead>\n",
       "    <tr style=\"text-align: right;\">\n",
       "      <th></th>\n",
       "      <th>1</th>\n",
       "    </tr>\n",
       "    <tr>\n",
       "      <th>0</th>\n",
       "      <th></th>\n",
       "    </tr>\n",
       "  </thead>\n",
       "  <tbody>\n",
       "    <tr>\n",
       "      <th>19984</th>\n",
       "      <td>1</td>\n",
       "    </tr>\n",
       "    <tr>\n",
       "      <th>19985</th>\n",
       "      <td>1</td>\n",
       "    </tr>\n",
       "    <tr>\n",
       "      <th>19986</th>\n",
       "      <td>1</td>\n",
       "    </tr>\n",
       "    <tr>\n",
       "      <th>19987</th>\n",
       "      <td>1</td>\n",
       "    </tr>\n",
       "    <tr>\n",
       "      <th>19988</th>\n",
       "      <td>1</td>\n",
       "    </tr>\n",
       "  </tbody>\n",
       "</table>\n",
       "</div>"
      ],
      "text/plain": [
       "       1\n",
       "0       \n",
       "19984  1\n",
       "19985  1\n",
       "19986  1\n",
       "19987  1\n",
       "19988  1"
      ]
     },
     "execution_count": 53,
     "metadata": {},
     "output_type": "execute_result"
    }
   ],
   "source": [
    "sample_submission[1] = pred\n",
    "sample_submission.head()"
   ]
  },
  {
   "cell_type": "code",
   "execution_count": 54,
   "id": "ee612c42-4fd3-4b9a-b23f-4cf434fb627a",
   "metadata": {},
   "outputs": [],
   "source": [
    "#sample_submission.to_csv('./submit_1224_1st.csv', header=None)"
   ]
  },
  {
   "cell_type": "markdown",
   "id": "fabdd9bd-0f98-403e-a659-d280c33a7fe2",
   "metadata": {},
   "source": [
    "### 木の健康状態（目的変数）\n",
    "0:Fair（普通） 1:Good（良い） 2:Poor（悪い）"
   ]
  },
  {
   "cell_type": "code",
   "execution_count": 55,
   "id": "b2c960bf-7b5c-44ad-ac58-da1c63f4082a",
   "metadata": {},
   "outputs": [
    {
     "data": {
      "text/plain": [
       "1\n",
       "1    19702\n",
       "Name: count, dtype: int64"
      ]
     },
     "execution_count": 55,
     "metadata": {},
     "output_type": "execute_result"
    }
   ],
   "source": [
    "sample_submission[1].value_counts()"
   ]
  },
  {
   "cell_type": "markdown",
   "id": "eb7b89ef-2e1f-4ada-b8ab-1f82bb782889",
   "metadata": {},
   "source": [
    "health<BR>\n",
    "1    15751<BR>\n",
    "0     3535<BR>\n",
    "2      698"
   ]
  },
  {
   "cell_type": "code",
   "execution_count": null,
   "id": "b04bc0f8-72cd-4b55-b796-a1144e556601",
   "metadata": {},
   "outputs": [],
   "source": []
  }
 ],
 "metadata": {
  "kernelspec": {
   "display_name": "Python 3 (ipykernel)",
   "language": "python",
   "name": "python3"
  },
  "language_info": {
   "codemirror_mode": {
    "name": "ipython",
    "version": 3
   },
   "file_extension": ".py",
   "mimetype": "text/x-python",
   "name": "python",
   "nbconvert_exporter": "python",
   "pygments_lexer": "ipython3",
   "version": "3.10.13"
  }
 },
 "nbformat": 4,
 "nbformat_minor": 5
}
