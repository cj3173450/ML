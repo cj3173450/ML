{
 "cells": [
  {
   "cell_type": "code",
   "execution_count": 1,
   "id": "9c09cacd",
   "metadata": {
    "_cell_guid": "b1076dfc-b9ad-4769-8c92-a6c4dae69d19",
    "_uuid": "8f2839f25d086af736a60e9eeb907d3b93b6e0e5",
    "execution": {
     "iopub.execute_input": "2021-08-31T15:03:03.565011Z",
     "iopub.status.busy": "2021-08-31T15:03:03.559165Z",
     "iopub.status.idle": "2021-08-31T15:03:06.430892Z",
     "shell.execute_reply": "2021-08-31T15:03:06.431557Z",
     "shell.execute_reply.started": "2021-08-31T14:48:21.541992Z"
    },
    "papermill": {
     "duration": 2.890836,
     "end_time": "2021-08-31T15:03:06.431862",
     "exception": false,
     "start_time": "2021-08-31T15:03:03.541026",
     "status": "completed"
    },
    "tags": []
   },
   "outputs": [
    {
     "data": {
      "text/html": [
       "<style type='text/css'>\n",
       ".datatable table.frame { margin-bottom: 0; }\n",
       ".datatable table.frame thead { border-bottom: none; }\n",
       ".datatable table.frame tr.coltypes td {  color: #FFFFFF;  line-height: 6px;  padding: 0 0.5em;}\n",
       ".datatable .bool    { background: #DDDD99; }\n",
       ".datatable .object  { background: #565656; }\n",
       ".datatable .int     { background: #5D9E5D; }\n",
       ".datatable .float   { background: #4040CC; }\n",
       ".datatable .str     { background: #CC4040; }\n",
       ".datatable .time    { background: #40CC40; }\n",
       ".datatable .row_index {  background: var(--jp-border-color3);  border-right: 1px solid var(--jp-border-color0);  color: var(--jp-ui-font-color3);  font-size: 9px;}\n",
       ".datatable .frame tbody td { text-align: left; }\n",
       ".datatable .frame tr.coltypes .row_index {  background: var(--jp-border-color0);}\n",
       ".datatable th:nth-child(2) { padding-left: 12px; }\n",
       ".datatable .hellipsis {  color: var(--jp-cell-editor-border-color);}\n",
       ".datatable .vellipsis {  background: var(--jp-layout-color0);  color: var(--jp-cell-editor-border-color);}\n",
       ".datatable .na {  color: var(--jp-cell-editor-border-color);  font-size: 80%;}\n",
       ".datatable .sp {  opacity: 0.25;}\n",
       ".datatable .footer { font-size: 9px; }\n",
       ".datatable .frame_dimensions {  background: var(--jp-border-color3);  border-top: 1px solid var(--jp-border-color0);  color: var(--jp-ui-font-color3);  display: inline-block;  opacity: 0.6;  padding: 1px 10px 1px 5px;}\n",
       "</style>\n"
      ],
      "text/plain": [
       "<IPython.core.display.HTML object>"
      ]
     },
     "metadata": {},
     "output_type": "display_data"
    }
   ],
   "source": [
    "import pandas as pd\n",
    "import numpy as np\n",
    "from sklearn import preprocessing\n",
    "from sklearn import model_selection\n",
    "\n",
    "from sklearn.metrics import mean_squared_error\n",
    "from optuna.integration import lightgbm as lgb\n",
    "\n",
    "import matplotlib.pyplot as plt\n",
    "%matplotlib inline\n",
    "import seaborn as sns"
   ]
  },
  {
   "cell_type": "markdown",
   "id": "2494a576",
   "metadata": {
    "papermill": {
     "duration": 0.007551,
     "end_time": "2021-08-31T15:03:06.448149",
     "exception": false,
     "start_time": "2021-08-31T15:03:06.440598",
     "status": "completed"
    },
    "tags": []
   },
   "source": [
    "## Blend with LightGBM"
   ]
  },
  {
   "cell_type": "code",
   "execution_count": 2,
   "id": "94d7bb50",
   "metadata": {
    "execution": {
     "iopub.execute_input": "2021-08-31T15:03:06.466864Z",
     "iopub.status.busy": "2021-08-31T15:03:06.466185Z",
     "iopub.status.idle": "2021-08-31T15:03:11.070193Z",
     "shell.execute_reply": "2021-08-31T15:03:11.069474Z",
     "shell.execute_reply.started": "2021-08-31T14:48:24.612113Z"
    },
    "papermill": {
     "duration": 4.614398,
     "end_time": "2021-08-31T15:03:11.070331",
     "exception": false,
     "start_time": "2021-08-31T15:03:06.455933",
     "status": "completed"
    },
    "tags": []
   },
   "outputs": [],
   "source": [
    "# Load the training data\n",
    "df = pd.read_csv(\"../input/30-days-create-folds/train_folds.csv\")\n",
    "df_test = pd.read_csv(\"../input/30-days-of-ml/test.csv\")\n",
    "sample_submission = pd.read_csv(\"../input/30-days-of-ml/sample_submission.csv\")"
   ]
  },
  {
   "cell_type": "code",
   "execution_count": 3,
   "id": "255c354a",
   "metadata": {
    "execution": {
     "iopub.execute_input": "2021-08-31T15:03:11.094421Z",
     "iopub.status.busy": "2021-08-31T15:03:11.093754Z",
     "iopub.status.idle": "2021-08-31T15:03:12.631035Z",
     "shell.execute_reply": "2021-08-31T15:03:12.631473Z",
     "shell.execute_reply.started": "2021-08-31T14:50:22.080465Z"
    },
    "papermill": {
     "duration": 1.553047,
     "end_time": "2021-08-31T15:03:12.631661",
     "exception": false,
     "start_time": "2021-08-31T15:03:11.078614",
     "status": "completed"
    },
    "tags": []
   },
   "outputs": [
    {
     "data": {
      "text/html": [
       "<div>\n",
       "<style scoped>\n",
       "    .dataframe tbody tr th:only-of-type {\n",
       "        vertical-align: middle;\n",
       "    }\n",
       "\n",
       "    .dataframe tbody tr th {\n",
       "        vertical-align: top;\n",
       "    }\n",
       "\n",
       "    .dataframe thead th {\n",
       "        text-align: right;\n",
       "    }\n",
       "</style>\n",
       "<table border=\"1\" class=\"dataframe\">\n",
       "  <thead>\n",
       "    <tr style=\"text-align: right;\">\n",
       "      <th></th>\n",
       "      <th>id</th>\n",
       "      <th>cat0</th>\n",
       "      <th>cat1</th>\n",
       "      <th>cat2</th>\n",
       "      <th>cat3</th>\n",
       "      <th>cat4</th>\n",
       "      <th>cat5</th>\n",
       "      <th>cat6</th>\n",
       "      <th>cat7</th>\n",
       "      <th>cat8</th>\n",
       "      <th>...</th>\n",
       "      <th>cont9</th>\n",
       "      <th>cont10</th>\n",
       "      <th>cont11</th>\n",
       "      <th>cont12</th>\n",
       "      <th>cont13</th>\n",
       "      <th>target</th>\n",
       "      <th>kfold</th>\n",
       "      <th>pred_1</th>\n",
       "      <th>pred_2</th>\n",
       "      <th>pred_3</th>\n",
       "    </tr>\n",
       "  </thead>\n",
       "  <tbody>\n",
       "    <tr>\n",
       "      <th>0</th>\n",
       "      <td>149020</td>\n",
       "      <td>A</td>\n",
       "      <td>B</td>\n",
       "      <td>B</td>\n",
       "      <td>C</td>\n",
       "      <td>B</td>\n",
       "      <td>C</td>\n",
       "      <td>A</td>\n",
       "      <td>E</td>\n",
       "      <td>E</td>\n",
       "      <td>...</td>\n",
       "      <td>0.292799</td>\n",
       "      <td>0.130800</td>\n",
       "      <td>0.295031</td>\n",
       "      <td>0.800303</td>\n",
       "      <td>0.869909</td>\n",
       "      <td>7.887014</td>\n",
       "      <td>0</td>\n",
       "      <td>8.100012</td>\n",
       "      <td>8.072755</td>\n",
       "      <td>8.112833</td>\n",
       "    </tr>\n",
       "    <tr>\n",
       "      <th>1</th>\n",
       "      <td>477059</td>\n",
       "      <td>A</td>\n",
       "      <td>B</td>\n",
       "      <td>B</td>\n",
       "      <td>C</td>\n",
       "      <td>B</td>\n",
       "      <td>B</td>\n",
       "      <td>A</td>\n",
       "      <td>E</td>\n",
       "      <td>C</td>\n",
       "      <td>...</td>\n",
       "      <td>0.635890</td>\n",
       "      <td>0.328430</td>\n",
       "      <td>0.322531</td>\n",
       "      <td>0.021058</td>\n",
       "      <td>0.153536</td>\n",
       "      <td>7.152708</td>\n",
       "      <td>0</td>\n",
       "      <td>8.373678</td>\n",
       "      <td>8.439766</td>\n",
       "      <td>8.384217</td>\n",
       "    </tr>\n",
       "    <tr>\n",
       "      <th>2</th>\n",
       "      <td>104376</td>\n",
       "      <td>A</td>\n",
       "      <td>A</td>\n",
       "      <td>A</td>\n",
       "      <td>C</td>\n",
       "      <td>B</td>\n",
       "      <td>B</td>\n",
       "      <td>A</td>\n",
       "      <td>E</td>\n",
       "      <td>E</td>\n",
       "      <td>...</td>\n",
       "      <td>0.322940</td>\n",
       "      <td>0.450631</td>\n",
       "      <td>0.246561</td>\n",
       "      <td>0.236413</td>\n",
       "      <td>0.822472</td>\n",
       "      <td>7.869662</td>\n",
       "      <td>0</td>\n",
       "      <td>8.236361</td>\n",
       "      <td>8.206692</td>\n",
       "      <td>8.199950</td>\n",
       "    </tr>\n",
       "    <tr>\n",
       "      <th>3</th>\n",
       "      <td>488682</td>\n",
       "      <td>B</td>\n",
       "      <td>A</td>\n",
       "      <td>A</td>\n",
       "      <td>C</td>\n",
       "      <td>B</td>\n",
       "      <td>B</td>\n",
       "      <td>A</td>\n",
       "      <td>E</td>\n",
       "      <td>C</td>\n",
       "      <td>...</td>\n",
       "      <td>0.467147</td>\n",
       "      <td>0.292676</td>\n",
       "      <td>0.734973</td>\n",
       "      <td>0.351734</td>\n",
       "      <td>0.481341</td>\n",
       "      <td>8.112649</td>\n",
       "      <td>0</td>\n",
       "      <td>8.327992</td>\n",
       "      <td>8.361216</td>\n",
       "      <td>8.368644</td>\n",
       "    </tr>\n",
       "    <tr>\n",
       "      <th>4</th>\n",
       "      <td>281982</td>\n",
       "      <td>A</td>\n",
       "      <td>B</td>\n",
       "      <td>A</td>\n",
       "      <td>A</td>\n",
       "      <td>B</td>\n",
       "      <td>D</td>\n",
       "      <td>A</td>\n",
       "      <td>E</td>\n",
       "      <td>A</td>\n",
       "      <td>...</td>\n",
       "      <td>0.579008</td>\n",
       "      <td>0.648271</td>\n",
       "      <td>0.590032</td>\n",
       "      <td>0.296360</td>\n",
       "      <td>0.287297</td>\n",
       "      <td>8.186170</td>\n",
       "      <td>0</td>\n",
       "      <td>7.891100</td>\n",
       "      <td>7.828485</td>\n",
       "      <td>7.872571</td>\n",
       "    </tr>\n",
       "  </tbody>\n",
       "</table>\n",
       "<p>5 rows × 30 columns</p>\n",
       "</div>"
      ],
      "text/plain": [
       "       id cat0 cat1 cat2 cat3 cat4 cat5 cat6 cat7 cat8  ...     cont9  \\\n",
       "0  149020    A    B    B    C    B    C    A    E    E  ...  0.292799   \n",
       "1  477059    A    B    B    C    B    B    A    E    C  ...  0.635890   \n",
       "2  104376    A    A    A    C    B    B    A    E    E  ...  0.322940   \n",
       "3  488682    B    A    A    C    B    B    A    E    C  ...  0.467147   \n",
       "4  281982    A    B    A    A    B    D    A    E    A  ...  0.579008   \n",
       "\n",
       "     cont10    cont11    cont12    cont13    target  kfold    pred_1  \\\n",
       "0  0.130800  0.295031  0.800303  0.869909  7.887014      0  8.100012   \n",
       "1  0.328430  0.322531  0.021058  0.153536  7.152708      0  8.373678   \n",
       "2  0.450631  0.246561  0.236413  0.822472  7.869662      0  8.236361   \n",
       "3  0.292676  0.734973  0.351734  0.481341  8.112649      0  8.327992   \n",
       "4  0.648271  0.590032  0.296360  0.287297  8.186170      0  7.891100   \n",
       "\n",
       "     pred_2    pred_3  \n",
       "0  8.072755  8.112833  \n",
       "1  8.439766  8.384217  \n",
       "2  8.206692  8.199950  \n",
       "3  8.361216  8.368644  \n",
       "4  7.828485  7.872571  \n",
       "\n",
       "[5 rows x 30 columns]"
      ]
     },
     "execution_count": 3,
     "metadata": {},
     "output_type": "execute_result"
    }
   ],
   "source": [
    "df1 = pd.read_csv(\"../input/blending-blending-blending/train_pred_1.csv\")\n",
    "df2 = pd.read_csv(\"../input/blending-blending-blending/train_pred_2.csv\")\n",
    "df3 = pd.read_csv(\"../input/blending-blending-blending/train_pred_3.csv\")\n",
    "\n",
    "df_test1 = pd.read_csv(\"../input/blending-blending-blending/test_pred_1.csv\")\n",
    "df_test2 = pd.read_csv(\"../input/blending-blending-blending/test_pred_2.csv\")\n",
    "df_test3 = pd.read_csv(\"../input/blending-blending-blending/test_pred_3.csv\")\n",
    "\n",
    "df = df.merge(df1, on=\"id\", how=\"left\")\n",
    "df = df.merge(df2, on=\"id\", how=\"left\")\n",
    "df = df.merge(df3, on=\"id\", how=\"left\")\n",
    "\n",
    "df_test = df_test.merge(df_test1, on=\"id\", how=\"left\")\n",
    "df_test = df_test.merge(df_test2, on=\"id\", how=\"left\")\n",
    "df_test = df_test.merge(df_test3, on=\"id\", how=\"left\")\n",
    "\n",
    "df.head()"
   ]
  },
  {
   "cell_type": "code",
   "execution_count": 4,
   "id": "2a959a77",
   "metadata": {
    "execution": {
     "iopub.execute_input": "2021-08-31T15:03:12.677738Z",
     "iopub.status.busy": "2021-08-31T15:03:12.676699Z",
     "iopub.status.idle": "2021-08-31T15:03:12.681581Z",
     "shell.execute_reply": "2021-08-31T15:03:12.681076Z",
     "shell.execute_reply.started": "2021-08-31T14:50:37.23656Z"
    },
    "papermill": {
     "duration": 0.041113,
     "end_time": "2021-08-31T15:03:12.681723",
     "exception": false,
     "start_time": "2021-08-31T15:03:12.640610",
     "status": "completed"
    },
    "tags": []
   },
   "outputs": [
    {
     "data": {
      "text/html": [
       "<div>\n",
       "<style scoped>\n",
       "    .dataframe tbody tr th:only-of-type {\n",
       "        vertical-align: middle;\n",
       "    }\n",
       "\n",
       "    .dataframe tbody tr th {\n",
       "        vertical-align: top;\n",
       "    }\n",
       "\n",
       "    .dataframe thead th {\n",
       "        text-align: right;\n",
       "    }\n",
       "</style>\n",
       "<table border=\"1\" class=\"dataframe\">\n",
       "  <thead>\n",
       "    <tr style=\"text-align: right;\">\n",
       "      <th></th>\n",
       "      <th>id</th>\n",
       "      <th>cat0</th>\n",
       "      <th>cat1</th>\n",
       "      <th>cat2</th>\n",
       "      <th>cat3</th>\n",
       "      <th>cat4</th>\n",
       "      <th>cat5</th>\n",
       "      <th>cat6</th>\n",
       "      <th>cat7</th>\n",
       "      <th>cat8</th>\n",
       "      <th>...</th>\n",
       "      <th>cont7</th>\n",
       "      <th>cont8</th>\n",
       "      <th>cont9</th>\n",
       "      <th>cont10</th>\n",
       "      <th>cont11</th>\n",
       "      <th>cont12</th>\n",
       "      <th>cont13</th>\n",
       "      <th>pred_1</th>\n",
       "      <th>pred_2</th>\n",
       "      <th>pred_3</th>\n",
       "    </tr>\n",
       "  </thead>\n",
       "  <tbody>\n",
       "    <tr>\n",
       "      <th>0</th>\n",
       "      <td>0</td>\n",
       "      <td>B</td>\n",
       "      <td>B</td>\n",
       "      <td>B</td>\n",
       "      <td>C</td>\n",
       "      <td>B</td>\n",
       "      <td>B</td>\n",
       "      <td>A</td>\n",
       "      <td>E</td>\n",
       "      <td>E</td>\n",
       "      <td>...</td>\n",
       "      <td>0.321832</td>\n",
       "      <td>0.445212</td>\n",
       "      <td>0.290258</td>\n",
       "      <td>0.244476</td>\n",
       "      <td>0.087914</td>\n",
       "      <td>0.301831</td>\n",
       "      <td>0.845702</td>\n",
       "      <td>8.069092</td>\n",
       "      <td>8.063132</td>\n",
       "      <td>8.085993</td>\n",
       "    </tr>\n",
       "    <tr>\n",
       "      <th>1</th>\n",
       "      <td>5</td>\n",
       "      <td>A</td>\n",
       "      <td>B</td>\n",
       "      <td>A</td>\n",
       "      <td>C</td>\n",
       "      <td>B</td>\n",
       "      <td>C</td>\n",
       "      <td>A</td>\n",
       "      <td>E</td>\n",
       "      <td>C</td>\n",
       "      <td>...</td>\n",
       "      <td>0.835961</td>\n",
       "      <td>0.391657</td>\n",
       "      <td>0.288276</td>\n",
       "      <td>0.549568</td>\n",
       "      <td>0.905097</td>\n",
       "      <td>0.850684</td>\n",
       "      <td>0.693940</td>\n",
       "      <td>8.399485</td>\n",
       "      <td>8.393074</td>\n",
       "      <td>8.411225</td>\n",
       "    </tr>\n",
       "    <tr>\n",
       "      <th>2</th>\n",
       "      <td>15</td>\n",
       "      <td>B</td>\n",
       "      <td>A</td>\n",
       "      <td>A</td>\n",
       "      <td>A</td>\n",
       "      <td>B</td>\n",
       "      <td>B</td>\n",
       "      <td>A</td>\n",
       "      <td>E</td>\n",
       "      <td>D</td>\n",
       "      <td>...</td>\n",
       "      <td>0.879379</td>\n",
       "      <td>0.275549</td>\n",
       "      <td>0.427871</td>\n",
       "      <td>0.491667</td>\n",
       "      <td>0.384315</td>\n",
       "      <td>0.376689</td>\n",
       "      <td>0.508099</td>\n",
       "      <td>8.402053</td>\n",
       "      <td>8.414242</td>\n",
       "      <td>8.418512</td>\n",
       "    </tr>\n",
       "    <tr>\n",
       "      <th>3</th>\n",
       "      <td>16</td>\n",
       "      <td>B</td>\n",
       "      <td>B</td>\n",
       "      <td>A</td>\n",
       "      <td>C</td>\n",
       "      <td>B</td>\n",
       "      <td>D</td>\n",
       "      <td>A</td>\n",
       "      <td>E</td>\n",
       "      <td>A</td>\n",
       "      <td>...</td>\n",
       "      <td>0.644315</td>\n",
       "      <td>1.024017</td>\n",
       "      <td>0.391090</td>\n",
       "      <td>0.988340</td>\n",
       "      <td>0.411828</td>\n",
       "      <td>0.393585</td>\n",
       "      <td>0.461372</td>\n",
       "      <td>8.497690</td>\n",
       "      <td>8.505300</td>\n",
       "      <td>8.520524</td>\n",
       "    </tr>\n",
       "    <tr>\n",
       "      <th>4</th>\n",
       "      <td>17</td>\n",
       "      <td>B</td>\n",
       "      <td>B</td>\n",
       "      <td>A</td>\n",
       "      <td>C</td>\n",
       "      <td>B</td>\n",
       "      <td>C</td>\n",
       "      <td>A</td>\n",
       "      <td>E</td>\n",
       "      <td>C</td>\n",
       "      <td>...</td>\n",
       "      <td>0.408874</td>\n",
       "      <td>0.447887</td>\n",
       "      <td>0.390253</td>\n",
       "      <td>0.648932</td>\n",
       "      <td>0.385935</td>\n",
       "      <td>0.370401</td>\n",
       "      <td>0.900412</td>\n",
       "      <td>8.119550</td>\n",
       "      <td>8.124400</td>\n",
       "      <td>8.105719</td>\n",
       "    </tr>\n",
       "  </tbody>\n",
       "</table>\n",
       "<p>5 rows × 28 columns</p>\n",
       "</div>"
      ],
      "text/plain": [
       "   id cat0 cat1 cat2 cat3 cat4 cat5 cat6 cat7 cat8  ...     cont7     cont8  \\\n",
       "0   0    B    B    B    C    B    B    A    E    E  ...  0.321832  0.445212   \n",
       "1   5    A    B    A    C    B    C    A    E    C  ...  0.835961  0.391657   \n",
       "2  15    B    A    A    A    B    B    A    E    D  ...  0.879379  0.275549   \n",
       "3  16    B    B    A    C    B    D    A    E    A  ...  0.644315  1.024017   \n",
       "4  17    B    B    A    C    B    C    A    E    C  ...  0.408874  0.447887   \n",
       "\n",
       "      cont9    cont10    cont11    cont12    cont13    pred_1    pred_2  \\\n",
       "0  0.290258  0.244476  0.087914  0.301831  0.845702  8.069092  8.063132   \n",
       "1  0.288276  0.549568  0.905097  0.850684  0.693940  8.399485  8.393074   \n",
       "2  0.427871  0.491667  0.384315  0.376689  0.508099  8.402053  8.414242   \n",
       "3  0.391090  0.988340  0.411828  0.393585  0.461372  8.497690  8.505300   \n",
       "4  0.390253  0.648932  0.385935  0.370401  0.900412  8.119550  8.124400   \n",
       "\n",
       "     pred_3  \n",
       "0  8.085993  \n",
       "1  8.411225  \n",
       "2  8.418512  \n",
       "3  8.520524  \n",
       "4  8.105719  \n",
       "\n",
       "[5 rows x 28 columns]"
      ]
     },
     "execution_count": 4,
     "metadata": {},
     "output_type": "execute_result"
    }
   ],
   "source": [
    "df_test.head()"
   ]
  },
  {
   "cell_type": "code",
   "execution_count": 5,
   "id": "92f2f6e4",
   "metadata": {
    "execution": {
     "iopub.execute_input": "2021-08-31T15:03:12.705308Z",
     "iopub.status.busy": "2021-08-31T15:03:12.704439Z",
     "iopub.status.idle": "2021-08-31T15:03:12.708101Z",
     "shell.execute_reply": "2021-08-31T15:03:12.708591Z",
     "shell.execute_reply.started": "2021-08-30T12:01:26.599704Z"
    },
    "papermill": {
     "duration": 0.017751,
     "end_time": "2021-08-31T15:03:12.708778",
     "exception": false,
     "start_time": "2021-08-31T15:03:12.691027",
     "status": "completed"
    },
    "tags": []
   },
   "outputs": [],
   "source": [
    "# LGBMのパラメータを設定\n",
    "param = {\n",
    "    \"boosting_type\": \"gbdt\",\n",
    "    \"objective\": \"regression\",\n",
    "    \"metric\": \"fair\",\n",
    "    \"verbosity\": -1,\n",
    "    \"seed\": 42\n",
    "}"
   ]
  },
  {
   "cell_type": "code",
   "execution_count": 6,
   "id": "44483478",
   "metadata": {
    "execution": {
     "iopub.execute_input": "2021-08-31T15:03:12.741802Z",
     "iopub.status.busy": "2021-08-31T15:03:12.739559Z",
     "iopub.status.idle": "2021-08-31T16:01:36.166850Z",
     "shell.execute_reply": "2021-08-31T16:01:36.167657Z"
    },
    "papermill": {
     "duration": 3503.449788,
     "end_time": "2021-08-31T16:01:36.167928",
     "exception": false,
     "start_time": "2021-08-31T15:03:12.718140",
     "status": "completed"
    },
    "tags": []
   },
   "outputs": [
    {
     "name": "stderr",
     "output_type": "stream",
     "text": [
      "\u001b[32m[I 2021-08-31 15:03:12,902]\u001b[0m A new study created in memory with name: no-name-817d761b-a684-4cdc-9fe4-cb7c5a4b4831\u001b[0m\n",
      "feature_fraction, val_score: inf:   0%|          | 0/7 [00:00<?, ?it/s]"
     ]
    },
    {
     "name": "stdout",
     "output_type": "stream",
     "text": [
      "Training until validation scores don't improve for 300 rounds\n"
     ]
    },
    {
     "name": "stderr",
     "output_type": "stream",
     "text": [
      "feature_fraction, val_score: 0.153692:  14%|#4        | 1/7 [00:04<00:26,  4.36s/it]\u001b[32m[I 2021-08-31 15:03:17,265]\u001b[0m Trial 0 finished with value: 0.15369248461730467 and parameters: {'feature_fraction': 0.5}. Best is trial 0 with value: 0.15369248461730467.\u001b[0m\n",
      "feature_fraction, val_score: 0.153692:  14%|#4        | 1/7 [00:04<00:26,  4.36s/it]"
     ]
    },
    {
     "name": "stdout",
     "output_type": "stream",
     "text": [
      "Early stopping, best iteration is:\n",
      "[37]\ttrain's fair: 0.152872\tvalid's fair: 0.153692\n",
      "Training until validation scores don't improve for 300 rounds\n"
     ]
    },
    {
     "name": "stderr",
     "output_type": "stream",
     "text": [
      "feature_fraction, val_score: 0.153692:  29%|##8       | 2/7 [00:08<00:21,  4.28s/it]\u001b[32m[I 2021-08-31 15:03:21,495]\u001b[0m Trial 1 finished with value: 0.15369248461730467 and parameters: {'feature_fraction': 0.8}. Best is trial 0 with value: 0.15369248461730467.\u001b[0m\n",
      "feature_fraction, val_score: 0.153692:  29%|##8       | 2/7 [00:08<00:21,  4.28s/it]"
     ]
    },
    {
     "name": "stdout",
     "output_type": "stream",
     "text": [
      "Early stopping, best iteration is:\n",
      "[37]\ttrain's fair: 0.152872\tvalid's fair: 0.153692\n",
      "Training until validation scores don't improve for 300 rounds\n"
     ]
    },
    {
     "name": "stderr",
     "output_type": "stream",
     "text": [
      "feature_fraction, val_score: 0.153653:  43%|####2     | 3/7 [00:12<00:16,  4.24s/it]\u001b[32m[I 2021-08-31 15:03:25,686]\u001b[0m Trial 2 finished with value: 0.15365301460717373 and parameters: {'feature_fraction': 0.8999999999999999}. Best is trial 2 with value: 0.15365301460717373.\u001b[0m\n",
      "feature_fraction, val_score: 0.153653:  43%|####2     | 3/7 [00:12<00:16,  4.24s/it]"
     ]
    },
    {
     "name": "stdout",
     "output_type": "stream",
     "text": [
      "Early stopping, best iteration is:\n",
      "[31]\ttrain's fair: 0.152829\tvalid's fair: 0.153653\n",
      "Training until validation scores don't improve for 300 rounds\n"
     ]
    },
    {
     "name": "stderr",
     "output_type": "stream",
     "text": [
      "feature_fraction, val_score: 0.153653:  57%|#####7    | 4/7 [00:19<00:15,  5.28s/it]\u001b[32m[I 2021-08-31 15:03:32,570]\u001b[0m Trial 3 finished with value: 0.1536837569702521 and parameters: {'feature_fraction': 0.4}. Best is trial 2 with value: 0.15365301460717373.\u001b[0m\n",
      "feature_fraction, val_score: 0.153653:  57%|#####7    | 4/7 [00:19<00:15,  5.28s/it]"
     ]
    },
    {
     "name": "stdout",
     "output_type": "stream",
     "text": [
      "Early stopping, best iteration is:\n",
      "[50]\ttrain's fair: 0.15309\tvalid's fair: 0.153684\n",
      "Training until validation scores don't improve for 300 rounds\n"
     ]
    },
    {
     "name": "stderr",
     "output_type": "stream",
     "text": [
      "feature_fraction, val_score: 0.153653:  71%|#######1  | 5/7 [00:24<00:10,  5.24s/it]\u001b[32m[I 2021-08-31 15:03:37,731]\u001b[0m Trial 4 finished with value: 0.15365301460717373 and parameters: {'feature_fraction': 1.0}. Best is trial 2 with value: 0.15365301460717373.\u001b[0m\n",
      "feature_fraction, val_score: 0.153653:  71%|#######1  | 5/7 [00:24<00:10,  5.24s/it]"
     ]
    },
    {
     "name": "stdout",
     "output_type": "stream",
     "text": [
      "Early stopping, best iteration is:\n",
      "[31]\ttrain's fair: 0.152829\tvalid's fair: 0.153653\n",
      "Training until validation scores don't improve for 300 rounds\n"
     ]
    },
    {
     "name": "stderr",
     "output_type": "stream",
     "text": [
      "feature_fraction, val_score: 0.153653:  86%|########5 | 6/7 [00:29<00:04,  4.91s/it]\u001b[32m[I 2021-08-31 15:03:41,999]\u001b[0m Trial 5 finished with value: 0.15369248461730467 and parameters: {'feature_fraction': 0.6}. Best is trial 2 with value: 0.15365301460717373.\u001b[0m\n",
      "feature_fraction, val_score: 0.153653:  86%|########5 | 6/7 [00:29<00:04,  4.91s/it]"
     ]
    },
    {
     "name": "stdout",
     "output_type": "stream",
     "text": [
      "Early stopping, best iteration is:\n",
      "[37]\ttrain's fair: 0.152872\tvalid's fair: 0.153692\n",
      "Training until validation scores don't improve for 300 rounds\n"
     ]
    },
    {
     "name": "stderr",
     "output_type": "stream",
     "text": [
      "feature_fraction, val_score: 0.153653: 100%|##########| 7/7 [00:33<00:00,  4.69s/it]\u001b[32m[I 2021-08-31 15:03:46,251]\u001b[0m Trial 6 finished with value: 0.15369248461730467 and parameters: {'feature_fraction': 0.7}. Best is trial 2 with value: 0.15365301460717373.\u001b[0m\n",
      "feature_fraction, val_score: 0.153653: 100%|##########| 7/7 [00:33<00:00,  4.76s/it]\n",
      "num_leaves, val_score: 0.153653:   0%|          | 0/20 [00:00<?, ?it/s]"
     ]
    },
    {
     "name": "stdout",
     "output_type": "stream",
     "text": [
      "Early stopping, best iteration is:\n",
      "[37]\ttrain's fair: 0.152872\tvalid's fair: 0.153692\n",
      "Training until validation scores don't improve for 300 rounds\n"
     ]
    },
    {
     "name": "stderr",
     "output_type": "stream",
     "text": [
      "num_leaves, val_score: 0.153653:   5%|5         | 1/20 [00:04<01:28,  4.67s/it]\u001b[32m[I 2021-08-31 15:03:50,923]\u001b[0m Trial 7 finished with value: 0.15366762397981068 and parameters: {'num_leaves': 45}. Best is trial 7 with value: 0.15366762397981068.\u001b[0m\n",
      "num_leaves, val_score: 0.153653:   5%|5         | 1/20 [00:04<01:28,  4.67s/it]"
     ]
    },
    {
     "name": "stdout",
     "output_type": "stream",
     "text": [
      "Early stopping, best iteration is:\n",
      "[33]\ttrain's fair: 0.152639\tvalid's fair: 0.153668\n",
      "Training until validation scores don't improve for 300 rounds\n"
     ]
    },
    {
     "name": "stderr",
     "output_type": "stream",
     "text": [
      "num_leaves, val_score: 0.153653:  10%|#         | 2/20 [00:09<01:21,  4.54s/it]\u001b[32m[I 2021-08-31 15:03:55,382]\u001b[0m Trial 8 finished with value: 0.15365889373927158 and parameters: {'num_leaves': 46}. Best is trial 8 with value: 0.15365889373927158.\u001b[0m\n",
      "num_leaves, val_score: 0.153653:  10%|#         | 2/20 [00:09<01:21,  4.54s/it]"
     ]
    },
    {
     "name": "stdout",
     "output_type": "stream",
     "text": [
      "Early stopping, best iteration is:\n",
      "[30]\ttrain's fair: 0.152681\tvalid's fair: 0.153659\n",
      "Training until validation scores don't improve for 300 rounds\n"
     ]
    },
    {
     "name": "stderr",
     "output_type": "stream",
     "text": [
      "num_leaves, val_score: 0.153653:  15%|#5        | 3/20 [00:16<01:39,  5.86s/it]\u001b[32m[I 2021-08-31 15:04:02,815]\u001b[0m Trial 9 finished with value: 0.15388460448973257 and parameters: {'num_leaves': 209}. Best is trial 8 with value: 0.15365889373927158.\u001b[0m\n",
      "num_leaves, val_score: 0.153653:  15%|#5        | 3/20 [00:16<01:39,  5.86s/it]"
     ]
    },
    {
     "name": "stdout",
     "output_type": "stream",
     "text": [
      "Early stopping, best iteration is:\n",
      "[23]\ttrain's fair: 0.151577\tvalid's fair: 0.153885\n",
      "Training until validation scores don't improve for 300 rounds\n"
     ]
    },
    {
     "name": "stderr",
     "output_type": "stream",
     "text": [
      "num_leaves, val_score: 0.153653:  20%|##        | 4/20 [00:21<01:30,  5.68s/it]\u001b[32m[I 2021-08-31 15:04:08,225]\u001b[0m Trial 10 finished with value: 0.15368413865884561 and parameters: {'num_leaves': 66}. Best is trial 8 with value: 0.15365889373927158.\u001b[0m\n",
      "num_leaves, val_score: 0.153653:  20%|##        | 4/20 [00:21<01:30,  5.68s/it]"
     ]
    },
    {
     "name": "stdout",
     "output_type": "stream",
     "text": [
      "Early stopping, best iteration is:\n",
      "[30]\ttrain's fair: 0.152472\tvalid's fair: 0.153684\n",
      "Training until validation scores don't improve for 300 rounds\n"
     ]
    },
    {
     "name": "stderr",
     "output_type": "stream",
     "text": [
      "num_leaves, val_score: 0.153653:  25%|##5       | 5/20 [00:29<01:34,  6.31s/it]\u001b[32m[I 2021-08-31 15:04:15,648]\u001b[0m Trial 11 finished with value: 0.15385328363037395 and parameters: {'num_leaves': 200}. Best is trial 8 with value: 0.15365889373927158.\u001b[0m\n",
      "num_leaves, val_score: 0.153653:  25%|##5       | 5/20 [00:29<01:34,  6.31s/it]"
     ]
    },
    {
     "name": "stdout",
     "output_type": "stream",
     "text": [
      "Early stopping, best iteration is:\n",
      "[24]\ttrain's fair: 0.151564\tvalid's fair: 0.153853\n",
      "Training until validation scores don't improve for 300 rounds\n"
     ]
    },
    {
     "name": "stderr",
     "output_type": "stream",
     "text": [
      "num_leaves, val_score: 0.153653:  30%|###       | 6/20 [00:36<01:33,  6.68s/it]\u001b[32m[I 2021-08-31 15:04:23,058]\u001b[0m Trial 12 finished with value: 0.15384287010882938 and parameters: {'num_leaves': 221}. Best is trial 8 with value: 0.15365889373927158.\u001b[0m\n",
      "num_leaves, val_score: 0.153653:  30%|###       | 6/20 [00:36<01:33,  6.68s/it]"
     ]
    },
    {
     "name": "stdout",
     "output_type": "stream",
     "text": [
      "Early stopping, best iteration is:\n",
      "[24]\ttrain's fair: 0.151413\tvalid's fair: 0.153843\n",
      "Training until validation scores don't improve for 300 rounds\n"
     ]
    },
    {
     "name": "stderr",
     "output_type": "stream",
     "text": [
      "num_leaves, val_score: 0.153574:  35%|###5      | 7/20 [00:40<01:15,  5.78s/it]\u001b[32m[I 2021-08-31 15:04:26,988]\u001b[0m Trial 13 finished with value: 0.1535739457599417 and parameters: {'num_leaves': 9}. Best is trial 13 with value: 0.1535739457599417.\u001b[0m\n",
      "num_leaves, val_score: 0.153574:  35%|###5      | 7/20 [00:40<01:15,  5.78s/it]"
     ]
    },
    {
     "name": "stdout",
     "output_type": "stream",
     "text": [
      "Early stopping, best iteration is:\n",
      "[64]\ttrain's fair: 0.152982\tvalid's fair: 0.153574\n",
      "Training until validation scores don't improve for 300 rounds\n"
     ]
    },
    {
     "name": "stderr",
     "output_type": "stream",
     "text": [
      "num_leaves, val_score: 0.153574:  40%|####      | 8/20 [00:46<01:10,  5.87s/it]\u001b[32m[I 2021-08-31 15:04:33,051]\u001b[0m Trial 14 finished with value: 0.15374264481814007 and parameters: {'num_leaves': 121}. Best is trial 13 with value: 0.1535739457599417.\u001b[0m\n",
      "num_leaves, val_score: 0.153574:  40%|####      | 8/20 [00:46<01:10,  5.87s/it]"
     ]
    },
    {
     "name": "stdout",
     "output_type": "stream",
     "text": [
      "Early stopping, best iteration is:\n",
      "[25]\ttrain's fair: 0.152118\tvalid's fair: 0.153743\n",
      "Training until validation scores don't improve for 300 rounds\n"
     ]
    },
    {
     "name": "stderr",
     "output_type": "stream",
     "text": [
      "num_leaves, val_score: 0.153574:  45%|####5     | 9/20 [00:53<01:06,  6.08s/it]\u001b[32m[I 2021-08-31 15:04:39,598]\u001b[0m Trial 15 finished with value: 0.1537829784573854 and parameters: {'num_leaves': 172}. Best is trial 13 with value: 0.1535739457599417.\u001b[0m\n",
      "num_leaves, val_score: 0.153574:  45%|####5     | 9/20 [00:53<01:06,  6.08s/it]"
     ]
    },
    {
     "name": "stdout",
     "output_type": "stream",
     "text": [
      "Early stopping, best iteration is:\n",
      "[27]\ttrain's fair: 0.151598\tvalid's fair: 0.153783\n",
      "Training until validation scores don't improve for 300 rounds\n"
     ]
    },
    {
     "name": "stderr",
     "output_type": "stream",
     "text": [
      "num_leaves, val_score: 0.153574:  50%|#####     | 10/20 [01:00<01:05,  6.51s/it]\u001b[32m[I 2021-08-31 15:04:47,047]\u001b[0m Trial 16 finished with value: 0.15391175434195065 and parameters: {'num_leaves': 231}. Best is trial 13 with value: 0.1535739457599417.\u001b[0m\n",
      "num_leaves, val_score: 0.153574:  50%|#####     | 10/20 [01:00<01:05,  6.51s/it]"
     ]
    },
    {
     "name": "stdout",
     "output_type": "stream",
     "text": [
      "Early stopping, best iteration is:\n",
      "[22]\ttrain's fair: 0.151507\tvalid's fair: 0.153912\n",
      "Training until validation scores don't improve for 300 rounds\n"
     ]
    },
    {
     "name": "stderr",
     "output_type": "stream",
     "text": [
      "num_leaves, val_score: 0.153574:  55%|#####5    | 11/20 [01:05<00:53,  5.93s/it]\u001b[32m[I 2021-08-31 15:04:51,668]\u001b[0m Trial 17 finished with value: 0.15360242480339223 and parameters: {'num_leaves': 12}. Best is trial 13 with value: 0.1535739457599417.\u001b[0m\n",
      "num_leaves, val_score: 0.153574:  55%|#####5    | 11/20 [01:05<00:53,  5.93s/it]"
     ]
    },
    {
     "name": "stdout",
     "output_type": "stream",
     "text": [
      "Early stopping, best iteration is:\n",
      "[35]\ttrain's fair: 0.153021\tvalid's fair: 0.153602\n",
      "Training until validation scores don't improve for 300 rounds\n"
     ]
    },
    {
     "name": "stderr",
     "output_type": "stream",
     "text": [
      "num_leaves, val_score: 0.153574:  60%|######    | 12/20 [01:09<00:42,  5.36s/it]\u001b[32m[I 2021-08-31 15:04:55,714]\u001b[0m Trial 18 finished with value: 0.15357394575994174 and parameters: {'num_leaves': 9}. Best is trial 13 with value: 0.1535739457599417.\u001b[0m\n",
      "num_leaves, val_score: 0.153574:  60%|######    | 12/20 [01:09<00:42,  5.36s/it]"
     ]
    },
    {
     "name": "stdout",
     "output_type": "stream",
     "text": [
      "Early stopping, best iteration is:\n",
      "[64]\ttrain's fair: 0.152982\tvalid's fair: 0.153574\n",
      "Training until validation scores don't improve for 300 rounds\n"
     ]
    },
    {
     "name": "stderr",
     "output_type": "stream",
     "text": [
      "num_leaves, val_score: 0.153574:  65%|######5   | 13/20 [01:12<00:33,  4.74s/it]\u001b[32m[I 2021-08-31 15:04:59,039]\u001b[0m Trial 19 finished with value: 0.15359006239506132 and parameters: {'num_leaves': 4}. Best is trial 13 with value: 0.1535739457599417.\u001b[0m\n",
      "num_leaves, val_score: 0.153574:  65%|######5   | 13/20 [01:12<00:33,  4.74s/it]"
     ]
    },
    {
     "name": "stdout",
     "output_type": "stream",
     "text": [
      "Early stopping, best iteration is:\n",
      "[49]\ttrain's fair: 0.153082\tvalid's fair: 0.15359\n",
      "Training until validation scores don't improve for 300 rounds\n"
     ]
    },
    {
     "name": "stderr",
     "output_type": "stream",
     "text": [
      "num_leaves, val_score: 0.153574:  70%|#######   | 14/20 [01:18<00:29,  4.99s/it]\u001b[32m[I 2021-08-31 15:05:04,602]\u001b[0m Trial 20 finished with value: 0.1537058896256898 and parameters: {'num_leaves': 93}. Best is trial 13 with value: 0.1535739457599417.\u001b[0m\n",
      "num_leaves, val_score: 0.153574:  70%|#######   | 14/20 [01:18<00:29,  4.99s/it]"
     ]
    },
    {
     "name": "stdout",
     "output_type": "stream",
     "text": [
      "Early stopping, best iteration is:\n",
      "[29]\ttrain's fair: 0.152189\tvalid's fair: 0.153706\n",
      "Training until validation scores don't improve for 300 rounds\n"
     ]
    },
    {
     "name": "stderr",
     "output_type": "stream",
     "text": [
      "num_leaves, val_score: 0.153574:  75%|#######5  | 15/20 [01:22<00:23,  4.76s/it]\u001b[32m[I 2021-08-31 15:05:08,822]\u001b[0m Trial 21 finished with value: 0.15357749747104335 and parameters: {'num_leaves': 13}. Best is trial 13 with value: 0.1535739457599417.\u001b[0m\n",
      "num_leaves, val_score: 0.153574:  75%|#######5  | 15/20 [01:22<00:23,  4.76s/it]"
     ]
    },
    {
     "name": "stdout",
     "output_type": "stream",
     "text": [
      "Early stopping, best iteration is:\n",
      "[73]\ttrain's fair: 0.152862\tvalid's fair: 0.153577\n",
      "Training until validation scores don't improve for 300 rounds\n"
     ]
    },
    {
     "name": "stderr",
     "output_type": "stream",
     "text": [
      "num_leaves, val_score: 0.153574:  80%|########  | 16/20 [01:27<00:19,  4.84s/it]\u001b[32m[I 2021-08-31 15:05:13,861]\u001b[0m Trial 22 finished with value: 0.15373895299839077 and parameters: {'num_leaves': 81}. Best is trial 13 with value: 0.1535739457599417.\u001b[0m\n",
      "num_leaves, val_score: 0.153574:  80%|########  | 16/20 [01:27<00:19,  4.84s/it]"
     ]
    },
    {
     "name": "stdout",
     "output_type": "stream",
     "text": [
      "Early stopping, best iteration is:\n",
      "[25]\ttrain's fair: 0.15245\tvalid's fair: 0.153739\n",
      "Training until validation scores don't improve for 300 rounds\n"
     ]
    },
    {
     "name": "stderr",
     "output_type": "stream",
     "text": [
      "num_leaves, val_score: 0.153574:  85%|########5 | 17/20 [01:32<00:14,  4.71s/it]\u001b[32m[I 2021-08-31 15:05:18,270]\u001b[0m Trial 23 finished with value: 0.15361964267344394 and parameters: {'num_leaves': 38}. Best is trial 13 with value: 0.1535739457599417.\u001b[0m\n",
      "num_leaves, val_score: 0.153574:  85%|########5 | 17/20 [01:32<00:14,  4.71s/it]"
     ]
    },
    {
     "name": "stdout",
     "output_type": "stream",
     "text": [
      "Early stopping, best iteration is:\n",
      "[34]\ttrain's fair: 0.1527\tvalid's fair: 0.15362\n",
      "Training until validation scores don't improve for 300 rounds\n"
     ]
    },
    {
     "name": "stderr",
     "output_type": "stream",
     "text": [
      "num_leaves, val_score: 0.153574:  90%|######### | 18/20 [01:37<00:10,  5.07s/it]\u001b[32m[I 2021-08-31 15:05:24,176]\u001b[0m Trial 24 finished with value: 0.15378165549333198 and parameters: {'num_leaves': 129}. Best is trial 13 with value: 0.1535739457599417.\u001b[0m\n",
      "num_leaves, val_score: 0.153574:  90%|######### | 18/20 [01:37<00:10,  5.07s/it]"
     ]
    },
    {
     "name": "stdout",
     "output_type": "stream",
     "text": [
      "Early stopping, best iteration is:\n",
      "[26]\ttrain's fair: 0.151993\tvalid's fair: 0.153782\n",
      "Training until validation scores don't improve for 300 rounds\n"
     ]
    },
    {
     "name": "stderr",
     "output_type": "stream",
     "text": [
      "num_leaves, val_score: 0.153574:  95%|#########5| 19/20 [01:41<00:04,  4.76s/it]\u001b[32m[I 2021-08-31 15:05:28,219]\u001b[0m Trial 25 finished with value: 0.1535739457599417 and parameters: {'num_leaves': 9}. Best is trial 13 with value: 0.1535739457599417.\u001b[0m\n",
      "num_leaves, val_score: 0.153574:  95%|#########5| 19/20 [01:41<00:04,  4.76s/it]"
     ]
    },
    {
     "name": "stdout",
     "output_type": "stream",
     "text": [
      "Early stopping, best iteration is:\n",
      "[64]\ttrain's fair: 0.152982\tvalid's fair: 0.153574\n",
      "Training until validation scores don't improve for 300 rounds\n"
     ]
    },
    {
     "name": "stderr",
     "output_type": "stream",
     "text": [
      "num_leaves, val_score: 0.153574: 100%|##########| 20/20 [01:50<00:00,  6.02s/it]\u001b[32m[I 2021-08-31 15:05:37,161]\u001b[0m Trial 26 finished with value: 0.15395130360465373 and parameters: {'num_leaves': 256}. Best is trial 13 with value: 0.1535739457599417.\u001b[0m\n",
      "num_leaves, val_score: 0.153574: 100%|##########| 20/20 [01:50<00:00,  5.55s/it]\n",
      "bagging, val_score: 0.153574:   0%|          | 0/10 [00:00<?, ?it/s]"
     ]
    },
    {
     "name": "stdout",
     "output_type": "stream",
     "text": [
      "Early stopping, best iteration is:\n",
      "[23]\ttrain's fair: 0.151266\tvalid's fair: 0.153951\n",
      "Training until validation scores don't improve for 300 rounds\n"
     ]
    },
    {
     "name": "stderr",
     "output_type": "stream",
     "text": [
      "bagging, val_score: 0.153574:  10%|#         | 1/10 [00:04<00:41,  4.58s/it]\u001b[32m[I 2021-08-31 15:05:41,751]\u001b[0m Trial 27 finished with value: 0.1535744283407213 and parameters: {'bagging_fraction': 0.6285029100409454, 'bagging_freq': 6}. Best is trial 27 with value: 0.1535744283407213.\u001b[0m\n",
      "bagging, val_score: 0.153574:  10%|#         | 1/10 [00:04<00:41,  4.58s/it]"
     ]
    },
    {
     "name": "stdout",
     "output_type": "stream",
     "text": [
      "Early stopping, best iteration is:\n",
      "[36]\ttrain's fair: 0.153059\tvalid's fair: 0.153574\n",
      "Training until validation scores don't improve for 300 rounds\n"
     ]
    },
    {
     "name": "stderr",
     "output_type": "stream",
     "text": [
      "bagging, val_score: 0.153572:  20%|##        | 2/10 [00:09<00:37,  4.66s/it]\u001b[32m[I 2021-08-31 15:05:46,466]\u001b[0m Trial 28 finished with value: 0.15357183928015164 and parameters: {'bagging_fraction': 0.6168759197808421, 'bagging_freq': 5}. Best is trial 28 with value: 0.15357183928015164.\u001b[0m\n",
      "bagging, val_score: 0.153572:  20%|##        | 2/10 [00:09<00:37,  4.66s/it]"
     ]
    },
    {
     "name": "stdout",
     "output_type": "stream",
     "text": [
      "Early stopping, best iteration is:\n",
      "[39]\ttrain's fair: 0.153053\tvalid's fair: 0.153572\n",
      "Training until validation scores don't improve for 300 rounds\n"
     ]
    },
    {
     "name": "stderr",
     "output_type": "stream",
     "text": [
      "bagging, val_score: 0.153571:  30%|###       | 3/10 [00:14<00:33,  4.78s/it]\u001b[32m[I 2021-08-31 15:05:51,398]\u001b[0m Trial 29 finished with value: 0.15357057862960805 and parameters: {'bagging_fraction': 0.7734475411511649, 'bagging_freq': 4}. Best is trial 29 with value: 0.15357057862960805.\u001b[0m\n",
      "bagging, val_score: 0.153571:  30%|###       | 3/10 [00:14<00:33,  4.78s/it]"
     ]
    },
    {
     "name": "stdout",
     "output_type": "stream",
     "text": [
      "Early stopping, best iteration is:\n",
      "[52]\ttrain's fair: 0.153016\tvalid's fair: 0.153571\n",
      "Training until validation scores don't improve for 300 rounds\n"
     ]
    },
    {
     "name": "stderr",
     "output_type": "stream",
     "text": [
      "bagging, val_score: 0.153541:  40%|####      | 4/10 [00:19<00:28,  4.81s/it]\u001b[32m[I 2021-08-31 15:05:56,243]\u001b[0m Trial 30 finished with value: 0.1535405352538944 and parameters: {'bagging_fraction': 0.5678229749675924, 'bagging_freq': 2}. Best is trial 30 with value: 0.1535405352538944.\u001b[0m\n",
      "bagging, val_score: 0.153541:  40%|####      | 4/10 [00:19<00:28,  4.81s/it]"
     ]
    },
    {
     "name": "stdout",
     "output_type": "stream",
     "text": [
      "Early stopping, best iteration is:\n",
      "[36]\ttrain's fair: 0.15305\tvalid's fair: 0.153541\n",
      "Training until validation scores don't improve for 300 rounds\n"
     ]
    },
    {
     "name": "stderr",
     "output_type": "stream",
     "text": [
      "bagging, val_score: 0.153541:  50%|#####     | 5/10 [00:23<00:23,  4.75s/it]\u001b[32m[I 2021-08-31 15:06:00,900]\u001b[0m Trial 31 finished with value: 0.15360427379292502 and parameters: {'bagging_fraction': 0.9318057575876394, 'bagging_freq': 6}. Best is trial 30 with value: 0.1535405352538944.\u001b[0m\n",
      "bagging, val_score: 0.153541:  50%|#####     | 5/10 [00:23<00:23,  4.75s/it]"
     ]
    },
    {
     "name": "stdout",
     "output_type": "stream",
     "text": [
      "Early stopping, best iteration is:\n",
      "[36]\ttrain's fair: 0.153054\tvalid's fair: 0.153604\n",
      "Training until validation scores don't improve for 300 rounds\n"
     ]
    },
    {
     "name": "stderr",
     "output_type": "stream",
     "text": [
      "bagging, val_score: 0.153541:  60%|######    | 6/10 [00:28<00:18,  4.71s/it]\u001b[32m[I 2021-08-31 15:06:05,537]\u001b[0m Trial 32 finished with value: 0.15355108037998405 and parameters: {'bagging_fraction': 0.5793814436723312, 'bagging_freq': 6}. Best is trial 30 with value: 0.1535405352538944.\u001b[0m\n",
      "bagging, val_score: 0.153541:  60%|######    | 6/10 [00:28<00:18,  4.71s/it]"
     ]
    },
    {
     "name": "stdout",
     "output_type": "stream",
     "text": [
      "Early stopping, best iteration is:\n",
      "[38]\ttrain's fair: 0.153057\tvalid's fair: 0.153551\n",
      "Training until validation scores don't improve for 300 rounds\n"
     ]
    },
    {
     "name": "stderr",
     "output_type": "stream",
     "text": [
      "bagging, val_score: 0.153541:  70%|#######   | 7/10 [00:32<00:13,  4.66s/it]\u001b[32m[I 2021-08-31 15:06:10,085]\u001b[0m Trial 33 finished with value: 0.15357991880591496 and parameters: {'bagging_fraction': 0.8054921289714341, 'bagging_freq': 3}. Best is trial 30 with value: 0.1535405352538944.\u001b[0m\n",
      "bagging, val_score: 0.153541:  70%|#######   | 7/10 [00:32<00:13,  4.66s/it]"
     ]
    },
    {
     "name": "stdout",
     "output_type": "stream",
     "text": [
      "Early stopping, best iteration is:\n",
      "[39]\ttrain's fair: 0.153043\tvalid's fair: 0.15358\n",
      "Training until validation scores don't improve for 300 rounds\n"
     ]
    },
    {
     "name": "stderr",
     "output_type": "stream",
     "text": [
      "bagging, val_score: 0.153541:  80%|########  | 8/10 [00:38<00:09,  4.91s/it]\u001b[32m[I 2021-08-31 15:06:15,538]\u001b[0m Trial 34 finished with value: 0.1535873168726761 and parameters: {'bagging_fraction': 0.9230006196937438, 'bagging_freq': 6}. Best is trial 30 with value: 0.1535405352538944.\u001b[0m\n",
      "bagging, val_score: 0.153541:  80%|########  | 8/10 [00:38<00:09,  4.91s/it]"
     ]
    },
    {
     "name": "stdout",
     "output_type": "stream",
     "text": [
      "Early stopping, best iteration is:\n",
      "[36]\ttrain's fair: 0.153059\tvalid's fair: 0.153587\n",
      "Training until validation scores don't improve for 300 rounds\n"
     ]
    },
    {
     "name": "stderr",
     "output_type": "stream",
     "text": [
      "bagging, val_score: 0.153541:  90%|######### | 9/10 [00:43<00:04,  4.98s/it]\u001b[32m[I 2021-08-31 15:06:20,670]\u001b[0m Trial 35 finished with value: 0.15356700058386336 and parameters: {'bagging_fraction': 0.7089008706296123, 'bagging_freq': 7}. Best is trial 30 with value: 0.1535405352538944.\u001b[0m\n",
      "bagging, val_score: 0.153541:  90%|######### | 9/10 [00:43<00:04,  4.98s/it]"
     ]
    },
    {
     "name": "stdout",
     "output_type": "stream",
     "text": [
      "Early stopping, best iteration is:\n",
      "[79]\ttrain's fair: 0.152963\tvalid's fair: 0.153567\n",
      "Training until validation scores don't improve for 300 rounds\n"
     ]
    },
    {
     "name": "stderr",
     "output_type": "stream",
     "text": [
      "bagging, val_score: 0.153541: 100%|##########| 10/10 [00:48<00:00,  4.94s/it]\u001b[32m[I 2021-08-31 15:06:25,524]\u001b[0m Trial 36 finished with value: 0.1535711046461414 and parameters: {'bagging_fraction': 0.7444605763703629, 'bagging_freq': 2}. Best is trial 30 with value: 0.1535405352538944.\u001b[0m\n",
      "bagging, val_score: 0.153541: 100%|##########| 10/10 [00:48<00:00,  4.84s/it]\n",
      "feature_fraction_stage2, val_score: 0.153541:   0%|          | 0/6 [00:00<?, ?it/s]"
     ]
    },
    {
     "name": "stdout",
     "output_type": "stream",
     "text": [
      "Early stopping, best iteration is:\n",
      "[36]\ttrain's fair: 0.153058\tvalid's fair: 0.153571\n",
      "Training until validation scores don't improve for 300 rounds\n"
     ]
    },
    {
     "name": "stderr",
     "output_type": "stream",
     "text": [
      "feature_fraction_stage2, val_score: 0.153541:  17%|#6        | 1/6 [00:04<00:24,  4.83s/it]\u001b[32m[I 2021-08-31 15:06:30,364]\u001b[0m Trial 37 finished with value: 0.1535405352538944 and parameters: {'feature_fraction': 0.9799999999999999}. Best is trial 37 with value: 0.1535405352538944.\u001b[0m\n",
      "feature_fraction_stage2, val_score: 0.153541:  17%|#6        | 1/6 [00:04<00:24,  4.83s/it]"
     ]
    },
    {
     "name": "stdout",
     "output_type": "stream",
     "text": [
      "Early stopping, best iteration is:\n",
      "[36]\ttrain's fair: 0.15305\tvalid's fair: 0.153541\n",
      "Training until validation scores don't improve for 300 rounds\n"
     ]
    },
    {
     "name": "stderr",
     "output_type": "stream",
     "text": [
      "feature_fraction_stage2, val_score: 0.153541:  33%|###3      | 2/6 [00:09<00:20,  5.02s/it]\u001b[32m[I 2021-08-31 15:06:35,522]\u001b[0m Trial 38 finished with value: 0.15362399132927 and parameters: {'feature_fraction': 0.82}. Best is trial 37 with value: 0.1535405352538944.\u001b[0m\n",
      "feature_fraction_stage2, val_score: 0.153541:  33%|###3      | 2/6 [00:09<00:20,  5.02s/it]"
     ]
    },
    {
     "name": "stdout",
     "output_type": "stream",
     "text": [
      "Early stopping, best iteration is:\n",
      "[41]\ttrain's fair: 0.153083\tvalid's fair: 0.153624\n",
      "Training until validation scores don't improve for 300 rounds\n"
     ]
    },
    {
     "name": "stderr",
     "output_type": "stream",
     "text": [
      "feature_fraction_stage2, val_score: 0.153541:  50%|#####     | 3/6 [00:14<00:14,  4.96s/it]\u001b[32m[I 2021-08-31 15:06:40,413]\u001b[0m Trial 39 finished with value: 0.1535405352538944 and parameters: {'feature_fraction': 0.9159999999999999}. Best is trial 37 with value: 0.1535405352538944.\u001b[0m\n",
      "feature_fraction_stage2, val_score: 0.153541:  50%|#####     | 3/6 [00:14<00:14,  4.96s/it]"
     ]
    },
    {
     "name": "stdout",
     "output_type": "stream",
     "text": [
      "Early stopping, best iteration is:\n",
      "[36]\ttrain's fair: 0.15305\tvalid's fair: 0.153541\n",
      "Training until validation scores don't improve for 300 rounds\n"
     ]
    },
    {
     "name": "stderr",
     "output_type": "stream",
     "text": [
      "feature_fraction_stage2, val_score: 0.153541:  67%|######6   | 4/6 [00:19<00:10,  5.01s/it]\u001b[32m[I 2021-08-31 15:06:45,505]\u001b[0m Trial 40 finished with value: 0.15354053525389444 and parameters: {'feature_fraction': 0.852}. Best is trial 37 with value: 0.1535405352538944.\u001b[0m\n",
      "feature_fraction_stage2, val_score: 0.153541:  67%|######6   | 4/6 [00:19<00:10,  5.01s/it]"
     ]
    },
    {
     "name": "stdout",
     "output_type": "stream",
     "text": [
      "Early stopping, best iteration is:\n",
      "[36]\ttrain's fair: 0.15305\tvalid's fair: 0.153541\n",
      "Training until validation scores don't improve for 300 rounds\n"
     ]
    },
    {
     "name": "stderr",
     "output_type": "stream",
     "text": [
      "feature_fraction_stage2, val_score: 0.153541:  83%|########3 | 5/6 [00:25<00:05,  5.24s/it]\u001b[32m[I 2021-08-31 15:06:51,149]\u001b[0m Trial 41 finished with value: 0.15354053525389444 and parameters: {'feature_fraction': 0.8839999999999999}. Best is trial 37 with value: 0.1535405352538944.\u001b[0m\n",
      "feature_fraction_stage2, val_score: 0.153541:  83%|########3 | 5/6 [00:25<00:05,  5.24s/it]"
     ]
    },
    {
     "name": "stdout",
     "output_type": "stream",
     "text": [
      "Early stopping, best iteration is:\n",
      "[36]\ttrain's fair: 0.15305\tvalid's fair: 0.153541\n",
      "Training until validation scores don't improve for 300 rounds\n"
     ]
    },
    {
     "name": "stderr",
     "output_type": "stream",
     "text": [
      "feature_fraction_stage2, val_score: 0.153541: 100%|##########| 6/6 [00:30<00:00,  5.15s/it]\u001b[32m[I 2021-08-31 15:06:56,125]\u001b[0m Trial 42 finished with value: 0.15354053525389444 and parameters: {'feature_fraction': 0.948}. Best is trial 37 with value: 0.1535405352538944.\u001b[0m\n",
      "feature_fraction_stage2, val_score: 0.153541: 100%|##########| 6/6 [00:30<00:00,  5.10s/it]\n",
      "regularization_factors, val_score: 0.153541:   0%|          | 0/20 [00:00<?, ?it/s]"
     ]
    },
    {
     "name": "stdout",
     "output_type": "stream",
     "text": [
      "Early stopping, best iteration is:\n",
      "[36]\ttrain's fair: 0.15305\tvalid's fair: 0.153541\n",
      "Training until validation scores don't improve for 300 rounds\n"
     ]
    },
    {
     "name": "stderr",
     "output_type": "stream",
     "text": [
      "regularization_factors, val_score: 0.153541:   5%|5         | 1/20 [00:04<01:33,  4.91s/it]\u001b[32m[I 2021-08-31 15:07:01,046]\u001b[0m Trial 43 finished with value: 0.1535494303340194 and parameters: {'lambda_l1': 1.3696657294663923e-06, 'lambda_l2': 2.5664563613870297}. Best is trial 43 with value: 0.1535494303340194.\u001b[0m\n",
      "regularization_factors, val_score: 0.153541:   5%|5         | 1/20 [00:04<01:33,  4.91s/it]"
     ]
    },
    {
     "name": "stdout",
     "output_type": "stream",
     "text": [
      "Early stopping, best iteration is:\n",
      "[36]\ttrain's fair: 0.153053\tvalid's fair: 0.153549\n",
      "Training until validation scores don't improve for 300 rounds\n"
     ]
    },
    {
     "name": "stderr",
     "output_type": "stream",
     "text": [
      "regularization_factors, val_score: 0.153541:  10%|#         | 2/20 [00:09<01:28,  4.92s/it]\u001b[32m[I 2021-08-31 15:07:05,963]\u001b[0m Trial 44 finished with value: 0.15354053547716873 and parameters: {'lambda_l1': 0.0003838128979475426, 'lambda_l2': 4.6639838045780516e-06}. Best is trial 44 with value: 0.15354053547716873.\u001b[0m\n",
      "regularization_factors, val_score: 0.153541:  10%|#         | 2/20 [00:09<01:28,  4.92s/it]"
     ]
    },
    {
     "name": "stdout",
     "output_type": "stream",
     "text": [
      "Early stopping, best iteration is:\n",
      "[36]\ttrain's fair: 0.15305\tvalid's fair: 0.153541\n",
      "Training until validation scores don't improve for 300 rounds\n"
     ]
    },
    {
     "name": "stderr",
     "output_type": "stream",
     "text": [
      "regularization_factors, val_score: 0.153541:  15%|#5        | 3/20 [00:15<01:25,  5.04s/it]\u001b[32m[I 2021-08-31 15:07:11,146]\u001b[0m Trial 45 finished with value: 0.15354925060612662 and parameters: {'lambda_l1': 0.2100819727451631, 'lambda_l2': 0.12527334627597858}. Best is trial 44 with value: 0.15354053547716873.\u001b[0m\n",
      "regularization_factors, val_score: 0.153541:  15%|#5        | 3/20 [00:15<01:25,  5.04s/it]"
     ]
    },
    {
     "name": "stdout",
     "output_type": "stream",
     "text": [
      "Early stopping, best iteration is:\n",
      "[36]\ttrain's fair: 0.153052\tvalid's fair: 0.153549\n",
      "Training until validation scores don't improve for 300 rounds\n"
     ]
    },
    {
     "name": "stderr",
     "output_type": "stream",
     "text": [
      "regularization_factors, val_score: 0.153541:  20%|##        | 4/20 [00:19<01:19,  4.97s/it]\u001b[32m[I 2021-08-31 15:07:16,008]\u001b[0m Trial 46 finished with value: 0.15354635129203165 and parameters: {'lambda_l1': 0.01371500247499776, 'lambda_l2': 1.030272302894249}. Best is trial 44 with value: 0.15354053547716873.\u001b[0m\n",
      "regularization_factors, val_score: 0.153541:  20%|##        | 4/20 [00:19<01:19,  4.97s/it]"
     ]
    },
    {
     "name": "stdout",
     "output_type": "stream",
     "text": [
      "Early stopping, best iteration is:\n",
      "[36]\ttrain's fair: 0.153052\tvalid's fair: 0.153546\n",
      "Training until validation scores don't improve for 300 rounds\n"
     ]
    },
    {
     "name": "stderr",
     "output_type": "stream",
     "text": [
      "regularization_factors, val_score: 0.153541:  25%|##5       | 5/20 [00:25<01:18,  5.24s/it]\u001b[32m[I 2021-08-31 15:07:21,734]\u001b[0m Trial 47 finished with value: 0.153540538346126 and parameters: {'lambda_l1': 0.00019313419195108174, 'lambda_l2': 0.018292565136684504}. Best is trial 44 with value: 0.15354053547716873.\u001b[0m\n",
      "regularization_factors, val_score: 0.153541:  25%|##5       | 5/20 [00:25<01:18,  5.24s/it]"
     ]
    },
    {
     "name": "stdout",
     "output_type": "stream",
     "text": [
      "Early stopping, best iteration is:\n",
      "[36]\ttrain's fair: 0.15305\tvalid's fair: 0.153541\n",
      "Training until validation scores don't improve for 300 rounds\n"
     ]
    },
    {
     "name": "stderr",
     "output_type": "stream",
     "text": [
      "regularization_factors, val_score: 0.153541:  30%|###       | 6/20 [00:30<01:11,  5.09s/it]\u001b[32m[I 2021-08-31 15:07:26,535]\u001b[0m Trial 48 finished with value: 0.153541016239158 and parameters: {'lambda_l1': 0.014791607615783802, 'lambda_l2': 0.002662646127302855}. Best is trial 44 with value: 0.15354053547716873.\u001b[0m\n",
      "regularization_factors, val_score: 0.153541:  30%|###       | 6/20 [00:30<01:11,  5.09s/it]"
     ]
    },
    {
     "name": "stdout",
     "output_type": "stream",
     "text": [
      "Early stopping, best iteration is:\n",
      "[36]\ttrain's fair: 0.153051\tvalid's fair: 0.153541\n",
      "Training until validation scores don't improve for 300 rounds\n"
     ]
    },
    {
     "name": "stderr",
     "output_type": "stream",
     "text": [
      "regularization_factors, val_score: 0.153541:  35%|###5      | 7/20 [00:35<01:05,  5.05s/it]\u001b[32m[I 2021-08-31 15:07:31,485]\u001b[0m Trial 49 finished with value: 0.15354101608991408 and parameters: {'lambda_l1': 4.766069040021251e-08, 'lambda_l2': 0.04956564798058603}. Best is trial 44 with value: 0.15354053547716873.\u001b[0m\n",
      "regularization_factors, val_score: 0.153541:  35%|###5      | 7/20 [00:35<01:05,  5.05s/it]"
     ]
    },
    {
     "name": "stdout",
     "output_type": "stream",
     "text": [
      "Early stopping, best iteration is:\n",
      "[36]\ttrain's fair: 0.153051\tvalid's fair: 0.153541\n",
      "Training until validation scores don't improve for 300 rounds\n"
     ]
    },
    {
     "name": "stderr",
     "output_type": "stream",
     "text": [
      "regularization_factors, val_score: 0.153537:  40%|####      | 8/20 [00:40<01:00,  5.03s/it]\u001b[32m[I 2021-08-31 15:07:36,477]\u001b[0m Trial 50 finished with value: 0.15353707774449057 and parameters: {'lambda_l1': 8.395948548926492e-07, 'lambda_l2': 0.4395613909629617}. Best is trial 50 with value: 0.15353707774449057.\u001b[0m\n",
      "regularization_factors, val_score: 0.153537:  40%|####      | 8/20 [00:40<01:00,  5.03s/it]"
     ]
    },
    {
     "name": "stdout",
     "output_type": "stream",
     "text": [
      "Early stopping, best iteration is:\n",
      "[36]\ttrain's fair: 0.153051\tvalid's fair: 0.153537\n",
      "Training until validation scores don't improve for 300 rounds\n"
     ]
    },
    {
     "name": "stderr",
     "output_type": "stream",
     "text": [
      "regularization_factors, val_score: 0.153537:  45%|####5     | 9/20 [00:45<00:55,  5.03s/it]\u001b[32m[I 2021-08-31 15:07:41,496]\u001b[0m Trial 51 finished with value: 0.15353705987311586 and parameters: {'lambda_l1': 7.36253481057048e-05, 'lambda_l2': 0.36093521071015067}. Best is trial 51 with value: 0.15353705987311586.\u001b[0m\n",
      "regularization_factors, val_score: 0.153537:  45%|####5     | 9/20 [00:45<00:55,  5.03s/it]"
     ]
    },
    {
     "name": "stdout",
     "output_type": "stream",
     "text": [
      "Early stopping, best iteration is:\n",
      "[36]\ttrain's fair: 0.153051\tvalid's fair: 0.153537\n",
      "Training until validation scores don't improve for 300 rounds\n"
     ]
    },
    {
     "name": "stderr",
     "output_type": "stream",
     "text": [
      "regularization_factors, val_score: 0.153537:  50%|#####     | 10/20 [00:50<00:49,  4.97s/it]\u001b[32m[I 2021-08-31 15:07:46,357]\u001b[0m Trial 52 finished with value: 0.1535405352886531 and parameters: {'lambda_l1': 4.3753049700053975e-07, 'lambda_l2': 0.0002113522412827496}. Best is trial 51 with value: 0.15353705987311586.\u001b[0m\n",
      "regularization_factors, val_score: 0.153537:  50%|#####     | 10/20 [00:50<00:49,  4.97s/it]"
     ]
    },
    {
     "name": "stdout",
     "output_type": "stream",
     "text": [
      "Early stopping, best iteration is:\n",
      "[36]\ttrain's fair: 0.15305\tvalid's fair: 0.153541\n",
      "Training until validation scores don't improve for 300 rounds\n"
     ]
    },
    {
     "name": "stderr",
     "output_type": "stream",
     "text": [
      "regularization_factors, val_score: 0.153537:  55%|#####5    | 11/20 [00:55<00:46,  5.21s/it]\u001b[32m[I 2021-08-31 15:07:52,103]\u001b[0m Trial 53 finished with value: 0.15354053532224402 and parameters: {'lambda_l1': 0.00011642240462905695, 'lambda_l2': 1.3734422807711863e-08}. Best is trial 51 with value: 0.15353705987311586.\u001b[0m\n",
      "regularization_factors, val_score: 0.153537:  55%|#####5    | 11/20 [00:55<00:46,  5.21s/it]"
     ]
    },
    {
     "name": "stdout",
     "output_type": "stream",
     "text": [
      "Early stopping, best iteration is:\n",
      "[36]\ttrain's fair: 0.15305\tvalid's fair: 0.153541\n",
      "Training until validation scores don't improve for 300 rounds\n"
     ]
    },
    {
     "name": "stderr",
     "output_type": "stream",
     "text": [
      "regularization_factors, val_score: 0.153537:  60%|######    | 12/20 [01:00<00:40,  5.12s/it]\u001b[32m[I 2021-08-31 15:07:57,022]\u001b[0m Trial 54 finished with value: 0.1535540728542011 and parameters: {'lambda_l1': 6.8069386252693275e-06, 'lambda_l2': 9.502223001501859}. Best is trial 51 with value: 0.15353705987311586.\u001b[0m\n",
      "regularization_factors, val_score: 0.153537:  60%|######    | 12/20 [01:00<00:40,  5.12s/it]"
     ]
    },
    {
     "name": "stdout",
     "output_type": "stream",
     "text": [
      "Early stopping, best iteration is:\n",
      "[36]\ttrain's fair: 0.153054\tvalid's fair: 0.153554\n",
      "Training until validation scores don't improve for 300 rounds\n"
     ]
    },
    {
     "name": "stderr",
     "output_type": "stream",
     "text": [
      "regularization_factors, val_score: 0.153537:  65%|######5   | 13/20 [01:05<00:35,  5.07s/it]\u001b[32m[I 2021-08-31 15:08:01,967]\u001b[0m Trial 55 finished with value: 0.15354053527487993 and parameters: {'lambda_l1': 2.0064106089730446e-08, 'lambda_l2': 0.0001256127457089362}. Best is trial 51 with value: 0.15353705987311586.\u001b[0m\n",
      "regularization_factors, val_score: 0.153537:  65%|######5   | 13/20 [01:05<00:35,  5.07s/it]"
     ]
    },
    {
     "name": "stdout",
     "output_type": "stream",
     "text": [
      "Early stopping, best iteration is:\n",
      "[36]\ttrain's fair: 0.15305\tvalid's fair: 0.153541\n",
      "Training until validation scores don't improve for 300 rounds\n"
     ]
    },
    {
     "name": "stderr",
     "output_type": "stream",
     "text": [
      "regularization_factors, val_score: 0.153537:  70%|#######   | 14/20 [01:10<00:30,  5.04s/it]\u001b[32m[I 2021-08-31 15:08:06,949]\u001b[0m Trial 56 finished with value: 0.15355611152688808 and parameters: {'lambda_l1': 5.073889112482347e-06, 'lambda_l2': 8.329185220179504}. Best is trial 51 with value: 0.15353705987311586.\u001b[0m\n",
      "regularization_factors, val_score: 0.153537:  70%|#######   | 14/20 [01:10<00:30,  5.04s/it]"
     ]
    },
    {
     "name": "stdout",
     "output_type": "stream",
     "text": [
      "Early stopping, best iteration is:\n",
      "[36]\ttrain's fair: 0.153053\tvalid's fair: 0.153556\n",
      "Training until validation scores don't improve for 300 rounds\n"
     ]
    },
    {
     "name": "stderr",
     "output_type": "stream",
     "text": [
      "regularization_factors, val_score: 0.153537:  75%|#######5  | 15/20 [01:15<00:25,  5.03s/it]\u001b[32m[I 2021-08-31 15:08:11,959]\u001b[0m Trial 57 finished with value: 0.15353704355259348 and parameters: {'lambda_l1': 3.487982251560005e-05, 'lambda_l2': 0.2897835631294179}. Best is trial 57 with value: 0.15353704355259348.\u001b[0m\n",
      "regularization_factors, val_score: 0.153537:  75%|#######5  | 15/20 [01:15<00:25,  5.03s/it]"
     ]
    },
    {
     "name": "stdout",
     "output_type": "stream",
     "text": [
      "Early stopping, best iteration is:\n",
      "[36]\ttrain's fair: 0.153051\tvalid's fair: 0.153537\n",
      "Training until validation scores don't improve for 300 rounds\n"
     ]
    },
    {
     "name": "stderr",
     "output_type": "stream",
     "text": [
      "regularization_factors, val_score: 0.153537:  80%|########  | 16/20 [01:20<00:20,  5.03s/it]\u001b[32m[I 2021-08-31 15:08:16,988]\u001b[0m Trial 58 finished with value: 0.15354053743368126 and parameters: {'lambda_l1': 0.00276622583677951, 'lambda_l2': 0.0035777546692797907}. Best is trial 57 with value: 0.15353704355259348.\u001b[0m\n",
      "regularization_factors, val_score: 0.153537:  80%|########  | 16/20 [01:20<00:20,  5.03s/it]"
     ]
    },
    {
     "name": "stdout",
     "output_type": "stream",
     "text": [
      "Early stopping, best iteration is:\n",
      "[36]\ttrain's fair: 0.15305\tvalid's fair: 0.153541\n",
      "Training until validation scores don't improve for 300 rounds\n"
     ]
    },
    {
     "name": "stderr",
     "output_type": "stream",
     "text": [
      "regularization_factors, val_score: 0.153537:  85%|########5 | 17/20 [01:25<00:14,  4.98s/it]\u001b[32m[I 2021-08-31 15:08:21,864]\u001b[0m Trial 59 finished with value: 0.1535405352924612 and parameters: {'lambda_l1': 6.275677536210789e-05, 'lambda_l2': 5.161439655127472e-06}. Best is trial 57 with value: 0.15353704355259348.\u001b[0m\n",
      "regularization_factors, val_score: 0.153537:  85%|########5 | 17/20 [01:25<00:14,  4.98s/it]"
     ]
    },
    {
     "name": "stdout",
     "output_type": "stream",
     "text": [
      "Early stopping, best iteration is:\n",
      "[36]\ttrain's fair: 0.15305\tvalid's fair: 0.153541\n",
      "Training until validation scores don't improve for 300 rounds\n"
     ]
    },
    {
     "name": "stderr",
     "output_type": "stream",
     "text": [
      "regularization_factors, val_score: 0.153537:  90%|######### | 18/20 [01:31<00:10,  5.33s/it]\u001b[32m[I 2021-08-31 15:08:27,985]\u001b[0m Trial 60 finished with value: 0.15355798860445052 and parameters: {'lambda_l1': 2.6284500981195227, 'lambda_l2': 0.005093703851863984}. Best is trial 57 with value: 0.15353704355259348.\u001b[0m\n",
      "regularization_factors, val_score: 0.153537:  90%|######### | 18/20 [01:31<00:10,  5.33s/it]"
     ]
    },
    {
     "name": "stdout",
     "output_type": "stream",
     "text": [
      "Early stopping, best iteration is:\n",
      "[36]\ttrain's fair: 0.153058\tvalid's fair: 0.153558\n",
      "Training until validation scores don't improve for 300 rounds\n"
     ]
    },
    {
     "name": "stderr",
     "output_type": "stream",
     "text": [
      "regularization_factors, val_score: 0.153537:  95%|#########5| 19/20 [01:36<00:05,  5.25s/it]\u001b[32m[I 2021-08-31 15:08:33,050]\u001b[0m Trial 61 finished with value: 0.1535370348908979 and parameters: {'lambda_l1': 2.2979258624683838e-05, 'lambda_l2': 0.252135335946322}. Best is trial 61 with value: 0.1535370348908979.\u001b[0m\n",
      "regularization_factors, val_score: 0.153537:  95%|#########5| 19/20 [01:36<00:05,  5.25s/it]"
     ]
    },
    {
     "name": "stdout",
     "output_type": "stream",
     "text": [
      "Early stopping, best iteration is:\n",
      "[36]\ttrain's fair: 0.153051\tvalid's fair: 0.153537\n",
      "Training until validation scores don't improve for 300 rounds\n"
     ]
    },
    {
     "name": "stderr",
     "output_type": "stream",
     "text": [
      "regularization_factors, val_score: 0.153537: 100%|##########| 20/20 [01:41<00:00,  5.15s/it]\u001b[32m[I 2021-08-31 15:08:37,981]\u001b[0m Trial 62 finished with value: 0.15354053525963166 and parameters: {'lambda_l1': 8.044801544748197e-06, 'lambda_l2': 9.731478083578147e-06}. Best is trial 61 with value: 0.1535370348908979.\u001b[0m\n",
      "regularization_factors, val_score: 0.153537: 100%|##########| 20/20 [01:41<00:00,  5.09s/it]\n",
      "min_data_in_leaf, val_score: 0.153537:   0%|          | 0/5 [00:00<?, ?it/s]"
     ]
    },
    {
     "name": "stdout",
     "output_type": "stream",
     "text": [
      "Early stopping, best iteration is:\n",
      "[36]\ttrain's fair: 0.15305\tvalid's fair: 0.153541\n",
      "Training until validation scores don't improve for 300 rounds\n"
     ]
    },
    {
     "name": "stderr",
     "output_type": "stream",
     "text": [
      "min_data_in_leaf, val_score: 0.153537:  20%|##        | 1/5 [00:05<00:20,  5.12s/it]\u001b[32m[I 2021-08-31 15:08:43,109]\u001b[0m Trial 63 finished with value: 0.15356005435264955 and parameters: {'min_child_samples': 50}. Best is trial 63 with value: 0.15356005435264955.\u001b[0m\n",
      "min_data_in_leaf, val_score: 0.153537:  20%|##        | 1/5 [00:05<00:20,  5.12s/it]"
     ]
    },
    {
     "name": "stdout",
     "output_type": "stream",
     "text": [
      "Early stopping, best iteration is:\n",
      "[36]\ttrain's fair: 0.153055\tvalid's fair: 0.15356\n",
      "Training until validation scores don't improve for 300 rounds\n"
     ]
    },
    {
     "name": "stderr",
     "output_type": "stream",
     "text": [
      "min_data_in_leaf, val_score: 0.153537:  40%|####      | 2/5 [00:10<00:14,  5.00s/it]\u001b[32m[I 2021-08-31 15:08:48,023]\u001b[0m Trial 64 finished with value: 0.15355961881247543 and parameters: {'min_child_samples': 10}. Best is trial 64 with value: 0.15355961881247543.\u001b[0m\n",
      "min_data_in_leaf, val_score: 0.153537:  40%|####      | 2/5 [00:10<00:14,  5.00s/it]"
     ]
    },
    {
     "name": "stdout",
     "output_type": "stream",
     "text": [
      "Early stopping, best iteration is:\n",
      "[40]\ttrain's fair: 0.153046\tvalid's fair: 0.15356\n",
      "Training until validation scores don't improve for 300 rounds\n"
     ]
    },
    {
     "name": "stderr",
     "output_type": "stream",
     "text": [
      "min_data_in_leaf, val_score: 0.153537:  60%|######    | 3/5 [00:15<00:10,  5.04s/it]\u001b[32m[I 2021-08-31 15:08:53,113]\u001b[0m Trial 65 finished with value: 0.15355117030560164 and parameters: {'min_child_samples': 100}. Best is trial 65 with value: 0.15355117030560164.\u001b[0m\n",
      "min_data_in_leaf, val_score: 0.153537:  60%|######    | 3/5 [00:15<00:10,  5.04s/it]"
     ]
    },
    {
     "name": "stdout",
     "output_type": "stream",
     "text": [
      "Early stopping, best iteration is:\n",
      "[36]\ttrain's fair: 0.153057\tvalid's fair: 0.153551\n",
      "Training until validation scores don't improve for 300 rounds\n"
     ]
    },
    {
     "name": "stderr",
     "output_type": "stream",
     "text": [
      "min_data_in_leaf, val_score: 0.153537:  80%|########  | 4/5 [00:20<00:05,  5.35s/it]\u001b[32m[I 2021-08-31 15:08:58,936]\u001b[0m Trial 66 finished with value: 0.1535510486576364 and parameters: {'min_child_samples': 25}. Best is trial 66 with value: 0.1535510486576364.\u001b[0m\n",
      "min_data_in_leaf, val_score: 0.153537:  80%|########  | 4/5 [00:20<00:05,  5.35s/it]"
     ]
    },
    {
     "name": "stdout",
     "output_type": "stream",
     "text": [
      "Early stopping, best iteration is:\n",
      "[36]\ttrain's fair: 0.153052\tvalid's fair: 0.153551\n",
      "Training until validation scores don't improve for 300 rounds\n"
     ]
    },
    {
     "name": "stderr",
     "output_type": "stream",
     "text": [
      "min_data_in_leaf, val_score: 0.153537: 100%|##########| 5/5 [00:25<00:00,  5.15s/it]\u001b[32m[I 2021-08-31 15:09:03,741]\u001b[0m Trial 67 finished with value: 0.1535584620908252 and parameters: {'min_child_samples': 5}. Best is trial 66 with value: 0.1535510486576364.\u001b[0m\n",
      "min_data_in_leaf, val_score: 0.153537: 100%|##########| 5/5 [00:25<00:00,  5.15s/it]"
     ]
    },
    {
     "name": "stdout",
     "output_type": "stream",
     "text": [
      "Early stopping, best iteration is:\n",
      "[36]\ttrain's fair: 0.153049\tvalid's fair: 0.153558\n",
      "0 0.7166743767121406\n"
     ]
    },
    {
     "name": "stderr",
     "output_type": "stream",
     "text": [
      "\n",
      "\u001b[32m[I 2021-08-31 15:09:03,960]\u001b[0m A new study created in memory with name: no-name-e3c09716-052a-4bfa-8f4e-17849e2ddb06\u001b[0m\n",
      "feature_fraction, val_score: inf:   0%|          | 0/7 [00:00<?, ?it/s]"
     ]
    },
    {
     "name": "stdout",
     "output_type": "stream",
     "text": [
      "Training until validation scores don't improve for 300 rounds\n"
     ]
    },
    {
     "name": "stderr",
     "output_type": "stream",
     "text": [
      "feature_fraction, val_score: 0.153585:  14%|#4        | 1/7 [00:04<00:25,  4.30s/it]\u001b[32m[I 2021-08-31 15:09:08,262]\u001b[0m Trial 0 finished with value: 0.15358476319586192 and parameters: {'feature_fraction': 0.5}. Best is trial 0 with value: 0.15358476319586192.\u001b[0m\n",
      "feature_fraction, val_score: 0.153585:  14%|#4        | 1/7 [00:04<00:25,  4.30s/it]"
     ]
    },
    {
     "name": "stdout",
     "output_type": "stream",
     "text": [
      "Early stopping, best iteration is:\n",
      "[39]\ttrain's fair: 0.152867\tvalid's fair: 0.153585\n",
      "Training until validation scores don't improve for 300 rounds\n"
     ]
    },
    {
     "name": "stderr",
     "output_type": "stream",
     "text": [
      "feature_fraction, val_score: 0.153585:  29%|##8       | 2/7 [00:10<00:27,  5.41s/it]\u001b[32m[I 2021-08-31 15:09:14,453]\u001b[0m Trial 1 finished with value: 0.15360344636995388 and parameters: {'feature_fraction': 0.4}. Best is trial 0 with value: 0.15358476319586192.\u001b[0m\n",
      "feature_fraction, val_score: 0.153585:  29%|##8       | 2/7 [00:10<00:27,  5.41s/it]"
     ]
    },
    {
     "name": "stdout",
     "output_type": "stream",
     "text": [
      "Early stopping, best iteration is:\n",
      "[35]\ttrain's fair: 0.153128\tvalid's fair: 0.153603\n",
      "Training until validation scores don't improve for 300 rounds\n"
     ]
    },
    {
     "name": "stderr",
     "output_type": "stream",
     "text": [
      "feature_fraction, val_score: 0.153585:  43%|####2     | 3/7 [00:14<00:19,  4.91s/it]\u001b[32m[I 2021-08-31 15:09:18,765]\u001b[0m Trial 2 finished with value: 0.15358476319586192 and parameters: {'feature_fraction': 0.6}. Best is trial 0 with value: 0.15358476319586192.\u001b[0m\n",
      "feature_fraction, val_score: 0.153585:  43%|####2     | 3/7 [00:14<00:19,  4.91s/it]"
     ]
    },
    {
     "name": "stdout",
     "output_type": "stream",
     "text": [
      "Early stopping, best iteration is:\n",
      "[39]\ttrain's fair: 0.152867\tvalid's fair: 0.153585\n",
      "Training until validation scores don't improve for 300 rounds\n"
     ]
    },
    {
     "name": "stderr",
     "output_type": "stream",
     "text": [
      "feature_fraction, val_score: 0.153585:  57%|#####7    | 4/7 [00:19<00:14,  4.69s/it]\u001b[32m[I 2021-08-31 15:09:23,116]\u001b[0m Trial 3 finished with value: 0.15358476319586192 and parameters: {'feature_fraction': 0.7}. Best is trial 0 with value: 0.15358476319586192.\u001b[0m\n",
      "feature_fraction, val_score: 0.153585:  57%|#####7    | 4/7 [00:19<00:14,  4.69s/it]"
     ]
    },
    {
     "name": "stdout",
     "output_type": "stream",
     "text": [
      "Early stopping, best iteration is:\n",
      "[39]\ttrain's fair: 0.152867\tvalid's fair: 0.153585\n",
      "Training until validation scores don't improve for 300 rounds\n"
     ]
    },
    {
     "name": "stderr",
     "output_type": "stream",
     "text": [
      "feature_fraction, val_score: 0.153585:  71%|#######1  | 5/7 [00:23<00:09,  4.55s/it]\u001b[32m[I 2021-08-31 15:09:27,431]\u001b[0m Trial 4 finished with value: 0.15358476319586192 and parameters: {'feature_fraction': 0.8}. Best is trial 0 with value: 0.15358476319586192.\u001b[0m\n",
      "feature_fraction, val_score: 0.153585:  71%|#######1  | 5/7 [00:23<00:09,  4.55s/it]"
     ]
    },
    {
     "name": "stdout",
     "output_type": "stream",
     "text": [
      "Early stopping, best iteration is:\n",
      "[39]\ttrain's fair: 0.152867\tvalid's fair: 0.153585\n",
      "Training until validation scores don't improve for 300 rounds\n"
     ]
    },
    {
     "name": "stderr",
     "output_type": "stream",
     "text": [
      "feature_fraction, val_score: 0.153579:  86%|########5 | 6/7 [00:27<00:04,  4.48s/it]\u001b[32m[I 2021-08-31 15:09:31,761]\u001b[0m Trial 5 finished with value: 0.15357862811558767 and parameters: {'feature_fraction': 1.0}. Best is trial 5 with value: 0.15357862811558767.\u001b[0m\n",
      "feature_fraction, val_score: 0.153579:  86%|########5 | 6/7 [00:27<00:04,  4.48s/it]"
     ]
    },
    {
     "name": "stdout",
     "output_type": "stream",
     "text": [
      "Early stopping, best iteration is:\n",
      "[34]\ttrain's fair: 0.152802\tvalid's fair: 0.153579\n",
      "Training until validation scores don't improve for 300 rounds\n"
     ]
    },
    {
     "name": "stderr",
     "output_type": "stream",
     "text": [
      "feature_fraction, val_score: 0.153579: 100%|##########| 7/7 [00:32<00:00,  4.41s/it]\u001b[32m[I 2021-08-31 15:09:36,029]\u001b[0m Trial 6 finished with value: 0.1535786281155877 and parameters: {'feature_fraction': 0.8999999999999999}. Best is trial 5 with value: 0.15357862811558767.\u001b[0m\n",
      "feature_fraction, val_score: 0.153579: 100%|##########| 7/7 [00:32<00:00,  4.58s/it]\n",
      "num_leaves, val_score: 0.153579:   0%|          | 0/20 [00:00<?, ?it/s]"
     ]
    },
    {
     "name": "stdout",
     "output_type": "stream",
     "text": [
      "Early stopping, best iteration is:\n",
      "[34]\ttrain's fair: 0.152802\tvalid's fair: 0.153579\n",
      "Training until validation scores don't improve for 300 rounds\n"
     ]
    },
    {
     "name": "stderr",
     "output_type": "stream",
     "text": [
      "num_leaves, val_score: 0.153579:   5%|5         | 1/20 [00:06<01:55,  6.07s/it]\u001b[32m[I 2021-08-31 15:09:42,108]\u001b[0m Trial 7 finished with value: 0.15366116061834417 and parameters: {'num_leaves': 79}. Best is trial 7 with value: 0.15366116061834417.\u001b[0m\n",
      "num_leaves, val_score: 0.153579:   5%|5         | 1/20 [00:06<01:55,  6.07s/it]"
     ]
    },
    {
     "name": "stdout",
     "output_type": "stream",
     "text": [
      "Early stopping, best iteration is:\n",
      "[28]\ttrain's fair: 0.152398\tvalid's fair: 0.153661\n",
      "Training until validation scores don't improve for 300 rounds\n"
     ]
    },
    {
     "name": "stderr",
     "output_type": "stream",
     "text": [
      "num_leaves, val_score: 0.153579:  10%|#         | 2/20 [00:12<01:55,  6.40s/it]\u001b[32m[I 2021-08-31 15:09:48,728]\u001b[0m Trial 8 finished with value: 0.15377502134658275 and parameters: {'num_leaves': 165}. Best is trial 7 with value: 0.15366116061834417.\u001b[0m\n",
      "num_leaves, val_score: 0.153579:  10%|#         | 2/20 [00:12<01:55,  6.40s/it]"
     ]
    },
    {
     "name": "stdout",
     "output_type": "stream",
     "text": [
      "Early stopping, best iteration is:\n",
      "[26]\ttrain's fair: 0.151735\tvalid's fair: 0.153775\n",
      "Training until validation scores don't improve for 300 rounds\n"
     ]
    },
    {
     "name": "stderr",
     "output_type": "stream",
     "text": [
      "num_leaves, val_score: 0.153579:  15%|#5        | 3/20 [00:20<01:59,  7.04s/it]\u001b[32m[I 2021-08-31 15:09:56,541]\u001b[0m Trial 9 finished with value: 0.15384145021184897 and parameters: {'num_leaves': 234}. Best is trial 7 with value: 0.15366116061834417.\u001b[0m\n",
      "num_leaves, val_score: 0.153579:  15%|#5        | 3/20 [00:20<01:59,  7.04s/it]"
     ]
    },
    {
     "name": "stdout",
     "output_type": "stream",
     "text": [
      "Early stopping, best iteration is:\n",
      "[26]\ttrain's fair: 0.151215\tvalid's fair: 0.153841\n",
      "Training until validation scores don't improve for 300 rounds\n"
     ]
    },
    {
     "name": "stderr",
     "output_type": "stream",
     "text": [
      "num_leaves, val_score: 0.153531:  20%|##        | 4/20 [00:24<01:34,  5.92s/it]\u001b[32m[I 2021-08-31 15:10:00,742]\u001b[0m Trial 10 finished with value: 0.15353108530857615 and parameters: {'num_leaves': 21}. Best is trial 10 with value: 0.15353108530857615.\u001b[0m\n",
      "num_leaves, val_score: 0.153531:  20%|##        | 4/20 [00:24<01:34,  5.92s/it]"
     ]
    },
    {
     "name": "stdout",
     "output_type": "stream",
     "text": [
      "Early stopping, best iteration is:\n",
      "[44]\ttrain's fair: 0.15285\tvalid's fair: 0.153531\n",
      "Training until validation scores don't improve for 300 rounds\n"
     ]
    },
    {
     "name": "stderr",
     "output_type": "stream",
     "text": [
      "num_leaves, val_score: 0.153531:  25%|##5       | 5/20 [00:28<01:19,  5.30s/it]\u001b[32m[I 2021-08-31 15:10:04,954]\u001b[0m Trial 11 finished with value: 0.15353519867431975 and parameters: {'num_leaves': 19}. Best is trial 10 with value: 0.15353108530857615.\u001b[0m\n",
      "num_leaves, val_score: 0.153531:  25%|##5       | 5/20 [00:28<01:19,  5.30s/it]"
     ]
    },
    {
     "name": "stdout",
     "output_type": "stream",
     "text": [
      "Early stopping, best iteration is:\n",
      "[38]\ttrain's fair: 0.152921\tvalid's fair: 0.153535\n",
      "Training until validation scores don't improve for 300 rounds\n"
     ]
    },
    {
     "name": "stderr",
     "output_type": "stream",
     "text": [
      "num_leaves, val_score: 0.153531:  30%|###       | 6/20 [00:35<01:18,  5.61s/it]\u001b[32m[I 2021-08-31 15:10:11,165]\u001b[0m Trial 12 finished with value: 0.15371806297487844 and parameters: {'num_leaves': 141}. Best is trial 10 with value: 0.15353108530857615.\u001b[0m\n",
      "num_leaves, val_score: 0.153531:  30%|###       | 6/20 [00:35<01:18,  5.61s/it]"
     ]
    },
    {
     "name": "stdout",
     "output_type": "stream",
     "text": [
      "Early stopping, best iteration is:\n",
      "[27]\ttrain's fair: 0.151903\tvalid's fair: 0.153718\n",
      "Training until validation scores don't improve for 300 rounds\n"
     ]
    },
    {
     "name": "stderr",
     "output_type": "stream",
     "text": [
      "num_leaves, val_score: 0.153517:  35%|###5      | 7/20 [00:40<01:10,  5.41s/it]\u001b[32m[I 2021-08-31 15:10:16,162]\u001b[0m Trial 13 finished with value: 0.1535166526790533 and parameters: {'num_leaves': 13}. Best is trial 13 with value: 0.1535166526790533.\u001b[0m\n",
      "num_leaves, val_score: 0.153517:  35%|###5      | 7/20 [00:40<01:10,  5.41s/it]"
     ]
    },
    {
     "name": "stdout",
     "output_type": "stream",
     "text": [
      "Early stopping, best iteration is:\n",
      "[41]\ttrain's fair: 0.15299\tvalid's fair: 0.153517\n",
      "Training until validation scores don't improve for 300 rounds\n"
     ]
    },
    {
     "name": "stderr",
     "output_type": "stream",
     "text": [
      "num_leaves, val_score: 0.153517:  40%|####      | 8/20 [00:48<01:15,  6.26s/it]\u001b[32m[I 2021-08-31 15:10:24,235]\u001b[0m Trial 14 finished with value: 0.15381622383480056 and parameters: {'num_leaves': 222}. Best is trial 13 with value: 0.1535166526790533.\u001b[0m\n",
      "num_leaves, val_score: 0.153517:  40%|####      | 8/20 [00:48<01:15,  6.26s/it]"
     ]
    },
    {
     "name": "stdout",
     "output_type": "stream",
     "text": [
      "Early stopping, best iteration is:\n",
      "[23]\ttrain's fair: 0.151536\tvalid's fair: 0.153816\n",
      "Training until validation scores don't improve for 300 rounds\n"
     ]
    },
    {
     "name": "stderr",
     "output_type": "stream",
     "text": [
      "num_leaves, val_score: 0.153517:  45%|####5     | 9/20 [00:52<01:03,  5.73s/it]\u001b[32m[I 2021-08-31 15:10:28,808]\u001b[0m Trial 15 finished with value: 0.15360089457212714 and parameters: {'num_leaves': 36}. Best is trial 13 with value: 0.1535166526790533.\u001b[0m\n",
      "num_leaves, val_score: 0.153517:  45%|####5     | 9/20 [00:52<01:03,  5.73s/it]"
     ]
    },
    {
     "name": "stdout",
     "output_type": "stream",
     "text": [
      "Early stopping, best iteration is:\n",
      "[43]\ttrain's fair: 0.152646\tvalid's fair: 0.153601\n",
      "Training until validation scores don't improve for 300 rounds\n"
     ]
    },
    {
     "name": "stderr",
     "output_type": "stream",
     "text": [
      "num_leaves, val_score: 0.153517:  50%|#####     | 10/20 [00:59<00:59,  5.97s/it]\u001b[32m[I 2021-08-31 15:10:35,305]\u001b[0m Trial 16 finished with value: 0.15377502134658275 and parameters: {'num_leaves': 165}. Best is trial 13 with value: 0.1535166526790533.\u001b[0m\n",
      "num_leaves, val_score: 0.153517:  50%|#####     | 10/20 [00:59<00:59,  5.97s/it]"
     ]
    },
    {
     "name": "stdout",
     "output_type": "stream",
     "text": [
      "Early stopping, best iteration is:\n",
      "[26]\ttrain's fair: 0.151735\tvalid's fair: 0.153775\n",
      "Training until validation scores don't improve for 300 rounds\n"
     ]
    },
    {
     "name": "stderr",
     "output_type": "stream",
     "text": [
      "num_leaves, val_score: 0.153517:  55%|#####5    | 11/20 [01:04<00:51,  5.74s/it]\u001b[32m[I 2021-08-31 15:10:40,524]\u001b[0m Trial 17 finished with value: 0.153684822109938 and parameters: {'num_leaves': 84}. Best is trial 13 with value: 0.1535166526790533.\u001b[0m\n",
      "num_leaves, val_score: 0.153517:  55%|#####5    | 11/20 [01:04<00:51,  5.74s/it]"
     ]
    },
    {
     "name": "stdout",
     "output_type": "stream",
     "text": [
      "Early stopping, best iteration is:\n",
      "[29]\ttrain's fair: 0.15232\tvalid's fair: 0.153685\n",
      "Training until validation scores don't improve for 300 rounds\n"
     ]
    },
    {
     "name": "stderr",
     "output_type": "stream",
     "text": [
      "num_leaves, val_score: 0.153506:  60%|######    | 12/20 [01:08<00:40,  5.07s/it]\u001b[32m[I 2021-08-31 15:10:44,066]\u001b[0m Trial 18 finished with value: 0.15350635194966877 and parameters: {'num_leaves': 5}. Best is trial 18 with value: 0.15350635194966877.\u001b[0m\n",
      "num_leaves, val_score: 0.153506:  60%|######    | 12/20 [01:08<00:40,  5.07s/it]"
     ]
    },
    {
     "name": "stdout",
     "output_type": "stream",
     "text": [
      "Early stopping, best iteration is:\n",
      "[45]\ttrain's fair: 0.153078\tvalid's fair: 0.153506\n",
      "Training until validation scores don't improve for 300 rounds\n"
     ]
    },
    {
     "name": "stderr",
     "output_type": "stream",
     "text": [
      "num_leaves, val_score: 0.153506:  65%|######5   | 13/20 [01:13<00:35,  5.06s/it]\u001b[32m[I 2021-08-31 15:10:49,086]\u001b[0m Trial 19 finished with value: 0.15363631110525364 and parameters: {'num_leaves': 67}. Best is trial 18 with value: 0.15350635194966877.\u001b[0m\n",
      "num_leaves, val_score: 0.153506:  65%|######5   | 13/20 [01:13<00:35,  5.06s/it]"
     ]
    },
    {
     "name": "stdout",
     "output_type": "stream",
     "text": [
      "Early stopping, best iteration is:\n",
      "[31]\ttrain's fair: 0.152436\tvalid's fair: 0.153636\n",
      "Training until validation scores don't improve for 300 rounds\n"
     ]
    },
    {
     "name": "stderr",
     "output_type": "stream",
     "text": [
      "num_leaves, val_score: 0.153506:  70%|#######   | 14/20 [01:17<00:29,  4.95s/it]\u001b[32m[I 2021-08-31 15:10:53,808]\u001b[0m Trial 20 finished with value: 0.1536250915129461 and parameters: {'num_leaves': 50}. Best is trial 18 with value: 0.15350635194966877.\u001b[0m\n",
      "num_leaves, val_score: 0.153506:  70%|#######   | 14/20 [01:17<00:29,  4.95s/it]"
     ]
    },
    {
     "name": "stdout",
     "output_type": "stream",
     "text": [
      "Early stopping, best iteration is:\n",
      "[29]\ttrain's fair: 0.152654\tvalid's fair: 0.153625\n",
      "Training until validation scores don't improve for 300 rounds\n"
     ]
    },
    {
     "name": "stderr",
     "output_type": "stream",
     "text": [
      "num_leaves, val_score: 0.153506:  75%|#######5  | 15/20 [01:22<00:23,  4.77s/it]\u001b[32m[I 2021-08-31 15:10:58,166]\u001b[0m Trial 21 finished with value: 0.15350778418662528 and parameters: {'num_leaves': 4}. Best is trial 18 with value: 0.15350635194966877.\u001b[0m\n",
      "num_leaves, val_score: 0.153506:  75%|#######5  | 15/20 [01:22<00:23,  4.77s/it]"
     ]
    },
    {
     "name": "stdout",
     "output_type": "stream",
     "text": [
      "Early stopping, best iteration is:\n",
      "[61]\ttrain's fair: 0.153079\tvalid's fair: 0.153508\n",
      "Training until validation scores don't improve for 300 rounds\n"
     ]
    },
    {
     "name": "stderr",
     "output_type": "stream",
     "text": [
      "num_leaves, val_score: 0.153506:  80%|########  | 16/20 [01:27<00:19,  4.99s/it]\u001b[32m[I 2021-08-31 15:11:03,650]\u001b[0m Trial 22 finished with value: 0.15371194579042788 and parameters: {'num_leaves': 103}. Best is trial 18 with value: 0.15350635194966877.\u001b[0m\n",
      "num_leaves, val_score: 0.153506:  80%|########  | 16/20 [01:27<00:19,  4.99s/it]"
     ]
    },
    {
     "name": "stdout",
     "output_type": "stream",
     "text": [
      "Early stopping, best iteration is:\n",
      "[28]\ttrain's fair: 0.152175\tvalid's fair: 0.153712\n",
      "Training until validation scores don't improve for 300 rounds\n"
     ]
    },
    {
     "name": "stderr",
     "output_type": "stream",
     "text": [
      "num_leaves, val_score: 0.153502:  85%|########5 | 17/20 [01:31<00:13,  4.59s/it]\u001b[32m[I 2021-08-31 15:11:07,323]\u001b[0m Trial 23 finished with value: 0.15350227414354806 and parameters: {'num_leaves': 9}. Best is trial 23 with value: 0.15350227414354806.\u001b[0m\n",
      "num_leaves, val_score: 0.153502:  85%|########5 | 17/20 [01:31<00:13,  4.59s/it]"
     ]
    },
    {
     "name": "stdout",
     "output_type": "stream",
     "text": [
      "Early stopping, best iteration is:\n",
      "[49]\ttrain's fair: 0.15302\tvalid's fair: 0.153502\n",
      "Training until validation scores don't improve for 300 rounds\n"
     ]
    },
    {
     "name": "stderr",
     "output_type": "stream",
     "text": [
      "num_leaves, val_score: 0.153496:  90%|######### | 18/20 [01:34<00:08,  4.29s/it]\u001b[32m[I 2021-08-31 15:11:10,918]\u001b[0m Trial 24 finished with value: 0.15349598327650274 and parameters: {'num_leaves': 2}. Best is trial 24 with value: 0.15349598327650274.\u001b[0m\n",
      "num_leaves, val_score: 0.153496:  90%|######### | 18/20 [01:34<00:08,  4.29s/it]"
     ]
    },
    {
     "name": "stdout",
     "output_type": "stream",
     "text": [
      "Early stopping, best iteration is:\n",
      "[138]\ttrain's fair: 0.153097\tvalid's fair: 0.153496\n",
      "Training until validation scores don't improve for 300 rounds\n"
     ]
    },
    {
     "name": "stderr",
     "output_type": "stream",
     "text": [
      "num_leaves, val_score: 0.153496:  95%|#########5| 19/20 [01:40<00:04,  4.68s/it]\u001b[32m[I 2021-08-31 15:11:16,500]\u001b[0m Trial 25 finished with value: 0.15372872932052478 and parameters: {'num_leaves': 114}. Best is trial 24 with value: 0.15349598327650274.\u001b[0m\n",
      "num_leaves, val_score: 0.153496:  95%|#########5| 19/20 [01:40<00:04,  4.68s/it]"
     ]
    },
    {
     "name": "stdout",
     "output_type": "stream",
     "text": [
      "Early stopping, best iteration is:\n",
      "[28]\ttrain's fair: 0.152087\tvalid's fair: 0.153729\n",
      "Training until validation scores don't improve for 300 rounds\n"
     ]
    },
    {
     "name": "stderr",
     "output_type": "stream",
     "text": [
      "num_leaves, val_score: 0.153496: 100%|##########| 20/20 [01:45<00:00,  4.69s/it]\u001b[32m[I 2021-08-31 15:11:21,218]\u001b[0m Trial 26 finished with value: 0.15361794764062503 and parameters: {'num_leaves': 49}. Best is trial 24 with value: 0.15349598327650274.\u001b[0m\n",
      "num_leaves, val_score: 0.153496: 100%|##########| 20/20 [01:45<00:00,  5.26s/it]\n",
      "bagging, val_score: 0.153496:   0%|          | 0/10 [00:00<?, ?it/s]"
     ]
    },
    {
     "name": "stdout",
     "output_type": "stream",
     "text": [
      "Early stopping, best iteration is:\n",
      "[30]\ttrain's fair: 0.152643\tvalid's fair: 0.153618\n",
      "Training until validation scores don't improve for 300 rounds\n",
      "[500]\ttrain's fair: 0.153095\tvalid's fair: 0.1535\n"
     ]
    },
    {
     "name": "stderr",
     "output_type": "stream",
     "text": [
      "bagging, val_score: 0.153491:  10%|#         | 1/10 [00:07<01:06,  7.44s/it]\u001b[32m[I 2021-08-31 15:11:28,665]\u001b[0m Trial 27 finished with value: 0.15349121010854028 and parameters: {'bagging_fraction': 0.5949131228796749, 'bagging_freq': 2}. Best is trial 27 with value: 0.15349121010854028.\u001b[0m\n",
      "bagging, val_score: 0.153491:  10%|#         | 1/10 [00:07<01:06,  7.44s/it]"
     ]
    },
    {
     "name": "stdout",
     "output_type": "stream",
     "text": [
      "Early stopping, best iteration is:\n",
      "[486]\ttrain's fair: 0.15309\tvalid's fair: 0.153491\n",
      "Training until validation scores don't improve for 300 rounds\n"
     ]
    },
    {
     "name": "stderr",
     "output_type": "stream",
     "text": [
      "bagging, val_score: 0.153481:  20%|##        | 2/10 [00:12<00:49,  6.22s/it]\u001b[32m[I 2021-08-31 15:11:34,026]\u001b[0m Trial 28 finished with value: 0.15348053080291682 and parameters: {'bagging_fraction': 0.5909481186830943, 'bagging_freq': 5}. Best is trial 28 with value: 0.15348053080291682.\u001b[0m\n",
      "bagging, val_score: 0.153481:  20%|##        | 2/10 [00:12<00:49,  6.22s/it]"
     ]
    },
    {
     "name": "stdout",
     "output_type": "stream",
     "text": [
      "Early stopping, best iteration is:\n",
      "[185]\ttrain's fair: 0.153104\tvalid's fair: 0.153481\n",
      "Training until validation scores don't improve for 300 rounds\n",
      "[500]\ttrain's fair: 0.153104\tvalid's fair: 0.153497\n"
     ]
    },
    {
     "name": "stderr",
     "output_type": "stream",
     "text": [
      "bagging, val_score: 0.153481:  30%|###       | 3/10 [00:19<00:44,  6.40s/it]\u001b[32m[I 2021-08-31 15:11:40,634]\u001b[0m Trial 29 finished with value: 0.15348289141059643 and parameters: {'bagging_fraction': 0.4044933253639012, 'bagging_freq': 7}. Best is trial 28 with value: 0.15348053080291682.\u001b[0m\n",
      "bagging, val_score: 0.153481:  30%|###       | 3/10 [00:19<00:44,  6.40s/it]"
     ]
    },
    {
     "name": "stdout",
     "output_type": "stream",
     "text": [
      "Early stopping, best iteration is:\n",
      "[511]\ttrain's fair: 0.153095\tvalid's fair: 0.153483\n",
      "Training until validation scores don't improve for 300 rounds\n"
     ]
    },
    {
     "name": "stderr",
     "output_type": "stream",
     "text": [
      "bagging, val_score: 0.153481:  40%|####      | 4/10 [00:24<00:34,  5.69s/it]\u001b[32m[I 2021-08-31 15:11:45,251]\u001b[0m Trial 30 finished with value: 0.15348131650700828 and parameters: {'bagging_fraction': 0.5512840126105998, 'bagging_freq': 2}. Best is trial 28 with value: 0.15348053080291682.\u001b[0m\n",
      "bagging, val_score: 0.153481:  40%|####      | 4/10 [00:24<00:34,  5.69s/it]"
     ]
    },
    {
     "name": "stdout",
     "output_type": "stream",
     "text": [
      "Early stopping, best iteration is:\n",
      "[182]\ttrain's fair: 0.1531\tvalid's fair: 0.153481\n",
      "Training until validation scores don't improve for 300 rounds\n"
     ]
    },
    {
     "name": "stderr",
     "output_type": "stream",
     "text": [
      "bagging, val_score: 0.153481:  50%|#####     | 5/10 [00:28<00:26,  5.24s/it]\u001b[32m[I 2021-08-31 15:11:49,690]\u001b[0m Trial 31 finished with value: 0.1534819153225747 and parameters: {'bagging_fraction': 0.9219423781993419, 'bagging_freq': 4}. Best is trial 28 with value: 0.15348053080291682.\u001b[0m\n",
      "bagging, val_score: 0.153481:  50%|#####     | 5/10 [00:28<00:26,  5.24s/it]"
     ]
    },
    {
     "name": "stdout",
     "output_type": "stream",
     "text": [
      "Early stopping, best iteration is:\n",
      "[168]\ttrain's fair: 0.1531\tvalid's fair: 0.153482\n",
      "Training until validation scores don't improve for 300 rounds\n",
      "[500]\ttrain's fair: 0.153099\tvalid's fair: 0.153513\n"
     ]
    },
    {
     "name": "stderr",
     "output_type": "stream",
     "text": [
      "bagging, val_score: 0.153481:  60%|######    | 6/10 [00:35<00:23,  5.81s/it]\u001b[32m[I 2021-08-31 15:11:56,605]\u001b[0m Trial 32 finished with value: 0.15348889805172639 and parameters: {'bagging_fraction': 0.44925737201007393, 'bagging_freq': 5}. Best is trial 28 with value: 0.15348053080291682.\u001b[0m\n",
      "bagging, val_score: 0.153481:  60%|######    | 6/10 [00:35<00:23,  5.81s/it]"
     ]
    },
    {
     "name": "stdout",
     "output_type": "stream",
     "text": [
      "Early stopping, best iteration is:\n",
      "[455]\ttrain's fair: 0.153079\tvalid's fair: 0.153489\n",
      "Training until validation scores don't improve for 300 rounds\n"
     ]
    },
    {
     "name": "stderr",
     "output_type": "stream",
     "text": [
      "bagging, val_score: 0.153481:  70%|#######   | 7/10 [00:39<00:16,  5.42s/it]\u001b[32m[I 2021-08-31 15:12:01,221]\u001b[0m Trial 33 finished with value: 0.15348109256617012 and parameters: {'bagging_fraction': 0.8486946340067661, 'bagging_freq': 4}. Best is trial 28 with value: 0.15348053080291682.\u001b[0m\n",
      "bagging, val_score: 0.153481:  70%|#######   | 7/10 [00:39<00:16,  5.42s/it]"
     ]
    },
    {
     "name": "stdout",
     "output_type": "stream",
     "text": [
      "Early stopping, best iteration is:\n",
      "[184]\ttrain's fair: 0.153095\tvalid's fair: 0.153481\n",
      "Training until validation scores don't improve for 300 rounds\n"
     ]
    },
    {
     "name": "stderr",
     "output_type": "stream",
     "text": [
      "bagging, val_score: 0.153463:  80%|########  | 8/10 [00:44<00:09,  4.99s/it]\u001b[32m[I 2021-08-31 15:12:05,302]\u001b[0m Trial 34 finished with value: 0.15346259849864996 and parameters: {'bagging_fraction': 0.6392691130571089, 'bagging_freq': 3}. Best is trial 34 with value: 0.15346259849864996.\u001b[0m\n",
      "bagging, val_score: 0.153463:  80%|########  | 8/10 [00:44<00:09,  4.99s/it]"
     ]
    },
    {
     "name": "stdout",
     "output_type": "stream",
     "text": [
      "Early stopping, best iteration is:\n",
      "[135]\ttrain's fair: 0.153113\tvalid's fair: 0.153463\n",
      "Training until validation scores don't improve for 300 rounds\n"
     ]
    },
    {
     "name": "stderr",
     "output_type": "stream",
     "text": [
      "bagging, val_score: 0.153463:  90%|######### | 9/10 [00:48<00:04,  4.96s/it]\u001b[32m[I 2021-08-31 15:12:10,185]\u001b[0m Trial 35 finished with value: 0.15347412056290077 and parameters: {'bagging_fraction': 0.45019709929165597, 'bagging_freq': 1}. Best is trial 34 with value: 0.15346259849864996.\u001b[0m\n",
      "bagging, val_score: 0.153463:  90%|######### | 9/10 [00:48<00:04,  4.96s/it]"
     ]
    },
    {
     "name": "stdout",
     "output_type": "stream",
     "text": [
      "Early stopping, best iteration is:\n",
      "[175]\ttrain's fair: 0.153112\tvalid's fair: 0.153474\n",
      "Training until validation scores don't improve for 300 rounds\n",
      "[500]\ttrain's fair: 0.153086\tvalid's fair: 0.15349\n"
     ]
    },
    {
     "name": "stderr",
     "output_type": "stream",
     "text": [
      "bagging, val_score: 0.153463: 100%|##########| 10/10 [00:58<00:00,  6.31s/it]\u001b[32m[I 2021-08-31 15:12:19,519]\u001b[0m Trial 36 finished with value: 0.15348521524240763 and parameters: {'bagging_fraction': 0.7321343343042153, 'bagging_freq': 3}. Best is trial 34 with value: 0.15346259849864996.\u001b[0m\n",
      "bagging, val_score: 0.153463: 100%|##########| 10/10 [00:58<00:00,  5.83s/it]\n",
      "feature_fraction_stage2, val_score: 0.153463:   0%|          | 0/3 [00:00<?, ?it/s]"
     ]
    },
    {
     "name": "stdout",
     "output_type": "stream",
     "text": [
      "Early stopping, best iteration is:\n",
      "[624]\ttrain's fair: 0.153078\tvalid's fair: 0.153485\n",
      "Training until validation scores don't improve for 300 rounds\n"
     ]
    },
    {
     "name": "stderr",
     "output_type": "stream",
     "text": [
      "feature_fraction_stage2, val_score: 0.153463:  33%|###3      | 1/3 [00:04<00:08,  4.06s/it]\u001b[32m[I 2021-08-31 15:12:23,586]\u001b[0m Trial 37 finished with value: 0.15346259849864993 and parameters: {'feature_fraction': 0.9520000000000001}. Best is trial 37 with value: 0.15346259849864993.\u001b[0m\n",
      "feature_fraction_stage2, val_score: 0.153463:  33%|###3      | 1/3 [00:04<00:08,  4.06s/it]"
     ]
    },
    {
     "name": "stdout",
     "output_type": "stream",
     "text": [
      "Early stopping, best iteration is:\n",
      "[135]\ttrain's fair: 0.153113\tvalid's fair: 0.153463\n",
      "Training until validation scores don't improve for 300 rounds\n"
     ]
    },
    {
     "name": "stderr",
     "output_type": "stream",
     "text": [
      "feature_fraction_stage2, val_score: 0.153463:  67%|######6   | 2/3 [00:08<00:04,  4.08s/it]\u001b[32m[I 2021-08-31 15:12:27,680]\u001b[0m Trial 38 finished with value: 0.15346259849864993 and parameters: {'feature_fraction': 0.92}. Best is trial 37 with value: 0.15346259849864993.\u001b[0m\n",
      "feature_fraction_stage2, val_score: 0.153463:  67%|######6   | 2/3 [00:08<00:04,  4.08s/it]"
     ]
    },
    {
     "name": "stdout",
     "output_type": "stream",
     "text": [
      "Early stopping, best iteration is:\n",
      "[135]\ttrain's fair: 0.153113\tvalid's fair: 0.153463\n",
      "Training until validation scores don't improve for 300 rounds\n"
     ]
    },
    {
     "name": "stderr",
     "output_type": "stream",
     "text": [
      "feature_fraction_stage2, val_score: 0.153463: 100%|##########| 3/3 [00:12<00:00,  4.11s/it]\u001b[32m[I 2021-08-31 15:12:31,817]\u001b[0m Trial 39 finished with value: 0.15346259849864996 and parameters: {'feature_fraction': 0.9840000000000001}. Best is trial 37 with value: 0.15346259849864993.\u001b[0m\n",
      "feature_fraction_stage2, val_score: 0.153463: 100%|##########| 3/3 [00:12<00:00,  4.10s/it]\n",
      "regularization_factors, val_score: 0.153463:   0%|          | 0/20 [00:00<?, ?it/s]"
     ]
    },
    {
     "name": "stdout",
     "output_type": "stream",
     "text": [
      "Early stopping, best iteration is:\n",
      "[135]\ttrain's fair: 0.153113\tvalid's fair: 0.153463\n",
      "Training until validation scores don't improve for 300 rounds\n"
     ]
    },
    {
     "name": "stderr",
     "output_type": "stream",
     "text": [
      "regularization_factors, val_score: 0.153463:   5%|5         | 1/20 [00:04<01:17,  4.09s/it]\u001b[32m[I 2021-08-31 15:12:35,914]\u001b[0m Trial 40 finished with value: 0.15346259853547548 and parameters: {'lambda_l1': 1.2469474137200396e-06, 'lambda_l2': 0.005207211001876181}. Best is trial 40 with value: 0.15346259853547548.\u001b[0m\n",
      "regularization_factors, val_score: 0.153463:   5%|5         | 1/20 [00:04<01:17,  4.09s/it]"
     ]
    },
    {
     "name": "stdout",
     "output_type": "stream",
     "text": [
      "Early stopping, best iteration is:\n",
      "[135]\ttrain's fair: 0.153113\tvalid's fair: 0.153463\n",
      "Training until validation scores don't improve for 300 rounds\n"
     ]
    },
    {
     "name": "stderr",
     "output_type": "stream",
     "text": [
      "regularization_factors, val_score: 0.153459:  10%|#         | 2/20 [00:08<01:13,  4.09s/it]\u001b[32m[I 2021-08-31 15:12:40,005]\u001b[0m Trial 41 finished with value: 0.1534589575195473 and parameters: {'lambda_l1': 8.121137827234695e-07, 'lambda_l2': 2.956052089485804}. Best is trial 41 with value: 0.1534589575195473.\u001b[0m\n",
      "regularization_factors, val_score: 0.153459:  10%|#         | 2/20 [00:08<01:13,  4.09s/it]"
     ]
    },
    {
     "name": "stdout",
     "output_type": "stream",
     "text": [
      "Early stopping, best iteration is:\n",
      "[135]\ttrain's fair: 0.153112\tvalid's fair: 0.153459\n",
      "Training until validation scores don't improve for 300 rounds\n"
     ]
    },
    {
     "name": "stderr",
     "output_type": "stream",
     "text": [
      "regularization_factors, val_score: 0.153459:  15%|#5        | 3/20 [00:12<01:08,  4.05s/it]\u001b[32m[I 2021-08-31 15:12:44,003]\u001b[0m Trial 42 finished with value: 0.15346259849865165 and parameters: {'lambda_l1': 1.3032090418450126e-07, 'lambda_l2': 1.3329008005967627e-08}. Best is trial 41 with value: 0.1534589575195473.\u001b[0m\n",
      "regularization_factors, val_score: 0.153459:  15%|#5        | 3/20 [00:12<01:08,  4.05s/it]"
     ]
    },
    {
     "name": "stdout",
     "output_type": "stream",
     "text": [
      "Early stopping, best iteration is:\n",
      "[135]\ttrain's fair: 0.153113\tvalid's fair: 0.153463\n",
      "Training until validation scores don't improve for 300 rounds\n"
     ]
    },
    {
     "name": "stderr",
     "output_type": "stream",
     "text": [
      "regularization_factors, val_score: 0.153459:  20%|##        | 4/20 [00:17<01:10,  4.40s/it]\u001b[32m[I 2021-08-31 15:12:48,942]\u001b[0m Trial 43 finished with value: 0.153462598499869 and parameters: {'lambda_l1': 1.868241219607809e-08, 'lambda_l2': 0.00011640520548691266}. Best is trial 41 with value: 0.1534589575195473.\u001b[0m\n",
      "regularization_factors, val_score: 0.153459:  20%|##        | 4/20 [00:17<01:10,  4.40s/it]"
     ]
    },
    {
     "name": "stdout",
     "output_type": "stream",
     "text": [
      "Early stopping, best iteration is:\n",
      "[135]\ttrain's fair: 0.153113\tvalid's fair: 0.153463\n",
      "Training until validation scores don't improve for 300 rounds\n"
     ]
    },
    {
     "name": "stderr",
     "output_type": "stream",
     "text": [
      "regularization_factors, val_score: 0.153459:  25%|##5       | 5/20 [00:20<01:02,  4.19s/it]\u001b[32m[I 2021-08-31 15:12:52,765]\u001b[0m Trial 44 finished with value: 0.15345900329249162 and parameters: {'lambda_l1': 0.611349238588597, 'lambda_l2': 8.042451569237157e-08}. Best is trial 41 with value: 0.1534589575195473.\u001b[0m\n",
      "regularization_factors, val_score: 0.153459:  25%|##5       | 5/20 [00:20<01:02,  4.19s/it]"
     ]
    },
    {
     "name": "stdout",
     "output_type": "stream",
     "text": [
      "Early stopping, best iteration is:\n",
      "[108]\ttrain's fair: 0.153112\tvalid's fair: 0.153459\n",
      "Training until validation scores don't improve for 300 rounds\n",
      "[500]\ttrain's fair: 0.153089\tvalid's fair: 0.153474\n"
     ]
    },
    {
     "name": "stderr",
     "output_type": "stream",
     "text": [
      "regularization_factors, val_score: 0.153459:  30%|###       | 6/20 [00:26<01:03,  4.53s/it]\u001b[32m[I 2021-08-31 15:12:57,944]\u001b[0m Trial 45 finished with value: 0.1534605939940847 and parameters: {'lambda_l1': 0.45969670217359326, 'lambda_l2': 0.0008357467058752987}. Best is trial 41 with value: 0.1534589575195473.\u001b[0m\n",
      "regularization_factors, val_score: 0.153459:  30%|###       | 6/20 [00:26<01:03,  4.53s/it]"
     ]
    },
    {
     "name": "stdout",
     "output_type": "stream",
     "text": [
      "Early stopping, best iteration is:\n",
      "[270]\ttrain's fair: 0.153101\tvalid's fair: 0.153461\n",
      "Training until validation scores don't improve for 300 rounds\n",
      "[500]\ttrain's fair: 0.153088\tvalid's fair: 0.153477\n"
     ]
    },
    {
     "name": "stderr",
     "output_type": "stream",
     "text": [
      "regularization_factors, val_score: 0.153459:  35%|###5      | 7/20 [00:31<01:02,  4.83s/it]\u001b[32m[I 2021-08-31 15:13:03,399]\u001b[0m Trial 46 finished with value: 0.15346527340626828 and parameters: {'lambda_l1': 7.832371899155118, 'lambda_l2': 2.9737037580381163e-05}. Best is trial 41 with value: 0.1534589575195473.\u001b[0m\n",
      "regularization_factors, val_score: 0.153459:  35%|###5      | 7/20 [00:31<01:02,  4.83s/it]"
     ]
    },
    {
     "name": "stdout",
     "output_type": "stream",
     "text": [
      "Early stopping, best iteration is:\n",
      "[270]\ttrain's fair: 0.153099\tvalid's fair: 0.153465\n",
      "Training until validation scores don't improve for 300 rounds\n"
     ]
    },
    {
     "name": "stderr",
     "output_type": "stream",
     "text": [
      "regularization_factors, val_score: 0.153459:  40%|####      | 8/20 [00:35<00:54,  4.55s/it]\u001b[32m[I 2021-08-31 15:13:07,354]\u001b[0m Trial 47 finished with value: 0.1534626000462836 and parameters: {'lambda_l1': 2.1274515712661516e-05, 'lambda_l2': 0.22891801822326685}. Best is trial 41 with value: 0.1534589575195473.\u001b[0m\n",
      "regularization_factors, val_score: 0.153459:  40%|####      | 8/20 [00:35<00:54,  4.55s/it]"
     ]
    },
    {
     "name": "stdout",
     "output_type": "stream",
     "text": [
      "Early stopping, best iteration is:\n",
      "[135]\ttrain's fair: 0.153113\tvalid's fair: 0.153463\n",
      "Training until validation scores don't improve for 300 rounds\n"
     ]
    },
    {
     "name": "stderr",
     "output_type": "stream",
     "text": [
      "regularization_factors, val_score: 0.153459:  45%|####5     | 9/20 [00:39<00:48,  4.38s/it]\u001b[32m[I 2021-08-31 15:13:11,367]\u001b[0m Trial 48 finished with value: 0.15346259851397284 and parameters: {'lambda_l1': 0.00010398111559865994, 'lambda_l2': 3.386509505633407e-06}. Best is trial 41 with value: 0.1534589575195473.\u001b[0m\n",
      "regularization_factors, val_score: 0.153459:  45%|####5     | 9/20 [00:39<00:48,  4.38s/it]"
     ]
    },
    {
     "name": "stdout",
     "output_type": "stream",
     "text": [
      "Early stopping, best iteration is:\n",
      "[135]\ttrain's fair: 0.153113\tvalid's fair: 0.153463\n",
      "Training until validation scores don't improve for 300 rounds\n"
     ]
    },
    {
     "name": "stderr",
     "output_type": "stream",
     "text": [
      "regularization_factors, val_score: 0.153459:  50%|#####     | 10/20 [00:43<00:42,  4.26s/it]\u001b[32m[I 2021-08-31 15:13:15,335]\u001b[0m Trial 49 finished with value: 0.15346259412814495 and parameters: {'lambda_l1': 0.005483025625971261, 'lambda_l2': 1.3544745061099506}. Best is trial 41 with value: 0.1534589575195473.\u001b[0m\n",
      "regularization_factors, val_score: 0.153459:  50%|#####     | 10/20 [00:43<00:42,  4.26s/it]"
     ]
    },
    {
     "name": "stdout",
     "output_type": "stream",
     "text": [
      "Early stopping, best iteration is:\n",
      "[135]\ttrain's fair: 0.153113\tvalid's fair: 0.153463\n",
      "Training until validation scores don't improve for 300 rounds\n"
     ]
    },
    {
     "name": "stderr",
     "output_type": "stream",
     "text": [
      "regularization_factors, val_score: 0.153459:  55%|#####5    | 11/20 [00:48<00:39,  4.40s/it]\u001b[32m[I 2021-08-31 15:13:20,079]\u001b[0m Trial 50 finished with value: 0.1534589648368322 and parameters: {'lambda_l1': 2.0032198106697458e-06, 'lambda_l2': 3.9517414806503397}. Best is trial 41 with value: 0.1534589575195473.\u001b[0m\n",
      "regularization_factors, val_score: 0.153459:  55%|#####5    | 11/20 [00:48<00:39,  4.40s/it]"
     ]
    },
    {
     "name": "stdout",
     "output_type": "stream",
     "text": [
      "Early stopping, best iteration is:\n",
      "[135]\ttrain's fair: 0.153112\tvalid's fair: 0.153459\n",
      "Training until validation scores don't improve for 300 rounds\n",
      "[500]\ttrain's fair: 0.153088\tvalid's fair: 0.153473\n"
     ]
    },
    {
     "name": "stderr",
     "output_type": "stream",
     "text": [
      "regularization_factors, val_score: 0.153459:  60%|######    | 12/20 [00:53<00:36,  4.54s/it]\u001b[32m[I 2021-08-31 15:13:24,920]\u001b[0m Trial 51 finished with value: 0.1534585380802819 and parameters: {'lambda_l1': 2.1535597626030328e-06, 'lambda_l2': 8.427651435469055}. Best is trial 51 with value: 0.1534585380802819.\u001b[0m\n",
      "regularization_factors, val_score: 0.153459:  60%|######    | 12/20 [00:53<00:36,  4.54s/it]"
     ]
    },
    {
     "name": "stdout",
     "output_type": "stream",
     "text": [
      "Early stopping, best iteration is:\n",
      "[225]\ttrain's fair: 0.153103\tvalid's fair: 0.153459\n",
      "Training until validation scores don't improve for 300 rounds\n"
     ]
    },
    {
     "name": "stderr",
     "output_type": "stream",
     "text": [
      "regularization_factors, val_score: 0.153459:  65%|######5   | 13/20 [00:57<00:30,  4.36s/it]\u001b[32m[I 2021-08-31 15:13:28,871]\u001b[0m Trial 52 finished with value: 0.15346259883625632 and parameters: {'lambda_l1': 1.8194102693001144e-08, 'lambda_l2': 0.05036209481005941}. Best is trial 51 with value: 0.1534585380802819.\u001b[0m\n",
      "regularization_factors, val_score: 0.153459:  65%|######5   | 13/20 [00:57<00:30,  4.36s/it]"
     ]
    },
    {
     "name": "stdout",
     "output_type": "stream",
     "text": [
      "Early stopping, best iteration is:\n",
      "[135]\ttrain's fair: 0.153113\tvalid's fair: 0.153463\n",
      "Training until validation scores don't improve for 300 rounds\n",
      "[500]\ttrain's fair: 0.153088\tvalid's fair: 0.153473\n"
     ]
    },
    {
     "name": "stderr",
     "output_type": "stream",
     "text": [
      "regularization_factors, val_score: 0.153459:  70%|#######   | 14/20 [01:02<00:27,  4.62s/it]\u001b[32m[I 2021-08-31 15:13:34,088]\u001b[0m Trial 53 finished with value: 0.15345853841844798 and parameters: {'lambda_l1': 0.002737722117864784, 'lambda_l2': 8.504711683430228}. Best is trial 51 with value: 0.1534585380802819.\u001b[0m\n",
      "regularization_factors, val_score: 0.153459:  70%|#######   | 14/20 [01:02<00:27,  4.62s/it]"
     ]
    },
    {
     "name": "stdout",
     "output_type": "stream",
     "text": [
      "Early stopping, best iteration is:\n",
      "[225]\ttrain's fair: 0.153103\tvalid's fair: 0.153459\n",
      "Training until validation scores don't improve for 300 rounds\n"
     ]
    },
    {
     "name": "stderr",
     "output_type": "stream",
     "text": [
      "regularization_factors, val_score: 0.153459:  75%|#######5  | 15/20 [01:06<00:22,  4.45s/it]\u001b[32m[I 2021-08-31 15:13:38,146]\u001b[0m Trial 54 finished with value: 0.1534625993557829 and parameters: {'lambda_l1': 0.00446704079212684, 'lambda_l2': 0.03136518745752759}. Best is trial 51 with value: 0.1534585380802819.\u001b[0m\n",
      "regularization_factors, val_score: 0.153459:  75%|#######5  | 15/20 [01:06<00:22,  4.45s/it]"
     ]
    },
    {
     "name": "stdout",
     "output_type": "stream",
     "text": [
      "Early stopping, best iteration is:\n",
      "[135]\ttrain's fair: 0.153113\tvalid's fair: 0.153463\n",
      "Training until validation scores don't improve for 300 rounds\n",
      "[500]\ttrain's fair: 0.153088\tvalid's fair: 0.153473\n"
     ]
    },
    {
     "name": "stderr",
     "output_type": "stream",
     "text": [
      "regularization_factors, val_score: 0.153459:  80%|########  | 16/20 [01:11<00:18,  4.55s/it]\u001b[32m[I 2021-08-31 15:13:42,932]\u001b[0m Trial 55 finished with value: 0.15345853912325913 and parameters: {'lambda_l1': 0.0029205695827875106, 'lambda_l2': 8.812709817688908}. Best is trial 51 with value: 0.1534585380802819.\u001b[0m\n",
      "regularization_factors, val_score: 0.153459:  80%|########  | 16/20 [01:11<00:18,  4.55s/it]"
     ]
    },
    {
     "name": "stdout",
     "output_type": "stream",
     "text": [
      "Early stopping, best iteration is:\n",
      "[225]\ttrain's fair: 0.153103\tvalid's fair: 0.153459\n",
      "Training until validation scores don't improve for 300 rounds\n"
     ]
    },
    {
     "name": "stderr",
     "output_type": "stream",
     "text": [
      "regularization_factors, val_score: 0.153459:  85%|########5 | 17/20 [01:15<00:13,  4.36s/it]\u001b[32m[I 2021-08-31 15:13:46,860]\u001b[0m Trial 56 finished with value: 0.15346260083128002 and parameters: {'lambda_l1': 0.00034084728304107704, 'lambda_l2': 0.3378721209402847}. Best is trial 51 with value: 0.1534585380802819.\u001b[0m\n",
      "regularization_factors, val_score: 0.153459:  85%|########5 | 17/20 [01:15<00:13,  4.36s/it]"
     ]
    },
    {
     "name": "stdout",
     "output_type": "stream",
     "text": [
      "Early stopping, best iteration is:\n",
      "[135]\ttrain's fair: 0.153113\tvalid's fair: 0.153463\n",
      "Training until validation scores don't improve for 300 rounds\n",
      "[500]\ttrain's fair: 0.153089\tvalid's fair: 0.153476\n"
     ]
    },
    {
     "name": "stderr",
     "output_type": "stream",
     "text": [
      "regularization_factors, val_score: 0.153459:  90%|######### | 18/20 [01:20<00:09,  4.63s/it]\u001b[32m[I 2021-08-31 15:13:52,103]\u001b[0m Trial 57 finished with value: 0.15346183089585594 and parameters: {'lambda_l1': 0.060543168213841626, 'lambda_l2': 9.117386604478767}. Best is trial 51 with value: 0.1534585380802819.\u001b[0m\n",
      "regularization_factors, val_score: 0.153459:  90%|######### | 18/20 [01:20<00:09,  4.63s/it]"
     ]
    },
    {
     "name": "stdout",
     "output_type": "stream",
     "text": [
      "Early stopping, best iteration is:\n",
      "[270]\ttrain's fair: 0.153101\tvalid's fair: 0.153462\n",
      "Training until validation scores don't improve for 300 rounds\n"
     ]
    },
    {
     "name": "stderr",
     "output_type": "stream",
     "text": [
      "regularization_factors, val_score: 0.153459:  95%|#########5| 19/20 [01:24<00:04,  4.45s/it]\u001b[32m[I 2021-08-31 15:13:56,145]\u001b[0m Trial 58 finished with value: 0.15346259858782016 and parameters: {'lambda_l1': 9.666888375029202e-06, 'lambda_l2': 0.012504923867502368}. Best is trial 51 with value: 0.1534585380802819.\u001b[0m\n",
      "regularization_factors, val_score: 0.153459:  95%|#########5| 19/20 [01:24<00:04,  4.45s/it]"
     ]
    },
    {
     "name": "stdout",
     "output_type": "stream",
     "text": [
      "Early stopping, best iteration is:\n",
      "[135]\ttrain's fair: 0.153113\tvalid's fair: 0.153463\n",
      "Training until validation scores don't improve for 300 rounds\n"
     ]
    },
    {
     "name": "stderr",
     "output_type": "stream",
     "text": [
      "regularization_factors, val_score: 0.153459: 100%|##########| 20/20 [01:28<00:00,  4.30s/it]\u001b[32m[I 2021-08-31 15:14:00,081]\u001b[0m Trial 59 finished with value: 0.15346260037934517 and parameters: {'lambda_l1': 0.00023176990121551852, 'lambda_l2': 0.27385552238120014}. Best is trial 51 with value: 0.1534585380802819.\u001b[0m\n",
      "regularization_factors, val_score: 0.153459: 100%|##########| 20/20 [01:28<00:00,  4.41s/it]\n",
      "min_data_in_leaf, val_score: 0.153459:   0%|          | 0/5 [00:00<?, ?it/s]"
     ]
    },
    {
     "name": "stdout",
     "output_type": "stream",
     "text": [
      "Early stopping, best iteration is:\n",
      "[135]\ttrain's fair: 0.153113\tvalid's fair: 0.153463\n",
      "Training until validation scores don't improve for 300 rounds\n",
      "[500]\ttrain's fair: 0.153088\tvalid's fair: 0.153473\n"
     ]
    },
    {
     "name": "stderr",
     "output_type": "stream",
     "text": [
      "min_data_in_leaf, val_score: 0.153459:  20%|##        | 1/5 [00:05<00:23,  5.91s/it]\u001b[32m[I 2021-08-31 15:14:05,997]\u001b[0m Trial 60 finished with value: 0.1534585380802819 and parameters: {'min_child_samples': 25}. Best is trial 60 with value: 0.1534585380802819.\u001b[0m\n",
      "min_data_in_leaf, val_score: 0.153459:  20%|##        | 1/5 [00:05<00:23,  5.91s/it]"
     ]
    },
    {
     "name": "stdout",
     "output_type": "stream",
     "text": [
      "Early stopping, best iteration is:\n",
      "[225]\ttrain's fair: 0.153103\tvalid's fair: 0.153459\n",
      "Training until validation scores don't improve for 300 rounds\n",
      "[500]\ttrain's fair: 0.153088\tvalid's fair: 0.153473\n"
     ]
    },
    {
     "name": "stderr",
     "output_type": "stream",
     "text": [
      "min_data_in_leaf, val_score: 0.153459:  40%|####      | 2/5 [00:10<00:16,  5.35s/it]\u001b[32m[I 2021-08-31 15:14:10,953]\u001b[0m Trial 61 finished with value: 0.15345853808028193 and parameters: {'min_child_samples': 5}. Best is trial 60 with value: 0.1534585380802819.\u001b[0m\n",
      "min_data_in_leaf, val_score: 0.153459:  40%|####      | 2/5 [00:10<00:16,  5.35s/it]"
     ]
    },
    {
     "name": "stdout",
     "output_type": "stream",
     "text": [
      "Early stopping, best iteration is:\n",
      "[225]\ttrain's fair: 0.153103\tvalid's fair: 0.153459\n",
      "Training until validation scores don't improve for 300 rounds\n",
      "[500]\ttrain's fair: 0.153088\tvalid's fair: 0.153473\n"
     ]
    },
    {
     "name": "stderr",
     "output_type": "stream",
     "text": [
      "min_data_in_leaf, val_score: 0.153459:  60%|######    | 3/5 [00:15<00:10,  5.18s/it]\u001b[32m[I 2021-08-31 15:14:15,922]\u001b[0m Trial 62 finished with value: 0.1534585380802819 and parameters: {'min_child_samples': 50}. Best is trial 60 with value: 0.1534585380802819.\u001b[0m\n",
      "min_data_in_leaf, val_score: 0.153459:  60%|######    | 3/5 [00:15<00:10,  5.18s/it]"
     ]
    },
    {
     "name": "stdout",
     "output_type": "stream",
     "text": [
      "Early stopping, best iteration is:\n",
      "[225]\ttrain's fair: 0.153103\tvalid's fair: 0.153459\n",
      "Training until validation scores don't improve for 300 rounds\n",
      "[500]\ttrain's fair: 0.153088\tvalid's fair: 0.153473\n"
     ]
    },
    {
     "name": "stderr",
     "output_type": "stream",
     "text": [
      "min_data_in_leaf, val_score: 0.153459:  80%|########  | 4/5 [00:20<00:05,  5.03s/it]\u001b[32m[I 2021-08-31 15:14:20,724]\u001b[0m Trial 63 finished with value: 0.15345853808028193 and parameters: {'min_child_samples': 10}. Best is trial 60 with value: 0.1534585380802819.\u001b[0m\n",
      "min_data_in_leaf, val_score: 0.153459:  80%|########  | 4/5 [00:20<00:05,  5.03s/it]"
     ]
    },
    {
     "name": "stdout",
     "output_type": "stream",
     "text": [
      "Early stopping, best iteration is:\n",
      "[225]\ttrain's fair: 0.153103\tvalid's fair: 0.153459\n",
      "Training until validation scores don't improve for 300 rounds\n",
      "[500]\ttrain's fair: 0.153088\tvalid's fair: 0.153473\n"
     ]
    },
    {
     "name": "stderr",
     "output_type": "stream",
     "text": [
      "min_data_in_leaf, val_score: 0.153459: 100%|##########| 5/5 [00:25<00:00,  4.97s/it]\u001b[32m[I 2021-08-31 15:14:25,584]\u001b[0m Trial 64 finished with value: 0.1534585380802819 and parameters: {'min_child_samples': 100}. Best is trial 60 with value: 0.1534585380802819.\u001b[0m\n",
      "min_data_in_leaf, val_score: 0.153459: 100%|##########| 5/5 [00:25<00:00,  5.10s/it]"
     ]
    },
    {
     "name": "stdout",
     "output_type": "stream",
     "text": [
      "Early stopping, best iteration is:\n",
      "[225]\ttrain's fair: 0.153103\tvalid's fair: 0.153459\n"
     ]
    },
    {
     "name": "stderr",
     "output_type": "stream",
     "text": [
      "\n",
      "\u001b[32m[I 2021-08-31 15:14:26,094]\u001b[0m A new study created in memory with name: no-name-4fe26e59-d2e3-49aa-b3f2-ca2af72d4dbe\u001b[0m\n",
      "feature_fraction, val_score: inf:   0%|          | 0/7 [00:00<?, ?it/s]"
     ]
    },
    {
     "name": "stdout",
     "output_type": "stream",
     "text": [
      "1 0.7167106753607776\n",
      "Training until validation scores don't improve for 300 rounds\n"
     ]
    },
    {
     "name": "stderr",
     "output_type": "stream",
     "text": [
      "feature_fraction, val_score: 0.153314:  14%|#4        | 1/7 [00:04<00:26,  4.47s/it]\u001b[32m[I 2021-08-31 15:14:30,574]\u001b[0m Trial 0 finished with value: 0.15331351834037854 and parameters: {'feature_fraction': 0.5}. Best is trial 0 with value: 0.15331351834037854.\u001b[0m\n",
      "feature_fraction, val_score: 0.153314:  14%|#4        | 1/7 [00:04<00:26,  4.47s/it]"
     ]
    },
    {
     "name": "stdout",
     "output_type": "stream",
     "text": [
      "Early stopping, best iteration is:\n",
      "[35]\ttrain's fair: 0.152935\tvalid's fair: 0.153314\n",
      "Training until validation scores don't improve for 300 rounds\n"
     ]
    },
    {
     "name": "stderr",
     "output_type": "stream",
     "text": [
      "feature_fraction, val_score: 0.153314:  29%|##8       | 2/7 [00:08<00:22,  4.49s/it]\u001b[32m[I 2021-08-31 15:14:35,074]\u001b[0m Trial 1 finished with value: 0.1533135183403785 and parameters: {'feature_fraction': 0.7}. Best is trial 1 with value: 0.1533135183403785.\u001b[0m\n",
      "feature_fraction, val_score: 0.153314:  29%|##8       | 2/7 [00:08<00:22,  4.49s/it]"
     ]
    },
    {
     "name": "stdout",
     "output_type": "stream",
     "text": [
      "Early stopping, best iteration is:\n",
      "[35]\ttrain's fair: 0.152935\tvalid's fair: 0.153314\n",
      "Training until validation scores don't improve for 300 rounds\n"
     ]
    },
    {
     "name": "stderr",
     "output_type": "stream",
     "text": [
      "feature_fraction, val_score: 0.153274:  43%|####2     | 3/7 [00:14<00:19,  4.84s/it]\u001b[32m[I 2021-08-31 15:14:40,333]\u001b[0m Trial 2 finished with value: 0.15327418624172112 and parameters: {'feature_fraction': 0.8999999999999999}. Best is trial 2 with value: 0.15327418624172112.\u001b[0m\n",
      "feature_fraction, val_score: 0.153274:  43%|####2     | 3/7 [00:14<00:19,  4.84s/it]"
     ]
    },
    {
     "name": "stdout",
     "output_type": "stream",
     "text": [
      "Early stopping, best iteration is:\n",
      "[28]\ttrain's fair: 0.152908\tvalid's fair: 0.153274\n",
      "Training until validation scores don't improve for 300 rounds\n"
     ]
    },
    {
     "name": "stderr",
     "output_type": "stream",
     "text": [
      "feature_fraction, val_score: 0.153274:  57%|#####7    | 4/7 [00:18<00:13,  4.63s/it]\u001b[32m[I 2021-08-31 15:14:44,650]\u001b[0m Trial 3 finished with value: 0.15331351834037854 and parameters: {'feature_fraction': 0.8}. Best is trial 2 with value: 0.15327418624172112.\u001b[0m\n",
      "feature_fraction, val_score: 0.153274:  57%|#####7    | 4/7 [00:18<00:13,  4.63s/it]"
     ]
    },
    {
     "name": "stdout",
     "output_type": "stream",
     "text": [
      "Early stopping, best iteration is:\n",
      "[35]\ttrain's fair: 0.152935\tvalid's fair: 0.153314\n",
      "Training until validation scores don't improve for 300 rounds\n"
     ]
    },
    {
     "name": "stderr",
     "output_type": "stream",
     "text": [
      "feature_fraction, val_score: 0.153274:  71%|#######1  | 5/7 [00:22<00:09,  4.54s/it]\u001b[32m[I 2021-08-31 15:14:49,010]\u001b[0m Trial 4 finished with value: 0.15331351834037854 and parameters: {'feature_fraction': 0.6}. Best is trial 2 with value: 0.15327418624172112.\u001b[0m\n",
      "feature_fraction, val_score: 0.153274:  71%|#######1  | 5/7 [00:22<00:09,  4.54s/it]"
     ]
    },
    {
     "name": "stdout",
     "output_type": "stream",
     "text": [
      "Early stopping, best iteration is:\n",
      "[35]\ttrain's fair: 0.152935\tvalid's fair: 0.153314\n",
      "Training until validation scores don't improve for 300 rounds\n"
     ]
    },
    {
     "name": "stderr",
     "output_type": "stream",
     "text": [
      "feature_fraction, val_score: 0.153274:  86%|########5 | 6/7 [00:29<00:05,  5.13s/it]\u001b[32m[I 2021-08-31 15:14:55,300]\u001b[0m Trial 5 finished with value: 0.1532978637510604 and parameters: {'feature_fraction': 0.4}. Best is trial 2 with value: 0.15327418624172112.\u001b[0m\n",
      "feature_fraction, val_score: 0.153274:  86%|########5 | 6/7 [00:29<00:05,  5.13s/it]"
     ]
    },
    {
     "name": "stdout",
     "output_type": "stream",
     "text": [
      "Early stopping, best iteration is:\n",
      "[30]\ttrain's fair: 0.153171\tvalid's fair: 0.153298\n",
      "Training until validation scores don't improve for 300 rounds\n"
     ]
    },
    {
     "name": "stderr",
     "output_type": "stream",
     "text": [
      "feature_fraction, val_score: 0.153274: 100%|##########| 7/7 [00:33<00:00,  4.87s/it]\u001b[32m[I 2021-08-31 15:14:59,624]\u001b[0m Trial 6 finished with value: 0.15327418624172112 and parameters: {'feature_fraction': 1.0}. Best is trial 2 with value: 0.15327418624172112.\u001b[0m\n",
      "feature_fraction, val_score: 0.153274: 100%|##########| 7/7 [00:33<00:00,  4.79s/it]\n",
      "num_leaves, val_score: 0.153274:   0%|          | 0/20 [00:00<?, ?it/s]"
     ]
    },
    {
     "name": "stdout",
     "output_type": "stream",
     "text": [
      "Early stopping, best iteration is:\n",
      "[28]\ttrain's fair: 0.152908\tvalid's fair: 0.153274\n",
      "Training until validation scores don't improve for 300 rounds\n"
     ]
    },
    {
     "name": "stderr",
     "output_type": "stream",
     "text": [
      "num_leaves, val_score: 0.153254:   5%|5         | 1/20 [00:04<01:32,  4.86s/it]\u001b[32m[I 2021-08-31 15:15:04,488]\u001b[0m Trial 7 finished with value: 0.15325428696531157 and parameters: {'num_leaves': 49}. Best is trial 7 with value: 0.15325428696531157.\u001b[0m\n",
      "num_leaves, val_score: 0.153254:   5%|5         | 1/20 [00:04<01:32,  4.86s/it]"
     ]
    },
    {
     "name": "stdout",
     "output_type": "stream",
     "text": [
      "Early stopping, best iteration is:\n",
      "[30]\ttrain's fair: 0.152692\tvalid's fair: 0.153254\n",
      "Training until validation scores don't improve for 300 rounds\n"
     ]
    },
    {
     "name": "stderr",
     "output_type": "stream",
     "text": [
      "num_leaves, val_score: 0.153254:  10%|#         | 2/20 [00:09<01:24,  4.71s/it]\u001b[32m[I 2021-08-31 15:15:09,102]\u001b[0m Trial 8 finished with value: 0.15326461155545718 and parameters: {'num_leaves': 41}. Best is trial 7 with value: 0.15325428696531157.\u001b[0m\n",
      "num_leaves, val_score: 0.153254:  10%|#         | 2/20 [00:09<01:24,  4.71s/it]"
     ]
    },
    {
     "name": "stdout",
     "output_type": "stream",
     "text": [
      "Early stopping, best iteration is:\n",
      "[30]\ttrain's fair: 0.152773\tvalid's fair: 0.153265\n",
      "Training until validation scores don't improve for 300 rounds\n"
     ]
    },
    {
     "name": "stderr",
     "output_type": "stream",
     "text": [
      "num_leaves, val_score: 0.153223:  15%|#5        | 3/20 [00:13<01:13,  4.32s/it]\u001b[32m[I 2021-08-31 15:15:12,955]\u001b[0m Trial 9 finished with value: 0.1532229364798063 and parameters: {'num_leaves': 12}. Best is trial 9 with value: 0.1532229364798063.\u001b[0m\n",
      "num_leaves, val_score: 0.153223:  15%|#5        | 3/20 [00:13<01:13,  4.32s/it]"
     ]
    },
    {
     "name": "stdout",
     "output_type": "stream",
     "text": [
      "Early stopping, best iteration is:\n",
      "[36]\ttrain's fair: 0.153055\tvalid's fair: 0.153223\n",
      "Training until validation scores don't improve for 300 rounds\n"
     ]
    },
    {
     "name": "stderr",
     "output_type": "stream",
     "text": [
      "num_leaves, val_score: 0.153223:  20%|##        | 4/20 [00:19<01:21,  5.12s/it]\u001b[32m[I 2021-08-31 15:15:19,293]\u001b[0m Trial 10 finished with value: 0.15332340938805863 and parameters: {'num_leaves': 110}. Best is trial 9 with value: 0.1532229364798063.\u001b[0m\n",
      "num_leaves, val_score: 0.153223:  20%|##        | 4/20 [00:19<01:21,  5.12s/it]"
     ]
    },
    {
     "name": "stdout",
     "output_type": "stream",
     "text": [
      "Early stopping, best iteration is:\n",
      "[24]\ttrain's fair: 0.152295\tvalid's fair: 0.153323\n",
      "Training until validation scores don't improve for 300 rounds\n"
     ]
    },
    {
     "name": "stderr",
     "output_type": "stream",
     "text": [
      "num_leaves, val_score: 0.153223:  25%|##5       | 5/20 [00:25<01:21,  5.45s/it]\u001b[32m[I 2021-08-31 15:15:25,320]\u001b[0m Trial 11 finished with value: 0.1533465104198502 and parameters: {'num_leaves': 137}. Best is trial 9 with value: 0.1532229364798063.\u001b[0m\n",
      "num_leaves, val_score: 0.153223:  25%|##5       | 5/20 [00:25<01:21,  5.45s/it]"
     ]
    },
    {
     "name": "stdout",
     "output_type": "stream",
     "text": [
      "Early stopping, best iteration is:\n",
      "[24]\ttrain's fair: 0.152085\tvalid's fair: 0.153347\n",
      "Training until validation scores don't improve for 300 rounds\n"
     ]
    },
    {
     "name": "stderr",
     "output_type": "stream",
     "text": [
      "num_leaves, val_score: 0.153223:  30%|###       | 6/20 [00:31<01:18,  5.59s/it]\u001b[32m[I 2021-08-31 15:15:31,179]\u001b[0m Trial 12 finished with value: 0.15335173130123697 and parameters: {'num_leaves': 117}. Best is trial 9 with value: 0.1532229364798063.\u001b[0m\n",
      "num_leaves, val_score: 0.153223:  30%|###       | 6/20 [00:31<01:18,  5.59s/it]"
     ]
    },
    {
     "name": "stdout",
     "output_type": "stream",
     "text": [
      "Early stopping, best iteration is:\n",
      "[24]\ttrain's fair: 0.152243\tvalid's fair: 0.153352\n",
      "Training until validation scores don't improve for 300 rounds\n"
     ]
    },
    {
     "name": "stderr",
     "output_type": "stream",
     "text": [
      "num_leaves, val_score: 0.153223:  35%|###5      | 7/20 [00:38<01:20,  6.16s/it]\u001b[32m[I 2021-08-31 15:15:38,512]\u001b[0m Trial 13 finished with value: 0.15348580381026145 and parameters: {'num_leaves': 219}. Best is trial 9 with value: 0.1532229364798063.\u001b[0m\n",
      "num_leaves, val_score: 0.153223:  35%|###5      | 7/20 [00:38<01:20,  6.16s/it]"
     ]
    },
    {
     "name": "stdout",
     "output_type": "stream",
     "text": [
      "Early stopping, best iteration is:\n",
      "[23]\ttrain's fair: 0.151566\tvalid's fair: 0.153486\n",
      "Training until validation scores don't improve for 300 rounds\n"
     ]
    },
    {
     "name": "stderr",
     "output_type": "stream",
     "text": [
      "num_leaves, val_score: 0.153223:  40%|####      | 8/20 [00:46<01:19,  6.62s/it]\u001b[32m[I 2021-08-31 15:15:46,123]\u001b[0m Trial 14 finished with value: 0.15343200788681297 and parameters: {'num_leaves': 215}. Best is trial 9 with value: 0.1532229364798063.\u001b[0m\n",
      "num_leaves, val_score: 0.153223:  40%|####      | 8/20 [00:46<01:19,  6.62s/it]"
     ]
    },
    {
     "name": "stdout",
     "output_type": "stream",
     "text": [
      "Early stopping, best iteration is:\n",
      "[25]\ttrain's fair: 0.151442\tvalid's fair: 0.153432\n",
      "Training until validation scores don't improve for 300 rounds\n"
     ]
    },
    {
     "name": "stderr",
     "output_type": "stream",
     "text": [
      "num_leaves, val_score: 0.153223:  45%|####5     | 9/20 [00:52<01:11,  6.48s/it]\u001b[32m[I 2021-08-31 15:15:52,310]\u001b[0m Trial 15 finished with value: 0.15328763381469235 and parameters: {'num_leaves': 81}. Best is trial 9 with value: 0.1532229364798063.\u001b[0m\n",
      "num_leaves, val_score: 0.153223:  45%|####5     | 9/20 [00:52<01:11,  6.48s/it]"
     ]
    },
    {
     "name": "stdout",
     "output_type": "stream",
     "text": [
      "Early stopping, best iteration is:\n",
      "[27]\ttrain's fair: 0.152443\tvalid's fair: 0.153288\n",
      "Training until validation scores don't improve for 300 rounds\n"
     ]
    },
    {
     "name": "stderr",
     "output_type": "stream",
     "text": [
      "num_leaves, val_score: 0.153223:  50%|#####     | 10/20 [00:56<00:55,  5.60s/it]\u001b[32m[I 2021-08-31 15:15:55,919]\u001b[0m Trial 16 finished with value: 0.15323724084216053 and parameters: {'num_leaves': 7}. Best is trial 9 with value: 0.1532229364798063.\u001b[0m\n",
      "num_leaves, val_score: 0.153223:  50%|#####     | 10/20 [00:56<00:55,  5.60s/it]"
     ]
    },
    {
     "name": "stdout",
     "output_type": "stream",
     "text": [
      "Early stopping, best iteration is:\n",
      "[37]\ttrain's fair: 0.153107\tvalid's fair: 0.153237\n",
      "Training until validation scores don't improve for 300 rounds\n"
     ]
    },
    {
     "name": "stderr",
     "output_type": "stream",
     "text": [
      "num_leaves, val_score: 0.153223:  55%|#####5    | 11/20 [01:02<00:53,  5.89s/it]\u001b[32m[I 2021-08-31 15:16:02,472]\u001b[0m Trial 17 finished with value: 0.15340780168858717 and parameters: {'num_leaves': 164}. Best is trial 9 with value: 0.1532229364798063.\u001b[0m\n",
      "num_leaves, val_score: 0.153223:  55%|#####5    | 11/20 [01:02<00:53,  5.89s/it]"
     ]
    },
    {
     "name": "stdout",
     "output_type": "stream",
     "text": [
      "Early stopping, best iteration is:\n",
      "[26]\ttrain's fair: 0.151784\tvalid's fair: 0.153408\n",
      "Training until validation scores don't improve for 300 rounds\n"
     ]
    },
    {
     "name": "stderr",
     "output_type": "stream",
     "text": [
      "num_leaves, val_score: 0.153217:  60%|######    | 12/20 [01:06<00:41,  5.22s/it]\u001b[32m[I 2021-08-31 15:16:06,176]\u001b[0m Trial 18 finished with value: 0.1532173715463528 and parameters: {'num_leaves': 8}. Best is trial 18 with value: 0.1532173715463528.\u001b[0m\n",
      "num_leaves, val_score: 0.153217:  60%|######    | 12/20 [01:06<00:41,  5.22s/it]"
     ]
    },
    {
     "name": "stdout",
     "output_type": "stream",
     "text": [
      "Early stopping, best iteration is:\n",
      "[34]\ttrain's fair: 0.153107\tvalid's fair: 0.153217\n",
      "Training until validation scores don't improve for 300 rounds\n"
     ]
    },
    {
     "name": "stderr",
     "output_type": "stream",
     "text": [
      "num_leaves, val_score: 0.153217:  65%|######5   | 13/20 [01:10<00:33,  4.78s/it]\u001b[32m[I 2021-08-31 15:16:09,941]\u001b[0m Trial 19 finished with value: 0.15322293647980628 and parameters: {'num_leaves': 12}. Best is trial 18 with value: 0.1532173715463528.\u001b[0m\n",
      "num_leaves, val_score: 0.153217:  65%|######5   | 13/20 [01:10<00:33,  4.78s/it]"
     ]
    },
    {
     "name": "stdout",
     "output_type": "stream",
     "text": [
      "Early stopping, best iteration is:\n",
      "[36]\ttrain's fair: 0.153055\tvalid's fair: 0.153223\n",
      "Training until validation scores don't improve for 300 rounds\n"
     ]
    },
    {
     "name": "stderr",
     "output_type": "stream",
     "text": [
      "num_leaves, val_score: 0.153217:  70%|#######   | 14/20 [01:14<00:26,  4.45s/it]\u001b[32m[I 2021-08-31 15:16:13,633]\u001b[0m Trial 20 finished with value: 0.15323724084216053 and parameters: {'num_leaves': 7}. Best is trial 18 with value: 0.1532173715463528.\u001b[0m\n",
      "num_leaves, val_score: 0.153217:  70%|#######   | 14/20 [01:14<00:26,  4.45s/it]"
     ]
    },
    {
     "name": "stdout",
     "output_type": "stream",
     "text": [
      "Early stopping, best iteration is:\n",
      "[37]\ttrain's fair: 0.153107\tvalid's fair: 0.153237\n",
      "Training until validation scores don't improve for 300 rounds\n"
     ]
    },
    {
     "name": "stderr",
     "output_type": "stream",
     "text": [
      "num_leaves, val_score: 0.153217:  75%|#######5  | 15/20 [01:18<00:22,  4.54s/it]\u001b[32m[I 2021-08-31 15:16:18,370]\u001b[0m Trial 21 finished with value: 0.15328063618237042 and parameters: {'num_leaves': 51}. Best is trial 18 with value: 0.1532173715463528.\u001b[0m\n",
      "num_leaves, val_score: 0.153217:  75%|#######5  | 15/20 [01:18<00:22,  4.54s/it]"
     ]
    },
    {
     "name": "stdout",
     "output_type": "stream",
     "text": [
      "Early stopping, best iteration is:\n",
      "[28]\ttrain's fair: 0.152699\tvalid's fair: 0.153281\n",
      "Training until validation scores don't improve for 300 rounds\n"
     ]
    },
    {
     "name": "stderr",
     "output_type": "stream",
     "text": [
      "num_leaves, val_score: 0.153217:  80%|########  | 16/20 [01:26<00:22,  5.59s/it]\u001b[32m[I 2021-08-31 15:16:26,394]\u001b[0m Trial 22 finished with value: 0.15342783214848035 and parameters: {'num_leaves': 256}. Best is trial 18 with value: 0.1532173715463528.\u001b[0m\n",
      "num_leaves, val_score: 0.153217:  80%|########  | 16/20 [01:26<00:22,  5.59s/it]"
     ]
    },
    {
     "name": "stdout",
     "output_type": "stream",
     "text": [
      "Early stopping, best iteration is:\n",
      "[24]\ttrain's fair: 0.151225\tvalid's fair: 0.153428\n",
      "Training until validation scores don't improve for 300 rounds\n"
     ]
    },
    {
     "name": "stderr",
     "output_type": "stream",
     "text": [
      "num_leaves, val_score: 0.153217:  85%|########5 | 17/20 [01:32<00:17,  5.73s/it]\u001b[32m[I 2021-08-31 15:16:32,444]\u001b[0m Trial 23 finished with value: 0.15332501895924786 and parameters: {'num_leaves': 82}. Best is trial 18 with value: 0.1532173715463528.\u001b[0m\n",
      "num_leaves, val_score: 0.153217:  85%|########5 | 17/20 [01:32<00:17,  5.73s/it]"
     ]
    },
    {
     "name": "stdout",
     "output_type": "stream",
     "text": [
      "Early stopping, best iteration is:\n",
      "[26]\ttrain's fair: 0.152472\tvalid's fair: 0.153325\n",
      "Training until validation scores don't improve for 300 rounds\n"
     ]
    },
    {
     "name": "stderr",
     "output_type": "stream",
     "text": [
      "num_leaves, val_score: 0.153217:  90%|######### | 18/20 [01:37<00:10,  5.27s/it]\u001b[32m[I 2021-08-31 15:16:36,655]\u001b[0m Trial 24 finished with value: 0.15325876749251954 and parameters: {'num_leaves': 28}. Best is trial 18 with value: 0.1532173715463528.\u001b[0m\n",
      "num_leaves, val_score: 0.153217:  90%|######### | 18/20 [01:37<00:10,  5.27s/it]"
     ]
    },
    {
     "name": "stdout",
     "output_type": "stream",
     "text": [
      "Early stopping, best iteration is:\n",
      "[28]\ttrain's fair: 0.152944\tvalid's fair: 0.153259\n",
      "Training until validation scores don't improve for 300 rounds\n"
     ]
    },
    {
     "name": "stderr",
     "output_type": "stream",
     "text": [
      "num_leaves, val_score: 0.153217:  95%|#########5| 19/20 [01:42<00:05,  5.31s/it]\u001b[32m[I 2021-08-31 15:16:42,067]\u001b[0m Trial 25 finished with value: 0.15331009404355933 and parameters: {'num_leaves': 77}. Best is trial 18 with value: 0.1532173715463528.\u001b[0m\n",
      "num_leaves, val_score: 0.153217:  95%|#########5| 19/20 [01:42<00:05,  5.31s/it]"
     ]
    },
    {
     "name": "stdout",
     "output_type": "stream",
     "text": [
      "Early stopping, best iteration is:\n",
      "[27]\ttrain's fair: 0.152476\tvalid's fair: 0.15331\n",
      "Training until validation scores don't improve for 300 rounds\n"
     ]
    },
    {
     "name": "stderr",
     "output_type": "stream",
     "text": [
      "num_leaves, val_score: 0.153217: 100%|##########| 20/20 [01:46<00:00,  4.79s/it]\u001b[32m[I 2021-08-31 15:16:45,640]\u001b[0m Trial 26 finished with value: 0.15323567059137727 and parameters: {'num_leaves': 2}. Best is trial 18 with value: 0.1532173715463528.\u001b[0m\n",
      "num_leaves, val_score: 0.153217: 100%|##########| 20/20 [01:46<00:00,  5.30s/it]\n",
      "bagging, val_score: 0.153217:   0%|          | 0/10 [00:00<?, ?it/s]"
     ]
    },
    {
     "name": "stdout",
     "output_type": "stream",
     "text": [
      "Early stopping, best iteration is:\n",
      "[89]\ttrain's fair: 0.153137\tvalid's fair: 0.153236\n",
      "Training until validation scores don't improve for 300 rounds\n"
     ]
    },
    {
     "name": "stderr",
     "output_type": "stream",
     "text": [
      "bagging, val_score: 0.153217:  10%|#         | 1/10 [00:04<00:41,  4.66s/it]\u001b[32m[I 2021-08-31 15:16:50,307]\u001b[0m Trial 27 finished with value: 0.1532307750440717 and parameters: {'bagging_fraction': 0.9247214970942542, 'bagging_freq': 5}. Best is trial 27 with value: 0.1532307750440717.\u001b[0m\n",
      "bagging, val_score: 0.153217:  10%|#         | 1/10 [00:04<00:41,  4.66s/it]"
     ]
    },
    {
     "name": "stdout",
     "output_type": "stream",
     "text": [
      "Early stopping, best iteration is:\n",
      "[46]\ttrain's fair: 0.153069\tvalid's fair: 0.153231\n",
      "Training until validation scores don't improve for 300 rounds\n"
     ]
    },
    {
     "name": "stderr",
     "output_type": "stream",
     "text": [
      "bagging, val_score: 0.153217:  20%|##        | 2/10 [00:09<00:36,  4.55s/it]\u001b[32m[I 2021-08-31 15:16:54,783]\u001b[0m Trial 28 finished with value: 0.153234101121173 and parameters: {'bagging_fraction': 0.781524213789009, 'bagging_freq': 5}. Best is trial 27 with value: 0.1532307750440717.\u001b[0m\n",
      "bagging, val_score: 0.153217:  20%|##        | 2/10 [00:09<00:36,  4.55s/it]"
     ]
    },
    {
     "name": "stdout",
     "output_type": "stream",
     "text": [
      "Early stopping, best iteration is:\n",
      "[35]\ttrain's fair: 0.15311\tvalid's fair: 0.153234\n",
      "Training until validation scores don't improve for 300 rounds\n"
     ]
    },
    {
     "name": "stderr",
     "output_type": "stream",
     "text": [
      "bagging, val_score: 0.153212:  30%|###       | 3/10 [00:13<00:31,  4.52s/it]\u001b[32m[I 2021-08-31 15:16:59,270]\u001b[0m Trial 29 finished with value: 0.1532120391988053 and parameters: {'bagging_fraction': 0.6061428155322335, 'bagging_freq': 7}. Best is trial 29 with value: 0.1532120391988053.\u001b[0m\n",
      "bagging, val_score: 0.153212:  30%|###       | 3/10 [00:13<00:31,  4.52s/it]"
     ]
    },
    {
     "name": "stdout",
     "output_type": "stream",
     "text": [
      "Early stopping, best iteration is:\n",
      "[34]\ttrain's fair: 0.153117\tvalid's fair: 0.153212\n",
      "Training until validation scores don't improve for 300 rounds\n"
     ]
    },
    {
     "name": "stderr",
     "output_type": "stream",
     "text": [
      "bagging, val_score: 0.153212:  40%|####      | 4/10 [00:18<00:28,  4.71s/it]\u001b[32m[I 2021-08-31 15:17:04,261]\u001b[0m Trial 30 finished with value: 0.15323710322002082 and parameters: {'bagging_fraction': 0.9356194508471009, 'bagging_freq': 5}. Best is trial 29 with value: 0.1532120391988053.\u001b[0m\n",
      "bagging, val_score: 0.153212:  40%|####      | 4/10 [00:18<00:28,  4.71s/it]"
     ]
    },
    {
     "name": "stdout",
     "output_type": "stream",
     "text": [
      "Early stopping, best iteration is:\n",
      "[32]\ttrain's fair: 0.153117\tvalid's fair: 0.153237\n",
      "Training until validation scores don't improve for 300 rounds\n"
     ]
    },
    {
     "name": "stderr",
     "output_type": "stream",
     "text": [
      "bagging, val_score: 0.153212:  50%|#####     | 5/10 [00:23<00:23,  4.77s/it]\u001b[32m[I 2021-08-31 15:17:09,154]\u001b[0m Trial 31 finished with value: 0.15321963990025836 and parameters: {'bagging_fraction': 0.9765392321538627, 'bagging_freq': 6}. Best is trial 29 with value: 0.1532120391988053.\u001b[0m\n",
      "bagging, val_score: 0.153212:  50%|#####     | 5/10 [00:23<00:23,  4.77s/it]"
     ]
    },
    {
     "name": "stdout",
     "output_type": "stream",
     "text": [
      "Early stopping, best iteration is:\n",
      "[34]\ttrain's fair: 0.153107\tvalid's fair: 0.15322\n",
      "Training until validation scores don't improve for 300 rounds\n"
     ]
    },
    {
     "name": "stderr",
     "output_type": "stream",
     "text": [
      "bagging, val_score: 0.153212:  60%|######    | 6/10 [00:28<00:19,  4.78s/it]\u001b[32m[I 2021-08-31 15:17:13,936]\u001b[0m Trial 32 finished with value: 0.15321871911242654 and parameters: {'bagging_fraction': 0.4483457585918332, 'bagging_freq': 2}. Best is trial 29 with value: 0.1532120391988053.\u001b[0m\n",
      "bagging, val_score: 0.153212:  60%|######    | 6/10 [00:28<00:19,  4.78s/it]"
     ]
    },
    {
     "name": "stdout",
     "output_type": "stream",
     "text": [
      "Early stopping, best iteration is:\n",
      "[29]\ttrain's fair: 0.153141\tvalid's fair: 0.153219\n",
      "Training until validation scores don't improve for 300 rounds\n"
     ]
    },
    {
     "name": "stderr",
     "output_type": "stream",
     "text": [
      "bagging, val_score: 0.153212:  70%|#######   | 7/10 [00:33<00:14,  4.82s/it]\u001b[32m[I 2021-08-31 15:17:18,847]\u001b[0m Trial 33 finished with value: 0.15321475984129976 and parameters: {'bagging_fraction': 0.8282781863226529, 'bagging_freq': 3}. Best is trial 29 with value: 0.1532120391988053.\u001b[0m\n",
      "bagging, val_score: 0.153212:  70%|#######   | 7/10 [00:33<00:14,  4.82s/it]"
     ]
    },
    {
     "name": "stdout",
     "output_type": "stream",
     "text": [
      "Early stopping, best iteration is:\n",
      "[39]\ttrain's fair: 0.153093\tvalid's fair: 0.153215\n",
      "Training until validation scores don't improve for 300 rounds\n"
     ]
    },
    {
     "name": "stderr",
     "output_type": "stream",
     "text": [
      "bagging, val_score: 0.153212:  80%|########  | 8/10 [00:37<00:09,  4.74s/it]\u001b[32m[I 2021-08-31 15:17:23,403]\u001b[0m Trial 34 finished with value: 0.15321994163778282 and parameters: {'bagging_fraction': 0.589799384885699, 'bagging_freq': 7}. Best is trial 29 with value: 0.1532120391988053.\u001b[0m\n",
      "bagging, val_score: 0.153212:  80%|########  | 8/10 [00:37<00:09,  4.74s/it]"
     ]
    },
    {
     "name": "stdout",
     "output_type": "stream",
     "text": [
      "Early stopping, best iteration is:\n",
      "[30]\ttrain's fair: 0.153137\tvalid's fair: 0.15322\n",
      "Training until validation scores don't improve for 300 rounds\n"
     ]
    },
    {
     "name": "stderr",
     "output_type": "stream",
     "text": [
      "bagging, val_score: 0.153212:  90%|######### | 9/10 [00:42<00:04,  4.61s/it]\u001b[32m[I 2021-08-31 15:17:27,748]\u001b[0m Trial 35 finished with value: 0.15322167914583645 and parameters: {'bagging_fraction': 0.7805277245579414, 'bagging_freq': 6}. Best is trial 29 with value: 0.1532120391988053.\u001b[0m\n",
      "bagging, val_score: 0.153212:  90%|######### | 9/10 [00:42<00:04,  4.61s/it]"
     ]
    },
    {
     "name": "stdout",
     "output_type": "stream",
     "text": [
      "Early stopping, best iteration is:\n",
      "[30]\ttrain's fair: 0.153121\tvalid's fair: 0.153222\n",
      "Training until validation scores don't improve for 300 rounds\n"
     ]
    },
    {
     "name": "stderr",
     "output_type": "stream",
     "text": [
      "bagging, val_score: 0.153212: 100%|##########| 10/10 [00:46<00:00,  4.63s/it]\u001b[32m[I 2021-08-31 15:17:32,416]\u001b[0m Trial 36 finished with value: 0.1532375499324039 and parameters: {'bagging_fraction': 0.9305438253287358, 'bagging_freq': 5}. Best is trial 29 with value: 0.1532120391988053.\u001b[0m\n",
      "bagging, val_score: 0.153212: 100%|##########| 10/10 [00:46<00:00,  4.68s/it]\n",
      "feature_fraction_stage2, val_score: 0.153212:   0%|          | 0/6 [00:00<?, ?it/s]"
     ]
    },
    {
     "name": "stdout",
     "output_type": "stream",
     "text": [
      "Early stopping, best iteration is:\n",
      "[50]\ttrain's fair: 0.153064\tvalid's fair: 0.153238\n",
      "Training until validation scores don't improve for 300 rounds\n"
     ]
    },
    {
     "name": "stderr",
     "output_type": "stream",
     "text": [
      "feature_fraction_stage2, val_score: 0.153212:  17%|#6        | 1/6 [00:05<00:25,  5.15s/it]\u001b[32m[I 2021-08-31 15:17:37,575]\u001b[0m Trial 37 finished with value: 0.15328877026636648 and parameters: {'feature_fraction': 0.82}. Best is trial 37 with value: 0.15328877026636648.\u001b[0m\n",
      "feature_fraction_stage2, val_score: 0.153212:  17%|#6        | 1/6 [00:05<00:25,  5.15s/it]"
     ]
    },
    {
     "name": "stdout",
     "output_type": "stream",
     "text": [
      "Early stopping, best iteration is:\n",
      "[80]\ttrain's fair: 0.153074\tvalid's fair: 0.153289\n",
      "Training until validation scores don't improve for 300 rounds\n"
     ]
    },
    {
     "name": "stderr",
     "output_type": "stream",
     "text": [
      "feature_fraction_stage2, val_score: 0.153212:  33%|###3      | 2/6 [00:10<00:21,  5.27s/it]\u001b[32m[I 2021-08-31 15:17:42,927]\u001b[0m Trial 38 finished with value: 0.1532120391988053 and parameters: {'feature_fraction': 0.852}. Best is trial 38 with value: 0.1532120391988053.\u001b[0m\n",
      "feature_fraction_stage2, val_score: 0.153212:  33%|###3      | 2/6 [00:10<00:21,  5.27s/it]"
     ]
    },
    {
     "name": "stdout",
     "output_type": "stream",
     "text": [
      "Early stopping, best iteration is:\n",
      "[34]\ttrain's fair: 0.153117\tvalid's fair: 0.153212\n",
      "Training until validation scores don't improve for 300 rounds\n"
     ]
    },
    {
     "name": "stderr",
     "output_type": "stream",
     "text": [
      "feature_fraction_stage2, val_score: 0.153212:  50%|#####     | 3/6 [00:15<00:14,  4.95s/it]\u001b[32m[I 2021-08-31 15:17:47,502]\u001b[0m Trial 39 finished with value: 0.15321203919880527 and parameters: {'feature_fraction': 0.948}. Best is trial 39 with value: 0.15321203919880527.\u001b[0m\n",
      "feature_fraction_stage2, val_score: 0.153212:  50%|#####     | 3/6 [00:15<00:14,  4.95s/it]"
     ]
    },
    {
     "name": "stdout",
     "output_type": "stream",
     "text": [
      "Early stopping, best iteration is:\n",
      "[34]\ttrain's fair: 0.153117\tvalid's fair: 0.153212\n",
      "Training until validation scores don't improve for 300 rounds\n"
     ]
    },
    {
     "name": "stderr",
     "output_type": "stream",
     "text": [
      "feature_fraction_stage2, val_score: 0.153212:  67%|######6   | 4/6 [00:19<00:09,  4.90s/it]\u001b[32m[I 2021-08-31 15:17:52,311]\u001b[0m Trial 40 finished with value: 0.1532120391988053 and parameters: {'feature_fraction': 0.8839999999999999}. Best is trial 39 with value: 0.15321203919880527.\u001b[0m\n",
      "feature_fraction_stage2, val_score: 0.153212:  67%|######6   | 4/6 [00:19<00:09,  4.90s/it]"
     ]
    },
    {
     "name": "stdout",
     "output_type": "stream",
     "text": [
      "Early stopping, best iteration is:\n",
      "[34]\ttrain's fair: 0.153117\tvalid's fair: 0.153212\n",
      "Training until validation scores don't improve for 300 rounds\n"
     ]
    },
    {
     "name": "stderr",
     "output_type": "stream",
     "text": [
      "feature_fraction_stage2, val_score: 0.153212:  83%|########3 | 5/6 [00:24<00:04,  4.76s/it]\u001b[32m[I 2021-08-31 15:17:56,826]\u001b[0m Trial 41 finished with value: 0.15321203919880527 and parameters: {'feature_fraction': 0.9159999999999999}. Best is trial 39 with value: 0.15321203919880527.\u001b[0m\n",
      "feature_fraction_stage2, val_score: 0.153212:  83%|########3 | 5/6 [00:24<00:04,  4.76s/it]"
     ]
    },
    {
     "name": "stdout",
     "output_type": "stream",
     "text": [
      "Early stopping, best iteration is:\n",
      "[34]\ttrain's fair: 0.153117\tvalid's fair: 0.153212\n",
      "Training until validation scores don't improve for 300 rounds\n"
     ]
    },
    {
     "name": "stderr",
     "output_type": "stream",
     "text": [
      "feature_fraction_stage2, val_score: 0.153212: 100%|##########| 6/6 [00:28<00:00,  4.65s/it]\u001b[32m[I 2021-08-31 15:18:01,257]\u001b[0m Trial 42 finished with value: 0.1532120391988053 and parameters: {'feature_fraction': 0.9799999999999999}. Best is trial 39 with value: 0.15321203919880527.\u001b[0m\n",
      "feature_fraction_stage2, val_score: 0.153212: 100%|##########| 6/6 [00:28<00:00,  4.81s/it]\n",
      "regularization_factors, val_score: 0.153212:   0%|          | 0/20 [00:00<?, ?it/s]"
     ]
    },
    {
     "name": "stdout",
     "output_type": "stream",
     "text": [
      "Early stopping, best iteration is:\n",
      "[34]\ttrain's fair: 0.153117\tvalid's fair: 0.153212\n",
      "Training until validation scores don't improve for 300 rounds\n"
     ]
    },
    {
     "name": "stderr",
     "output_type": "stream",
     "text": [
      "regularization_factors, val_score: 0.153208:   5%|5         | 1/20 [00:05<01:38,  5.17s/it]\u001b[32m[I 2021-08-31 15:18:06,429]\u001b[0m Trial 43 finished with value: 0.15320795281819116 and parameters: {'lambda_l1': 0.0876618067626087, 'lambda_l2': 1.0106922953475085e-07}. Best is trial 43 with value: 0.15320795281819116.\u001b[0m\n",
      "regularization_factors, val_score: 0.153208:   5%|5         | 1/20 [00:05<01:38,  5.17s/it]"
     ]
    },
    {
     "name": "stdout",
     "output_type": "stream",
     "text": [
      "Early stopping, best iteration is:\n",
      "[86]\ttrain's fair: 0.152999\tvalid's fair: 0.153208\n",
      "Training until validation scores don't improve for 300 rounds\n"
     ]
    },
    {
     "name": "stderr",
     "output_type": "stream",
     "text": [
      "regularization_factors, val_score: 0.153208:  10%|#         | 2/20 [00:10<01:32,  5.14s/it]\u001b[32m[I 2021-08-31 15:18:11,555]\u001b[0m Trial 44 finished with value: 0.15321987564751016 and parameters: {'lambda_l1': 1.300577352403856e-07, 'lambda_l2': 0.8111914442057419}. Best is trial 43 with value: 0.15320795281819116.\u001b[0m\n",
      "regularization_factors, val_score: 0.153208:  10%|#         | 2/20 [00:10<01:32,  5.14s/it]"
     ]
    },
    {
     "name": "stdout",
     "output_type": "stream",
     "text": [
      "Early stopping, best iteration is:\n",
      "[85]\ttrain's fair: 0.153001\tvalid's fair: 0.15322\n",
      "Training until validation scores don't improve for 300 rounds\n"
     ]
    },
    {
     "name": "stderr",
     "output_type": "stream",
     "text": [
      "regularization_factors, val_score: 0.153208:  15%|#5        | 3/20 [00:15<01:28,  5.20s/it]\u001b[32m[I 2021-08-31 15:18:16,832]\u001b[0m Trial 45 finished with value: 0.15321204107164904 and parameters: {'lambda_l1': 0.006393655099570788, 'lambda_l2': 2.9320199809863578e-05}. Best is trial 43 with value: 0.15320795281819116.\u001b[0m\n",
      "regularization_factors, val_score: 0.153208:  15%|#5        | 3/20 [00:15<01:28,  5.20s/it]"
     ]
    },
    {
     "name": "stdout",
     "output_type": "stream",
     "text": [
      "Early stopping, best iteration is:\n",
      "[34]\ttrain's fair: 0.153117\tvalid's fair: 0.153212\n",
      "Training until validation scores don't improve for 300 rounds\n"
     ]
    },
    {
     "name": "stderr",
     "output_type": "stream",
     "text": [
      "regularization_factors, val_score: 0.153208:  20%|##        | 4/20 [00:20<01:19,  4.94s/it]\u001b[32m[I 2021-08-31 15:18:21,378]\u001b[0m Trial 46 finished with value: 0.15321204031819471 and parameters: {'lambda_l1': 0.0038126025160892013, 'lambda_l2': 2.2756630836900052e-05}. Best is trial 43 with value: 0.15320795281819116.\u001b[0m\n",
      "regularization_factors, val_score: 0.153208:  20%|##        | 4/20 [00:20<01:19,  4.94s/it]"
     ]
    },
    {
     "name": "stdout",
     "output_type": "stream",
     "text": [
      "Early stopping, best iteration is:\n",
      "[34]\ttrain's fair: 0.153117\tvalid's fair: 0.153212\n",
      "Training until validation scores don't improve for 300 rounds\n"
     ]
    },
    {
     "name": "stderr",
     "output_type": "stream",
     "text": [
      "regularization_factors, val_score: 0.153208:  25%|##5       | 5/20 [00:24<01:13,  4.90s/it]\u001b[32m[I 2021-08-31 15:18:26,208]\u001b[0m Trial 47 finished with value: 0.15321204155954626 and parameters: {'lambda_l1': 0.0080635795417332, 'lambda_l2': 1.908760491908828e-08}. Best is trial 43 with value: 0.15320795281819116.\u001b[0m\n",
      "regularization_factors, val_score: 0.153208:  25%|##5       | 5/20 [00:24<01:13,  4.90s/it]"
     ]
    },
    {
     "name": "stdout",
     "output_type": "stream",
     "text": [
      "Early stopping, best iteration is:\n",
      "[34]\ttrain's fair: 0.153117\tvalid's fair: 0.153212\n",
      "Training until validation scores don't improve for 300 rounds\n"
     ]
    },
    {
     "name": "stderr",
     "output_type": "stream",
     "text": [
      "regularization_factors, val_score: 0.153208:  30%|###       | 6/20 [00:30<01:10,  5.05s/it]\u001b[32m[I 2021-08-31 15:18:31,531]\u001b[0m Trial 48 finished with value: 0.15321133608883614 and parameters: {'lambda_l1': 1.0069371354545613, 'lambda_l2': 0.5440657847224851}. Best is trial 43 with value: 0.15320795281819116.\u001b[0m\n",
      "regularization_factors, val_score: 0.153208:  30%|###       | 6/20 [00:30<01:10,  5.05s/it]"
     ]
    },
    {
     "name": "stdout",
     "output_type": "stream",
     "text": [
      "Early stopping, best iteration is:\n",
      "[86]\ttrain's fair: 0.153001\tvalid's fair: 0.153211\n",
      "Training until validation scores don't improve for 300 rounds\n"
     ]
    },
    {
     "name": "stderr",
     "output_type": "stream",
     "text": [
      "regularization_factors, val_score: 0.153208:  35%|###5      | 7/20 [00:34<01:03,  4.91s/it]\u001b[32m[I 2021-08-31 15:18:36,165]\u001b[0m Trial 49 finished with value: 0.15321255307325463 and parameters: {'lambda_l1': 0.005381570075949984, 'lambda_l2': 2.3902351027569684}. Best is trial 43 with value: 0.15320795281819116.\u001b[0m\n",
      "regularization_factors, val_score: 0.153208:  35%|###5      | 7/20 [00:34<01:03,  4.91s/it]"
     ]
    },
    {
     "name": "stdout",
     "output_type": "stream",
     "text": [
      "Early stopping, best iteration is:\n",
      "[35]\ttrain's fair: 0.153113\tvalid's fair: 0.153213\n",
      "Training until validation scores don't improve for 300 rounds\n"
     ]
    },
    {
     "name": "stderr",
     "output_type": "stream",
     "text": [
      "regularization_factors, val_score: 0.153202:  40%|####      | 8/20 [00:40<01:01,  5.10s/it]\u001b[32m[I 2021-08-31 15:18:41,663]\u001b[0m Trial 50 finished with value: 0.15320223806053077 and parameters: {'lambda_l1': 2.6292611387762945, 'lambda_l2': 1.1432970670414787e-05}. Best is trial 50 with value: 0.15320223806053077.\u001b[0m\n",
      "regularization_factors, val_score: 0.153202:  40%|####      | 8/20 [00:40<01:01,  5.10s/it]"
     ]
    },
    {
     "name": "stdout",
     "output_type": "stream",
     "text": [
      "Early stopping, best iteration is:\n",
      "[83]\ttrain's fair: 0.153018\tvalid's fair: 0.153202\n",
      "Training until validation scores don't improve for 300 rounds\n"
     ]
    },
    {
     "name": "stderr",
     "output_type": "stream",
     "text": [
      "regularization_factors, val_score: 0.153202:  45%|####5     | 9/20 [00:46<01:00,  5.46s/it]\u001b[32m[I 2021-08-31 15:18:47,916]\u001b[0m Trial 51 finished with value: 0.1532091113432598 and parameters: {'lambda_l1': 5.557029561786657, 'lambda_l2': 0.14518012559705112}. Best is trial 50 with value: 0.15320223806053077.\u001b[0m\n",
      "regularization_factors, val_score: 0.153202:  45%|####5     | 9/20 [00:46<01:00,  5.46s/it]"
     ]
    },
    {
     "name": "stdout",
     "output_type": "stream",
     "text": [
      "Early stopping, best iteration is:\n",
      "[80]\ttrain's fair: 0.153035\tvalid's fair: 0.153209\n",
      "Training until validation scores don't improve for 300 rounds\n"
     ]
    },
    {
     "name": "stderr",
     "output_type": "stream",
     "text": [
      "regularization_factors, val_score: 0.153202:  50%|#####     | 10/20 [00:51<00:52,  5.21s/it]\u001b[32m[I 2021-08-31 15:18:52,579]\u001b[0m Trial 52 finished with value: 0.15321203934355834 and parameters: {'lambda_l1': 5.6364342301155266e-05, 'lambda_l2': 0.0014261455260946962}. Best is trial 50 with value: 0.15320223806053077.\u001b[0m\n",
      "regularization_factors, val_score: 0.153202:  50%|#####     | 10/20 [00:51<00:52,  5.21s/it]"
     ]
    },
    {
     "name": "stdout",
     "output_type": "stream",
     "text": [
      "Early stopping, best iteration is:\n",
      "[34]\ttrain's fair: 0.153117\tvalid's fair: 0.153212\n",
      "Training until validation scores don't improve for 300 rounds\n"
     ]
    },
    {
     "name": "stderr",
     "output_type": "stream",
     "text": [
      "regularization_factors, val_score: 0.153202:  55%|#####5    | 11/20 [00:56<00:45,  5.08s/it]\u001b[32m[I 2021-08-31 15:18:57,345]\u001b[0m Trial 53 finished with value: 0.15321203920000837 and parameters: {'lambda_l1': 4.425954446119695e-06, 'lambda_l2': 6.090181735031955e-07}. Best is trial 50 with value: 0.15320223806053077.\u001b[0m\n",
      "regularization_factors, val_score: 0.153202:  55%|#####5    | 11/20 [00:56<00:45,  5.08s/it]"
     ]
    },
    {
     "name": "stdout",
     "output_type": "stream",
     "text": [
      "Early stopping, best iteration is:\n",
      "[34]\ttrain's fair: 0.153117\tvalid's fair: 0.153212\n",
      "Training until validation scores don't improve for 300 rounds\n"
     ]
    },
    {
     "name": "stderr",
     "output_type": "stream",
     "text": [
      "regularization_factors, val_score: 0.153202:  60%|######    | 12/20 [01:00<00:39,  4.91s/it]\u001b[32m[I 2021-08-31 15:19:01,885]\u001b[0m Trial 54 finished with value: 0.15321386649029717 and parameters: {'lambda_l1': 0.3015546238588293, 'lambda_l2': 1.4929577738386396e-08}. Best is trial 50 with value: 0.15320223806053077.\u001b[0m\n",
      "regularization_factors, val_score: 0.153202:  60%|######    | 12/20 [01:00<00:39,  4.91s/it]"
     ]
    },
    {
     "name": "stdout",
     "output_type": "stream",
     "text": [
      "Early stopping, best iteration is:\n",
      "[32]\ttrain's fair: 0.153124\tvalid's fair: 0.153214\n",
      "Training until validation scores don't improve for 300 rounds\n"
     ]
    },
    {
     "name": "stderr",
     "output_type": "stream",
     "text": [
      "regularization_factors, val_score: 0.153202:  65%|######5   | 13/20 [01:05<00:33,  4.79s/it]\u001b[32m[I 2021-08-31 15:19:06,404]\u001b[0m Trial 55 finished with value: 0.15321292333070952 and parameters: {'lambda_l1': 0.20298106290627663, 'lambda_l2': 6.284258584683415e-07}. Best is trial 50 with value: 0.15320223806053077.\u001b[0m\n",
      "regularization_factors, val_score: 0.153202:  65%|######5   | 13/20 [01:05<00:33,  4.79s/it]"
     ]
    },
    {
     "name": "stdout",
     "output_type": "stream",
     "text": [
      "Early stopping, best iteration is:\n",
      "[31]\ttrain's fair: 0.15313\tvalid's fair: 0.153213\n",
      "Training until validation scores don't improve for 300 rounds\n"
     ]
    },
    {
     "name": "stderr",
     "output_type": "stream",
     "text": [
      "regularization_factors, val_score: 0.153202:  70%|#######   | 14/20 [01:10<00:29,  4.95s/it]\u001b[32m[I 2021-08-31 15:19:11,724]\u001b[0m Trial 56 finished with value: 0.15321123471222442 and parameters: {'lambda_l1': 5.2892482258193105, 'lambda_l2': 3.9954700918521583e-07}. Best is trial 50 with value: 0.15320223806053077.\u001b[0m\n",
      "regularization_factors, val_score: 0.153202:  70%|#######   | 14/20 [01:10<00:29,  4.95s/it]"
     ]
    },
    {
     "name": "stdout",
     "output_type": "stream",
     "text": [
      "Early stopping, best iteration is:\n",
      "[80]\ttrain's fair: 0.15304\tvalid's fair: 0.153211\n",
      "Training until validation scores don't improve for 300 rounds\n"
     ]
    },
    {
     "name": "stderr",
     "output_type": "stream",
     "text": [
      "regularization_factors, val_score: 0.153202:  75%|#######5  | 15/20 [01:16<00:25,  5.14s/it]\u001b[32m[I 2021-08-31 15:19:17,287]\u001b[0m Trial 57 finished with value: 0.1532079703365613 and parameters: {'lambda_l1': 0.07616711046611291, 'lambda_l2': 0.00048176158822326934}. Best is trial 50 with value: 0.15320223806053077.\u001b[0m\n",
      "regularization_factors, val_score: 0.153202:  75%|#######5  | 15/20 [01:16<00:25,  5.14s/it]"
     ]
    },
    {
     "name": "stdout",
     "output_type": "stream",
     "text": [
      "Early stopping, best iteration is:\n",
      "[86]\ttrain's fair: 0.152999\tvalid's fair: 0.153208\n",
      "Training until validation scores don't improve for 300 rounds\n"
     ]
    },
    {
     "name": "stderr",
     "output_type": "stream",
     "text": [
      "regularization_factors, val_score: 0.153194:  80%|########  | 16/20 [01:21<00:20,  5.23s/it]\u001b[32m[I 2021-08-31 15:19:22,736]\u001b[0m Trial 58 finished with value: 0.1531942809333646 and parameters: {'lambda_l1': 8.64598878389288, 'lambda_l2': 3.5968286248967653e-06}. Best is trial 58 with value: 0.1531942809333646.\u001b[0m\n",
      "regularization_factors, val_score: 0.153194:  80%|########  | 16/20 [01:21<00:20,  5.23s/it]"
     ]
    },
    {
     "name": "stdout",
     "output_type": "stream",
     "text": [
      "Early stopping, best iteration is:\n",
      "[79]\ttrain's fair: 0.153044\tvalid's fair: 0.153194\n",
      "Training until validation scores don't improve for 300 rounds\n"
     ]
    },
    {
     "name": "stderr",
     "output_type": "stream",
     "text": [
      "regularization_factors, val_score: 0.153194:  85%|########5 | 17/20 [01:27<00:15,  5.33s/it]\u001b[32m[I 2021-08-31 15:19:28,306]\u001b[0m Trial 59 finished with value: 0.15321395751370218 and parameters: {'lambda_l1': 9.700979565630956, 'lambda_l2': 1.5007541284680513e-05}. Best is trial 58 with value: 0.1531942809333646.\u001b[0m\n",
      "regularization_factors, val_score: 0.153194:  85%|########5 | 17/20 [01:27<00:15,  5.33s/it]"
     ]
    },
    {
     "name": "stdout",
     "output_type": "stream",
     "text": [
      "Early stopping, best iteration is:\n",
      "[79]\ttrain's fair: 0.15305\tvalid's fair: 0.153214\n",
      "Training until validation scores don't improve for 300 rounds\n"
     ]
    },
    {
     "name": "stderr",
     "output_type": "stream",
     "text": [
      "regularization_factors, val_score: 0.153194:  90%|######### | 18/20 [01:32<00:10,  5.44s/it]\u001b[32m[I 2021-08-31 15:19:34,003]\u001b[0m Trial 60 finished with value: 0.15321204006126282 and parameters: {'lambda_l1': 2.4498637375063707e-08, 'lambda_l2': 0.009564255420284141}. Best is trial 58 with value: 0.1531942809333646.\u001b[0m\n",
      "regularization_factors, val_score: 0.153194:  90%|######### | 18/20 [01:32<00:10,  5.44s/it]"
     ]
    },
    {
     "name": "stdout",
     "output_type": "stream",
     "text": [
      "Early stopping, best iteration is:\n",
      "[34]\ttrain's fair: 0.153117\tvalid's fair: 0.153212\n",
      "Training until validation scores don't improve for 300 rounds\n"
     ]
    },
    {
     "name": "stderr",
     "output_type": "stream",
     "text": [
      "regularization_factors, val_score: 0.153194:  95%|#########5| 19/20 [01:37<00:05,  5.21s/it]\u001b[32m[I 2021-08-31 15:19:38,672]\u001b[0m Trial 61 finished with value: 0.15321203925224638 and parameters: {'lambda_l1': 0.00018170095011185627, 'lambda_l2': 3.372289395544797e-06}. Best is trial 58 with value: 0.1531942809333646.\u001b[0m\n",
      "regularization_factors, val_score: 0.153194:  95%|#########5| 19/20 [01:37<00:05,  5.21s/it]"
     ]
    },
    {
     "name": "stdout",
     "output_type": "stream",
     "text": [
      "Early stopping, best iteration is:\n",
      "[34]\ttrain's fair: 0.153117\tvalid's fair: 0.153212\n",
      "Training until validation scores don't improve for 300 rounds\n"
     ]
    },
    {
     "name": "stderr",
     "output_type": "stream",
     "text": [
      "regularization_factors, val_score: 0.153194: 100%|##########| 20/20 [01:42<00:00,  5.26s/it]\u001b[32m[I 2021-08-31 15:19:44,042]\u001b[0m Trial 62 finished with value: 0.15321468228998972 and parameters: {'lambda_l1': 1.6507122604497337, 'lambda_l2': 0.0002468195023285707}. Best is trial 58 with value: 0.1531942809333646.\u001b[0m\n",
      "regularization_factors, val_score: 0.153194: 100%|##########| 20/20 [01:42<00:00,  5.14s/it]\n",
      "min_data_in_leaf, val_score: 0.153194:   0%|          | 0/5 [00:00<?, ?it/s]"
     ]
    },
    {
     "name": "stdout",
     "output_type": "stream",
     "text": [
      "Early stopping, best iteration is:\n",
      "[90]\ttrain's fair: 0.153006\tvalid's fair: 0.153215\n",
      "Training until validation scores don't improve for 300 rounds\n"
     ]
    },
    {
     "name": "stderr",
     "output_type": "stream",
     "text": [
      "min_data_in_leaf, val_score: 0.153194:  20%|##        | 1/5 [00:05<00:22,  5.54s/it]\u001b[32m[I 2021-08-31 15:19:49,588]\u001b[0m Trial 63 finished with value: 0.15320224828684845 and parameters: {'min_child_samples': 50}. Best is trial 63 with value: 0.15320224828684845.\u001b[0m\n",
      "min_data_in_leaf, val_score: 0.153194:  20%|##        | 1/5 [00:05<00:22,  5.54s/it]"
     ]
    },
    {
     "name": "stdout",
     "output_type": "stream",
     "text": [
      "Early stopping, best iteration is:\n",
      "[72]\ttrain's fair: 0.153058\tvalid's fair: 0.153202\n",
      "Training until validation scores don't improve for 300 rounds\n"
     ]
    },
    {
     "name": "stderr",
     "output_type": "stream",
     "text": [
      "min_data_in_leaf, val_score: 0.153194:  40%|####      | 2/5 [00:11<00:16,  5.61s/it]\u001b[32m[I 2021-08-31 15:19:55,252]\u001b[0m Trial 64 finished with value: 0.15320142685274912 and parameters: {'min_child_samples': 100}. Best is trial 64 with value: 0.15320142685274912.\u001b[0m\n",
      "min_data_in_leaf, val_score: 0.153194:  40%|####      | 2/5 [00:11<00:16,  5.61s/it]"
     ]
    },
    {
     "name": "stdout",
     "output_type": "stream",
     "text": [
      "Early stopping, best iteration is:\n",
      "[80]\ttrain's fair: 0.153043\tvalid's fair: 0.153201\n",
      "Training until validation scores don't improve for 300 rounds\n"
     ]
    },
    {
     "name": "stderr",
     "output_type": "stream",
     "text": [
      "min_data_in_leaf, val_score: 0.153194:  60%|######    | 3/5 [00:16<00:11,  5.64s/it]\u001b[32m[I 2021-08-31 15:20:00,925]\u001b[0m Trial 65 finished with value: 0.1531942495222914 and parameters: {'min_child_samples': 5}. Best is trial 65 with value: 0.1531942495222914.\u001b[0m\n",
      "min_data_in_leaf, val_score: 0.153194:  60%|######    | 3/5 [00:16<00:11,  5.64s/it]"
     ]
    },
    {
     "name": "stdout",
     "output_type": "stream",
     "text": [
      "Early stopping, best iteration is:\n",
      "[79]\ttrain's fair: 0.153044\tvalid's fair: 0.153194\n",
      "Training until validation scores don't improve for 300 rounds\n"
     ]
    },
    {
     "name": "stderr",
     "output_type": "stream",
     "text": [
      "min_data_in_leaf, val_score: 0.153194:  80%|########  | 4/5 [00:22<00:05,  5.77s/it]\u001b[32m[I 2021-08-31 15:20:06,885]\u001b[0m Trial 66 finished with value: 0.1531942495222914 and parameters: {'min_child_samples': 10}. Best is trial 65 with value: 0.1531942495222914.\u001b[0m\n",
      "min_data_in_leaf, val_score: 0.153194:  80%|########  | 4/5 [00:22<00:05,  5.77s/it]"
     ]
    },
    {
     "name": "stdout",
     "output_type": "stream",
     "text": [
      "Early stopping, best iteration is:\n",
      "[79]\ttrain's fair: 0.153044\tvalid's fair: 0.153194\n",
      "Training until validation scores don't improve for 300 rounds\n"
     ]
    },
    {
     "name": "stderr",
     "output_type": "stream",
     "text": [
      "min_data_in_leaf, val_score: 0.153194: 100%|##########| 5/5 [00:29<00:00,  6.01s/it]\u001b[32m[I 2021-08-31 15:20:13,324]\u001b[0m Trial 67 finished with value: 0.15319428093336454 and parameters: {'min_child_samples': 25}. Best is trial 65 with value: 0.1531942495222914.\u001b[0m\n",
      "min_data_in_leaf, val_score: 0.153194: 100%|##########| 5/5 [00:29<00:00,  5.86s/it]"
     ]
    },
    {
     "name": "stdout",
     "output_type": "stream",
     "text": [
      "Early stopping, best iteration is:\n",
      "[79]\ttrain's fair: 0.153044\tvalid's fair: 0.153194\n"
     ]
    },
    {
     "name": "stderr",
     "output_type": "stream",
     "text": [
      "\n",
      "\u001b[32m[I 2021-08-31 15:20:13,641]\u001b[0m A new study created in memory with name: no-name-a91e1818-acbf-42cd-a567-a44f757b108f\u001b[0m\n",
      "feature_fraction, val_score: inf:   0%|          | 0/7 [00:00<?, ?it/s]"
     ]
    },
    {
     "name": "stdout",
     "output_type": "stream",
     "text": [
      "2 0.7154108081927392\n",
      "Training until validation scores don't improve for 300 rounds\n"
     ]
    },
    {
     "name": "stderr",
     "output_type": "stream",
     "text": [
      "feature_fraction, val_score: 0.153342:  14%|#4        | 1/7 [00:04<00:25,  4.28s/it]\u001b[32m[I 2021-08-31 15:20:17,926]\u001b[0m Trial 0 finished with value: 0.15334214718301684 and parameters: {'feature_fraction': 1.0}. Best is trial 0 with value: 0.15334214718301684.\u001b[0m\n",
      "feature_fraction, val_score: 0.153342:  14%|#4        | 1/7 [00:04<00:25,  4.28s/it]"
     ]
    },
    {
     "name": "stdout",
     "output_type": "stream",
     "text": [
      "Early stopping, best iteration is:\n",
      "[35]\ttrain's fair: 0.152813\tvalid's fair: 0.153342\n",
      "Training until validation scores don't improve for 300 rounds\n"
     ]
    },
    {
     "name": "stderr",
     "output_type": "stream",
     "text": [
      "feature_fraction, val_score: 0.153342:  29%|##8       | 2/7 [00:10<00:27,  5.57s/it]\u001b[32m[I 2021-08-31 15:20:24,396]\u001b[0m Trial 1 finished with value: 0.15351514908515473 and parameters: {'feature_fraction': 0.4}. Best is trial 0 with value: 0.15334214718301684.\u001b[0m\n",
      "feature_fraction, val_score: 0.153342:  29%|##8       | 2/7 [00:10<00:27,  5.57s/it]"
     ]
    },
    {
     "name": "stdout",
     "output_type": "stream",
     "text": [
      "Early stopping, best iteration is:\n",
      "[34]\ttrain's fair: 0.153137\tvalid's fair: 0.153515\n",
      "Training until validation scores don't improve for 300 rounds\n"
     ]
    },
    {
     "name": "stderr",
     "output_type": "stream",
     "text": [
      "feature_fraction, val_score: 0.153342:  43%|####2     | 3/7 [00:14<00:19,  4.96s/it]\u001b[32m[I 2021-08-31 15:20:28,625]\u001b[0m Trial 2 finished with value: 0.15339434878554406 and parameters: {'feature_fraction': 0.7}. Best is trial 0 with value: 0.15334214718301684.\u001b[0m\n",
      "feature_fraction, val_score: 0.153342:  43%|####2     | 3/7 [00:14<00:19,  4.96s/it]"
     ]
    },
    {
     "name": "stdout",
     "output_type": "stream",
     "text": [
      "Early stopping, best iteration is:\n",
      "[33]\ttrain's fair: 0.152943\tvalid's fair: 0.153394\n",
      "Training until validation scores don't improve for 300 rounds\n"
     ]
    },
    {
     "name": "stderr",
     "output_type": "stream",
     "text": [
      "feature_fraction, val_score: 0.153342:  57%|#####7    | 4/7 [00:19<00:14,  4.83s/it]\u001b[32m[I 2021-08-31 15:20:33,271]\u001b[0m Trial 3 finished with value: 0.15339434878554406 and parameters: {'feature_fraction': 0.8}. Best is trial 0 with value: 0.15334214718301684.\u001b[0m\n",
      "feature_fraction, val_score: 0.153342:  57%|#####7    | 4/7 [00:19<00:14,  4.83s/it]"
     ]
    },
    {
     "name": "stdout",
     "output_type": "stream",
     "text": [
      "Early stopping, best iteration is:\n",
      "[33]\ttrain's fair: 0.152943\tvalid's fair: 0.153394\n",
      "Training until validation scores don't improve for 300 rounds\n"
     ]
    },
    {
     "name": "stderr",
     "output_type": "stream",
     "text": [
      "feature_fraction, val_score: 0.153342:  71%|#######1  | 5/7 [00:24<00:09,  4.85s/it]\u001b[32m[I 2021-08-31 15:20:38,141]\u001b[0m Trial 4 finished with value: 0.15334214718301684 and parameters: {'feature_fraction': 0.8999999999999999}. Best is trial 0 with value: 0.15334214718301684.\u001b[0m\n",
      "feature_fraction, val_score: 0.153342:  71%|#######1  | 5/7 [00:24<00:09,  4.85s/it]"
     ]
    },
    {
     "name": "stdout",
     "output_type": "stream",
     "text": [
      "Early stopping, best iteration is:\n",
      "[35]\ttrain's fair: 0.152813\tvalid's fair: 0.153342\n",
      "Training until validation scores don't improve for 300 rounds\n"
     ]
    },
    {
     "name": "stderr",
     "output_type": "stream",
     "text": [
      "feature_fraction, val_score: 0.153342:  86%|########5 | 6/7 [00:29<00:04,  5.00s/it]\u001b[32m[I 2021-08-31 15:20:43,427]\u001b[0m Trial 5 finished with value: 0.15339434878554406 and parameters: {'feature_fraction': 0.6}. Best is trial 0 with value: 0.15334214718301684.\u001b[0m\n",
      "feature_fraction, val_score: 0.153342:  86%|########5 | 6/7 [00:29<00:04,  5.00s/it]"
     ]
    },
    {
     "name": "stdout",
     "output_type": "stream",
     "text": [
      "Early stopping, best iteration is:\n",
      "[33]\ttrain's fair: 0.152943\tvalid's fair: 0.153394\n",
      "Training until validation scores don't improve for 300 rounds\n"
     ]
    },
    {
     "name": "stderr",
     "output_type": "stream",
     "text": [
      "feature_fraction, val_score: 0.153342: 100%|##########| 7/7 [00:34<00:00,  4.75s/it]\u001b[32m[I 2021-08-31 15:20:47,658]\u001b[0m Trial 6 finished with value: 0.1533943487855441 and parameters: {'feature_fraction': 0.5}. Best is trial 0 with value: 0.15334214718301684.\u001b[0m\n",
      "feature_fraction, val_score: 0.153342: 100%|##########| 7/7 [00:34<00:00,  4.86s/it]\n",
      "num_leaves, val_score: 0.153342:   0%|          | 0/20 [00:00<?, ?it/s]"
     ]
    },
    {
     "name": "stdout",
     "output_type": "stream",
     "text": [
      "Early stopping, best iteration is:\n",
      "[33]\ttrain's fair: 0.152943\tvalid's fair: 0.153394\n",
      "Training until validation scores don't improve for 300 rounds\n"
     ]
    },
    {
     "name": "stderr",
     "output_type": "stream",
     "text": [
      "num_leaves, val_score: 0.153342:   5%|5         | 1/20 [00:07<02:31,  7.99s/it]\u001b[32m[I 2021-08-31 15:20:55,654]\u001b[0m Trial 7 finished with value: 0.15363096367350132 and parameters: {'num_leaves': 241}. Best is trial 7 with value: 0.15363096367350132.\u001b[0m\n",
      "num_leaves, val_score: 0.153342:   5%|5         | 1/20 [00:07<02:31,  7.99s/it]"
     ]
    },
    {
     "name": "stdout",
     "output_type": "stream",
     "text": [
      "Early stopping, best iteration is:\n",
      "[25]\ttrain's fair: 0.151259\tvalid's fair: 0.153631\n",
      "Training until validation scores don't improve for 300 rounds\n"
     ]
    },
    {
     "name": "stderr",
     "output_type": "stream",
     "text": [
      "num_leaves, val_score: 0.153342:  10%|#         | 2/20 [00:11<01:40,  5.61s/it]\u001b[32m[I 2021-08-31 15:20:59,598]\u001b[0m Trial 8 finished with value: 0.1533420037887923 and parameters: {'num_leaves': 15}. Best is trial 8 with value: 0.1533420037887923.\u001b[0m\n",
      "num_leaves, val_score: 0.153342:  10%|#         | 2/20 [00:11<01:40,  5.61s/it]"
     ]
    },
    {
     "name": "stdout",
     "output_type": "stream",
     "text": [
      "Early stopping, best iteration is:\n",
      "[37]\ttrain's fair: 0.153002\tvalid's fair: 0.153342\n",
      "Training until validation scores don't improve for 300 rounds\n"
     ]
    },
    {
     "name": "stderr",
     "output_type": "stream",
     "text": [
      "num_leaves, val_score: 0.153342:  15%|#5        | 3/20 [00:18<01:44,  6.13s/it]\u001b[32m[I 2021-08-31 15:21:06,351]\u001b[0m Trial 9 finished with value: 0.15361520024579314 and parameters: {'num_leaves': 176}. Best is trial 8 with value: 0.1533420037887923.\u001b[0m\n",
      "num_leaves, val_score: 0.153342:  15%|#5        | 3/20 [00:18<01:44,  6.13s/it]"
     ]
    },
    {
     "name": "stdout",
     "output_type": "stream",
     "text": [
      "Early stopping, best iteration is:\n",
      "[30]\ttrain's fair: 0.151481\tvalid's fair: 0.153615\n",
      "Training until validation scores don't improve for 300 rounds\n"
     ]
    },
    {
     "name": "stderr",
     "output_type": "stream",
     "text": [
      "num_leaves, val_score: 0.153342:  20%|##        | 4/20 [00:26<01:49,  6.87s/it]\u001b[32m[I 2021-08-31 15:21:14,364]\u001b[0m Trial 10 finished with value: 0.1535489802889952 and parameters: {'num_leaves': 173}. Best is trial 8 with value: 0.1533420037887923.\u001b[0m\n",
      "num_leaves, val_score: 0.153342:  20%|##        | 4/20 [00:26<01:49,  6.87s/it]"
     ]
    },
    {
     "name": "stdout",
     "output_type": "stream",
     "text": [
      "Early stopping, best iteration is:\n",
      "[36]\ttrain's fair: 0.151247\tvalid's fair: 0.153549\n",
      "Training until validation scores don't improve for 300 rounds\n"
     ]
    },
    {
     "name": "stderr",
     "output_type": "stream",
     "text": [
      "num_leaves, val_score: 0.153342:  25%|##5       | 5/20 [00:31<01:31,  6.09s/it]\u001b[32m[I 2021-08-31 15:21:19,063]\u001b[0m Trial 11 finished with value: 0.1533932959586612 and parameters: {'num_leaves': 58}. Best is trial 8 with value: 0.1533420037887923.\u001b[0m\n",
      "num_leaves, val_score: 0.153342:  25%|##5       | 5/20 [00:31<01:31,  6.09s/it]"
     ]
    },
    {
     "name": "stdout",
     "output_type": "stream",
     "text": [
      "Early stopping, best iteration is:\n",
      "[28]\ttrain's fair: 0.152619\tvalid's fair: 0.153393\n",
      "Training until validation scores don't improve for 300 rounds\n"
     ]
    },
    {
     "name": "stderr",
     "output_type": "stream",
     "text": [
      "num_leaves, val_score: 0.153342:  30%|###       | 6/20 [00:35<01:17,  5.54s/it]\u001b[32m[I 2021-08-31 15:21:23,525]\u001b[0m Trial 12 finished with value: 0.15336818049651252 and parameters: {'num_leaves': 36}. Best is trial 8 with value: 0.1533420037887923.\u001b[0m\n",
      "num_leaves, val_score: 0.153342:  30%|###       | 6/20 [00:35<01:17,  5.54s/it]"
     ]
    },
    {
     "name": "stdout",
     "output_type": "stream",
     "text": [
      "Early stopping, best iteration is:\n",
      "[34]\ttrain's fair: 0.152766\tvalid's fair: 0.153368\n",
      "Training until validation scores don't improve for 300 rounds\n"
     ]
    },
    {
     "name": "stderr",
     "output_type": "stream",
     "text": [
      "num_leaves, val_score: 0.153342:  35%|###5      | 7/20 [00:42<01:17,  5.93s/it]\u001b[32m[I 2021-08-31 15:21:30,259]\u001b[0m Trial 13 finished with value: 0.1535938611831559 and parameters: {'num_leaves': 164}. Best is trial 8 with value: 0.1533420037887923.\u001b[0m\n",
      "num_leaves, val_score: 0.153342:  35%|###5      | 7/20 [00:42<01:17,  5.93s/it]"
     ]
    },
    {
     "name": "stdout",
     "output_type": "stream",
     "text": [
      "Early stopping, best iteration is:\n",
      "[32]\ttrain's fair: 0.15147\tvalid's fair: 0.153594\n",
      "Training until validation scores don't improve for 300 rounds\n"
     ]
    },
    {
     "name": "stderr",
     "output_type": "stream",
     "text": [
      "num_leaves, val_score: 0.153342:  40%|####      | 8/20 [00:51<01:21,  6.77s/it]\u001b[32m[I 2021-08-31 15:21:38,832]\u001b[0m Trial 14 finished with value: 0.15368390614902924 and parameters: {'num_leaves': 250}. Best is trial 8 with value: 0.1533420037887923.\u001b[0m\n",
      "num_leaves, val_score: 0.153342:  40%|####      | 8/20 [00:51<01:21,  6.77s/it]"
     ]
    },
    {
     "name": "stdout",
     "output_type": "stream",
     "text": [
      "Early stopping, best iteration is:\n",
      "[27]\ttrain's fair: 0.151042\tvalid's fair: 0.153684\n",
      "Training until validation scores don't improve for 300 rounds\n"
     ]
    },
    {
     "name": "stderr",
     "output_type": "stream",
     "text": [
      "num_leaves, val_score: 0.153342:  45%|####5     | 9/20 [00:56<01:08,  6.25s/it]\u001b[32m[I 2021-08-31 15:21:43,928]\u001b[0m Trial 15 finished with value: 0.1533932959586612 and parameters: {'num_leaves': 58}. Best is trial 8 with value: 0.1533420037887923.\u001b[0m\n",
      "num_leaves, val_score: 0.153342:  45%|####5     | 9/20 [00:56<01:08,  6.25s/it]"
     ]
    },
    {
     "name": "stdout",
     "output_type": "stream",
     "text": [
      "Early stopping, best iteration is:\n",
      "[28]\ttrain's fair: 0.152619\tvalid's fair: 0.153393\n",
      "Training until validation scores don't improve for 300 rounds\n"
     ]
    },
    {
     "name": "stderr",
     "output_type": "stream",
     "text": [
      "num_leaves, val_score: 0.153342:  50%|#####     | 10/20 [01:01<01:00,  6.08s/it]\u001b[32m[I 2021-08-31 15:21:49,624]\u001b[0m Trial 16 finished with value: 0.15339336738632048 and parameters: {'num_leaves': 49}. Best is trial 8 with value: 0.1533420037887923.\u001b[0m\n",
      "num_leaves, val_score: 0.153342:  50%|#####     | 10/20 [01:01<01:00,  6.08s/it]"
     ]
    },
    {
     "name": "stdout",
     "output_type": "stream",
     "text": [
      "Early stopping, best iteration is:\n",
      "[39]\ttrain's fair: 0.15254\tvalid's fair: 0.153393\n",
      "Training until validation scores don't improve for 300 rounds\n"
     ]
    },
    {
     "name": "stderr",
     "output_type": "stream",
     "text": [
      "num_leaves, val_score: 0.153331:  55%|#####5    | 11/20 [01:05<00:48,  5.34s/it]\u001b[32m[I 2021-08-31 15:21:53,286]\u001b[0m Trial 17 finished with value: 0.15333133436503188 and parameters: {'num_leaves': 6}. Best is trial 17 with value: 0.15333133436503188.\u001b[0m\n",
      "num_leaves, val_score: 0.153331:  55%|#####5    | 11/20 [01:05<00:48,  5.34s/it]"
     ]
    },
    {
     "name": "stdout",
     "output_type": "stream",
     "text": [
      "Early stopping, best iteration is:\n",
      "[59]\ttrain's fair: 0.153069\tvalid's fair: 0.153331\n",
      "Training until validation scores don't improve for 300 rounds\n"
     ]
    },
    {
     "name": "stderr",
     "output_type": "stream",
     "text": [
      "num_leaves, val_score: 0.153316:  60%|######    | 12/20 [01:09<00:38,  4.79s/it]\u001b[32m[I 2021-08-31 15:21:56,813]\u001b[0m Trial 18 finished with value: 0.1533155571011919 and parameters: {'num_leaves': 2}. Best is trial 18 with value: 0.1533155571011919.\u001b[0m\n",
      "num_leaves, val_score: 0.153316:  60%|######    | 12/20 [01:09<00:38,  4.79s/it]"
     ]
    },
    {
     "name": "stdout",
     "output_type": "stream",
     "text": [
      "Early stopping, best iteration is:\n",
      "[145]\ttrain's fair: 0.153117\tvalid's fair: 0.153316\n",
      "Training until validation scores don't improve for 300 rounds\n"
     ]
    },
    {
     "name": "stderr",
     "output_type": "stream",
     "text": [
      "num_leaves, val_score: 0.153316:  65%|######5   | 13/20 [01:14<00:35,  5.06s/it]\u001b[32m[I 2021-08-31 15:22:02,493]\u001b[0m Trial 19 finished with value: 0.1534802283239058 and parameters: {'num_leaves': 100}. Best is trial 18 with value: 0.1533155571011919.\u001b[0m\n",
      "num_leaves, val_score: 0.153316:  65%|######5   | 13/20 [01:14<00:35,  5.06s/it]"
     ]
    },
    {
     "name": "stdout",
     "output_type": "stream",
     "text": [
      "Early stopping, best iteration is:\n",
      "[31]\ttrain's fair: 0.152122\tvalid's fair: 0.15348\n",
      "Training until validation scores don't improve for 300 rounds\n"
     ]
    },
    {
     "name": "stderr",
     "output_type": "stream",
     "text": [
      "num_leaves, val_score: 0.153316:  70%|#######   | 14/20 [01:18<00:27,  4.62s/it]\u001b[32m[I 2021-08-31 15:22:06,102]\u001b[0m Trial 20 finished with value: 0.15333644876614386 and parameters: {'num_leaves': 7}. Best is trial 18 with value: 0.1533155571011919.\u001b[0m\n",
      "num_leaves, val_score: 0.153316:  70%|#######   | 14/20 [01:18<00:27,  4.62s/it]"
     ]
    },
    {
     "name": "stdout",
     "output_type": "stream",
     "text": [
      "Early stopping, best iteration is:\n",
      "[45]\ttrain's fair: 0.153074\tvalid's fair: 0.153336\n",
      "Training until validation scores don't improve for 300 rounds\n"
     ]
    },
    {
     "name": "stderr",
     "output_type": "stream",
     "text": [
      "num_leaves, val_score: 0.153316:  75%|#######5  | 15/20 [01:23<00:24,  4.90s/it]\u001b[32m[I 2021-08-31 15:22:11,638]\u001b[0m Trial 21 finished with value: 0.15347211539627123 and parameters: {'num_leaves': 95}. Best is trial 18 with value: 0.1533155571011919.\u001b[0m\n",
      "num_leaves, val_score: 0.153316:  75%|#######5  | 15/20 [01:23<00:24,  4.90s/it]"
     ]
    },
    {
     "name": "stdout",
     "output_type": "stream",
     "text": [
      "Early stopping, best iteration is:\n",
      "[29]\ttrain's fair: 0.152222\tvalid's fair: 0.153472\n",
      "Training until validation scores don't improve for 300 rounds\n"
     ]
    },
    {
     "name": "stderr",
     "output_type": "stream",
     "text": [
      "num_leaves, val_score: 0.153316:  80%|########  | 16/20 [01:28<00:18,  4.66s/it]\u001b[32m[I 2021-08-31 15:22:15,754]\u001b[0m Trial 22 finished with value: 0.1533155571011919 and parameters: {'num_leaves': 2}. Best is trial 18 with value: 0.1533155571011919.\u001b[0m\n",
      "num_leaves, val_score: 0.153316:  80%|########  | 16/20 [01:28<00:18,  4.66s/it]"
     ]
    },
    {
     "name": "stdout",
     "output_type": "stream",
     "text": [
      "Early stopping, best iteration is:\n",
      "[145]\ttrain's fair: 0.153117\tvalid's fair: 0.153316\n",
      "Training until validation scores don't improve for 300 rounds\n"
     ]
    },
    {
     "name": "stderr",
     "output_type": "stream",
     "text": [
      "num_leaves, val_score: 0.153316:  85%|########5 | 17/20 [01:34<00:15,  5.19s/it]\u001b[32m[I 2021-08-31 15:22:22,174]\u001b[0m Trial 23 finished with value: 0.15344439709680643 and parameters: {'num_leaves': 94}. Best is trial 18 with value: 0.1533155571011919.\u001b[0m\n",
      "num_leaves, val_score: 0.153316:  85%|########5 | 17/20 [01:34<00:15,  5.19s/it]"
     ]
    },
    {
     "name": "stdout",
     "output_type": "stream",
     "text": [
      "Early stopping, best iteration is:\n",
      "[31]\ttrain's fair: 0.152174\tvalid's fair: 0.153444\n",
      "Training until validation scores don't improve for 300 rounds\n"
     ]
    },
    {
     "name": "stderr",
     "output_type": "stream",
     "text": [
      "num_leaves, val_score: 0.153316:  90%|######### | 18/20 [01:38<00:09,  4.72s/it]\u001b[32m[I 2021-08-31 15:22:25,788]\u001b[0m Trial 24 finished with value: 0.1533155571011919 and parameters: {'num_leaves': 2}. Best is trial 18 with value: 0.1533155571011919.\u001b[0m\n",
      "num_leaves, val_score: 0.153316:  90%|######### | 18/20 [01:38<00:09,  4.72s/it]"
     ]
    },
    {
     "name": "stdout",
     "output_type": "stream",
     "text": [
      "Early stopping, best iteration is:\n",
      "[145]\ttrain's fair: 0.153117\tvalid's fair: 0.153316\n",
      "Training until validation scores don't improve for 300 rounds\n"
     ]
    },
    {
     "name": "stderr",
     "output_type": "stream",
     "text": [
      "num_leaves, val_score: 0.153316:  95%|#########5| 19/20 [01:44<00:05,  5.16s/it]\u001b[32m[I 2021-08-31 15:22:31,989]\u001b[0m Trial 25 finished with value: 0.1534981197278478 and parameters: {'num_leaves': 134}. Best is trial 18 with value: 0.1533155571011919.\u001b[0m\n",
      "num_leaves, val_score: 0.153316:  95%|#########5| 19/20 [01:44<00:05,  5.16s/it]"
     ]
    },
    {
     "name": "stdout",
     "output_type": "stream",
     "text": [
      "Early stopping, best iteration is:\n",
      "[27]\ttrain's fair: 0.151967\tvalid's fair: 0.153498\n",
      "Training until validation scores don't improve for 300 rounds\n"
     ]
    },
    {
     "name": "stderr",
     "output_type": "stream",
     "text": [
      "num_leaves, val_score: 0.153316: 100%|##########| 20/20 [01:48<00:00,  4.88s/it]\u001b[32m[I 2021-08-31 15:22:36,216]\u001b[0m Trial 26 finished with value: 0.15334928099625741 and parameters: {'num_leaves': 24}. Best is trial 18 with value: 0.1533155571011919.\u001b[0m\n",
      "num_leaves, val_score: 0.153316: 100%|##########| 20/20 [01:48<00:00,  5.43s/it]\n",
      "bagging, val_score: 0.153316:   0%|          | 0/10 [00:00<?, ?it/s]"
     ]
    },
    {
     "name": "stdout",
     "output_type": "stream",
     "text": [
      "Early stopping, best iteration is:\n",
      "[44]\ttrain's fair: 0.152827\tvalid's fair: 0.153349\n",
      "Training until validation scores don't improve for 300 rounds\n",
      "[500]\ttrain's fair: 0.153115\tvalid's fair: 0.153334\n"
     ]
    },
    {
     "name": "stderr",
     "output_type": "stream",
     "text": [
      "bagging, val_score: 0.153316:  10%|#         | 1/10 [00:06<00:58,  6.53s/it]\u001b[32m[I 2021-08-31 15:22:42,749]\u001b[0m Trial 27 finished with value: 0.15332410855966103 and parameters: {'bagging_fraction': 0.5771801703500847, 'bagging_freq': 1}. Best is trial 27 with value: 0.15332410855966103.\u001b[0m\n",
      "bagging, val_score: 0.153316:  10%|#         | 1/10 [00:06<00:58,  6.53s/it]"
     ]
    },
    {
     "name": "stdout",
     "output_type": "stream",
     "text": [
      "Early stopping, best iteration is:\n",
      "[358]\ttrain's fair: 0.153116\tvalid's fair: 0.153324\n",
      "Training until validation scores don't improve for 300 rounds\n",
      "[500]\ttrain's fair: 0.153114\tvalid's fair: 0.153319\n"
     ]
    },
    {
     "name": "stderr",
     "output_type": "stream",
     "text": [
      "bagging, val_score: 0.153311:  20%|##        | 2/10 [00:15<01:03,  7.96s/it]\u001b[32m[I 2021-08-31 15:22:51,716]\u001b[0m Trial 28 finished with value: 0.1533107171341164 and parameters: {'bagging_fraction': 0.8388682888383177, 'bagging_freq': 7}. Best is trial 28 with value: 0.1533107171341164.\u001b[0m\n",
      "bagging, val_score: 0.153311:  20%|##        | 2/10 [00:15<01:03,  7.96s/it]"
     ]
    },
    {
     "name": "stdout",
     "output_type": "stream",
     "text": [
      "Early stopping, best iteration is:\n",
      "[566]\ttrain's fair: 0.153107\tvalid's fair: 0.153311\n",
      "Training until validation scores don't improve for 300 rounds\n"
     ]
    },
    {
     "name": "stderr",
     "output_type": "stream",
     "text": [
      "bagging, val_score: 0.153311:  30%|###       | 3/10 [00:19<00:44,  6.29s/it]\u001b[32m[I 2021-08-31 15:22:56,024]\u001b[0m Trial 29 finished with value: 0.15332930234145298 and parameters: {'bagging_fraction': 0.8845195616731525, 'bagging_freq': 6}. Best is trial 28 with value: 0.1533107171341164.\u001b[0m\n",
      "bagging, val_score: 0.153311:  30%|###       | 3/10 [00:19<00:44,  6.29s/it]"
     ]
    },
    {
     "name": "stdout",
     "output_type": "stream",
     "text": [
      "Early stopping, best iteration is:\n",
      "[126]\ttrain's fair: 0.153125\tvalid's fair: 0.153329\n",
      "Training until validation scores don't improve for 300 rounds\n"
     ]
    },
    {
     "name": "stderr",
     "output_type": "stream",
     "text": [
      "bagging, val_score: 0.153311:  40%|####      | 4/10 [00:23<00:32,  5.43s/it]\u001b[32m[I 2021-08-31 15:23:00,127]\u001b[0m Trial 30 finished with value: 0.1533272612086908 and parameters: {'bagging_fraction': 0.8008635259114536, 'bagging_freq': 1}. Best is trial 28 with value: 0.1533107171341164.\u001b[0m\n",
      "bagging, val_score: 0.153311:  40%|####      | 4/10 [00:23<00:32,  5.43s/it]"
     ]
    },
    {
     "name": "stdout",
     "output_type": "stream",
     "text": [
      "Early stopping, best iteration is:\n",
      "[118]\ttrain's fair: 0.153123\tvalid's fair: 0.153327\n",
      "Training until validation scores don't improve for 300 rounds\n",
      "[500]\ttrain's fair: 0.153114\tvalid's fair: 0.153319\n",
      "[1000]\ttrain's fair: 0.153098\tvalid's fair: 0.153322\n"
     ]
    },
    {
     "name": "stderr",
     "output_type": "stream",
     "text": [
      "bagging, val_score: 0.153311:  50%|#####     | 5/10 [00:36<00:40,  8.16s/it]\u001b[32m[I 2021-08-31 15:23:13,136]\u001b[0m Trial 31 finished with value: 0.1533109957226535 and parameters: {'bagging_fraction': 0.7965100066122854, 'bagging_freq': 7}. Best is trial 28 with value: 0.1533107171341164.\u001b[0m\n",
      "bagging, val_score: 0.153311:  50%|#####     | 5/10 [00:36<00:40,  8.16s/it]"
     ]
    },
    {
     "name": "stdout",
     "output_type": "stream",
     "text": [
      "Early stopping, best iteration is:\n",
      "[1141]\ttrain's fair: 0.153085\tvalid's fair: 0.153311\n",
      "Training until validation scores don't improve for 300 rounds\n",
      "[500]\ttrain's fair: 0.153123\tvalid's fair: 0.153321\n"
     ]
    },
    {
     "name": "stderr",
     "output_type": "stream",
     "text": [
      "bagging, val_score: 0.153288:  60%|######    | 6/10 [00:42<00:29,  7.29s/it]\u001b[32m[I 2021-08-31 15:23:18,739]\u001b[0m Trial 32 finished with value: 0.15328830212580793 and parameters: {'bagging_fraction': 0.4445425708987717, 'bagging_freq': 3}. Best is trial 32 with value: 0.15328830212580793.\u001b[0m\n",
      "bagging, val_score: 0.153288:  60%|######    | 6/10 [00:42<00:29,  7.29s/it]"
     ]
    },
    {
     "name": "stdout",
     "output_type": "stream",
     "text": [
      "Early stopping, best iteration is:\n",
      "[267]\ttrain's fair: 0.153132\tvalid's fair: 0.153288\n",
      "Training until validation scores don't improve for 300 rounds\n",
      "[500]\ttrain's fair: 0.153114\tvalid's fair: 0.153318\n"
     ]
    },
    {
     "name": "stderr",
     "output_type": "stream",
     "text": [
      "bagging, val_score: 0.153288:  70%|#######   | 7/10 [00:48<00:20,  6.96s/it]\u001b[32m[I 2021-08-31 15:23:25,031]\u001b[0m Trial 33 finished with value: 0.15330931056841063 and parameters: {'bagging_fraction': 0.8434596673964041, 'bagging_freq': 7}. Best is trial 32 with value: 0.15328830212580793.\u001b[0m\n",
      "bagging, val_score: 0.153288:  70%|#######   | 7/10 [00:48<00:20,  6.96s/it]"
     ]
    },
    {
     "name": "stdout",
     "output_type": "stream",
     "text": [
      "Early stopping, best iteration is:\n",
      "[287]\ttrain's fair: 0.153116\tvalid's fair: 0.153309\n",
      "Training until validation scores don't improve for 300 rounds\n",
      "[500]\ttrain's fair: 0.153121\tvalid's fair: 0.153334\n"
     ]
    },
    {
     "name": "stderr",
     "output_type": "stream",
     "text": [
      "bagging, val_score: 0.153288:  80%|########  | 8/10 [00:54<00:13,  6.55s/it]\u001b[32m[I 2021-08-31 15:23:30,695]\u001b[0m Trial 34 finished with value: 0.15331462327914808 and parameters: {'bagging_fraction': 0.7238649711155054, 'bagging_freq': 5}. Best is trial 32 with value: 0.15328830212580793.\u001b[0m\n",
      "bagging, val_score: 0.153288:  80%|########  | 8/10 [00:54<00:13,  6.55s/it]"
     ]
    },
    {
     "name": "stdout",
     "output_type": "stream",
     "text": [
      "Early stopping, best iteration is:\n",
      "[310]\ttrain's fair: 0.153114\tvalid's fair: 0.153315\n",
      "Training until validation scores don't improve for 300 rounds\n",
      "[500]\ttrain's fair: 0.153113\tvalid's fair: 0.153332\n"
     ]
    },
    {
     "name": "stderr",
     "output_type": "stream",
     "text": [
      "bagging, val_score: 0.153288:  90%|######### | 9/10 [01:01<00:06,  6.61s/it]\u001b[32m[I 2021-08-31 15:23:37,425]\u001b[0m Trial 35 finished with value: 0.15332501650435085 and parameters: {'bagging_fraction': 0.7365711674302367, 'bagging_freq': 7}. Best is trial 32 with value: 0.15328830212580793.\u001b[0m\n",
      "bagging, val_score: 0.153288:  90%|######### | 9/10 [01:01<00:06,  6.61s/it]"
     ]
    },
    {
     "name": "stdout",
     "output_type": "stream",
     "text": [
      "Early stopping, best iteration is:\n",
      "[433]\ttrain's fair: 0.153109\tvalid's fair: 0.153325\n",
      "Training until validation scores don't improve for 300 rounds\n",
      "[500]\ttrain's fair: 0.15311\tvalid's fair: 0.153347\n"
     ]
    },
    {
     "name": "stderr",
     "output_type": "stream",
     "text": [
      "bagging, val_score: 0.153288: 100%|##########| 10/10 [01:06<00:00,  6.14s/it]\u001b[32m[I 2021-08-31 15:23:42,505]\u001b[0m Trial 36 finished with value: 0.1533384982439639 and parameters: {'bagging_fraction': 0.7506523947078105, 'bagging_freq': 1}. Best is trial 32 with value: 0.15328830212580793.\u001b[0m\n",
      "bagging, val_score: 0.153288: 100%|##########| 10/10 [01:06<00:00,  6.63s/it]\n",
      "feature_fraction_stage2, val_score: 0.153288:   0%|          | 0/3 [00:00<?, ?it/s]"
     ]
    },
    {
     "name": "stdout",
     "output_type": "stream",
     "text": [
      "Early stopping, best iteration is:\n",
      "[222]\ttrain's fair: 0.153118\tvalid's fair: 0.153338\n",
      "Training until validation scores don't improve for 300 rounds\n",
      "[500]\ttrain's fair: 0.153123\tvalid's fair: 0.153321\n"
     ]
    },
    {
     "name": "stderr",
     "output_type": "stream",
     "text": [
      "feature_fraction_stage2, val_score: 0.153288:  33%|###3      | 1/3 [00:05<00:10,  5.12s/it]\u001b[32m[I 2021-08-31 15:23:47,643]\u001b[0m Trial 37 finished with value: 0.15328830212580793 and parameters: {'feature_fraction': 0.92}. Best is trial 37 with value: 0.15328830212580793.\u001b[0m\n",
      "feature_fraction_stage2, val_score: 0.153288:  33%|###3      | 1/3 [00:05<00:10,  5.12s/it]"
     ]
    },
    {
     "name": "stdout",
     "output_type": "stream",
     "text": [
      "Early stopping, best iteration is:\n",
      "[267]\ttrain's fair: 0.153132\tvalid's fair: 0.153288\n",
      "Training until validation scores don't improve for 300 rounds\n",
      "[500]\ttrain's fair: 0.153123\tvalid's fair: 0.153321\n"
     ]
    },
    {
     "name": "stderr",
     "output_type": "stream",
     "text": [
      "feature_fraction_stage2, val_score: 0.153288:  67%|######6   | 2/3 [00:11<00:05,  5.58s/it]\u001b[32m[I 2021-08-31 15:23:53,535]\u001b[0m Trial 38 finished with value: 0.15328830212580793 and parameters: {'feature_fraction': 0.9840000000000001}. Best is trial 37 with value: 0.15328830212580793.\u001b[0m\n",
      "feature_fraction_stage2, val_score: 0.153288:  67%|######6   | 2/3 [00:11<00:05,  5.58s/it]"
     ]
    },
    {
     "name": "stdout",
     "output_type": "stream",
     "text": [
      "Early stopping, best iteration is:\n",
      "[267]\ttrain's fair: 0.153132\tvalid's fair: 0.153288\n",
      "Training until validation scores don't improve for 300 rounds\n",
      "[500]\ttrain's fair: 0.153123\tvalid's fair: 0.153321\n"
     ]
    },
    {
     "name": "stderr",
     "output_type": "stream",
     "text": [
      "feature_fraction_stage2, val_score: 0.153288: 100%|##########| 3/3 [00:16<00:00,  5.52s/it]\u001b[32m[I 2021-08-31 15:23:58,993]\u001b[0m Trial 39 finished with value: 0.15328830212580796 and parameters: {'feature_fraction': 0.9520000000000001}. Best is trial 37 with value: 0.15328830212580793.\u001b[0m\n",
      "feature_fraction_stage2, val_score: 0.153288: 100%|##########| 3/3 [00:16<00:00,  5.49s/it]\n",
      "regularization_factors, val_score: 0.153288:   0%|          | 0/20 [00:00<?, ?it/s]"
     ]
    },
    {
     "name": "stdout",
     "output_type": "stream",
     "text": [
      "Early stopping, best iteration is:\n",
      "[267]\ttrain's fair: 0.153132\tvalid's fair: 0.153288\n",
      "Training until validation scores don't improve for 300 rounds\n",
      "[500]\ttrain's fair: 0.153123\tvalid's fair: 0.153321\n"
     ]
    },
    {
     "name": "stderr",
     "output_type": "stream",
     "text": [
      "regularization_factors, val_score: 0.153288:   5%|5         | 1/20 [00:05<01:40,  5.31s/it]\u001b[32m[I 2021-08-31 15:24:04,316]\u001b[0m Trial 40 finished with value: 0.15328830212588854 and parameters: {'lambda_l1': 6.706341413802902e-08, 'lambda_l2': 1.1266743515058085e-08}. Best is trial 40 with value: 0.15328830212588854.\u001b[0m\n",
      "regularization_factors, val_score: 0.153288:   5%|5         | 1/20 [00:05<01:40,  5.31s/it]"
     ]
    },
    {
     "name": "stdout",
     "output_type": "stream",
     "text": [
      "Early stopping, best iteration is:\n",
      "[267]\ttrain's fair: 0.153132\tvalid's fair: 0.153288\n",
      "Training until validation scores don't improve for 300 rounds\n",
      "[500]\ttrain's fair: 0.153123\tvalid's fair: 0.153321\n"
     ]
    },
    {
     "name": "stderr",
     "output_type": "stream",
     "text": [
      "regularization_factors, val_score: 0.153288:  10%|#         | 2/20 [00:10<01:33,  5.21s/it]\u001b[32m[I 2021-08-31 15:24:09,455]\u001b[0m Trial 41 finished with value: 0.15328830434222707 and parameters: {'lambda_l1': 0.006324715801859695, 'lambda_l2': 0.04610434983285104}. Best is trial 40 with value: 0.15328830212588854.\u001b[0m\n",
      "regularization_factors, val_score: 0.153288:  10%|#         | 2/20 [00:10<01:33,  5.21s/it]"
     ]
    },
    {
     "name": "stdout",
     "output_type": "stream",
     "text": [
      "Early stopping, best iteration is:\n",
      "[267]\ttrain's fair: 0.153132\tvalid's fair: 0.153288\n",
      "Training until validation scores don't improve for 300 rounds\n",
      "[500]\ttrain's fair: 0.153122\tvalid's fair: 0.153321\n"
     ]
    },
    {
     "name": "stderr",
     "output_type": "stream",
     "text": [
      "regularization_factors, val_score: 0.153288:  15%|#5        | 3/20 [00:15<01:28,  5.20s/it]\u001b[32m[I 2021-08-31 15:24:14,642]\u001b[0m Trial 42 finished with value: 0.153289952810406 and parameters: {'lambda_l1': 1.9958951778837633e-06, 'lambda_l2': 9.531301049841854}. Best is trial 40 with value: 0.15328830212588854.\u001b[0m\n",
      "regularization_factors, val_score: 0.153288:  15%|#5        | 3/20 [00:15<01:28,  5.20s/it]"
     ]
    },
    {
     "name": "stdout",
     "output_type": "stream",
     "text": [
      "Early stopping, best iteration is:\n",
      "[267]\ttrain's fair: 0.153132\tvalid's fair: 0.15329\n",
      "Training until validation scores don't improve for 300 rounds\n",
      "[500]\ttrain's fair: 0.153122\tvalid's fair: 0.153318\n"
     ]
    },
    {
     "name": "stderr",
     "output_type": "stream",
     "text": [
      "regularization_factors, val_score: 0.153288:  20%|##        | 4/20 [00:20<01:21,  5.10s/it]\u001b[32m[I 2021-08-31 15:24:19,596]\u001b[0m Trial 43 finished with value: 0.15329058341282917 and parameters: {'lambda_l1': 0.64069475681595, 'lambda_l2': 0.45537565840162075}. Best is trial 40 with value: 0.15328830212588854.\u001b[0m\n",
      "regularization_factors, val_score: 0.153288:  20%|##        | 4/20 [00:20<01:21,  5.10s/it]"
     ]
    },
    {
     "name": "stdout",
     "output_type": "stream",
     "text": [
      "Early stopping, best iteration is:\n",
      "[267]\ttrain's fair: 0.153132\tvalid's fair: 0.153291\n",
      "Training until validation scores don't improve for 300 rounds\n",
      "[500]\ttrain's fair: 0.153121\tvalid's fair: 0.15332\n"
     ]
    },
    {
     "name": "stderr",
     "output_type": "stream",
     "text": [
      "regularization_factors, val_score: 0.153288:  25%|##5       | 5/20 [00:26<01:19,  5.27s/it]\u001b[32m[I 2021-08-31 15:24:25,167]\u001b[0m Trial 44 finished with value: 0.15329043778835208 and parameters: {'lambda_l1': 0.03631463120881979, 'lambda_l2': 1.5362734363926671e-06}. Best is trial 40 with value: 0.15328830212588854.\u001b[0m\n",
      "regularization_factors, val_score: 0.153288:  25%|##5       | 5/20 [00:26<01:19,  5.27s/it]"
     ]
    },
    {
     "name": "stdout",
     "output_type": "stream",
     "text": [
      "Early stopping, best iteration is:\n",
      "[267]\ttrain's fair: 0.153132\tvalid's fair: 0.15329\n",
      "Training until validation scores don't improve for 300 rounds\n",
      "[500]\ttrain's fair: 0.153121\tvalid's fair: 0.15332\n"
     ]
    },
    {
     "name": "stderr",
     "output_type": "stream",
     "text": [
      "regularization_factors, val_score: 0.153288:  30%|###       | 6/20 [00:31<01:15,  5.43s/it]\u001b[32m[I 2021-08-31 15:24:30,897]\u001b[0m Trial 45 finished with value: 0.15329046960671489 and parameters: {'lambda_l1': 1.2935571091870632e-08, 'lambda_l2': 3.179643491657995}. Best is trial 40 with value: 0.15328830212588854.\u001b[0m\n",
      "regularization_factors, val_score: 0.153288:  30%|###       | 6/20 [00:31<01:15,  5.43s/it]"
     ]
    },
    {
     "name": "stdout",
     "output_type": "stream",
     "text": [
      "Early stopping, best iteration is:\n",
      "[267]\ttrain's fair: 0.153132\tvalid's fair: 0.15329\n",
      "Training until validation scores don't improve for 300 rounds\n",
      "[500]\ttrain's fair: 0.153122\tvalid's fair: 0.153321\n"
     ]
    },
    {
     "name": "stderr",
     "output_type": "stream",
     "text": [
      "regularization_factors, val_score: 0.153288:  35%|###5      | 7/20 [00:37<01:11,  5.53s/it]\u001b[32m[I 2021-08-31 15:24:36,645]\u001b[0m Trial 46 finished with value: 0.15330039322009859 and parameters: {'lambda_l1': 5.642525909519842, 'lambda_l2': 7.192086036270841e-06}. Best is trial 40 with value: 0.15328830212588854.\u001b[0m\n",
      "regularization_factors, val_score: 0.153288:  35%|###5      | 7/20 [00:37<01:11,  5.53s/it]"
     ]
    },
    {
     "name": "stdout",
     "output_type": "stream",
     "text": [
      "Early stopping, best iteration is:\n",
      "[345]\ttrain's fair: 0.153122\tvalid's fair: 0.1533\n",
      "Training until validation scores don't improve for 300 rounds\n",
      "[500]\ttrain's fair: 0.153123\tvalid's fair: 0.153323\n"
     ]
    },
    {
     "name": "stderr",
     "output_type": "stream",
     "text": [
      "regularization_factors, val_score: 0.153288:  40%|####      | 8/20 [00:42<01:04,  5.36s/it]\u001b[32m[I 2021-08-31 15:24:41,625]\u001b[0m Trial 47 finished with value: 0.15329050186837648 and parameters: {'lambda_l1': 0.1775819583552755, 'lambda_l2': 0.32145841842820294}. Best is trial 40 with value: 0.15328830212588854.\u001b[0m\n",
      "regularization_factors, val_score: 0.153288:  40%|####      | 8/20 [00:42<01:04,  5.36s/it]"
     ]
    },
    {
     "name": "stdout",
     "output_type": "stream",
     "text": [
      "Early stopping, best iteration is:\n",
      "[267]\ttrain's fair: 0.153132\tvalid's fair: 0.153291\n",
      "Training until validation scores don't improve for 300 rounds\n",
      "[500]\ttrain's fair: 0.153123\tvalid's fair: 0.153321\n"
     ]
    },
    {
     "name": "stderr",
     "output_type": "stream",
     "text": [
      "regularization_factors, val_score: 0.153288:  45%|####5     | 9/20 [00:47<00:57,  5.25s/it]\u001b[32m[I 2021-08-31 15:24:46,630]\u001b[0m Trial 48 finished with value: 0.15328830215337635 and parameters: {'lambda_l1': 3.085360634671127e-05, 'lambda_l2': 0.0016254623225511072}. Best is trial 40 with value: 0.15328830212588854.\u001b[0m\n",
      "regularization_factors, val_score: 0.153288:  45%|####5     | 9/20 [00:47<00:57,  5.25s/it]"
     ]
    },
    {
     "name": "stdout",
     "output_type": "stream",
     "text": [
      "Early stopping, best iteration is:\n",
      "[267]\ttrain's fair: 0.153132\tvalid's fair: 0.153288\n",
      "Training until validation scores don't improve for 300 rounds\n",
      "[500]\ttrain's fair: 0.153121\tvalid's fair: 0.15332\n"
     ]
    },
    {
     "name": "stderr",
     "output_type": "stream",
     "text": [
      "regularization_factors, val_score: 0.153288:  50%|#####     | 10/20 [00:52<00:51,  5.16s/it]\u001b[32m[I 2021-08-31 15:24:51,609]\u001b[0m Trial 49 finished with value: 0.15329043453686228 and parameters: {'lambda_l1': 3.983805917809428e-08, 'lambda_l2': 0.3900259905339209}. Best is trial 40 with value: 0.15328830212588854.\u001b[0m\n",
      "regularization_factors, val_score: 0.153288:  50%|#####     | 10/20 [00:52<00:51,  5.16s/it]"
     ]
    },
    {
     "name": "stdout",
     "output_type": "stream",
     "text": [
      "Early stopping, best iteration is:\n",
      "[267]\ttrain's fair: 0.153132\tvalid's fair: 0.15329\n",
      "Training until validation scores don't improve for 300 rounds\n",
      "[500]\ttrain's fair: 0.153123\tvalid's fair: 0.153321\n"
     ]
    },
    {
     "name": "stderr",
     "output_type": "stream",
     "text": [
      "regularization_factors, val_score: 0.153288:  55%|#####5    | 11/20 [00:58<00:47,  5.30s/it]\u001b[32m[I 2021-08-31 15:24:57,230]\u001b[0m Trial 50 finished with value: 0.15328830212608693 and parameters: {'lambda_l1': 6.811967629211871e-07, 'lambda_l2': 1.3333055445674773e-08}. Best is trial 40 with value: 0.15328830212588854.\u001b[0m\n",
      "regularization_factors, val_score: 0.153288:  55%|#####5    | 11/20 [00:58<00:47,  5.30s/it]"
     ]
    },
    {
     "name": "stdout",
     "output_type": "stream",
     "text": [
      "Early stopping, best iteration is:\n",
      "[267]\ttrain's fair: 0.153132\tvalid's fair: 0.153288\n",
      "Training until validation scores don't improve for 300 rounds\n",
      "[500]\ttrain's fair: 0.153123\tvalid's fair: 0.153321\n"
     ]
    },
    {
     "name": "stderr",
     "output_type": "stream",
     "text": [
      "regularization_factors, val_score: 0.153288:  60%|######    | 12/20 [01:04<00:43,  5.47s/it]\u001b[32m[I 2021-08-31 15:25:03,090]\u001b[0m Trial 51 finished with value: 0.15328830212599232 and parameters: {'lambda_l1': 5.390060632363664e-07, 'lambda_l2': 1.1698841868667129e-07}. Best is trial 40 with value: 0.15328830212588854.\u001b[0m\n",
      "regularization_factors, val_score: 0.153288:  60%|######    | 12/20 [01:04<00:43,  5.47s/it]"
     ]
    },
    {
     "name": "stdout",
     "output_type": "stream",
     "text": [
      "Early stopping, best iteration is:\n",
      "[267]\ttrain's fair: 0.153132\tvalid's fair: 0.153288\n",
      "Training until validation scores don't improve for 300 rounds\n",
      "[500]\ttrain's fair: 0.153123\tvalid's fair: 0.153321\n"
     ]
    },
    {
     "name": "stderr",
     "output_type": "stream",
     "text": [
      "regularization_factors, val_score: 0.153288:  65%|######5   | 13/20 [01:09<00:37,  5.35s/it]\u001b[32m[I 2021-08-31 15:25:08,143]\u001b[0m Trial 52 finished with value: 0.15328830212584063 and parameters: {'lambda_l1': 3.8434929090716635e-07, 'lambda_l2': 1.1090590195929666e-08}. Best is trial 52 with value: 0.15328830212584063.\u001b[0m\n",
      "regularization_factors, val_score: 0.153288:  65%|######5   | 13/20 [01:09<00:37,  5.35s/it]"
     ]
    },
    {
     "name": "stdout",
     "output_type": "stream",
     "text": [
      "Early stopping, best iteration is:\n",
      "[267]\ttrain's fair: 0.153132\tvalid's fair: 0.153288\n",
      "Training until validation scores don't improve for 300 rounds\n",
      "[500]\ttrain's fair: 0.153123\tvalid's fair: 0.153321\n"
     ]
    },
    {
     "name": "stderr",
     "output_type": "stream",
     "text": [
      "regularization_factors, val_score: 0.153288:  70%|#######   | 14/20 [01:14<00:31,  5.23s/it]\u001b[32m[I 2021-08-31 15:25:13,114]\u001b[0m Trial 53 finished with value: 0.15328830217191755 and parameters: {'lambda_l1': 0.00019160255377969606, 'lambda_l2': 1.4955141168779622e-08}. Best is trial 52 with value: 0.15328830212584063.\u001b[0m\n",
      "regularization_factors, val_score: 0.153288:  70%|#######   | 14/20 [01:14<00:31,  5.23s/it]"
     ]
    },
    {
     "name": "stdout",
     "output_type": "stream",
     "text": [
      "Early stopping, best iteration is:\n",
      "[267]\ttrain's fair: 0.153132\tvalid's fair: 0.153288\n",
      "Training until validation scores don't improve for 300 rounds\n",
      "[500]\ttrain's fair: 0.153123\tvalid's fair: 0.153321\n"
     ]
    },
    {
     "name": "stderr",
     "output_type": "stream",
     "text": [
      "regularization_factors, val_score: 0.153288:  75%|#######5  | 15/20 [01:19<00:25,  5.18s/it]\u001b[32m[I 2021-08-31 15:25:18,160]\u001b[0m Trial 54 finished with value: 0.15328830212587055 and parameters: {'lambda_l1': 1.261322692483696e-08, 'lambda_l2': 7.429672042490881e-07}. Best is trial 52 with value: 0.15328830212584063.\u001b[0m\n",
      "regularization_factors, val_score: 0.153288:  75%|#######5  | 15/20 [01:19<00:25,  5.18s/it]"
     ]
    },
    {
     "name": "stdout",
     "output_type": "stream",
     "text": [
      "Early stopping, best iteration is:\n",
      "[267]\ttrain's fair: 0.153132\tvalid's fair: 0.153288\n",
      "Training until validation scores don't improve for 300 rounds\n",
      "[500]\ttrain's fair: 0.153123\tvalid's fair: 0.153321\n"
     ]
    },
    {
     "name": "stderr",
     "output_type": "stream",
     "text": [
      "regularization_factors, val_score: 0.153288:  80%|########  | 16/20 [01:24<00:20,  5.11s/it]\u001b[32m[I 2021-08-31 15:25:23,120]\u001b[0m Trial 55 finished with value: 0.15328830213286346 and parameters: {'lambda_l1': 2.507526351132416e-05, 'lambda_l2': 2.283588951024527e-05}. Best is trial 52 with value: 0.15328830212584063.\u001b[0m\n",
      "regularization_factors, val_score: 0.153288:  80%|########  | 16/20 [01:24<00:20,  5.11s/it]"
     ]
    },
    {
     "name": "stdout",
     "output_type": "stream",
     "text": [
      "Early stopping, best iteration is:\n",
      "[267]\ttrain's fair: 0.153132\tvalid's fair: 0.153288\n",
      "Training until validation scores don't improve for 300 rounds\n",
      "[500]\ttrain's fair: 0.153123\tvalid's fair: 0.153321\n"
     ]
    },
    {
     "name": "stderr",
     "output_type": "stream",
     "text": [
      "regularization_factors, val_score: 0.153288:  85%|########5 | 17/20 [01:29<00:15,  5.26s/it]\u001b[32m[I 2021-08-31 15:25:28,719]\u001b[0m Trial 56 finished with value: 0.15328830212587097 and parameters: {'lambda_l1': 1.4100235105950115e-08, 'lambda_l2': 2.471161093440163e-07}. Best is trial 52 with value: 0.15328830212584063.\u001b[0m\n",
      "regularization_factors, val_score: 0.153288:  85%|########5 | 17/20 [01:29<00:15,  5.26s/it]"
     ]
    },
    {
     "name": "stdout",
     "output_type": "stream",
     "text": [
      "Early stopping, best iteration is:\n",
      "[267]\ttrain's fair: 0.153132\tvalid's fair: 0.153288\n",
      "Training until validation scores don't improve for 300 rounds\n",
      "[500]\ttrain's fair: 0.153123\tvalid's fair: 0.153321\n"
     ]
    },
    {
     "name": "stderr",
     "output_type": "stream",
     "text": [
      "regularization_factors, val_score: 0.153288:  90%|######### | 18/20 [01:35<00:10,  5.46s/it]\u001b[32m[I 2021-08-31 15:25:34,647]\u001b[0m Trial 57 finished with value: 0.15328830212996297 and parameters: {'lambda_l1': 4.38782012201482e-06, 'lambda_l2': 0.00020695249555362507}. Best is trial 52 with value: 0.15328830212584063.\u001b[0m\n",
      "regularization_factors, val_score: 0.153288:  90%|######### | 18/20 [01:35<00:10,  5.46s/it]"
     ]
    },
    {
     "name": "stdout",
     "output_type": "stream",
     "text": [
      "Early stopping, best iteration is:\n",
      "[267]\ttrain's fair: 0.153132\tvalid's fair: 0.153288\n",
      "Training until validation scores don't improve for 300 rounds\n",
      "[500]\ttrain's fair: 0.153123\tvalid's fair: 0.153321\n"
     ]
    },
    {
     "name": "stderr",
     "output_type": "stream",
     "text": [
      "regularization_factors, val_score: 0.153288:  95%|#########5| 19/20 [01:40<00:05,  5.38s/it]\u001b[32m[I 2021-08-31 15:25:39,849]\u001b[0m Trial 58 finished with value: 0.15328830212584088 and parameters: {'lambda_l1': 8.794909598601247e-08, 'lambda_l2': 2.4179266676675956e-07}. Best is trial 52 with value: 0.15328830212584063.\u001b[0m\n",
      "regularization_factors, val_score: 0.153288:  95%|#########5| 19/20 [01:40<00:05,  5.38s/it]"
     ]
    },
    {
     "name": "stdout",
     "output_type": "stream",
     "text": [
      "Early stopping, best iteration is:\n",
      "[267]\ttrain's fair: 0.153132\tvalid's fair: 0.153288\n",
      "Training until validation scores don't improve for 300 rounds\n",
      "[500]\ttrain's fair: 0.153123\tvalid's fair: 0.153321\n"
     ]
    },
    {
     "name": "stderr",
     "output_type": "stream",
     "text": [
      "regularization_factors, val_score: 0.153288: 100%|##########| 20/20 [01:45<00:00,  5.26s/it]\u001b[32m[I 2021-08-31 15:25:44,813]\u001b[0m Trial 59 finished with value: 0.15328830222982848 and parameters: {'lambda_l1': 0.0004141191441302411, 'lambda_l2': 7.520269541855722e-08}. Best is trial 52 with value: 0.15328830212584063.\u001b[0m\n",
      "regularization_factors, val_score: 0.153288: 100%|##########| 20/20 [01:45<00:00,  5.29s/it]\n",
      "min_data_in_leaf, val_score: 0.153288:   0%|          | 0/5 [00:00<?, ?it/s]"
     ]
    },
    {
     "name": "stdout",
     "output_type": "stream",
     "text": [
      "Early stopping, best iteration is:\n",
      "[267]\ttrain's fair: 0.153132\tvalid's fair: 0.153288\n",
      "Training until validation scores don't improve for 300 rounds\n",
      "[500]\ttrain's fair: 0.153123\tvalid's fair: 0.153321\n"
     ]
    },
    {
     "name": "stderr",
     "output_type": "stream",
     "text": [
      "min_data_in_leaf, val_score: 0.153288:  20%|##        | 1/5 [00:05<00:20,  5.04s/it]\u001b[32m[I 2021-08-31 15:25:49,861]\u001b[0m Trial 60 finished with value: 0.15328830212580793 and parameters: {'min_child_samples': 50}. Best is trial 60 with value: 0.15328830212580793.\u001b[0m\n",
      "min_data_in_leaf, val_score: 0.153288:  20%|##        | 1/5 [00:05<00:20,  5.04s/it]"
     ]
    },
    {
     "name": "stdout",
     "output_type": "stream",
     "text": [
      "Early stopping, best iteration is:\n",
      "[267]\ttrain's fair: 0.153132\tvalid's fair: 0.153288\n",
      "Training until validation scores don't improve for 300 rounds\n",
      "[500]\ttrain's fair: 0.153123\tvalid's fair: 0.153321\n"
     ]
    },
    {
     "name": "stderr",
     "output_type": "stream",
     "text": [
      "min_data_in_leaf, val_score: 0.153288:  40%|####      | 2/5 [00:09<00:14,  4.99s/it]\u001b[32m[I 2021-08-31 15:25:54,811]\u001b[0m Trial 61 finished with value: 0.15328830212580796 and parameters: {'min_child_samples': 25}. Best is trial 60 with value: 0.15328830212580793.\u001b[0m\n",
      "min_data_in_leaf, val_score: 0.153288:  40%|####      | 2/5 [00:09<00:14,  4.99s/it]"
     ]
    },
    {
     "name": "stdout",
     "output_type": "stream",
     "text": [
      "Early stopping, best iteration is:\n",
      "[267]\ttrain's fair: 0.153132\tvalid's fair: 0.153288\n",
      "Training until validation scores don't improve for 300 rounds\n",
      "[500]\ttrain's fair: 0.153123\tvalid's fair: 0.153321\n"
     ]
    },
    {
     "name": "stderr",
     "output_type": "stream",
     "text": [
      "min_data_in_leaf, val_score: 0.153288:  60%|######    | 3/5 [00:15<00:10,  5.26s/it]\u001b[32m[I 2021-08-31 15:26:00,386]\u001b[0m Trial 62 finished with value: 0.15328830212580793 and parameters: {'min_child_samples': 5}. Best is trial 60 with value: 0.15328830212580793.\u001b[0m\n",
      "min_data_in_leaf, val_score: 0.153288:  60%|######    | 3/5 [00:15<00:10,  5.26s/it]"
     ]
    },
    {
     "name": "stdout",
     "output_type": "stream",
     "text": [
      "Early stopping, best iteration is:\n",
      "[267]\ttrain's fair: 0.153132\tvalid's fair: 0.153288\n",
      "Training until validation scores don't improve for 300 rounds\n",
      "[500]\ttrain's fair: 0.153123\tvalid's fair: 0.153321\n"
     ]
    },
    {
     "name": "stderr",
     "output_type": "stream",
     "text": [
      "min_data_in_leaf, val_score: 0.153288:  80%|########  | 4/5 [00:21<00:05,  5.45s/it]\u001b[32m[I 2021-08-31 15:26:06,124]\u001b[0m Trial 63 finished with value: 0.1532883021258079 and parameters: {'min_child_samples': 10}. Best is trial 63 with value: 0.1532883021258079.\u001b[0m\n",
      "min_data_in_leaf, val_score: 0.153288:  80%|########  | 4/5 [00:21<00:05,  5.45s/it]"
     ]
    },
    {
     "name": "stdout",
     "output_type": "stream",
     "text": [
      "Early stopping, best iteration is:\n",
      "[267]\ttrain's fair: 0.153132\tvalid's fair: 0.153288\n",
      "Training until validation scores don't improve for 300 rounds\n",
      "[500]\ttrain's fair: 0.153123\tvalid's fair: 0.153321\n"
     ]
    },
    {
     "name": "stderr",
     "output_type": "stream",
     "text": [
      "min_data_in_leaf, val_score: 0.153288: 100%|##########| 5/5 [00:26<00:00,  5.32s/it]\u001b[32m[I 2021-08-31 15:26:11,225]\u001b[0m Trial 64 finished with value: 0.15328830212580793 and parameters: {'min_child_samples': 100}. Best is trial 63 with value: 0.1532883021258079.\u001b[0m\n",
      "min_data_in_leaf, val_score: 0.153288: 100%|##########| 5/5 [00:26<00:00,  5.28s/it]"
     ]
    },
    {
     "name": "stdout",
     "output_type": "stream",
     "text": [
      "Early stopping, best iteration is:\n",
      "[267]\ttrain's fair: 0.153132\tvalid's fair: 0.153288\n"
     ]
    },
    {
     "name": "stderr",
     "output_type": "stream",
     "text": [
      "\n",
      "\u001b[32m[I 2021-08-31 15:26:11,872]\u001b[0m A new study created in memory with name: no-name-56b65eee-1426-4195-be11-32a171454dfb\u001b[0m\n",
      "feature_fraction, val_score: inf:   0%|          | 0/7 [00:00<?, ?it/s]"
     ]
    },
    {
     "name": "stdout",
     "output_type": "stream",
     "text": [
      "3 0.7150264667116638\n",
      "Training until validation scores don't improve for 300 rounds\n"
     ]
    },
    {
     "name": "stderr",
     "output_type": "stream",
     "text": [
      "feature_fraction, val_score: 0.153952:  14%|#4        | 1/7 [00:04<00:25,  4.17s/it]\u001b[32m[I 2021-08-31 15:26:16,046]\u001b[0m Trial 0 finished with value: 0.15395153288058863 and parameters: {'feature_fraction': 0.7}. Best is trial 0 with value: 0.15395153288058863.\u001b[0m\n",
      "feature_fraction, val_score: 0.153952:  14%|#4        | 1/7 [00:04<00:25,  4.17s/it]"
     ]
    },
    {
     "name": "stdout",
     "output_type": "stream",
     "text": [
      "Early stopping, best iteration is:\n",
      "[32]\ttrain's fair: 0.152884\tvalid's fair: 0.153952\n",
      "Training until validation scores don't improve for 300 rounds\n"
     ]
    },
    {
     "name": "stderr",
     "output_type": "stream",
     "text": [
      "feature_fraction, val_score: 0.153952:  29%|##8       | 2/7 [00:08<00:20,  4.16s/it]\u001b[32m[I 2021-08-31 15:26:20,199]\u001b[0m Trial 1 finished with value: 0.15395153288058863 and parameters: {'feature_fraction': 0.8}. Best is trial 0 with value: 0.15395153288058863.\u001b[0m\n",
      "feature_fraction, val_score: 0.153952:  29%|##8       | 2/7 [00:08<00:20,  4.16s/it]"
     ]
    },
    {
     "name": "stdout",
     "output_type": "stream",
     "text": [
      "Early stopping, best iteration is:\n",
      "[32]\ttrain's fair: 0.152884\tvalid's fair: 0.153952\n",
      "Training until validation scores don't improve for 300 rounds\n"
     ]
    },
    {
     "name": "stderr",
     "output_type": "stream",
     "text": [
      "feature_fraction, val_score: 0.153952:  43%|####2     | 3/7 [00:14<00:21,  5.26s/it]\u001b[32m[I 2021-08-31 15:26:26,777]\u001b[0m Trial 2 finished with value: 0.15399129261146602 and parameters: {'feature_fraction': 0.4}. Best is trial 0 with value: 0.15395153288058863.\u001b[0m\n",
      "feature_fraction, val_score: 0.153952:  43%|####2     | 3/7 [00:14<00:21,  5.26s/it]"
     ]
    },
    {
     "name": "stdout",
     "output_type": "stream",
     "text": [
      "Early stopping, best iteration is:\n",
      "[39]\ttrain's fair: 0.153061\tvalid's fair: 0.153991\n",
      "Training until validation scores don't improve for 300 rounds\n"
     ]
    },
    {
     "name": "stderr",
     "output_type": "stream",
     "text": [
      "feature_fraction, val_score: 0.153952:  57%|#####7    | 4/7 [00:19<00:14,  4.82s/it]\u001b[32m[I 2021-08-31 15:26:30,917]\u001b[0m Trial 3 finished with value: 0.15395153288058863 and parameters: {'feature_fraction': 0.6}. Best is trial 0 with value: 0.15395153288058863.\u001b[0m\n",
      "feature_fraction, val_score: 0.153952:  57%|#####7    | 4/7 [00:19<00:14,  4.82s/it]"
     ]
    },
    {
     "name": "stdout",
     "output_type": "stream",
     "text": [
      "Early stopping, best iteration is:\n",
      "[32]\ttrain's fair: 0.152884\tvalid's fair: 0.153952\n",
      "Training until validation scores don't improve for 300 rounds\n"
     ]
    },
    {
     "name": "stderr",
     "output_type": "stream",
     "text": [
      "feature_fraction, val_score: 0.153952:  71%|#######1  | 5/7 [00:23<00:09,  4.79s/it]\u001b[32m[I 2021-08-31 15:26:35,654]\u001b[0m Trial 4 finished with value: 0.15395153288058863 and parameters: {'feature_fraction': 0.5}. Best is trial 0 with value: 0.15395153288058863.\u001b[0m\n",
      "feature_fraction, val_score: 0.153952:  71%|#######1  | 5/7 [00:23<00:09,  4.79s/it]"
     ]
    },
    {
     "name": "stdout",
     "output_type": "stream",
     "text": [
      "Early stopping, best iteration is:\n",
      "[32]\ttrain's fair: 0.152884\tvalid's fair: 0.153952\n",
      "Training until validation scores don't improve for 300 rounds\n"
     ]
    },
    {
     "name": "stderr",
     "output_type": "stream",
     "text": [
      "feature_fraction, val_score: 0.153933:  86%|########5 | 6/7 [00:28<00:04,  4.61s/it]\u001b[32m[I 2021-08-31 15:26:39,911]\u001b[0m Trial 5 finished with value: 0.15393331235920113 and parameters: {'feature_fraction': 0.8999999999999999}. Best is trial 5 with value: 0.15393331235920113.\u001b[0m\n",
      "feature_fraction, val_score: 0.153933:  86%|########5 | 6/7 [00:28<00:04,  4.61s/it]"
     ]
    },
    {
     "name": "stdout",
     "output_type": "stream",
     "text": [
      "Early stopping, best iteration is:\n",
      "[40]\ttrain's fair: 0.152695\tvalid's fair: 0.153933\n",
      "Training until validation scores don't improve for 300 rounds\n"
     ]
    },
    {
     "name": "stderr",
     "output_type": "stream",
     "text": [
      "feature_fraction, val_score: 0.153933: 100%|##########| 7/7 [00:33<00:00,  4.83s/it]\u001b[32m[I 2021-08-31 15:26:45,209]\u001b[0m Trial 6 finished with value: 0.15393331235920113 and parameters: {'feature_fraction': 1.0}. Best is trial 5 with value: 0.15393331235920113.\u001b[0m\n",
      "feature_fraction, val_score: 0.153933: 100%|##########| 7/7 [00:33<00:00,  4.76s/it]\n",
      "num_leaves, val_score: 0.153933:   0%|          | 0/20 [00:00<?, ?it/s]"
     ]
    },
    {
     "name": "stdout",
     "output_type": "stream",
     "text": [
      "Early stopping, best iteration is:\n",
      "[40]\ttrain's fair: 0.152695\tvalid's fair: 0.153933\n",
      "Training until validation scores don't improve for 300 rounds\n"
     ]
    },
    {
     "name": "stderr",
     "output_type": "stream",
     "text": [
      "num_leaves, val_score: 0.153933:   5%|5         | 1/20 [00:05<01:50,  5.79s/it]\u001b[32m[I 2021-08-31 15:26:51,007]\u001b[0m Trial 7 finished with value: 0.15402618416249836 and parameters: {'num_leaves': 121}. Best is trial 7 with value: 0.15402618416249836.\u001b[0m\n",
      "num_leaves, val_score: 0.153933:   5%|5         | 1/20 [00:05<01:50,  5.79s/it]"
     ]
    },
    {
     "name": "stdout",
     "output_type": "stream",
     "text": [
      "Early stopping, best iteration is:\n",
      "[29]\ttrain's fair: 0.151936\tvalid's fair: 0.154026\n",
      "Training until validation scores don't improve for 300 rounds\n"
     ]
    },
    {
     "name": "stderr",
     "output_type": "stream",
     "text": [
      "num_leaves, val_score: 0.153933:  10%|#         | 2/20 [00:12<01:48,  6.04s/it]\u001b[32m[I 2021-08-31 15:26:57,223]\u001b[0m Trial 8 finished with value: 0.1540472575852629 and parameters: {'num_leaves': 137}. Best is trial 7 with value: 0.15402618416249836.\u001b[0m\n",
      "num_leaves, val_score: 0.153933:  10%|#         | 2/20 [00:12<01:48,  6.04s/it]"
     ]
    },
    {
     "name": "stdout",
     "output_type": "stream",
     "text": [
      "Early stopping, best iteration is:\n",
      "[32]\ttrain's fair: 0.151667\tvalid's fair: 0.154047\n",
      "Training until validation scores don't improve for 300 rounds\n"
     ]
    },
    {
     "name": "stderr",
     "output_type": "stream",
     "text": [
      "num_leaves, val_score: 0.153840:  15%|#5        | 3/20 [00:16<01:31,  5.38s/it]\u001b[32m[I 2021-08-31 15:27:01,806]\u001b[0m Trial 9 finished with value: 0.15384009662600157 and parameters: {'num_leaves': 7}. Best is trial 9 with value: 0.15384009662600157.\u001b[0m\n",
      "num_leaves, val_score: 0.153840:  15%|#5        | 3/20 [00:16<01:31,  5.38s/it]"
     ]
    },
    {
     "name": "stdout",
     "output_type": "stream",
     "text": [
      "Early stopping, best iteration is:\n",
      "[143]\ttrain's fair: 0.152872\tvalid's fair: 0.15384\n",
      "Training until validation scores don't improve for 300 rounds\n"
     ]
    },
    {
     "name": "stderr",
     "output_type": "stream",
     "text": [
      "num_leaves, val_score: 0.153840:  20%|##        | 4/20 [00:22<01:31,  5.74s/it]\u001b[32m[I 2021-08-31 15:27:08,100]\u001b[0m Trial 10 finished with value: 0.15405535087162323 and parameters: {'num_leaves': 117}. Best is trial 9 with value: 0.15384009662600157.\u001b[0m\n",
      "num_leaves, val_score: 0.153840:  20%|##        | 4/20 [00:22<01:31,  5.74s/it]"
     ]
    },
    {
     "name": "stdout",
     "output_type": "stream",
     "text": [
      "Early stopping, best iteration is:\n",
      "[27]\ttrain's fair: 0.152034\tvalid's fair: 0.154055\n",
      "Training until validation scores don't improve for 300 rounds\n"
     ]
    },
    {
     "name": "stderr",
     "output_type": "stream",
     "text": [
      "num_leaves, val_score: 0.153840:  25%|##5       | 5/20 [00:29<01:33,  6.22s/it]\u001b[32m[I 2021-08-31 15:27:15,167]\u001b[0m Trial 11 finished with value: 0.15404725758526286 and parameters: {'num_leaves': 137}. Best is trial 9 with value: 0.15384009662600157.\u001b[0m\n",
      "num_leaves, val_score: 0.153840:  25%|##5       | 5/20 [00:29<01:33,  6.22s/it]"
     ]
    },
    {
     "name": "stdout",
     "output_type": "stream",
     "text": [
      "Early stopping, best iteration is:\n",
      "[32]\ttrain's fair: 0.151667\tvalid's fair: 0.154047\n",
      "Training until validation scores don't improve for 300 rounds\n"
     ]
    },
    {
     "name": "stderr",
     "output_type": "stream",
     "text": [
      "num_leaves, val_score: 0.153840:  30%|###       | 6/20 [00:36<01:27,  6.27s/it]\u001b[32m[I 2021-08-31 15:27:21,546]\u001b[0m Trial 12 finished with value: 0.15405560004745641 and parameters: {'num_leaves': 143}. Best is trial 9 with value: 0.15384009662600157.\u001b[0m\n",
      "num_leaves, val_score: 0.153840:  30%|###       | 6/20 [00:36<01:27,  6.27s/it]"
     ]
    },
    {
     "name": "stdout",
     "output_type": "stream",
     "text": [
      "Early stopping, best iteration is:\n",
      "[27]\ttrain's fair: 0.151808\tvalid's fair: 0.154056\n",
      "Training until validation scores don't improve for 300 rounds\n"
     ]
    },
    {
     "name": "stderr",
     "output_type": "stream",
     "text": [
      "num_leaves, val_score: 0.153840:  35%|###5      | 7/20 [00:43<01:26,  6.66s/it]\u001b[32m[I 2021-08-31 15:27:29,001]\u001b[0m Trial 13 finished with value: 0.15411689817780083 and parameters: {'num_leaves': 199}. Best is trial 9 with value: 0.15384009662600157.\u001b[0m\n",
      "num_leaves, val_score: 0.153840:  35%|###5      | 7/20 [00:43<01:26,  6.66s/it]"
     ]
    },
    {
     "name": "stdout",
     "output_type": "stream",
     "text": [
      "Early stopping, best iteration is:\n",
      "[28]\ttrain's fair: 0.15129\tvalid's fair: 0.154117\n",
      "Training until validation scores don't improve for 300 rounds\n"
     ]
    },
    {
     "name": "stderr",
     "output_type": "stream",
     "text": [
      "num_leaves, val_score: 0.153840:  40%|####      | 8/20 [00:50<01:20,  6.70s/it]\u001b[32m[I 2021-08-31 15:27:35,793]\u001b[0m Trial 14 finished with value: 0.15417192286544987 and parameters: {'num_leaves': 193}. Best is trial 9 with value: 0.15384009662600157.\u001b[0m\n",
      "num_leaves, val_score: 0.153840:  40%|####      | 8/20 [00:50<01:20,  6.70s/it]"
     ]
    },
    {
     "name": "stdout",
     "output_type": "stream",
     "text": [
      "Early stopping, best iteration is:\n",
      "[25]\ttrain's fair: 0.151513\tvalid's fair: 0.154172\n",
      "Training until validation scores don't improve for 300 rounds\n"
     ]
    },
    {
     "name": "stderr",
     "output_type": "stream",
     "text": [
      "num_leaves, val_score: 0.153840:  45%|####5     | 9/20 [00:57<01:14,  6.81s/it]\u001b[32m[I 2021-08-31 15:27:42,833]\u001b[0m Trial 15 finished with value: 0.15414134860115894 and parameters: {'num_leaves': 172}. Best is trial 9 with value: 0.15384009662600157.\u001b[0m\n",
      "num_leaves, val_score: 0.153840:  45%|####5     | 9/20 [00:57<01:14,  6.81s/it]"
     ]
    },
    {
     "name": "stdout",
     "output_type": "stream",
     "text": [
      "Early stopping, best iteration is:\n",
      "[25]\ttrain's fair: 0.151692\tvalid's fair: 0.154141\n",
      "Training until validation scores don't improve for 300 rounds\n"
     ]
    },
    {
     "name": "stderr",
     "output_type": "stream",
     "text": [
      "num_leaves, val_score: 0.153840:  50%|#####     | 10/20 [01:01<00:58,  5.89s/it]\u001b[32m[I 2021-08-31 15:27:46,683]\u001b[0m Trial 16 finished with value: 0.15388527047954725 and parameters: {'num_leaves': 15}. Best is trial 9 with value: 0.15384009662600157.\u001b[0m\n",
      "num_leaves, val_score: 0.153840:  50%|#####     | 10/20 [01:01<00:58,  5.89s/it]"
     ]
    },
    {
     "name": "stdout",
     "output_type": "stream",
     "text": [
      "Early stopping, best iteration is:\n",
      "[36]\ttrain's fair: 0.152941\tvalid's fair: 0.153885\n",
      "Training until validation scores don't improve for 300 rounds\n"
     ]
    },
    {
     "name": "stderr",
     "output_type": "stream",
     "text": [
      "num_leaves, val_score: 0.153840:  55%|#####5    | 11/20 [01:06<00:49,  5.52s/it]\u001b[32m[I 2021-08-31 15:27:51,342]\u001b[0m Trial 17 finished with value: 0.15385400330532906 and parameters: {'num_leaves': 9}. Best is trial 9 with value: 0.15384009662600157.\u001b[0m\n",
      "num_leaves, val_score: 0.153840:  55%|#####5    | 11/20 [01:06<00:49,  5.52s/it]"
     ]
    },
    {
     "name": "stdout",
     "output_type": "stream",
     "text": [
      "Early stopping, best iteration is:\n",
      "[139]\ttrain's fair: 0.152793\tvalid's fair: 0.153854\n",
      "Training until validation scores don't improve for 300 rounds\n"
     ]
    },
    {
     "name": "stderr",
     "output_type": "stream",
     "text": [
      "num_leaves, val_score: 0.153840:  60%|######    | 12/20 [01:11<00:42,  5.32s/it]\u001b[32m[I 2021-08-31 15:27:56,220]\u001b[0m Trial 18 finished with value: 0.1539053606283656 and parameters: {'num_leaves': 21}. Best is trial 9 with value: 0.15384009662600157.\u001b[0m\n",
      "num_leaves, val_score: 0.153840:  60%|######    | 12/20 [01:11<00:42,  5.32s/it]"
     ]
    },
    {
     "name": "stdout",
     "output_type": "stream",
     "text": [
      "Early stopping, best iteration is:\n",
      "[32]\ttrain's fair: 0.1529\tvalid's fair: 0.153905\n",
      "Training until validation scores don't improve for 300 rounds\n"
     ]
    },
    {
     "name": "stderr",
     "output_type": "stream",
     "text": [
      "num_leaves, val_score: 0.153840:  65%|######5   | 13/20 [01:15<00:36,  5.22s/it]\u001b[32m[I 2021-08-31 15:28:01,193]\u001b[0m Trial 19 finished with value: 0.15397453687905516 and parameters: {'num_leaves': 62}. Best is trial 9 with value: 0.15384009662600157.\u001b[0m\n",
      "num_leaves, val_score: 0.153840:  65%|######5   | 13/20 [01:15<00:36,  5.22s/it]"
     ]
    },
    {
     "name": "stdout",
     "output_type": "stream",
     "text": [
      "Early stopping, best iteration is:\n",
      "[30]\ttrain's fair: 0.152483\tvalid's fair: 0.153975\n",
      "Training until validation scores don't improve for 300 rounds\n"
     ]
    },
    {
     "name": "stderr",
     "output_type": "stream",
     "text": [
      "num_leaves, val_score: 0.153840:  70%|#######   | 14/20 [01:20<00:30,  5.11s/it]\u001b[32m[I 2021-08-31 15:28:06,063]\u001b[0m Trial 20 finished with value: 0.1539705941408541 and parameters: {'num_leaves': 63}. Best is trial 9 with value: 0.15384009662600157.\u001b[0m\n",
      "num_leaves, val_score: 0.153840:  70%|#######   | 14/20 [01:20<00:30,  5.11s/it]"
     ]
    },
    {
     "name": "stdout",
     "output_type": "stream",
     "text": [
      "Early stopping, best iteration is:\n",
      "[29]\ttrain's fair: 0.152483\tvalid's fair: 0.153971\n",
      "Training until validation scores don't improve for 300 rounds\n"
     ]
    },
    {
     "name": "stderr",
     "output_type": "stream",
     "text": [
      "num_leaves, val_score: 0.153840:  75%|#######5  | 15/20 [01:25<00:25,  5.01s/it]\u001b[32m[I 2021-08-31 15:28:10,841]\u001b[0m Trial 21 finished with value: 0.15394159402589364 and parameters: {'num_leaves': 48}. Best is trial 9 with value: 0.15384009662600157.\u001b[0m\n",
      "num_leaves, val_score: 0.153840:  75%|#######5  | 15/20 [01:25<00:25,  5.01s/it]"
     ]
    },
    {
     "name": "stdout",
     "output_type": "stream",
     "text": [
      "Early stopping, best iteration is:\n",
      "[34]\ttrain's fair: 0.152552\tvalid's fair: 0.153942\n",
      "Training until validation scores don't improve for 300 rounds\n"
     ]
    },
    {
     "name": "stderr",
     "output_type": "stream",
     "text": [
      "num_leaves, val_score: 0.153840:  80%|########  | 16/20 [01:33<00:23,  5.95s/it]\u001b[32m[I 2021-08-31 15:28:18,983]\u001b[0m Trial 22 finished with value: 0.15419610704850462 and parameters: {'num_leaves': 248}. Best is trial 9 with value: 0.15384009662600157.\u001b[0m\n",
      "num_leaves, val_score: 0.153840:  80%|########  | 16/20 [01:33<00:23,  5.95s/it]"
     ]
    },
    {
     "name": "stdout",
     "output_type": "stream",
     "text": [
      "Early stopping, best iteration is:\n",
      "[25]\ttrain's fair: 0.151132\tvalid's fair: 0.154196\n",
      "Training until validation scores don't improve for 300 rounds\n"
     ]
    },
    {
     "name": "stderr",
     "output_type": "stream",
     "text": [
      "num_leaves, val_score: 0.153840:  85%|########5 | 17/20 [01:37<00:15,  5.20s/it]\u001b[32m[I 2021-08-31 15:28:22,443]\u001b[0m Trial 23 finished with value: 0.15387103596066704 and parameters: {'num_leaves': 2}. Best is trial 9 with value: 0.15384009662600157.\u001b[0m\n",
      "num_leaves, val_score: 0.153840:  85%|########5 | 17/20 [01:37<00:15,  5.20s/it]"
     ]
    },
    {
     "name": "stdout",
     "output_type": "stream",
     "text": [
      "Early stopping, best iteration is:\n",
      "[127]\ttrain's fair: 0.153056\tvalid's fair: 0.153871\n",
      "Training until validation scores don't improve for 300 rounds\n"
     ]
    },
    {
     "name": "stderr",
     "output_type": "stream",
     "text": [
      "num_leaves, val_score: 0.153840:  90%|######### | 18/20 [01:43<00:10,  5.42s/it]\u001b[32m[I 2021-08-31 15:28:28,376]\u001b[0m Trial 24 finished with value: 0.15398852436288604 and parameters: {'num_leaves': 80}. Best is trial 9 with value: 0.15384009662600157.\u001b[0m\n",
      "num_leaves, val_score: 0.153840:  90%|######### | 18/20 [01:43<00:10,  5.42s/it]"
     ]
    },
    {
     "name": "stdout",
     "output_type": "stream",
     "text": [
      "Early stopping, best iteration is:\n",
      "[29]\ttrain's fair: 0.152311\tvalid's fair: 0.153989\n",
      "Training until validation scores don't improve for 300 rounds\n"
     ]
    },
    {
     "name": "stderr",
     "output_type": "stream",
     "text": [
      "num_leaves, val_score: 0.153840:  95%|#########5| 19/20 [01:47<00:05,  5.01s/it]\u001b[32m[I 2021-08-31 15:28:32,438]\u001b[0m Trial 25 finished with value: 0.1539198900683926 and parameters: {'num_leaves': 27}. Best is trial 9 with value: 0.15384009662600157.\u001b[0m\n",
      "num_leaves, val_score: 0.153840:  95%|#########5| 19/20 [01:47<00:05,  5.01s/it]"
     ]
    },
    {
     "name": "stdout",
     "output_type": "stream",
     "text": [
      "Early stopping, best iteration is:\n",
      "[32]\ttrain's fair: 0.152828\tvalid's fair: 0.15392\n",
      "Training until validation scores don't improve for 300 rounds\n"
     ]
    },
    {
     "name": "stderr",
     "output_type": "stream",
     "text": [
      "num_leaves, val_score: 0.153840: 100%|##########| 20/20 [01:52<00:00,  5.12s/it]\u001b[32m[I 2021-08-31 15:28:37,804]\u001b[0m Trial 26 finished with value: 0.15401113923888676 and parameters: {'num_leaves': 87}. Best is trial 9 with value: 0.15384009662600157.\u001b[0m\n",
      "num_leaves, val_score: 0.153840: 100%|##########| 20/20 [01:52<00:00,  5.63s/it]\n",
      "bagging, val_score: 0.153840:   0%|          | 0/10 [00:00<?, ?it/s]"
     ]
    },
    {
     "name": "stdout",
     "output_type": "stream",
     "text": [
      "Early stopping, best iteration is:\n",
      "[29]\ttrain's fair: 0.152252\tvalid's fair: 0.154011\n",
      "Training until validation scores don't improve for 300 rounds\n"
     ]
    },
    {
     "name": "stderr",
     "output_type": "stream",
     "text": [
      "bagging, val_score: 0.153840:  10%|#         | 1/10 [00:04<00:43,  4.85s/it]\u001b[32m[I 2021-08-31 15:28:42,659]\u001b[0m Trial 27 finished with value: 0.15387621524815148 and parameters: {'bagging_fraction': 0.6743978065113387, 'bagging_freq': 6}. Best is trial 27 with value: 0.15387621524815148.\u001b[0m\n",
      "bagging, val_score: 0.153840:  10%|#         | 1/10 [00:04<00:43,  4.85s/it]"
     ]
    },
    {
     "name": "stdout",
     "output_type": "stream",
     "text": [
      "Early stopping, best iteration is:\n",
      "[75]\ttrain's fair: 0.15297\tvalid's fair: 0.153876\n",
      "Training until validation scores don't improve for 300 rounds\n"
     ]
    },
    {
     "name": "stderr",
     "output_type": "stream",
     "text": [
      "bagging, val_score: 0.153834:  20%|##        | 2/10 [00:11<00:45,  5.74s/it]\u001b[32m[I 2021-08-31 15:28:49,018]\u001b[0m Trial 28 finished with value: 0.15383405080707044 and parameters: {'bagging_fraction': 0.9813570599011818, 'bagging_freq': 6}. Best is trial 28 with value: 0.15383405080707044.\u001b[0m\n",
      "bagging, val_score: 0.153834:  20%|##        | 2/10 [00:11<00:45,  5.74s/it]"
     ]
    },
    {
     "name": "stdout",
     "output_type": "stream",
     "text": [
      "Early stopping, best iteration is:\n",
      "[156]\ttrain's fair: 0.152836\tvalid's fair: 0.153834\n",
      "Training until validation scores don't improve for 300 rounds\n"
     ]
    },
    {
     "name": "stderr",
     "output_type": "stream",
     "text": [
      "bagging, val_score: 0.153834:  30%|###       | 3/10 [00:16<00:37,  5.41s/it]\u001b[32m[I 2021-08-31 15:28:54,044]\u001b[0m Trial 29 finished with value: 0.1538758184548507 and parameters: {'bagging_fraction': 0.6779344250007355, 'bagging_freq': 3}. Best is trial 28 with value: 0.15383405080707044.\u001b[0m\n",
      "bagging, val_score: 0.153834:  30%|###       | 3/10 [00:16<00:37,  5.41s/it]"
     ]
    },
    {
     "name": "stdout",
     "output_type": "stream",
     "text": [
      "Early stopping, best iteration is:\n",
      "[74]\ttrain's fair: 0.152978\tvalid's fair: 0.153876\n",
      "Training until validation scores don't improve for 300 rounds\n"
     ]
    },
    {
     "name": "stderr",
     "output_type": "stream",
     "text": [
      "bagging, val_score: 0.153834:  40%|####      | 4/10 [00:21<00:31,  5.33s/it]\u001b[32m[I 2021-08-31 15:28:59,238]\u001b[0m Trial 30 finished with value: 0.15387103239163968 and parameters: {'bagging_fraction': 0.5895433567911246, 'bagging_freq': 2}. Best is trial 28 with value: 0.15383405080707044.\u001b[0m\n",
      "bagging, val_score: 0.153834:  40%|####      | 4/10 [00:21<00:31,  5.33s/it]"
     ]
    },
    {
     "name": "stdout",
     "output_type": "stream",
     "text": [
      "Early stopping, best iteration is:\n",
      "[70]\ttrain's fair: 0.152973\tvalid's fair: 0.153871\n",
      "Training until validation scores don't improve for 300 rounds\n"
     ]
    },
    {
     "name": "stderr",
     "output_type": "stream",
     "text": [
      "bagging, val_score: 0.153834:  50%|#####     | 5/10 [00:26<00:25,  5.08s/it]\u001b[32m[I 2021-08-31 15:29:03,879]\u001b[0m Trial 31 finished with value: 0.15387866602241587 and parameters: {'bagging_fraction': 0.8060555633454042, 'bagging_freq': 5}. Best is trial 28 with value: 0.15383405080707044.\u001b[0m\n",
      "bagging, val_score: 0.153834:  50%|#####     | 5/10 [00:26<00:25,  5.08s/it]"
     ]
    },
    {
     "name": "stdout",
     "output_type": "stream",
     "text": [
      "Early stopping, best iteration is:\n",
      "[64]\ttrain's fair: 0.152981\tvalid's fair: 0.153879\n",
      "Training until validation scores don't improve for 300 rounds\n"
     ]
    },
    {
     "name": "stderr",
     "output_type": "stream",
     "text": [
      "bagging, val_score: 0.153834:  60%|######    | 6/10 [00:32<00:22,  5.63s/it]\u001b[32m[I 2021-08-31 15:29:10,568]\u001b[0m Trial 32 finished with value: 0.15386856569795382 and parameters: {'bagging_fraction': 0.8042926615305632, 'bagging_freq': 4}. Best is trial 28 with value: 0.15383405080707044.\u001b[0m\n",
      "bagging, val_score: 0.153834:  60%|######    | 6/10 [00:32<00:22,  5.63s/it]"
     ]
    },
    {
     "name": "stdout",
     "output_type": "stream",
     "text": [
      "Early stopping, best iteration is:\n",
      "[152]\ttrain's fair: 0.152845\tvalid's fair: 0.153869\n",
      "Training until validation scores don't improve for 300 rounds\n"
     ]
    },
    {
     "name": "stderr",
     "output_type": "stream",
     "text": [
      "bagging, val_score: 0.153834:  70%|#######   | 7/10 [00:37<00:15,  5.19s/it]\u001b[32m[I 2021-08-31 15:29:14,871]\u001b[0m Trial 33 finished with value: 0.15390595357691594 and parameters: {'bagging_fraction': 0.6083332055139545, 'bagging_freq': 7}. Best is trial 28 with value: 0.15383405080707044.\u001b[0m\n",
      "bagging, val_score: 0.153834:  70%|#######   | 7/10 [00:37<00:15,  5.19s/it]"
     ]
    },
    {
     "name": "stdout",
     "output_type": "stream",
     "text": [
      "Early stopping, best iteration is:\n",
      "[35]\ttrain's fair: 0.153054\tvalid's fair: 0.153906\n",
      "Training until validation scores don't improve for 300 rounds\n"
     ]
    },
    {
     "name": "stderr",
     "output_type": "stream",
     "text": [
      "bagging, val_score: 0.153834:  80%|########  | 8/10 [00:42<00:10,  5.18s/it]\u001b[32m[I 2021-08-31 15:29:20,031]\u001b[0m Trial 34 finished with value: 0.15389030253222175 and parameters: {'bagging_fraction': 0.4127758771586244, 'bagging_freq': 2}. Best is trial 28 with value: 0.15383405080707044.\u001b[0m\n",
      "bagging, val_score: 0.153834:  80%|########  | 8/10 [00:42<00:10,  5.18s/it]"
     ]
    },
    {
     "name": "stdout",
     "output_type": "stream",
     "text": [
      "Early stopping, best iteration is:\n",
      "[32]\ttrain's fair: 0.153056\tvalid's fair: 0.15389\n",
      "Training until validation scores don't improve for 300 rounds\n"
     ]
    },
    {
     "name": "stderr",
     "output_type": "stream",
     "text": [
      "bagging, val_score: 0.153834:  90%|######### | 9/10 [00:48<00:05,  5.38s/it]\u001b[32m[I 2021-08-31 15:29:25,855]\u001b[0m Trial 35 finished with value: 0.15387222736787493 and parameters: {'bagging_fraction': 0.9055436518329107, 'bagging_freq': 2}. Best is trial 28 with value: 0.15383405080707044.\u001b[0m\n",
      "bagging, val_score: 0.153834:  90%|######### | 9/10 [00:48<00:05,  5.38s/it]"
     ]
    },
    {
     "name": "stdout",
     "output_type": "stream",
     "text": [
      "Early stopping, best iteration is:\n",
      "[150]\ttrain's fair: 0.15284\tvalid's fair: 0.153872\n",
      "Training until validation scores don't improve for 300 rounds\n"
     ]
    },
    {
     "name": "stderr",
     "output_type": "stream",
     "text": [
      "bagging, val_score: 0.153834: 100%|##########| 10/10 [00:53<00:00,  5.50s/it]\u001b[32m[I 2021-08-31 15:29:31,613]\u001b[0m Trial 36 finished with value: 0.15388003708385883 and parameters: {'bagging_fraction': 0.8271257596707214, 'bagging_freq': 5}. Best is trial 28 with value: 0.15383405080707044.\u001b[0m\n",
      "bagging, val_score: 0.153834: 100%|##########| 10/10 [00:53<00:00,  5.38s/it]\n",
      "feature_fraction_stage2, val_score: 0.153834:   0%|          | 0/6 [00:00<?, ?it/s]"
     ]
    },
    {
     "name": "stdout",
     "output_type": "stream",
     "text": [
      "Early stopping, best iteration is:\n",
      "[155]\ttrain's fair: 0.152835\tvalid's fair: 0.15388\n",
      "Training until validation scores don't improve for 300 rounds\n"
     ]
    },
    {
     "name": "stderr",
     "output_type": "stream",
     "text": [
      "feature_fraction_stage2, val_score: 0.153834:  17%|#6        | 1/6 [00:04<00:21,  4.27s/it]\u001b[32m[I 2021-08-31 15:29:35,891]\u001b[0m Trial 37 finished with value: 0.1538996673343176 and parameters: {'feature_fraction': 0.82}. Best is trial 37 with value: 0.1538996673343176.\u001b[0m\n",
      "feature_fraction_stage2, val_score: 0.153834:  17%|#6        | 1/6 [00:04<00:21,  4.27s/it]"
     ]
    },
    {
     "name": "stdout",
     "output_type": "stream",
     "text": [
      "Early stopping, best iteration is:\n",
      "[38]\ttrain's fair: 0.153071\tvalid's fair: 0.1539\n",
      "Training until validation scores don't improve for 300 rounds\n"
     ]
    },
    {
     "name": "stderr",
     "output_type": "stream",
     "text": [
      "feature_fraction_stage2, val_score: 0.153834:  33%|###3      | 2/6 [00:11<00:23,  5.77s/it]\u001b[32m[I 2021-08-31 15:29:42,708]\u001b[0m Trial 38 finished with value: 0.15383405080707044 and parameters: {'feature_fraction': 0.9799999999999999}. Best is trial 38 with value: 0.15383405080707044.\u001b[0m\n",
      "feature_fraction_stage2, val_score: 0.153834:  33%|###3      | 2/6 [00:11<00:23,  5.77s/it]"
     ]
    },
    {
     "name": "stdout",
     "output_type": "stream",
     "text": [
      "Early stopping, best iteration is:\n",
      "[156]\ttrain's fair: 0.152836\tvalid's fair: 0.153834\n",
      "Training until validation scores don't improve for 300 rounds\n"
     ]
    },
    {
     "name": "stderr",
     "output_type": "stream",
     "text": [
      "feature_fraction_stage2, val_score: 0.153834:  50%|#####     | 3/6 [00:16<00:17,  5.71s/it]\u001b[32m[I 2021-08-31 15:29:48,352]\u001b[0m Trial 39 finished with value: 0.15383405080707044 and parameters: {'feature_fraction': 0.852}. Best is trial 38 with value: 0.15383405080707044.\u001b[0m\n",
      "feature_fraction_stage2, val_score: 0.153834:  50%|#####     | 3/6 [00:16<00:17,  5.71s/it]"
     ]
    },
    {
     "name": "stdout",
     "output_type": "stream",
     "text": [
      "Early stopping, best iteration is:\n",
      "[156]\ttrain's fair: 0.152836\tvalid's fair: 0.153834\n",
      "Training until validation scores don't improve for 300 rounds\n"
     ]
    },
    {
     "name": "stderr",
     "output_type": "stream",
     "text": [
      "feature_fraction_stage2, val_score: 0.153834:  67%|######6   | 4/6 [00:23<00:11,  5.99s/it]\u001b[32m[I 2021-08-31 15:29:54,763]\u001b[0m Trial 40 finished with value: 0.15383405080707044 and parameters: {'feature_fraction': 0.8839999999999999}. Best is trial 38 with value: 0.15383405080707044.\u001b[0m\n",
      "feature_fraction_stage2, val_score: 0.153834:  67%|######6   | 4/6 [00:23<00:11,  5.99s/it]"
     ]
    },
    {
     "name": "stdout",
     "output_type": "stream",
     "text": [
      "Early stopping, best iteration is:\n",
      "[156]\ttrain's fair: 0.152836\tvalid's fair: 0.153834\n",
      "Training until validation scores don't improve for 300 rounds\n"
     ]
    },
    {
     "name": "stderr",
     "output_type": "stream",
     "text": [
      "feature_fraction_stage2, val_score: 0.153834:  83%|########3 | 5/6 [00:28<00:05,  5.87s/it]\u001b[32m[I 2021-08-31 15:30:00,429]\u001b[0m Trial 41 finished with value: 0.15383405080707044 and parameters: {'feature_fraction': 0.9159999999999999}. Best is trial 38 with value: 0.15383405080707044.\u001b[0m\n",
      "feature_fraction_stage2, val_score: 0.153834:  83%|########3 | 5/6 [00:28<00:05,  5.87s/it]"
     ]
    },
    {
     "name": "stdout",
     "output_type": "stream",
     "text": [
      "Early stopping, best iteration is:\n",
      "[156]\ttrain's fair: 0.152836\tvalid's fair: 0.153834\n",
      "Training until validation scores don't improve for 300 rounds\n"
     ]
    },
    {
     "name": "stderr",
     "output_type": "stream",
     "text": [
      "feature_fraction_stage2, val_score: 0.153834: 100%|##########| 6/6 [00:34<00:00,  5.97s/it]\u001b[32m[I 2021-08-31 15:30:06,579]\u001b[0m Trial 42 finished with value: 0.15383405080707044 and parameters: {'feature_fraction': 0.948}. Best is trial 38 with value: 0.15383405080707044.\u001b[0m\n",
      "feature_fraction_stage2, val_score: 0.153834: 100%|##########| 6/6 [00:34<00:00,  5.83s/it]\n",
      "regularization_factors, val_score: 0.153834:   0%|          | 0/20 [00:00<?, ?it/s]"
     ]
    },
    {
     "name": "stdout",
     "output_type": "stream",
     "text": [
      "Early stopping, best iteration is:\n",
      "[156]\ttrain's fair: 0.152836\tvalid's fair: 0.153834\n",
      "Training until validation scores don't improve for 300 rounds\n"
     ]
    },
    {
     "name": "stderr",
     "output_type": "stream",
     "text": [
      "regularization_factors, val_score: 0.153834:   5%|5         | 1/20 [00:05<01:50,  5.84s/it]\u001b[32m[I 2021-08-31 15:30:12,426]\u001b[0m Trial 43 finished with value: 0.15384652974763616 and parameters: {'lambda_l1': 0.03569716831844316, 'lambda_l2': 8.005264478854604}. Best is trial 43 with value: 0.15384652974763616.\u001b[0m\n",
      "regularization_factors, val_score: 0.153834:   5%|5         | 1/20 [00:05<01:50,  5.84s/it]"
     ]
    },
    {
     "name": "stdout",
     "output_type": "stream",
     "text": [
      "Early stopping, best iteration is:\n",
      "[156]\ttrain's fair: 0.152856\tvalid's fair: 0.153847\n",
      "Training until validation scores don't improve for 300 rounds\n"
     ]
    },
    {
     "name": "stderr",
     "output_type": "stream",
     "text": [
      "regularization_factors, val_score: 0.153834:  10%|#         | 2/20 [00:11<01:46,  5.94s/it]\u001b[32m[I 2021-08-31 15:30:18,456]\u001b[0m Trial 44 finished with value: 0.1538667793568919 and parameters: {'lambda_l1': 3.7437601314081066, 'lambda_l2': 0.0012013075329642925}. Best is trial 43 with value: 0.15384652974763616.\u001b[0m\n",
      "regularization_factors, val_score: 0.153834:  10%|#         | 2/20 [00:11<01:46,  5.94s/it]"
     ]
    },
    {
     "name": "stdout",
     "output_type": "stream",
     "text": [
      "Early stopping, best iteration is:\n",
      "[127]\ttrain's fair: 0.152899\tvalid's fair: 0.153867\n",
      "Training until validation scores don't improve for 300 rounds\n"
     ]
    },
    {
     "name": "stderr",
     "output_type": "stream",
     "text": [
      "regularization_factors, val_score: 0.153834:  15%|#5        | 3/20 [00:18<01:44,  6.15s/it]\u001b[32m[I 2021-08-31 15:30:24,843]\u001b[0m Trial 45 finished with value: 0.1538340521495671 and parameters: {'lambda_l1': 1.2315746780120695e-07, 'lambda_l2': 0.001966866286385142}. Best is trial 45 with value: 0.1538340521495671.\u001b[0m\n",
      "regularization_factors, val_score: 0.153834:  15%|#5        | 3/20 [00:18<01:44,  6.15s/it]"
     ]
    },
    {
     "name": "stdout",
     "output_type": "stream",
     "text": [
      "Early stopping, best iteration is:\n",
      "[156]\ttrain's fair: 0.152836\tvalid's fair: 0.153834\n",
      "Training until validation scores don't improve for 300 rounds\n"
     ]
    },
    {
     "name": "stderr",
     "output_type": "stream",
     "text": [
      "regularization_factors, val_score: 0.153834:  20%|##        | 4/20 [00:24<01:39,  6.19s/it]\u001b[32m[I 2021-08-31 15:30:31,091]\u001b[0m Trial 46 finished with value: 0.15383405087574775 and parameters: {'lambda_l1': 1.967951422034197e-07, 'lambda_l2': 9.904957973638082e-05}. Best is trial 46 with value: 0.15383405087574775.\u001b[0m\n",
      "regularization_factors, val_score: 0.153834:  20%|##        | 4/20 [00:24<01:39,  6.19s/it]"
     ]
    },
    {
     "name": "stdout",
     "output_type": "stream",
     "text": [
      "Early stopping, best iteration is:\n",
      "[156]\ttrain's fair: 0.152836\tvalid's fair: 0.153834\n",
      "Training until validation scores don't improve for 300 rounds\n"
     ]
    },
    {
     "name": "stderr",
     "output_type": "stream",
     "text": [
      "regularization_factors, val_score: 0.153834:  25%|##5       | 5/20 [00:30<01:31,  6.12s/it]\u001b[32m[I 2021-08-31 15:30:37,088]\u001b[0m Trial 47 finished with value: 0.1538456444712437 and parameters: {'lambda_l1': 2.3908425441618495e-08, 'lambda_l2': 4.336523999539506}. Best is trial 46 with value: 0.15383405087574775.\u001b[0m\n",
      "regularization_factors, val_score: 0.153834:  25%|##5       | 5/20 [00:30<01:31,  6.12s/it]"
     ]
    },
    {
     "name": "stdout",
     "output_type": "stream",
     "text": [
      "Early stopping, best iteration is:\n",
      "[156]\ttrain's fair: 0.152844\tvalid's fair: 0.153846\n",
      "Training until validation scores don't improve for 300 rounds\n"
     ]
    },
    {
     "name": "stderr",
     "output_type": "stream",
     "text": [
      "regularization_factors, val_score: 0.153834:  30%|###       | 6/20 [00:36<01:24,  6.02s/it]\u001b[32m[I 2021-08-31 15:30:42,910]\u001b[0m Trial 48 finished with value: 0.15383405096927213 and parameters: {'lambda_l1': 5.4545132420024136e-08, 'lambda_l2': 0.00023779289761025404}. Best is trial 46 with value: 0.15383405087574775.\u001b[0m\n",
      "regularization_factors, val_score: 0.153834:  30%|###       | 6/20 [00:36<01:24,  6.02s/it]"
     ]
    },
    {
     "name": "stdout",
     "output_type": "stream",
     "text": [
      "Early stopping, best iteration is:\n",
      "[156]\ttrain's fair: 0.152836\tvalid's fair: 0.153834\n",
      "Training until validation scores don't improve for 300 rounds\n"
     ]
    },
    {
     "name": "stderr",
     "output_type": "stream",
     "text": [
      "regularization_factors, val_score: 0.153834:  35%|###5      | 7/20 [00:41<01:13,  5.63s/it]\u001b[32m[I 2021-08-31 15:30:47,743]\u001b[0m Trial 49 finished with value: 0.1538618392053647 and parameters: {'lambda_l1': 7.36635769245519, 'lambda_l2': 5.411964781434162e-08}. Best is trial 46 with value: 0.15383405087574775.\u001b[0m\n",
      "regularization_factors, val_score: 0.153834:  35%|###5      | 7/20 [00:41<01:13,  5.63s/it]"
     ]
    },
    {
     "name": "stdout",
     "output_type": "stream",
     "text": [
      "Early stopping, best iteration is:\n",
      "[55]\ttrain's fair: 0.153011\tvalid's fair: 0.153862\n",
      "Training until validation scores don't improve for 300 rounds\n"
     ]
    },
    {
     "name": "stderr",
     "output_type": "stream",
     "text": [
      "regularization_factors, val_score: 0.153834:  40%|####      | 8/20 [00:47<01:08,  5.74s/it]\u001b[32m[I 2021-08-31 15:30:53,715]\u001b[0m Trial 50 finished with value: 0.1538606720410141 and parameters: {'lambda_l1': 2.813498293236232, 'lambda_l2': 0.07137850728439663}. Best is trial 46 with value: 0.15383405087574775.\u001b[0m\n",
      "regularization_factors, val_score: 0.153834:  40%|####      | 8/20 [00:47<01:08,  5.74s/it]"
     ]
    },
    {
     "name": "stdout",
     "output_type": "stream",
     "text": [
      "Early stopping, best iteration is:\n",
      "[171]\ttrain's fair: 0.152826\tvalid's fair: 0.153861\n",
      "Training until validation scores don't improve for 300 rounds\n"
     ]
    },
    {
     "name": "stderr",
     "output_type": "stream",
     "text": [
      "regularization_factors, val_score: 0.153831:  45%|####5     | 9/20 [00:53<01:05,  5.97s/it]\u001b[32m[I 2021-08-31 15:31:00,194]\u001b[0m Trial 51 finished with value: 0.15383126511863 and parameters: {'lambda_l1': 6.146009225984676e-05, 'lambda_l2': 0.031072825278658105}. Best is trial 51 with value: 0.15383126511863.\u001b[0m\n",
      "regularization_factors, val_score: 0.153831:  45%|####5     | 9/20 [00:53<01:05,  5.97s/it]"
     ]
    },
    {
     "name": "stdout",
     "output_type": "stream",
     "text": [
      "Early stopping, best iteration is:\n",
      "[144]\ttrain's fair: 0.152859\tvalid's fair: 0.153831\n",
      "Training until validation scores don't improve for 300 rounds\n"
     ]
    },
    {
     "name": "stderr",
     "output_type": "stream",
     "text": [
      "regularization_factors, val_score: 0.153831:  50%|#####     | 10/20 [00:59<01:00,  6.08s/it]\u001b[32m[I 2021-08-31 15:31:06,505]\u001b[0m Trial 52 finished with value: 0.15383382685652291 and parameters: {'lambda_l1': 7.734426490363761e-06, 'lambda_l2': 0.32742266380785384}. Best is trial 51 with value: 0.15383126511863.\u001b[0m\n",
      "regularization_factors, val_score: 0.153831:  50%|#####     | 10/20 [00:59<01:00,  6.08s/it]"
     ]
    },
    {
     "name": "stdout",
     "output_type": "stream",
     "text": [
      "Early stopping, best iteration is:\n",
      "[145]\ttrain's fair: 0.15286\tvalid's fair: 0.153834\n",
      "Training until validation scores don't improve for 300 rounds\n"
     ]
    },
    {
     "name": "stderr",
     "output_type": "stream",
     "text": [
      "regularization_factors, val_score: 0.153831:  55%|#####5    | 11/20 [01:05<00:53,  5.99s/it]\u001b[32m[I 2021-08-31 15:31:12,315]\u001b[0m Trial 53 finished with value: 0.15383405115191476 and parameters: {'lambda_l1': 9.015856002836739e-05, 'lambda_l2': 5.659426522898623e-07}. Best is trial 51 with value: 0.15383126511863.\u001b[0m\n",
      "regularization_factors, val_score: 0.153831:  55%|#####5    | 11/20 [01:05<00:53,  5.99s/it]"
     ]
    },
    {
     "name": "stdout",
     "output_type": "stream",
     "text": [
      "Early stopping, best iteration is:\n",
      "[156]\ttrain's fair: 0.152836\tvalid's fair: 0.153834\n",
      "Training until validation scores don't improve for 300 rounds\n"
     ]
    },
    {
     "name": "stderr",
     "output_type": "stream",
     "text": [
      "regularization_factors, val_score: 0.153830:  60%|######    | 12/20 [01:11<00:47,  5.95s/it]\u001b[32m[I 2021-08-31 15:31:18,149]\u001b[0m Trial 54 finished with value: 0.15383045245575971 and parameters: {'lambda_l1': 4.5245434922657416e-05, 'lambda_l2': 0.2708113247707626}. Best is trial 54 with value: 0.15383045245575971.\u001b[0m\n",
      "regularization_factors, val_score: 0.153830:  60%|######    | 12/20 [01:11<00:47,  5.95s/it]"
     ]
    },
    {
     "name": "stdout",
     "output_type": "stream",
     "text": [
      "Early stopping, best iteration is:\n",
      "[156]\ttrain's fair: 0.152838\tvalid's fair: 0.15383\n",
      "Training until validation scores don't improve for 300 rounds\n"
     ]
    },
    {
     "name": "stderr",
     "output_type": "stream",
     "text": [
      "regularization_factors, val_score: 0.153830:  65%|######5   | 13/20 [01:17<00:40,  5.86s/it]\u001b[32m[I 2021-08-31 15:31:23,802]\u001b[0m Trial 55 finished with value: 0.153831289766236 and parameters: {'lambda_l1': 0.003686974279793527, 'lambda_l2': 0.05660935716371066}. Best is trial 54 with value: 0.15383045245575971.\u001b[0m\n",
      "regularization_factors, val_score: 0.153830:  65%|######5   | 13/20 [01:17<00:40,  5.86s/it]"
     ]
    },
    {
     "name": "stdout",
     "output_type": "stream",
     "text": [
      "Early stopping, best iteration is:\n",
      "[144]\ttrain's fair: 0.152859\tvalid's fair: 0.153831\n",
      "Training until validation scores don't improve for 300 rounds\n"
     ]
    },
    {
     "name": "stderr",
     "output_type": "stream",
     "text": [
      "regularization_factors, val_score: 0.153830:  70%|#######   | 14/20 [01:22<00:34,  5.75s/it]\u001b[32m[I 2021-08-31 15:31:29,295]\u001b[0m Trial 56 finished with value: 0.15383833802333458 and parameters: {'lambda_l1': 4.783721383897556e-05, 'lambda_l2': 0.6568375464832202}. Best is trial 54 with value: 0.15383045245575971.\u001b[0m\n",
      "regularization_factors, val_score: 0.153830:  70%|#######   | 14/20 [01:22<00:34,  5.75s/it]"
     ]
    },
    {
     "name": "stdout",
     "output_type": "stream",
     "text": [
      "Early stopping, best iteration is:\n",
      "[144]\ttrain's fair: 0.15286\tvalid's fair: 0.153838\n",
      "Training until validation scores don't improve for 300 rounds\n"
     ]
    },
    {
     "name": "stderr",
     "output_type": "stream",
     "text": [
      "regularization_factors, val_score: 0.153830:  75%|#######5  | 15/20 [01:29<00:30,  6.04s/it]\u001b[32m[I 2021-08-31 15:31:36,009]\u001b[0m Trial 57 finished with value: 0.15383305275610612 and parameters: {'lambda_l1': 2.395557963185699e-06, 'lambda_l2': 0.012700248534954708}. Best is trial 54 with value: 0.15383045245575971.\u001b[0m\n",
      "regularization_factors, val_score: 0.153830:  75%|#######5  | 15/20 [01:29<00:30,  6.04s/it]"
     ]
    },
    {
     "name": "stdout",
     "output_type": "stream",
     "text": [
      "Early stopping, best iteration is:\n",
      "[156]\ttrain's fair: 0.152836\tvalid's fair: 0.153833\n",
      "Training until validation scores don't improve for 300 rounds\n"
     ]
    },
    {
     "name": "stderr",
     "output_type": "stream",
     "text": [
      "regularization_factors, val_score: 0.153830:  80%|########  | 16/20 [01:35<00:24,  6.13s/it]\u001b[32m[I 2021-08-31 15:31:42,341]\u001b[0m Trial 58 finished with value: 0.15383126530204153 and parameters: {'lambda_l1': 0.002221629260504008, 'lambda_l2': 9.74777632205359e-06}. Best is trial 54 with value: 0.15383045245575971.\u001b[0m\n",
      "regularization_factors, val_score: 0.153830:  80%|########  | 16/20 [01:35<00:24,  6.13s/it]"
     ]
    },
    {
     "name": "stdout",
     "output_type": "stream",
     "text": [
      "Early stopping, best iteration is:\n",
      "[144]\ttrain's fair: 0.152858\tvalid's fair: 0.153831\n",
      "Training until validation scores don't improve for 300 rounds\n"
     ]
    },
    {
     "name": "stderr",
     "output_type": "stream",
     "text": [
      "regularization_factors, val_score: 0.153830:  85%|########5 | 17/20 [01:41<00:17,  5.89s/it]\u001b[32m[I 2021-08-31 15:31:47,692]\u001b[0m Trial 59 finished with value: 0.15384225773848884 and parameters: {'lambda_l1': 2.792981079199115e-06, 'lambda_l2': 1.202932661160968}. Best is trial 54 with value: 0.15383045245575971.\u001b[0m\n",
      "regularization_factors, val_score: 0.153830:  85%|########5 | 17/20 [01:41<00:17,  5.89s/it]"
     ]
    },
    {
     "name": "stdout",
     "output_type": "stream",
     "text": [
      "Early stopping, best iteration is:\n",
      "[125]\ttrain's fair: 0.152889\tvalid's fair: 0.153842\n",
      "Training until validation scores don't improve for 300 rounds\n"
     ]
    },
    {
     "name": "stderr",
     "output_type": "stream",
     "text": [
      "regularization_factors, val_score: 0.153830:  90%|######### | 18/20 [01:46<00:11,  5.86s/it]\u001b[32m[I 2021-08-31 15:31:53,470]\u001b[0m Trial 60 finished with value: 0.15383401800650984 and parameters: {'lambda_l1': 0.10233322217540998, 'lambda_l2': 0.012101839012284897}. Best is trial 54 with value: 0.15383045245575971.\u001b[0m\n",
      "regularization_factors, val_score: 0.153830:  90%|######### | 18/20 [01:46<00:11,  5.86s/it]"
     ]
    },
    {
     "name": "stdout",
     "output_type": "stream",
     "text": [
      "Early stopping, best iteration is:\n",
      "[145]\ttrain's fair: 0.152858\tvalid's fair: 0.153834\n",
      "Training until validation scores don't improve for 300 rounds\n"
     ]
    },
    {
     "name": "stderr",
     "output_type": "stream",
     "text": [
      "regularization_factors, val_score: 0.153830:  95%|#########5| 19/20 [01:52<00:05,  5.79s/it]\u001b[32m[I 2021-08-31 15:31:59,103]\u001b[0m Trial 61 finished with value: 0.15383128641302307 and parameters: {'lambda_l1': 0.0005704293522691995, 'lambda_l2': 0.06867096570026997}. Best is trial 54 with value: 0.15383045245575971.\u001b[0m\n",
      "regularization_factors, val_score: 0.153830:  95%|#########5| 19/20 [01:52<00:05,  5.79s/it]"
     ]
    },
    {
     "name": "stdout",
     "output_type": "stream",
     "text": [
      "Early stopping, best iteration is:\n",
      "[144]\ttrain's fair: 0.152859\tvalid's fair: 0.153831\n",
      "Training until validation scores don't improve for 300 rounds\n"
     ]
    },
    {
     "name": "stderr",
     "output_type": "stream",
     "text": [
      "regularization_factors, val_score: 0.153830: 100%|##########| 20/20 [01:58<00:00,  5.80s/it]\u001b[32m[I 2021-08-31 15:32:04,923]\u001b[0m Trial 62 finished with value: 0.15384779359918407 and parameters: {'lambda_l1': 4.57661733860737e-05, 'lambda_l2': 8.87015792965986}. Best is trial 54 with value: 0.15383045245575971.\u001b[0m\n",
      "regularization_factors, val_score: 0.153830: 100%|##########| 20/20 [01:58<00:00,  5.92s/it]\n",
      "min_data_in_leaf, val_score: 0.153830:   0%|          | 0/5 [00:00<?, ?it/s]"
     ]
    },
    {
     "name": "stdout",
     "output_type": "stream",
     "text": [
      "Early stopping, best iteration is:\n",
      "[144]\ttrain's fair: 0.152874\tvalid's fair: 0.153848\n",
      "Training until validation scores don't improve for 300 rounds\n"
     ]
    },
    {
     "name": "stderr",
     "output_type": "stream",
     "text": [
      "min_data_in_leaf, val_score: 0.153830:  20%|##        | 1/5 [00:05<00:21,  5.36s/it]\u001b[32m[I 2021-08-31 15:32:10,293]\u001b[0m Trial 63 finished with value: 0.15386454359076698 and parameters: {'min_child_samples': 100}. Best is trial 63 with value: 0.15386454359076698.\u001b[0m\n",
      "min_data_in_leaf, val_score: 0.153830:  20%|##        | 1/5 [00:05<00:21,  5.36s/it]"
     ]
    },
    {
     "name": "stdout",
     "output_type": "stream",
     "text": [
      "Early stopping, best iteration is:\n",
      "[47]\ttrain's fair: 0.153017\tvalid's fair: 0.153865\n",
      "Training until validation scores don't improve for 300 rounds\n"
     ]
    },
    {
     "name": "stderr",
     "output_type": "stream",
     "text": [
      "min_data_in_leaf, val_score: 0.153830:  40%|####      | 2/5 [00:11<00:18,  6.04s/it]\u001b[32m[I 2021-08-31 15:32:16,806]\u001b[0m Trial 64 finished with value: 0.15383186932363452 and parameters: {'min_child_samples': 25}. Best is trial 64 with value: 0.15383186932363452.\u001b[0m\n",
      "min_data_in_leaf, val_score: 0.153830:  40%|####      | 2/5 [00:11<00:18,  6.04s/it]"
     ]
    },
    {
     "name": "stdout",
     "output_type": "stream",
     "text": [
      "Early stopping, best iteration is:\n",
      "[155]\ttrain's fair: 0.152846\tvalid's fair: 0.153832\n",
      "Training until validation scores don't improve for 300 rounds\n"
     ]
    },
    {
     "name": "stderr",
     "output_type": "stream",
     "text": [
      "min_data_in_leaf, val_score: 0.153824:  60%|######    | 3/5 [00:17<00:11,  5.78s/it]\u001b[32m[I 2021-08-31 15:32:22,277]\u001b[0m Trial 65 finished with value: 0.153824447588424 and parameters: {'min_child_samples': 5}. Best is trial 65 with value: 0.153824447588424.\u001b[0m\n",
      "min_data_in_leaf, val_score: 0.153824:  60%|######    | 3/5 [00:17<00:11,  5.78s/it]"
     ]
    },
    {
     "name": "stdout",
     "output_type": "stream",
     "text": [
      "Early stopping, best iteration is:\n",
      "[148]\ttrain's fair: 0.152839\tvalid's fair: 0.153824\n",
      "Training until validation scores don't improve for 300 rounds\n"
     ]
    },
    {
     "name": "stderr",
     "output_type": "stream",
     "text": [
      "min_data_in_leaf, val_score: 0.153824:  80%|########  | 4/5 [00:22<00:05,  5.69s/it]\u001b[32m[I 2021-08-31 15:32:27,831]\u001b[0m Trial 66 finished with value: 0.15384848842199983 and parameters: {'min_child_samples': 50}. Best is trial 65 with value: 0.153824447588424.\u001b[0m\n",
      "min_data_in_leaf, val_score: 0.153824:  80%|########  | 4/5 [00:22<00:05,  5.69s/it]"
     ]
    },
    {
     "name": "stdout",
     "output_type": "stream",
     "text": [
      "Early stopping, best iteration is:\n",
      "[124]\ttrain's fair: 0.152896\tvalid's fair: 0.153848\n",
      "Training until validation scores don't improve for 300 rounds\n"
     ]
    },
    {
     "name": "stderr",
     "output_type": "stream",
     "text": [
      "min_data_in_leaf, val_score: 0.153824: 100%|##########| 5/5 [00:29<00:00,  5.95s/it]\u001b[32m[I 2021-08-31 15:32:34,249]\u001b[0m Trial 67 finished with value: 0.15382976747277832 and parameters: {'min_child_samples': 10}. Best is trial 65 with value: 0.153824447588424.\u001b[0m\n",
      "min_data_in_leaf, val_score: 0.153824: 100%|##########| 5/5 [00:29<00:00,  5.86s/it]"
     ]
    },
    {
     "name": "stdout",
     "output_type": "stream",
     "text": [
      "Early stopping, best iteration is:\n",
      "[145]\ttrain's fair: 0.152842\tvalid's fair: 0.15383\n"
     ]
    },
    {
     "name": "stderr",
     "output_type": "stream",
     "text": [
      "\n"
     ]
    },
    {
     "name": "stdout",
     "output_type": "stream",
     "text": [
      "4 0.7171871666199205\n"
     ]
    },
    {
     "name": "stderr",
     "output_type": "stream",
     "text": [
      "\u001b[32m[I 2021-08-31 15:32:34,889]\u001b[0m A new study created in memory with name: no-name-fcf641e6-09f4-44fa-8bce-fc761d56a032\u001b[0m\n",
      "feature_fraction, val_score: inf:   0%|          | 0/7 [00:00<?, ?it/s]"
     ]
    },
    {
     "name": "stdout",
     "output_type": "stream",
     "text": [
      "Training until validation scores don't improve for 300 rounds\n"
     ]
    },
    {
     "name": "stderr",
     "output_type": "stream",
     "text": [
      "feature_fraction, val_score: 0.153006:  14%|#4        | 1/7 [00:09<00:58,  9.68s/it]\u001b[32m[I 2021-08-31 15:32:44,577]\u001b[0m Trial 0 finished with value: 0.15300555975827754 and parameters: {'feature_fraction': 0.4}. Best is trial 0 with value: 0.15300555975827754.\u001b[0m\n",
      "feature_fraction, val_score: 0.153006:  14%|#4        | 1/7 [00:09<00:58,  9.68s/it]"
     ]
    },
    {
     "name": "stdout",
     "output_type": "stream",
     "text": [
      "Early stopping, best iteration is:\n",
      "[33]\ttrain's fair: 0.1532\tvalid's fair: 0.153006\n",
      "Training until validation scores don't improve for 300 rounds\n"
     ]
    },
    {
     "name": "stderr",
     "output_type": "stream",
     "text": [
      "feature_fraction, val_score: 0.152946:  29%|##8       | 2/7 [00:14<00:35,  7.07s/it]\u001b[32m[I 2021-08-31 15:32:49,814]\u001b[0m Trial 1 finished with value: 0.15294624795843048 and parameters: {'feature_fraction': 0.8999999999999999}. Best is trial 1 with value: 0.15294624795843048.\u001b[0m\n",
      "feature_fraction, val_score: 0.152946:  29%|##8       | 2/7 [00:14<00:35,  7.07s/it]"
     ]
    },
    {
     "name": "stdout",
     "output_type": "stream",
     "text": [
      "Early stopping, best iteration is:\n",
      "[46]\ttrain's fair: 0.152743\tvalid's fair: 0.152946\n",
      "Training until validation scores don't improve for 300 rounds\n"
     ]
    },
    {
     "name": "stderr",
     "output_type": "stream",
     "text": [
      "feature_fraction, val_score: 0.152946:  43%|####2     | 3/7 [00:19<00:23,  5.78s/it]\u001b[32m[I 2021-08-31 15:32:54,055]\u001b[0m Trial 2 finished with value: 0.15299210197287377 and parameters: {'feature_fraction': 0.6}. Best is trial 1 with value: 0.15294624795843048.\u001b[0m\n",
      "feature_fraction, val_score: 0.152946:  43%|####2     | 3/7 [00:19<00:23,  5.78s/it]"
     ]
    },
    {
     "name": "stdout",
     "output_type": "stream",
     "text": [
      "Early stopping, best iteration is:\n",
      "[35]\ttrain's fair: 0.152972\tvalid's fair: 0.152992\n",
      "Training until validation scores don't improve for 300 rounds\n"
     ]
    },
    {
     "name": "stderr",
     "output_type": "stream",
     "text": [
      "feature_fraction, val_score: 0.152946:  57%|#####7    | 4/7 [00:23<00:15,  5.31s/it]\u001b[32m[I 2021-08-31 15:32:58,651]\u001b[0m Trial 3 finished with value: 0.15294624795843048 and parameters: {'feature_fraction': 1.0}. Best is trial 1 with value: 0.15294624795843048.\u001b[0m\n",
      "feature_fraction, val_score: 0.152946:  57%|#####7    | 4/7 [00:23<00:15,  5.31s/it]"
     ]
    },
    {
     "name": "stdout",
     "output_type": "stream",
     "text": [
      "Early stopping, best iteration is:\n",
      "[46]\ttrain's fair: 0.152743\tvalid's fair: 0.152946\n",
      "Training until validation scores don't improve for 300 rounds\n"
     ]
    },
    {
     "name": "stderr",
     "output_type": "stream",
     "text": [
      "feature_fraction, val_score: 0.152946:  71%|#######1  | 5/7 [00:28<00:09,  4.94s/it]\u001b[32m[I 2021-08-31 15:33:02,943]\u001b[0m Trial 4 finished with value: 0.15299210197287377 and parameters: {'feature_fraction': 0.5}. Best is trial 1 with value: 0.15294624795843048.\u001b[0m\n",
      "feature_fraction, val_score: 0.152946:  71%|#######1  | 5/7 [00:28<00:09,  4.94s/it]"
     ]
    },
    {
     "name": "stdout",
     "output_type": "stream",
     "text": [
      "Early stopping, best iteration is:\n",
      "[35]\ttrain's fair: 0.152972\tvalid's fair: 0.152992\n",
      "Training until validation scores don't improve for 300 rounds\n"
     ]
    },
    {
     "name": "stderr",
     "output_type": "stream",
     "text": [
      "feature_fraction, val_score: 0.152946:  86%|########5 | 6/7 [00:32<00:04,  4.72s/it]\u001b[32m[I 2021-08-31 15:33:07,221]\u001b[0m Trial 5 finished with value: 0.15299210197287377 and parameters: {'feature_fraction': 0.7}. Best is trial 1 with value: 0.15294624795843048.\u001b[0m\n",
      "feature_fraction, val_score: 0.152946:  86%|########5 | 6/7 [00:32<00:04,  4.72s/it]"
     ]
    },
    {
     "name": "stdout",
     "output_type": "stream",
     "text": [
      "Early stopping, best iteration is:\n",
      "[35]\ttrain's fair: 0.152972\tvalid's fair: 0.152992\n",
      "Training until validation scores don't improve for 300 rounds\n"
     ]
    },
    {
     "name": "stderr",
     "output_type": "stream",
     "text": [
      "feature_fraction, val_score: 0.152946: 100%|##########| 7/7 [00:37<00:00,  4.97s/it]\u001b[32m[I 2021-08-31 15:33:12,698]\u001b[0m Trial 6 finished with value: 0.15299210197287377 and parameters: {'feature_fraction': 0.8}. Best is trial 1 with value: 0.15294624795843048.\u001b[0m\n",
      "feature_fraction, val_score: 0.152946: 100%|##########| 7/7 [00:37<00:00,  5.40s/it]\n",
      "num_leaves, val_score: 0.152946:   0%|          | 0/20 [00:00<?, ?it/s]"
     ]
    },
    {
     "name": "stdout",
     "output_type": "stream",
     "text": [
      "Early stopping, best iteration is:\n",
      "[35]\ttrain's fair: 0.152972\tvalid's fair: 0.152992\n",
      "Training until validation scores don't improve for 300 rounds\n"
     ]
    },
    {
     "name": "stderr",
     "output_type": "stream",
     "text": [
      "num_leaves, val_score: 0.152946:   5%|5         | 1/20 [00:05<01:44,  5.49s/it]\u001b[32m[I 2021-08-31 15:33:18,192]\u001b[0m Trial 7 finished with value: 0.15299397123907135 and parameters: {'num_leaves': 98}. Best is trial 7 with value: 0.15299397123907135.\u001b[0m\n",
      "num_leaves, val_score: 0.152946:   5%|5         | 1/20 [00:05<01:44,  5.49s/it]"
     ]
    },
    {
     "name": "stdout",
     "output_type": "stream",
     "text": [
      "Early stopping, best iteration is:\n",
      "[26]\ttrain's fair: 0.152365\tvalid's fair: 0.152994\n",
      "Training until validation scores don't improve for 300 rounds\n"
     ]
    },
    {
     "name": "stderr",
     "output_type": "stream",
     "text": [
      "num_leaves, val_score: 0.152946:  10%|#         | 2/20 [00:11<01:41,  5.64s/it]\u001b[32m[I 2021-08-31 15:33:23,942]\u001b[0m Trial 8 finished with value: 0.15298944358268152 and parameters: {'num_leaves': 65}. Best is trial 8 with value: 0.15298944358268152.\u001b[0m\n",
      "num_leaves, val_score: 0.152946:  10%|#         | 2/20 [00:11<01:41,  5.64s/it]"
     ]
    },
    {
     "name": "stdout",
     "output_type": "stream",
     "text": [
      "Early stopping, best iteration is:\n",
      "[29]\ttrain's fair: 0.152584\tvalid's fair: 0.152989\n",
      "Training until validation scores don't improve for 300 rounds\n"
     ]
    },
    {
     "name": "stderr",
     "output_type": "stream",
     "text": [
      "num_leaves, val_score: 0.152946:  15%|#5        | 3/20 [00:18<01:47,  6.30s/it]\u001b[32m[I 2021-08-31 15:33:31,032]\u001b[0m Trial 9 finished with value: 0.15312049876942638 and parameters: {'num_leaves': 197}. Best is trial 8 with value: 0.15298944358268152.\u001b[0m\n",
      "num_leaves, val_score: 0.152946:  15%|#5        | 3/20 [00:18<01:47,  6.30s/it]"
     ]
    },
    {
     "name": "stdout",
     "output_type": "stream",
     "text": [
      "Early stopping, best iteration is:\n",
      "[24]\ttrain's fair: 0.151706\tvalid's fair: 0.15312\n",
      "Training until validation scores don't improve for 300 rounds\n"
     ]
    },
    {
     "name": "stderr",
     "output_type": "stream",
     "text": [
      "num_leaves, val_score: 0.152946:  20%|##        | 4/20 [00:23<01:33,  5.85s/it]\u001b[32m[I 2021-08-31 15:33:36,176]\u001b[0m Trial 10 finished with value: 0.15304120584563535 and parameters: {'num_leaves': 76}. Best is trial 8 with value: 0.15298944358268152.\u001b[0m\n",
      "num_leaves, val_score: 0.152946:  20%|##        | 4/20 [00:23<01:33,  5.85s/it]"
     ]
    },
    {
     "name": "stdout",
     "output_type": "stream",
     "text": [
      "Early stopping, best iteration is:\n",
      "[28]\ttrain's fair: 0.152499\tvalid's fair: 0.153041\n",
      "Training until validation scores don't improve for 300 rounds\n"
     ]
    },
    {
     "name": "stderr",
     "output_type": "stream",
     "text": [
      "num_leaves, val_score: 0.152938:  25%|##5       | 5/20 [00:27<01:16,  5.11s/it]\u001b[32m[I 2021-08-31 15:33:39,992]\u001b[0m Trial 11 finished with value: 0.15293836777957015 and parameters: {'num_leaves': 14}. Best is trial 11 with value: 0.15293836777957015.\u001b[0m\n",
      "num_leaves, val_score: 0.152938:  25%|##5       | 5/20 [00:27<01:16,  5.11s/it]"
     ]
    },
    {
     "name": "stdout",
     "output_type": "stream",
     "text": [
      "Early stopping, best iteration is:\n",
      "[36]\ttrain's fair: 0.153061\tvalid's fair: 0.152938\n",
      "Training until validation scores don't improve for 300 rounds\n"
     ]
    },
    {
     "name": "stderr",
     "output_type": "stream",
     "text": [
      "num_leaves, val_score: 0.152938:  30%|###       | 6/20 [00:33<01:15,  5.38s/it]\u001b[32m[I 2021-08-31 15:33:45,874]\u001b[0m Trial 12 finished with value: 0.15298021251844646 and parameters: {'num_leaves': 66}. Best is trial 11 with value: 0.15293836777957015.\u001b[0m\n",
      "num_leaves, val_score: 0.152938:  30%|###       | 6/20 [00:33<01:15,  5.38s/it]"
     ]
    },
    {
     "name": "stdout",
     "output_type": "stream",
     "text": [
      "Early stopping, best iteration is:\n",
      "[32]\ttrain's fair: 0.152503\tvalid's fair: 0.15298\n",
      "Training until validation scores don't improve for 300 rounds\n"
     ]
    },
    {
     "name": "stderr",
     "output_type": "stream",
     "text": [
      "num_leaves, val_score: 0.152938:  35%|###5      | 7/20 [00:38<01:10,  5.46s/it]\u001b[32m[I 2021-08-31 15:33:51,507]\u001b[0m Trial 13 finished with value: 0.1530527762491522 and parameters: {'num_leaves': 105}. Best is trial 11 with value: 0.15293836777957015.\u001b[0m\n",
      "num_leaves, val_score: 0.152938:  35%|###5      | 7/20 [00:38<01:10,  5.46s/it]"
     ]
    },
    {
     "name": "stdout",
     "output_type": "stream",
     "text": [
      "Early stopping, best iteration is:\n",
      "[24]\ttrain's fair: 0.152384\tvalid's fair: 0.153053\n",
      "Training until validation scores don't improve for 300 rounds\n"
     ]
    },
    {
     "name": "stderr",
     "output_type": "stream",
     "text": [
      "num_leaves, val_score: 0.152938:  40%|####      | 8/20 [00:45<01:08,  5.73s/it]\u001b[32m[I 2021-08-31 15:33:57,825]\u001b[0m Trial 14 finished with value: 0.15301724432023792 and parameters: {'num_leaves': 88}. Best is trial 11 with value: 0.15293836777957015.\u001b[0m\n",
      "num_leaves, val_score: 0.152938:  40%|####      | 8/20 [00:45<01:08,  5.73s/it]"
     ]
    },
    {
     "name": "stdout",
     "output_type": "stream",
     "text": [
      "Early stopping, best iteration is:\n",
      "[25]\ttrain's fair: 0.152488\tvalid's fair: 0.153017\n",
      "Training until validation scores don't improve for 300 rounds\n"
     ]
    },
    {
     "name": "stderr",
     "output_type": "stream",
     "text": [
      "num_leaves, val_score: 0.152938:  45%|####5     | 9/20 [00:49<00:59,  5.45s/it]\u001b[32m[I 2021-08-31 15:34:02,658]\u001b[0m Trial 15 finished with value: 0.15296742311745073 and parameters: {'num_leaves': 48}. Best is trial 11 with value: 0.15293836777957015.\u001b[0m\n",
      "num_leaves, val_score: 0.152938:  45%|####5     | 9/20 [00:49<00:59,  5.45s/it]"
     ]
    },
    {
     "name": "stdout",
     "output_type": "stream",
     "text": [
      "Early stopping, best iteration is:\n",
      "[37]\ttrain's fair: 0.152623\tvalid's fair: 0.152967\n",
      "Training until validation scores don't improve for 300 rounds\n"
     ]
    },
    {
     "name": "stderr",
     "output_type": "stream",
     "text": [
      "num_leaves, val_score: 0.152938:  50%|#####     | 10/20 [00:57<01:00,  6.07s/it]\u001b[32m[I 2021-08-31 15:34:10,116]\u001b[0m Trial 16 finished with value: 0.1532011942493367 and parameters: {'num_leaves': 203}. Best is trial 11 with value: 0.15293836777957015.\u001b[0m\n",
      "num_leaves, val_score: 0.152938:  50%|#####     | 10/20 [00:57<01:00,  6.07s/it]"
     ]
    },
    {
     "name": "stdout",
     "output_type": "stream",
     "text": [
      "Early stopping, best iteration is:\n",
      "[23]\ttrain's fair: 0.151733\tvalid's fair: 0.153201\n",
      "Training until validation scores don't improve for 300 rounds\n"
     ]
    },
    {
     "name": "stderr",
     "output_type": "stream",
     "text": [
      "num_leaves, val_score: 0.152930:  55%|#####5    | 11/20 [01:01<00:49,  5.53s/it]\u001b[32m[I 2021-08-31 15:34:14,408]\u001b[0m Trial 17 finished with value: 0.1529297603202027 and parameters: {'num_leaves': 3}. Best is trial 17 with value: 0.1529297603202027.\u001b[0m\n",
      "num_leaves, val_score: 0.152930:  55%|#####5    | 11/20 [01:01<00:49,  5.53s/it]"
     ]
    },
    {
     "name": "stdout",
     "output_type": "stream",
     "text": [
      "Early stopping, best iteration is:\n",
      "[77]\ttrain's fair: 0.153148\tvalid's fair: 0.15293\n",
      "Training until validation scores don't improve for 300 rounds\n"
     ]
    },
    {
     "name": "stderr",
     "output_type": "stream",
     "text": [
      "num_leaves, val_score: 0.152930:  60%|######    | 12/20 [01:05<00:41,  5.15s/it]\u001b[32m[I 2021-08-31 15:34:18,690]\u001b[0m Trial 18 finished with value: 0.15293510059738438 and parameters: {'num_leaves': 4}. Best is trial 17 with value: 0.1529297603202027.\u001b[0m\n",
      "num_leaves, val_score: 0.152930:  60%|######    | 12/20 [01:05<00:41,  5.15s/it]"
     ]
    },
    {
     "name": "stdout",
     "output_type": "stream",
     "text": [
      "Early stopping, best iteration is:\n",
      "[147]\ttrain's fair: 0.153079\tvalid's fair: 0.152935\n",
      "Training until validation scores don't improve for 300 rounds\n"
     ]
    },
    {
     "name": "stderr",
     "output_type": "stream",
     "text": [
      "num_leaves, val_score: 0.152930:  65%|######5   | 13/20 [01:09<00:33,  4.72s/it]\u001b[32m[I 2021-08-31 15:34:22,430]\u001b[0m Trial 19 finished with value: 0.15293018601419162 and parameters: {'num_leaves': 12}. Best is trial 17 with value: 0.1529297603202027.\u001b[0m\n",
      "num_leaves, val_score: 0.152930:  65%|######5   | 13/20 [01:09<00:33,  4.72s/it]"
     ]
    },
    {
     "name": "stdout",
     "output_type": "stream",
     "text": [
      "Early stopping, best iteration is:\n",
      "[33]\ttrain's fair: 0.153105\tvalid's fair: 0.15293\n",
      "Training until validation scores don't improve for 300 rounds\n"
     ]
    },
    {
     "name": "stderr",
     "output_type": "stream",
     "text": [
      "num_leaves, val_score: 0.152930:  70%|#######   | 14/20 [01:17<00:33,  5.51s/it]\u001b[32m[I 2021-08-31 15:34:29,751]\u001b[0m Trial 20 finished with value: 0.15311059235585595 and parameters: {'num_leaves': 160}. Best is trial 17 with value: 0.1529297603202027.\u001b[0m\n",
      "num_leaves, val_score: 0.152930:  70%|#######   | 14/20 [01:17<00:33,  5.51s/it]"
     ]
    },
    {
     "name": "stdout",
     "output_type": "stream",
     "text": [
      "Early stopping, best iteration is:\n",
      "[28]\ttrain's fair: 0.151771\tvalid's fair: 0.153111\n",
      "Training until validation scores don't improve for 300 rounds\n"
     ]
    },
    {
     "name": "stderr",
     "output_type": "stream",
     "text": [
      "num_leaves, val_score: 0.152930:  75%|#######5  | 15/20 [01:20<00:24,  4.99s/it]\u001b[32m[I 2021-08-31 15:34:33,554]\u001b[0m Trial 21 finished with value: 0.15293677389228374 and parameters: {'num_leaves': 13}. Best is trial 17 with value: 0.1529297603202027.\u001b[0m\n",
      "num_leaves, val_score: 0.152930:  75%|#######5  | 15/20 [01:20<00:24,  4.99s/it]"
     ]
    },
    {
     "name": "stdout",
     "output_type": "stream",
     "text": [
      "Early stopping, best iteration is:\n",
      "[35]\ttrain's fair: 0.153079\tvalid's fair: 0.152937\n",
      "Training until validation scores don't improve for 300 rounds\n"
     ]
    },
    {
     "name": "stderr",
     "output_type": "stream",
     "text": [
      "num_leaves, val_score: 0.152927:  80%|########  | 16/20 [01:25<00:19,  4.83s/it]\u001b[32m[I 2021-08-31 15:34:38,000]\u001b[0m Trial 22 finished with value: 0.15292663914534155 and parameters: {'num_leaves': 34}. Best is trial 22 with value: 0.15292663914534155.\u001b[0m\n",
      "num_leaves, val_score: 0.152927:  80%|########  | 16/20 [01:25<00:19,  4.83s/it]"
     ]
    },
    {
     "name": "stdout",
     "output_type": "stream",
     "text": [
      "Early stopping, best iteration is:\n",
      "[37]\ttrain's fair: 0.152791\tvalid's fair: 0.152927\n",
      "Training until validation scores don't improve for 300 rounds\n"
     ]
    },
    {
     "name": "stderr",
     "output_type": "stream",
     "text": [
      "num_leaves, val_score: 0.152927:  85%|########5 | 17/20 [01:29<00:14,  4.76s/it]\u001b[32m[I 2021-08-31 15:34:42,588]\u001b[0m Trial 23 finished with value: 0.15293294085685472 and parameters: {'num_leaves': 37}. Best is trial 22 with value: 0.15292663914534155.\u001b[0m\n",
      "num_leaves, val_score: 0.152927:  85%|########5 | 17/20 [01:29<00:14,  4.76s/it]"
     ]
    },
    {
     "name": "stdout",
     "output_type": "stream",
     "text": [
      "Early stopping, best iteration is:\n",
      "[42]\ttrain's fair: 0.152701\tvalid's fair: 0.152933\n",
      "Training until validation scores don't improve for 300 rounds\n"
     ]
    },
    {
     "name": "stderr",
     "output_type": "stream",
     "text": [
      "num_leaves, val_score: 0.152927:  90%|######### | 18/20 [01:37<00:10,  5.50s/it]\u001b[32m[I 2021-08-31 15:34:49,812]\u001b[0m Trial 24 finished with value: 0.15304441635841418 and parameters: {'num_leaves': 143}. Best is trial 22 with value: 0.15292663914534155.\u001b[0m\n",
      "num_leaves, val_score: 0.152927:  90%|######### | 18/20 [01:37<00:10,  5.50s/it]"
     ]
    },
    {
     "name": "stdout",
     "output_type": "stream",
     "text": [
      "Early stopping, best iteration is:\n",
      "[31]\ttrain's fair: 0.151768\tvalid's fair: 0.153044\n",
      "Training until validation scores don't improve for 300 rounds\n"
     ]
    },
    {
     "name": "stderr",
     "output_type": "stream",
     "text": [
      "num_leaves, val_score: 0.152927:  95%|#########5| 19/20 [01:45<00:06,  6.31s/it]\u001b[32m[I 2021-08-31 15:34:58,014]\u001b[0m Trial 25 finished with value: 0.15320460202044175 and parameters: {'num_leaves': 254}. Best is trial 22 with value: 0.15292663914534155.\u001b[0m\n",
      "num_leaves, val_score: 0.152927:  95%|#########5| 19/20 [01:45<00:06,  6.31s/it]"
     ]
    },
    {
     "name": "stdout",
     "output_type": "stream",
     "text": [
      "Early stopping, best iteration is:\n",
      "[23]\ttrain's fair: 0.151375\tvalid's fair: 0.153205\n",
      "Training until validation scores don't improve for 300 rounds\n"
     ]
    },
    {
     "name": "stderr",
     "output_type": "stream",
     "text": [
      "num_leaves, val_score: 0.152927: 100%|##########| 20/20 [01:50<00:00,  5.99s/it]\u001b[32m[I 2021-08-31 15:35:03,244]\u001b[0m Trial 26 finished with value: 0.1529372469543216 and parameters: {'num_leaves': 39}. Best is trial 22 with value: 0.15292663914534155.\u001b[0m\n",
      "num_leaves, val_score: 0.152927: 100%|##########| 20/20 [01:50<00:00,  5.53s/it]\n",
      "bagging, val_score: 0.152927:   0%|          | 0/10 [00:00<?, ?it/s]"
     ]
    },
    {
     "name": "stdout",
     "output_type": "stream",
     "text": [
      "Early stopping, best iteration is:\n",
      "[31]\ttrain's fair: 0.152817\tvalid's fair: 0.152937\n",
      "Training until validation scores don't improve for 300 rounds\n"
     ]
    },
    {
     "name": "stderr",
     "output_type": "stream",
     "text": [
      "bagging, val_score: 0.152927:  10%|#         | 1/10 [00:06<00:54,  6.11s/it]\u001b[32m[I 2021-08-31 15:35:09,358]\u001b[0m Trial 27 finished with value: 0.15299426732136534 and parameters: {'bagging_fraction': 0.496255014488181, 'bagging_freq': 5}. Best is trial 27 with value: 0.15299426732136534.\u001b[0m\n",
      "bagging, val_score: 0.152927:  10%|#         | 1/10 [00:06<00:54,  6.11s/it]"
     ]
    },
    {
     "name": "stdout",
     "output_type": "stream",
     "text": [
      "Early stopping, best iteration is:\n",
      "[28]\ttrain's fair: 0.152934\tvalid's fair: 0.152994\n",
      "Training until validation scores don't improve for 300 rounds\n"
     ]
    },
    {
     "name": "stderr",
     "output_type": "stream",
     "text": [
      "bagging, val_score: 0.152927:  20%|##        | 2/10 [00:12<00:50,  6.31s/it]\u001b[32m[I 2021-08-31 15:35:15,817]\u001b[0m Trial 28 finished with value: 0.15297857357802397 and parameters: {'bagging_fraction': 0.6355712234946034, 'bagging_freq': 6}. Best is trial 28 with value: 0.15297857357802397.\u001b[0m\n",
      "bagging, val_score: 0.152927:  20%|##        | 2/10 [00:12<00:50,  6.31s/it]"
     ]
    },
    {
     "name": "stdout",
     "output_type": "stream",
     "text": [
      "Early stopping, best iteration is:\n",
      "[29]\ttrain's fair: 0.152894\tvalid's fair: 0.152979\n",
      "Training until validation scores don't improve for 300 rounds\n"
     ]
    },
    {
     "name": "stderr",
     "output_type": "stream",
     "text": [
      "bagging, val_score: 0.152927:  30%|###       | 3/10 [00:19<00:46,  6.62s/it]\u001b[32m[I 2021-08-31 15:35:22,798]\u001b[0m Trial 29 finished with value: 0.15294373527024988 and parameters: {'bagging_fraction': 0.5057732681746894, 'bagging_freq': 1}. Best is trial 29 with value: 0.15294373527024988.\u001b[0m\n",
      "bagging, val_score: 0.152927:  30%|###       | 3/10 [00:19<00:46,  6.62s/it]"
     ]
    },
    {
     "name": "stdout",
     "output_type": "stream",
     "text": [
      "Early stopping, best iteration is:\n",
      "[28]\ttrain's fair: 0.152895\tvalid's fair: 0.152944\n",
      "Training until validation scores don't improve for 300 rounds\n"
     ]
    },
    {
     "name": "stderr",
     "output_type": "stream",
     "text": [
      "bagging, val_score: 0.152927:  40%|####      | 4/10 [00:25<00:37,  6.33s/it]\u001b[32m[I 2021-08-31 15:35:28,690]\u001b[0m Trial 30 finished with value: 0.15299401931569542 and parameters: {'bagging_fraction': 0.8528719330448082, 'bagging_freq': 7}. Best is trial 29 with value: 0.15294373527024988.\u001b[0m\n",
      "bagging, val_score: 0.152927:  40%|####      | 4/10 [00:25<00:37,  6.33s/it]"
     ]
    },
    {
     "name": "stdout",
     "output_type": "stream",
     "text": [
      "Early stopping, best iteration is:\n",
      "[31]\ttrain's fair: 0.15287\tvalid's fair: 0.152994\n",
      "Training until validation scores don't improve for 300 rounds\n"
     ]
    },
    {
     "name": "stderr",
     "output_type": "stream",
     "text": [
      "bagging, val_score: 0.152927:  50%|#####     | 5/10 [00:32<00:32,  6.54s/it]\u001b[32m[I 2021-08-31 15:35:35,608]\u001b[0m Trial 31 finished with value: 0.15298594981968544 and parameters: {'bagging_fraction': 0.4574868977731608, 'bagging_freq': 3}. Best is trial 29 with value: 0.15294373527024988.\u001b[0m\n",
      "bagging, val_score: 0.152927:  50%|#####     | 5/10 [00:32<00:32,  6.54s/it]"
     ]
    },
    {
     "name": "stdout",
     "output_type": "stream",
     "text": [
      "Early stopping, best iteration is:\n",
      "[45]\ttrain's fair: 0.152746\tvalid's fair: 0.152986\n",
      "Training until validation scores don't improve for 300 rounds\n"
     ]
    },
    {
     "name": "stderr",
     "output_type": "stream",
     "text": [
      "bagging, val_score: 0.152927:  60%|######    | 6/10 [00:39<00:26,  6.70s/it]\u001b[32m[I 2021-08-31 15:35:42,599]\u001b[0m Trial 32 finished with value: 0.15304105225078943 and parameters: {'bagging_fraction': 0.5214065271991203, 'bagging_freq': 4}. Best is trial 29 with value: 0.15294373527024988.\u001b[0m\n",
      "bagging, val_score: 0.152927:  60%|######    | 6/10 [00:39<00:26,  6.70s/it]"
     ]
    },
    {
     "name": "stdout",
     "output_type": "stream",
     "text": [
      "Early stopping, best iteration is:\n",
      "[25]\ttrain's fair: 0.15297\tvalid's fair: 0.153041\n",
      "Training until validation scores don't improve for 300 rounds\n"
     ]
    },
    {
     "name": "stderr",
     "output_type": "stream",
     "text": [
      "bagging, val_score: 0.152927:  70%|#######   | 7/10 [00:46<00:20,  6.71s/it]\u001b[32m[I 2021-08-31 15:35:49,328]\u001b[0m Trial 33 finished with value: 0.15297621768947878 and parameters: {'bagging_fraction': 0.46404413753384693, 'bagging_freq': 3}. Best is trial 29 with value: 0.15294373527024988.\u001b[0m\n",
      "bagging, val_score: 0.152927:  70%|#######   | 7/10 [00:46<00:20,  6.71s/it]"
     ]
    },
    {
     "name": "stdout",
     "output_type": "stream",
     "text": [
      "Early stopping, best iteration is:\n",
      "[44]\ttrain's fair: 0.152754\tvalid's fair: 0.152976\n",
      "Training until validation scores don't improve for 300 rounds\n"
     ]
    },
    {
     "name": "stderr",
     "output_type": "stream",
     "text": [
      "bagging, val_score: 0.152927:  80%|########  | 8/10 [00:53<00:13,  6.82s/it]\u001b[32m[I 2021-08-31 15:35:56,402]\u001b[0m Trial 34 finished with value: 0.152965848687199 and parameters: {'bagging_fraction': 0.7569652238030995, 'bagging_freq': 2}. Best is trial 29 with value: 0.15294373527024988.\u001b[0m\n",
      "bagging, val_score: 0.152927:  80%|########  | 8/10 [00:53<00:13,  6.82s/it]"
     ]
    },
    {
     "name": "stdout",
     "output_type": "stream",
     "text": [
      "Early stopping, best iteration is:\n",
      "[31]\ttrain's fair: 0.152849\tvalid's fair: 0.152966\n",
      "Training until validation scores don't improve for 300 rounds\n"
     ]
    },
    {
     "name": "stderr",
     "output_type": "stream",
     "text": [
      "bagging, val_score: 0.152927:  90%|######### | 9/10 [01:00<00:06,  6.88s/it]\u001b[32m[I 2021-08-31 15:36:03,410]\u001b[0m Trial 35 finished with value: 0.15293456064754063 and parameters: {'bagging_fraction': 0.4616080016150833, 'bagging_freq': 1}. Best is trial 35 with value: 0.15293456064754063.\u001b[0m\n",
      "bagging, val_score: 0.152927:  90%|######### | 9/10 [01:00<00:06,  6.88s/it]"
     ]
    },
    {
     "name": "stdout",
     "output_type": "stream",
     "text": [
      "Early stopping, best iteration is:\n",
      "[34]\ttrain's fair: 0.152833\tvalid's fair: 0.152935\n",
      "Training until validation scores don't improve for 300 rounds\n"
     ]
    },
    {
     "name": "stderr",
     "output_type": "stream",
     "text": [
      "bagging, val_score: 0.152927: 100%|##########| 10/10 [01:05<00:00,  6.42s/it]\u001b[32m[I 2021-08-31 15:36:08,805]\u001b[0m Trial 36 finished with value: 0.15296896507313176 and parameters: {'bagging_fraction': 0.8036335116622266, 'bagging_freq': 1}. Best is trial 35 with value: 0.15293456064754063.\u001b[0m\n",
      "bagging, val_score: 0.152927: 100%|##########| 10/10 [01:05<00:00,  6.56s/it]\n",
      "feature_fraction_stage2, val_score: 0.152927:   0%|          | 0/6 [00:00<?, ?it/s]"
     ]
    },
    {
     "name": "stdout",
     "output_type": "stream",
     "text": [
      "Early stopping, best iteration is:\n",
      "[28]\ttrain's fair: 0.152907\tvalid's fair: 0.152969\n",
      "Training until validation scores don't improve for 300 rounds\n"
     ]
    },
    {
     "name": "stderr",
     "output_type": "stream",
     "text": [
      "feature_fraction_stage2, val_score: 0.152927:  17%|#6        | 1/6 [00:05<00:25,  5.10s/it]\u001b[32m[I 2021-08-31 15:36:13,906]\u001b[0m Trial 37 finished with value: 0.15292663914534155 and parameters: {'feature_fraction': 0.9799999999999999}. Best is trial 37 with value: 0.15292663914534155.\u001b[0m\n",
      "feature_fraction_stage2, val_score: 0.152927:  17%|#6        | 1/6 [00:05<00:25,  5.10s/it]"
     ]
    },
    {
     "name": "stdout",
     "output_type": "stream",
     "text": [
      "Early stopping, best iteration is:\n",
      "[37]\ttrain's fair: 0.152791\tvalid's fair: 0.152927\n",
      "Training until validation scores don't improve for 300 rounds\n"
     ]
    },
    {
     "name": "stderr",
     "output_type": "stream",
     "text": [
      "feature_fraction_stage2, val_score: 0.152927:  33%|###3      | 2/6 [00:09<00:19,  4.76s/it]\u001b[32m[I 2021-08-31 15:36:18,435]\u001b[0m Trial 38 finished with value: 0.15292663914534155 and parameters: {'feature_fraction': 0.948}. Best is trial 37 with value: 0.15292663914534155.\u001b[0m\n",
      "feature_fraction_stage2, val_score: 0.152927:  33%|###3      | 2/6 [00:09<00:19,  4.76s/it]"
     ]
    },
    {
     "name": "stdout",
     "output_type": "stream",
     "text": [
      "Early stopping, best iteration is:\n",
      "[37]\ttrain's fair: 0.152791\tvalid's fair: 0.152927\n",
      "Training until validation scores don't improve for 300 rounds\n"
     ]
    },
    {
     "name": "stderr",
     "output_type": "stream",
     "text": [
      "feature_fraction_stage2, val_score: 0.152927:  50%|#####     | 3/6 [00:13<00:13,  4.55s/it]\u001b[32m[I 2021-08-31 15:36:22,726]\u001b[0m Trial 39 finished with value: 0.15298950068917438 and parameters: {'feature_fraction': 0.82}. Best is trial 37 with value: 0.15292663914534155.\u001b[0m\n",
      "feature_fraction_stage2, val_score: 0.152927:  50%|#####     | 3/6 [00:13<00:13,  4.55s/it]"
     ]
    },
    {
     "name": "stdout",
     "output_type": "stream",
     "text": [
      "Early stopping, best iteration is:\n",
      "[34]\ttrain's fair: 0.152961\tvalid's fair: 0.15299\n",
      "Training until validation scores don't improve for 300 rounds\n"
     ]
    },
    {
     "name": "stderr",
     "output_type": "stream",
     "text": [
      "feature_fraction_stage2, val_score: 0.152927:  67%|######6   | 4/6 [00:18<00:09,  4.52s/it]\u001b[32m[I 2021-08-31 15:36:27,197]\u001b[0m Trial 40 finished with value: 0.15292663914534155 and parameters: {'feature_fraction': 0.852}. Best is trial 37 with value: 0.15292663914534155.\u001b[0m\n",
      "feature_fraction_stage2, val_score: 0.152927:  67%|######6   | 4/6 [00:18<00:09,  4.52s/it]"
     ]
    },
    {
     "name": "stdout",
     "output_type": "stream",
     "text": [
      "Early stopping, best iteration is:\n",
      "[37]\ttrain's fair: 0.152791\tvalid's fair: 0.152927\n",
      "Training until validation scores don't improve for 300 rounds\n"
     ]
    },
    {
     "name": "stderr",
     "output_type": "stream",
     "text": [
      "feature_fraction_stage2, val_score: 0.152927:  83%|########3 | 5/6 [00:22<00:04,  4.46s/it]\u001b[32m[I 2021-08-31 15:36:31,570]\u001b[0m Trial 41 finished with value: 0.15292663914534155 and parameters: {'feature_fraction': 0.8839999999999999}. Best is trial 37 with value: 0.15292663914534155.\u001b[0m\n",
      "feature_fraction_stage2, val_score: 0.152927:  83%|########3 | 5/6 [00:22<00:04,  4.46s/it]"
     ]
    },
    {
     "name": "stdout",
     "output_type": "stream",
     "text": [
      "Early stopping, best iteration is:\n",
      "[37]\ttrain's fair: 0.152791\tvalid's fair: 0.152927\n",
      "Training until validation scores don't improve for 300 rounds\n"
     ]
    },
    {
     "name": "stderr",
     "output_type": "stream",
     "text": [
      "feature_fraction_stage2, val_score: 0.152927: 100%|##########| 6/6 [00:28<00:00,  4.78s/it]\u001b[32m[I 2021-08-31 15:36:36,955]\u001b[0m Trial 42 finished with value: 0.15292663914534155 and parameters: {'feature_fraction': 0.9159999999999999}. Best is trial 37 with value: 0.15292663914534155.\u001b[0m\n",
      "feature_fraction_stage2, val_score: 0.152927: 100%|##########| 6/6 [00:28<00:00,  4.69s/it]\n",
      "regularization_factors, val_score: 0.152927:   0%|          | 0/20 [00:00<?, ?it/s]"
     ]
    },
    {
     "name": "stdout",
     "output_type": "stream",
     "text": [
      "Early stopping, best iteration is:\n",
      "[37]\ttrain's fair: 0.152791\tvalid's fair: 0.152927\n",
      "Training until validation scores don't improve for 300 rounds\n"
     ]
    },
    {
     "name": "stderr",
     "output_type": "stream",
     "text": [
      "regularization_factors, val_score: 0.152927:   5%|5         | 1/20 [00:04<01:27,  4.63s/it]\u001b[32m[I 2021-08-31 15:36:41,590]\u001b[0m Trial 43 finished with value: 0.15296006008401397 and parameters: {'lambda_l1': 0.0050174958947554905, 'lambda_l2': 0.29462159009429767}. Best is trial 43 with value: 0.15296006008401397.\u001b[0m\n",
      "regularization_factors, val_score: 0.152927:   5%|5         | 1/20 [00:04<01:27,  4.63s/it]"
     ]
    },
    {
     "name": "stdout",
     "output_type": "stream",
     "text": [
      "Early stopping, best iteration is:\n",
      "[41]\ttrain's fair: 0.15275\tvalid's fair: 0.15296\n",
      "Training until validation scores don't improve for 300 rounds\n"
     ]
    },
    {
     "name": "stderr",
     "output_type": "stream",
     "text": [
      "regularization_factors, val_score: 0.152927:  10%|#         | 2/20 [00:09<01:29,  4.97s/it]\u001b[32m[I 2021-08-31 15:36:46,798]\u001b[0m Trial 44 finished with value: 0.15294779412921014 and parameters: {'lambda_l1': 1.7689891506925717e-08, 'lambda_l2': 1.709209474833313}. Best is trial 44 with value: 0.15294779412921014.\u001b[0m\n",
      "regularization_factors, val_score: 0.152927:  10%|#         | 2/20 [00:09<01:29,  4.97s/it]"
     ]
    },
    {
     "name": "stdout",
     "output_type": "stream",
     "text": [
      "Early stopping, best iteration is:\n",
      "[40]\ttrain's fair: 0.152774\tvalid's fair: 0.152948\n",
      "Training until validation scores don't improve for 300 rounds\n"
     ]
    },
    {
     "name": "stderr",
     "output_type": "stream",
     "text": [
      "regularization_factors, val_score: 0.152927:  15%|#5        | 3/20 [00:14<01:23,  4.90s/it]\u001b[32m[I 2021-08-31 15:36:51,621]\u001b[0m Trial 45 finished with value: 0.15297941002610607 and parameters: {'lambda_l1': 7.047520373656917, 'lambda_l2': 1.5541389921960087}. Best is trial 44 with value: 0.15294779412921014.\u001b[0m\n",
      "regularization_factors, val_score: 0.152927:  15%|#5        | 3/20 [00:14<01:23,  4.90s/it]"
     ]
    },
    {
     "name": "stdout",
     "output_type": "stream",
     "text": [
      "Early stopping, best iteration is:\n",
      "[31]\ttrain's fair: 0.152934\tvalid's fair: 0.152979\n",
      "Training until validation scores don't improve for 300 rounds\n"
     ]
    },
    {
     "name": "stderr",
     "output_type": "stream",
     "text": [
      "regularization_factors, val_score: 0.152927:  20%|##        | 4/20 [00:19<01:15,  4.73s/it]\u001b[32m[I 2021-08-31 15:36:56,096]\u001b[0m Trial 46 finished with value: 0.15292663914520566 and parameters: {'lambda_l1': 5.6104276753850204e-08, 'lambda_l2': 1.9682626092933846e-08}. Best is trial 46 with value: 0.15292663914520566.\u001b[0m\n",
      "regularization_factors, val_score: 0.152927:  20%|##        | 4/20 [00:19<01:15,  4.73s/it]"
     ]
    },
    {
     "name": "stdout",
     "output_type": "stream",
     "text": [
      "Early stopping, best iteration is:\n",
      "[37]\ttrain's fair: 0.152791\tvalid's fair: 0.152927\n",
      "Training until validation scores don't improve for 300 rounds\n"
     ]
    },
    {
     "name": "stderr",
     "output_type": "stream",
     "text": [
      "regularization_factors, val_score: 0.152927:  25%|##5       | 5/20 [00:23<01:09,  4.64s/it]\u001b[32m[I 2021-08-31 15:37:00,577]\u001b[0m Trial 47 finished with value: 0.15295740066750851 and parameters: {'lambda_l1': 5.3752441165898175e-05, 'lambda_l2': 0.47013876423735274}. Best is trial 46 with value: 0.15292663914520566.\u001b[0m\n",
      "regularization_factors, val_score: 0.152927:  25%|##5       | 5/20 [00:23<01:09,  4.64s/it]"
     ]
    },
    {
     "name": "stdout",
     "output_type": "stream",
     "text": [
      "Early stopping, best iteration is:\n",
      "[38]\ttrain's fair: 0.152785\tvalid's fair: 0.152957\n",
      "Training until validation scores don't improve for 300 rounds\n"
     ]
    },
    {
     "name": "stderr",
     "output_type": "stream",
     "text": [
      "regularization_factors, val_score: 0.152927:  30%|###       | 6/20 [00:28<01:03,  4.57s/it]\u001b[32m[I 2021-08-31 15:37:04,995]\u001b[0m Trial 48 finished with value: 0.1529266379630226 and parameters: {'lambda_l1': 0.0012708286657008433, 'lambda_l2': 2.374390297526581e-05}. Best is trial 48 with value: 0.1529266379630226.\u001b[0m\n",
      "regularization_factors, val_score: 0.152927:  30%|###       | 6/20 [00:28<01:03,  4.57s/it]"
     ]
    },
    {
     "name": "stdout",
     "output_type": "stream",
     "text": [
      "Early stopping, best iteration is:\n",
      "[37]\ttrain's fair: 0.152791\tvalid's fair: 0.152927\n",
      "Training until validation scores don't improve for 300 rounds\n"
     ]
    },
    {
     "name": "stderr",
     "output_type": "stream",
     "text": [
      "regularization_factors, val_score: 0.152927:  35%|###5      | 7/20 [00:33<01:02,  4.79s/it]\u001b[32m[I 2021-08-31 15:37:10,247]\u001b[0m Trial 49 finished with value: 0.15292688909822094 and parameters: {'lambda_l1': 8.145144891102979e-06, 'lambda_l2': 0.020701700629021588}. Best is trial 48 with value: 0.1529266379630226.\u001b[0m\n",
      "regularization_factors, val_score: 0.152927:  35%|###5      | 7/20 [00:33<01:02,  4.79s/it]"
     ]
    },
    {
     "name": "stdout",
     "output_type": "stream",
     "text": [
      "Early stopping, best iteration is:\n",
      "[37]\ttrain's fair: 0.152792\tvalid's fair: 0.152927\n",
      "Training until validation scores don't improve for 300 rounds\n"
     ]
    },
    {
     "name": "stderr",
     "output_type": "stream",
     "text": [
      "regularization_factors, val_score: 0.152927:  40%|####      | 8/20 [00:37<00:56,  4.70s/it]\u001b[32m[I 2021-08-31 15:37:14,746]\u001b[0m Trial 50 finished with value: 0.15292663560466146 and parameters: {'lambda_l1': 2.1561428986140406e-05, 'lambda_l2': 0.014505092562843295}. Best is trial 50 with value: 0.15292663560466146.\u001b[0m\n",
      "regularization_factors, val_score: 0.152927:  40%|####      | 8/20 [00:37<00:56,  4.70s/it]"
     ]
    },
    {
     "name": "stdout",
     "output_type": "stream",
     "text": [
      "Early stopping, best iteration is:\n",
      "[37]\ttrain's fair: 0.152791\tvalid's fair: 0.152927\n",
      "Training until validation scores don't improve for 300 rounds\n"
     ]
    },
    {
     "name": "stderr",
     "output_type": "stream",
     "text": [
      "regularization_factors, val_score: 0.152927:  45%|####5     | 9/20 [00:43<00:53,  4.90s/it]\u001b[32m[I 2021-08-31 15:37:20,080]\u001b[0m Trial 51 finished with value: 0.15292663883091168 and parameters: {'lambda_l1': 0.0003365814567026367, 'lambda_l2': 1.1347886864262394e-05}. Best is trial 50 with value: 0.15292663560466146.\u001b[0m\n",
      "regularization_factors, val_score: 0.152927:  45%|####5     | 9/20 [00:43<00:53,  4.90s/it]"
     ]
    },
    {
     "name": "stdout",
     "output_type": "stream",
     "text": [
      "Early stopping, best iteration is:\n",
      "[37]\ttrain's fair: 0.152791\tvalid's fair: 0.152927\n",
      "Training until validation scores don't improve for 300 rounds\n"
     ]
    },
    {
     "name": "stderr",
     "output_type": "stream",
     "text": [
      "regularization_factors, val_score: 0.152927:  50%|#####     | 10/20 [00:47<00:47,  4.80s/it]\u001b[32m[I 2021-08-31 15:37:24,653]\u001b[0m Trial 52 finished with value: 0.15292663910383072 and parameters: {'lambda_l1': 4.613641058760978e-05, 'lambda_l2': 1.4191939514625227e-07}. Best is trial 50 with value: 0.15292663560466146.\u001b[0m\n",
      "regularization_factors, val_score: 0.152927:  50%|#####     | 10/20 [00:47<00:47,  4.80s/it]"
     ]
    },
    {
     "name": "stdout",
     "output_type": "stream",
     "text": [
      "Early stopping, best iteration is:\n",
      "[37]\ttrain's fair: 0.152791\tvalid's fair: 0.152927\n",
      "Training until validation scores don't improve for 300 rounds\n"
     ]
    },
    {
     "name": "stderr",
     "output_type": "stream",
     "text": [
      "regularization_factors, val_score: 0.152927:  55%|#####5    | 11/20 [00:52<00:42,  4.70s/it]\u001b[32m[I 2021-08-31 15:37:29,129]\u001b[0m Trial 53 finished with value: 0.15295007559308996 and parameters: {'lambda_l1': 0.44406468240366925, 'lambda_l2': 0.0033250589990084112}. Best is trial 50 with value: 0.15292663560466146.\u001b[0m\n",
      "regularization_factors, val_score: 0.152927:  55%|#####5    | 11/20 [00:52<00:42,  4.70s/it]"
     ]
    },
    {
     "name": "stdout",
     "output_type": "stream",
     "text": [
      "Early stopping, best iteration is:\n",
      "[36]\ttrain's fair: 0.152813\tvalid's fair: 0.15295\n",
      "Training until validation scores don't improve for 300 rounds\n"
     ]
    },
    {
     "name": "stderr",
     "output_type": "stream",
     "text": [
      "regularization_factors, val_score: 0.152927:  60%|######    | 12/20 [00:56<00:37,  4.66s/it]\u001b[32m[I 2021-08-31 15:37:33,703]\u001b[0m Trial 54 finished with value: 0.15295246871221202 and parameters: {'lambda_l1': 0.006775719588649837, 'lambda_l2': 2.9158593612407206e-05}. Best is trial 50 with value: 0.15292663560466146.\u001b[0m\n",
      "regularization_factors, val_score: 0.152927:  60%|######    | 12/20 [00:56<00:37,  4.66s/it]"
     ]
    },
    {
     "name": "stdout",
     "output_type": "stream",
     "text": [
      "Early stopping, best iteration is:\n",
      "[30]\ttrain's fair: 0.152879\tvalid's fair: 0.152952\n",
      "Training until validation scores don't improve for 300 rounds\n"
     ]
    },
    {
     "name": "stderr",
     "output_type": "stream",
     "text": [
      "regularization_factors, val_score: 0.152927:  65%|######5   | 13/20 [01:01<00:32,  4.64s/it]\u001b[32m[I 2021-08-31 15:37:38,302]\u001b[0m Trial 55 finished with value: 0.15292663909584528 and parameters: {'lambda_l1': 9.174033670220677e-07, 'lambda_l2': 0.0002037456397700827}. Best is trial 50 with value: 0.15292663560466146.\u001b[0m\n",
      "regularization_factors, val_score: 0.152927:  65%|######5   | 13/20 [01:01<00:32,  4.64s/it]"
     ]
    },
    {
     "name": "stdout",
     "output_type": "stream",
     "text": [
      "Early stopping, best iteration is:\n",
      "[37]\ttrain's fair: 0.152791\tvalid's fair: 0.152927\n",
      "Training until validation scores don't improve for 300 rounds\n"
     ]
    },
    {
     "name": "stderr",
     "output_type": "stream",
     "text": [
      "regularization_factors, val_score: 0.152927:  70%|#######   | 14/20 [01:06<00:29,  4.88s/it]\u001b[32m[I 2021-08-31 15:37:43,746]\u001b[0m Trial 56 finished with value: 0.1529524702669997 and parameters: {'lambda_l1': 0.005680413349896873, 'lambda_l2': 1.8900424059598335e-06}. Best is trial 50 with value: 0.15292663560466146.\u001b[0m\n",
      "regularization_factors, val_score: 0.152927:  70%|#######   | 14/20 [01:06<00:29,  4.88s/it]"
     ]
    },
    {
     "name": "stdout",
     "output_type": "stream",
     "text": [
      "Early stopping, best iteration is:\n",
      "[30]\ttrain's fair: 0.152879\tvalid's fair: 0.152952\n",
      "Training until validation scores don't improve for 300 rounds\n"
     ]
    },
    {
     "name": "stderr",
     "output_type": "stream",
     "text": [
      "regularization_factors, val_score: 0.152927:  75%|#######5  | 15/20 [01:11<00:23,  4.74s/it]\u001b[32m[I 2021-08-31 15:37:48,151]\u001b[0m Trial 57 finished with value: 0.15292663845332832 and parameters: {'lambda_l1': 6.254110344272372e-07, 'lambda_l2': 0.002853636649859961}. Best is trial 50 with value: 0.15292663560466146.\u001b[0m\n",
      "regularization_factors, val_score: 0.152927:  75%|#######5  | 15/20 [01:11<00:23,  4.74s/it]"
     ]
    },
    {
     "name": "stdout",
     "output_type": "stream",
     "text": [
      "Early stopping, best iteration is:\n",
      "[37]\ttrain's fair: 0.152791\tvalid's fair: 0.152927\n",
      "Training until validation scores don't improve for 300 rounds\n"
     ]
    },
    {
     "name": "stderr",
     "output_type": "stream",
     "text": [
      "regularization_factors, val_score: 0.152927:  80%|########  | 16/20 [01:16<00:19,  4.89s/it]\u001b[32m[I 2021-08-31 15:37:53,382]\u001b[0m Trial 58 finished with value: 0.15292688932016524 and parameters: {'lambda_l1': 0.0007087062242572094, 'lambda_l2': 0.01735090705667791}. Best is trial 50 with value: 0.15292663560466146.\u001b[0m\n",
      "regularization_factors, val_score: 0.152927:  80%|########  | 16/20 [01:16<00:19,  4.89s/it]"
     ]
    },
    {
     "name": "stdout",
     "output_type": "stream",
     "text": [
      "Early stopping, best iteration is:\n",
      "[37]\ttrain's fair: 0.152792\tvalid's fair: 0.152927\n",
      "Training until validation scores don't improve for 300 rounds\n"
     ]
    },
    {
     "name": "stderr",
     "output_type": "stream",
     "text": [
      "regularization_factors, val_score: 0.152927:  85%|########5 | 17/20 [01:20<00:14,  4.78s/it]\u001b[32m[I 2021-08-31 15:37:57,906]\u001b[0m Trial 59 finished with value: 0.15297202575781957 and parameters: {'lambda_l1': 0.16596760605019226, 'lambda_l2': 0.0002520786910946472}. Best is trial 50 with value: 0.15292663560466146.\u001b[0m\n",
      "regularization_factors, val_score: 0.152927:  85%|########5 | 17/20 [01:20<00:14,  4.78s/it]"
     ]
    },
    {
     "name": "stdout",
     "output_type": "stream",
     "text": [
      "Early stopping, best iteration is:\n",
      "[33]\ttrain's fair: 0.152843\tvalid's fair: 0.152972\n",
      "Training until validation scores don't improve for 300 rounds\n"
     ]
    },
    {
     "name": "stderr",
     "output_type": "stream",
     "text": [
      "regularization_factors, val_score: 0.152927:  90%|######### | 18/20 [01:25<00:09,  4.68s/it]\u001b[32m[I 2021-08-31 15:38:02,371]\u001b[0m Trial 60 finished with value: 0.15292663914053342 and parameters: {'lambda_l1': 2.7961412884656496e-06, 'lambda_l2': 8.589615853287973e-06}. Best is trial 50 with value: 0.15292663560466146.\u001b[0m\n",
      "regularization_factors, val_score: 0.152927:  90%|######### | 18/20 [01:25<00:09,  4.68s/it]"
     ]
    },
    {
     "name": "stdout",
     "output_type": "stream",
     "text": [
      "Early stopping, best iteration is:\n",
      "[37]\ttrain's fair: 0.152791\tvalid's fair: 0.152927\n",
      "Training until validation scores don't improve for 300 rounds\n"
     ]
    },
    {
     "name": "stderr",
     "output_type": "stream",
     "text": [
      "regularization_factors, val_score: 0.152927:  95%|#########5| 19/20 [01:29<00:04,  4.64s/it]\u001b[32m[I 2021-08-31 15:38:06,902]\u001b[0m Trial 61 finished with value: 0.15295622359117889 and parameters: {'lambda_l1': 0.09562194265267653, 'lambda_l2': 3.822935367089119e-07}. Best is trial 50 with value: 0.15292663560466146.\u001b[0m\n",
      "regularization_factors, val_score: 0.152927:  95%|#########5| 19/20 [01:29<00:04,  4.64s/it]"
     ]
    },
    {
     "name": "stdout",
     "output_type": "stream",
     "text": [
      "Early stopping, best iteration is:\n",
      "[32]\ttrain's fair: 0.152859\tvalid's fair: 0.152956\n",
      "Training until validation scores don't improve for 300 rounds\n"
     ]
    },
    {
     "name": "stderr",
     "output_type": "stream",
     "text": [
      "regularization_factors, val_score: 0.152927: 100%|##########| 20/20 [01:34<00:00,  4.58s/it]\u001b[32m[I 2021-08-31 15:38:11,330]\u001b[0m Trial 62 finished with value: 0.15295016011056906 and parameters: {'lambda_l1': 2.8511821762833713e-05, 'lambda_l2': 0.0635124893884474}. Best is trial 50 with value: 0.15292663560466146.\u001b[0m\n",
      "regularization_factors, val_score: 0.152927: 100%|##########| 20/20 [01:34<00:00,  4.72s/it]\n",
      "min_data_in_leaf, val_score: 0.152927:   0%|          | 0/5 [00:00<?, ?it/s]"
     ]
    },
    {
     "name": "stdout",
     "output_type": "stream",
     "text": [
      "Early stopping, best iteration is:\n",
      "[43]\ttrain's fair: 0.152731\tvalid's fair: 0.15295\n",
      "Training until validation scores don't improve for 300 rounds\n"
     ]
    },
    {
     "name": "stderr",
     "output_type": "stream",
     "text": [
      "min_data_in_leaf, val_score: 0.152927:  20%|##        | 1/5 [00:04<00:19,  4.98s/it]\u001b[32m[I 2021-08-31 15:38:16,319]\u001b[0m Trial 63 finished with value: 0.15294418513158864 and parameters: {'min_child_samples': 5}. Best is trial 63 with value: 0.15294418513158864.\u001b[0m\n",
      "min_data_in_leaf, val_score: 0.152927:  20%|##        | 1/5 [00:04<00:19,  4.98s/it]"
     ]
    },
    {
     "name": "stdout",
     "output_type": "stream",
     "text": [
      "Early stopping, best iteration is:\n",
      "[35]\ttrain's fair: 0.152803\tvalid's fair: 0.152944\n",
      "Training until validation scores don't improve for 300 rounds\n"
     ]
    },
    {
     "name": "stderr",
     "output_type": "stream",
     "text": [
      "min_data_in_leaf, val_score: 0.152927:  40%|####      | 2/5 [00:09<00:14,  4.73s/it]\u001b[32m[I 2021-08-31 15:38:20,865]\u001b[0m Trial 64 finished with value: 0.15294924096299262 and parameters: {'min_child_samples': 25}. Best is trial 63 with value: 0.15294418513158864.\u001b[0m\n",
      "min_data_in_leaf, val_score: 0.152927:  40%|####      | 2/5 [00:09<00:14,  4.73s/it]"
     ]
    },
    {
     "name": "stdout",
     "output_type": "stream",
     "text": [
      "Early stopping, best iteration is:\n",
      "[37]\ttrain's fair: 0.1528\tvalid's fair: 0.152949\n",
      "Training until validation scores don't improve for 300 rounds\n"
     ]
    },
    {
     "name": "stderr",
     "output_type": "stream",
     "text": [
      "min_data_in_leaf, val_score: 0.152927:  60%|######    | 3/5 [00:14<00:10,  5.04s/it]\u001b[32m[I 2021-08-31 15:38:26,271]\u001b[0m Trial 65 finished with value: 0.1529446385713679 and parameters: {'min_child_samples': 50}. Best is trial 63 with value: 0.15294418513158864.\u001b[0m\n",
      "min_data_in_leaf, val_score: 0.152927:  60%|######    | 3/5 [00:14<00:10,  5.04s/it]"
     ]
    },
    {
     "name": "stdout",
     "output_type": "stream",
     "text": [
      "Early stopping, best iteration is:\n",
      "[33]\ttrain's fair: 0.152867\tvalid's fair: 0.152945\n",
      "Training until validation scores don't improve for 300 rounds\n"
     ]
    },
    {
     "name": "stderr",
     "output_type": "stream",
     "text": [
      "min_data_in_leaf, val_score: 0.152927:  80%|########  | 4/5 [00:19<00:04,  4.92s/it]\u001b[32m[I 2021-08-31 15:38:31,023]\u001b[0m Trial 66 finished with value: 0.15294118927049194 and parameters: {'min_child_samples': 10}. Best is trial 66 with value: 0.15294118927049194.\u001b[0m\n",
      "min_data_in_leaf, val_score: 0.152927:  80%|########  | 4/5 [00:19<00:04,  4.92s/it]"
     ]
    },
    {
     "name": "stdout",
     "output_type": "stream",
     "text": [
      "Early stopping, best iteration is:\n",
      "[52]\ttrain's fair: 0.152622\tvalid's fair: 0.152941\n",
      "Training until validation scores don't improve for 300 rounds\n"
     ]
    },
    {
     "name": "stderr",
     "output_type": "stream",
     "text": [
      "min_data_in_leaf, val_score: 0.152927: 100%|##########| 5/5 [00:24<00:00,  4.92s/it]\u001b[32m[I 2021-08-31 15:38:35,948]\u001b[0m Trial 67 finished with value: 0.15294935903368592 and parameters: {'min_child_samples': 100}. Best is trial 66 with value: 0.15294118927049194.\u001b[0m\n",
      "min_data_in_leaf, val_score: 0.152927: 100%|##########| 5/5 [00:24<00:00,  4.92s/it]"
     ]
    },
    {
     "name": "stdout",
     "output_type": "stream",
     "text": [
      "Early stopping, best iteration is:\n",
      "[31]\ttrain's fair: 0.152909\tvalid's fair: 0.152949\n",
      "5 0.7152681807923081\n"
     ]
    },
    {
     "name": "stderr",
     "output_type": "stream",
     "text": [
      "\n",
      "\u001b[32m[I 2021-08-31 15:38:36,297]\u001b[0m A new study created in memory with name: no-name-c4e1067d-fabc-4ae1-9482-b1bf1b3cdbd3\u001b[0m\n",
      "feature_fraction, val_score: inf:   0%|          | 0/7 [00:00<?, ?it/s]"
     ]
    },
    {
     "name": "stdout",
     "output_type": "stream",
     "text": [
      "Training until validation scores don't improve for 300 rounds\n"
     ]
    },
    {
     "name": "stderr",
     "output_type": "stream",
     "text": [
      "feature_fraction, val_score: 0.152669:  14%|#4        | 1/7 [00:04<00:29,  4.92s/it]\u001b[32m[I 2021-08-31 15:38:41,229]\u001b[0m Trial 0 finished with value: 0.15266941613442844 and parameters: {'feature_fraction': 1.0}. Best is trial 0 with value: 0.15266941613442844.\u001b[0m\n",
      "feature_fraction, val_score: 0.152669:  14%|#4        | 1/7 [00:04<00:29,  4.92s/it]"
     ]
    },
    {
     "name": "stdout",
     "output_type": "stream",
     "text": [
      "Early stopping, best iteration is:\n",
      "[78]\ttrain's fair: 0.152523\tvalid's fair: 0.152669\n",
      "Training until validation scores don't improve for 300 rounds\n"
     ]
    },
    {
     "name": "stderr",
     "output_type": "stream",
     "text": [
      "feature_fraction, val_score: 0.152669:  29%|##8       | 2/7 [00:09<00:24,  4.81s/it]\u001b[32m[I 2021-08-31 15:38:45,955]\u001b[0m Trial 1 finished with value: 0.15266941613442847 and parameters: {'feature_fraction': 0.8999999999999999}. Best is trial 0 with value: 0.15266941613442844.\u001b[0m\n",
      "feature_fraction, val_score: 0.152669:  29%|##8       | 2/7 [00:09<00:24,  4.81s/it]"
     ]
    },
    {
     "name": "stdout",
     "output_type": "stream",
     "text": [
      "Early stopping, best iteration is:\n",
      "[78]\ttrain's fair: 0.152523\tvalid's fair: 0.152669\n",
      "Training until validation scores don't improve for 300 rounds\n"
     ]
    },
    {
     "name": "stderr",
     "output_type": "stream",
     "text": [
      "feature_fraction, val_score: 0.152669:  43%|####2     | 3/7 [00:16<00:23,  5.82s/it]\u001b[32m[I 2021-08-31 15:38:52,981]\u001b[0m Trial 2 finished with value: 0.15284599340225982 and parameters: {'feature_fraction': 0.4}. Best is trial 0 with value: 0.15266941613442844.\u001b[0m\n",
      "feature_fraction, val_score: 0.152669:  43%|####2     | 3/7 [00:16<00:23,  5.82s/it]"
     ]
    },
    {
     "name": "stdout",
     "output_type": "stream",
     "text": [
      "Early stopping, best iteration is:\n",
      "[34]\ttrain's fair: 0.153209\tvalid's fair: 0.152846\n",
      "Training until validation scores don't improve for 300 rounds\n"
     ]
    },
    {
     "name": "stderr",
     "output_type": "stream",
     "text": [
      "feature_fraction, val_score: 0.152669:  57%|#####7    | 4/7 [00:21<00:16,  5.50s/it]\u001b[32m[I 2021-08-31 15:38:57,983]\u001b[0m Trial 3 finished with value: 0.15272449399412616 and parameters: {'feature_fraction': 0.8}. Best is trial 0 with value: 0.15266941613442844.\u001b[0m\n",
      "feature_fraction, val_score: 0.152669:  57%|#####7    | 4/7 [00:21<00:16,  5.50s/it]"
     ]
    },
    {
     "name": "stdout",
     "output_type": "stream",
     "text": [
      "Early stopping, best iteration is:\n",
      "[35]\ttrain's fair: 0.152989\tvalid's fair: 0.152724\n",
      "Training until validation scores don't improve for 300 rounds\n"
     ]
    },
    {
     "name": "stderr",
     "output_type": "stream",
     "text": [
      "feature_fraction, val_score: 0.152669:  71%|#######1  | 5/7 [00:26<00:10,  5.07s/it]\u001b[32m[I 2021-08-31 15:39:02,307]\u001b[0m Trial 4 finished with value: 0.15272449399412616 and parameters: {'feature_fraction': 0.6}. Best is trial 0 with value: 0.15266941613442844.\u001b[0m\n",
      "feature_fraction, val_score: 0.152669:  71%|#######1  | 5/7 [00:26<00:10,  5.07s/it]"
     ]
    },
    {
     "name": "stdout",
     "output_type": "stream",
     "text": [
      "Early stopping, best iteration is:\n",
      "[35]\ttrain's fair: 0.152989\tvalid's fair: 0.152724\n",
      "Training until validation scores don't improve for 300 rounds\n"
     ]
    },
    {
     "name": "stderr",
     "output_type": "stream",
     "text": [
      "feature_fraction, val_score: 0.152669:  86%|########5 | 6/7 [00:30<00:04,  4.80s/it]\u001b[32m[I 2021-08-31 15:39:06,562]\u001b[0m Trial 5 finished with value: 0.15272449399412616 and parameters: {'feature_fraction': 0.7}. Best is trial 0 with value: 0.15266941613442844.\u001b[0m\n",
      "feature_fraction, val_score: 0.152669:  86%|########5 | 6/7 [00:30<00:04,  4.80s/it]"
     ]
    },
    {
     "name": "stdout",
     "output_type": "stream",
     "text": [
      "Early stopping, best iteration is:\n",
      "[35]\ttrain's fair: 0.152989\tvalid's fair: 0.152724\n",
      "Training until validation scores don't improve for 300 rounds\n"
     ]
    },
    {
     "name": "stderr",
     "output_type": "stream",
     "text": [
      "feature_fraction, val_score: 0.152669: 100%|##########| 7/7 [00:34<00:00,  4.59s/it]\u001b[32m[I 2021-08-31 15:39:10,735]\u001b[0m Trial 6 finished with value: 0.15272449399412616 and parameters: {'feature_fraction': 0.5}. Best is trial 0 with value: 0.15266941613442844.\u001b[0m\n",
      "feature_fraction, val_score: 0.152669: 100%|##########| 7/7 [00:34<00:00,  4.92s/it]\n",
      "num_leaves, val_score: 0.152669:   0%|          | 0/20 [00:00<?, ?it/s]"
     ]
    },
    {
     "name": "stdout",
     "output_type": "stream",
     "text": [
      "Early stopping, best iteration is:\n",
      "[35]\ttrain's fair: 0.152989\tvalid's fair: 0.152724\n",
      "Training until validation scores don't improve for 300 rounds\n"
     ]
    },
    {
     "name": "stderr",
     "output_type": "stream",
     "text": [
      "num_leaves, val_score: 0.152669:   5%|5         | 1/20 [00:06<02:00,  6.36s/it]\u001b[32m[I 2021-08-31 15:39:17,101]\u001b[0m Trial 7 finished with value: 0.15274016673722043 and parameters: {'num_leaves': 145}. Best is trial 7 with value: 0.15274016673722043.\u001b[0m\n",
      "num_leaves, val_score: 0.152669:   5%|5         | 1/20 [00:06<02:00,  6.36s/it]"
     ]
    },
    {
     "name": "stdout",
     "output_type": "stream",
     "text": [
      "Early stopping, best iteration is:\n",
      "[31]\ttrain's fair: 0.151762\tvalid's fair: 0.15274\n",
      "Training until validation scores don't improve for 300 rounds\n"
     ]
    },
    {
     "name": "stderr",
     "output_type": "stream",
     "text": [
      "num_leaves, val_score: 0.152669:  10%|#         | 2/20 [00:12<01:48,  6.02s/it]\u001b[32m[I 2021-08-31 15:39:22,878]\u001b[0m Trial 8 finished with value: 0.15279452955986877 and parameters: {'num_leaves': 115}. Best is trial 7 with value: 0.15274016673722043.\u001b[0m\n",
      "num_leaves, val_score: 0.152669:  10%|#         | 2/20 [00:12<01:48,  6.02s/it]"
     ]
    },
    {
     "name": "stdout",
     "output_type": "stream",
     "text": [
      "Early stopping, best iteration is:\n",
      "[33]\ttrain's fair: 0.151972\tvalid's fair: 0.152795\n",
      "Training until validation scores don't improve for 300 rounds\n"
     ]
    },
    {
     "name": "stderr",
     "output_type": "stream",
     "text": [
      "num_leaves, val_score: 0.152658:  15%|#5        | 3/20 [00:16<01:29,  5.24s/it]\u001b[32m[I 2021-08-31 15:39:27,189]\u001b[0m Trial 9 finished with value: 0.1526576260409145 and parameters: {'num_leaves': 17}. Best is trial 9 with value: 0.1526576260409145.\u001b[0m\n",
      "num_leaves, val_score: 0.152658:  15%|#5        | 3/20 [00:16<01:29,  5.24s/it]"
     ]
    },
    {
     "name": "stdout",
     "output_type": "stream",
     "text": [
      "Early stopping, best iteration is:\n",
      "[82]\ttrain's fair: 0.152836\tvalid's fair: 0.152658\n",
      "Training until validation scores don't improve for 300 rounds\n"
     ]
    },
    {
     "name": "stderr",
     "output_type": "stream",
     "text": [
      "num_leaves, val_score: 0.152658:  20%|##        | 4/20 [00:25<01:44,  6.55s/it]\u001b[32m[I 2021-08-31 15:39:35,744]\u001b[0m Trial 10 finished with value: 0.15284585937300954 and parameters: {'num_leaves': 186}. Best is trial 9 with value: 0.1526576260409145.\u001b[0m\n",
      "num_leaves, val_score: 0.152658:  20%|##        | 4/20 [00:25<01:44,  6.55s/it]"
     ]
    },
    {
     "name": "stdout",
     "output_type": "stream",
     "text": [
      "Early stopping, best iteration is:\n",
      "[28]\ttrain's fair: 0.15155\tvalid's fair: 0.152846\n",
      "Training until validation scores don't improve for 300 rounds\n"
     ]
    },
    {
     "name": "stderr",
     "output_type": "stream",
     "text": [
      "num_leaves, val_score: 0.152658:  25%|##5       | 5/20 [00:31<01:35,  6.36s/it]\u001b[32m[I 2021-08-31 15:39:41,762]\u001b[0m Trial 11 finished with value: 0.1528372452150213 and parameters: {'num_leaves': 135}. Best is trial 9 with value: 0.1526576260409145.\u001b[0m\n",
      "num_leaves, val_score: 0.152658:  25%|##5       | 5/20 [00:31<01:35,  6.36s/it]"
     ]
    },
    {
     "name": "stdout",
     "output_type": "stream",
     "text": [
      "Early stopping, best iteration is:\n",
      "[28]\ttrain's fair: 0.151975\tvalid's fair: 0.152837\n",
      "Training until validation scores don't improve for 300 rounds\n"
     ]
    },
    {
     "name": "stderr",
     "output_type": "stream",
     "text": [
      "num_leaves, val_score: 0.152658:  30%|###       | 6/20 [00:38<01:34,  6.75s/it]\u001b[32m[I 2021-08-31 15:39:49,265]\u001b[0m Trial 12 finished with value: 0.15290498024885463 and parameters: {'num_leaves': 233}. Best is trial 9 with value: 0.1526576260409145.\u001b[0m\n",
      "num_leaves, val_score: 0.152658:  30%|###       | 6/20 [00:38<01:34,  6.75s/it]"
     ]
    },
    {
     "name": "stdout",
     "output_type": "stream",
     "text": [
      "Early stopping, best iteration is:\n",
      "[25]\ttrain's fair: 0.151382\tvalid's fair: 0.152905\n",
      "Training until validation scores don't improve for 300 rounds\n"
     ]
    },
    {
     "name": "stderr",
     "output_type": "stream",
     "text": [
      "num_leaves, val_score: 0.152658:  35%|###5      | 7/20 [00:45<01:26,  6.69s/it]\u001b[32m[I 2021-08-31 15:39:55,835]\u001b[0m Trial 13 finished with value: 0.15284528349111745 and parameters: {'num_leaves': 164}. Best is trial 9 with value: 0.1526576260409145.\u001b[0m\n",
      "num_leaves, val_score: 0.152658:  35%|###5      | 7/20 [00:45<01:26,  6.69s/it]"
     ]
    },
    {
     "name": "stdout",
     "output_type": "stream",
     "text": [
      "Early stopping, best iteration is:\n",
      "[29]\ttrain's fair: 0.151696\tvalid's fair: 0.152845\n",
      "Training until validation scores don't improve for 300 rounds\n"
     ]
    },
    {
     "name": "stderr",
     "output_type": "stream",
     "text": [
      "num_leaves, val_score: 0.152658:  40%|####      | 8/20 [00:49<01:11,  5.98s/it]\u001b[32m[I 2021-08-31 15:40:00,319]\u001b[0m Trial 14 finished with value: 0.15268512266046075 and parameters: {'num_leaves': 32}. Best is trial 9 with value: 0.1526576260409145.\u001b[0m\n",
      "num_leaves, val_score: 0.152658:  40%|####      | 8/20 [00:49<01:11,  5.98s/it]"
     ]
    },
    {
     "name": "stdout",
     "output_type": "stream",
     "text": [
      "Early stopping, best iteration is:\n",
      "[45]\ttrain's fair: 0.152762\tvalid's fair: 0.152685\n",
      "Training until validation scores don't improve for 300 rounds\n"
     ]
    },
    {
     "name": "stderr",
     "output_type": "stream",
     "text": [
      "num_leaves, val_score: 0.152658:  45%|####5     | 9/20 [00:56<01:10,  6.40s/it]\u001b[32m[I 2021-08-31 15:40:07,622]\u001b[0m Trial 15 finished with value: 0.1527995571147842 and parameters: {'num_leaves': 116}. Best is trial 9 with value: 0.1526576260409145.\u001b[0m\n",
      "num_leaves, val_score: 0.152658:  45%|####5     | 9/20 [00:56<01:10,  6.40s/it]"
     ]
    },
    {
     "name": "stdout",
     "output_type": "stream",
     "text": [
      "Early stopping, best iteration is:\n",
      "[28]\ttrain's fair: 0.152154\tvalid's fair: 0.1528\n",
      "Training until validation scores don't improve for 300 rounds\n"
     ]
    },
    {
     "name": "stderr",
     "output_type": "stream",
     "text": [
      "num_leaves, val_score: 0.152658:  50%|#####     | 10/20 [01:03<01:05,  6.59s/it]\u001b[32m[I 2021-08-31 15:40:14,641]\u001b[0m Trial 16 finished with value: 0.15286947993065786 and parameters: {'num_leaves': 202}. Best is trial 9 with value: 0.1526576260409145.\u001b[0m\n",
      "num_leaves, val_score: 0.152658:  50%|#####     | 10/20 [01:03<01:05,  6.59s/it]"
     ]
    },
    {
     "name": "stdout",
     "output_type": "stream",
     "text": [
      "Early stopping, best iteration is:\n",
      "[27]\ttrain's fair: 0.151474\tvalid's fair: 0.152869\n",
      "Training until validation scores don't improve for 300 rounds\n"
     ]
    },
    {
     "name": "stderr",
     "output_type": "stream",
     "text": [
      "num_leaves, val_score: 0.152645:  55%|#####5    | 11/20 [01:08<00:52,  5.87s/it]\u001b[32m[I 2021-08-31 15:40:18,893]\u001b[0m Trial 17 finished with value: 0.15264494440699025 and parameters: {'num_leaves': 12}. Best is trial 17 with value: 0.15264494440699025.\u001b[0m\n",
      "num_leaves, val_score: 0.152645:  55%|#####5    | 11/20 [01:08<00:52,  5.87s/it]"
     ]
    },
    {
     "name": "stdout",
     "output_type": "stream",
     "text": [
      "Early stopping, best iteration is:\n",
      "[78]\ttrain's fair: 0.152974\tvalid's fair: 0.152645\n",
      "Training until validation scores don't improve for 300 rounds\n"
     ]
    },
    {
     "name": "stderr",
     "output_type": "stream",
     "text": [
      "num_leaves, val_score: 0.152645:  60%|######    | 12/20 [01:11<00:40,  5.12s/it]\u001b[32m[I 2021-08-31 15:40:22,274]\u001b[0m Trial 18 finished with value: 0.15265317766381098 and parameters: {'num_leaves': 4}. Best is trial 17 with value: 0.15264494440699025.\u001b[0m\n",
      "num_leaves, val_score: 0.152645:  60%|######    | 12/20 [01:11<00:40,  5.12s/it]"
     ]
    },
    {
     "name": "stdout",
     "output_type": "stream",
     "text": [
      "Early stopping, best iteration is:\n",
      "[43]\ttrain's fair: 0.153181\tvalid's fair: 0.152653\n",
      "Training until validation scores don't improve for 300 rounds\n"
     ]
    },
    {
     "name": "stderr",
     "output_type": "stream",
     "text": [
      "num_leaves, val_score: 0.152645:  65%|######5   | 13/20 [01:16<00:35,  5.10s/it]\u001b[32m[I 2021-08-31 15:40:27,326]\u001b[0m Trial 19 finished with value: 0.1527338380755228 and parameters: {'num_leaves': 65}. Best is trial 17 with value: 0.15264494440699025.\u001b[0m\n",
      "num_leaves, val_score: 0.152645:  65%|######5   | 13/20 [01:16<00:35,  5.10s/it]"
     ]
    },
    {
     "name": "stdout",
     "output_type": "stream",
     "text": [
      "Early stopping, best iteration is:\n",
      "[43]\ttrain's fair: 0.152319\tvalid's fair: 0.152734\n",
      "Training until validation scores don't improve for 300 rounds\n"
     ]
    },
    {
     "name": "stderr",
     "output_type": "stream",
     "text": [
      "num_leaves, val_score: 0.152645:  70%|#######   | 14/20 [01:21<00:30,  5.07s/it]\u001b[32m[I 2021-08-31 15:40:32,334]\u001b[0m Trial 20 finished with value: 0.1527186135219581 and parameters: {'num_leaves': 64}. Best is trial 17 with value: 0.15264494440699025.\u001b[0m\n",
      "num_leaves, val_score: 0.152645:  70%|#######   | 14/20 [01:21<00:30,  5.07s/it]"
     ]
    },
    {
     "name": "stdout",
     "output_type": "stream",
     "text": [
      "Early stopping, best iteration is:\n",
      "[31]\ttrain's fair: 0.152562\tvalid's fair: 0.152719\n",
      "Training until validation scores don't improve for 300 rounds\n"
     ]
    },
    {
     "name": "stderr",
     "output_type": "stream",
     "text": [
      "num_leaves, val_score: 0.152645:  75%|#######5  | 15/20 [01:26<00:24,  4.89s/it]\u001b[32m[I 2021-08-31 15:40:36,810]\u001b[0m Trial 21 finished with value: 0.15267346137998875 and parameters: {'num_leaves': 3}. Best is trial 17 with value: 0.15264494440699025.\u001b[0m\n",
      "num_leaves, val_score: 0.152645:  75%|#######5  | 15/20 [01:26<00:24,  4.89s/it]"
     ]
    },
    {
     "name": "stdout",
     "output_type": "stream",
     "text": [
      "Early stopping, best iteration is:\n",
      "[99]\ttrain's fair: 0.153166\tvalid's fair: 0.152673\n",
      "Training until validation scores don't improve for 300 rounds\n"
     ]
    },
    {
     "name": "stderr",
     "output_type": "stream",
     "text": [
      "num_leaves, val_score: 0.152645:  80%|########  | 16/20 [01:31<00:20,  5.18s/it]\u001b[32m[I 2021-08-31 15:40:42,651]\u001b[0m Trial 22 finished with value: 0.152708966054576 and parameters: {'num_leaves': 59}. Best is trial 17 with value: 0.15264494440699025.\u001b[0m\n",
      "num_leaves, val_score: 0.152645:  80%|########  | 16/20 [01:31<00:20,  5.18s/it]"
     ]
    },
    {
     "name": "stdout",
     "output_type": "stream",
     "text": [
      "Early stopping, best iteration is:\n",
      "[32]\ttrain's fair: 0.152589\tvalid's fair: 0.152709\n",
      "Training until validation scores don't improve for 300 rounds\n"
     ]
    },
    {
     "name": "stderr",
     "output_type": "stream",
     "text": [
      "num_leaves, val_score: 0.152645:  85%|########5 | 17/20 [01:36<00:14,  4.96s/it]\u001b[32m[I 2021-08-31 15:40:47,092]\u001b[0m Trial 23 finished with value: 0.15269465648151162 and parameters: {'num_leaves': 39}. Best is trial 17 with value: 0.15264494440699025.\u001b[0m\n",
      "num_leaves, val_score: 0.152645:  85%|########5 | 17/20 [01:36<00:14,  4.96s/it]"
     ]
    },
    {
     "name": "stdout",
     "output_type": "stream",
     "text": [
      "Early stopping, best iteration is:\n",
      "[33]\ttrain's fair: 0.152799\tvalid's fair: 0.152695\n",
      "Training until validation scores don't improve for 300 rounds\n"
     ]
    },
    {
     "name": "stderr",
     "output_type": "stream",
     "text": [
      "num_leaves, val_score: 0.152645:  90%|######### | 18/20 [01:41<00:10,  5.11s/it]\u001b[32m[I 2021-08-31 15:40:52,560]\u001b[0m Trial 24 finished with value: 0.15275197472825494 and parameters: {'num_leaves': 90}. Best is trial 17 with value: 0.15264494440699025.\u001b[0m\n",
      "num_leaves, val_score: 0.152645:  90%|######### | 18/20 [01:41<00:10,  5.11s/it]"
     ]
    },
    {
     "name": "stdout",
     "output_type": "stream",
     "text": [
      "Early stopping, best iteration is:\n",
      "[31]\ttrain's fair: 0.152288\tvalid's fair: 0.152752\n",
      "Training until validation scores don't improve for 300 rounds\n"
     ]
    },
    {
     "name": "stderr",
     "output_type": "stream",
     "text": [
      "num_leaves, val_score: 0.152638:  95%|#########5| 19/20 [01:45<00:04,  4.76s/it]\u001b[32m[I 2021-08-31 15:40:56,501]\u001b[0m Trial 25 finished with value: 0.1526379210939909 and parameters: {'num_leaves': 7}. Best is trial 25 with value: 0.1526379210939909.\u001b[0m\n",
      "num_leaves, val_score: 0.152638:  95%|#########5| 19/20 [01:45<00:04,  4.76s/it]"
     ]
    },
    {
     "name": "stdout",
     "output_type": "stream",
     "text": [
      "Early stopping, best iteration is:\n",
      "[70]\ttrain's fair: 0.153098\tvalid's fair: 0.152638\n",
      "Training until validation scores don't improve for 300 rounds\n"
     ]
    },
    {
     "name": "stderr",
     "output_type": "stream",
     "text": [
      "num_leaves, val_score: 0.152638: 100%|##########| 20/20 [01:51<00:00,  4.97s/it]\u001b[32m[I 2021-08-31 15:41:01,970]\u001b[0m Trial 26 finished with value: 0.15276106090778588 and parameters: {'num_leaves': 84}. Best is trial 25 with value: 0.1526379210939909.\u001b[0m\n",
      "num_leaves, val_score: 0.152638: 100%|##########| 20/20 [01:51<00:00,  5.56s/it]\n",
      "bagging, val_score: 0.152638:   0%|          | 0/10 [00:00<?, ?it/s]"
     ]
    },
    {
     "name": "stdout",
     "output_type": "stream",
     "text": [
      "Early stopping, best iteration is:\n",
      "[33]\ttrain's fair: 0.152306\tvalid's fair: 0.152761\n",
      "Training until validation scores don't improve for 300 rounds\n"
     ]
    },
    {
     "name": "stderr",
     "output_type": "stream",
     "text": [
      "bagging, val_score: 0.152638:  10%|#         | 1/10 [00:04<00:39,  4.38s/it]\u001b[32m[I 2021-08-31 15:41:06,356]\u001b[0m Trial 27 finished with value: 0.15265139837822464 and parameters: {'bagging_fraction': 0.7144301022089024, 'bagging_freq': 1}. Best is trial 27 with value: 0.15265139837822464.\u001b[0m\n",
      "bagging, val_score: 0.152638:  10%|#         | 1/10 [00:04<00:39,  4.38s/it]"
     ]
    },
    {
     "name": "stdout",
     "output_type": "stream",
     "text": [
      "Early stopping, best iteration is:\n",
      "[40]\ttrain's fair: 0.15316\tvalid's fair: 0.152651\n",
      "Training until validation scores don't improve for 300 rounds\n"
     ]
    },
    {
     "name": "stderr",
     "output_type": "stream",
     "text": [
      "bagging, val_score: 0.152638:  20%|##        | 2/10 [00:11<00:48,  6.02s/it]\u001b[32m[I 2021-08-31 15:41:13,522]\u001b[0m Trial 28 finished with value: 0.1526571601284223 and parameters: {'bagging_fraction': 0.7254609754661673, 'bagging_freq': 1}. Best is trial 27 with value: 0.15265139837822464.\u001b[0m\n",
      "bagging, val_score: 0.152638:  20%|##        | 2/10 [00:11<00:48,  6.02s/it]"
     ]
    },
    {
     "name": "stdout",
     "output_type": "stream",
     "text": [
      "Early stopping, best iteration is:\n",
      "[189]\ttrain's fair: 0.15289\tvalid's fair: 0.152657\n",
      "Training until validation scores don't improve for 300 rounds\n"
     ]
    },
    {
     "name": "stderr",
     "output_type": "stream",
     "text": [
      "bagging, val_score: 0.152638:  30%|###       | 3/10 [00:16<00:39,  5.59s/it]\u001b[32m[I 2021-08-31 15:41:18,606]\u001b[0m Trial 29 finished with value: 0.15265512087645403 and parameters: {'bagging_fraction': 0.7802400858788294, 'bagging_freq': 1}. Best is trial 27 with value: 0.15265139837822464.\u001b[0m\n",
      "bagging, val_score: 0.152638:  30%|###       | 3/10 [00:16<00:39,  5.59s/it]"
     ]
    },
    {
     "name": "stdout",
     "output_type": "stream",
     "text": [
      "Early stopping, best iteration is:\n",
      "[40]\ttrain's fair: 0.153157\tvalid's fair: 0.152655\n",
      "Training until validation scores don't improve for 300 rounds\n"
     ]
    },
    {
     "name": "stderr",
     "output_type": "stream",
     "text": [
      "bagging, val_score: 0.152638:  40%|####      | 4/10 [00:21<00:30,  5.15s/it]\u001b[32m[I 2021-08-31 15:41:23,069]\u001b[0m Trial 30 finished with value: 0.15267038297708935 and parameters: {'bagging_fraction': 0.705449791114234, 'bagging_freq': 4}. Best is trial 27 with value: 0.15265139837822464.\u001b[0m\n",
      "bagging, val_score: 0.152638:  40%|####      | 4/10 [00:21<00:30,  5.15s/it]"
     ]
    },
    {
     "name": "stdout",
     "output_type": "stream",
     "text": [
      "Early stopping, best iteration is:\n",
      "[34]\ttrain's fair: 0.153182\tvalid's fair: 0.15267\n",
      "Training until validation scores don't improve for 300 rounds\n"
     ]
    },
    {
     "name": "stderr",
     "output_type": "stream",
     "text": [
      "bagging, val_score: 0.152622:  50%|#####     | 5/10 [00:26<00:25,  5.11s/it]\u001b[32m[I 2021-08-31 15:41:28,123]\u001b[0m Trial 31 finished with value: 0.15262227148690874 and parameters: {'bagging_fraction': 0.47932741911476534, 'bagging_freq': 7}. Best is trial 31 with value: 0.15262227148690874.\u001b[0m\n",
      "bagging, val_score: 0.152622:  50%|#####     | 5/10 [00:26<00:25,  5.11s/it]"
     ]
    },
    {
     "name": "stdout",
     "output_type": "stream",
     "text": [
      "Early stopping, best iteration is:\n",
      "[84]\ttrain's fair: 0.1531\tvalid's fair: 0.152622\n",
      "Training until validation scores don't improve for 300 rounds\n"
     ]
    },
    {
     "name": "stderr",
     "output_type": "stream",
     "text": [
      "bagging, val_score: 0.152622:  60%|######    | 6/10 [00:30<00:19,  4.97s/it]\u001b[32m[I 2021-08-31 15:41:32,814]\u001b[0m Trial 32 finished with value: 0.15264032654578077 and parameters: {'bagging_fraction': 0.9257553618087031, 'bagging_freq': 7}. Best is trial 31 with value: 0.15262227148690874.\u001b[0m\n",
      "bagging, val_score: 0.152622:  60%|######    | 6/10 [00:30<00:19,  4.97s/it]"
     ]
    },
    {
     "name": "stdout",
     "output_type": "stream",
     "text": [
      "Early stopping, best iteration is:\n",
      "[70]\ttrain's fair: 0.153103\tvalid's fair: 0.15264\n",
      "Training until validation scores don't improve for 300 rounds\n"
     ]
    },
    {
     "name": "stderr",
     "output_type": "stream",
     "text": [
      "bagging, val_score: 0.152622:  70%|#######   | 7/10 [00:35<00:14,  4.94s/it]\u001b[32m[I 2021-08-31 15:41:37,704]\u001b[0m Trial 33 finished with value: 0.15265940449218834 and parameters: {'bagging_fraction': 0.949146036001527, 'bagging_freq': 3}. Best is trial 31 with value: 0.15262227148690874.\u001b[0m\n",
      "bagging, val_score: 0.152622:  70%|#######   | 7/10 [00:35<00:14,  4.94s/it]"
     ]
    },
    {
     "name": "stdout",
     "output_type": "stream",
     "text": [
      "Early stopping, best iteration is:\n",
      "[50]\ttrain's fair: 0.153139\tvalid's fair: 0.152659\n",
      "Training until validation scores don't improve for 300 rounds\n"
     ]
    },
    {
     "name": "stderr",
     "output_type": "stream",
     "text": [
      "bagging, val_score: 0.152622:  80%|########  | 8/10 [00:42<00:10,  5.47s/it]\u001b[32m[I 2021-08-31 15:41:44,292]\u001b[0m Trial 34 finished with value: 0.15266456642887863 and parameters: {'bagging_fraction': 0.4791141240760536, 'bagging_freq': 1}. Best is trial 31 with value: 0.15262227148690874.\u001b[0m\n",
      "bagging, val_score: 0.152622:  80%|########  | 8/10 [00:42<00:10,  5.47s/it]"
     ]
    },
    {
     "name": "stdout",
     "output_type": "stream",
     "text": [
      "Early stopping, best iteration is:\n",
      "[82]\ttrain's fair: 0.153087\tvalid's fair: 0.152665\n",
      "Training until validation scores don't improve for 300 rounds\n"
     ]
    },
    {
     "name": "stderr",
     "output_type": "stream",
     "text": [
      "bagging, val_score: 0.152622:  90%|######### | 9/10 [00:47<00:05,  5.26s/it]\u001b[32m[I 2021-08-31 15:41:49,106]\u001b[0m Trial 35 finished with value: 0.1526439013902372 and parameters: {'bagging_fraction': 0.710962084400036, 'bagging_freq': 5}. Best is trial 31 with value: 0.15262227148690874.\u001b[0m\n",
      "bagging, val_score: 0.152622:  90%|######### | 9/10 [00:47<00:05,  5.26s/it]"
     ]
    },
    {
     "name": "stdout",
     "output_type": "stream",
     "text": [
      "Early stopping, best iteration is:\n",
      "[60]\ttrain's fair: 0.153122\tvalid's fair: 0.152644\n",
      "Training until validation scores don't improve for 300 rounds\n"
     ]
    },
    {
     "name": "stderr",
     "output_type": "stream",
     "text": [
      "bagging, val_score: 0.152622: 100%|##########| 10/10 [00:52<00:00,  5.37s/it]\u001b[32m[I 2021-08-31 15:41:54,718]\u001b[0m Trial 36 finished with value: 0.15263616934556776 and parameters: {'bagging_fraction': 0.7421360857906512, 'bagging_freq': 4}. Best is trial 31 with value: 0.15262227148690874.\u001b[0m\n",
      "bagging, val_score: 0.152622: 100%|##########| 10/10 [00:52<00:00,  5.27s/it]\n",
      "feature_fraction_stage2, val_score: 0.152622:   0%|          | 0/3 [00:00<?, ?it/s]"
     ]
    },
    {
     "name": "stdout",
     "output_type": "stream",
     "text": [
      "Early stopping, best iteration is:\n",
      "[66]\ttrain's fair: 0.153115\tvalid's fair: 0.152636\n",
      "Training until validation scores don't improve for 300 rounds\n"
     ]
    },
    {
     "name": "stderr",
     "output_type": "stream",
     "text": [
      "feature_fraction_stage2, val_score: 0.152622:  33%|###3      | 1/3 [00:05<00:10,  5.12s/it]\u001b[32m[I 2021-08-31 15:41:59,843]\u001b[0m Trial 37 finished with value: 0.1526222714869087 and parameters: {'feature_fraction': 0.9520000000000001}. Best is trial 37 with value: 0.1526222714869087.\u001b[0m\n",
      "feature_fraction_stage2, val_score: 0.152622:  33%|###3      | 1/3 [00:05<00:10,  5.12s/it]"
     ]
    },
    {
     "name": "stdout",
     "output_type": "stream",
     "text": [
      "Early stopping, best iteration is:\n",
      "[84]\ttrain's fair: 0.1531\tvalid's fair: 0.152622\n",
      "Training until validation scores don't improve for 300 rounds\n"
     ]
    },
    {
     "name": "stderr",
     "output_type": "stream",
     "text": [
      "feature_fraction_stage2, val_score: 0.152622:  67%|######6   | 2/3 [00:10<00:05,  5.11s/it]\u001b[32m[I 2021-08-31 15:42:04,942]\u001b[0m Trial 38 finished with value: 0.1526222714869087 and parameters: {'feature_fraction': 0.9840000000000001}. Best is trial 37 with value: 0.1526222714869087.\u001b[0m\n",
      "feature_fraction_stage2, val_score: 0.152622:  67%|######6   | 2/3 [00:10<00:05,  5.11s/it]"
     ]
    },
    {
     "name": "stdout",
     "output_type": "stream",
     "text": [
      "Early stopping, best iteration is:\n",
      "[84]\ttrain's fair: 0.1531\tvalid's fair: 0.152622\n",
      "Training until validation scores don't improve for 300 rounds\n"
     ]
    },
    {
     "name": "stderr",
     "output_type": "stream",
     "text": [
      "feature_fraction_stage2, val_score: 0.152622: 100%|##########| 3/3 [00:15<00:00,  5.10s/it]\u001b[32m[I 2021-08-31 15:42:10,031]\u001b[0m Trial 39 finished with value: 0.15262227148690874 and parameters: {'feature_fraction': 0.92}. Best is trial 37 with value: 0.1526222714869087.\u001b[0m\n",
      "feature_fraction_stage2, val_score: 0.152622: 100%|##########| 3/3 [00:15<00:00,  5.10s/it]\n",
      "regularization_factors, val_score: 0.152622:   0%|          | 0/20 [00:00<?, ?it/s]"
     ]
    },
    {
     "name": "stdout",
     "output_type": "stream",
     "text": [
      "Early stopping, best iteration is:\n",
      "[84]\ttrain's fair: 0.1531\tvalid's fair: 0.152622\n",
      "Training until validation scores don't improve for 300 rounds\n"
     ]
    },
    {
     "name": "stderr",
     "output_type": "stream",
     "text": [
      "regularization_factors, val_score: 0.152622:   5%|5         | 1/20 [00:05<01:53,  5.96s/it]\u001b[32m[I 2021-08-31 15:42:15,995]\u001b[0m Trial 40 finished with value: 0.1526254649612398 and parameters: {'lambda_l1': 0.8099103203224128, 'lambda_l2': 0.0018381544940549066}. Best is trial 40 with value: 0.1526254649612398.\u001b[0m\n",
      "regularization_factors, val_score: 0.152622:   5%|5         | 1/20 [00:05<01:53,  5.96s/it]"
     ]
    },
    {
     "name": "stdout",
     "output_type": "stream",
     "text": [
      "Early stopping, best iteration is:\n",
      "[81]\ttrain's fair: 0.153111\tvalid's fair: 0.152625\n",
      "Training until validation scores don't improve for 300 rounds\n"
     ]
    },
    {
     "name": "stderr",
     "output_type": "stream",
     "text": [
      "regularization_factors, val_score: 0.152622:  10%|#         | 2/20 [00:11<01:42,  5.70s/it]\u001b[32m[I 2021-08-31 15:42:21,511]\u001b[0m Trial 41 finished with value: 0.1526265727567547 and parameters: {'lambda_l1': 6.463858115656678, 'lambda_l2': 1.7122997820869482e-08}. Best is trial 40 with value: 0.1526254649612398.\u001b[0m\n",
      "regularization_factors, val_score: 0.152622:  10%|#         | 2/20 [00:11<01:42,  5.70s/it]"
     ]
    },
    {
     "name": "stdout",
     "output_type": "stream",
     "text": [
      "Early stopping, best iteration is:\n",
      "[84]\ttrain's fair: 0.15312\tvalid's fair: 0.152627\n",
      "Training until validation scores don't improve for 300 rounds\n"
     ]
    },
    {
     "name": "stderr",
     "output_type": "stream",
     "text": [
      "regularization_factors, val_score: 0.152622:  15%|#5        | 3/20 [00:17<01:38,  5.78s/it]\u001b[32m[I 2021-08-31 15:42:27,380]\u001b[0m Trial 42 finished with value: 0.15262227148671142 and parameters: {'lambda_l1': 4.4033649922371235e-07, 'lambda_l2': 1.8347360847335915e-08}. Best is trial 42 with value: 0.15262227148671142.\u001b[0m\n",
      "regularization_factors, val_score: 0.152622:  15%|#5        | 3/20 [00:17<01:38,  5.78s/it]"
     ]
    },
    {
     "name": "stdout",
     "output_type": "stream",
     "text": [
      "Early stopping, best iteration is:\n",
      "[84]\ttrain's fair: 0.1531\tvalid's fair: 0.152622\n",
      "Training until validation scores don't improve for 300 rounds\n"
     ]
    },
    {
     "name": "stderr",
     "output_type": "stream",
     "text": [
      "regularization_factors, val_score: 0.152622:  20%|##        | 4/20 [00:22<01:30,  5.64s/it]\u001b[32m[I 2021-08-31 15:42:32,804]\u001b[0m Trial 43 finished with value: 0.15263149083529837 and parameters: {'lambda_l1': 8.66639338239918, 'lambda_l2': 0.48894312338097856}. Best is trial 42 with value: 0.15262227148671142.\u001b[0m\n",
      "regularization_factors, val_score: 0.152622:  20%|##        | 4/20 [00:22<01:30,  5.64s/it]"
     ]
    },
    {
     "name": "stdout",
     "output_type": "stream",
     "text": [
      "Early stopping, best iteration is:\n",
      "[84]\ttrain's fair: 0.153117\tvalid's fair: 0.152631\n",
      "Training until validation scores don't improve for 300 rounds\n"
     ]
    },
    {
     "name": "stderr",
     "output_type": "stream",
     "text": [
      "regularization_factors, val_score: 0.152622:  25%|##5       | 5/20 [00:27<01:20,  5.35s/it]\u001b[32m[I 2021-08-31 15:42:37,658]\u001b[0m Trial 44 finished with value: 0.1526252796243157 and parameters: {'lambda_l1': 0.0004061558734778069, 'lambda_l2': 1.2933928669842985}. Best is trial 42 with value: 0.15262227148671142.\u001b[0m\n",
      "regularization_factors, val_score: 0.152622:  25%|##5       | 5/20 [00:27<01:20,  5.35s/it]"
     ]
    },
    {
     "name": "stdout",
     "output_type": "stream",
     "text": [
      "Early stopping, best iteration is:\n",
      "[83]\ttrain's fair: 0.153105\tvalid's fair: 0.152625\n",
      "Training until validation scores don't improve for 300 rounds\n"
     ]
    },
    {
     "name": "stderr",
     "output_type": "stream",
     "text": [
      "regularization_factors, val_score: 0.152618:  30%|###       | 6/20 [00:32<01:13,  5.26s/it]\u001b[32m[I 2021-08-31 15:42:42,726]\u001b[0m Trial 45 finished with value: 0.15261834294183207 and parameters: {'lambda_l1': 0.07217924327244993, 'lambda_l2': 0.00010380118060146669}. Best is trial 45 with value: 0.15261834294183207.\u001b[0m\n",
      "regularization_factors, val_score: 0.152618:  30%|###       | 6/20 [00:32<01:13,  5.26s/it]"
     ]
    },
    {
     "name": "stdout",
     "output_type": "stream",
     "text": [
      "Early stopping, best iteration is:\n",
      "[84]\ttrain's fair: 0.153098\tvalid's fair: 0.152618\n",
      "Training until validation scores don't improve for 300 rounds\n"
     ]
    },
    {
     "name": "stderr",
     "output_type": "stream",
     "text": [
      "regularization_factors, val_score: 0.152615:  35%|###5      | 7/20 [00:38<01:11,  5.47s/it]\u001b[32m[I 2021-08-31 15:42:48,641]\u001b[0m Trial 46 finished with value: 0.1526148280730628 and parameters: {'lambda_l1': 0.02733348636578111, 'lambda_l2': 4.927415385836931e-06}. Best is trial 46 with value: 0.1526148280730628.\u001b[0m\n",
      "regularization_factors, val_score: 0.152615:  35%|###5      | 7/20 [00:38<01:11,  5.47s/it]"
     ]
    },
    {
     "name": "stdout",
     "output_type": "stream",
     "text": [
      "Early stopping, best iteration is:\n",
      "[84]\ttrain's fair: 0.153096\tvalid's fair: 0.152615\n",
      "Training until validation scores don't improve for 300 rounds\n"
     ]
    },
    {
     "name": "stderr",
     "output_type": "stream",
     "text": [
      "regularization_factors, val_score: 0.152615:  40%|####      | 8/20 [00:43<01:04,  5.39s/it]\u001b[32m[I 2021-08-31 15:42:53,843]\u001b[0m Trial 47 finished with value: 0.15262226821915909 and parameters: {'lambda_l1': 0.002909067034511274, 'lambda_l2': 7.520140023437164e-08}. Best is trial 46 with value: 0.1526148280730628.\u001b[0m\n",
      "regularization_factors, val_score: 0.152615:  40%|####      | 8/20 [00:43<01:04,  5.39s/it]"
     ]
    },
    {
     "name": "stdout",
     "output_type": "stream",
     "text": [
      "Early stopping, best iteration is:\n",
      "[84]\ttrain's fair: 0.1531\tvalid's fair: 0.152622\n",
      "Training until validation scores don't improve for 300 rounds\n"
     ]
    },
    {
     "name": "stderr",
     "output_type": "stream",
     "text": [
      "regularization_factors, val_score: 0.152607:  45%|####5     | 9/20 [00:48<00:58,  5.27s/it]\u001b[32m[I 2021-08-31 15:42:58,868]\u001b[0m Trial 48 finished with value: 0.15260722663067577 and parameters: {'lambda_l1': 3.9083638969960405e-06, 'lambda_l2': 0.8617409955205113}. Best is trial 48 with value: 0.15260722663067577.\u001b[0m\n",
      "regularization_factors, val_score: 0.152607:  45%|####5     | 9/20 [00:48<00:58,  5.27s/it]"
     ]
    },
    {
     "name": "stdout",
     "output_type": "stream",
     "text": [
      "Early stopping, best iteration is:\n",
      "[84]\ttrain's fair: 0.153101\tvalid's fair: 0.152607\n",
      "Training until validation scores don't improve for 300 rounds\n"
     ]
    },
    {
     "name": "stderr",
     "output_type": "stream",
     "text": [
      "regularization_factors, val_score: 0.152607:  50%|#####     | 10/20 [00:54<00:54,  5.48s/it]\u001b[32m[I 2021-08-31 15:43:04,811]\u001b[0m Trial 49 finished with value: 0.1526222714867576 and parameters: {'lambda_l1': 2.2732782926669785e-07, 'lambda_l2': 6.451420961334428e-08}. Best is trial 48 with value: 0.15260722663067577.\u001b[0m\n",
      "regularization_factors, val_score: 0.152607:  50%|#####     | 10/20 [00:54<00:54,  5.48s/it]"
     ]
    },
    {
     "name": "stdout",
     "output_type": "stream",
     "text": [
      "Early stopping, best iteration is:\n",
      "[84]\ttrain's fair: 0.1531\tvalid's fair: 0.152622\n",
      "Training until validation scores don't improve for 300 rounds\n"
     ]
    },
    {
     "name": "stderr",
     "output_type": "stream",
     "text": [
      "regularization_factors, val_score: 0.152607:  55%|#####5    | 11/20 [00:59<00:47,  5.32s/it]\u001b[32m[I 2021-08-31 15:43:09,777]\u001b[0m Trial 50 finished with value: 0.15262226928024983 and parameters: {'lambda_l1': 8.486553747629005e-06, 'lambda_l2': 0.03928438024285415}. Best is trial 48 with value: 0.15260722663067577.\u001b[0m\n",
      "regularization_factors, val_score: 0.152607:  55%|#####5    | 11/20 [00:59<00:47,  5.32s/it]"
     ]
    },
    {
     "name": "stdout",
     "output_type": "stream",
     "text": [
      "Early stopping, best iteration is:\n",
      "[84]\ttrain's fair: 0.1531\tvalid's fair: 0.152622\n",
      "Training until validation scores don't improve for 300 rounds\n"
     ]
    },
    {
     "name": "stderr",
     "output_type": "stream",
     "text": [
      "regularization_factors, val_score: 0.152607:  60%|######    | 12/20 [01:04<00:42,  5.26s/it]\u001b[32m[I 2021-08-31 15:43:14,890]\u001b[0m Trial 51 finished with value: 0.15262227146893995 and parameters: {'lambda_l1': 1.5293454704568558e-05, 'lambda_l2': 8.396095968261997e-06}. Best is trial 48 with value: 0.15260722663067577.\u001b[0m\n",
      "regularization_factors, val_score: 0.152607:  60%|######    | 12/20 [01:04<00:42,  5.26s/it]"
     ]
    },
    {
     "name": "stdout",
     "output_type": "stream",
     "text": [
      "Early stopping, best iteration is:\n",
      "[84]\ttrain's fair: 0.1531\tvalid's fair: 0.152622\n",
      "Training until validation scores don't improve for 300 rounds\n"
     ]
    },
    {
     "name": "stderr",
     "output_type": "stream",
     "text": [
      "regularization_factors, val_score: 0.152607:  65%|######5   | 13/20 [01:10<00:38,  5.45s/it]\u001b[32m[I 2021-08-31 15:43:20,794]\u001b[0m Trial 52 finished with value: 0.15262227148694935 and parameters: {'lambda_l1': 1.0742806197863872e-08, 'lambda_l2': 3.1732992900050538e-06}. Best is trial 48 with value: 0.15260722663067577.\u001b[0m\n",
      "regularization_factors, val_score: 0.152607:  65%|######5   | 13/20 [01:10<00:38,  5.45s/it]"
     ]
    },
    {
     "name": "stdout",
     "output_type": "stream",
     "text": [
      "Early stopping, best iteration is:\n",
      "[84]\ttrain's fair: 0.1531\tvalid's fair: 0.152622\n",
      "Training until validation scores don't improve for 300 rounds\n"
     ]
    },
    {
     "name": "stderr",
     "output_type": "stream",
     "text": [
      "regularization_factors, val_score: 0.152607:  70%|#######   | 14/20 [01:15<00:32,  5.37s/it]\u001b[32m[I 2021-08-31 15:43:25,969]\u001b[0m Trial 53 finished with value: 0.15262226655377742 and parameters: {'lambda_l1': 0.004245468923547594, 'lambda_l2': 0.0029546779122599435}. Best is trial 48 with value: 0.15260722663067577.\u001b[0m\n",
      "regularization_factors, val_score: 0.152607:  70%|#######   | 14/20 [01:15<00:32,  5.37s/it]"
     ]
    },
    {
     "name": "stdout",
     "output_type": "stream",
     "text": [
      "Early stopping, best iteration is:\n",
      "[84]\ttrain's fair: 0.1531\tvalid's fair: 0.152622\n",
      "Training until validation scores don't improve for 300 rounds\n"
     ]
    },
    {
     "name": "stderr",
     "output_type": "stream",
     "text": [
      "regularization_factors, val_score: 0.152607:  75%|#######5  | 15/20 [01:20<00:26,  5.27s/it]\u001b[32m[I 2021-08-31 15:43:31,008]\u001b[0m Trial 54 finished with value: 0.1526193043904733 and parameters: {'lambda_l1': 0.08263708632077808, 'lambda_l2': 2.7650334612994324e-06}. Best is trial 48 with value: 0.15260722663067577.\u001b[0m\n",
      "regularization_factors, val_score: 0.152607:  75%|#######5  | 15/20 [01:20<00:26,  5.27s/it]"
     ]
    },
    {
     "name": "stdout",
     "output_type": "stream",
     "text": [
      "Early stopping, best iteration is:\n",
      "[84]\ttrain's fair: 0.153099\tvalid's fair: 0.152619\n",
      "Training until validation scores don't improve for 300 rounds\n"
     ]
    },
    {
     "name": "stderr",
     "output_type": "stream",
     "text": [
      "regularization_factors, val_score: 0.152607:  80%|########  | 16/20 [01:27<00:22,  5.52s/it]\u001b[32m[I 2021-08-31 15:43:37,093]\u001b[0m Trial 55 finished with value: 0.15261956379799477 and parameters: {'lambda_l1': 6.536912449568728e-05, 'lambda_l2': 7.085502721809295}. Best is trial 48 with value: 0.15260722663067577.\u001b[0m\n",
      "regularization_factors, val_score: 0.152607:  80%|########  | 16/20 [01:27<00:22,  5.52s/it]"
     ]
    },
    {
     "name": "stdout",
     "output_type": "stream",
     "text": [
      "Early stopping, best iteration is:\n",
      "[84]\ttrain's fair: 0.153102\tvalid's fair: 0.15262\n",
      "Training until validation scores don't improve for 300 rounds\n"
     ]
    },
    {
     "name": "stderr",
     "output_type": "stream",
     "text": [
      "regularization_factors, val_score: 0.152607:  85%|########5 | 17/20 [01:31<00:16,  5.34s/it]\u001b[32m[I 2021-08-31 15:43:42,037]\u001b[0m Trial 56 finished with value: 0.15262227148378643 and parameters: {'lambda_l1': 9.220859776372049e-08, 'lambda_l2': 5.538408887839264e-05}. Best is trial 48 with value: 0.15260722663067577.\u001b[0m\n",
      "regularization_factors, val_score: 0.152607:  85%|########5 | 17/20 [01:32<00:16,  5.34s/it]"
     ]
    },
    {
     "name": "stdout",
     "output_type": "stream",
     "text": [
      "Early stopping, best iteration is:\n",
      "[84]\ttrain's fair: 0.1531\tvalid's fair: 0.152622\n",
      "Training until validation scores don't improve for 300 rounds\n"
     ]
    },
    {
     "name": "stderr",
     "output_type": "stream",
     "text": [
      "regularization_factors, val_score: 0.152607:  90%|######### | 18/20 [01:37<00:10,  5.28s/it]\u001b[32m[I 2021-08-31 15:43:47,161]\u001b[0m Trial 57 finished with value: 0.15262227012839863 and parameters: {'lambda_l1': 5.010499942342855e-06, 'lambda_l2': 0.02414957037496785}. Best is trial 48 with value: 0.15260722663067577.\u001b[0m\n",
      "regularization_factors, val_score: 0.152607:  90%|######### | 18/20 [01:37<00:10,  5.28s/it]"
     ]
    },
    {
     "name": "stdout",
     "output_type": "stream",
     "text": [
      "Early stopping, best iteration is:\n",
      "[84]\ttrain's fair: 0.1531\tvalid's fair: 0.152622\n",
      "Training until validation scores don't improve for 300 rounds\n"
     ]
    },
    {
     "name": "stderr",
     "output_type": "stream",
     "text": [
      "regularization_factors, val_score: 0.152607:  95%|#########5| 19/20 [01:43<00:05,  5.48s/it]\u001b[32m[I 2021-08-31 15:43:53,107]\u001b[0m Trial 58 finished with value: 0.15262227032636588 and parameters: {'lambda_l1': 0.0010318837352929077, 'lambda_l2': 5.14122170602377e-07}. Best is trial 48 with value: 0.15260722663067577.\u001b[0m\n",
      "regularization_factors, val_score: 0.152607:  95%|#########5| 19/20 [01:43<00:05,  5.48s/it]"
     ]
    },
    {
     "name": "stdout",
     "output_type": "stream",
     "text": [
      "Early stopping, best iteration is:\n",
      "[84]\ttrain's fair: 0.1531\tvalid's fair: 0.152622\n",
      "Training until validation scores don't improve for 300 rounds\n"
     ]
    },
    {
     "name": "stderr",
     "output_type": "stream",
     "text": [
      "regularization_factors, val_score: 0.152607: 100%|##########| 20/20 [01:48<00:00,  5.35s/it]\u001b[32m[I 2021-08-31 15:43:58,171]\u001b[0m Trial 59 finished with value: 0.15262225079323244 and parameters: {'lambda_l1': 0.018487871453040865, 'lambda_l2': 0.0008049262633481251}. Best is trial 48 with value: 0.15260722663067577.\u001b[0m\n",
      "regularization_factors, val_score: 0.152607: 100%|##########| 20/20 [01:48<00:00,  5.41s/it]\n",
      "min_data_in_leaf, val_score: 0.152607:   0%|          | 0/5 [00:00<?, ?it/s]"
     ]
    },
    {
     "name": "stdout",
     "output_type": "stream",
     "text": [
      "Early stopping, best iteration is:\n",
      "[84]\ttrain's fair: 0.1531\tvalid's fair: 0.152622\n",
      "Training until validation scores don't improve for 300 rounds\n"
     ]
    },
    {
     "name": "stderr",
     "output_type": "stream",
     "text": [
      "min_data_in_leaf, val_score: 0.152607:  20%|##        | 1/5 [00:05<00:20,  5.00s/it]\u001b[32m[I 2021-08-31 15:44:03,183]\u001b[0m Trial 60 finished with value: 0.15262805675199823 and parameters: {'min_child_samples': 25}. Best is trial 60 with value: 0.15262805675199823.\u001b[0m\n",
      "min_data_in_leaf, val_score: 0.152607:  20%|##        | 1/5 [00:05<00:20,  5.00s/it]"
     ]
    },
    {
     "name": "stdout",
     "output_type": "stream",
     "text": [
      "Early stopping, best iteration is:\n",
      "[83]\ttrain's fair: 0.153104\tvalid's fair: 0.152628\n",
      "Training until validation scores don't improve for 300 rounds\n"
     ]
    },
    {
     "name": "stderr",
     "output_type": "stream",
     "text": [
      "min_data_in_leaf, val_score: 0.152607:  40%|####      | 2/5 [00:10<00:15,  5.08s/it]\u001b[32m[I 2021-08-31 15:44:08,313]\u001b[0m Trial 61 finished with value: 0.15262199497229756 and parameters: {'min_child_samples': 50}. Best is trial 61 with value: 0.15262199497229756.\u001b[0m\n",
      "min_data_in_leaf, val_score: 0.152607:  40%|####      | 2/5 [00:10<00:15,  5.08s/it]"
     ]
    },
    {
     "name": "stdout",
     "output_type": "stream",
     "text": [
      "Early stopping, best iteration is:\n",
      "[84]\ttrain's fair: 0.153105\tvalid's fair: 0.152622\n",
      "Training until validation scores don't improve for 300 rounds\n"
     ]
    },
    {
     "name": "stderr",
     "output_type": "stream",
     "text": [
      "min_data_in_leaf, val_score: 0.152607:  60%|######    | 3/5 [00:15<00:10,  5.41s/it]\u001b[32m[I 2021-08-31 15:44:14,109]\u001b[0m Trial 62 finished with value: 0.1526280107820887 and parameters: {'min_child_samples': 5}. Best is trial 61 with value: 0.15262199497229756.\u001b[0m\n",
      "min_data_in_leaf, val_score: 0.152607:  60%|######    | 3/5 [00:15<00:10,  5.41s/it]"
     ]
    },
    {
     "name": "stdout",
     "output_type": "stream",
     "text": [
      "Early stopping, best iteration is:\n",
      "[84]\ttrain's fair: 0.153093\tvalid's fair: 0.152628\n",
      "Training until validation scores don't improve for 300 rounds\n"
     ]
    },
    {
     "name": "stderr",
     "output_type": "stream",
     "text": [
      "min_data_in_leaf, val_score: 0.152607:  80%|########  | 4/5 [00:21<00:05,  5.33s/it]\u001b[32m[I 2021-08-31 15:44:19,327]\u001b[0m Trial 63 finished with value: 0.1526251961447251 and parameters: {'min_child_samples': 100}. Best is trial 61 with value: 0.15262199497229756.\u001b[0m\n",
      "min_data_in_leaf, val_score: 0.152607:  80%|########  | 4/5 [00:21<00:05,  5.33s/it]"
     ]
    },
    {
     "name": "stdout",
     "output_type": "stream",
     "text": [
      "Early stopping, best iteration is:\n",
      "[84]\ttrain's fair: 0.153109\tvalid's fair: 0.152625\n",
      "Training until validation scores don't improve for 300 rounds\n"
     ]
    },
    {
     "name": "stderr",
     "output_type": "stream",
     "text": [
      "min_data_in_leaf, val_score: 0.152607: 100%|##########| 5/5 [00:27<00:00,  5.57s/it]\u001b[32m[I 2021-08-31 15:44:25,313]\u001b[0m Trial 64 finished with value: 0.15261418043884578 and parameters: {'min_child_samples': 10}. Best is trial 64 with value: 0.15261418043884578.\u001b[0m\n",
      "min_data_in_leaf, val_score: 0.152607: 100%|##########| 5/5 [00:27<00:00,  5.43s/it]"
     ]
    },
    {
     "name": "stdout",
     "output_type": "stream",
     "text": [
      "Early stopping, best iteration is:\n",
      "[84]\ttrain's fair: 0.153099\tvalid's fair: 0.152614\n"
     ]
    },
    {
     "name": "stderr",
     "output_type": "stream",
     "text": [
      "\n",
      "\u001b[32m[I 2021-08-31 15:44:25,693]\u001b[0m A new study created in memory with name: no-name-c2430290-2351-43c8-ab4a-d6304456578a\u001b[0m\n",
      "feature_fraction, val_score: inf:   0%|          | 0/7 [00:00<?, ?it/s]"
     ]
    },
    {
     "name": "stdout",
     "output_type": "stream",
     "text": [
      "6 0.7147427909593568\n",
      "Training until validation scores don't improve for 300 rounds\n"
     ]
    },
    {
     "name": "stderr",
     "output_type": "stream",
     "text": [
      "feature_fraction, val_score: 0.153800:  14%|#4        | 1/7 [00:04<00:25,  4.19s/it]\u001b[32m[I 2021-08-31 15:44:29,892]\u001b[0m Trial 0 finished with value: 0.15380040383314006 and parameters: {'feature_fraction': 0.5}. Best is trial 0 with value: 0.15380040383314006.\u001b[0m\n",
      "feature_fraction, val_score: 0.153800:  14%|#4        | 1/7 [00:04<00:25,  4.19s/it]"
     ]
    },
    {
     "name": "stdout",
     "output_type": "stream",
     "text": [
      "Early stopping, best iteration is:\n",
      "[28]\ttrain's fair: 0.152962\tvalid's fair: 0.1538\n",
      "Training until validation scores don't improve for 300 rounds\n"
     ]
    },
    {
     "name": "stderr",
     "output_type": "stream",
     "text": [
      "feature_fraction, val_score: 0.153737:  29%|##8       | 2/7 [00:08<00:21,  4.32s/it]\u001b[32m[I 2021-08-31 15:44:34,308]\u001b[0m Trial 1 finished with value: 0.15373729131734448 and parameters: {'feature_fraction': 1.0}. Best is trial 1 with value: 0.15373729131734448.\u001b[0m\n",
      "feature_fraction, val_score: 0.153737:  29%|##8       | 2/7 [00:08<00:21,  4.32s/it]"
     ]
    },
    {
     "name": "stdout",
     "output_type": "stream",
     "text": [
      "Early stopping, best iteration is:\n",
      "[30]\ttrain's fair: 0.152835\tvalid's fair: 0.153737\n",
      "Training until validation scores don't improve for 300 rounds\n"
     ]
    },
    {
     "name": "stderr",
     "output_type": "stream",
     "text": [
      "feature_fraction, val_score: 0.153737:  43%|####2     | 3/7 [00:14<00:21,  5.26s/it]\u001b[32m[I 2021-08-31 15:44:40,681]\u001b[0m Trial 2 finished with value: 0.15377933562372012 and parameters: {'feature_fraction': 0.4}. Best is trial 1 with value: 0.15373729131734448.\u001b[0m\n",
      "feature_fraction, val_score: 0.153737:  43%|####2     | 3/7 [00:14<00:21,  5.26s/it]"
     ]
    },
    {
     "name": "stdout",
     "output_type": "stream",
     "text": [
      "Early stopping, best iteration is:\n",
      "[33]\ttrain's fair: 0.153105\tvalid's fair: 0.153779\n",
      "Training until validation scores don't improve for 300 rounds\n"
     ]
    },
    {
     "name": "stderr",
     "output_type": "stream",
     "text": [
      "feature_fraction, val_score: 0.153737:  57%|#####7    | 4/7 [00:19<00:15,  5.14s/it]\u001b[32m[I 2021-08-31 15:44:45,627]\u001b[0m Trial 3 finished with value: 0.1538004038331401 and parameters: {'feature_fraction': 0.7}. Best is trial 1 with value: 0.15373729131734448.\u001b[0m\n",
      "feature_fraction, val_score: 0.153737:  57%|#####7    | 4/7 [00:19<00:15,  5.14s/it]"
     ]
    },
    {
     "name": "stdout",
     "output_type": "stream",
     "text": [
      "Early stopping, best iteration is:\n",
      "[28]\ttrain's fair: 0.152962\tvalid's fair: 0.1538\n",
      "Training until validation scores don't improve for 300 rounds\n"
     ]
    },
    {
     "name": "stderr",
     "output_type": "stream",
     "text": [
      "feature_fraction, val_score: 0.153737:  71%|#######1  | 5/7 [00:24<00:09,  4.82s/it]\u001b[32m[I 2021-08-31 15:44:49,882]\u001b[0m Trial 4 finished with value: 0.1537372913173445 and parameters: {'feature_fraction': 0.8999999999999999}. Best is trial 1 with value: 0.15373729131734448.\u001b[0m\n",
      "feature_fraction, val_score: 0.153737:  71%|#######1  | 5/7 [00:24<00:09,  4.82s/it]"
     ]
    },
    {
     "name": "stdout",
     "output_type": "stream",
     "text": [
      "Early stopping, best iteration is:\n",
      "[30]\ttrain's fair: 0.152835\tvalid's fair: 0.153737\n",
      "Training until validation scores don't improve for 300 rounds\n"
     ]
    },
    {
     "name": "stderr",
     "output_type": "stream",
     "text": [
      "feature_fraction, val_score: 0.153737:  86%|########5 | 6/7 [00:28<00:04,  4.71s/it]\u001b[32m[I 2021-08-31 15:44:54,392]\u001b[0m Trial 5 finished with value: 0.1538004038331401 and parameters: {'feature_fraction': 0.6}. Best is trial 1 with value: 0.15373729131734448.\u001b[0m\n",
      "feature_fraction, val_score: 0.153737:  86%|########5 | 6/7 [00:28<00:04,  4.71s/it]"
     ]
    },
    {
     "name": "stdout",
     "output_type": "stream",
     "text": [
      "Early stopping, best iteration is:\n",
      "[28]\ttrain's fair: 0.152962\tvalid's fair: 0.1538\n",
      "Training until validation scores don't improve for 300 rounds\n"
     ]
    },
    {
     "name": "stderr",
     "output_type": "stream",
     "text": [
      "feature_fraction, val_score: 0.153737: 100%|##########| 7/7 [00:33<00:00,  4.85s/it]\u001b[32m[I 2021-08-31 15:44:59,520]\u001b[0m Trial 6 finished with value: 0.1538004038331401 and parameters: {'feature_fraction': 0.8}. Best is trial 1 with value: 0.15373729131734448.\u001b[0m\n",
      "feature_fraction, val_score: 0.153737: 100%|##########| 7/7 [00:33<00:00,  4.83s/it]\n",
      "num_leaves, val_score: 0.153737:   0%|          | 0/20 [00:00<?, ?it/s]"
     ]
    },
    {
     "name": "stdout",
     "output_type": "stream",
     "text": [
      "Early stopping, best iteration is:\n",
      "[28]\ttrain's fair: 0.152962\tvalid's fair: 0.1538\n",
      "Training until validation scores don't improve for 300 rounds\n"
     ]
    },
    {
     "name": "stderr",
     "output_type": "stream",
     "text": [
      "num_leaves, val_score: 0.153737:   5%|5         | 1/20 [00:04<01:27,  4.61s/it]\u001b[32m[I 2021-08-31 15:45:04,135]\u001b[0m Trial 7 finished with value: 0.1537669631832275 and parameters: {'num_leaves': 43}. Best is trial 7 with value: 0.1537669631832275.\u001b[0m\n",
      "num_leaves, val_score: 0.153737:   5%|5         | 1/20 [00:04<01:27,  4.61s/it]"
     ]
    },
    {
     "name": "stdout",
     "output_type": "stream",
     "text": [
      "Early stopping, best iteration is:\n",
      "[25]\ttrain's fair: 0.152803\tvalid's fair: 0.153767\n",
      "Training until validation scores don't improve for 300 rounds\n"
     ]
    },
    {
     "name": "stderr",
     "output_type": "stream",
     "text": [
      "num_leaves, val_score: 0.153737:  10%|#         | 2/20 [00:10<01:33,  5.19s/it]\u001b[32m[I 2021-08-31 15:45:09,740]\u001b[0m Trial 8 finished with value: 0.15385773287137872 and parameters: {'num_leaves': 107}. Best is trial 7 with value: 0.1537669631832275.\u001b[0m\n",
      "num_leaves, val_score: 0.153737:  10%|#         | 2/20 [00:10<01:33,  5.19s/it]"
     ]
    },
    {
     "name": "stdout",
     "output_type": "stream",
     "text": [
      "Early stopping, best iteration is:\n",
      "[26]\ttrain's fair: 0.152209\tvalid's fair: 0.153858\n",
      "Training until validation scores don't improve for 300 rounds\n"
     ]
    },
    {
     "name": "stderr",
     "output_type": "stream",
     "text": [
      "num_leaves, val_score: 0.153737:  15%|#5        | 3/20 [00:18<01:52,  6.60s/it]\u001b[32m[I 2021-08-31 15:45:18,016]\u001b[0m Trial 9 finished with value: 0.15392581436780742 and parameters: {'num_leaves': 217}. Best is trial 7 with value: 0.1537669631832275.\u001b[0m\n",
      "num_leaves, val_score: 0.153737:  15%|#5        | 3/20 [00:18<01:52,  6.60s/it]"
     ]
    },
    {
     "name": "stdout",
     "output_type": "stream",
     "text": [
      "Early stopping, best iteration is:\n",
      "[25]\ttrain's fair: 0.1514\tvalid's fair: 0.153926\n",
      "Training until validation scores don't improve for 300 rounds\n"
     ]
    },
    {
     "name": "stderr",
     "output_type": "stream",
     "text": [
      "num_leaves, val_score: 0.153737:  20%|##        | 4/20 [00:25<01:49,  6.85s/it]\u001b[32m[I 2021-08-31 15:45:25,249]\u001b[0m Trial 10 finished with value: 0.15390883355636154 and parameters: {'num_leaves': 199}. Best is trial 7 with value: 0.1537669631832275.\u001b[0m\n",
      "num_leaves, val_score: 0.153737:  20%|##        | 4/20 [00:25<01:49,  6.85s/it]"
     ]
    },
    {
     "name": "stdout",
     "output_type": "stream",
     "text": [
      "Early stopping, best iteration is:\n",
      "[26]\ttrain's fair: 0.151463\tvalid's fair: 0.153909\n",
      "Training until validation scores don't improve for 300 rounds\n"
     ]
    },
    {
     "name": "stderr",
     "output_type": "stream",
     "text": [
      "num_leaves, val_score: 0.153737:  25%|##5       | 5/20 [00:33<01:48,  7.21s/it]\u001b[32m[I 2021-08-31 15:45:33,103]\u001b[0m Trial 11 finished with value: 0.15384861461627794 and parameters: {'num_leaves': 164}. Best is trial 7 with value: 0.1537669631832275.\u001b[0m\n",
      "num_leaves, val_score: 0.153737:  25%|##5       | 5/20 [00:33<01:48,  7.21s/it]"
     ]
    },
    {
     "name": "stdout",
     "output_type": "stream",
     "text": [
      "Early stopping, best iteration is:\n",
      "[27]\ttrain's fair: 0.151684\tvalid's fair: 0.153849\n",
      "Training until validation scores don't improve for 300 rounds\n"
     ]
    },
    {
     "name": "stderr",
     "output_type": "stream",
     "text": [
      "num_leaves, val_score: 0.153716:  30%|###       | 6/20 [00:37<01:25,  6.08s/it]\u001b[32m[I 2021-08-31 15:45:36,994]\u001b[0m Trial 12 finished with value: 0.1537159805390777 and parameters: {'num_leaves': 12}. Best is trial 12 with value: 0.1537159805390777.\u001b[0m\n",
      "num_leaves, val_score: 0.153716:  30%|###       | 6/20 [00:37<01:25,  6.08s/it]"
     ]
    },
    {
     "name": "stdout",
     "output_type": "stream",
     "text": [
      "Early stopping, best iteration is:\n",
      "[32]\ttrain's fair: 0.153023\tvalid's fair: 0.153716\n",
      "Training until validation scores don't improve for 300 rounds\n"
     ]
    },
    {
     "name": "stderr",
     "output_type": "stream",
     "text": [
      "num_leaves, val_score: 0.153716:  35%|###5      | 7/20 [00:42<01:15,  5.81s/it]\u001b[32m[I 2021-08-31 15:45:42,237]\u001b[0m Trial 13 finished with value: 0.1538020755467201 and parameters: {'num_leaves': 78}. Best is trial 12 with value: 0.1537159805390777.\u001b[0m\n",
      "num_leaves, val_score: 0.153716:  35%|###5      | 7/20 [00:42<01:15,  5.81s/it]"
     ]
    },
    {
     "name": "stdout",
     "output_type": "stream",
     "text": [
      "Early stopping, best iteration is:\n",
      "[29]\ttrain's fair: 0.152362\tvalid's fair: 0.153802\n",
      "Training until validation scores don't improve for 300 rounds\n"
     ]
    },
    {
     "name": "stderr",
     "output_type": "stream",
     "text": [
      "num_leaves, val_score: 0.153716:  40%|####      | 8/20 [00:49<01:13,  6.11s/it]\u001b[32m[I 2021-08-31 15:45:49,004]\u001b[0m Trial 14 finished with value: 0.15385520089937532 and parameters: {'num_leaves': 129}. Best is trial 12 with value: 0.1537159805390777.\u001b[0m\n",
      "num_leaves, val_score: 0.153716:  40%|####      | 8/20 [00:49<01:13,  6.11s/it]"
     ]
    },
    {
     "name": "stdout",
     "output_type": "stream",
     "text": [
      "Early stopping, best iteration is:\n",
      "[25]\ttrain's fair: 0.15206\tvalid's fair: 0.153855\n",
      "Training until validation scores don't improve for 300 rounds\n"
     ]
    },
    {
     "name": "stderr",
     "output_type": "stream",
     "text": [
      "num_leaves, val_score: 0.153716:  45%|####5     | 9/20 [00:56<01:09,  6.34s/it]\u001b[32m[I 2021-08-31 15:45:55,837]\u001b[0m Trial 15 finished with value: 0.1539369932008039 and parameters: {'num_leaves': 192}. Best is trial 12 with value: 0.1537159805390777.\u001b[0m\n",
      "num_leaves, val_score: 0.153716:  45%|####5     | 9/20 [00:56<01:09,  6.34s/it]"
     ]
    },
    {
     "name": "stdout",
     "output_type": "stream",
     "text": [
      "Early stopping, best iteration is:\n",
      "[25]\ttrain's fair: 0.15156\tvalid's fair: 0.153937\n",
      "Training until validation scores don't improve for 300 rounds\n"
     ]
    },
    {
     "name": "stderr",
     "output_type": "stream",
     "text": [
      "num_leaves, val_score: 0.153716:  50%|#####     | 10/20 [01:00<00:57,  5.79s/it]\u001b[32m[I 2021-08-31 15:46:00,402]\u001b[0m Trial 16 finished with value: 0.1537669631832275 and parameters: {'num_leaves': 43}. Best is trial 12 with value: 0.1537159805390777.\u001b[0m\n",
      "num_leaves, val_score: 0.153716:  50%|#####     | 10/20 [01:00<00:57,  5.79s/it]"
     ]
    },
    {
     "name": "stdout",
     "output_type": "stream",
     "text": [
      "Early stopping, best iteration is:\n",
      "[25]\ttrain's fair: 0.152803\tvalid's fair: 0.153767\n",
      "Training until validation scores don't improve for 300 rounds\n"
     ]
    },
    {
     "name": "stderr",
     "output_type": "stream",
     "text": [
      "num_leaves, val_score: 0.153701:  55%|#####5    | 11/20 [01:05<00:48,  5.35s/it]\u001b[32m[I 2021-08-31 15:46:04,751]\u001b[0m Trial 17 finished with value: 0.15370121932242461 and parameters: {'num_leaves': 5}. Best is trial 17 with value: 0.15370121932242461.\u001b[0m\n",
      "num_leaves, val_score: 0.153701:  55%|#####5    | 11/20 [01:05<00:48,  5.35s/it]"
     ]
    },
    {
     "name": "stdout",
     "output_type": "stream",
     "text": [
      "Early stopping, best iteration is:\n",
      "[41]\ttrain's fair: 0.153069\tvalid's fair: 0.153701\n",
      "Training until validation scores don't improve for 300 rounds\n"
     ]
    },
    {
     "name": "stderr",
     "output_type": "stream",
     "text": [
      "num_leaves, val_score: 0.153701:  60%|######    | 12/20 [01:08<00:38,  4.84s/it]\u001b[32m[I 2021-08-31 15:46:08,420]\u001b[0m Trial 18 finished with value: 0.15371149817979715 and parameters: {'num_leaves': 13}. Best is trial 17 with value: 0.15370121932242461.\u001b[0m\n",
      "num_leaves, val_score: 0.153701:  60%|######    | 12/20 [01:08<00:38,  4.84s/it]"
     ]
    },
    {
     "name": "stdout",
     "output_type": "stream",
     "text": [
      "Early stopping, best iteration is:\n",
      "[31]\ttrain's fair: 0.153018\tvalid's fair: 0.153711\n",
      "Training until validation scores don't improve for 300 rounds\n"
     ]
    },
    {
     "name": "stderr",
     "output_type": "stream",
     "text": [
      "num_leaves, val_score: 0.153701:  65%|######5   | 13/20 [01:12<00:30,  4.40s/it]\u001b[32m[I 2021-08-31 15:46:11,796]\u001b[0m Trial 19 finished with value: 0.1537084385407725 and parameters: {'num_leaves': 4}. Best is trial 17 with value: 0.15370121932242461.\u001b[0m\n",
      "num_leaves, val_score: 0.153701:  65%|######5   | 13/20 [01:12<00:30,  4.40s/it]"
     ]
    },
    {
     "name": "stdout",
     "output_type": "stream",
     "text": [
      "Early stopping, best iteration is:\n",
      "[43]\ttrain's fair: 0.153077\tvalid's fair: 0.153708\n",
      "Training until validation scores don't improve for 300 rounds\n"
     ]
    },
    {
     "name": "stderr",
     "output_type": "stream",
     "text": [
      "num_leaves, val_score: 0.153701:  70%|#######   | 14/20 [01:16<00:26,  4.49s/it]\u001b[32m[I 2021-08-31 15:46:16,502]\u001b[0m Trial 20 finished with value: 0.15376941151325937 and parameters: {'num_leaves': 54}. Best is trial 17 with value: 0.15370121932242461.\u001b[0m\n",
      "num_leaves, val_score: 0.153701:  70%|#######   | 14/20 [01:16<00:26,  4.49s/it]"
     ]
    },
    {
     "name": "stdout",
     "output_type": "stream",
     "text": [
      "Early stopping, best iteration is:\n",
      "[26]\ttrain's fair: 0.152676\tvalid's fair: 0.153769\n",
      "Training until validation scores don't improve for 300 rounds\n",
      "[500]\ttrain's fair: 0.153073\tvalid's fair: 0.153699\n"
     ]
    },
    {
     "name": "stderr",
     "output_type": "stream",
     "text": [
      "num_leaves, val_score: 0.153698:  75%|#######5  | 15/20 [01:22<00:23,  4.71s/it]\u001b[32m[I 2021-08-31 15:46:21,718]\u001b[0m Trial 21 finished with value: 0.15369806449555015 and parameters: {'num_leaves': 2}. Best is trial 21 with value: 0.15369806449555015.\u001b[0m\n",
      "num_leaves, val_score: 0.153698:  75%|#######5  | 15/20 [01:22<00:23,  4.71s/it]"
     ]
    },
    {
     "name": "stdout",
     "output_type": "stream",
     "text": [
      "Early stopping, best iteration is:\n",
      "[235]\ttrain's fair: 0.153078\tvalid's fair: 0.153698\n",
      "Training until validation scores don't improve for 300 rounds\n"
     ]
    },
    {
     "name": "stderr",
     "output_type": "stream",
     "text": [
      "num_leaves, val_score: 0.153698:  80%|########  | 16/20 [01:25<00:17,  4.27s/it]\u001b[32m[I 2021-08-31 15:46:24,977]\u001b[0m Trial 22 finished with value: 0.1537084385407725 and parameters: {'num_leaves': 4}. Best is trial 21 with value: 0.15369806449555015.\u001b[0m\n",
      "num_leaves, val_score: 0.153698:  80%|########  | 16/20 [01:25<00:17,  4.27s/it]"
     ]
    },
    {
     "name": "stdout",
     "output_type": "stream",
     "text": [
      "Early stopping, best iteration is:\n",
      "[43]\ttrain's fair: 0.153077\tvalid's fair: 0.153708\n",
      "Training until validation scores don't improve for 300 rounds\n"
     ]
    },
    {
     "name": "stderr",
     "output_type": "stream",
     "text": [
      "num_leaves, val_score: 0.153698:  85%|########5 | 17/20 [01:33<00:16,  5.36s/it]\u001b[32m[I 2021-08-31 15:46:32,865]\u001b[0m Trial 23 finished with value: 0.1540348820720814 and parameters: {'num_leaves': 254}. Best is trial 21 with value: 0.15369806449555015.\u001b[0m\n",
      "num_leaves, val_score: 0.153698:  85%|########5 | 17/20 [01:33<00:16,  5.36s/it]"
     ]
    },
    {
     "name": "stdout",
     "output_type": "stream",
     "text": [
      "Early stopping, best iteration is:\n",
      "[22]\ttrain's fair: 0.151375\tvalid's fair: 0.154035\n",
      "Training until validation scores don't improve for 300 rounds\n"
     ]
    },
    {
     "name": "stderr",
     "output_type": "stream",
     "text": [
      "num_leaves, val_score: 0.153698:  90%|######### | 18/20 [01:39<00:11,  5.61s/it]\u001b[32m[I 2021-08-31 15:46:39,050]\u001b[0m Trial 24 finished with value: 0.15381563024341532 and parameters: {'num_leaves': 80}. Best is trial 21 with value: 0.15369806449555015.\u001b[0m\n",
      "num_leaves, val_score: 0.153698:  90%|######### | 18/20 [01:39<00:11,  5.61s/it]"
     ]
    },
    {
     "name": "stdout",
     "output_type": "stream",
     "text": [
      "Early stopping, best iteration is:\n",
      "[28]\ttrain's fair: 0.152367\tvalid's fair: 0.153816\n",
      "Training until validation scores don't improve for 300 rounds\n"
     ]
    },
    {
     "name": "stderr",
     "output_type": "stream",
     "text": [
      "num_leaves, val_score: 0.153698:  95%|#########5| 19/20 [01:43<00:05,  5.19s/it]\u001b[32m[I 2021-08-31 15:46:43,281]\u001b[0m Trial 25 finished with value: 0.1537236339415492 and parameters: {'num_leaves': 29}. Best is trial 21 with value: 0.15369806449555015.\u001b[0m\n",
      "num_leaves, val_score: 0.153698:  95%|#########5| 19/20 [01:43<00:05,  5.19s/it]"
     ]
    },
    {
     "name": "stdout",
     "output_type": "stream",
     "text": [
      "Early stopping, best iteration is:\n",
      "[27]\ttrain's fair: 0.1529\tvalid's fair: 0.153724\n",
      "Training until validation scores don't improve for 300 rounds\n"
     ]
    },
    {
     "name": "stderr",
     "output_type": "stream",
     "text": [
      "num_leaves, val_score: 0.153698: 100%|##########| 20/20 [01:48<00:00,  5.11s/it]\u001b[32m[I 2021-08-31 15:46:48,197]\u001b[0m Trial 26 finished with value: 0.15382028827754438 and parameters: {'num_leaves': 69}. Best is trial 21 with value: 0.15369806449555015.\u001b[0m\n",
      "num_leaves, val_score: 0.153698: 100%|##########| 20/20 [01:48<00:00,  5.43s/it]\n",
      "bagging, val_score: 0.153698:   0%|          | 0/10 [00:00<?, ?it/s]"
     ]
    },
    {
     "name": "stdout",
     "output_type": "stream",
     "text": [
      "Early stopping, best iteration is:\n",
      "[26]\ttrain's fair: 0.152533\tvalid's fair: 0.15382\n",
      "Training until validation scores don't improve for 300 rounds\n"
     ]
    },
    {
     "name": "stderr",
     "output_type": "stream",
     "text": [
      "bagging, val_score: 0.153698:  10%|#         | 1/10 [00:04<00:37,  4.13s/it]\u001b[32m[I 2021-08-31 15:46:52,333]\u001b[0m Trial 27 finished with value: 0.15370191490623142 and parameters: {'bagging_fraction': 0.5283468690860389, 'bagging_freq': 5}. Best is trial 27 with value: 0.15370191490623142.\u001b[0m\n",
      "bagging, val_score: 0.153698:  10%|#         | 1/10 [00:04<00:37,  4.13s/it]"
     ]
    },
    {
     "name": "stdout",
     "output_type": "stream",
     "text": [
      "Early stopping, best iteration is:\n",
      "[175]\ttrain's fair: 0.153082\tvalid's fair: 0.153702\n",
      "Training until validation scores don't improve for 300 rounds\n"
     ]
    },
    {
     "name": "stderr",
     "output_type": "stream",
     "text": [
      "bagging, val_score: 0.153698:  20%|##        | 2/10 [00:09<00:39,  4.94s/it]\u001b[32m[I 2021-08-31 15:46:57,846]\u001b[0m Trial 28 finished with value: 0.15371570155997868 and parameters: {'bagging_fraction': 0.6847718206040068, 'bagging_freq': 2}. Best is trial 27 with value: 0.15370191490623142.\u001b[0m\n",
      "bagging, val_score: 0.153698:  20%|##        | 2/10 [00:09<00:39,  4.94s/it]"
     ]
    },
    {
     "name": "stdout",
     "output_type": "stream",
     "text": [
      "Early stopping, best iteration is:\n",
      "[178]\ttrain's fair: 0.153082\tvalid's fair: 0.153716\n",
      "Training until validation scores don't improve for 300 rounds\n"
     ]
    },
    {
     "name": "stderr",
     "output_type": "stream",
     "text": [
      "bagging, val_score: 0.153695:  30%|###       | 3/10 [00:13<00:31,  4.48s/it]\u001b[32m[I 2021-08-31 15:47:01,771]\u001b[0m Trial 29 finished with value: 0.15369526308211562 and parameters: {'bagging_fraction': 0.5260589115790493, 'bagging_freq': 4}. Best is trial 29 with value: 0.15369526308211562.\u001b[0m\n",
      "bagging, val_score: 0.153695:  30%|###       | 3/10 [00:13<00:31,  4.48s/it]"
     ]
    },
    {
     "name": "stdout",
     "output_type": "stream",
     "text": [
      "Early stopping, best iteration is:\n",
      "[140]\ttrain's fair: 0.153088\tvalid's fair: 0.153695\n",
      "Training until validation scores don't improve for 300 rounds\n"
     ]
    },
    {
     "name": "stderr",
     "output_type": "stream",
     "text": [
      "bagging, val_score: 0.153695:  40%|####      | 4/10 [00:18<00:27,  4.59s/it]\u001b[32m[I 2021-08-31 15:47:06,523]\u001b[0m Trial 30 finished with value: 0.15371376406313508 and parameters: {'bagging_fraction': 0.7107599725704554, 'bagging_freq': 6}. Best is trial 29 with value: 0.15369526308211562.\u001b[0m\n",
      "bagging, val_score: 0.153695:  40%|####      | 4/10 [00:18<00:27,  4.59s/it]"
     ]
    },
    {
     "name": "stdout",
     "output_type": "stream",
     "text": [
      "[500]\ttrain's fair: 0.153082\tvalid's fair: 0.153728\n",
      "Early stopping, best iteration is:\n",
      "[216]\ttrain's fair: 0.153086\tvalid's fair: 0.153714\n",
      "Training until validation scores don't improve for 300 rounds\n",
      "[500]\ttrain's fair: 0.153068\tvalid's fair: 0.153718\n"
     ]
    },
    {
     "name": "stderr",
     "output_type": "stream",
     "text": [
      "bagging, val_score: 0.153695:  50%|#####     | 5/10 [00:24<00:26,  5.25s/it]\u001b[32m[I 2021-08-31 15:47:12,963]\u001b[0m Trial 31 finished with value: 0.15371242279070818 and parameters: {'bagging_fraction': 0.8911517663364199, 'bagging_freq': 3}. Best is trial 29 with value: 0.15369526308211562.\u001b[0m\n",
      "bagging, val_score: 0.153695:  50%|#####     | 5/10 [00:24<00:26,  5.25s/it]"
     ]
    },
    {
     "name": "stdout",
     "output_type": "stream",
     "text": [
      "Early stopping, best iteration is:\n",
      "[276]\ttrain's fair: 0.153075\tvalid's fair: 0.153712\n",
      "Training until validation scores don't improve for 300 rounds\n",
      "[500]\ttrain's fair: 0.153073\tvalid's fair: 0.153721\n"
     ]
    },
    {
     "name": "stderr",
     "output_type": "stream",
     "text": [
      "bagging, val_score: 0.153695:  60%|######    | 6/10 [00:33<00:25,  6.39s/it]\u001b[32m[I 2021-08-31 15:47:21,564]\u001b[0m Trial 32 finished with value: 0.15371132174901697 and parameters: {'bagging_fraction': 0.9127301156719607, 'bagging_freq': 7}. Best is trial 29 with value: 0.15369526308211562.\u001b[0m\n",
      "bagging, val_score: 0.153695:  60%|######    | 6/10 [00:33<00:25,  6.39s/it]"
     ]
    },
    {
     "name": "stdout",
     "output_type": "stream",
     "text": [
      "Early stopping, best iteration is:\n",
      "[644]\ttrain's fair: 0.153066\tvalid's fair: 0.153711\n",
      "Training until validation scores don't improve for 300 rounds\n",
      "[500]\ttrain's fair: 0.153086\tvalid's fair: 0.153751\n"
     ]
    },
    {
     "name": "stderr",
     "output_type": "stream",
     "text": [
      "bagging, val_score: 0.153695:  70%|#######   | 7/10 [00:40<00:20,  6.72s/it]\u001b[32m[I 2021-08-31 15:47:28,956]\u001b[0m Trial 33 finished with value: 0.15373293005911204 and parameters: {'bagging_fraction': 0.6838706732336446, 'bagging_freq': 5}. Best is trial 29 with value: 0.15369526308211562.\u001b[0m\n",
      "bagging, val_score: 0.153695:  70%|#######   | 7/10 [00:40<00:20,  6.72s/it]"
     ]
    },
    {
     "name": "stdout",
     "output_type": "stream",
     "text": [
      "Early stopping, best iteration is:\n",
      "[445]\ttrain's fair: 0.15307\tvalid's fair: 0.153733\n",
      "Training until validation scores don't improve for 300 rounds\n",
      "[500]\ttrain's fair: 0.153065\tvalid's fair: 0.153719\n"
     ]
    },
    {
     "name": "stderr",
     "output_type": "stream",
     "text": [
      "bagging, val_score: 0.153695:  80%|########  | 8/10 [00:46<00:12,  6.48s/it]\u001b[32m[I 2021-08-31 15:47:34,929]\u001b[0m Trial 34 finished with value: 0.1537063630229134 and parameters: {'bagging_fraction': 0.4859378608893766, 'bagging_freq': 1}. Best is trial 29 with value: 0.15369526308211562.\u001b[0m\n",
      "bagging, val_score: 0.153695:  80%|########  | 8/10 [00:46<00:12,  6.48s/it]"
     ]
    },
    {
     "name": "stdout",
     "output_type": "stream",
     "text": [
      "Early stopping, best iteration is:\n",
      "[275]\ttrain's fair: 0.153074\tvalid's fair: 0.153706\n",
      "Training until validation scores don't improve for 300 rounds\n",
      "[500]\ttrain's fair: 0.153071\tvalid's fair: 0.153715\n"
     ]
    },
    {
     "name": "stderr",
     "output_type": "stream",
     "text": [
      "bagging, val_score: 0.153695:  90%|######### | 9/10 [00:54<00:07,  7.04s/it]\u001b[32m[I 2021-08-31 15:47:43,194]\u001b[0m Trial 35 finished with value: 0.15371181767942987 and parameters: {'bagging_fraction': 0.9600501154966455, 'bagging_freq': 5}. Best is trial 29 with value: 0.15369526308211562.\u001b[0m\n",
      "bagging, val_score: 0.153695:  90%|######### | 9/10 [00:54<00:07,  7.04s/it]"
     ]
    },
    {
     "name": "stdout",
     "output_type": "stream",
     "text": [
      "Early stopping, best iteration is:\n",
      "[475]\ttrain's fair: 0.153069\tvalid's fair: 0.153712\n",
      "Training until validation scores don't improve for 300 rounds\n"
     ]
    },
    {
     "name": "stderr",
     "output_type": "stream",
     "text": [
      "bagging, val_score: 0.153695: 100%|##########| 10/10 [00:59<00:00,  6.28s/it]\u001b[32m[I 2021-08-31 15:47:47,772]\u001b[0m Trial 36 finished with value: 0.15371313293706573 and parameters: {'bagging_fraction': 0.8292050632728805, 'bagging_freq': 3}. Best is trial 29 with value: 0.15369526308211562.\u001b[0m\n",
      "bagging, val_score: 0.153695: 100%|##########| 10/10 [00:59<00:00,  5.96s/it]\n",
      "feature_fraction_stage2, val_score: 0.153695:   0%|          | 0/3 [00:00<?, ?it/s]"
     ]
    },
    {
     "name": "stdout",
     "output_type": "stream",
     "text": [
      "Early stopping, best iteration is:\n",
      "[171]\ttrain's fair: 0.15308\tvalid's fair: 0.153713\n",
      "Training until validation scores don't improve for 300 rounds\n"
     ]
    },
    {
     "name": "stderr",
     "output_type": "stream",
     "text": [
      "feature_fraction_stage2, val_score: 0.153695:  33%|###3      | 1/3 [00:04<00:08,  4.02s/it]\u001b[32m[I 2021-08-31 15:47:51,802]\u001b[0m Trial 37 finished with value: 0.15369526308211562 and parameters: {'feature_fraction': 0.92}. Best is trial 37 with value: 0.15369526308211562.\u001b[0m\n",
      "feature_fraction_stage2, val_score: 0.153695:  33%|###3      | 1/3 [00:04<00:08,  4.02s/it]"
     ]
    },
    {
     "name": "stdout",
     "output_type": "stream",
     "text": [
      "Early stopping, best iteration is:\n",
      "[140]\ttrain's fair: 0.153088\tvalid's fair: 0.153695\n",
      "Training until validation scores don't improve for 300 rounds\n"
     ]
    },
    {
     "name": "stderr",
     "output_type": "stream",
     "text": [
      "feature_fraction_stage2, val_score: 0.153695:  67%|######6   | 2/3 [00:07<00:03,  3.97s/it]\u001b[32m[I 2021-08-31 15:47:55,733]\u001b[0m Trial 38 finished with value: 0.15369526308211562 and parameters: {'feature_fraction': 0.9840000000000001}. Best is trial 37 with value: 0.15369526308211562.\u001b[0m\n",
      "feature_fraction_stage2, val_score: 0.153695:  67%|######6   | 2/3 [00:07<00:03,  3.97s/it]"
     ]
    },
    {
     "name": "stdout",
     "output_type": "stream",
     "text": [
      "Early stopping, best iteration is:\n",
      "[140]\ttrain's fair: 0.153088\tvalid's fair: 0.153695\n",
      "Training until validation scores don't improve for 300 rounds\n"
     ]
    },
    {
     "name": "stderr",
     "output_type": "stream",
     "text": [
      "feature_fraction_stage2, val_score: 0.153695: 100%|##########| 3/3 [00:12<00:00,  4.33s/it]\u001b[32m[I 2021-08-31 15:48:00,483]\u001b[0m Trial 39 finished with value: 0.15369526308211565 and parameters: {'feature_fraction': 0.9520000000000001}. Best is trial 37 with value: 0.15369526308211562.\u001b[0m\n",
      "feature_fraction_stage2, val_score: 0.153695: 100%|##########| 3/3 [00:12<00:00,  4.24s/it]\n",
      "regularization_factors, val_score: 0.153695:   0%|          | 0/20 [00:00<?, ?it/s]"
     ]
    },
    {
     "name": "stdout",
     "output_type": "stream",
     "text": [
      "Early stopping, best iteration is:\n",
      "[140]\ttrain's fair: 0.153088\tvalid's fair: 0.153695\n",
      "Training until validation scores don't improve for 300 rounds\n"
     ]
    },
    {
     "name": "stderr",
     "output_type": "stream",
     "text": [
      "regularization_factors, val_score: 0.153695:   5%|5         | 1/20 [00:03<01:13,  3.88s/it]\u001b[32m[I 2021-08-31 15:48:04,370]\u001b[0m Trial 40 finished with value: 0.15369526309607504 and parameters: {'lambda_l1': 8.568287209777802e-05, 'lambda_l2': 3.0539216145675273e-06}. Best is trial 40 with value: 0.15369526309607504.\u001b[0m\n",
      "regularization_factors, val_score: 0.153695:   5%|5         | 1/20 [00:03<01:13,  3.88s/it]"
     ]
    },
    {
     "name": "stdout",
     "output_type": "stream",
     "text": [
      "Early stopping, best iteration is:\n",
      "[140]\ttrain's fair: 0.153088\tvalid's fair: 0.153695\n",
      "Training until validation scores don't improve for 300 rounds\n"
     ]
    },
    {
     "name": "stderr",
     "output_type": "stream",
     "text": [
      "regularization_factors, val_score: 0.153695:  10%|#         | 2/20 [00:07<01:09,  3.85s/it]\u001b[32m[I 2021-08-31 15:48:08,199]\u001b[0m Trial 41 finished with value: 0.1536952630921155 and parameters: {'lambda_l1': 5.935312507371425e-05, 'lambda_l2': 5.332503818540891e-05}. Best is trial 41 with value: 0.1536952630921155.\u001b[0m\n",
      "regularization_factors, val_score: 0.153695:  10%|#         | 2/20 [00:07<01:09,  3.85s/it]"
     ]
    },
    {
     "name": "stdout",
     "output_type": "stream",
     "text": [
      "Early stopping, best iteration is:\n",
      "[140]\ttrain's fair: 0.153088\tvalid's fair: 0.153695\n",
      "Training until validation scores don't improve for 300 rounds\n"
     ]
    },
    {
     "name": "stderr",
     "output_type": "stream",
     "text": [
      "regularization_factors, val_score: 0.153695:  15%|#5        | 3/20 [00:11<01:06,  3.89s/it]\u001b[32m[I 2021-08-31 15:48:12,137]\u001b[0m Trial 42 finished with value: 0.1536952632358902 and parameters: {'lambda_l1': 1.5957662020864804e-06, 'lambda_l2': 1.9510698799364938}. Best is trial 41 with value: 0.1536952630921155.\u001b[0m\n",
      "regularization_factors, val_score: 0.153695:  15%|#5        | 3/20 [00:11<01:06,  3.89s/it]"
     ]
    },
    {
     "name": "stdout",
     "output_type": "stream",
     "text": [
      "Early stopping, best iteration is:\n",
      "[140]\ttrain's fair: 0.153088\tvalid's fair: 0.153695\n",
      "Training until validation scores don't improve for 300 rounds\n"
     ]
    },
    {
     "name": "stderr",
     "output_type": "stream",
     "text": [
      "regularization_factors, val_score: 0.153695:  20%|##        | 4/20 [00:16<01:08,  4.27s/it]\u001b[32m[I 2021-08-31 15:48:16,994]\u001b[0m Trial 43 finished with value: 0.15369526459677618 and parameters: {'lambda_l1': 0.009148910072043884, 'lambda_l2': 3.783211371163347e-05}. Best is trial 41 with value: 0.1536952630921155.\u001b[0m\n",
      "regularization_factors, val_score: 0.153695:  20%|##        | 4/20 [00:16<01:08,  4.27s/it]"
     ]
    },
    {
     "name": "stdout",
     "output_type": "stream",
     "text": [
      "Early stopping, best iteration is:\n",
      "[140]\ttrain's fair: 0.153088\tvalid's fair: 0.153695\n",
      "Training until validation scores don't improve for 300 rounds\n"
     ]
    },
    {
     "name": "stderr",
     "output_type": "stream",
     "text": [
      "regularization_factors, val_score: 0.153695:  25%|##5       | 5/20 [00:20<01:02,  4.15s/it]\u001b[32m[I 2021-08-31 15:48:20,930]\u001b[0m Trial 44 finished with value: 0.1536952630858852 and parameters: {'lambda_l1': 2.0182865639160766e-05, 'lambda_l2': 0.0002175133748700936}. Best is trial 44 with value: 0.1536952630858852.\u001b[0m\n",
      "regularization_factors, val_score: 0.153695:  25%|##5       | 5/20 [00:20<01:02,  4.15s/it]"
     ]
    },
    {
     "name": "stdout",
     "output_type": "stream",
     "text": [
      "Early stopping, best iteration is:\n",
      "[140]\ttrain's fair: 0.153088\tvalid's fair: 0.153695\n",
      "Training until validation scores don't improve for 300 rounds\n"
     ]
    },
    {
     "name": "stderr",
     "output_type": "stream",
     "text": [
      "regularization_factors, val_score: 0.153695:  30%|###       | 6/20 [00:24<00:57,  4.09s/it]\u001b[32m[I 2021-08-31 15:48:24,917]\u001b[0m Trial 45 finished with value: 0.1536952630853343 and parameters: {'lambda_l1': 1.3519801769087461e-05, 'lambda_l2': 0.000674747830007877}. Best is trial 45 with value: 0.1536952630853343.\u001b[0m\n",
      "regularization_factors, val_score: 0.153695:  30%|###       | 6/20 [00:24<00:57,  4.09s/it]"
     ]
    },
    {
     "name": "stdout",
     "output_type": "stream",
     "text": [
      "Early stopping, best iteration is:\n",
      "[140]\ttrain's fair: 0.153088\tvalid's fair: 0.153695\n",
      "Training until validation scores don't improve for 300 rounds\n"
     ]
    },
    {
     "name": "stderr",
     "output_type": "stream",
     "text": [
      "regularization_factors, val_score: 0.153695:  35%|###5      | 7/20 [00:28<00:52,  4.02s/it]\u001b[32m[I 2021-08-31 15:48:28,788]\u001b[0m Trial 46 finished with value: 0.1536946829743585 and parameters: {'lambda_l1': 0.1639002983546322, 'lambda_l2': 0.0024300369498831916}. Best is trial 46 with value: 0.1536946829743585.\u001b[0m\n",
      "regularization_factors, val_score: 0.153695:  35%|###5      | 7/20 [00:28<00:52,  4.02s/it]"
     ]
    },
    {
     "name": "stdout",
     "output_type": "stream",
     "text": [
      "Early stopping, best iteration is:\n",
      "[140]\ttrain's fair: 0.153089\tvalid's fair: 0.153695\n",
      "Training until validation scores don't improve for 300 rounds\n"
     ]
    },
    {
     "name": "stderr",
     "output_type": "stream",
     "text": [
      "regularization_factors, val_score: 0.153695:  40%|####      | 8/20 [00:33<00:51,  4.30s/it]\u001b[32m[I 2021-08-31 15:48:33,672]\u001b[0m Trial 47 finished with value: 0.15369468728272748 and parameters: {'lambda_l1': 0.1897084605619977, 'lambda_l2': 0.050216899036255404}. Best is trial 46 with value: 0.1536946829743585.\u001b[0m\n",
      "regularization_factors, val_score: 0.153695:  40%|####      | 8/20 [00:33<00:51,  4.30s/it]"
     ]
    },
    {
     "name": "stdout",
     "output_type": "stream",
     "text": [
      "Early stopping, best iteration is:\n",
      "[140]\ttrain's fair: 0.153089\tvalid's fair: 0.153695\n",
      "Training until validation scores don't improve for 300 rounds\n"
     ]
    },
    {
     "name": "stderr",
     "output_type": "stream",
     "text": [
      "regularization_factors, val_score: 0.153695:  45%|####5     | 9/20 [00:37<00:46,  4.20s/it]\u001b[32m[I 2021-08-31 15:48:37,672]\u001b[0m Trial 48 finished with value: 0.15369526310870266 and parameters: {'lambda_l1': 0.00014121542422567665, 'lambda_l2': 0.10789847145373521}. Best is trial 46 with value: 0.1536946829743585.\u001b[0m\n",
      "regularization_factors, val_score: 0.153695:  45%|####5     | 9/20 [00:37<00:46,  4.20s/it]"
     ]
    },
    {
     "name": "stdout",
     "output_type": "stream",
     "text": [
      "Early stopping, best iteration is:\n",
      "[140]\ttrain's fair: 0.153088\tvalid's fair: 0.153695\n",
      "Training until validation scores don't improve for 300 rounds\n"
     ]
    },
    {
     "name": "stderr",
     "output_type": "stream",
     "text": [
      "regularization_factors, val_score: 0.153695:  50%|#####     | 10/20 [00:41<00:41,  4.11s/it]\u001b[32m[I 2021-08-31 15:48:41,588]\u001b[0m Trial 49 finished with value: 0.15369526308232792 and parameters: {'lambda_l1': 1.2029377896744935e-06, 'lambda_l2': 7.317752842522373e-08}. Best is trial 46 with value: 0.1536946829743585.\u001b[0m\n",
      "regularization_factors, val_score: 0.153695:  50%|#####     | 10/20 [00:41<00:41,  4.11s/it]"
     ]
    },
    {
     "name": "stdout",
     "output_type": "stream",
     "text": [
      "Early stopping, best iteration is:\n",
      "[140]\ttrain's fair: 0.153088\tvalid's fair: 0.153695\n",
      "Training until validation scores don't improve for 300 rounds\n"
     ]
    },
    {
     "name": "stderr",
     "output_type": "stream",
     "text": [
      "regularization_factors, val_score: 0.153695:  55%|#####5    | 11/20 [00:45<00:37,  4.13s/it]\u001b[32m[I 2021-08-31 15:48:45,741]\u001b[0m Trial 50 finished with value: 0.15370106127668315 and parameters: {'lambda_l1': 2.378705927175982, 'lambda_l2': 0.03374422799100769}. Best is trial 46 with value: 0.1536946829743585.\u001b[0m\n",
      "regularization_factors, val_score: 0.153695:  55%|#####5    | 11/20 [00:45<00:37,  4.13s/it]"
     ]
    },
    {
     "name": "stdout",
     "output_type": "stream",
     "text": [
      "Early stopping, best iteration is:\n",
      "[140]\ttrain's fair: 0.153092\tvalid's fair: 0.153701\n",
      "Training until validation scores don't improve for 300 rounds\n"
     ]
    },
    {
     "name": "stderr",
     "output_type": "stream",
     "text": [
      "regularization_factors, val_score: 0.153695:  60%|######    | 12/20 [00:50<00:35,  4.46s/it]\u001b[32m[I 2021-08-31 15:48:50,974]\u001b[0m Trial 51 finished with value: 0.1537014825892526 and parameters: {'lambda_l1': 0.3520850672217795, 'lambda_l2': 0.010104837660792626}. Best is trial 46 with value: 0.1536946829743585.\u001b[0m\n",
      "regularization_factors, val_score: 0.153695:  60%|######    | 12/20 [00:50<00:35,  4.46s/it]"
     ]
    },
    {
     "name": "stdout",
     "output_type": "stream",
     "text": [
      "Early stopping, best iteration is:\n",
      "[140]\ttrain's fair: 0.153091\tvalid's fair: 0.153701\n",
      "Training until validation scores don't improve for 300 rounds\n"
     ]
    },
    {
     "name": "stderr",
     "output_type": "stream",
     "text": [
      "regularization_factors, val_score: 0.153695:  65%|######5   | 13/20 [00:54<00:30,  4.34s/it]\u001b[32m[I 2021-08-31 15:48:55,046]\u001b[0m Trial 52 finished with value: 0.1537012297927761 and parameters: {'lambda_l1': 0.05837175729787807, 'lambda_l2': 7.751682419895774}. Best is trial 46 with value: 0.1536946829743585.\u001b[0m\n",
      "regularization_factors, val_score: 0.153695:  65%|######5   | 13/20 [00:54<00:30,  4.34s/it]"
     ]
    },
    {
     "name": "stdout",
     "output_type": "stream",
     "text": [
      "Early stopping, best iteration is:\n",
      "[140]\ttrain's fair: 0.153091\tvalid's fair: 0.153701\n",
      "Training until validation scores don't improve for 300 rounds\n"
     ]
    },
    {
     "name": "stderr",
     "output_type": "stream",
     "text": [
      "regularization_factors, val_score: 0.153695:  70%|#######   | 14/20 [00:58<00:25,  4.22s/it]\u001b[32m[I 2021-08-31 15:48:58,985]\u001b[0m Trial 53 finished with value: 0.153695263083306 and parameters: {'lambda_l1': 1.1860111319084568e-08, 'lambda_l2': 0.0037592734338130597}. Best is trial 46 with value: 0.1536946829743585.\u001b[0m\n",
      "regularization_factors, val_score: 0.153695:  70%|#######   | 14/20 [00:58<00:25,  4.22s/it]"
     ]
    },
    {
     "name": "stdout",
     "output_type": "stream",
     "text": [
      "Early stopping, best iteration is:\n",
      "[140]\ttrain's fair: 0.153088\tvalid's fair: 0.153695\n",
      "Training until validation scores don't improve for 300 rounds\n"
     ]
    },
    {
     "name": "stderr",
     "output_type": "stream",
     "text": [
      "regularization_factors, val_score: 0.153695:  75%|#######5  | 15/20 [01:02<00:20,  4.14s/it]\u001b[32m[I 2021-08-31 15:49:02,943]\u001b[0m Trial 54 finished with value: 0.15369526436426179 and parameters: {'lambda_l1': 0.0076573509829290995, 'lambda_l2': 0.2984349568102781}. Best is trial 46 with value: 0.1536946829743585.\u001b[0m\n",
      "regularization_factors, val_score: 0.153695:  75%|#######5  | 15/20 [01:02<00:20,  4.14s/it]"
     ]
    },
    {
     "name": "stdout",
     "output_type": "stream",
     "text": [
      "Early stopping, best iteration is:\n",
      "[140]\ttrain's fair: 0.153088\tvalid's fair: 0.153695\n",
      "Training until validation scores don't improve for 300 rounds\n",
      "[500]\ttrain's fair: 0.153087\tvalid's fair: 0.153727\n"
     ]
    },
    {
     "name": "stderr",
     "output_type": "stream",
     "text": [
      "regularization_factors, val_score: 0.153695:  80%|########  | 16/20 [01:09<00:19,  4.96s/it]\u001b[32m[I 2021-08-31 15:49:09,786]\u001b[0m Trial 55 finished with value: 0.15370054158067656 and parameters: {'lambda_l1': 6.270163699146009, 'lambda_l2': 0.002536619245601522}. Best is trial 46 with value: 0.1536946829743585.\u001b[0m\n",
      "regularization_factors, val_score: 0.153695:  80%|########  | 16/20 [01:09<00:19,  4.96s/it]"
     ]
    },
    {
     "name": "stdout",
     "output_type": "stream",
     "text": [
      "Early stopping, best iteration is:\n",
      "[356]\ttrain's fair: 0.153083\tvalid's fair: 0.153701\n",
      "Training until validation scores don't improve for 300 rounds\n"
     ]
    },
    {
     "name": "stderr",
     "output_type": "stream",
     "text": [
      "regularization_factors, val_score: 0.153695:  85%|########5 | 17/20 [01:13<00:13,  4.64s/it]\u001b[32m[I 2021-08-31 15:49:13,689]\u001b[0m Trial 56 finished with value: 0.1536952633493545 and parameters: {'lambda_l1': 0.0014281436774613327, 'lambda_l2': 0.5697115687861157}. Best is trial 46 with value: 0.1536946829743585.\u001b[0m\n",
      "regularization_factors, val_score: 0.153695:  85%|########5 | 17/20 [01:13<00:13,  4.64s/it]"
     ]
    },
    {
     "name": "stdout",
     "output_type": "stream",
     "text": [
      "Early stopping, best iteration is:\n",
      "[140]\ttrain's fair: 0.153088\tvalid's fair: 0.153695\n",
      "Training until validation scores don't improve for 300 rounds\n"
     ]
    },
    {
     "name": "stderr",
     "output_type": "stream",
     "text": [
      "regularization_factors, val_score: 0.153695:  90%|######### | 18/20 [01:17<00:08,  4.46s/it]\u001b[32m[I 2021-08-31 15:49:17,722]\u001b[0m Trial 57 finished with value: 0.15369470893316042 and parameters: {'lambda_l1': 0.31908326042733925, 'lambda_l2': 0.033633044744287556}. Best is trial 46 with value: 0.1536946829743585.\u001b[0m\n",
      "regularization_factors, val_score: 0.153695:  90%|######### | 18/20 [01:17<00:08,  4.46s/it]"
     ]
    },
    {
     "name": "stdout",
     "output_type": "stream",
     "text": [
      "Early stopping, best iteration is:\n",
      "[140]\ttrain's fair: 0.153089\tvalid's fair: 0.153695\n",
      "Training until validation scores don't improve for 300 rounds\n",
      "[500]\ttrain's fair: 0.153086\tvalid's fair: 0.153726\n"
     ]
    },
    {
     "name": "stderr",
     "output_type": "stream",
     "text": [
      "regularization_factors, val_score: 0.153695:  95%|#########5| 19/20 [01:23<00:05,  5.14s/it]\u001b[32m[I 2021-08-31 15:49:24,467]\u001b[0m Trial 58 finished with value: 0.1537027567199646 and parameters: {'lambda_l1': 8.88732414199385, 'lambda_l2': 8.85722179796341}. Best is trial 46 with value: 0.1536946829743585.\u001b[0m\n",
      "regularization_factors, val_score: 0.153695:  95%|#########5| 19/20 [01:23<00:05,  5.14s/it]"
     ]
    },
    {
     "name": "stdout",
     "output_type": "stream",
     "text": [
      "Early stopping, best iteration is:\n",
      "[356]\ttrain's fair: 0.153083\tvalid's fair: 0.153703\n",
      "Training until validation scores don't improve for 300 rounds\n"
     ]
    },
    {
     "name": "stderr",
     "output_type": "stream",
     "text": [
      "regularization_factors, val_score: 0.153695: 100%|##########| 20/20 [01:28<00:00,  4.83s/it]\u001b[32m[I 2021-08-31 15:49:28,548]\u001b[0m Trial 59 finished with value: 0.15370152682935334 and parameters: {'lambda_l1': 0.6239817826787949, 'lambda_l2': 7.466540463326708e-07}. Best is trial 46 with value: 0.1536946829743585.\u001b[0m\n",
      "regularization_factors, val_score: 0.153695: 100%|##########| 20/20 [01:28<00:00,  4.40s/it]\n",
      "min_data_in_leaf, val_score: 0.153695:   0%|          | 0/5 [00:00<?, ?it/s]"
     ]
    },
    {
     "name": "stdout",
     "output_type": "stream",
     "text": [
      "Early stopping, best iteration is:\n",
      "[140]\ttrain's fair: 0.153091\tvalid's fair: 0.153702\n",
      "Training until validation scores don't improve for 300 rounds\n"
     ]
    },
    {
     "name": "stderr",
     "output_type": "stream",
     "text": [
      "min_data_in_leaf, val_score: 0.153695:  20%|##        | 1/5 [00:03<00:15,  3.90s/it]\u001b[32m[I 2021-08-31 15:49:32,453]\u001b[0m Trial 60 finished with value: 0.1536946829743585 and parameters: {'min_child_samples': 10}. Best is trial 60 with value: 0.1536946829743585.\u001b[0m\n",
      "min_data_in_leaf, val_score: 0.153695:  20%|##        | 1/5 [00:03<00:15,  3.90s/it]"
     ]
    },
    {
     "name": "stdout",
     "output_type": "stream",
     "text": [
      "Early stopping, best iteration is:\n",
      "[140]\ttrain's fair: 0.153089\tvalid's fair: 0.153695\n",
      "Training until validation scores don't improve for 300 rounds\n"
     ]
    },
    {
     "name": "stderr",
     "output_type": "stream",
     "text": [
      "min_data_in_leaf, val_score: 0.153695:  40%|####      | 2/5 [00:08<00:13,  4.45s/it]\u001b[32m[I 2021-08-31 15:49:37,286]\u001b[0m Trial 61 finished with value: 0.1536946829743585 and parameters: {'min_child_samples': 5}. Best is trial 60 with value: 0.1536946829743585.\u001b[0m\n",
      "min_data_in_leaf, val_score: 0.153695:  40%|####      | 2/5 [00:08<00:13,  4.45s/it]"
     ]
    },
    {
     "name": "stdout",
     "output_type": "stream",
     "text": [
      "Early stopping, best iteration is:\n",
      "[140]\ttrain's fair: 0.153089\tvalid's fair: 0.153695\n",
      "Training until validation scores don't improve for 300 rounds\n"
     ]
    },
    {
     "name": "stderr",
     "output_type": "stream",
     "text": [
      "min_data_in_leaf, val_score: 0.153695:  60%|######    | 3/5 [00:12<00:08,  4.25s/it]\u001b[32m[I 2021-08-31 15:49:41,290]\u001b[0m Trial 62 finished with value: 0.1536946829743585 and parameters: {'min_child_samples': 50}. Best is trial 60 with value: 0.1536946829743585.\u001b[0m\n",
      "min_data_in_leaf, val_score: 0.153695:  60%|######    | 3/5 [00:12<00:08,  4.25s/it]"
     ]
    },
    {
     "name": "stdout",
     "output_type": "stream",
     "text": [
      "Early stopping, best iteration is:\n",
      "[140]\ttrain's fair: 0.153089\tvalid's fair: 0.153695\n",
      "Training until validation scores don't improve for 300 rounds\n"
     ]
    },
    {
     "name": "stderr",
     "output_type": "stream",
     "text": [
      "min_data_in_leaf, val_score: 0.153695:  80%|########  | 4/5 [00:16<00:04,  4.12s/it]\u001b[32m[I 2021-08-31 15:49:45,216]\u001b[0m Trial 63 finished with value: 0.1536946829743585 and parameters: {'min_child_samples': 25}. Best is trial 60 with value: 0.1536946829743585.\u001b[0m\n",
      "min_data_in_leaf, val_score: 0.153695:  80%|########  | 4/5 [00:16<00:04,  4.12s/it]"
     ]
    },
    {
     "name": "stdout",
     "output_type": "stream",
     "text": [
      "Early stopping, best iteration is:\n",
      "[140]\ttrain's fair: 0.153089\tvalid's fair: 0.153695\n",
      "Training until validation scores don't improve for 300 rounds\n"
     ]
    },
    {
     "name": "stderr",
     "output_type": "stream",
     "text": [
      "min_data_in_leaf, val_score: 0.153695: 100%|##########| 5/5 [00:20<00:00,  4.02s/it]\u001b[32m[I 2021-08-31 15:49:49,055]\u001b[0m Trial 64 finished with value: 0.1536946829743585 and parameters: {'min_child_samples': 100}. Best is trial 60 with value: 0.1536946829743585.\u001b[0m\n",
      "min_data_in_leaf, val_score: 0.153695: 100%|##########| 5/5 [00:20<00:00,  4.10s/it]"
     ]
    },
    {
     "name": "stdout",
     "output_type": "stream",
     "text": [
      "Early stopping, best iteration is:\n",
      "[140]\ttrain's fair: 0.153089\tvalid's fair: 0.153695\n"
     ]
    },
    {
     "name": "stderr",
     "output_type": "stream",
     "text": [
      "\n",
      "\u001b[32m[I 2021-08-31 15:49:49,464]\u001b[0m A new study created in memory with name: no-name-c9e94418-60f5-4bf5-8ccc-88fdba756dce\u001b[0m\n",
      "feature_fraction, val_score: inf:   0%|          | 0/7 [00:00<?, ?it/s]"
     ]
    },
    {
     "name": "stdout",
     "output_type": "stream",
     "text": [
      "7 0.7173311929492758\n",
      "Training until validation scores don't improve for 300 rounds\n"
     ]
    },
    {
     "name": "stderr",
     "output_type": "stream",
     "text": [
      "feature_fraction, val_score: 0.152676:  14%|#4        | 1/7 [00:07<00:44,  7.36s/it]\u001b[32m[I 2021-08-31 15:49:56,836]\u001b[0m Trial 0 finished with value: 0.1526762537944783 and parameters: {'feature_fraction': 0.4}. Best is trial 0 with value: 0.1526762537944783.\u001b[0m\n",
      "feature_fraction, val_score: 0.152676:  14%|#4        | 1/7 [00:07<00:44,  7.36s/it]"
     ]
    },
    {
     "name": "stdout",
     "output_type": "stream",
     "text": [
      "Early stopping, best iteration is:\n",
      "[59]\ttrain's fair: 0.153188\tvalid's fair: 0.152676\n",
      "Training until validation scores don't improve for 300 rounds\n"
     ]
    },
    {
     "name": "stderr",
     "output_type": "stream",
     "text": [
      "feature_fraction, val_score: 0.152676:  29%|##8       | 2/7 [00:11<00:27,  5.52s/it]\u001b[32m[I 2021-08-31 15:50:01,074]\u001b[0m Trial 1 finished with value: 0.15267646948324604 and parameters: {'feature_fraction': 0.8}. Best is trial 0 with value: 0.1526762537944783.\u001b[0m\n",
      "feature_fraction, val_score: 0.152676:  29%|##8       | 2/7 [00:11<00:27,  5.52s/it]"
     ]
    },
    {
     "name": "stdout",
     "output_type": "stream",
     "text": [
      "Early stopping, best iteration is:\n",
      "[28]\ttrain's fair: 0.153075\tvalid's fair: 0.152676\n",
      "Training until validation scores don't improve for 300 rounds\n"
     ]
    },
    {
     "name": "stderr",
     "output_type": "stream",
     "text": [
      "feature_fraction, val_score: 0.152676:  43%|####2     | 3/7 [00:15<00:19,  4.95s/it]\u001b[32m[I 2021-08-31 15:50:05,329]\u001b[0m Trial 2 finished with value: 0.152676469483246 and parameters: {'feature_fraction': 0.5}. Best is trial 0 with value: 0.1526762537944783.\u001b[0m\n",
      "feature_fraction, val_score: 0.152676:  43%|####2     | 3/7 [00:15<00:19,  4.95s/it]"
     ]
    },
    {
     "name": "stdout",
     "output_type": "stream",
     "text": [
      "Early stopping, best iteration is:\n",
      "[28]\ttrain's fair: 0.153075\tvalid's fair: 0.152676\n",
      "Training until validation scores don't improve for 300 rounds\n"
     ]
    },
    {
     "name": "stderr",
     "output_type": "stream",
     "text": [
      "feature_fraction, val_score: 0.152675:  57%|#####7    | 4/7 [00:21<00:15,  5.05s/it]\u001b[32m[I 2021-08-31 15:50:10,532]\u001b[0m Trial 3 finished with value: 0.1526754934115058 and parameters: {'feature_fraction': 1.0}. Best is trial 3 with value: 0.1526754934115058.\u001b[0m\n",
      "feature_fraction, val_score: 0.152675:  57%|#####7    | 4/7 [00:21<00:15,  5.05s/it]"
     ]
    },
    {
     "name": "stdout",
     "output_type": "stream",
     "text": [
      "Early stopping, best iteration is:\n",
      "[33]\ttrain's fair: 0.152919\tvalid's fair: 0.152675\n",
      "Training until validation scores don't improve for 300 rounds\n"
     ]
    },
    {
     "name": "stderr",
     "output_type": "stream",
     "text": [
      "feature_fraction, val_score: 0.152675:  71%|#######1  | 5/7 [00:25<00:09,  4.76s/it]\u001b[32m[I 2021-08-31 15:50:14,791]\u001b[0m Trial 4 finished with value: 0.15267646948324604 and parameters: {'feature_fraction': 0.7}. Best is trial 3 with value: 0.1526754934115058.\u001b[0m\n",
      "feature_fraction, val_score: 0.152675:  71%|#######1  | 5/7 [00:25<00:09,  4.76s/it]"
     ]
    },
    {
     "name": "stdout",
     "output_type": "stream",
     "text": [
      "Early stopping, best iteration is:\n",
      "[28]\ttrain's fair: 0.153075\tvalid's fair: 0.152676\n",
      "Training until validation scores don't improve for 300 rounds\n"
     ]
    },
    {
     "name": "stderr",
     "output_type": "stream",
     "text": [
      "feature_fraction, val_score: 0.152675:  86%|########5 | 6/7 [00:29<00:04,  4.55s/it]\u001b[32m[I 2021-08-31 15:50:18,935]\u001b[0m Trial 5 finished with value: 0.15267646948324604 and parameters: {'feature_fraction': 0.6}. Best is trial 3 with value: 0.1526754934115058.\u001b[0m\n",
      "feature_fraction, val_score: 0.152675:  86%|########5 | 6/7 [00:29<00:04,  4.55s/it]"
     ]
    },
    {
     "name": "stdout",
     "output_type": "stream",
     "text": [
      "Early stopping, best iteration is:\n",
      "[28]\ttrain's fair: 0.153075\tvalid's fair: 0.152676\n",
      "Training until validation scores don't improve for 300 rounds\n"
     ]
    },
    {
     "name": "stderr",
     "output_type": "stream",
     "text": [
      "feature_fraction, val_score: 0.152675: 100%|##########| 7/7 [00:33<00:00,  4.52s/it]\u001b[32m[I 2021-08-31 15:50:23,401]\u001b[0m Trial 6 finished with value: 0.1526754934115058 and parameters: {'feature_fraction': 0.8999999999999999}. Best is trial 3 with value: 0.1526754934115058.\u001b[0m\n",
      "feature_fraction, val_score: 0.152675: 100%|##########| 7/7 [00:33<00:00,  4.85s/it]\n",
      "num_leaves, val_score: 0.152675:   0%|          | 0/20 [00:00<?, ?it/s]"
     ]
    },
    {
     "name": "stdout",
     "output_type": "stream",
     "text": [
      "Early stopping, best iteration is:\n",
      "[33]\ttrain's fair: 0.152919\tvalid's fair: 0.152675\n",
      "Training until validation scores don't improve for 300 rounds\n"
     ]
    },
    {
     "name": "stderr",
     "output_type": "stream",
     "text": [
      "num_leaves, val_score: 0.152675:   5%|5         | 1/20 [00:06<02:05,  6.60s/it]\u001b[32m[I 2021-08-31 15:50:30,003]\u001b[0m Trial 7 finished with value: 0.15271928478933738 and parameters: {'num_leaves': 92}. Best is trial 7 with value: 0.15271928478933738.\u001b[0m\n",
      "num_leaves, val_score: 0.152675:   5%|5         | 1/20 [00:06<02:05,  6.60s/it]"
     ]
    },
    {
     "name": "stdout",
     "output_type": "stream",
     "text": [
      "Early stopping, best iteration is:\n",
      "[26]\ttrain's fair: 0.152435\tvalid's fair: 0.152719\n",
      "Training until validation scores don't improve for 300 rounds\n"
     ]
    },
    {
     "name": "stderr",
     "output_type": "stream",
     "text": [
      "num_leaves, val_score: 0.152675:  10%|#         | 2/20 [00:12<01:50,  6.13s/it]\u001b[32m[I 2021-08-31 15:50:35,811]\u001b[0m Trial 8 finished with value: 0.1527475904689552 and parameters: {'num_leaves': 105}. Best is trial 7 with value: 0.15271928478933738.\u001b[0m\n",
      "num_leaves, val_score: 0.152675:  10%|#         | 2/20 [00:12<01:50,  6.13s/it]"
     ]
    },
    {
     "name": "stdout",
     "output_type": "stream",
     "text": [
      "Early stopping, best iteration is:\n",
      "[30]\ttrain's fair: 0.152179\tvalid's fair: 0.152748\n",
      "Training until validation scores don't improve for 300 rounds\n"
     ]
    },
    {
     "name": "stderr",
     "output_type": "stream",
     "text": [
      "num_leaves, val_score: 0.152674:  15%|#5        | 3/20 [00:17<01:37,  5.72s/it]\u001b[32m[I 2021-08-31 15:50:41,048]\u001b[0m Trial 9 finished with value: 0.1526735862693749 and parameters: {'num_leaves': 33}. Best is trial 9 with value: 0.1526735862693749.\u001b[0m\n",
      "num_leaves, val_score: 0.152674:  15%|#5        | 3/20 [00:17<01:37,  5.72s/it]"
     ]
    },
    {
     "name": "stdout",
     "output_type": "stream",
     "text": [
      "Early stopping, best iteration is:\n",
      "[36]\ttrain's fair: 0.152852\tvalid's fair: 0.152674\n",
      "Training until validation scores don't improve for 300 rounds\n"
     ]
    },
    {
     "name": "stderr",
     "output_type": "stream",
     "text": [
      "num_leaves, val_score: 0.152674:  20%|##        | 4/20 [00:22<01:26,  5.40s/it]\u001b[32m[I 2021-08-31 15:50:45,941]\u001b[0m Trial 10 finished with value: 0.15273646088294235 and parameters: {'num_leaves': 64}. Best is trial 9 with value: 0.1526735862693749.\u001b[0m\n",
      "num_leaves, val_score: 0.152674:  20%|##        | 4/20 [00:22<01:26,  5.40s/it]"
     ]
    },
    {
     "name": "stdout",
     "output_type": "stream",
     "text": [
      "Early stopping, best iteration is:\n",
      "[27]\ttrain's fair: 0.152671\tvalid's fair: 0.152736\n",
      "Training until validation scores don't improve for 300 rounds\n"
     ]
    },
    {
     "name": "stderr",
     "output_type": "stream",
     "text": [
      "num_leaves, val_score: 0.152674:  25%|##5       | 5/20 [00:28<01:23,  5.56s/it]\u001b[32m[I 2021-08-31 15:50:51,802]\u001b[0m Trial 11 finished with value: 0.15275873653117183 and parameters: {'num_leaves': 120}. Best is trial 9 with value: 0.1526735862693749.\u001b[0m\n",
      "num_leaves, val_score: 0.152674:  25%|##5       | 5/20 [00:28<01:23,  5.56s/it]"
     ]
    },
    {
     "name": "stdout",
     "output_type": "stream",
     "text": [
      "Early stopping, best iteration is:\n",
      "[24]\ttrain's fair: 0.152279\tvalid's fair: 0.152759\n",
      "Training until validation scores don't improve for 300 rounds\n"
     ]
    },
    {
     "name": "stderr",
     "output_type": "stream",
     "text": [
      "num_leaves, val_score: 0.152674:  30%|###       | 6/20 [00:35<01:24,  6.05s/it]\u001b[32m[I 2021-08-31 15:50:58,800]\u001b[0m Trial 12 finished with value: 0.15279167390987944 and parameters: {'num_leaves': 199}. Best is trial 9 with value: 0.1526735862693749.\u001b[0m\n",
      "num_leaves, val_score: 0.152674:  30%|###       | 6/20 [00:35<01:24,  6.05s/it]"
     ]
    },
    {
     "name": "stdout",
     "output_type": "stream",
     "text": [
      "Early stopping, best iteration is:\n",
      "[24]\ttrain's fair: 0.151694\tvalid's fair: 0.152792\n",
      "Training until validation scores don't improve for 300 rounds\n"
     ]
    },
    {
     "name": "stderr",
     "output_type": "stream",
     "text": [
      "num_leaves, val_score: 0.152674:  35%|###5      | 7/20 [00:43<01:28,  6.85s/it]\u001b[32m[I 2021-08-31 15:51:07,283]\u001b[0m Trial 13 finished with value: 0.15283968255418473 and parameters: {'num_leaves': 218}. Best is trial 9 with value: 0.1526735862693749.\u001b[0m\n",
      "num_leaves, val_score: 0.152674:  35%|###5      | 7/20 [00:43<01:28,  6.85s/it]"
     ]
    },
    {
     "name": "stdout",
     "output_type": "stream",
     "text": [
      "Early stopping, best iteration is:\n",
      "[31]\ttrain's fair: 0.151122\tvalid's fair: 0.15284\n",
      "Training until validation scores don't improve for 300 rounds\n"
     ]
    },
    {
     "name": "stderr",
     "output_type": "stream",
     "text": [
      "num_leaves, val_score: 0.152674:  40%|####      | 8/20 [00:49<01:18,  6.57s/it]\u001b[32m[I 2021-08-31 15:51:13,274]\u001b[0m Trial 14 finished with value: 0.15278403313055372 and parameters: {'num_leaves': 128}. Best is trial 9 with value: 0.1526735862693749.\u001b[0m\n",
      "num_leaves, val_score: 0.152674:  40%|####      | 8/20 [00:49<01:18,  6.57s/it]"
     ]
    },
    {
     "name": "stdout",
     "output_type": "stream",
     "text": [
      "Early stopping, best iteration is:\n",
      "[25]\ttrain's fair: 0.152169\tvalid's fair: 0.152784\n",
      "Training until validation scores don't improve for 300 rounds\n"
     ]
    },
    {
     "name": "stderr",
     "output_type": "stream",
     "text": [
      "num_leaves, val_score: 0.152674:  45%|####5     | 9/20 [00:55<01:08,  6.22s/it]\u001b[32m[I 2021-08-31 15:51:18,711]\u001b[0m Trial 15 finished with value: 0.15274291767967385 and parameters: {'num_leaves': 78}. Best is trial 9 with value: 0.1526735862693749.\u001b[0m\n",
      "num_leaves, val_score: 0.152674:  45%|####5     | 9/20 [00:55<01:08,  6.22s/it]"
     ]
    },
    {
     "name": "stdout",
     "output_type": "stream",
     "text": [
      "Early stopping, best iteration is:\n",
      "[31]\ttrain's fair: 0.152429\tvalid's fair: 0.152743\n",
      "Training until validation scores don't improve for 300 rounds\n"
     ]
    },
    {
     "name": "stderr",
     "output_type": "stream",
     "text": [
      "num_leaves, val_score: 0.152674:  50%|#####     | 10/20 [01:03<01:08,  6.90s/it]\u001b[32m[I 2021-08-31 15:51:27,136]\u001b[0m Trial 16 finished with value: 0.15286260816510375 and parameters: {'num_leaves': 245}. Best is trial 9 with value: 0.1526735862693749.\u001b[0m\n",
      "num_leaves, val_score: 0.152674:  50%|#####     | 10/20 [01:03<01:08,  6.90s/it]"
     ]
    },
    {
     "name": "stdout",
     "output_type": "stream",
     "text": [
      "Early stopping, best iteration is:\n",
      "[23]\ttrain's fair: 0.151433\tvalid's fair: 0.152863\n",
      "Training until validation scores don't improve for 300 rounds\n"
     ]
    },
    {
     "name": "stderr",
     "output_type": "stream",
     "text": [
      "num_leaves, val_score: 0.152674:  55%|#####5    | 11/20 [01:07<00:54,  6.06s/it]\u001b[32m[I 2021-08-31 15:51:31,308]\u001b[0m Trial 17 finished with value: 0.15267981766667926 and parameters: {'num_leaves': 5}. Best is trial 9 with value: 0.1526735862693749.\u001b[0m\n",
      "num_leaves, val_score: 0.152674:  55%|#####5    | 11/20 [01:07<00:54,  6.06s/it]"
     ]
    },
    {
     "name": "stdout",
     "output_type": "stream",
     "text": [
      "Early stopping, best iteration is:\n",
      "[112]\ttrain's fair: 0.153104\tvalid's fair: 0.15268\n",
      "Training until validation scores don't improve for 300 rounds\n"
     ]
    },
    {
     "name": "stderr",
     "output_type": "stream",
     "text": [
      "num_leaves, val_score: 0.152674:  60%|######    | 12/20 [01:12<00:44,  5.56s/it]\u001b[32m[I 2021-08-31 15:51:35,718]\u001b[0m Trial 18 finished with value: 0.15267730087212172 and parameters: {'num_leaves': 2}. Best is trial 9 with value: 0.1526735862693749.\u001b[0m\n",
      "num_leaves, val_score: 0.152674:  60%|######    | 12/20 [01:12<00:44,  5.56s/it]"
     ]
    },
    {
     "name": "stdout",
     "output_type": "stream",
     "text": [
      "Early stopping, best iteration is:\n",
      "[120]\ttrain's fair: 0.153194\tvalid's fair: 0.152677\n",
      "Training until validation scores don't improve for 300 rounds\n",
      "[500]\ttrain's fair: 0.153056\tvalid's fair: 0.152677\n"
     ]
    },
    {
     "name": "stderr",
     "output_type": "stream",
     "text": [
      "num_leaves, val_score: 0.152674:  65%|######5   | 13/20 [01:18<00:39,  5.61s/it]\u001b[32m[I 2021-08-31 15:51:41,430]\u001b[0m Trial 19 finished with value: 0.1526735401260583 and parameters: {'num_leaves': 3}. Best is trial 19 with value: 0.1526735401260583.\u001b[0m\n",
      "num_leaves, val_score: 0.152674:  65%|######5   | 13/20 [01:18<00:39,  5.61s/it]"
     ]
    },
    {
     "name": "stdout",
     "output_type": "stream",
     "text": [
      "Early stopping, best iteration is:\n",
      "[342]\ttrain's fair: 0.153094\tvalid's fair: 0.152674\n",
      "Training until validation scores don't improve for 300 rounds\n"
     ]
    },
    {
     "name": "stderr",
     "output_type": "stream",
     "text": [
      "num_leaves, val_score: 0.152674:  70%|#######   | 14/20 [01:22<00:31,  5.21s/it]\u001b[32m[I 2021-08-31 15:51:45,722]\u001b[0m Trial 20 finished with value: 0.1526754934115058 and parameters: {'num_leaves': 31}. Best is trial 19 with value: 0.1526735401260583.\u001b[0m\n",
      "num_leaves, val_score: 0.152674:  70%|#######   | 14/20 [01:22<00:31,  5.21s/it]"
     ]
    },
    {
     "name": "stdout",
     "output_type": "stream",
     "text": [
      "Early stopping, best iteration is:\n",
      "[33]\ttrain's fair: 0.152919\tvalid's fair: 0.152675\n",
      "Training until validation scores don't improve for 300 rounds\n"
     ]
    },
    {
     "name": "stderr",
     "output_type": "stream",
     "text": [
      "num_leaves, val_score: 0.152674:  75%|#######5  | 15/20 [01:26<00:24,  4.96s/it]\u001b[32m[I 2021-08-31 15:51:50,112]\u001b[0m Trial 21 finished with value: 0.15268736759577053 and parameters: {'num_leaves': 38}. Best is trial 19 with value: 0.1526735401260583.\u001b[0m\n",
      "num_leaves, val_score: 0.152674:  75%|#######5  | 15/20 [01:26<00:24,  4.96s/it]"
     ]
    },
    {
     "name": "stdout",
     "output_type": "stream",
     "text": [
      "Early stopping, best iteration is:\n",
      "[31]\ttrain's fair: 0.152859\tvalid's fair: 0.152687\n",
      "Training until validation scores don't improve for 300 rounds\n"
     ]
    },
    {
     "name": "stderr",
     "output_type": "stream",
     "text": [
      "num_leaves, val_score: 0.152674:  80%|########  | 16/20 [01:33<00:21,  5.48s/it]\u001b[32m[I 2021-08-31 15:51:56,809]\u001b[0m Trial 22 finished with value: 0.1527643878845403 and parameters: {'num_leaves': 168}. Best is trial 19 with value: 0.1526735401260583.\u001b[0m\n",
      "num_leaves, val_score: 0.152674:  80%|########  | 16/20 [01:33<00:21,  5.48s/it]"
     ]
    },
    {
     "name": "stdout",
     "output_type": "stream",
     "text": [
      "Early stopping, best iteration is:\n",
      "[28]\ttrain's fair: 0.151696\tvalid's fair: 0.152764\n",
      "Training until validation scores don't improve for 300 rounds\n"
     ]
    },
    {
     "name": "stderr",
     "output_type": "stream",
     "text": [
      "num_leaves, val_score: 0.152674:  85%|########5 | 17/20 [01:37<00:15,  5.16s/it]\u001b[32m[I 2021-08-31 15:52:01,225]\u001b[0m Trial 23 finished with value: 0.15268465510132231 and parameters: {'num_leaves': 35}. Best is trial 19 with value: 0.1526735401260583.\u001b[0m\n",
      "num_leaves, val_score: 0.152674:  85%|########5 | 17/20 [01:37<00:15,  5.16s/it]"
     ]
    },
    {
     "name": "stdout",
     "output_type": "stream",
     "text": [
      "Early stopping, best iteration is:\n",
      "[33]\ttrain's fair: 0.152865\tvalid's fair: 0.152685\n",
      "Training until validation scores don't improve for 300 rounds\n"
     ]
    },
    {
     "name": "stderr",
     "output_type": "stream",
     "text": [
      "num_leaves, val_score: 0.152674:  90%|######### | 18/20 [01:42<00:09,  4.88s/it]\u001b[32m[I 2021-08-31 15:52:05,449]\u001b[0m Trial 24 finished with value: 0.15267677592789053 and parameters: {'num_leaves': 4}. Best is trial 19 with value: 0.1526735401260583.\u001b[0m\n",
      "num_leaves, val_score: 0.152674:  90%|######### | 18/20 [01:42<00:09,  4.88s/it]"
     ]
    },
    {
     "name": "stdout",
     "output_type": "stream",
     "text": [
      "Early stopping, best iteration is:\n",
      "[132]\ttrain's fair: 0.153126\tvalid's fair: 0.152677\n",
      "Training until validation scores don't improve for 300 rounds\n"
     ]
    },
    {
     "name": "stderr",
     "output_type": "stream",
     "text": [
      "num_leaves, val_score: 0.152674:  95%|#########5| 19/20 [01:48<00:05,  5.50s/it]\u001b[32m[I 2021-08-31 15:52:12,394]\u001b[0m Trial 25 finished with value: 0.15272212684759362 and parameters: {'num_leaves': 57}. Best is trial 19 with value: 0.1526735401260583.\u001b[0m\n",
      "num_leaves, val_score: 0.152674:  95%|#########5| 19/20 [01:48<00:05,  5.50s/it]"
     ]
    },
    {
     "name": "stdout",
     "output_type": "stream",
     "text": [
      "Early stopping, best iteration is:\n",
      "[33]\ttrain's fair: 0.152609\tvalid's fair: 0.152722\n",
      "Training until validation scores don't improve for 300 rounds\n"
     ]
    },
    {
     "name": "stderr",
     "output_type": "stream",
     "text": [
      "num_leaves, val_score: 0.152662: 100%|##########| 20/20 [01:53<00:00,  5.21s/it]\u001b[32m[I 2021-08-31 15:52:16,935]\u001b[0m Trial 26 finished with value: 0.1526622225499616 and parameters: {'num_leaves': 27}. Best is trial 26 with value: 0.1526622225499616.\u001b[0m\n",
      "num_leaves, val_score: 0.152662: 100%|##########| 20/20 [01:53<00:00,  5.68s/it]\n",
      "bagging, val_score: 0.152662:   0%|          | 0/10 [00:00<?, ?it/s]"
     ]
    },
    {
     "name": "stdout",
     "output_type": "stream",
     "text": [
      "Early stopping, best iteration is:\n",
      "[36]\ttrain's fair: 0.152932\tvalid's fair: 0.152662\n",
      "Training until validation scores don't improve for 300 rounds\n"
     ]
    },
    {
     "name": "stderr",
     "output_type": "stream",
     "text": [
      "bagging, val_score: 0.152662:  10%|#         | 1/10 [00:05<00:49,  5.45s/it]\u001b[32m[I 2021-08-31 15:52:22,401]\u001b[0m Trial 27 finished with value: 0.15266539473511212 and parameters: {'bagging_fraction': 0.9368802884335767, 'bagging_freq': 3}. Best is trial 27 with value: 0.15266539473511212.\u001b[0m\n",
      "bagging, val_score: 0.152662:  10%|#         | 1/10 [00:05<00:49,  5.45s/it]"
     ]
    },
    {
     "name": "stdout",
     "output_type": "stream",
     "text": [
      "Early stopping, best iteration is:\n",
      "[32]\ttrain's fair: 0.152963\tvalid's fair: 0.152665\n",
      "Training until validation scores don't improve for 300 rounds\n"
     ]
    },
    {
     "name": "stderr",
     "output_type": "stream",
     "text": [
      "bagging, val_score: 0.152662:  20%|##        | 2/10 [00:10<00:43,  5.47s/it]\u001b[32m[I 2021-08-31 15:52:27,889]\u001b[0m Trial 28 finished with value: 0.1526953774315542 and parameters: {'bagging_fraction': 0.642872320889269, 'bagging_freq': 1}. Best is trial 27 with value: 0.15266539473511212.\u001b[0m\n",
      "bagging, val_score: 0.152662:  20%|##        | 2/10 [00:10<00:43,  5.47s/it]"
     ]
    },
    {
     "name": "stdout",
     "output_type": "stream",
     "text": [
      "Early stopping, best iteration is:\n",
      "[37]\ttrain's fair: 0.1529\tvalid's fair: 0.152695\n",
      "Training until validation scores don't improve for 300 rounds\n"
     ]
    },
    {
     "name": "stderr",
     "output_type": "stream",
     "text": [
      "bagging, val_score: 0.152662:  30%|###       | 3/10 [00:17<00:41,  5.86s/it]\u001b[32m[I 2021-08-31 15:52:34,206]\u001b[0m Trial 29 finished with value: 0.1526779517910048 and parameters: {'bagging_fraction': 0.6452819372636991, 'bagging_freq': 3}. Best is trial 27 with value: 0.15266539473511212.\u001b[0m\n",
      "bagging, val_score: 0.152662:  30%|###       | 3/10 [00:17<00:41,  5.86s/it]"
     ]
    },
    {
     "name": "stdout",
     "output_type": "stream",
     "text": [
      "Early stopping, best iteration is:\n",
      "[57]\ttrain's fair: 0.152746\tvalid's fair: 0.152678\n",
      "Training until validation scores don't improve for 300 rounds\n"
     ]
    },
    {
     "name": "stderr",
     "output_type": "stream",
     "text": [
      "bagging, val_score: 0.152662:  40%|####      | 4/10 [00:23<00:34,  5.83s/it]\u001b[32m[I 2021-08-31 15:52:39,990]\u001b[0m Trial 30 finished with value: 0.1526922005257898 and parameters: {'bagging_fraction': 0.7257463419976719, 'bagging_freq': 6}. Best is trial 27 with value: 0.15266539473511212.\u001b[0m\n",
      "bagging, val_score: 0.152662:  40%|####      | 4/10 [00:23<00:34,  5.83s/it]"
     ]
    },
    {
     "name": "stdout",
     "output_type": "stream",
     "text": [
      "Early stopping, best iteration is:\n",
      "[33]\ttrain's fair: 0.152967\tvalid's fair: 0.152692\n",
      "Training until validation scores don't improve for 300 rounds\n"
     ]
    },
    {
     "name": "stderr",
     "output_type": "stream",
     "text": [
      "bagging, val_score: 0.152662:  50%|#####     | 5/10 [00:30<00:31,  6.39s/it]\u001b[32m[I 2021-08-31 15:52:47,385]\u001b[0m Trial 31 finished with value: 0.15267991398304265 and parameters: {'bagging_fraction': 0.770528330813538, 'bagging_freq': 2}. Best is trial 27 with value: 0.15266539473511212.\u001b[0m\n",
      "bagging, val_score: 0.152662:  50%|#####     | 5/10 [00:30<00:31,  6.39s/it]"
     ]
    },
    {
     "name": "stdout",
     "output_type": "stream",
     "text": [
      "Early stopping, best iteration is:\n",
      "[34]\ttrain's fair: 0.152937\tvalid's fair: 0.15268\n",
      "Training until validation scores don't improve for 300 rounds\n"
     ]
    },
    {
     "name": "stderr",
     "output_type": "stream",
     "text": [
      "bagging, val_score: 0.152662:  60%|######    | 6/10 [00:36<00:25,  6.39s/it]\u001b[32m[I 2021-08-31 15:52:53,780]\u001b[0m Trial 32 finished with value: 0.15271436602747793 and parameters: {'bagging_fraction': 0.6039070683656058, 'bagging_freq': 5}. Best is trial 27 with value: 0.15266539473511212.\u001b[0m\n",
      "bagging, val_score: 0.152662:  60%|######    | 6/10 [00:36<00:25,  6.39s/it]"
     ]
    },
    {
     "name": "stdout",
     "output_type": "stream",
     "text": [
      "Early stopping, best iteration is:\n",
      "[60]\ttrain's fair: 0.152742\tvalid's fair: 0.152714\n",
      "Training until validation scores don't improve for 300 rounds\n"
     ]
    },
    {
     "name": "stderr",
     "output_type": "stream",
     "text": [
      "bagging, val_score: 0.152662:  70%|#######   | 7/10 [00:42<00:18,  6.22s/it]\u001b[32m[I 2021-08-31 15:52:59,632]\u001b[0m Trial 33 finished with value: 0.152702898105167 and parameters: {'bagging_fraction': 0.5101142815528799, 'bagging_freq': 1}. Best is trial 27 with value: 0.15266539473511212.\u001b[0m\n",
      "bagging, val_score: 0.152662:  70%|#######   | 7/10 [00:42<00:18,  6.22s/it]"
     ]
    },
    {
     "name": "stdout",
     "output_type": "stream",
     "text": [
      "Early stopping, best iteration is:\n",
      "[32]\ttrain's fair: 0.152946\tvalid's fair: 0.152703\n",
      "Training until validation scores don't improve for 300 rounds\n"
     ]
    },
    {
     "name": "stderr",
     "output_type": "stream",
     "text": [
      "bagging, val_score: 0.152662:  80%|########  | 8/10 [00:48<00:12,  6.04s/it]\u001b[32m[I 2021-08-31 15:53:05,287]\u001b[0m Trial 34 finished with value: 0.1526717787600552 and parameters: {'bagging_fraction': 0.9744632537080704, 'bagging_freq': 4}. Best is trial 27 with value: 0.15266539473511212.\u001b[0m\n",
      "bagging, val_score: 0.152662:  80%|########  | 8/10 [00:48<00:12,  6.04s/it]"
     ]
    },
    {
     "name": "stdout",
     "output_type": "stream",
     "text": [
      "Early stopping, best iteration is:\n",
      "[50]\ttrain's fair: 0.152814\tvalid's fair: 0.152672\n",
      "Training until validation scores don't improve for 300 rounds\n"
     ]
    },
    {
     "name": "stderr",
     "output_type": "stream",
     "text": [
      "bagging, val_score: 0.152662:  90%|######### | 9/10 [00:53<00:05,  5.89s/it]\u001b[32m[I 2021-08-31 15:53:10,844]\u001b[0m Trial 35 finished with value: 0.1526704610657786 and parameters: {'bagging_fraction': 0.973763492431979, 'bagging_freq': 6}. Best is trial 27 with value: 0.15266539473511212.\u001b[0m\n",
      "bagging, val_score: 0.152662:  90%|######### | 9/10 [00:53<00:05,  5.89s/it]"
     ]
    },
    {
     "name": "stdout",
     "output_type": "stream",
     "text": [
      "Early stopping, best iteration is:\n",
      "[36]\ttrain's fair: 0.152915\tvalid's fair: 0.15267\n",
      "Training until validation scores don't improve for 300 rounds\n"
     ]
    },
    {
     "name": "stderr",
     "output_type": "stream",
     "text": [
      "bagging, val_score: 0.152662: 100%|##########| 10/10 [01:00<00:00,  6.25s/it]\u001b[32m[I 2021-08-31 15:53:17,895]\u001b[0m Trial 36 finished with value: 0.1526796639415983 and parameters: {'bagging_fraction': 0.6173830136006235, 'bagging_freq': 4}. Best is trial 27 with value: 0.15266539473511212.\u001b[0m\n",
      "bagging, val_score: 0.152662: 100%|##########| 10/10 [01:00<00:00,  6.10s/it]\n",
      "feature_fraction_stage2, val_score: 0.152662:   0%|          | 0/3 [00:00<?, ?it/s]"
     ]
    },
    {
     "name": "stdout",
     "output_type": "stream",
     "text": [
      "Early stopping, best iteration is:\n",
      "[46]\ttrain's fair: 0.152842\tvalid's fair: 0.15268\n",
      "Training until validation scores don't improve for 300 rounds\n"
     ]
    },
    {
     "name": "stderr",
     "output_type": "stream",
     "text": [
      "feature_fraction_stage2, val_score: 0.152662:  33%|###3      | 1/3 [00:05<00:10,  5.44s/it]\u001b[32m[I 2021-08-31 15:53:23,339]\u001b[0m Trial 37 finished with value: 0.15266222254996162 and parameters: {'feature_fraction': 0.92}. Best is trial 37 with value: 0.15266222254996162.\u001b[0m\n",
      "feature_fraction_stage2, val_score: 0.152662:  33%|###3      | 1/3 [00:05<00:10,  5.44s/it]"
     ]
    },
    {
     "name": "stdout",
     "output_type": "stream",
     "text": [
      "Early stopping, best iteration is:\n",
      "[36]\ttrain's fair: 0.152932\tvalid's fair: 0.152662\n",
      "Training until validation scores don't improve for 300 rounds\n"
     ]
    },
    {
     "name": "stderr",
     "output_type": "stream",
     "text": [
      "feature_fraction_stage2, val_score: 0.152662:  67%|######6   | 2/3 [00:09<00:04,  4.80s/it]\u001b[32m[I 2021-08-31 15:53:27,692]\u001b[0m Trial 38 finished with value: 0.15266222254996162 and parameters: {'feature_fraction': 0.9520000000000001}. Best is trial 37 with value: 0.15266222254996162.\u001b[0m\n",
      "feature_fraction_stage2, val_score: 0.152662:  67%|######6   | 2/3 [00:09<00:04,  4.80s/it]"
     ]
    },
    {
     "name": "stdout",
     "output_type": "stream",
     "text": [
      "Early stopping, best iteration is:\n",
      "[36]\ttrain's fair: 0.152932\tvalid's fair: 0.152662\n",
      "Training until validation scores don't improve for 300 rounds\n"
     ]
    },
    {
     "name": "stderr",
     "output_type": "stream",
     "text": [
      "feature_fraction_stage2, val_score: 0.152662: 100%|##########| 3/3 [00:14<00:00,  4.59s/it]\u001b[32m[I 2021-08-31 15:53:32,029]\u001b[0m Trial 39 finished with value: 0.15266222254996162 and parameters: {'feature_fraction': 0.9840000000000001}. Best is trial 37 with value: 0.15266222254996162.\u001b[0m\n",
      "feature_fraction_stage2, val_score: 0.152662: 100%|##########| 3/3 [00:14<00:00,  4.71s/it]\n",
      "regularization_factors, val_score: 0.152662:   0%|          | 0/20 [00:00<?, ?it/s]"
     ]
    },
    {
     "name": "stdout",
     "output_type": "stream",
     "text": [
      "Early stopping, best iteration is:\n",
      "[36]\ttrain's fair: 0.152932\tvalid's fair: 0.152662\n",
      "Training until validation scores don't improve for 300 rounds\n"
     ]
    },
    {
     "name": "stderr",
     "output_type": "stream",
     "text": [
      "regularization_factors, val_score: 0.152662:   5%|5         | 1/20 [00:04<01:23,  4.40s/it]\u001b[32m[I 2021-08-31 15:53:36,435]\u001b[0m Trial 40 finished with value: 0.15267607615203288 and parameters: {'lambda_l1': 3.177110015035406, 'lambda_l2': 0.008769195100738179}. Best is trial 40 with value: 0.15267607615203288.\u001b[0m\n",
      "regularization_factors, val_score: 0.152662:   5%|5         | 1/20 [00:04<01:23,  4.40s/it]"
     ]
    },
    {
     "name": "stdout",
     "output_type": "stream",
     "text": [
      "Early stopping, best iteration is:\n",
      "[35]\ttrain's fair: 0.152958\tvalid's fair: 0.152676\n",
      "Training until validation scores don't improve for 300 rounds\n"
     ]
    },
    {
     "name": "stderr",
     "output_type": "stream",
     "text": [
      "regularization_factors, val_score: 0.152662:  10%|#         | 2/20 [00:08<01:18,  4.34s/it]\u001b[32m[I 2021-08-31 15:53:40,743]\u001b[0m Trial 41 finished with value: 0.152662987364884 and parameters: {'lambda_l1': 0.003435066893178971, 'lambda_l2': 0.002166630656673033}. Best is trial 41 with value: 0.152662987364884.\u001b[0m\n",
      "regularization_factors, val_score: 0.152662:  10%|#         | 2/20 [00:08<01:18,  4.34s/it]"
     ]
    },
    {
     "name": "stdout",
     "output_type": "stream",
     "text": [
      "Early stopping, best iteration is:\n",
      "[36]\ttrain's fair: 0.152932\tvalid's fair: 0.152663\n",
      "Training until validation scores don't improve for 300 rounds\n"
     ]
    },
    {
     "name": "stderr",
     "output_type": "stream",
     "text": [
      "regularization_factors, val_score: 0.152662:  15%|#5        | 3/20 [00:13<01:13,  4.32s/it]\u001b[32m[I 2021-08-31 15:53:45,040]\u001b[0m Trial 42 finished with value: 0.15268854450743646 and parameters: {'lambda_l1': 0.22741552115583744, 'lambda_l2': 2.8222157423420975e-06}. Best is trial 41 with value: 0.152662987364884.\u001b[0m\n",
      "regularization_factors, val_score: 0.152662:  15%|#5        | 3/20 [00:13<01:13,  4.32s/it]"
     ]
    },
    {
     "name": "stdout",
     "output_type": "stream",
     "text": [
      "Early stopping, best iteration is:\n",
      "[35]\ttrain's fair: 0.152942\tvalid's fair: 0.152689\n",
      "Training until validation scores don't improve for 300 rounds\n"
     ]
    },
    {
     "name": "stderr",
     "output_type": "stream",
     "text": [
      "regularization_factors, val_score: 0.152662:  20%|##        | 4/20 [00:18<01:14,  4.64s/it]\u001b[32m[I 2021-08-31 15:53:50,171]\u001b[0m Trial 43 finished with value: 0.1526629860012204 and parameters: {'lambda_l1': 0.003016492378151605, 'lambda_l2': 7.277310962733294e-06}. Best is trial 43 with value: 0.1526629860012204.\u001b[0m\n",
      "regularization_factors, val_score: 0.152662:  20%|##        | 4/20 [00:18<01:14,  4.64s/it]"
     ]
    },
    {
     "name": "stdout",
     "output_type": "stream",
     "text": [
      "Early stopping, best iteration is:\n",
      "[36]\ttrain's fair: 0.152932\tvalid's fair: 0.152663\n",
      "Training until validation scores don't improve for 300 rounds\n"
     ]
    },
    {
     "name": "stderr",
     "output_type": "stream",
     "text": [
      "regularization_factors, val_score: 0.152662:  25%|##5       | 5/20 [00:23<01:14,  5.00s/it]\u001b[32m[I 2021-08-31 15:53:55,795]\u001b[0m Trial 44 finished with value: 0.15266222273019078 and parameters: {'lambda_l1': 9.061229152539981e-05, 'lambda_l2': 8.569502929984272e-08}. Best is trial 44 with value: 0.15266222273019078.\u001b[0m\n",
      "regularization_factors, val_score: 0.152662:  25%|##5       | 5/20 [00:23<01:14,  5.00s/it]"
     ]
    },
    {
     "name": "stdout",
     "output_type": "stream",
     "text": [
      "Early stopping, best iteration is:\n",
      "[36]\ttrain's fair: 0.152932\tvalid's fair: 0.152662\n",
      "Training until validation scores don't improve for 300 rounds\n"
     ]
    },
    {
     "name": "stderr",
     "output_type": "stream",
     "text": [
      "regularization_factors, val_score: 0.152662:  30%|###       | 6/20 [00:27<01:06,  4.74s/it]\u001b[32m[I 2021-08-31 15:54:00,032]\u001b[0m Trial 45 finished with value: 0.1526622225915151 and parameters: {'lambda_l1': 1.9870046403445923e-05, 'lambda_l2': 4.258879935880718e-08}. Best is trial 45 with value: 0.1526622225915151.\u001b[0m\n",
      "regularization_factors, val_score: 0.152662:  30%|###       | 6/20 [00:28<01:06,  4.74s/it]"
     ]
    },
    {
     "name": "stdout",
     "output_type": "stream",
     "text": [
      "Early stopping, best iteration is:\n",
      "[36]\ttrain's fair: 0.152932\tvalid's fair: 0.152662\n",
      "Training until validation scores don't improve for 300 rounds\n"
     ]
    },
    {
     "name": "stderr",
     "output_type": "stream",
     "text": [
      "regularization_factors, val_score: 0.152662:  35%|###5      | 7/20 [00:32<01:00,  4.62s/it]\u001b[32m[I 2021-08-31 15:54:04,399]\u001b[0m Trial 46 finished with value: 0.15266222353509917 and parameters: {'lambda_l1': 0.0004706698505329411, 'lambda_l2': 0.00020017418181403286}. Best is trial 45 with value: 0.1526622225915151.\u001b[0m\n",
      "regularization_factors, val_score: 0.152662:  35%|###5      | 7/20 [00:32<01:00,  4.62s/it]"
     ]
    },
    {
     "name": "stdout",
     "output_type": "stream",
     "text": [
      "Early stopping, best iteration is:\n",
      "[36]\ttrain's fair: 0.152932\tvalid's fair: 0.152662\n",
      "Training until validation scores don't improve for 300 rounds\n"
     ]
    },
    {
     "name": "stderr",
     "output_type": "stream",
     "text": [
      "regularization_factors, val_score: 0.152662:  40%|####      | 8/20 [00:36<00:54,  4.52s/it]\u001b[32m[I 2021-08-31 15:54:08,705]\u001b[0m Trial 47 finished with value: 0.15266222416190034 and parameters: {'lambda_l1': 7.212290190710591e-06, 'lambda_l2': 0.005874999574679163}. Best is trial 45 with value: 0.1526622225915151.\u001b[0m\n",
      "regularization_factors, val_score: 0.152662:  40%|####      | 8/20 [00:36<00:54,  4.52s/it]"
     ]
    },
    {
     "name": "stdout",
     "output_type": "stream",
     "text": [
      "Early stopping, best iteration is:\n",
      "[36]\ttrain's fair: 0.152932\tvalid's fair: 0.152662\n",
      "Training until validation scores don't improve for 300 rounds\n"
     ]
    },
    {
     "name": "stderr",
     "output_type": "stream",
     "text": [
      "regularization_factors, val_score: 0.152662:  45%|####5     | 9/20 [00:40<00:48,  4.44s/it]\u001b[32m[I 2021-08-31 15:54:12,977]\u001b[0m Trial 48 finished with value: 0.15266298503032869 and parameters: {'lambda_l1': 0.0025045902075252627, 'lambda_l2': 6.549660182908007e-07}. Best is trial 45 with value: 0.1526622225915151.\u001b[0m\n",
      "regularization_factors, val_score: 0.152662:  45%|####5     | 9/20 [00:40<00:48,  4.44s/it]"
     ]
    },
    {
     "name": "stdout",
     "output_type": "stream",
     "text": [
      "Early stopping, best iteration is:\n",
      "[36]\ttrain's fair: 0.152932\tvalid's fair: 0.152663\n",
      "Training until validation scores don't improve for 300 rounds\n"
     ]
    },
    {
     "name": "stderr",
     "output_type": "stream",
     "text": [
      "regularization_factors, val_score: 0.152662:  50%|#####     | 10/20 [00:45<00:44,  4.44s/it]\u001b[32m[I 2021-08-31 15:54:17,427]\u001b[0m Trial 49 finished with value: 0.1526858694592323 and parameters: {'lambda_l1': 0.0016365836162378158, 'lambda_l2': 2.919932656437462}. Best is trial 45 with value: 0.1526622225915151.\u001b[0m\n",
      "regularization_factors, val_score: 0.152662:  50%|#####     | 10/20 [00:45<00:44,  4.44s/it]"
     ]
    },
    {
     "name": "stdout",
     "output_type": "stream",
     "text": [
      "Early stopping, best iteration is:\n",
      "[35]\ttrain's fair: 0.152938\tvalid's fair: 0.152686\n",
      "Training until validation scores don't improve for 300 rounds\n"
     ]
    },
    {
     "name": "stderr",
     "output_type": "stream",
     "text": [
      "regularization_factors, val_score: 0.152662:  55%|#####5    | 11/20 [00:50<00:41,  4.65s/it]\u001b[32m[I 2021-08-31 15:54:22,559]\u001b[0m Trial 50 finished with value: 0.15266222254997439 and parameters: {'lambda_l1': 2.2758522391486375e-08, 'lambda_l2': 1.298055517925766e-08}. Best is trial 50 with value: 0.15266222254997439.\u001b[0m\n",
      "regularization_factors, val_score: 0.152662:  55%|#####5    | 11/20 [00:50<00:41,  4.65s/it]"
     ]
    },
    {
     "name": "stdout",
     "output_type": "stream",
     "text": [
      "Early stopping, best iteration is:\n",
      "[36]\ttrain's fair: 0.152932\tvalid's fair: 0.152662\n",
      "Training until validation scores don't improve for 300 rounds\n"
     ]
    },
    {
     "name": "stderr",
     "output_type": "stream",
     "text": [
      "regularization_factors, val_score: 0.152662:  60%|######    | 12/20 [00:56<00:39,  4.92s/it]\u001b[32m[I 2021-08-31 15:54:28,101]\u001b[0m Trial 51 finished with value: 0.15266222254999132 and parameters: {'lambda_l1': 1.3417519113720488e-08, 'lambda_l2': 1.0230661346807069e-08}. Best is trial 50 with value: 0.15266222254997439.\u001b[0m\n",
      "regularization_factors, val_score: 0.152662:  60%|######    | 12/20 [00:56<00:39,  4.92s/it]"
     ]
    },
    {
     "name": "stdout",
     "output_type": "stream",
     "text": [
      "Early stopping, best iteration is:\n",
      "[36]\ttrain's fair: 0.152932\tvalid's fair: 0.152662\n",
      "Training until validation scores don't improve for 300 rounds\n"
     ]
    },
    {
     "name": "stderr",
     "output_type": "stream",
     "text": [
      "regularization_factors, val_score: 0.152662:  65%|######5   | 13/20 [01:00<00:33,  4.73s/it]\u001b[32m[I 2021-08-31 15:54:32,389]\u001b[0m Trial 52 finished with value: 0.15266222254998993 and parameters: {'lambda_l1': 1.2892937411034253e-08, 'lambda_l2': 1.1170194372863456e-08}. Best is trial 50 with value: 0.15266222254997439.\u001b[0m\n",
      "regularization_factors, val_score: 0.152662:  65%|######5   | 13/20 [01:00<00:33,  4.73s/it]"
     ]
    },
    {
     "name": "stdout",
     "output_type": "stream",
     "text": [
      "Early stopping, best iteration is:\n",
      "[36]\ttrain's fair: 0.152932\tvalid's fair: 0.152662\n",
      "Training until validation scores don't improve for 300 rounds\n"
     ]
    },
    {
     "name": "stderr",
     "output_type": "stream",
     "text": [
      "regularization_factors, val_score: 0.152662:  70%|#######   | 14/20 [01:04<00:27,  4.62s/it]\u001b[32m[I 2021-08-31 15:54:36,743]\u001b[0m Trial 53 finished with value: 0.1526787322959563 and parameters: {'lambda_l1': 1.2258702077336227e-08, 'lambda_l2': 6.678084298040202}. Best is trial 50 with value: 0.15266222254997439.\u001b[0m\n",
      "regularization_factors, val_score: 0.152662:  70%|#######   | 14/20 [01:04<00:27,  4.62s/it]"
     ]
    },
    {
     "name": "stdout",
     "output_type": "stream",
     "text": [
      "Early stopping, best iteration is:\n",
      "[34]\ttrain's fair: 0.152957\tvalid's fair: 0.152679\n",
      "Training until validation scores don't improve for 300 rounds\n"
     ]
    },
    {
     "name": "stderr",
     "output_type": "stream",
     "text": [
      "regularization_factors, val_score: 0.152662:  75%|#######5  | 15/20 [01:08<00:22,  4.49s/it]\u001b[32m[I 2021-08-31 15:54:40,942]\u001b[0m Trial 54 finished with value: 0.15266222255085216 and parameters: {'lambda_l1': 4.775687245934417e-07, 'lambda_l2': 1.0009057307881629e-08}. Best is trial 50 with value: 0.15266222254997439.\u001b[0m\n",
      "regularization_factors, val_score: 0.152662:  75%|#######5  | 15/20 [01:08<00:22,  4.49s/it]"
     ]
    },
    {
     "name": "stdout",
     "output_type": "stream",
     "text": [
      "Early stopping, best iteration is:\n",
      "[36]\ttrain's fair: 0.152932\tvalid's fair: 0.152662\n",
      "Training until validation scores don't improve for 300 rounds\n"
     ]
    },
    {
     "name": "stderr",
     "output_type": "stream",
     "text": [
      "regularization_factors, val_score: 0.152662:  80%|########  | 16/20 [01:13<00:17,  4.40s/it]\u001b[32m[I 2021-08-31 15:54:45,142]\u001b[0m Trial 55 finished with value: 0.1526622225606164 and parameters: {'lambda_l1': 2.270991375754898e-07, 'lambda_l2': 3.257146137068364e-05}. Best is trial 50 with value: 0.15266222254997439.\u001b[0m\n",
      "regularization_factors, val_score: 0.152662:  80%|########  | 16/20 [01:13<00:17,  4.40s/it]"
     ]
    },
    {
     "name": "stdout",
     "output_type": "stream",
     "text": [
      "Early stopping, best iteration is:\n",
      "[36]\ttrain's fair: 0.152932\tvalid's fair: 0.152662\n",
      "Training until validation scores don't improve for 300 rounds\n"
     ]
    },
    {
     "name": "stderr",
     "output_type": "stream",
     "text": [
      "regularization_factors, val_score: 0.152662:  85%|########5 | 17/20 [01:17<00:13,  4.38s/it]\u001b[32m[I 2021-08-31 15:54:49,464]\u001b[0m Trial 56 finished with value: 0.15266222255066372 and parameters: {'lambda_l1': 3.2094322505488055e-07, 'lambda_l2': 3.943953796974796e-07}. Best is trial 50 with value: 0.15266222254997439.\u001b[0m\n",
      "regularization_factors, val_score: 0.152662:  85%|########5 | 17/20 [01:17<00:13,  4.38s/it]"
     ]
    },
    {
     "name": "stdout",
     "output_type": "stream",
     "text": [
      "Early stopping, best iteration is:\n",
      "[36]\ttrain's fair: 0.152932\tvalid's fair: 0.152662\n",
      "Training until validation scores don't improve for 300 rounds\n"
     ]
    },
    {
     "name": "stderr",
     "output_type": "stream",
     "text": [
      "regularization_factors, val_score: 0.152660:  90%|######### | 18/20 [01:22<00:08,  4.44s/it]\u001b[32m[I 2021-08-31 15:54:54,055]\u001b[0m Trial 57 finished with value: 0.15265976217525223 and parameters: {'lambda_l1': 1.0920741412473001e-08, 'lambda_l2': 0.06953845325298122}. Best is trial 57 with value: 0.15265976217525223.\u001b[0m\n",
      "regularization_factors, val_score: 0.152660:  90%|######### | 18/20 [01:22<00:08,  4.44s/it]"
     ]
    },
    {
     "name": "stdout",
     "output_type": "stream",
     "text": [
      "Early stopping, best iteration is:\n",
      "[39]\ttrain's fair: 0.152903\tvalid's fair: 0.15266\n",
      "Training until validation scores don't improve for 300 rounds\n"
     ]
    },
    {
     "name": "stderr",
     "output_type": "stream",
     "text": [
      "regularization_factors, val_score: 0.152660:  95%|#########5| 19/20 [01:27<00:04,  4.80s/it]\u001b[32m[I 2021-08-31 15:54:59,677]\u001b[0m Trial 58 finished with value: 0.15267409498946594 and parameters: {'lambda_l1': 1.7292762580080125e-06, 'lambda_l2': 0.2116866313579047}. Best is trial 57 with value: 0.15265976217525223.\u001b[0m\n",
      "regularization_factors, val_score: 0.152660:  95%|#########5| 19/20 [01:27<00:04,  4.80s/it]"
     ]
    },
    {
     "name": "stdout",
     "output_type": "stream",
     "text": [
      "Early stopping, best iteration is:\n",
      "[35]\ttrain's fair: 0.152936\tvalid's fair: 0.152674\n",
      "Training until validation scores don't improve for 300 rounds\n"
     ]
    },
    {
     "name": "stderr",
     "output_type": "stream",
     "text": [
      "regularization_factors, val_score: 0.152660: 100%|##########| 20/20 [01:31<00:00,  4.63s/it]\u001b[32m[I 2021-08-31 15:55:03,927]\u001b[0m Trial 59 finished with value: 0.15266891620759285 and parameters: {'lambda_l1': 7.333775508221405e-08, 'lambda_l2': 0.2517180983756855}. Best is trial 57 with value: 0.15265976217525223.\u001b[0m\n",
      "regularization_factors, val_score: 0.152660: 100%|##########| 20/20 [01:31<00:00,  4.59s/it]\n",
      "min_data_in_leaf, val_score: 0.152660:   0%|          | 0/5 [00:00<?, ?it/s]"
     ]
    },
    {
     "name": "stdout",
     "output_type": "stream",
     "text": [
      "Early stopping, best iteration is:\n",
      "[35]\ttrain's fair: 0.152943\tvalid's fair: 0.152669\n",
      "Training until validation scores don't improve for 300 rounds\n"
     ]
    },
    {
     "name": "stderr",
     "output_type": "stream",
     "text": [
      "min_data_in_leaf, val_score: 0.152660:  20%|##        | 1/5 [00:04<00:19,  4.90s/it]\u001b[32m[I 2021-08-31 15:55:08,839]\u001b[0m Trial 60 finished with value: 0.15270006145849638 and parameters: {'min_child_samples': 100}. Best is trial 60 with value: 0.15270006145849638.\u001b[0m\n",
      "min_data_in_leaf, val_score: 0.152660:  20%|##        | 1/5 [00:04<00:19,  4.90s/it]"
     ]
    },
    {
     "name": "stdout",
     "output_type": "stream",
     "text": [
      "Early stopping, best iteration is:\n",
      "[40]\ttrain's fair: 0.15292\tvalid's fair: 0.1527\n",
      "Training until validation scores don't improve for 300 rounds\n"
     ]
    },
    {
     "name": "stderr",
     "output_type": "stream",
     "text": [
      "min_data_in_leaf, val_score: 0.152660:  40%|####      | 2/5 [00:09<00:13,  4.62s/it]\u001b[32m[I 2021-08-31 15:55:13,260]\u001b[0m Trial 61 finished with value: 0.1526877225174373 and parameters: {'min_child_samples': 50}. Best is trial 61 with value: 0.1526877225174373.\u001b[0m\n",
      "min_data_in_leaf, val_score: 0.152660:  40%|####      | 2/5 [00:09<00:13,  4.62s/it]"
     ]
    },
    {
     "name": "stdout",
     "output_type": "stream",
     "text": [
      "Early stopping, best iteration is:\n",
      "[36]\ttrain's fair: 0.152937\tvalid's fair: 0.152688\n",
      "Training until validation scores don't improve for 300 rounds\n"
     ]
    },
    {
     "name": "stderr",
     "output_type": "stream",
     "text": [
      "min_data_in_leaf, val_score: 0.152660:  60%|######    | 3/5 [00:13<00:08,  4.48s/it]\u001b[32m[I 2021-08-31 15:55:17,582]\u001b[0m Trial 62 finished with value: 0.15266641225016384 and parameters: {'min_child_samples': 25}. Best is trial 62 with value: 0.15266641225016384.\u001b[0m\n",
      "min_data_in_leaf, val_score: 0.152660:  60%|######    | 3/5 [00:13<00:08,  4.48s/it]"
     ]
    },
    {
     "name": "stdout",
     "output_type": "stream",
     "text": [
      "Early stopping, best iteration is:\n",
      "[37]\ttrain's fair: 0.152922\tvalid's fair: 0.152666\n",
      "Training until validation scores don't improve for 300 rounds\n"
     ]
    },
    {
     "name": "stderr",
     "output_type": "stream",
     "text": [
      "min_data_in_leaf, val_score: 0.152660:  80%|########  | 4/5 [00:18<00:04,  4.47s/it]\u001b[32m[I 2021-08-31 15:55:22,024]\u001b[0m Trial 63 finished with value: 0.15269479653854834 and parameters: {'min_child_samples': 5}. Best is trial 62 with value: 0.15266641225016384.\u001b[0m\n",
      "min_data_in_leaf, val_score: 0.152660:  80%|########  | 4/5 [00:18<00:04,  4.47s/it]"
     ]
    },
    {
     "name": "stdout",
     "output_type": "stream",
     "text": [
      "Early stopping, best iteration is:\n",
      "[42]\ttrain's fair: 0.152861\tvalid's fair: 0.152695\n",
      "Training until validation scores don't improve for 300 rounds\n"
     ]
    },
    {
     "name": "stderr",
     "output_type": "stream",
     "text": [
      "min_data_in_leaf, val_score: 0.152660: 100%|##########| 5/5 [00:23<00:00,  4.76s/it]\u001b[32m[I 2021-08-31 15:55:27,314]\u001b[0m Trial 64 finished with value: 0.15269458738337718 and parameters: {'min_child_samples': 10}. Best is trial 62 with value: 0.15266641225016384.\u001b[0m\n",
      "min_data_in_leaf, val_score: 0.152660: 100%|##########| 5/5 [00:23<00:00,  4.68s/it]"
     ]
    },
    {
     "name": "stdout",
     "output_type": "stream",
     "text": [
      "Early stopping, best iteration is:\n",
      "[60]\ttrain's fair: 0.152719\tvalid's fair: 0.152695\n"
     ]
    },
    {
     "name": "stderr",
     "output_type": "stream",
     "text": [
      "\n",
      "\u001b[32m[I 2021-08-31 15:55:27,687]\u001b[0m A new study created in memory with name: no-name-51ac3db8-17af-42b8-8276-dd2318c33307\u001b[0m\n",
      "feature_fraction, val_score: inf:   0%|          | 0/7 [00:00<?, ?it/s]"
     ]
    },
    {
     "name": "stdout",
     "output_type": "stream",
     "text": [
      "8 0.7140224114951358\n",
      "Training until validation scores don't improve for 300 rounds\n"
     ]
    },
    {
     "name": "stderr",
     "output_type": "stream",
     "text": [
      "feature_fraction, val_score: 0.152881:  14%|#4        | 1/7 [00:05<00:35,  5.95s/it]\u001b[32m[I 2021-08-31 15:55:33,640]\u001b[0m Trial 0 finished with value: 0.1528814197319298 and parameters: {'feature_fraction': 0.8}. Best is trial 0 with value: 0.1528814197319298.\u001b[0m\n",
      "feature_fraction, val_score: 0.152881:  14%|#4        | 1/7 [00:05<00:35,  5.95s/it]"
     ]
    },
    {
     "name": "stdout",
     "output_type": "stream",
     "text": [
      "Early stopping, best iteration is:\n",
      "[87]\ttrain's fair: 0.152677\tvalid's fair: 0.152881\n",
      "Training until validation scores don't improve for 300 rounds\n"
     ]
    },
    {
     "name": "stderr",
     "output_type": "stream",
     "text": [
      "feature_fraction, val_score: 0.152881:  29%|##8       | 2/7 [00:10<00:24,  4.96s/it]\u001b[32m[I 2021-08-31 15:55:37,915]\u001b[0m Trial 1 finished with value: 0.15291110251866497 and parameters: {'feature_fraction': 1.0}. Best is trial 0 with value: 0.1528814197319298.\u001b[0m\n",
      "feature_fraction, val_score: 0.152881:  29%|##8       | 2/7 [00:10<00:24,  4.96s/it]"
     ]
    },
    {
     "name": "stdout",
     "output_type": "stream",
     "text": [
      "Early stopping, best iteration is:\n",
      "[31]\ttrain's fair: 0.152906\tvalid's fair: 0.152911\n",
      "Training until validation scores don't improve for 300 rounds\n"
     ]
    },
    {
     "name": "stderr",
     "output_type": "stream",
     "text": [
      "feature_fraction, val_score: 0.152881:  43%|####2     | 3/7 [00:15<00:19,  4.97s/it]\u001b[32m[I 2021-08-31 15:55:42,888]\u001b[0m Trial 2 finished with value: 0.15288141973192979 and parameters: {'feature_fraction': 0.5}. Best is trial 2 with value: 0.15288141973192979.\u001b[0m\n",
      "feature_fraction, val_score: 0.152881:  43%|####2     | 3/7 [00:15<00:19,  4.97s/it]"
     ]
    },
    {
     "name": "stdout",
     "output_type": "stream",
     "text": [
      "Early stopping, best iteration is:\n",
      "[87]\ttrain's fair: 0.152677\tvalid's fair: 0.152881\n",
      "Training until validation scores don't improve for 300 rounds\n"
     ]
    },
    {
     "name": "stderr",
     "output_type": "stream",
     "text": [
      "feature_fraction, val_score: 0.152881:  57%|#####7    | 4/7 [00:20<00:15,  5.00s/it]\u001b[32m[I 2021-08-31 15:55:47,947]\u001b[0m Trial 3 finished with value: 0.15288141973192979 and parameters: {'feature_fraction': 0.7}. Best is trial 2 with value: 0.15288141973192979.\u001b[0m\n",
      "feature_fraction, val_score: 0.152881:  57%|#####7    | 4/7 [00:20<00:15,  5.00s/it]"
     ]
    },
    {
     "name": "stdout",
     "output_type": "stream",
     "text": [
      "Early stopping, best iteration is:\n",
      "[87]\ttrain's fair: 0.152677\tvalid's fair: 0.152881\n",
      "Training until validation scores don't improve for 300 rounds\n"
     ]
    },
    {
     "name": "stderr",
     "output_type": "stream",
     "text": [
      "feature_fraction, val_score: 0.152881:  71%|#######1  | 5/7 [00:24<00:09,  4.76s/it]\u001b[32m[I 2021-08-31 15:55:52,263]\u001b[0m Trial 4 finished with value: 0.15291110251866497 and parameters: {'feature_fraction': 0.8999999999999999}. Best is trial 2 with value: 0.15288141973192979.\u001b[0m\n",
      "feature_fraction, val_score: 0.152881:  71%|#######1  | 5/7 [00:24<00:09,  4.76s/it]"
     ]
    },
    {
     "name": "stdout",
     "output_type": "stream",
     "text": [
      "Early stopping, best iteration is:\n",
      "[31]\ttrain's fair: 0.152906\tvalid's fair: 0.152911\n",
      "Training until validation scores don't improve for 300 rounds\n"
     ]
    },
    {
     "name": "stderr",
     "output_type": "stream",
     "text": [
      "feature_fraction, val_score: 0.152881:  86%|########5 | 6/7 [00:29<00:04,  4.84s/it]\u001b[32m[I 2021-08-31 15:55:57,254]\u001b[0m Trial 5 finished with value: 0.1528814197319298 and parameters: {'feature_fraction': 0.6}. Best is trial 2 with value: 0.15288141973192979.\u001b[0m\n",
      "feature_fraction, val_score: 0.152881:  86%|########5 | 6/7 [00:29<00:04,  4.84s/it]"
     ]
    },
    {
     "name": "stdout",
     "output_type": "stream",
     "text": [
      "Early stopping, best iteration is:\n",
      "[87]\ttrain's fair: 0.152677\tvalid's fair: 0.152881\n",
      "Training until validation scores don't improve for 300 rounds\n"
     ]
    },
    {
     "name": "stderr",
     "output_type": "stream",
     "text": [
      "feature_fraction, val_score: 0.152881: 100%|##########| 7/7 [00:36<00:00,  5.54s/it]\u001b[32m[I 2021-08-31 15:56:04,247]\u001b[0m Trial 6 finished with value: 0.15295550440650996 and parameters: {'feature_fraction': 0.4}. Best is trial 2 with value: 0.15288141973192979.\u001b[0m\n",
      "feature_fraction, val_score: 0.152881: 100%|##########| 7/7 [00:36<00:00,  5.22s/it]\n",
      "num_leaves, val_score: 0.152881:   0%|          | 0/20 [00:00<?, ?it/s]"
     ]
    },
    {
     "name": "stdout",
     "output_type": "stream",
     "text": [
      "Early stopping, best iteration is:\n",
      "[31]\ttrain's fair: 0.15321\tvalid's fair: 0.152956\n",
      "Training until validation scores don't improve for 300 rounds\n"
     ]
    },
    {
     "name": "stderr",
     "output_type": "stream",
     "text": [
      "num_leaves, val_score: 0.152881:   5%|5         | 1/20 [00:09<02:51,  9.02s/it]\u001b[32m[I 2021-08-31 15:56:13,272]\u001b[0m Trial 7 finished with value: 0.15305929652081268 and parameters: {'num_leaves': 227}. Best is trial 7 with value: 0.15305929652081268.\u001b[0m\n",
      "num_leaves, val_score: 0.152881:   5%|5         | 1/20 [00:09<02:51,  9.02s/it]"
     ]
    },
    {
     "name": "stdout",
     "output_type": "stream",
     "text": [
      "Early stopping, best iteration is:\n",
      "[22]\ttrain's fair: 0.152208\tvalid's fair: 0.153059\n",
      "Training until validation scores don't improve for 300 rounds\n"
     ]
    },
    {
     "name": "stderr",
     "output_type": "stream",
     "text": [
      "num_leaves, val_score: 0.152878:  10%|#         | 2/20 [00:14<01:59,  6.65s/it]\u001b[32m[I 2021-08-31 15:56:18,263]\u001b[0m Trial 8 finished with value: 0.15287783881070638 and parameters: {'num_leaves': 59}. Best is trial 8 with value: 0.15287783881070638.\u001b[0m\n",
      "num_leaves, val_score: 0.152878:  10%|#         | 2/20 [00:14<01:59,  6.65s/it]"
     ]
    },
    {
     "name": "stdout",
     "output_type": "stream",
     "text": [
      "Early stopping, best iteration is:\n",
      "[33]\ttrain's fair: 0.15276\tvalid's fair: 0.152878\n",
      "Training until validation scores don't improve for 300 rounds\n"
     ]
    },
    {
     "name": "stderr",
     "output_type": "stream",
     "text": [
      "num_leaves, val_score: 0.152878:  15%|#5        | 3/20 [00:20<01:53,  6.70s/it]\u001b[32m[I 2021-08-31 15:56:25,018]\u001b[0m Trial 9 finished with value: 0.15299654696157117 and parameters: {'num_leaves': 156}. Best is trial 8 with value: 0.15287783881070638.\u001b[0m\n",
      "num_leaves, val_score: 0.152878:  15%|#5        | 3/20 [00:20<01:53,  6.70s/it]"
     ]
    },
    {
     "name": "stdout",
     "output_type": "stream",
     "text": [
      "Early stopping, best iteration is:\n",
      "[30]\ttrain's fair: 0.152201\tvalid's fair: 0.152997\n",
      "Training until validation scores don't improve for 300 rounds\n"
     ]
    },
    {
     "name": "stderr",
     "output_type": "stream",
     "text": [
      "num_leaves, val_score: 0.152843:  20%|##        | 4/20 [00:24<01:29,  5.60s/it]\u001b[32m[I 2021-08-31 15:56:28,926]\u001b[0m Trial 10 finished with value: 0.15284337514497692 and parameters: {'num_leaves': 10}. Best is trial 10 with value: 0.15284337514497692.\u001b[0m\n",
      "num_leaves, val_score: 0.152843:  20%|##        | 4/20 [00:24<01:29,  5.60s/it]"
     ]
    },
    {
     "name": "stdout",
     "output_type": "stream",
     "text": [
      "Early stopping, best iteration is:\n",
      "[40]\ttrain's fair: 0.153152\tvalid's fair: 0.152843\n",
      "Training until validation scores don't improve for 300 rounds\n"
     ]
    },
    {
     "name": "stderr",
     "output_type": "stream",
     "text": [
      "num_leaves, val_score: 0.152843:  25%|##5       | 5/20 [00:29<01:21,  5.43s/it]\u001b[32m[I 2021-08-31 15:56:34,075]\u001b[0m Trial 11 finished with value: 0.15287295127822342 and parameters: {'num_leaves': 65}. Best is trial 10 with value: 0.15284337514497692.\u001b[0m\n",
      "num_leaves, val_score: 0.152843:  25%|##5       | 5/20 [00:29<01:21,  5.43s/it]"
     ]
    },
    {
     "name": "stdout",
     "output_type": "stream",
     "text": [
      "Early stopping, best iteration is:\n",
      "[31]\ttrain's fair: 0.15275\tvalid's fair: 0.152873\n",
      "Training until validation scores don't improve for 300 rounds\n"
     ]
    },
    {
     "name": "stderr",
     "output_type": "stream",
     "text": [
      "num_leaves, val_score: 0.152843:  30%|###       | 6/20 [00:36<01:22,  5.90s/it]\u001b[32m[I 2021-08-31 15:56:40,879]\u001b[0m Trial 12 finished with value: 0.15292946831023535 and parameters: {'num_leaves': 109}. Best is trial 10 with value: 0.15284337514497692.\u001b[0m\n",
      "num_leaves, val_score: 0.152843:  30%|###       | 6/20 [00:36<01:22,  5.90s/it]"
     ]
    },
    {
     "name": "stdout",
     "output_type": "stream",
     "text": [
      "Early stopping, best iteration is:\n",
      "[28]\ttrain's fair: 0.152527\tvalid's fair: 0.152929\n",
      "Training until validation scores don't improve for 300 rounds\n"
     ]
    },
    {
     "name": "stderr",
     "output_type": "stream",
     "text": [
      "num_leaves, val_score: 0.152843:  35%|###5      | 7/20 [00:44<01:25,  6.54s/it]\u001b[32m[I 2021-08-31 15:56:48,744]\u001b[0m Trial 13 finished with value: 0.15299166400689776 and parameters: {'num_leaves': 150}. Best is trial 10 with value: 0.15284337514497692.\u001b[0m\n",
      "num_leaves, val_score: 0.152843:  35%|###5      | 7/20 [00:44<01:25,  6.54s/it]"
     ]
    },
    {
     "name": "stdout",
     "output_type": "stream",
     "text": [
      "Early stopping, best iteration is:\n",
      "[28]\ttrain's fair: 0.152302\tvalid's fair: 0.152992\n",
      "Training until validation scores don't improve for 300 rounds\n"
     ]
    },
    {
     "name": "stderr",
     "output_type": "stream",
     "text": [
      "num_leaves, val_score: 0.152843:  40%|####      | 8/20 [00:52<01:23,  6.95s/it]\u001b[32m[I 2021-08-31 15:56:56,570]\u001b[0m Trial 14 finished with value: 0.15304491986205573 and parameters: {'num_leaves': 229}. Best is trial 10 with value: 0.15284337514497692.\u001b[0m\n",
      "num_leaves, val_score: 0.152843:  40%|####      | 8/20 [00:52<01:23,  6.95s/it]"
     ]
    },
    {
     "name": "stdout",
     "output_type": "stream",
     "text": [
      "Early stopping, best iteration is:\n",
      "[24]\ttrain's fair: 0.152081\tvalid's fair: 0.153045\n",
      "Training until validation scores don't improve for 300 rounds\n"
     ]
    },
    {
     "name": "stderr",
     "output_type": "stream",
     "text": [
      "num_leaves, val_score: 0.152834:  45%|####5     | 9/20 [00:55<01:04,  5.87s/it]\u001b[32m[I 2021-08-31 15:57:00,071]\u001b[0m Trial 15 finished with value: 0.15283396971555863 and parameters: {'num_leaves': 5}. Best is trial 15 with value: 0.15283396971555863.\u001b[0m\n",
      "num_leaves, val_score: 0.152834:  45%|####5     | 9/20 [00:55<01:04,  5.87s/it]"
     ]
    },
    {
     "name": "stdout",
     "output_type": "stream",
     "text": [
      "Early stopping, best iteration is:\n",
      "[49]\ttrain's fair: 0.153188\tvalid's fair: 0.152834\n",
      "Training until validation scores don't improve for 300 rounds\n"
     ]
    },
    {
     "name": "stderr",
     "output_type": "stream",
     "text": [
      "num_leaves, val_score: 0.152834:  50%|#####     | 10/20 [01:04<01:08,  6.87s/it]\u001b[32m[I 2021-08-31 15:57:09,176]\u001b[0m Trial 16 finished with value: 0.1530650396577674 and parameters: {'num_leaves': 256}. Best is trial 15 with value: 0.15283396971555863.\u001b[0m\n",
      "num_leaves, val_score: 0.152834:  50%|#####     | 10/20 [01:04<01:08,  6.87s/it]"
     ]
    },
    {
     "name": "stdout",
     "output_type": "stream",
     "text": [
      "Early stopping, best iteration is:\n",
      "[25]\ttrain's fair: 0.151932\tvalid's fair: 0.153065\n",
      "Training until validation scores don't improve for 300 rounds\n"
     ]
    },
    {
     "name": "stderr",
     "output_type": "stream",
     "text": [
      "num_leaves, val_score: 0.152825:  55%|#####5    | 11/20 [01:08<00:52,  5.85s/it]\u001b[32m[I 2021-08-31 15:57:12,708]\u001b[0m Trial 17 finished with value: 0.15282483955151416 and parameters: {'num_leaves': 3}. Best is trial 17 with value: 0.15282483955151416.\u001b[0m\n",
      "num_leaves, val_score: 0.152825:  55%|#####5    | 11/20 [01:08<00:52,  5.85s/it]"
     ]
    },
    {
     "name": "stdout",
     "output_type": "stream",
     "text": [
      "Early stopping, best iteration is:\n",
      "[60]\ttrain's fair: 0.153206\tvalid's fair: 0.152825\n",
      "Training until validation scores don't improve for 300 rounds\n"
     ]
    },
    {
     "name": "stderr",
     "output_type": "stream",
     "text": [
      "num_leaves, val_score: 0.152825:  60%|######    | 12/20 [01:13<00:43,  5.48s/it]\u001b[32m[I 2021-08-31 15:57:17,344]\u001b[0m Trial 18 finished with value: 0.15282483955151416 and parameters: {'num_leaves': 3}. Best is trial 17 with value: 0.15282483955151416.\u001b[0m\n",
      "num_leaves, val_score: 0.152825:  60%|######    | 12/20 [01:13<00:43,  5.48s/it]"
     ]
    },
    {
     "name": "stdout",
     "output_type": "stream",
     "text": [
      "Early stopping, best iteration is:\n",
      "[60]\ttrain's fair: 0.153206\tvalid's fair: 0.152825\n",
      "Training until validation scores don't improve for 300 rounds\n"
     ]
    },
    {
     "name": "stderr",
     "output_type": "stream",
     "text": [
      "num_leaves, val_score: 0.152825:  65%|######5   | 13/20 [01:17<00:36,  5.19s/it]\u001b[32m[I 2021-08-31 15:57:21,855]\u001b[0m Trial 19 finished with value: 0.152883846285683 and parameters: {'num_leaves': 39}. Best is trial 17 with value: 0.15282483955151416.\u001b[0m\n",
      "num_leaves, val_score: 0.152825:  65%|######5   | 13/20 [01:17<00:36,  5.19s/it]"
     ]
    },
    {
     "name": "stdout",
     "output_type": "stream",
     "text": [
      "Early stopping, best iteration is:\n",
      "[32]\ttrain's fair: 0.152932\tvalid's fair: 0.152884\n",
      "Training until validation scores don't improve for 300 rounds\n"
     ]
    },
    {
     "name": "stderr",
     "output_type": "stream",
     "text": [
      "num_leaves, val_score: 0.152825:  70%|#######   | 14/20 [01:20<00:27,  4.62s/it]\u001b[32m[I 2021-08-31 15:57:25,155]\u001b[0m Trial 20 finished with value: 0.15283361710819907 and parameters: {'num_leaves': 4}. Best is trial 17 with value: 0.15282483955151416.\u001b[0m\n",
      "num_leaves, val_score: 0.152825:  70%|#######   | 14/20 [01:20<00:27,  4.62s/it]"
     ]
    },
    {
     "name": "stdout",
     "output_type": "stream",
     "text": [
      "Early stopping, best iteration is:\n",
      "[41]\ttrain's fair: 0.153209\tvalid's fair: 0.152834\n",
      "Training until validation scores don't improve for 300 rounds\n"
     ]
    },
    {
     "name": "stderr",
     "output_type": "stream",
     "text": [
      "num_leaves, val_score: 0.152825:  75%|#######5  | 15/20 [01:26<00:24,  4.89s/it]\u001b[32m[I 2021-08-31 15:57:30,673]\u001b[0m Trial 21 finished with value: 0.15292135022307568 and parameters: {'num_leaves': 97}. Best is trial 17 with value: 0.15282483955151416.\u001b[0m\n",
      "num_leaves, val_score: 0.152825:  75%|#######5  | 15/20 [01:26<00:24,  4.89s/it]"
     ]
    },
    {
     "name": "stdout",
     "output_type": "stream",
     "text": [
      "Early stopping, best iteration is:\n",
      "[31]\ttrain's fair: 0.152532\tvalid's fair: 0.152921\n",
      "Training until validation scores don't improve for 300 rounds\n"
     ]
    },
    {
     "name": "stderr",
     "output_type": "stream",
     "text": [
      "num_leaves, val_score: 0.152825:  80%|########  | 16/20 [01:31<00:19,  4.83s/it]\u001b[32m[I 2021-08-31 15:57:35,377]\u001b[0m Trial 22 finished with value: 0.15288637147228828 and parameters: {'num_leaves': 40}. Best is trial 17 with value: 0.15282483955151416.\u001b[0m\n",
      "num_leaves, val_score: 0.152825:  80%|########  | 16/20 [01:31<00:19,  4.83s/it]"
     ]
    },
    {
     "name": "stdout",
     "output_type": "stream",
     "text": [
      "Early stopping, best iteration is:\n",
      "[32]\ttrain's fair: 0.152925\tvalid's fair: 0.152886\n",
      "Training until validation scores don't improve for 300 rounds\n"
     ]
    },
    {
     "name": "stderr",
     "output_type": "stream",
     "text": [
      "num_leaves, val_score: 0.152825:  85%|########5 | 17/20 [01:35<00:13,  4.65s/it]\u001b[32m[I 2021-08-31 15:57:39,602]\u001b[0m Trial 23 finished with value: 0.15286701226126473 and parameters: {'num_leaves': 30}. Best is trial 17 with value: 0.15282483955151416.\u001b[0m\n",
      "num_leaves, val_score: 0.152825:  85%|########5 | 17/20 [01:35<00:13,  4.65s/it]"
     ]
    },
    {
     "name": "stdout",
     "output_type": "stream",
     "text": [
      "Early stopping, best iteration is:\n",
      "[35]\ttrain's fair: 0.152994\tvalid's fair: 0.152867\n",
      "Training until validation scores don't improve for 300 rounds\n"
     ]
    },
    {
     "name": "stderr",
     "output_type": "stream",
     "text": [
      "num_leaves, val_score: 0.152825:  90%|######### | 18/20 [01:41<00:10,  5.14s/it]\u001b[32m[I 2021-08-31 15:57:45,865]\u001b[0m Trial 24 finished with value: 0.1529105329115233 and parameters: {'num_leaves': 70}. Best is trial 17 with value: 0.15282483955151416.\u001b[0m\n",
      "num_leaves, val_score: 0.152825:  90%|######### | 18/20 [01:41<00:10,  5.14s/it]"
     ]
    },
    {
     "name": "stdout",
     "output_type": "stream",
     "text": [
      "Early stopping, best iteration is:\n",
      "[36]\ttrain's fair: 0.152639\tvalid's fair: 0.152911\n",
      "Training until validation scores don't improve for 300 rounds\n"
     ]
    },
    {
     "name": "stderr",
     "output_type": "stream",
     "text": [
      "num_leaves, val_score: 0.152825:  95%|#########5| 19/20 [01:50<00:06,  6.16s/it]\u001b[32m[I 2021-08-31 15:57:54,420]\u001b[0m Trial 25 finished with value: 0.15301919288346438 and parameters: {'num_leaves': 189}. Best is trial 17 with value: 0.15282483955151416.\u001b[0m\n",
      "num_leaves, val_score: 0.152825:  95%|#########5| 19/20 [01:50<00:06,  6.16s/it]"
     ]
    },
    {
     "name": "stdout",
     "output_type": "stream",
     "text": [
      "Early stopping, best iteration is:\n",
      "[27]\ttrain's fair: 0.152131\tvalid's fair: 0.153019\n",
      "Training until validation scores don't improve for 300 rounds\n"
     ]
    },
    {
     "name": "stderr",
     "output_type": "stream",
     "text": [
      "num_leaves, val_score: 0.152825: 100%|##########| 20/20 [01:55<00:00,  6.01s/it]\u001b[32m[I 2021-08-31 15:58:00,073]\u001b[0m Trial 26 finished with value: 0.15292761500992252 and parameters: {'num_leaves': 98}. Best is trial 17 with value: 0.15282483955151416.\u001b[0m\n",
      "num_leaves, val_score: 0.152825: 100%|##########| 20/20 [01:55<00:00,  5.79s/it]\n",
      "bagging, val_score: 0.152825:   0%|          | 0/10 [00:00<?, ?it/s]"
     ]
    },
    {
     "name": "stdout",
     "output_type": "stream",
     "text": [
      "Early stopping, best iteration is:\n",
      "[36]\ttrain's fair: 0.15244\tvalid's fair: 0.152928\n",
      "Training until validation scores don't improve for 300 rounds\n"
     ]
    },
    {
     "name": "stderr",
     "output_type": "stream",
     "text": [
      "bagging, val_score: 0.152825:  10%|#         | 1/10 [00:04<00:37,  4.21s/it]\u001b[32m[I 2021-08-31 15:58:04,295]\u001b[0m Trial 27 finished with value: 0.15283848892592775 and parameters: {'bagging_fraction': 0.5734747435630292, 'bagging_freq': 7}. Best is trial 27 with value: 0.15283848892592775.\u001b[0m\n",
      "bagging, val_score: 0.152825:  10%|#         | 1/10 [00:04<00:37,  4.21s/it]"
     ]
    },
    {
     "name": "stdout",
     "output_type": "stream",
     "text": [
      "Early stopping, best iteration is:\n",
      "[112]\ttrain's fair: 0.153203\tvalid's fair: 0.152838\n",
      "Training until validation scores don't improve for 300 rounds\n"
     ]
    },
    {
     "name": "stderr",
     "output_type": "stream",
     "text": [
      "bagging, val_score: 0.152825:  20%|##        | 2/10 [00:08<00:32,  4.03s/it]\u001b[32m[I 2021-08-31 15:58:08,200]\u001b[0m Trial 28 finished with value: 0.15283708030999463 and parameters: {'bagging_fraction': 0.9186641144733898, 'bagging_freq': 7}. Best is trial 28 with value: 0.15283708030999463.\u001b[0m\n",
      "bagging, val_score: 0.152825:  20%|##        | 2/10 [00:08<00:32,  4.03s/it]"
     ]
    },
    {
     "name": "stdout",
     "output_type": "stream",
     "text": [
      "Early stopping, best iteration is:\n",
      "[57]\ttrain's fair: 0.153208\tvalid's fair: 0.152837\n",
      "Training until validation scores don't improve for 300 rounds\n"
     ]
    },
    {
     "name": "stderr",
     "output_type": "stream",
     "text": [
      "bagging, val_score: 0.152825:  30%|###       | 3/10 [00:12<00:29,  4.28s/it]\u001b[32m[I 2021-08-31 15:58:12,774]\u001b[0m Trial 29 finished with value: 0.15284469484112112 and parameters: {'bagging_fraction': 0.4199523167068453, 'bagging_freq': 4}. Best is trial 28 with value: 0.15283708030999463.\u001b[0m\n",
      "bagging, val_score: 0.152825:  30%|###       | 3/10 [00:12<00:29,  4.28s/it]"
     ]
    },
    {
     "name": "stdout",
     "output_type": "stream",
     "text": [
      "Early stopping, best iteration is:\n",
      "[152]\ttrain's fair: 0.153211\tvalid's fair: 0.152845\n",
      "Training until validation scores don't improve for 300 rounds\n"
     ]
    },
    {
     "name": "stderr",
     "output_type": "stream",
     "text": [
      "bagging, val_score: 0.152825:  40%|####      | 4/10 [00:17<00:26,  4.38s/it]\u001b[32m[I 2021-08-31 15:58:17,310]\u001b[0m Trial 30 finished with value: 0.15286529326955217 and parameters: {'bagging_fraction': 0.480021433846075, 'bagging_freq': 5}. Best is trial 28 with value: 0.15283708030999463.\u001b[0m\n",
      "bagging, val_score: 0.152825:  40%|####      | 4/10 [00:17<00:26,  4.38s/it]"
     ]
    },
    {
     "name": "stdout",
     "output_type": "stream",
     "text": [
      "Early stopping, best iteration is:\n",
      "[135]\ttrain's fair: 0.153205\tvalid's fair: 0.152865\n",
      "Training until validation scores don't improve for 300 rounds\n"
     ]
    },
    {
     "name": "stderr",
     "output_type": "stream",
     "text": [
      "bagging, val_score: 0.152825:  50%|#####     | 5/10 [00:24<00:26,  5.36s/it]\u001b[32m[I 2021-08-31 15:58:24,400]\u001b[0m Trial 31 finished with value: 0.1528429175076902 and parameters: {'bagging_fraction': 0.7793172819808206, 'bagging_freq': 5}. Best is trial 28 with value: 0.15283708030999463.\u001b[0m\n",
      "bagging, val_score: 0.152825:  50%|#####     | 5/10 [00:24<00:26,  5.36s/it]"
     ]
    },
    {
     "name": "stdout",
     "output_type": "stream",
     "text": [
      "Early stopping, best iteration is:\n",
      "[165]\ttrain's fair: 0.153175\tvalid's fair: 0.152843\n",
      "Training until validation scores don't improve for 300 rounds\n"
     ]
    },
    {
     "name": "stderr",
     "output_type": "stream",
     "text": [
      "bagging, val_score: 0.152825:  60%|######    | 6/10 [00:28<00:19,  4.94s/it]\u001b[32m[I 2021-08-31 15:58:28,514]\u001b[0m Trial 32 finished with value: 0.15283366364610235 and parameters: {'bagging_fraction': 0.8578524648345919, 'bagging_freq': 7}. Best is trial 32 with value: 0.15283366364610235.\u001b[0m\n",
      "bagging, val_score: 0.152825:  60%|######    | 6/10 [00:28<00:19,  4.94s/it]"
     ]
    },
    {
     "name": "stdout",
     "output_type": "stream",
     "text": [
      "Early stopping, best iteration is:\n",
      "[77]\ttrain's fair: 0.15321\tvalid's fair: 0.152834\n",
      "Training until validation scores don't improve for 300 rounds\n"
     ]
    },
    {
     "name": "stderr",
     "output_type": "stream",
     "text": [
      "bagging, val_score: 0.152823:  70%|#######   | 7/10 [00:33<00:15,  5.05s/it]\u001b[32m[I 2021-08-31 15:58:33,806]\u001b[0m Trial 33 finished with value: 0.15282292797974742 and parameters: {'bagging_fraction': 0.53553550980689, 'bagging_freq': 5}. Best is trial 33 with value: 0.15282292797974742.\u001b[0m\n",
      "bagging, val_score: 0.152823:  70%|#######   | 7/10 [00:33<00:15,  5.05s/it]"
     ]
    },
    {
     "name": "stdout",
     "output_type": "stream",
     "text": [
      "[500]\ttrain's fair: 0.153133\tvalid's fair: 0.152865\n",
      "Early stopping, best iteration is:\n",
      "[210]\ttrain's fair: 0.153173\tvalid's fair: 0.152823\n",
      "Training until validation scores don't improve for 300 rounds\n"
     ]
    },
    {
     "name": "stderr",
     "output_type": "stream",
     "text": [
      "bagging, val_score: 0.152823:  80%|########  | 8/10 [00:37<00:09,  4.74s/it]\u001b[32m[I 2021-08-31 15:58:37,878]\u001b[0m Trial 34 finished with value: 0.1528467350400587 and parameters: {'bagging_fraction': 0.8760695446569654, 'bagging_freq': 7}. Best is trial 33 with value: 0.15282292797974742.\u001b[0m\n",
      "bagging, val_score: 0.152823:  80%|########  | 8/10 [00:37<00:09,  4.74s/it]"
     ]
    },
    {
     "name": "stdout",
     "output_type": "stream",
     "text": [
      "Early stopping, best iteration is:\n",
      "[75]\ttrain's fair: 0.153209\tvalid's fair: 0.152847\n",
      "Training until validation scores don't improve for 300 rounds\n"
     ]
    },
    {
     "name": "stderr",
     "output_type": "stream",
     "text": [
      "bagging, val_score: 0.152823:  90%|######### | 9/10 [00:41<00:04,  4.44s/it]\u001b[32m[I 2021-08-31 15:58:41,675]\u001b[0m Trial 35 finished with value: 0.15283725769938203 and parameters: {'bagging_fraction': 0.6286201522083882, 'bagging_freq': 7}. Best is trial 33 with value: 0.15282292797974742.\u001b[0m\n",
      "bagging, val_score: 0.152823:  90%|######### | 9/10 [00:41<00:04,  4.44s/it]"
     ]
    },
    {
     "name": "stdout",
     "output_type": "stream",
     "text": [
      "Early stopping, best iteration is:\n",
      "[72]\ttrain's fair: 0.153218\tvalid's fair: 0.152837\n",
      "Training until validation scores don't improve for 300 rounds\n"
     ]
    },
    {
     "name": "stderr",
     "output_type": "stream",
     "text": [
      "bagging, val_score: 0.152823: 100%|##########| 10/10 [00:45<00:00,  4.38s/it]\u001b[32m[I 2021-08-31 15:58:45,908]\u001b[0m Trial 36 finished with value: 0.1528330674912594 and parameters: {'bagging_fraction': 0.6962637709512798, 'bagging_freq': 2}. Best is trial 33 with value: 0.15282292797974742.\u001b[0m\n",
      "bagging, val_score: 0.152823: 100%|##########| 10/10 [00:45<00:00,  4.58s/it]\n",
      "feature_fraction_stage2, val_score: 0.152823:   0%|          | 0/6 [00:00<?, ?it/s]"
     ]
    },
    {
     "name": "stdout",
     "output_type": "stream",
     "text": [
      "Early stopping, best iteration is:\n",
      "[84]\ttrain's fair: 0.153205\tvalid's fair: 0.152833\n",
      "Training until validation scores don't improve for 300 rounds\n"
     ]
    },
    {
     "name": "stderr",
     "output_type": "stream",
     "text": [
      "feature_fraction_stage2, val_score: 0.152823:  17%|#6        | 1/6 [00:05<00:26,  5.38s/it]\u001b[32m[I 2021-08-31 15:58:51,305]\u001b[0m Trial 37 finished with value: 0.15282292797974742 and parameters: {'feature_fraction': 0.5479999999999999}. Best is trial 37 with value: 0.15282292797974742.\u001b[0m\n",
      "feature_fraction_stage2, val_score: 0.152823:  17%|#6        | 1/6 [00:05<00:26,  5.38s/it]"
     ]
    },
    {
     "name": "stdout",
     "output_type": "stream",
     "text": [
      "[500]\ttrain's fair: 0.153133\tvalid's fair: 0.152865\n",
      "Early stopping, best iteration is:\n",
      "[210]\ttrain's fair: 0.153173\tvalid's fair: 0.152823\n",
      "Training until validation scores don't improve for 300 rounds\n"
     ]
    },
    {
     "name": "stderr",
     "output_type": "stream",
     "text": [
      "feature_fraction_stage2, val_score: 0.152823:  33%|###3      | 2/6 [00:12<00:25,  6.50s/it]\u001b[32m[I 2021-08-31 15:58:58,578]\u001b[0m Trial 38 finished with value: 0.15282292797974742 and parameters: {'feature_fraction': 0.516}. Best is trial 37 with value: 0.15282292797974742.\u001b[0m\n",
      "feature_fraction_stage2, val_score: 0.152823:  33%|###3      | 2/6 [00:12<00:25,  6.50s/it]"
     ]
    },
    {
     "name": "stdout",
     "output_type": "stream",
     "text": [
      "[500]\ttrain's fair: 0.153133\tvalid's fair: 0.152865\n",
      "Early stopping, best iteration is:\n",
      "[210]\ttrain's fair: 0.153173\tvalid's fair: 0.152823\n",
      "Training until validation scores don't improve for 300 rounds\n"
     ]
    },
    {
     "name": "stderr",
     "output_type": "stream",
     "text": [
      "feature_fraction_stage2, val_score: 0.152823:  50%|#####     | 3/6 [00:16<00:16,  5.35s/it]\u001b[32m[I 2021-08-31 15:59:02,563]\u001b[0m Trial 39 finished with value: 0.1529002461522513 and parameters: {'feature_fraction': 0.484}. Best is trial 37 with value: 0.15282292797974742.\u001b[0m\n",
      "feature_fraction_stage2, val_score: 0.152823:  50%|#####     | 3/6 [00:16<00:16,  5.35s/it]"
     ]
    },
    {
     "name": "stdout",
     "output_type": "stream",
     "text": [
      "Early stopping, best iteration is:\n",
      "[80]\ttrain's fair: 0.153288\tvalid's fair: 0.1529\n",
      "Training until validation scores don't improve for 300 rounds\n"
     ]
    },
    {
     "name": "stderr",
     "output_type": "stream",
     "text": [
      "feature_fraction_stage2, val_score: 0.152823:  67%|######6   | 4/6 [00:20<00:09,  4.80s/it]\u001b[32m[I 2021-08-31 15:59:06,533]\u001b[0m Trial 40 finished with value: 0.1529002461522513 and parameters: {'feature_fraction': 0.45199999999999996}. Best is trial 37 with value: 0.15282292797974742.\u001b[0m\n",
      "feature_fraction_stage2, val_score: 0.152823:  67%|######6   | 4/6 [00:20<00:09,  4.80s/it]"
     ]
    },
    {
     "name": "stdout",
     "output_type": "stream",
     "text": [
      "Early stopping, best iteration is:\n",
      "[80]\ttrain's fair: 0.153288\tvalid's fair: 0.1529\n",
      "Training until validation scores don't improve for 300 rounds\n"
     ]
    },
    {
     "name": "stderr",
     "output_type": "stream",
     "text": [
      "feature_fraction_stage2, val_score: 0.152823:  83%|########3 | 5/6 [00:25<00:04,  4.97s/it]\u001b[32m[I 2021-08-31 15:59:11,792]\u001b[0m Trial 41 finished with value: 0.15282292797974742 and parameters: {'feature_fraction': 0.58}. Best is trial 37 with value: 0.15282292797974742.\u001b[0m\n",
      "feature_fraction_stage2, val_score: 0.152823:  83%|########3 | 5/6 [00:25<00:04,  4.97s/it]"
     ]
    },
    {
     "name": "stdout",
     "output_type": "stream",
     "text": [
      "[500]\ttrain's fair: 0.153133\tvalid's fair: 0.152865\n",
      "Early stopping, best iteration is:\n",
      "[210]\ttrain's fair: 0.153173\tvalid's fair: 0.152823\n",
      "Training until validation scores don't improve for 300 rounds\n"
     ]
    },
    {
     "name": "stderr",
     "output_type": "stream",
     "text": [
      "feature_fraction_stage2, val_score: 0.152823: 100%|##########| 6/6 [00:29<00:00,  4.59s/it]\u001b[32m[I 2021-08-31 15:59:15,633]\u001b[0m Trial 42 finished with value: 0.1529002461522513 and parameters: {'feature_fraction': 0.42}. Best is trial 37 with value: 0.15282292797974742.\u001b[0m\n",
      "feature_fraction_stage2, val_score: 0.152823: 100%|##########| 6/6 [00:29<00:00,  4.95s/it]\n",
      "regularization_factors, val_score: 0.152823:   0%|          | 0/20 [00:00<?, ?it/s]"
     ]
    },
    {
     "name": "stdout",
     "output_type": "stream",
     "text": [
      "Early stopping, best iteration is:\n",
      "[80]\ttrain's fair: 0.153288\tvalid's fair: 0.1529\n",
      "Training until validation scores don't improve for 300 rounds\n"
     ]
    },
    {
     "name": "stderr",
     "output_type": "stream",
     "text": [
      "regularization_factors, val_score: 0.152822:   5%|5         | 1/20 [00:05<01:37,  5.15s/it]\u001b[32m[I 2021-08-31 15:59:20,793]\u001b[0m Trial 43 finished with value: 0.15282178997093146 and parameters: {'lambda_l1': 0.4540966730413659, 'lambda_l2': 0.11006962129951983}. Best is trial 43 with value: 0.15282178997093146.\u001b[0m\n",
      "regularization_factors, val_score: 0.152822:   5%|5         | 1/20 [00:05<01:37,  5.15s/it]"
     ]
    },
    {
     "name": "stdout",
     "output_type": "stream",
     "text": [
      "[500]\ttrain's fair: 0.153136\tvalid's fair: 0.152863\n",
      "Early stopping, best iteration is:\n",
      "[210]\ttrain's fair: 0.153176\tvalid's fair: 0.152822\n",
      "Training until validation scores don't improve for 300 rounds\n"
     ]
    },
    {
     "name": "stderr",
     "output_type": "stream",
     "text": [
      "regularization_factors, val_score: 0.152822:  10%|#         | 2/20 [00:10<01:33,  5.22s/it]\u001b[32m[I 2021-08-31 15:59:26,057]\u001b[0m Trial 44 finished with value: 0.15282292799643088 and parameters: {'lambda_l1': 3.038413782321808e-05, 'lambda_l2': 6.700400745925095e-07}. Best is trial 43 with value: 0.15282178997093146.\u001b[0m\n",
      "regularization_factors, val_score: 0.152822:  10%|#         | 2/20 [00:10<01:33,  5.22s/it]"
     ]
    },
    {
     "name": "stdout",
     "output_type": "stream",
     "text": [
      "[500]\ttrain's fair: 0.153133\tvalid's fair: 0.152865\n",
      "Early stopping, best iteration is:\n",
      "[210]\ttrain's fair: 0.153173\tvalid's fair: 0.152823\n",
      "Training until validation scores don't improve for 300 rounds\n"
     ]
    },
    {
     "name": "stderr",
     "output_type": "stream",
     "text": [
      "regularization_factors, val_score: 0.152822:  15%|#5        | 3/20 [00:17<01:44,  6.16s/it]\u001b[32m[I 2021-08-31 15:59:33,340]\u001b[0m Trial 45 finished with value: 0.15282292797986802 and parameters: {'lambda_l1': 3.4949728721829134e-08, 'lambda_l2': 9.762294739512e-07}. Best is trial 43 with value: 0.15282178997093146.\u001b[0m\n",
      "regularization_factors, val_score: 0.152822:  15%|#5        | 3/20 [00:17<01:44,  6.16s/it]"
     ]
    },
    {
     "name": "stdout",
     "output_type": "stream",
     "text": [
      "[500]\ttrain's fair: 0.153133\tvalid's fair: 0.152865\n",
      "Early stopping, best iteration is:\n",
      "[210]\ttrain's fair: 0.153173\tvalid's fair: 0.152823\n",
      "Training until validation scores don't improve for 300 rounds\n"
     ]
    },
    {
     "name": "stderr",
     "output_type": "stream",
     "text": [
      "regularization_factors, val_score: 0.152822:  20%|##        | 4/20 [00:23<01:33,  5.87s/it]\u001b[32m[I 2021-08-31 15:59:38,768]\u001b[0m Trial 46 finished with value: 0.1528329103769389 and parameters: {'lambda_l1': 4.481215051340578, 'lambda_l2': 0.0566768627052832}. Best is trial 43 with value: 0.15282178997093146.\u001b[0m\n",
      "regularization_factors, val_score: 0.152822:  20%|##        | 4/20 [00:23<01:33,  5.87s/it]"
     ]
    },
    {
     "name": "stdout",
     "output_type": "stream",
     "text": [
      "[500]\ttrain's fair: 0.153155\tvalid's fair: 0.152858\n",
      "Early stopping, best iteration is:\n",
      "[210]\ttrain's fair: 0.153183\tvalid's fair: 0.152833\n",
      "Training until validation scores don't improve for 300 rounds\n"
     ]
    },
    {
     "name": "stderr",
     "output_type": "stream",
     "text": [
      "regularization_factors, val_score: 0.152822:  25%|##5       | 5/20 [00:28<01:24,  5.67s/it]\u001b[32m[I 2021-08-31 15:59:44,070]\u001b[0m Trial 47 finished with value: 0.15282292798079983 and parameters: {'lambda_l1': 1.6425698916989617e-07, 'lambda_l2': 4.515004160709674e-06}. Best is trial 43 with value: 0.15282178997093146.\u001b[0m\n",
      "regularization_factors, val_score: 0.152822:  25%|##5       | 5/20 [00:28<01:24,  5.67s/it]"
     ]
    },
    {
     "name": "stdout",
     "output_type": "stream",
     "text": [
      "[500]\ttrain's fair: 0.153133\tvalid's fair: 0.152865\n",
      "Early stopping, best iteration is:\n",
      "[210]\ttrain's fair: 0.153173\tvalid's fair: 0.152823\n",
      "Training until validation scores don't improve for 300 rounds\n"
     ]
    },
    {
     "name": "stderr",
     "output_type": "stream",
     "text": [
      "regularization_factors, val_score: 0.152822:  30%|###       | 6/20 [00:33<01:17,  5.52s/it]\u001b[32m[I 2021-08-31 15:59:49,313]\u001b[0m Trial 48 finished with value: 0.15282320273702796 and parameters: {'lambda_l1': 9.217629332804384e-08, 'lambda_l2': 0.07441971200652585}. Best is trial 43 with value: 0.15282178997093146.\u001b[0m\n",
      "regularization_factors, val_score: 0.152822:  30%|###       | 6/20 [00:33<01:17,  5.52s/it]"
     ]
    },
    {
     "name": "stdout",
     "output_type": "stream",
     "text": [
      "[500]\ttrain's fair: 0.153134\tvalid's fair: 0.152867\n",
      "Early stopping, best iteration is:\n",
      "[210]\ttrain's fair: 0.153173\tvalid's fair: 0.152823\n",
      "Training until validation scores don't improve for 300 rounds\n"
     ]
    },
    {
     "name": "stderr",
     "output_type": "stream",
     "text": [
      "regularization_factors, val_score: 0.152822:  35%|###5      | 7/20 [00:39<01:11,  5.49s/it]\u001b[32m[I 2021-08-31 15:59:54,737]\u001b[0m Trial 49 finished with value: 0.15282834723497 and parameters: {'lambda_l1': 0.07028734001117574, 'lambda_l2': 0.01183674758854096}. Best is trial 43 with value: 0.15282178997093146.\u001b[0m\n",
      "regularization_factors, val_score: 0.152822:  35%|###5      | 7/20 [00:39<01:11,  5.49s/it]"
     ]
    },
    {
     "name": "stdout",
     "output_type": "stream",
     "text": [
      "[500]\ttrain's fair: 0.153137\tvalid's fair: 0.152867\n",
      "Early stopping, best iteration is:\n",
      "[210]\ttrain's fair: 0.153175\tvalid's fair: 0.152828\n",
      "Training until validation scores don't improve for 300 rounds\n"
     ]
    },
    {
     "name": "stderr",
     "output_type": "stream",
     "text": [
      "regularization_factors, val_score: 0.152822:  40%|####      | 8/20 [00:45<01:07,  5.65s/it]\u001b[32m[I 2021-08-31 16:00:00,723]\u001b[0m Trial 50 finished with value: 0.1528229281406204 and parameters: {'lambda_l1': 7.749992498675691e-06, 'lambda_l2': 0.0010839960225625086}. Best is trial 43 with value: 0.15282178997093146.\u001b[0m\n",
      "regularization_factors, val_score: 0.152822:  40%|####      | 8/20 [00:45<01:07,  5.65s/it]"
     ]
    },
    {
     "name": "stdout",
     "output_type": "stream",
     "text": [
      "[500]\ttrain's fair: 0.153133\tvalid's fair: 0.152865\n",
      "Early stopping, best iteration is:\n",
      "[210]\ttrain's fair: 0.153173\tvalid's fair: 0.152823\n",
      "Training until validation scores don't improve for 300 rounds\n"
     ]
    },
    {
     "name": "stderr",
     "output_type": "stream",
     "text": [
      "regularization_factors, val_score: 0.152822:  45%|####5     | 9/20 [00:51<01:05,  5.95s/it]\u001b[32m[I 2021-08-31 16:00:07,333]\u001b[0m Trial 51 finished with value: 0.15282292900412728 and parameters: {'lambda_l1': 6.612870162638375e-06, 'lambda_l2': 0.007111938964762469}. Best is trial 43 with value: 0.15282178997093146.\u001b[0m\n",
      "regularization_factors, val_score: 0.152822:  45%|####5     | 9/20 [00:51<01:05,  5.95s/it]"
     ]
    },
    {
     "name": "stdout",
     "output_type": "stream",
     "text": [
      "[500]\ttrain's fair: 0.153134\tvalid's fair: 0.152863\n",
      "Early stopping, best iteration is:\n",
      "[210]\ttrain's fair: 0.153173\tvalid's fair: 0.152823\n",
      "Training until validation scores don't improve for 300 rounds\n"
     ]
    },
    {
     "name": "stderr",
     "output_type": "stream",
     "text": [
      "regularization_factors, val_score: 0.152822:  50%|#####     | 10/20 [00:56<00:57,  5.72s/it]\u001b[32m[I 2021-08-31 16:00:12,525]\u001b[0m Trial 52 finished with value: 0.15282292798066094 and parameters: {'lambda_l1': 1.7138974725452285e-06, 'lambda_l2': 5.781719548571038e-08}. Best is trial 43 with value: 0.15282178997093146.\u001b[0m\n",
      "regularization_factors, val_score: 0.152822:  50%|#####     | 10/20 [00:56<00:57,  5.72s/it]"
     ]
    },
    {
     "name": "stdout",
     "output_type": "stream",
     "text": [
      "[500]\ttrain's fair: 0.153133\tvalid's fair: 0.152865\n",
      "Early stopping, best iteration is:\n",
      "[210]\ttrain's fair: 0.153173\tvalid's fair: 0.152823\n",
      "Training until validation scores don't improve for 300 rounds\n",
      "[500]\ttrain's fair: 0.153138\tvalid's fair: 0.152852\n"
     ]
    },
    {
     "name": "stderr",
     "output_type": "stream",
     "text": [
      "regularization_factors, val_score: 0.152822:  55%|#####5    | 11/20 [01:03<00:52,  5.86s/it]\u001b[32m[I 2021-08-31 16:00:18,723]\u001b[0m Trial 53 finished with value: 0.1528231614842546 and parameters: {'lambda_l1': 0.008424983571045205, 'lambda_l2': 1.359025029669343}. Best is trial 43 with value: 0.15282178997093146.\u001b[0m\n",
      "regularization_factors, val_score: 0.152822:  55%|#####5    | 11/20 [01:03<00:52,  5.86s/it]"
     ]
    },
    {
     "name": "stdout",
     "output_type": "stream",
     "text": [
      "Early stopping, best iteration is:\n",
      "[300]\ttrain's fair: 0.153161\tvalid's fair: 0.152823\n",
      "Training until validation scores don't improve for 300 rounds\n"
     ]
    },
    {
     "name": "stderr",
     "output_type": "stream",
     "text": [
      "regularization_factors, val_score: 0.152822:  60%|######    | 12/20 [01:08<00:45,  5.72s/it]\u001b[32m[I 2021-08-31 16:00:24,133]\u001b[0m Trial 54 finished with value: 0.15282763522808213 and parameters: {'lambda_l1': 1.4770817483435592, 'lambda_l2': 3.519796425878458e-05}. Best is trial 43 with value: 0.15282178997093146.\u001b[0m\n",
      "regularization_factors, val_score: 0.152822:  60%|######    | 12/20 [01:08<00:45,  5.72s/it]"
     ]
    },
    {
     "name": "stdout",
     "output_type": "stream",
     "text": [
      "[500]\ttrain's fair: 0.153145\tvalid's fair: 0.152868\n",
      "Early stopping, best iteration is:\n",
      "[210]\ttrain's fair: 0.153179\tvalid's fair: 0.152828\n",
      "Training until validation scores don't improve for 300 rounds\n"
     ]
    },
    {
     "name": "stderr",
     "output_type": "stream",
     "text": [
      "regularization_factors, val_score: 0.152822:  65%|######5   | 13/20 [01:13<00:39,  5.59s/it]\u001b[32m[I 2021-08-31 16:00:29,399]\u001b[0m Trial 55 finished with value: 0.15282616381055977 and parameters: {'lambda_l1': 0.0014296194452713166, 'lambda_l2': 5.945331347446668}. Best is trial 43 with value: 0.15282178997093146.\u001b[0m\n",
      "regularization_factors, val_score: 0.152822:  65%|######5   | 13/20 [01:13<00:39,  5.59s/it]"
     ]
    },
    {
     "name": "stdout",
     "output_type": "stream",
     "text": [
      "[500]\ttrain's fair: 0.153143\tvalid's fair: 0.152865\n",
      "Early stopping, best iteration is:\n",
      "[210]\ttrain's fair: 0.153177\tvalid's fair: 0.152826\n",
      "Training until validation scores don't improve for 300 rounds\n"
     ]
    },
    {
     "name": "stderr",
     "output_type": "stream",
     "text": [
      "regularization_factors, val_score: 0.152822:  70%|#######   | 14/20 [01:19<00:34,  5.72s/it]\u001b[32m[I 2021-08-31 16:00:35,419]\u001b[0m Trial 56 finished with value: 0.15282854982191632 and parameters: {'lambda_l1': 0.23828373338074893, 'lambda_l2': 2.50940744230145e-08}. Best is trial 43 with value: 0.15282178997093146.\u001b[0m\n",
      "regularization_factors, val_score: 0.152822:  70%|#######   | 14/20 [01:19<00:34,  5.72s/it]"
     ]
    },
    {
     "name": "stdout",
     "output_type": "stream",
     "text": [
      "[500]\ttrain's fair: 0.153134\tvalid's fair: 0.152871\n",
      "Early stopping, best iteration is:\n",
      "[210]\ttrain's fair: 0.153174\tvalid's fair: 0.152829\n",
      "Training until validation scores don't improve for 300 rounds\n"
     ]
    },
    {
     "name": "stderr",
     "output_type": "stream",
     "text": [
      "regularization_factors, val_score: 0.152822:  75%|#######5  | 15/20 [01:26<00:29,  5.98s/it]\u001b[32m[I 2021-08-31 16:00:42,019]\u001b[0m Trial 57 finished with value: 0.15282292801569408 and parameters: {'lambda_l1': 2.388394278287264e-08, 'lambda_l2': 0.00024615300344031627}. Best is trial 43 with value: 0.15282178997093146.\u001b[0m\n",
      "regularization_factors, val_score: 0.152822:  75%|#######5  | 15/20 [01:26<00:29,  5.98s/it]"
     ]
    },
    {
     "name": "stdout",
     "output_type": "stream",
     "text": [
      "[500]\ttrain's fair: 0.153133\tvalid's fair: 0.152865\n",
      "Early stopping, best iteration is:\n",
      "[210]\ttrain's fair: 0.153173\tvalid's fair: 0.152823\n",
      "Training until validation scores don't improve for 300 rounds\n"
     ]
    },
    {
     "name": "stderr",
     "output_type": "stream",
     "text": [
      "regularization_factors, val_score: 0.152822:  80%|########  | 16/20 [01:31<00:23,  5.77s/it]\u001b[32m[I 2021-08-31 16:00:47,291]\u001b[0m Trial 58 finished with value: 0.1528229281975406 and parameters: {'lambda_l1': 0.00039604928549521383, 'lambda_l2': 5.159684305635779e-07}. Best is trial 43 with value: 0.15282178997093146.\u001b[0m\n",
      "regularization_factors, val_score: 0.152822:  80%|########  | 16/20 [01:31<00:23,  5.77s/it]"
     ]
    },
    {
     "name": "stdout",
     "output_type": "stream",
     "text": [
      "[500]\ttrain's fair: 0.153134\tvalid's fair: 0.152863\n",
      "Early stopping, best iteration is:\n",
      "[210]\ttrain's fair: 0.153173\tvalid's fair: 0.152823\n",
      "Training until validation scores don't improve for 300 rounds\n",
      "[500]\ttrain's fair: 0.153139\tvalid's fair: 0.152853\n"
     ]
    },
    {
     "name": "stderr",
     "output_type": "stream",
     "text": [
      "regularization_factors, val_score: 0.152818:  85%|########5 | 17/20 [01:37<00:17,  5.68s/it]\u001b[32m[I 2021-08-31 16:00:52,754]\u001b[0m Trial 59 finished with value: 0.15281787495883392 and parameters: {'lambda_l1': 0.02459700954485974, 'lambda_l2': 0.8614101236737615}. Best is trial 59 with value: 0.15281787495883392.\u001b[0m\n",
      "regularization_factors, val_score: 0.152818:  85%|########5 | 17/20 [01:37<00:17,  5.68s/it]"
     ]
    },
    {
     "name": "stdout",
     "output_type": "stream",
     "text": [
      "Early stopping, best iteration is:\n",
      "[230]\ttrain's fair: 0.153176\tvalid's fair: 0.152818\n",
      "Training until validation scores don't improve for 300 rounds\n"
     ]
    },
    {
     "name": "stderr",
     "output_type": "stream",
     "text": [
      "regularization_factors, val_score: 0.152818:  90%|######### | 18/20 [01:42<00:11,  5.52s/it]\u001b[32m[I 2021-08-31 16:00:57,893]\u001b[0m Trial 60 finished with value: 0.15282419581847814 and parameters: {'lambda_l1': 0.03188771037024082, 'lambda_l2': 0.8372871499301021}. Best is trial 59 with value: 0.15281787495883392.\u001b[0m\n",
      "regularization_factors, val_score: 0.152818:  90%|######### | 18/20 [01:42<00:11,  5.52s/it]"
     ]
    },
    {
     "name": "stdout",
     "output_type": "stream",
     "text": [
      "[500]\ttrain's fair: 0.153135\tvalid's fair: 0.152857\n",
      "Early stopping, best iteration is:\n",
      "[210]\ttrain's fair: 0.153175\tvalid's fair: 0.152824\n",
      "Training until validation scores don't improve for 300 rounds\n"
     ]
    },
    {
     "name": "stderr",
     "output_type": "stream",
     "text": [
      "regularization_factors, val_score: 0.152818:  95%|#########5| 19/20 [01:47<00:05,  5.46s/it]\u001b[32m[I 2021-08-31 16:01:03,222]\u001b[0m Trial 61 finished with value: 0.15282731878826175 and parameters: {'lambda_l1': 0.6360502502007555, 'lambda_l2': 0.38645302642496443}. Best is trial 59 with value: 0.15281787495883392.\u001b[0m\n",
      "regularization_factors, val_score: 0.152818:  95%|#########5| 19/20 [01:47<00:05,  5.46s/it]"
     ]
    },
    {
     "name": "stdout",
     "output_type": "stream",
     "text": [
      "[500]\ttrain's fair: 0.153141\tvalid's fair: 0.152858\n",
      "Early stopping, best iteration is:\n",
      "[210]\ttrain's fair: 0.153175\tvalid's fair: 0.152827\n",
      "Training until validation scores don't improve for 300 rounds\n"
     ]
    },
    {
     "name": "stderr",
     "output_type": "stream",
     "text": [
      "regularization_factors, val_score: 0.152818: 100%|##########| 20/20 [01:52<00:00,  5.27s/it]\u001b[32m[I 2021-08-31 16:01:08,046]\u001b[0m Trial 62 finished with value: 0.1528350913452403 and parameters: {'lambda_l1': 7.083688478997031, 'lambda_l2': 6.593319389146754}. Best is trial 59 with value: 0.15281787495883392.\u001b[0m\n",
      "regularization_factors, val_score: 0.152818: 100%|##########| 20/20 [01:52<00:00,  5.62s/it]\n",
      "min_data_in_leaf, val_score: 0.152818:   0%|          | 0/5 [00:00<?, ?it/s]"
     ]
    },
    {
     "name": "stdout",
     "output_type": "stream",
     "text": [
      "Early stopping, best iteration is:\n",
      "[80]\ttrain's fair: 0.153217\tvalid's fair: 0.152835\n",
      "Training until validation scores don't improve for 300 rounds\n"
     ]
    },
    {
     "name": "stderr",
     "output_type": "stream",
     "text": [
      "min_data_in_leaf, val_score: 0.152818:  20%|##        | 1/5 [00:06<00:26,  6.58s/it]\u001b[32m[I 2021-08-31 16:01:14,629]\u001b[0m Trial 63 finished with value: 0.1528247336410114 and parameters: {'min_child_samples': 100}. Best is trial 63 with value: 0.1528247336410114.\u001b[0m\n",
      "min_data_in_leaf, val_score: 0.152818:  20%|##        | 1/5 [00:06<00:26,  6.58s/it]"
     ]
    },
    {
     "name": "stdout",
     "output_type": "stream",
     "text": [
      "[500]\ttrain's fair: 0.15315\tvalid's fair: 0.152868\n",
      "Early stopping, best iteration is:\n",
      "[210]\ttrain's fair: 0.15318\tvalid's fair: 0.152825\n",
      "Training until validation scores don't improve for 300 rounds\n"
     ]
    },
    {
     "name": "stderr",
     "output_type": "stream",
     "text": [
      "min_data_in_leaf, val_score: 0.152818:  40%|####      | 2/5 [00:11<00:17,  5.74s/it]\u001b[32m[I 2021-08-31 16:01:19,781]\u001b[0m Trial 64 finished with value: 0.15282430762531307 and parameters: {'min_child_samples': 25}. Best is trial 64 with value: 0.15282430762531307.\u001b[0m\n",
      "min_data_in_leaf, val_score: 0.152818:  40%|####      | 2/5 [00:11<00:17,  5.74s/it]"
     ]
    },
    {
     "name": "stdout",
     "output_type": "stream",
     "text": [
      "[500]\ttrain's fair: 0.153137\tvalid's fair: 0.152861\n",
      "Early stopping, best iteration is:\n",
      "[210]\ttrain's fair: 0.153177\tvalid's fair: 0.152824\n",
      "Training until validation scores don't improve for 300 rounds\n"
     ]
    },
    {
     "name": "stderr",
     "output_type": "stream",
     "text": [
      "min_data_in_leaf, val_score: 0.152818:  60%|######    | 3/5 [00:17<00:11,  5.56s/it]\u001b[32m[I 2021-08-31 16:01:25,130]\u001b[0m Trial 65 finished with value: 0.15283843166319885 and parameters: {'min_child_samples': 50}. Best is trial 64 with value: 0.15282430762531307.\u001b[0m\n",
      "min_data_in_leaf, val_score: 0.152818:  60%|######    | 3/5 [00:17<00:11,  5.56s/it]"
     ]
    },
    {
     "name": "stdout",
     "output_type": "stream",
     "text": [
      "[500]\ttrain's fair: 0.153144\tvalid's fair: 0.152869\n",
      "Early stopping, best iteration is:\n",
      "[210]\ttrain's fair: 0.153176\tvalid's fair: 0.152838\n",
      "Training until validation scores don't improve for 300 rounds\n"
     ]
    },
    {
     "name": "stderr",
     "output_type": "stream",
     "text": [
      "min_data_in_leaf, val_score: 0.152818:  80%|########  | 4/5 [00:22<00:05,  5.42s/it]\u001b[32m[I 2021-08-31 16:01:30,345]\u001b[0m Trial 66 finished with value: 0.15282690789929068 and parameters: {'min_child_samples': 10}. Best is trial 64 with value: 0.15282430762531307.\u001b[0m\n",
      "min_data_in_leaf, val_score: 0.152818:  80%|########  | 4/5 [00:22<00:05,  5.42s/it]"
     ]
    },
    {
     "name": "stdout",
     "output_type": "stream",
     "text": [
      "[500]\ttrain's fair: 0.153133\tvalid's fair: 0.152865\n",
      "Early stopping, best iteration is:\n",
      "[210]\ttrain's fair: 0.153173\tvalid's fair: 0.152827\n",
      "Training until validation scores don't improve for 300 rounds\n"
     ]
    },
    {
     "name": "stderr",
     "output_type": "stream",
     "text": [
      "min_data_in_leaf, val_score: 0.152818: 100%|##########| 5/5 [00:27<00:00,  5.40s/it]\u001b[32m[I 2021-08-31 16:01:35,692]\u001b[0m Trial 67 finished with value: 0.15282295624544065 and parameters: {'min_child_samples': 5}. Best is trial 67 with value: 0.15282295624544065.\u001b[0m\n",
      "min_data_in_leaf, val_score: 0.152818: 100%|##########| 5/5 [00:27<00:00,  5.53s/it]"
     ]
    },
    {
     "name": "stdout",
     "output_type": "stream",
     "text": [
      "[500]\ttrain's fair: 0.153131\tvalid's fair: 0.152854\n",
      "Early stopping, best iteration is:\n",
      "[210]\ttrain's fair: 0.153176\tvalid's fair: 0.152823\n"
     ]
    },
    {
     "name": "stderr",
     "output_type": "stream",
     "text": [
      "\n"
     ]
    },
    {
     "name": "stdout",
     "output_type": "stream",
     "text": [
      "9 0.7150882436501484\n",
      "0.7157462313443468 0.0010793748780640441\n"
     ]
    }
   ],
   "source": [
    "useful_features = [\"pred_1\", \"pred_2\", \"pred_3\"]\n",
    "df_test = df_test[useful_features]\n",
    "\n",
    "final_predictions = []\n",
    "scores = []\n",
    "for fold in range(10):\n",
    "    xtrain =  df[df.kfold != fold].reset_index(drop=True)\n",
    "    xvalid = df[df.kfold == fold].reset_index(drop=True)\n",
    "    xtest = df_test.copy()\n",
    "\n",
    "    ytrain = xtrain.target\n",
    "    yvalid = xvalid.target\n",
    "    \n",
    "    xtrain = xtrain[useful_features]\n",
    "    xvalid = xvalid[useful_features]\n",
    "    \n",
    "    lgb_train = lgb.Dataset(xtrain, ytrain)\n",
    "    lgb_valid = lgb.Dataset(xvalid, yvalid)\n",
    "\n",
    "    model = lgb.train(param,\n",
    "                      lgb_train,\n",
    "                      valid_names=['train', 'valid'],\n",
    "                      valid_sets=[lgb_train, lgb_valid],\n",
    "                      num_boost_round=10000,\n",
    "                      early_stopping_rounds=300,\n",
    "                      verbose_eval=500)\n",
    "    \n",
    "    preds_valid = model.predict(xvalid,num_iteration=model.best_iteration)\n",
    "    test_preds = model.predict(xtest,num_iteration=model.best_iteration)\n",
    "    final_predictions.append(test_preds)\n",
    "    rmse = mean_squared_error(yvalid, preds_valid, squared=False)\n",
    "    print(fold, rmse)\n",
    "    scores.append(rmse)\n",
    "\n",
    "print(np.mean(scores), np.std(scores))"
   ]
  },
  {
   "cell_type": "code",
   "execution_count": 7,
   "id": "ca6e5449",
   "metadata": {
    "execution": {
     "iopub.execute_input": "2021-08-31T16:01:38.467624Z",
     "iopub.status.busy": "2021-08-31T16:01:38.466912Z",
     "iopub.status.idle": "2021-08-31T16:01:39.219967Z",
     "shell.execute_reply": "2021-08-31T16:01:39.219176Z"
    },
    "papermill": {
     "duration": 1.883992,
     "end_time": "2021-08-31T16:01:39.220177",
     "exception": false,
     "start_time": "2021-08-31T16:01:37.336185",
     "status": "completed"
    },
    "tags": []
   },
   "outputs": [],
   "source": [
    "sample_submission.target = np.mean(np.column_stack(final_predictions), axis=1)\n",
    "sample_submission.to_csv(\"0831_blend_submission.csv\", index=False)"
   ]
  }
 ],
 "metadata": {
  "kernelspec": {
   "display_name": "Python 3",
   "language": "python",
   "name": "python3"
  },
  "language_info": {
   "codemirror_mode": {
    "name": "ipython",
    "version": 3
   },
   "file_extension": ".py",
   "mimetype": "text/x-python",
   "name": "python",
   "nbconvert_exporter": "python",
   "pygments_lexer": "ipython3",
   "version": "3.7.10"
  },
  "papermill": {
   "default_parameters": {},
   "duration": 3526.408893,
   "end_time": "2021-08-31T16:01:41.941113",
   "environment_variables": {},
   "exception": null,
   "input_path": "__notebook__.ipynb",
   "output_path": "__notebook__.ipynb",
   "parameters": {},
   "start_time": "2021-08-31T15:02:55.532220",
   "version": "2.3.3"
  }
 },
 "nbformat": 4,
 "nbformat_minor": 5
}
