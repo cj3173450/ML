{
 "cells": [
  {
   "cell_type": "markdown",
   "id": "5447f932-c0b7-481a-9340-fc75f47c4333",
   "metadata": {},
   "source": [
    "# Signate\n",
    "# FDUA\n",
    "# 第2回 金融データ活用チャレンジ"
   ]
  },
  {
   "cell_type": "code",
   "execution_count": 1,
   "id": "3a1e331c-ad19-403c-8343-32437a2fda9c",
   "metadata": {},
   "outputs": [],
   "source": [
    "import os\n",
    "import random\n",
    "import numpy as np\n",
    "import pandas as pd\n",
    "from sklearn import model_selection\n",
    "from sklearn.model_selection import StratifiedKFold\n",
    "\n",
    "import seaborn as sns"
   ]
  },
  {
   "cell_type": "code",
   "execution_count": 2,
   "id": "f362101f-92b1-4280-a05d-27978e522bef",
   "metadata": {},
   "outputs": [],
   "source": [
    "def seed_everything(seed: int):\n",
    "    random.seed(seed)\n",
    "    os.environ[\"PYTHONHASHSEED\"] = str(seed)\n",
    "    np.random.seed(seed)"
   ]
  },
  {
   "cell_type": "code",
   "execution_count": 3,
   "id": "d5fdaaea-f6ee-4dec-846b-00b50d8d4a94",
   "metadata": {},
   "outputs": [],
   "source": [
    "# Congig\n",
    "SEED = 42\n",
    "FOLD = 7\n",
    "pd.get_option('display.max_columns')\n",
    "seed_everything(SEED)"
   ]
  },
  {
   "cell_type": "code",
   "execution_count": 4,
   "id": "c1092214-73e7-4ab4-b4ff-eb0b08370147",
   "metadata": {},
   "outputs": [],
   "source": [
    "df = pd.read_csv('./train.csv', index_col=0) # 学習用データ"
   ]
  },
  {
   "cell_type": "code",
   "execution_count": 5,
   "id": "29d743f7-b45a-46c8-a9c9-c95a0fd2829c",
   "metadata": {},
   "outputs": [
    {
     "data": {
      "text/html": [
       "<div>\n",
       "<style scoped>\n",
       "    .dataframe tbody tr th:only-of-type {\n",
       "        vertical-align: middle;\n",
       "    }\n",
       "\n",
       "    .dataframe tbody tr th {\n",
       "        vertical-align: top;\n",
       "    }\n",
       "\n",
       "    .dataframe thead th {\n",
       "        text-align: right;\n",
       "    }\n",
       "</style>\n",
       "<table border=\"1\" class=\"dataframe\">\n",
       "  <thead>\n",
       "    <tr style=\"text-align: right;\">\n",
       "      <th></th>\n",
       "      <th>Term</th>\n",
       "      <th>NoEmp</th>\n",
       "      <th>NewExist</th>\n",
       "      <th>CreateJob</th>\n",
       "      <th>RetainedJob</th>\n",
       "      <th>FranchiseCode</th>\n",
       "      <th>RevLineCr</th>\n",
       "      <th>LowDoc</th>\n",
       "      <th>DisbursementDate</th>\n",
       "      <th>MIS_Status</th>\n",
       "      <th>Sector</th>\n",
       "      <th>ApprovalDate</th>\n",
       "      <th>ApprovalFY</th>\n",
       "      <th>City</th>\n",
       "      <th>State</th>\n",
       "      <th>BankState</th>\n",
       "      <th>DisbursementGross</th>\n",
       "      <th>GrAppv</th>\n",
       "      <th>SBA_Appv</th>\n",
       "      <th>UrbanRural</th>\n",
       "    </tr>\n",
       "  </thead>\n",
       "  <tbody>\n",
       "    <tr>\n",
       "      <th>0</th>\n",
       "      <td>163</td>\n",
       "      <td>21</td>\n",
       "      <td>1.0</td>\n",
       "      <td>0</td>\n",
       "      <td>0</td>\n",
       "      <td>1</td>\n",
       "      <td>N</td>\n",
       "      <td>N</td>\n",
       "      <td>31-Jan-98</td>\n",
       "      <td>1</td>\n",
       "      <td>0</td>\n",
       "      <td>22-Sep-06</td>\n",
       "      <td>2006</td>\n",
       "      <td>PHOENIX</td>\n",
       "      <td>AZ</td>\n",
       "      <td>SD</td>\n",
       "      <td>$80,000.00</td>\n",
       "      <td>$80,000.00</td>\n",
       "      <td>$68,000.00</td>\n",
       "      <td>0</td>\n",
       "    </tr>\n",
       "    <tr>\n",
       "      <th>1</th>\n",
       "      <td>84</td>\n",
       "      <td>6</td>\n",
       "      <td>1.0</td>\n",
       "      <td>4</td>\n",
       "      <td>0</td>\n",
       "      <td>0</td>\n",
       "      <td>0</td>\n",
       "      <td>N</td>\n",
       "      <td>31-Oct-93</td>\n",
       "      <td>1</td>\n",
       "      <td>62</td>\n",
       "      <td>30-Jun-92</td>\n",
       "      <td>1992</td>\n",
       "      <td>MCALESTER</td>\n",
       "      <td>OK</td>\n",
       "      <td>OK</td>\n",
       "      <td>$287,000.00</td>\n",
       "      <td>$287,000.00</td>\n",
       "      <td>$229,600.00</td>\n",
       "      <td>0</td>\n",
       "    </tr>\n",
       "    <tr>\n",
       "      <th>2</th>\n",
       "      <td>242</td>\n",
       "      <td>45</td>\n",
       "      <td>1.0</td>\n",
       "      <td>4</td>\n",
       "      <td>90</td>\n",
       "      <td>0</td>\n",
       "      <td>N</td>\n",
       "      <td>N</td>\n",
       "      <td>31-Aug-01</td>\n",
       "      <td>1</td>\n",
       "      <td>42</td>\n",
       "      <td>18-Apr-01</td>\n",
       "      <td>2001</td>\n",
       "      <td>HAWTHORNE</td>\n",
       "      <td>NJ</td>\n",
       "      <td>NJ</td>\n",
       "      <td>$31,983.00</td>\n",
       "      <td>$30,000.00</td>\n",
       "      <td>$15,000.00</td>\n",
       "      <td>1</td>\n",
       "    </tr>\n",
       "    <tr>\n",
       "      <th>3</th>\n",
       "      <td>237</td>\n",
       "      <td>4</td>\n",
       "      <td>1.0</td>\n",
       "      <td>0</td>\n",
       "      <td>0</td>\n",
       "      <td>0</td>\n",
       "      <td>N</td>\n",
       "      <td>N</td>\n",
       "      <td>31-Aug-07</td>\n",
       "      <td>1</td>\n",
       "      <td>33</td>\n",
       "      <td>6-Oct-03</td>\n",
       "      <td>2004</td>\n",
       "      <td>NASHVILLE</td>\n",
       "      <td>TN</td>\n",
       "      <td>SD</td>\n",
       "      <td>$229,000.00</td>\n",
       "      <td>$229,000.00</td>\n",
       "      <td>$229,000.00</td>\n",
       "      <td>0</td>\n",
       "    </tr>\n",
       "    <tr>\n",
       "      <th>4</th>\n",
       "      <td>184</td>\n",
       "      <td>0</td>\n",
       "      <td>1.0</td>\n",
       "      <td>0</td>\n",
       "      <td>0</td>\n",
       "      <td>0</td>\n",
       "      <td>N</td>\n",
       "      <td>N</td>\n",
       "      <td>8-Jun-83</td>\n",
       "      <td>1</td>\n",
       "      <td>0</td>\n",
       "      <td>17-Dec-99</td>\n",
       "      <td>2000</td>\n",
       "      <td>POMONA</td>\n",
       "      <td>CA</td>\n",
       "      <td>CA</td>\n",
       "      <td>$525,000.00</td>\n",
       "      <td>$525,000.00</td>\n",
       "      <td>$393,750.00</td>\n",
       "      <td>0</td>\n",
       "    </tr>\n",
       "  </tbody>\n",
       "</table>\n",
       "</div>"
      ],
      "text/plain": [
       "   Term  NoEmp  NewExist  CreateJob  RetainedJob  FranchiseCode RevLineCr  \\\n",
       "0   163     21       1.0          0            0              1         N   \n",
       "1    84      6       1.0          4            0              0         0   \n",
       "2   242     45       1.0          4           90              0         N   \n",
       "3   237      4       1.0          0            0              0         N   \n",
       "4   184      0       1.0          0            0              0         N   \n",
       "\n",
       "  LowDoc DisbursementDate  MIS_Status  Sector ApprovalDate  ApprovalFY  \\\n",
       "0      N        31-Jan-98           1       0    22-Sep-06        2006   \n",
       "1      N        31-Oct-93           1      62    30-Jun-92        1992   \n",
       "2      N        31-Aug-01           1      42    18-Apr-01        2001   \n",
       "3      N        31-Aug-07           1      33     6-Oct-03        2004   \n",
       "4      N         8-Jun-83           1       0    17-Dec-99        2000   \n",
       "\n",
       "        City State BankState DisbursementGross        GrAppv      SBA_Appv  \\\n",
       "0    PHOENIX    AZ        SD       $80,000.00    $80,000.00    $68,000.00    \n",
       "1  MCALESTER    OK        OK      $287,000.00   $287,000.00   $229,600.00    \n",
       "2  HAWTHORNE    NJ        NJ       $31,983.00    $30,000.00    $15,000.00    \n",
       "3  NASHVILLE    TN        SD      $229,000.00   $229,000.00   $229,000.00    \n",
       "4     POMONA    CA        CA      $525,000.00   $525,000.00   $393,750.00    \n",
       "\n",
       "   UrbanRural  \n",
       "0           0  \n",
       "1           0  \n",
       "2           1  \n",
       "3           0  \n",
       "4           0  "
      ]
     },
     "execution_count": 5,
     "metadata": {},
     "output_type": "execute_result"
    }
   ],
   "source": [
    "df.head()"
   ]
  },
  {
   "cell_type": "code",
   "execution_count": 6,
   "id": "ce9b273e-5d2b-4050-ae7c-37a6d6bb43c4",
   "metadata": {},
   "outputs": [
    {
     "data": {
      "text/plain": [
       "Term                    0\n",
       "NoEmp                   0\n",
       "NewExist                0\n",
       "CreateJob               0\n",
       "RetainedJob             0\n",
       "FranchiseCode           0\n",
       "RevLineCr            1079\n",
       "LowDoc                531\n",
       "DisbursementDate      150\n",
       "MIS_Status              0\n",
       "Sector                  0\n",
       "ApprovalDate            0\n",
       "ApprovalFY              0\n",
       "City                    0\n",
       "State                   0\n",
       "BankState              11\n",
       "DisbursementGross       0\n",
       "GrAppv                  0\n",
       "SBA_Appv                0\n",
       "UrbanRural              0\n",
       "dtype: int64"
      ]
     },
     "execution_count": 6,
     "metadata": {},
     "output_type": "execute_result"
    }
   ],
   "source": [
    "df.isnull().sum()"
   ]
  },
  {
   "cell_type": "code",
   "execution_count": 7,
   "id": "efd9ae6a-6e7d-43a9-a3cb-d2d8fc0a264f",
   "metadata": {},
   "outputs": [
    {
     "data": {
      "text/plain": [
       "0"
      ]
     },
     "execution_count": 7,
     "metadata": {},
     "output_type": "execute_result"
    }
   ],
   "source": [
    "#重複あり？\n",
    "df.duplicated().sum()"
   ]
  },
  {
   "cell_type": "code",
   "execution_count": 8,
   "id": "78497c1c-7acd-4cb5-885d-28bd722715d2",
   "metadata": {},
   "outputs": [
    {
     "data": {
      "text/plain": [
       "MIS_Status\n",
       "1    37767\n",
       "0     4540\n",
       "Name: count, dtype: int64"
      ]
     },
     "execution_count": 8,
     "metadata": {},
     "output_type": "execute_result"
    }
   ],
   "source": [
    "# Target\n",
    "df[\"MIS_Status\"].value_counts()"
   ]
  },
  {
   "cell_type": "code",
   "execution_count": 9,
   "id": "48547ca1-3dea-4581-8432-b8501d5e3170",
   "metadata": {},
   "outputs": [
    {
     "data": {
      "text/plain": [
       "<Axes: xlabel='MIS_Status', ylabel='count'>"
      ]
     },
     "execution_count": 9,
     "metadata": {},
     "output_type": "execute_result"
    },
    {
     "data": {
      "image/png": "[encoded data removed]",
      "text/plain": [
       "<Figure size 640x480 with 1 Axes>"
      ]
     },
     "metadata": {},
     "output_type": "display_data"
    }
   ],
   "source": [
    "sns.countplot(data=df, x=\"MIS_Status\")"
   ]
  },
  {
   "cell_type": "markdown",
   "id": "2d4e76dd-cec6-4f20-966f-c5494130802e",
   "metadata": {},
   "source": [
    "# Folds"
   ]
  },
  {
   "cell_type": "code",
   "execution_count": 10,
   "id": "8d2719cc-777d-4cca-95c9-6688babd704b",
   "metadata": {},
   "outputs": [],
   "source": [
    "df[\"target\"] = df['MIS_Status'].astype(str) + \"_\" + df['NewExist'].astype(str) "
   ]
  },
  {
   "cell_type": "code",
   "execution_count": 11,
   "id": "658bc34a-2827-42fd-8ef6-854f249c6606",
   "metadata": {},
   "outputs": [
    {
     "data": {
      "text/plain": [
       "target\n",
       "1_1.0    30383\n",
       "1_2.0     7384\n",
       "0_1.0     3022\n",
       "0_2.0     1518\n",
       "Name: count, dtype: int64"
      ]
     },
     "execution_count": 11,
     "metadata": {},
     "output_type": "execute_result"
    }
   ],
   "source": [
    "df[\"target\"].value_counts()"
   ]
  },
  {
   "cell_type": "code",
   "execution_count": 12,
   "id": "08c09a2d-4779-4c64-b9f7-86aa0f73c5cb",
   "metadata": {},
   "outputs": [
    {
     "data": {
      "text/plain": [
       "<Axes: xlabel='target', ylabel='count'>"
      ]
     },
     "execution_count": 12,
     "metadata": {},
     "output_type": "execute_result"
    },
    {
     "data": {
      "image/png": "[encoded data removed]",
      "text/plain": [
       "<Figure size 640x480 with 1 Axes>"
      ]
     },
     "metadata": {},
     "output_type": "display_data"
    }
   ],
   "source": [
    "sns.countplot(data=df, x=\"target\")"
   ]
  },
  {
   "cell_type": "code",
   "execution_count": 13,
   "id": "8d7db69a-e36d-4611-b6f6-8c5b2511d405",
   "metadata": {},
   "outputs": [],
   "source": [
    "df[\"kfold\"] = -1"
   ]
  },
  {
   "cell_type": "code",
   "execution_count": 14,
   "id": "54d77c11-e4d9-4b56-abd6-e3cde68b7818",
   "metadata": {},
   "outputs": [],
   "source": [
    "kf = model_selection.StratifiedKFold(n_splits=FOLD, shuffle=True, random_state=SEED)\n",
    "for fold, (train_indicies, valid_indicies) in enumerate(kf.split(df,df['target'])):\n",
    "    df.loc[valid_indicies, \"kfold\"] = fold"
   ]
  },
  {
   "cell_type": "code",
   "execution_count": 15,
   "id": "37cdb205-3e7b-412b-906e-a8ca7c06a238",
   "metadata": {},
   "outputs": [
    {
     "data": {
      "text/plain": [
       "kfold\n",
       "5    6044\n",
       "3    6044\n",
       "1    6044\n",
       "2    6044\n",
       "0    6044\n",
       "4    6044\n",
       "6    6043\n",
       "Name: count, dtype: int64"
      ]
     },
     "execution_count": 15,
     "metadata": {},
     "output_type": "execute_result"
    }
   ],
   "source": [
    "df[\"kfold\"].value_counts()"
   ]
  },
  {
   "cell_type": "code",
   "execution_count": 16,
   "id": "664f75cb-a547-4d11-b9d2-c2d94621863c",
   "metadata": {},
   "outputs": [],
   "source": [
    "df = df.drop('target',axis=1)"
   ]
  },
  {
   "cell_type": "code",
   "execution_count": 17,
   "id": "e45b7ce5-59e5-4c89-96e3-5458db2f43a0",
   "metadata": {},
   "outputs": [],
   "source": [
    "df.to_csv(\"train_kfold.csv\", index=True)"
   ]
  },
  {
   "cell_type": "code",
   "execution_count": null,
   "id": "3904cfde-c8a0-44bd-969d-820a5d4c7c96",
   "metadata": {},
   "outputs": [],
   "source": []
  }
 ],
 "metadata": {
  "kernelspec": {
   "display_name": "Python 3 (ipykernel)",
   "language": "python",
   "name": "python3"
  },
  "language_info": {
   "codemirror_mode": {
    "name": "ipython",
    "version": 3
   },
   "file_extension": ".py",
   "mimetype": "text/x-python",
   "name": "python",
   "nbconvert_exporter": "python",
   "pygments_lexer": "ipython3",
   "version": "3.10.13"
  }
 },
 "nbformat": 4,
 "nbformat_minor": 5
}
