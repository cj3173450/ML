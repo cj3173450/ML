{
 "cells": [
  {
   "cell_type": "code",
   "execution_count": 1,
   "id": "active-investigation",
   "metadata": {
    "execution": {
     "iopub.execute_input": "2021-08-31T04:29:45.403092Z",
     "iopub.status.busy": "2021-08-31T04:29:45.402423Z",
     "iopub.status.idle": "2021-08-31T04:29:46.367469Z",
     "shell.execute_reply": "2021-08-31T04:29:46.366870Z",
     "shell.execute_reply.started": "2021-08-31T04:26:42.914852Z"
    },
    "papermill": {
     "duration": 0.984066,
     "end_time": "2021-08-31T04:29:46.367619",
     "exception": false,
     "start_time": "2021-08-31T04:29:45.383553",
     "status": "completed"
    },
    "tags": []
   },
   "outputs": [],
   "source": [
    "import pandas as pd\n",
    "import numpy as np\n",
    "from sklearn import model_selection\n",
    "\n",
    "from sklearn import preprocessing\n",
    "from sklearn.preprocessing import OrdinalEncoder\n",
    "#from sklearn.model_selection import train_test_split\n",
    "#from sklearn.ensemble import RandomForestRegressor\n",
    "from sklearn.metrics import mean_squared_error\n",
    "from xgboost import XGBRegressor\n",
    "\n",
    "import seaborn as sns"
   ]
  },
  {
   "cell_type": "code",
   "execution_count": 2,
   "id": "coordinate-broadcasting",
   "metadata": {
    "execution": {
     "iopub.execute_input": "2021-08-31T04:29:46.390811Z",
     "iopub.status.busy": "2021-08-31T04:29:46.390275Z",
     "iopub.status.idle": "2021-08-31T04:29:49.839290Z",
     "shell.execute_reply": "2021-08-31T04:29:49.839758Z",
     "shell.execute_reply.started": "2021-08-31T04:26:46.437298Z"
    },
    "papermill": {
     "duration": 3.462826,
     "end_time": "2021-08-31T04:29:49.839986",
     "exception": false,
     "start_time": "2021-08-31T04:29:46.377160",
     "status": "completed"
    },
    "tags": []
   },
   "outputs": [
    {
     "data": {
      "text/html": [
       "<div>\n",
       "<style scoped>\n",
       "    .dataframe tbody tr th:only-of-type {\n",
       "        vertical-align: middle;\n",
       "    }\n",
       "\n",
       "    .dataframe tbody tr th {\n",
       "        vertical-align: top;\n",
       "    }\n",
       "\n",
       "    .dataframe thead th {\n",
       "        text-align: right;\n",
       "    }\n",
       "</style>\n",
       "<table border=\"1\" class=\"dataframe\">\n",
       "  <thead>\n",
       "    <tr style=\"text-align: right;\">\n",
       "      <th></th>\n",
       "      <th>id</th>\n",
       "      <th>cat0</th>\n",
       "      <th>cat1</th>\n",
       "      <th>cat2</th>\n",
       "      <th>cat3</th>\n",
       "      <th>cat4</th>\n",
       "      <th>cat5</th>\n",
       "      <th>cat6</th>\n",
       "      <th>cat7</th>\n",
       "      <th>cat8</th>\n",
       "      <th>...</th>\n",
       "      <th>cont5</th>\n",
       "      <th>cont6</th>\n",
       "      <th>cont7</th>\n",
       "      <th>cont8</th>\n",
       "      <th>cont9</th>\n",
       "      <th>cont10</th>\n",
       "      <th>cont11</th>\n",
       "      <th>cont12</th>\n",
       "      <th>cont13</th>\n",
       "      <th>target</th>\n",
       "    </tr>\n",
       "  </thead>\n",
       "  <tbody>\n",
       "    <tr>\n",
       "      <th>0</th>\n",
       "      <td>1</td>\n",
       "      <td>B</td>\n",
       "      <td>B</td>\n",
       "      <td>B</td>\n",
       "      <td>C</td>\n",
       "      <td>B</td>\n",
       "      <td>B</td>\n",
       "      <td>A</td>\n",
       "      <td>E</td>\n",
       "      <td>C</td>\n",
       "      <td>...</td>\n",
       "      <td>0.400361</td>\n",
       "      <td>0.160266</td>\n",
       "      <td>0.310921</td>\n",
       "      <td>0.389470</td>\n",
       "      <td>0.267559</td>\n",
       "      <td>0.237281</td>\n",
       "      <td>0.377873</td>\n",
       "      <td>0.322401</td>\n",
       "      <td>0.869850</td>\n",
       "      <td>8.113634</td>\n",
       "    </tr>\n",
       "    <tr>\n",
       "      <th>1</th>\n",
       "      <td>2</td>\n",
       "      <td>B</td>\n",
       "      <td>B</td>\n",
       "      <td>A</td>\n",
       "      <td>A</td>\n",
       "      <td>B</td>\n",
       "      <td>D</td>\n",
       "      <td>A</td>\n",
       "      <td>F</td>\n",
       "      <td>A</td>\n",
       "      <td>...</td>\n",
       "      <td>0.533087</td>\n",
       "      <td>0.558922</td>\n",
       "      <td>0.516294</td>\n",
       "      <td>0.594928</td>\n",
       "      <td>0.341439</td>\n",
       "      <td>0.906013</td>\n",
       "      <td>0.921701</td>\n",
       "      <td>0.261975</td>\n",
       "      <td>0.465083</td>\n",
       "      <td>8.481233</td>\n",
       "    </tr>\n",
       "    <tr>\n",
       "      <th>2</th>\n",
       "      <td>3</td>\n",
       "      <td>A</td>\n",
       "      <td>A</td>\n",
       "      <td>A</td>\n",
       "      <td>C</td>\n",
       "      <td>B</td>\n",
       "      <td>D</td>\n",
       "      <td>A</td>\n",
       "      <td>D</td>\n",
       "      <td>A</td>\n",
       "      <td>...</td>\n",
       "      <td>0.650609</td>\n",
       "      <td>0.375348</td>\n",
       "      <td>0.902567</td>\n",
       "      <td>0.555205</td>\n",
       "      <td>0.843531</td>\n",
       "      <td>0.748809</td>\n",
       "      <td>0.620126</td>\n",
       "      <td>0.541474</td>\n",
       "      <td>0.763846</td>\n",
       "      <td>8.364351</td>\n",
       "    </tr>\n",
       "    <tr>\n",
       "      <th>3</th>\n",
       "      <td>4</td>\n",
       "      <td>B</td>\n",
       "      <td>B</td>\n",
       "      <td>A</td>\n",
       "      <td>C</td>\n",
       "      <td>B</td>\n",
       "      <td>D</td>\n",
       "      <td>A</td>\n",
       "      <td>E</td>\n",
       "      <td>C</td>\n",
       "      <td>...</td>\n",
       "      <td>0.668980</td>\n",
       "      <td>0.239061</td>\n",
       "      <td>0.732948</td>\n",
       "      <td>0.679618</td>\n",
       "      <td>0.574844</td>\n",
       "      <td>0.346010</td>\n",
       "      <td>0.714610</td>\n",
       "      <td>0.540150</td>\n",
       "      <td>0.280682</td>\n",
       "      <td>8.049253</td>\n",
       "    </tr>\n",
       "    <tr>\n",
       "      <th>4</th>\n",
       "      <td>6</td>\n",
       "      <td>A</td>\n",
       "      <td>A</td>\n",
       "      <td>A</td>\n",
       "      <td>C</td>\n",
       "      <td>B</td>\n",
       "      <td>D</td>\n",
       "      <td>A</td>\n",
       "      <td>E</td>\n",
       "      <td>A</td>\n",
       "      <td>...</td>\n",
       "      <td>0.686964</td>\n",
       "      <td>0.420667</td>\n",
       "      <td>0.648182</td>\n",
       "      <td>0.684501</td>\n",
       "      <td>0.956692</td>\n",
       "      <td>1.000773</td>\n",
       "      <td>0.776742</td>\n",
       "      <td>0.625849</td>\n",
       "      <td>0.250823</td>\n",
       "      <td>7.972260</td>\n",
       "    </tr>\n",
       "  </tbody>\n",
       "</table>\n",
       "<p>5 rows × 26 columns</p>\n",
       "</div>"
      ],
      "text/plain": [
       "   id cat0 cat1 cat2 cat3 cat4 cat5 cat6 cat7 cat8  ...     cont5     cont6  \\\n",
       "0   1    B    B    B    C    B    B    A    E    C  ...  0.400361  0.160266   \n",
       "1   2    B    B    A    A    B    D    A    F    A  ...  0.533087  0.558922   \n",
       "2   3    A    A    A    C    B    D    A    D    A  ...  0.650609  0.375348   \n",
       "3   4    B    B    A    C    B    D    A    E    C  ...  0.668980  0.239061   \n",
       "4   6    A    A    A    C    B    D    A    E    A  ...  0.686964  0.420667   \n",
       "\n",
       "      cont7     cont8     cont9    cont10    cont11    cont12    cont13  \\\n",
       "0  0.310921  0.389470  0.267559  0.237281  0.377873  0.322401  0.869850   \n",
       "1  0.516294  0.594928  0.341439  0.906013  0.921701  0.261975  0.465083   \n",
       "2  0.902567  0.555205  0.843531  0.748809  0.620126  0.541474  0.763846   \n",
       "3  0.732948  0.679618  0.574844  0.346010  0.714610  0.540150  0.280682   \n",
       "4  0.648182  0.684501  0.956692  1.000773  0.776742  0.625849  0.250823   \n",
       "\n",
       "     target  \n",
       "0  8.113634  \n",
       "1  8.481233  \n",
       "2  8.364351  \n",
       "3  8.049253  \n",
       "4  7.972260  \n",
       "\n",
       "[5 rows x 26 columns]"
      ]
     },
     "execution_count": 2,
     "metadata": {},
     "output_type": "execute_result"
    }
   ],
   "source": [
    "# Load the training data\n",
    "df = pd.read_csv(\"../input/30-days-of-ml/train.csv\")\n",
    "df_test = pd.read_csv(\"../input/30-days-of-ml/test.csv\")\n",
    "sample_submission = pd.read_csv(\"../input/30-days-of-ml/sample_submission.csv\")\n",
    "\n",
    "# Preview the data\n",
    "df.head()"
   ]
  },
  {
   "cell_type": "code",
   "execution_count": 3,
   "id": "third-verification",
   "metadata": {
    "execution": {
     "iopub.execute_input": "2021-08-31T04:29:49.878490Z",
     "iopub.status.busy": "2021-08-31T04:29:49.877745Z",
     "iopub.status.idle": "2021-08-31T04:29:49.884665Z",
     "shell.execute_reply": "2021-08-31T04:29:49.885072Z",
     "shell.execute_reply.started": "2021-08-31T04:27:25.514509Z"
    },
    "papermill": {
     "duration": 0.03529,
     "end_time": "2021-08-31T04:29:49.885203",
     "exception": false,
     "start_time": "2021-08-31T04:29:49.849913",
     "status": "completed"
    },
    "tags": []
   },
   "outputs": [
    {
     "data": {
      "text/plain": [
       "array(['C', 'A', 'G', 'E', 'F', 'D', 'B'], dtype=object)"
      ]
     },
     "execution_count": 3,
     "metadata": {},
     "output_type": "execute_result"
    }
   ],
   "source": [
    "df.cat8.unique()"
   ]
  },
  {
   "cell_type": "code",
   "execution_count": 4,
   "id": "indian-perspective",
   "metadata": {
    "execution": {
     "iopub.execute_input": "2021-08-31T04:29:49.907059Z",
     "iopub.status.busy": "2021-08-31T04:29:49.905970Z",
     "iopub.status.idle": "2021-08-31T04:29:49.909459Z",
     "shell.execute_reply": "2021-08-31T04:29:49.909070Z",
     "shell.execute_reply.started": "2021-08-31T04:26:57.007596Z"
    },
    "papermill": {
     "duration": 0.015295,
     "end_time": "2021-08-31T04:29:49.909563",
     "exception": false,
     "start_time": "2021-08-31T04:29:49.894268",
     "status": "completed"
    },
    "tags": []
   },
   "outputs": [],
   "source": [
    "df[\"kfold\"] = -1"
   ]
  },
  {
   "cell_type": "code",
   "execution_count": 5,
   "id": "dangerous-sterling",
   "metadata": {
    "execution": {
     "iopub.execute_input": "2021-08-31T04:29:49.941895Z",
     "iopub.status.busy": "2021-08-31T04:29:49.940934Z",
     "iopub.status.idle": "2021-08-31T04:29:50.547222Z",
     "shell.execute_reply": "2021-08-31T04:29:50.547692Z",
     "shell.execute_reply.started": "2021-08-31T04:28:40.765693Z"
    },
    "papermill": {
     "duration": 0.629327,
     "end_time": "2021-08-31T04:29:50.547871",
     "exception": false,
     "start_time": "2021-08-31T04:29:49.918544",
     "status": "completed"
    },
    "tags": []
   },
   "outputs": [],
   "source": [
    "kf = model_selection.StratifiedKFold(n_splits=7, shuffle=True, random_state=42)\n",
    "for fold, (train_indicies, valid_indicies) in enumerate(kf.split(df,df['cat8'])):\n",
    "    df.loc[valid_indicies, \"kfold\"] = fold"
   ]
  },
  {
   "cell_type": "code",
   "execution_count": 6,
   "id": "personal-wrestling",
   "metadata": {
    "execution": {
     "iopub.execute_input": "2021-08-31T04:29:50.573006Z",
     "iopub.status.busy": "2021-08-31T04:29:50.572007Z",
     "iopub.status.idle": "2021-08-31T04:29:50.596197Z",
     "shell.execute_reply": "2021-08-31T04:29:50.595743Z",
     "shell.execute_reply.started": "2021-08-31T04:28:48.410583Z"
    },
    "papermill": {
     "duration": 0.038671,
     "end_time": "2021-08-31T04:29:50.596320",
     "exception": false,
     "start_time": "2021-08-31T04:29:50.557649",
     "status": "completed"
    },
    "tags": []
   },
   "outputs": [],
   "source": [
    "useful_features = [c for c in df.columns if c not in (\"id\", \"target\", \"kfold\")]\n",
    "object_cols = [col for col in useful_features if 'cat' in col]\n",
    "numerical_cols = [col for col in useful_features if col.startswith(\"cont\")]\n",
    "df_test = df_test[useful_features]"
   ]
  },
  {
   "cell_type": "code",
   "execution_count": 7,
   "id": "close-reggae",
   "metadata": {
    "execution": {
     "iopub.execute_input": "2021-08-31T04:29:50.619397Z",
     "iopub.status.busy": "2021-08-31T04:29:50.618158Z",
     "iopub.status.idle": "2021-08-31T04:29:50.620485Z",
     "shell.execute_reply": "2021-08-31T04:29:50.620899Z",
     "shell.execute_reply.started": "2021-08-31T04:28:52.580544Z"
    },
    "papermill": {
     "duration": 0.015853,
     "end_time": "2021-08-31T04:29:50.621032",
     "exception": false,
     "start_time": "2021-08-31T04:29:50.605179",
     "status": "completed"
    },
    "tags": []
   },
   "outputs": [],
   "source": [
    "# Model hyperparameters\n",
    "from xgboost import XGBRegressor\n",
    "params = {\n",
    "    'learning_rate': 0.07853392035787837,\n",
    "    'reg_lambda': 1.7549293092194938e-05,\n",
    "    'reg_alpha': 14.68267919457715,\n",
    "    'subsample': 0.8031450486786944,\n",
    "    'colsample_bytree': 0.170759104940733,\n",
    "    'max_depth': 3\n",
    "}"
   ]
  },
  {
   "cell_type": "code",
   "execution_count": 8,
   "id": "spatial-reform",
   "metadata": {
    "execution": {
     "iopub.execute_input": "2021-08-31T04:29:50.652724Z",
     "iopub.status.busy": "2021-08-31T04:29:50.652131Z",
     "iopub.status.idle": "2021-08-31T04:31:11.921817Z",
     "shell.execute_reply": "2021-08-31T04:31:11.922463Z",
     "shell.execute_reply.started": "2021-08-28T11:50:20.749952Z"
    },
    "papermill": {
     "duration": 81.291429,
     "end_time": "2021-08-31T04:31:11.922668",
     "exception": false,
     "start_time": "2021-08-31T04:29:50.631239",
     "status": "completed"
    },
    "tags": []
   },
   "outputs": [
    {
     "name": "stdout",
     "output_type": "stream",
     "text": [
      "[0]\tvalidation_0-rmse:7.17331\n",
      "[1000]\tvalidation_0-rmse:0.71784\n",
      "[2000]\tvalidation_0-rmse:0.71623\n",
      "[2953]\tvalidation_0-rmse:0.71605\n",
      "0 0.7159945261364977\n",
      "[0]\tvalidation_0-rmse:7.17406\n",
      "[1000]\tvalidation_0-rmse:0.71856\n",
      "[2000]\tvalidation_0-rmse:0.71694\n",
      "[3000]\tvalidation_0-rmse:0.71662\n",
      "[3130]\tvalidation_0-rmse:0.71662\n",
      "1 0.716580882515304\n",
      "[0]\tvalidation_0-rmse:7.17244\n",
      "[1000]\tvalidation_0-rmse:0.72252\n",
      "[2000]\tvalidation_0-rmse:0.72097\n",
      "[3000]\tvalidation_0-rmse:0.72081\n",
      "[3171]\tvalidation_0-rmse:0.72077\n",
      "2 0.7207157690534768\n",
      "[0]\tvalidation_0-rmse:7.17233\n",
      "[1000]\tvalidation_0-rmse:0.71811\n",
      "[2000]\tvalidation_0-rmse:0.71639\n",
      "[3000]\tvalidation_0-rmse:0.71606\n",
      "[3262]\tvalidation_0-rmse:0.71609\n",
      "3 0.7160362521745589\n",
      "[0]\tvalidation_0-rmse:7.16753\n",
      "[1000]\tvalidation_0-rmse:0.71841\n",
      "[2000]\tvalidation_0-rmse:0.71678\n",
      "[3000]\tvalidation_0-rmse:0.71654\n",
      "[3222]\tvalidation_0-rmse:0.71655\n",
      "4 0.7165076354124533\n",
      "[0]\tvalidation_0-rmse:7.17626\n",
      "[1000]\tvalidation_0-rmse:0.71845\n",
      "[2000]\tvalidation_0-rmse:0.71712\n",
      "[2639]\tvalidation_0-rmse:0.71705\n",
      "5 0.7169952473073381\n",
      "[0]\tvalidation_0-rmse:7.17458\n",
      "[1000]\tvalidation_0-rmse:0.72317\n",
      "[2000]\tvalidation_0-rmse:0.72200\n",
      "[2891]\tvalidation_0-rmse:0.72190\n",
      "6 0.7218839883838944\n",
      "0.717816328711932 0.0022473294225332325\n"
     ]
    }
   ],
   "source": [
    "final_predictions = []\n",
    "scores = []\n",
    "for fold in range(7):\n",
    "    xtrain = df[df.kfold != fold].reset_index(drop=True)\n",
    "    xvalid = df[df.kfold == fold].reset_index(drop=True)\n",
    "    xtest = df_test.copy()\n",
    "\n",
    "    ytrain = xtrain.target\n",
    "    yvalid = xvalid.target\n",
    "    \n",
    "    xtrain = xtrain[useful_features]\n",
    "    xvalid = xvalid[useful_features]\n",
    "    \n",
    "    ordinal_encoder = OrdinalEncoder()\n",
    "    xtrain[object_cols] = ordinal_encoder.fit_transform(xtrain[object_cols])\n",
    "    xvalid[object_cols] = ordinal_encoder.transform(xvalid[object_cols])\n",
    "    xtest[object_cols] = ordinal_encoder.transform(xtest[object_cols])\n",
    "    \n",
    "    scaler = preprocessing.StandardScaler()\n",
    "    xtrain[numerical_cols] = scaler.fit_transform(xtrain[numerical_cols])\n",
    "    xvalid[numerical_cols] = scaler.transform(xvalid[numerical_cols])\n",
    "    xtest[numerical_cols] = scaler.transform(xtest[numerical_cols])\n",
    "    \n",
    "    model = XGBRegressor(\n",
    "        random_state=0, \n",
    "        tree_method='gpu_hist',\n",
    "        gpu_id=0,\n",
    "        predictor=\"gpu_predictor\",\n",
    "        n_estimators=5000,\n",
    "        **params\n",
    "    )\n",
    "    \n",
    "    model.fit(xtrain,\n",
    "              ytrain,\n",
    "              early_stopping_rounds=300,\n",
    "              eval_set=[(xvalid, yvalid)],\n",
    "              verbose=1000)\n",
    "    \n",
    "    preds_valid = model.predict(xvalid)\n",
    "    test_preds = model.predict(xtest)\n",
    "    final_predictions.append(test_preds)\n",
    "    rmse = mean_squared_error(yvalid, preds_valid, squared=False)\n",
    "    print(fold,rmse)\n",
    "    scores.append(rmse)\n",
    "print(np.mean(scores), np.std(scores))"
   ]
  },
  {
   "cell_type": "code",
   "execution_count": 9,
   "id": "whole-martial",
   "metadata": {
    "execution": {
     "iopub.execute_input": "2021-08-31T04:31:11.968998Z",
     "iopub.status.busy": "2021-08-31T04:31:11.967894Z",
     "iopub.status.idle": "2021-08-31T04:31:11.977188Z",
     "shell.execute_reply": "2021-08-31T04:31:11.976675Z",
     "shell.execute_reply.started": "2021-08-20T23:31:30.337331Z"
    },
    "papermill": {
     "duration": 0.034126,
     "end_time": "2021-08-31T04:31:11.977297",
     "exception": false,
     "start_time": "2021-08-31T04:31:11.943171",
     "status": "completed"
    },
    "tags": []
   },
   "outputs": [],
   "source": [
    "preds = np.mean(np.column_stack(final_predictions), axis=1)"
   ]
  },
  {
   "cell_type": "code",
   "execution_count": 10,
   "id": "looking-range",
   "metadata": {
    "execution": {
     "iopub.execute_input": "2021-08-31T04:31:12.021951Z",
     "iopub.status.busy": "2021-08-31T04:31:12.021156Z",
     "iopub.status.idle": "2021-08-31T04:31:12.714473Z",
     "shell.execute_reply": "2021-08-31T04:31:12.713966Z"
    },
    "papermill": {
     "duration": 0.717366,
     "end_time": "2021-08-31T04:31:12.714595",
     "exception": false,
     "start_time": "2021-08-31T04:31:11.997229",
     "status": "completed"
    },
    "tags": []
   },
   "outputs": [],
   "source": [
    "sample_submission.target = preds\n",
    "sample_submission.to_csv(\"0831_KFold_XGBoost_submission.csv\", index=False)"
   ]
  },
  {
   "cell_type": "code",
   "execution_count": null,
   "id": "typical-treasurer",
   "metadata": {
    "papermill": {
     "duration": 0.019126,
     "end_time": "2021-08-31T04:31:12.753610",
     "exception": false,
     "start_time": "2021-08-31T04:31:12.734484",
     "status": "completed"
    },
    "tags": []
   },
   "outputs": [],
   "source": []
  }
 ],
 "metadata": {
  "kernelspec": {
   "display_name": "Python 3",
   "language": "python",
   "name": "python3"
  },
  "language_info": {
   "codemirror_mode": {
    "name": "ipython",
    "version": 3
   },
   "file_extension": ".py",
   "mimetype": "text/x-python",
   "name": "python",
   "nbconvert_exporter": "python",
   "pygments_lexer": "ipython3",
   "version": "3.7.10"
  },
  "papermill": {
   "default_parameters": {},
   "duration": 95.715324,
   "end_time": "2021-08-31T04:31:14.361721",
   "environment_variables": {},
   "exception": null,
   "input_path": "__notebook__.ipynb",
   "output_path": "__notebook__.ipynb",
   "parameters": {},
   "start_time": "2021-08-31T04:29:38.646397",
   "version": "2.3.3"
  }
 },
 "nbformat": 4,
 "nbformat_minor": 5
}
