{
  "nbformat": 4,
  "nbformat_minor": 5,
  "metadata": {
    "kernelspec": {
      "display_name": "Python 3",
      "language": "python",
      "name": "python3"
    },
    "language_info": {
      "codemirror_mode": {
        "name": "ipython",
        "version": 3
      },
      "file_extension": ".py",
      "mimetype": "text/x-python",
      "name": "python",
      "nbconvert_exporter": "python",
      "pygments_lexer": "ipython3",
      "version": "3.7.10"
    },
    "papermill": {
      "default_parameters": {},
      "duration": 1861.399639,
      "end_time": "2021-08-17T05:09:46.104843",
      "environment_variables": {},
      "exception": null,
      "input_path": "__notebook__.ipynb",
      "output_path": "__notebook__.ipynb",
      "parameters": {},
      "start_time": "2021-08-17T04:38:44.705204",
      "version": "2.3.3"
    },
    "colab": {
      "provenance": [],
      "collapsed_sections": []
    }
  },
  "cells": [
    {
      "cell_type": "code",
      "metadata": {
        "colab": {
          "resources": {
            "http://localhost:8080/nbextensions/google.colab/files.js": {
              "data": "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",
              "ok": true,
              "headers": [
                [
                  "content-type",
                  "application/javascript"
                ]
              ],
              "status": 200,
              "status_text": ""
            }
          },
          "base_uri": "https://localhost:8080/",
          "height": 95
        },
        "id": "OpeWF9DIxlUG",
        "outputId": "bc9ebc71-33bf-445f-c41f-d0bb2e8ddc13"
      },
      "source": [
        "from google.colab import files\n",
        "files.upload()"
      ],
      "id": "OpeWF9DIxlUG",
      "execution_count": null,
      "outputs": [
        {
          "output_type": "display_data",
          "data": {
            "text/html": [
              "\n",
              "     <input type=\"file\" id=\"files-f63610d6-f006-4311-b7fc-665b95d63f5e\" name=\"files[]\" multiple disabled\n",
              "        style=\"border:none\" />\n",
              "     <output id=\"result-f63610d6-f006-4311-b7fc-665b95d63f5e\">\n",
              "      Upload widget is only available when the cell has been executed in the\n",
              "      current browser session. Please rerun this cell to enable.\n",
              "      </output>\n",
              "      <script src=\"/nbextensions/google.colab/files.js\"></script> "
            ],
            "text/plain": [
              "<IPython.core.display.HTML object>"
            ]
          },
          "metadata": {
            "tags": []
          }
        },
        {
          "output_type": "stream",
          "text": [
            "Saving kaggle.json to kaggle (1).json\n"
          ],
          "name": "stdout"
        },
        {
          "output_type": "execute_result",
          "data": {
            "text/plain": [
              "{'kaggle.json': b'{\"username\":\"yukinao\",\"key\":\"ffc11707b069606a7fdd4faae4c09569\"}'}"
            ]
          },
          "metadata": {
            "tags": []
          },
          "execution_count": 52
        }
      ]
    },
    {
      "cell_type": "code",
      "metadata": {
        "id": "8Jy6xJ2yxlQ4"
      },
      "source": [
        "!mkdir -p ~/.kaggle\n",
        "!cp kaggle.json ~/.kaggle/"
      ],
      "id": "8Jy6xJ2yxlQ4",
      "execution_count": null,
      "outputs": []
    },
    {
      "cell_type": "code",
      "metadata": {
        "id": "1P1mGr3hxlMm"
      },
      "source": [
        "!chmod 600 /root/.kaggle/kaggle.json"
      ],
      "id": "1P1mGr3hxlMm",
      "execution_count": null,
      "outputs": []
    },
    {
      "cell_type": "code",
      "metadata": {
        "colab": {
          "base_uri": "https://localhost:8080/"
        },
        "id": "TDI84AhqxlIx",
        "outputId": "c26dc4b9-7086-4510-ccd3-46a817cd089c"
      },
      "source": [
        "!kaggle competitions download -c 30-days-of-ml"
      ],
      "id": "TDI84AhqxlIx",
      "execution_count": null,
      "outputs": [
        {
          "output_type": "stream",
          "text": [
            "Warning: Looks like you're using an outdated API Version, please consider updating (server 1.5.12 / client 1.5.4)\n",
            "test.csv.zip: Skipping, found more recently modified local copy (use --force to force download)\n",
            "train.csv.zip: Skipping, found more recently modified local copy (use --force to force download)\n",
            "sample_submission.csv.zip: Skipping, found more recently modified local copy (use --force to force download)\n"
          ],
          "name": "stdout"
        }
      ]
    },
    {
      "cell_type": "code",
      "metadata": {
        "id": "ozFeedioyc4F",
        "colab": {
          "base_uri": "https://localhost:8080/"
        },
        "outputId": "bd716ba0-5f9f-4ffa-f5c4-95d69677a37a"
      },
      "source": [
        "!mkdir ./kaggle\n",
        "!mkdir ./kaggle/input\n",
        "!mkdir ./kaggle/input/30-days-of-ml"
      ],
      "id": "ozFeedioyc4F",
      "execution_count": null,
      "outputs": [
        {
          "output_type": "stream",
          "text": [
            "mkdir: cannot create directory ‘./kaggle’: File exists\n",
            "mkdir: cannot create directory ‘./kaggle/input’: File exists\n",
            "mkdir: cannot create directory ‘./kaggle/input/30-days-of-ml’: File exists\n"
          ],
          "name": "stdout"
        }
      ]
    },
    {
      "cell_type": "code",
      "metadata": {
        "id": "1zr2O5yByAoM",
        "colab": {
          "base_uri": "https://localhost:8080/"
        },
        "outputId": "b9e77eae-a1e4-4609-a362-39ae07d606bc"
      },
      "source": [
        "#教師データの解凍\n",
        "!unzip -qq train.csv.zip -d ./kaggle/input/30-days-of-ml\n",
        "!unzip -qq test.csv.zip -d ./kaggle/input/30-days-of-ml"
      ],
      "id": "1zr2O5yByAoM",
      "execution_count": null,
      "outputs": [
        {
          "output_type": "stream",
          "text": [
            "replace ./kaggle/input/30-days-of-ml/train.csv? [y]es, [n]o, [A]ll, [N]one, [r]ename: N\n",
            "replace ./kaggle/input/30-days-of-ml/test.csv? [y]es, [n]o, [A]ll, [N]one, [r]ename: N\n"
          ],
          "name": "stdout"
        }
      ]
    },
    {
      "cell_type": "code",
      "metadata": {
        "_cell_guid": "b1076dfc-b9ad-4769-8c92-a6c4dae69d19",
        "_uuid": "8f2839f25d086af736a60e9eeb907d3b93b6e0e5",
        "execution": {
          "iopub.execute_input": "2021-08-17T04:38:52.979109Z",
          "iopub.status.busy": "2021-08-17T04:38:52.978360Z",
          "iopub.status.idle": "2021-08-17T04:38:54.133789Z",
          "shell.execute_reply": "2021-08-17T04:38:54.134344Z",
          "shell.execute_reply.started": "2021-08-17T04:38:17.068174Z"
        },
        "papermill": {
          "duration": 1.192758,
          "end_time": "2021-08-17T04:38:54.134715",
          "exception": false,
          "start_time": "2021-08-17T04:38:52.941957",
          "status": "completed"
        },
        "tags": [],
        "id": "7eb6527f"
      },
      "source": [
        "# This Python 3 environment comes with many helpful analytics libraries installed\n",
        "# It is defined by the kaggle/python Docker image: https://github.com/kaggle/docker-python\n",
        "# For example, here's several helpful packages to load\n",
        "\n",
        "import numpy as np # linear algebra\n",
        "import pandas as pd # data processing, CSV file I/O (e.g. pd.read_csv)\n",
        "\n",
        "# Input data files are available in the read-only \"../input/\" directory\n",
        "# For example, running this (by clicking run or pressing Shift+Enter) will list all files under the input directory\n",
        "\n",
        "import os\n",
        "for dirname, _, filenames in os.walk('/kaggle/input'):\n",
        "    for filename in filenames:\n",
        "        print(os.path.join(dirname, filename))\n",
        "\n",
        "# You can write up to 20GB to the current directory (/kaggle/working/) that gets preserved as output when you create a version using \"Save & Run All\" \n",
        "# You can also write temporary files to /kaggle/temp/, but they won't be saved outside of the current session\n",
        "import random\n",
        "\n",
        "from sklearn import model_selection\n",
        "from sklearn.preprocessing import LabelEncoder\n",
        "from sklearn.metrics import mean_squared_error\n",
        "import warnings\n",
        "warnings.simplefilter(\"ignore\")\n",
        "\n",
        "import matplotlib.pyplot as plt\n",
        "%matplotlib inline\n",
        "\n",
        "import seaborn as sns\n",
        "sns.set(font='Yu Gothic')\n",
        "\n",
        "from pathlib import Path\n",
        "input_path = Path('./kaggle/input/30-days-of-ml/')"
      ],
      "id": "7eb6527f",
      "execution_count": null,
      "outputs": []
    },
    {
      "cell_type": "code",
      "metadata": {
        "execution": {
          "iopub.execute_input": "2021-08-17T04:38:54.178566Z",
          "iopub.status.busy": "2021-08-17T04:38:54.177888Z",
          "iopub.status.idle": "2021-08-17T04:38:59.494168Z",
          "shell.execute_reply": "2021-08-17T04:38:59.492993Z",
          "shell.execute_reply.started": "2021-08-17T04:38:18.138386Z"
        },
        "papermill": {
          "duration": 5.338474,
          "end_time": "2021-08-17T04:38:59.494415",
          "exception": false,
          "start_time": "2021-08-17T04:38:54.155941",
          "status": "completed"
        },
        "tags": [],
        "id": "d6a57d9f"
      },
      "source": [
        "train = pd.read_csv(input_path / 'train.csv')\n",
        "test = pd.read_csv(input_path / 'test.csv')"
      ],
      "id": "d6a57d9f",
      "execution_count": null,
      "outputs": []
    },
    {
      "cell_type": "code",
      "metadata": {
        "execution": {
          "iopub.execute_input": "2021-08-17T04:38:59.543688Z",
          "iopub.status.busy": "2021-08-17T04:38:59.542637Z",
          "iopub.status.idle": "2021-08-17T04:38:59.584804Z",
          "shell.execute_reply": "2021-08-17T04:38:59.584033Z",
          "shell.execute_reply.started": "2021-08-17T04:38:21.910505Z"
        },
        "papermill": {
          "duration": 0.070284,
          "end_time": "2021-08-17T04:38:59.584968",
          "exception": false,
          "start_time": "2021-08-17T04:38:59.514684",
          "status": "completed"
        },
        "tags": [],
        "id": "0fd3ab8b",
        "colab": {
          "base_uri": "https://localhost:8080/",
          "height": 222
        },
        "outputId": "37653a9d-c640-4a60-935b-54aedc3f75c8"
      },
      "source": [
        "train.head()"
      ],
      "id": "0fd3ab8b",
      "execution_count": null,
      "outputs": [
        {
          "output_type": "execute_result",
          "data": {
            "text/html": [
              "<div>\n",
              "<style scoped>\n",
              "    .dataframe tbody tr th:only-of-type {\n",
              "        vertical-align: middle;\n",
              "    }\n",
              "\n",
              "    .dataframe tbody tr th {\n",
              "        vertical-align: top;\n",
              "    }\n",
              "\n",
              "    .dataframe thead th {\n",
              "        text-align: right;\n",
              "    }\n",
              "</style>\n",
              "<table border=\"1\" class=\"dataframe\">\n",
              "  <thead>\n",
              "    <tr style=\"text-align: right;\">\n",
              "      <th></th>\n",
              "      <th>id</th>\n",
              "      <th>cat0</th>\n",
              "      <th>cat1</th>\n",
              "      <th>cat2</th>\n",
              "      <th>cat3</th>\n",
              "      <th>cat4</th>\n",
              "      <th>cat5</th>\n",
              "      <th>cat6</th>\n",
              "      <th>cat7</th>\n",
              "      <th>cat8</th>\n",
              "      <th>cat9</th>\n",
              "      <th>cont0</th>\n",
              "      <th>cont1</th>\n",
              "      <th>cont2</th>\n",
              "      <th>cont3</th>\n",
              "      <th>cont4</th>\n",
              "      <th>cont5</th>\n",
              "      <th>cont6</th>\n",
              "      <th>cont7</th>\n",
              "      <th>cont8</th>\n",
              "      <th>cont9</th>\n",
              "      <th>cont10</th>\n",
              "      <th>cont11</th>\n",
              "      <th>cont12</th>\n",
              "      <th>cont13</th>\n",
              "      <th>target</th>\n",
              "    </tr>\n",
              "  </thead>\n",
              "  <tbody>\n",
              "    <tr>\n",
              "      <th>0</th>\n",
              "      <td>1</td>\n",
              "      <td>B</td>\n",
              "      <td>B</td>\n",
              "      <td>B</td>\n",
              "      <td>C</td>\n",
              "      <td>B</td>\n",
              "      <td>B</td>\n",
              "      <td>A</td>\n",
              "      <td>E</td>\n",
              "      <td>C</td>\n",
              "      <td>N</td>\n",
              "      <td>0.201470</td>\n",
              "      <td>-0.014822</td>\n",
              "      <td>0.669699</td>\n",
              "      <td>0.136278</td>\n",
              "      <td>0.610706</td>\n",
              "      <td>0.400361</td>\n",
              "      <td>0.160266</td>\n",
              "      <td>0.310921</td>\n",
              "      <td>0.389470</td>\n",
              "      <td>0.267559</td>\n",
              "      <td>0.237281</td>\n",
              "      <td>0.377873</td>\n",
              "      <td>0.322401</td>\n",
              "      <td>0.869850</td>\n",
              "      <td>8.113634</td>\n",
              "    </tr>\n",
              "    <tr>\n",
              "      <th>1</th>\n",
              "      <td>2</td>\n",
              "      <td>B</td>\n",
              "      <td>B</td>\n",
              "      <td>A</td>\n",
              "      <td>A</td>\n",
              "      <td>B</td>\n",
              "      <td>D</td>\n",
              "      <td>A</td>\n",
              "      <td>F</td>\n",
              "      <td>A</td>\n",
              "      <td>O</td>\n",
              "      <td>0.743068</td>\n",
              "      <td>0.367411</td>\n",
              "      <td>1.021605</td>\n",
              "      <td>0.365798</td>\n",
              "      <td>0.276853</td>\n",
              "      <td>0.533087</td>\n",
              "      <td>0.558922</td>\n",
              "      <td>0.516294</td>\n",
              "      <td>0.594928</td>\n",
              "      <td>0.341439</td>\n",
              "      <td>0.906013</td>\n",
              "      <td>0.921701</td>\n",
              "      <td>0.261975</td>\n",
              "      <td>0.465083</td>\n",
              "      <td>8.481233</td>\n",
              "    </tr>\n",
              "    <tr>\n",
              "      <th>2</th>\n",
              "      <td>3</td>\n",
              "      <td>A</td>\n",
              "      <td>A</td>\n",
              "      <td>A</td>\n",
              "      <td>C</td>\n",
              "      <td>B</td>\n",
              "      <td>D</td>\n",
              "      <td>A</td>\n",
              "      <td>D</td>\n",
              "      <td>A</td>\n",
              "      <td>F</td>\n",
              "      <td>0.742708</td>\n",
              "      <td>0.310383</td>\n",
              "      <td>-0.012673</td>\n",
              "      <td>0.576957</td>\n",
              "      <td>0.285074</td>\n",
              "      <td>0.650609</td>\n",
              "      <td>0.375348</td>\n",
              "      <td>0.902567</td>\n",
              "      <td>0.555205</td>\n",
              "      <td>0.843531</td>\n",
              "      <td>0.748809</td>\n",
              "      <td>0.620126</td>\n",
              "      <td>0.541474</td>\n",
              "      <td>0.763846</td>\n",
              "      <td>8.364351</td>\n",
              "    </tr>\n",
              "    <tr>\n",
              "      <th>3</th>\n",
              "      <td>4</td>\n",
              "      <td>B</td>\n",
              "      <td>B</td>\n",
              "      <td>A</td>\n",
              "      <td>C</td>\n",
              "      <td>B</td>\n",
              "      <td>D</td>\n",
              "      <td>A</td>\n",
              "      <td>E</td>\n",
              "      <td>C</td>\n",
              "      <td>K</td>\n",
              "      <td>0.429551</td>\n",
              "      <td>0.620998</td>\n",
              "      <td>0.577942</td>\n",
              "      <td>0.280610</td>\n",
              "      <td>0.284667</td>\n",
              "      <td>0.668980</td>\n",
              "      <td>0.239061</td>\n",
              "      <td>0.732948</td>\n",
              "      <td>0.679618</td>\n",
              "      <td>0.574844</td>\n",
              "      <td>0.346010</td>\n",
              "      <td>0.714610</td>\n",
              "      <td>0.540150</td>\n",
              "      <td>0.280682</td>\n",
              "      <td>8.049253</td>\n",
              "    </tr>\n",
              "    <tr>\n",
              "      <th>4</th>\n",
              "      <td>6</td>\n",
              "      <td>A</td>\n",
              "      <td>A</td>\n",
              "      <td>A</td>\n",
              "      <td>C</td>\n",
              "      <td>B</td>\n",
              "      <td>D</td>\n",
              "      <td>A</td>\n",
              "      <td>E</td>\n",
              "      <td>A</td>\n",
              "      <td>N</td>\n",
              "      <td>1.058291</td>\n",
              "      <td>0.367492</td>\n",
              "      <td>-0.052389</td>\n",
              "      <td>0.232407</td>\n",
              "      <td>0.287595</td>\n",
              "      <td>0.686964</td>\n",
              "      <td>0.420667</td>\n",
              "      <td>0.648182</td>\n",
              "      <td>0.684501</td>\n",
              "      <td>0.956692</td>\n",
              "      <td>1.000773</td>\n",
              "      <td>0.776742</td>\n",
              "      <td>0.625849</td>\n",
              "      <td>0.250823</td>\n",
              "      <td>7.972260</td>\n",
              "    </tr>\n",
              "  </tbody>\n",
              "</table>\n",
              "</div>"
            ],
            "text/plain": [
              "   id cat0 cat1 cat2 cat3  ...    cont10    cont11    cont12    cont13    target\n",
              "0   1    B    B    B    C  ...  0.237281  0.377873  0.322401  0.869850  8.113634\n",
              "1   2    B    B    A    A  ...  0.906013  0.921701  0.261975  0.465083  8.481233\n",
              "2   3    A    A    A    C  ...  0.748809  0.620126  0.541474  0.763846  8.364351\n",
              "3   4    B    B    A    C  ...  0.346010  0.714610  0.540150  0.280682  8.049253\n",
              "4   6    A    A    A    C  ...  1.000773  0.776742  0.625849  0.250823  7.972260\n",
              "\n",
              "[5 rows x 26 columns]"
            ]
          },
          "metadata": {
            "tags": []
          },
          "execution_count": 60
        }
      ]
    },
    {
      "cell_type": "code",
      "metadata": {
        "execution": {
          "iopub.execute_input": "2021-08-17T04:38:59.631927Z",
          "iopub.status.busy": "2021-08-17T04:38:59.630722Z",
          "iopub.status.idle": "2021-08-17T04:38:59.955628Z",
          "shell.execute_reply": "2021-08-17T04:38:59.954992Z",
          "shell.execute_reply.started": "2021-08-17T04:38:21.951826Z"
        },
        "papermill": {
          "duration": 0.350856,
          "end_time": "2021-08-17T04:38:59.955808",
          "exception": false,
          "start_time": "2021-08-17T04:38:59.604952",
          "status": "completed"
        },
        "tags": [],
        "colab": {
          "base_uri": "https://localhost:8080/"
        },
        "id": "c907ed6b",
        "outputId": "30d3d552-c322-4978-e06e-687f6452d012"
      },
      "source": [
        "train.info()"
      ],
      "id": "c907ed6b",
      "execution_count": null,
      "outputs": [
        {
          "output_type": "stream",
          "text": [
            "<class 'pandas.core.frame.DataFrame'>\n",
            "RangeIndex: 300000 entries, 0 to 299999\n",
            "Data columns (total 26 columns):\n",
            " #   Column  Non-Null Count   Dtype  \n",
            "---  ------  --------------   -----  \n",
            " 0   id      300000 non-null  int64  \n",
            " 1   cat0    300000 non-null  object \n",
            " 2   cat1    300000 non-null  object \n",
            " 3   cat2    300000 non-null  object \n",
            " 4   cat3    300000 non-null  object \n",
            " 5   cat4    300000 non-null  object \n",
            " 6   cat5    300000 non-null  object \n",
            " 7   cat6    300000 non-null  object \n",
            " 8   cat7    300000 non-null  object \n",
            " 9   cat8    300000 non-null  object \n",
            " 10  cat9    300000 non-null  object \n",
            " 11  cont0   300000 non-null  float64\n",
            " 12  cont1   300000 non-null  float64\n",
            " 13  cont2   300000 non-null  float64\n",
            " 14  cont3   300000 non-null  float64\n",
            " 15  cont4   300000 non-null  float64\n",
            " 16  cont5   300000 non-null  float64\n",
            " 17  cont6   300000 non-null  float64\n",
            " 18  cont7   300000 non-null  float64\n",
            " 19  cont8   300000 non-null  float64\n",
            " 20  cont9   300000 non-null  float64\n",
            " 21  cont10  300000 non-null  float64\n",
            " 22  cont11  300000 non-null  float64\n",
            " 23  cont12  300000 non-null  float64\n",
            " 24  cont13  300000 non-null  float64\n",
            " 25  target  300000 non-null  float64\n",
            "dtypes: float64(15), int64(1), object(10)\n",
            "memory usage: 59.5+ MB\n"
          ],
          "name": "stdout"
        }
      ]
    },
    {
      "cell_type": "code",
      "metadata": {
        "execution": {
          "iopub.execute_input": "2021-08-17T04:39:00.025176Z",
          "iopub.status.busy": "2021-08-17T04:39:00.024361Z",
          "iopub.status.idle": "2021-08-17T04:39:00.029043Z",
          "shell.execute_reply": "2021-08-17T04:39:00.028457Z",
          "shell.execute_reply.started": "2021-08-17T04:38:22.124625Z"
        },
        "papermill": {
          "duration": 0.052651,
          "end_time": "2021-08-17T04:39:00.029203",
          "exception": false,
          "start_time": "2021-08-17T04:38:59.976552",
          "status": "completed"
        },
        "tags": [],
        "colab": {
          "base_uri": "https://localhost:8080/",
          "height": 222
        },
        "id": "5bae01fe",
        "outputId": "a5190382-d21c-42ff-c9cf-5ff47d93102f"
      },
      "source": [
        "test.head()"
      ],
      "id": "5bae01fe",
      "execution_count": null,
      "outputs": [
        {
          "output_type": "execute_result",
          "data": {
            "text/html": [
              "<div>\n",
              "<style scoped>\n",
              "    .dataframe tbody tr th:only-of-type {\n",
              "        vertical-align: middle;\n",
              "    }\n",
              "\n",
              "    .dataframe tbody tr th {\n",
              "        vertical-align: top;\n",
              "    }\n",
              "\n",
              "    .dataframe thead th {\n",
              "        text-align: right;\n",
              "    }\n",
              "</style>\n",
              "<table border=\"1\" class=\"dataframe\">\n",
              "  <thead>\n",
              "    <tr style=\"text-align: right;\">\n",
              "      <th></th>\n",
              "      <th>id</th>\n",
              "      <th>cat0</th>\n",
              "      <th>cat1</th>\n",
              "      <th>cat2</th>\n",
              "      <th>cat3</th>\n",
              "      <th>cat4</th>\n",
              "      <th>cat5</th>\n",
              "      <th>cat6</th>\n",
              "      <th>cat7</th>\n",
              "      <th>cat8</th>\n",
              "      <th>cat9</th>\n",
              "      <th>cont0</th>\n",
              "      <th>cont1</th>\n",
              "      <th>cont2</th>\n",
              "      <th>cont3</th>\n",
              "      <th>cont4</th>\n",
              "      <th>cont5</th>\n",
              "      <th>cont6</th>\n",
              "      <th>cont7</th>\n",
              "      <th>cont8</th>\n",
              "      <th>cont9</th>\n",
              "      <th>cont10</th>\n",
              "      <th>cont11</th>\n",
              "      <th>cont12</th>\n",
              "      <th>cont13</th>\n",
              "    </tr>\n",
              "  </thead>\n",
              "  <tbody>\n",
              "    <tr>\n",
              "      <th>0</th>\n",
              "      <td>0</td>\n",
              "      <td>B</td>\n",
              "      <td>B</td>\n",
              "      <td>B</td>\n",
              "      <td>C</td>\n",
              "      <td>B</td>\n",
              "      <td>B</td>\n",
              "      <td>A</td>\n",
              "      <td>E</td>\n",
              "      <td>E</td>\n",
              "      <td>I</td>\n",
              "      <td>0.296227</td>\n",
              "      <td>0.686757</td>\n",
              "      <td>0.587731</td>\n",
              "      <td>0.392753</td>\n",
              "      <td>0.476739</td>\n",
              "      <td>0.376350</td>\n",
              "      <td>0.337884</td>\n",
              "      <td>0.321832</td>\n",
              "      <td>0.445212</td>\n",
              "      <td>0.290258</td>\n",
              "      <td>0.244476</td>\n",
              "      <td>0.087914</td>\n",
              "      <td>0.301831</td>\n",
              "      <td>0.845702</td>\n",
              "    </tr>\n",
              "    <tr>\n",
              "      <th>1</th>\n",
              "      <td>5</td>\n",
              "      <td>A</td>\n",
              "      <td>B</td>\n",
              "      <td>A</td>\n",
              "      <td>C</td>\n",
              "      <td>B</td>\n",
              "      <td>C</td>\n",
              "      <td>A</td>\n",
              "      <td>E</td>\n",
              "      <td>C</td>\n",
              "      <td>H</td>\n",
              "      <td>0.543707</td>\n",
              "      <td>0.364761</td>\n",
              "      <td>0.452967</td>\n",
              "      <td>0.929645</td>\n",
              "      <td>0.285509</td>\n",
              "      <td>0.860046</td>\n",
              "      <td>0.798712</td>\n",
              "      <td>0.835961</td>\n",
              "      <td>0.391657</td>\n",
              "      <td>0.288276</td>\n",
              "      <td>0.549568</td>\n",
              "      <td>0.905097</td>\n",
              "      <td>0.850684</td>\n",
              "      <td>0.693940</td>\n",
              "    </tr>\n",
              "    <tr>\n",
              "      <th>2</th>\n",
              "      <td>15</td>\n",
              "      <td>B</td>\n",
              "      <td>A</td>\n",
              "      <td>A</td>\n",
              "      <td>A</td>\n",
              "      <td>B</td>\n",
              "      <td>B</td>\n",
              "      <td>A</td>\n",
              "      <td>E</td>\n",
              "      <td>D</td>\n",
              "      <td>K</td>\n",
              "      <td>0.408961</td>\n",
              "      <td>0.296129</td>\n",
              "      <td>0.690999</td>\n",
              "      <td>0.740027</td>\n",
              "      <td>0.697272</td>\n",
              "      <td>0.683600</td>\n",
              "      <td>0.404089</td>\n",
              "      <td>0.879379</td>\n",
              "      <td>0.275549</td>\n",
              "      <td>0.427871</td>\n",
              "      <td>0.491667</td>\n",
              "      <td>0.384315</td>\n",
              "      <td>0.376689</td>\n",
              "      <td>0.508099</td>\n",
              "    </tr>\n",
              "    <tr>\n",
              "      <th>3</th>\n",
              "      <td>16</td>\n",
              "      <td>B</td>\n",
              "      <td>B</td>\n",
              "      <td>A</td>\n",
              "      <td>C</td>\n",
              "      <td>B</td>\n",
              "      <td>D</td>\n",
              "      <td>A</td>\n",
              "      <td>E</td>\n",
              "      <td>A</td>\n",
              "      <td>N</td>\n",
              "      <td>1.031239</td>\n",
              "      <td>0.356062</td>\n",
              "      <td>0.303651</td>\n",
              "      <td>0.895591</td>\n",
              "      <td>0.719306</td>\n",
              "      <td>0.777890</td>\n",
              "      <td>0.730954</td>\n",
              "      <td>0.644315</td>\n",
              "      <td>1.024017</td>\n",
              "      <td>0.391090</td>\n",
              "      <td>0.988340</td>\n",
              "      <td>0.411828</td>\n",
              "      <td>0.393585</td>\n",
              "      <td>0.461372</td>\n",
              "    </tr>\n",
              "    <tr>\n",
              "      <th>4</th>\n",
              "      <td>17</td>\n",
              "      <td>B</td>\n",
              "      <td>B</td>\n",
              "      <td>A</td>\n",
              "      <td>C</td>\n",
              "      <td>B</td>\n",
              "      <td>C</td>\n",
              "      <td>A</td>\n",
              "      <td>E</td>\n",
              "      <td>C</td>\n",
              "      <td>F</td>\n",
              "      <td>0.530447</td>\n",
              "      <td>0.729004</td>\n",
              "      <td>0.281723</td>\n",
              "      <td>0.444698</td>\n",
              "      <td>0.313032</td>\n",
              "      <td>0.431007</td>\n",
              "      <td>0.390992</td>\n",
              "      <td>0.408874</td>\n",
              "      <td>0.447887</td>\n",
              "      <td>0.390253</td>\n",
              "      <td>0.648932</td>\n",
              "      <td>0.385935</td>\n",
              "      <td>0.370401</td>\n",
              "      <td>0.900412</td>\n",
              "    </tr>\n",
              "  </tbody>\n",
              "</table>\n",
              "</div>"
            ],
            "text/plain": [
              "   id cat0 cat1 cat2 cat3  ...     cont9    cont10    cont11    cont12    cont13\n",
              "0   0    B    B    B    C  ...  0.290258  0.244476  0.087914  0.301831  0.845702\n",
              "1   5    A    B    A    C  ...  0.288276  0.549568  0.905097  0.850684  0.693940\n",
              "2  15    B    A    A    A  ...  0.427871  0.491667  0.384315  0.376689  0.508099\n",
              "3  16    B    B    A    C  ...  0.391090  0.988340  0.411828  0.393585  0.461372\n",
              "4  17    B    B    A    C  ...  0.390253  0.648932  0.385935  0.370401  0.900412\n",
              "\n",
              "[5 rows x 25 columns]"
            ]
          },
          "metadata": {
            "tags": []
          },
          "execution_count": 62
        }
      ]
    },
    {
      "cell_type": "code",
      "metadata": {
        "execution": {
          "iopub.execute_input": "2021-08-17T04:39:00.078518Z",
          "iopub.status.busy": "2021-08-17T04:39:00.077590Z",
          "iopub.status.idle": "2021-08-17T04:39:00.081800Z",
          "shell.execute_reply": "2021-08-17T04:39:00.081126Z",
          "shell.execute_reply.started": "2021-08-17T04:38:30.802166Z"
        },
        "papermill": {
          "duration": 0.031112,
          "end_time": "2021-08-17T04:39:00.081964",
          "exception": false,
          "start_time": "2021-08-17T04:39:00.050852",
          "status": "completed"
        },
        "tags": [],
        "id": "bf7769ab"
      },
      "source": [
        "# define the features for convenience.\n",
        "CAT_FEATS = ['cat0', 'cat1', 'cat2', 'cat3', 'cat4', 'cat5', 'cat6', 'cat7', 'cat8', 'cat9']\n",
        "NUM_FEATS = ['cont0', 'cont1', 'cont2', 'cont3', 'cont4', 'cont5', 'cont6', 'cont7', 'cont8', 'cont9', 'cont10', 'cont11', 'cont12', 'cont13']\n",
        "ALL_FEATS = CAT_FEATS + NUM_FEATS\n",
        "\n",
        "N_FOLDS = 10\n",
        "SEED = 42"
      ],
      "id": "bf7769ab",
      "execution_count": null,
      "outputs": []
    },
    {
      "cell_type": "markdown",
      "metadata": {
        "papermill": {
          "duration": 0.020437,
          "end_time": "2021-08-17T04:39:00.124070",
          "exception": false,
          "start_time": "2021-08-17T04:39:00.103633",
          "status": "completed"
        },
        "tags": [],
        "id": "f50afd44"
      },
      "source": [
        "Preprocess"
      ],
      "id": "f50afd44"
    },
    {
      "cell_type": "code",
      "metadata": {
        "execution": {
          "iopub.execute_input": "2021-08-17T04:39:00.172146Z",
          "iopub.status.busy": "2021-08-17T04:39:00.170976Z",
          "iopub.status.idle": "2021-08-17T04:39:00.318478Z",
          "shell.execute_reply": "2021-08-17T04:39:00.317861Z",
          "shell.execute_reply.started": "2021-08-17T03:00:02.22404Z"
        },
        "papermill": {
          "duration": 0.172966,
          "end_time": "2021-08-17T04:39:00.318637",
          "exception": false,
          "start_time": "2021-08-17T04:39:00.145671",
          "status": "completed"
        },
        "tags": [],
        "id": "fdb8d6dd"
      },
      "source": [
        "# Merge\n",
        "train['ISTrain'] = 1\n",
        "test['ISTrain'] = 0\n",
        "data = pd.concat([train, test])"
      ],
      "id": "fdb8d6dd",
      "execution_count": null,
      "outputs": []
    },
    {
      "cell_type": "code",
      "metadata": {
        "execution": {
          "iopub.execute_input": "2021-08-17T04:39:00.397172Z",
          "iopub.status.busy": "2021-08-17T04:39:00.391948Z",
          "iopub.status.idle": "2021-08-17T04:39:02.216054Z",
          "shell.execute_reply": "2021-08-17T04:39:02.215348Z",
          "shell.execute_reply.started": "2021-08-17T03:00:06.855675Z"
        },
        "papermill": {
          "duration": 1.876485,
          "end_time": "2021-08-17T04:39:02.216214",
          "exception": false,
          "start_time": "2021-08-17T04:39:00.339729",
          "status": "completed"
        },
        "tags": [],
        "id": "facb45eb"
      },
      "source": [
        "# Category\n",
        "for cat in CAT_FEATS:\n",
        "    le = LabelEncoder()\n",
        "    data[cat] = le.fit_transform(data[cat])"
      ],
      "id": "facb45eb",
      "execution_count": null,
      "outputs": []
    },
    {
      "cell_type": "code",
      "metadata": {
        "execution": {
          "iopub.execute_input": "2021-08-17T04:39:02.263969Z",
          "iopub.status.busy": "2021-08-17T04:39:02.263211Z",
          "iopub.status.idle": "2021-08-17T04:39:02.494415Z",
          "shell.execute_reply": "2021-08-17T04:39:02.493806Z",
          "shell.execute_reply.started": "2021-08-17T03:00:17.000742Z"
        },
        "papermill": {
          "duration": 0.257367,
          "end_time": "2021-08-17T04:39:02.494588",
          "exception": false,
          "start_time": "2021-08-17T04:39:02.237221",
          "status": "completed"
        },
        "tags": [],
        "id": "5500e5f1"
      },
      "source": [
        "# Undo\n",
        "train = data[data['ISTrain'] == 1]\n",
        "test = data[data['ISTrain'] != 1]"
      ],
      "id": "5500e5f1",
      "execution_count": null,
      "outputs": []
    },
    {
      "cell_type": "code",
      "metadata": {
        "execution": {
          "iopub.execute_input": "2021-08-17T04:39:02.574629Z",
          "iopub.status.busy": "2021-08-17T04:39:02.573765Z",
          "iopub.status.idle": "2021-08-17T04:39:02.610576Z",
          "shell.execute_reply": "2021-08-17T04:39:02.611431Z",
          "shell.execute_reply.started": "2021-08-17T03:00:21.345985Z"
        },
        "papermill": {
          "duration": 0.094115,
          "end_time": "2021-08-17T04:39:02.611694",
          "exception": false,
          "start_time": "2021-08-17T04:39:02.517579",
          "status": "completed"
        },
        "tags": [],
        "id": "8a43bb6a"
      },
      "source": [
        "#drop\n",
        "drop_cols = [\"ISTrain\"]\n",
        "train.drop(columns=drop_cols, inplace=True)\n",
        "test.drop(columns=drop_cols, inplace=True)"
      ],
      "id": "8a43bb6a",
      "execution_count": null,
      "outputs": []
    },
    {
      "cell_type": "code",
      "metadata": {
        "execution": {
          "iopub.execute_input": "2021-08-17T04:39:02.705192Z",
          "iopub.status.busy": "2021-08-17T04:39:02.704104Z",
          "iopub.status.idle": "2021-08-17T04:39:02.721592Z",
          "shell.execute_reply": "2021-08-17T04:39:02.721032Z",
          "shell.execute_reply.started": "2021-08-17T03:02:42.277871Z"
        },
        "papermill": {
          "duration": 0.074496,
          "end_time": "2021-08-17T04:39:02.721772",
          "exception": false,
          "start_time": "2021-08-17T04:39:02.647276",
          "status": "completed"
        },
        "tags": [],
        "id": "1ee65780"
      },
      "source": [
        "drop_cols = [\"id\"]\n",
        "train.drop(columns=drop_cols, inplace=True)\n",
        "test.drop(columns=drop_cols, inplace=True)"
      ],
      "id": "1ee65780",
      "execution_count": null,
      "outputs": []
    },
    {
      "cell_type": "markdown",
      "metadata": {
        "id": "o6XVHyYfHD4m"
      },
      "source": [
        "Stratified KFolds"
      ],
      "id": "o6XVHyYfHD4m"
    },
    {
      "cell_type": "code",
      "metadata": {
        "id": "SxfXSYjWCnWm"
      },
      "source": [
        "def create_stratified_folds_for_regression(data_df, n_splits=5):\n",
        "    \"\"\"\n",
        "    @param data_df: training data to split in Stratified K Folds for a continous target value\n",
        "    @param n_splits: number of splits\n",
        "    @return: the training data with a column with kfold id\n",
        "    \"\"\"\n",
        "    data_df['kfold'] = -1\n",
        "    # randomize the data\n",
        "    data_df = data_df.sample(frac=1).reset_index(drop=True)\n",
        "    # calculate the optimal number of bins based on log2(data_df.shape[0])\n",
        "    num_bins = np.int(np.floor(1 + np.log2(len(data_df))))\n",
        "    print(f\"Num bins: {num_bins}\")\n",
        "    # bins value will be the equivalent of class value of target feature used by StratifiedKFold to \n",
        "    # distribute evenly the classed over each fold\n",
        "    data_df.loc[:, \"bins\"] = pd.cut(pd.to_numeric(data_df['target'], downcast=\"signed\"), bins=num_bins, labels=False)\n",
        "    kf = model_selection.StratifiedKFold(n_splits=n_splits)\n",
        "    \n",
        "    # set the fold id as a new column in the train data\n",
        "    for f, (t_, v_) in enumerate(kf.split(X=data_df, y=data_df.bins.values)):\n",
        "        data_df.loc[v_, 'kfold'] = f\n",
        "    \n",
        "    # drop the bins column (no longer needed)\n",
        "    data_df = data_df.drop(\"bins\", axis=1)\n",
        "    \n",
        "    return data_df"
      ],
      "id": "SxfXSYjWCnWm",
      "execution_count": null,
      "outputs": []
    },
    {
      "cell_type": "code",
      "metadata": {
        "colab": {
          "base_uri": "https://localhost:8080/"
        },
        "id": "NT4nHu2LCnSB",
        "outputId": "612e1dcb-8dcc-407e-ae08-9176552bd3ce"
      },
      "source": [
        "n_splits = N_FOLDS\n",
        "train = create_stratified_folds_for_regression(train, n_splits)"
      ],
      "id": "NT4nHu2LCnSB",
      "execution_count": null,
      "outputs": [
        {
          "output_type": "stream",
          "text": [
            "Num bins: 19\n"
          ],
          "name": "stdout"
        }
      ]
    },
    {
      "cell_type": "code",
      "metadata": {
        "colab": {
          "base_uri": "https://localhost:8080/"
        },
        "id": "7pmntn01EgKT",
        "outputId": "73eea33e-c1b6-4987-a061-8dcb93cc41ce"
      },
      "source": [
        "train.kfold.value_counts()"
      ],
      "id": "7pmntn01EgKT",
      "execution_count": null,
      "outputs": [
        {
          "output_type": "execute_result",
          "data": {
            "text/plain": [
              "9    30000\n",
              "8    30000\n",
              "7    30000\n",
              "6    30000\n",
              "5    30000\n",
              "4    30000\n",
              "3    30000\n",
              "2    30000\n",
              "1    30000\n",
              "0    30000\n",
              "Name: kfold, dtype: int64"
            ]
          },
          "metadata": {
            "tags": []
          },
          "execution_count": 71
        }
      ]
    },
    {
      "cell_type": "code",
      "metadata": {
        "colab": {
          "base_uri": "https://localhost:8080/",
          "height": 410
        },
        "id": "BA5XBGXVEgFz",
        "outputId": "606330b2-4c73-45b4-ac63-705d9515ef15"
      },
      "source": [
        "plt.figure(figsize=(16,6))\n",
        "plt.title(\"Distribution of target values\")\n",
        "sns.distplot(train['target'],color=\"darkblue\", kde=True,bins=120, label='target')\n",
        "plt.legend(); plt.show()"
      ],
      "id": "BA5XBGXVEgFz",
      "execution_count": null,
      "outputs": [
        {
          "output_type": "display_data",
          "data": {
            "image/png": "[encoded data removed]",
            "text/plain": [
              "<Figure size 1152x432 with 1 Axes>"
            ]
          },
          "metadata": {
            "tags": []
          }
        }
      ]
    },
    {
      "cell_type": "code",
      "metadata": {
        "colab": {
          "base_uri": "https://localhost:8080/",
          "height": 410
        },
        "id": "unjYG7UdE3nU",
        "outputId": "60f31fe6-c6e5-4bf0-d17c-2efc71eb6bca"
      },
      "source": [
        "plt.figure(figsize=(16,6))\n",
        "plt.title(\"Distribution of target values (StratifiedKFolds with bins)\")\n",
        "for k in range(0,n_splits):\n",
        "    df = train.loc[train.kfold==k]\n",
        "    sns.distplot(df['target'],kde=True,hist=False, bins=120, label=k)\n",
        "plt.legend(); plt.show()"
      ],
      "id": "unjYG7UdE3nU",
      "execution_count": null,
      "outputs": [
        {
          "output_type": "display_data",
          "data": {
            "image/png": "[encoded data removed]",
            "text/plain": [
              "<Figure size 1152x432 with 1 Axes>"
            ]
          },
          "metadata": {
            "tags": []
          }
        }
      ]
    },
    {
      "cell_type": "code",
      "metadata": {
        "colab": {
          "base_uri": "https://localhost:8080/",
          "height": 410
        },
        "id": "ilEZRvLDFE0y",
        "outputId": "d8533bbb-c218-4145-8d28-bc79dc045cf3"
      },
      "source": [
        "kf = model_selection.KFold(n_splits=n_splits)\n",
        "\n",
        "plt.figure(figsize=(16,6))\n",
        "plt.title(\"Distribution of target values (KFold)\")\n",
        "    \n",
        "for f, (t_, v_) in enumerate(kf.split(X=train)):\n",
        "    df = train.iloc[v_]\n",
        "    sns.distplot(df['target'],kde=True,hist=False, bins=120, label=f)\n",
        "    \n",
        "plt.legend(); plt.show() "
      ],
      "id": "ilEZRvLDFE0y",
      "execution_count": null,
      "outputs": [
        {
          "output_type": "display_data",
          "data": {
            "image/png": "[encoded data removed]",
            "text/plain": [
              "<Figure size 1152x432 with 1 Axes>"
            ]
          },
          "metadata": {
            "tags": []
          }
        }
      ]
    },
    {
      "cell_type": "code",
      "metadata": {
        "id": "j1QeLwktFEwl"
      },
      "source": [
        "def kfold_splits(n_splits, train_df):\n",
        "    \"\"\"\n",
        "    Returns a collection of (fold, train indexes, validation indexes)\n",
        "    @param n_splits: number of splits\n",
        "    @param train_df: training data\n",
        "    @return: a collection of (fold, train indexes, validation indexes)\n",
        "    \"\"\"\n",
        "    all_folds = list(range(0, n_splits))\n",
        "    kf_splits = []\n",
        "    for fold in range(0, n_splits):\n",
        "        train_folds = [x for x in all_folds if x != fold]\n",
        "        trn_idx = train_df[train_df.kfold!=fold].index\n",
        "        val_idx = train_df[train_df.kfold==fold].index\n",
        "        kf_splits.append((fold, trn_idx, val_idx))\n",
        "    return kf_splits"
      ],
      "id": "j1QeLwktFEwl",
      "execution_count": null,
      "outputs": []
    },
    {
      "cell_type": "code",
      "metadata": {
        "execution": {
          "iopub.execute_input": "2021-08-17T04:39:02.797774Z",
          "iopub.status.busy": "2021-08-17T04:39:02.796196Z",
          "iopub.status.idle": "2021-08-17T04:39:02.812912Z",
          "shell.execute_reply": "2021-08-17T04:39:02.812278Z",
          "shell.execute_reply.started": "2021-08-17T03:02:44.814334Z"
        },
        "papermill": {
          "duration": 0.070176,
          "end_time": "2021-08-17T04:39:02.813073",
          "exception": false,
          "start_time": "2021-08-17T04:39:02.742897",
          "status": "completed"
        },
        "tags": [],
        "id": "601ce88e"
      },
      "source": [
        "target_col = \"target\"\n",
        "target = train[target_col]\n",
        "train.drop(columns=[target_col], inplace=True)\n",
        "test.drop(columns=[target_col], inplace=True)"
      ],
      "id": "601ce88e",
      "execution_count": null,
      "outputs": []
    },
    {
      "cell_type": "markdown",
      "metadata": {
        "papermill": {
          "duration": 0.02203,
          "end_time": "2021-08-17T04:39:04.306141",
          "exception": false,
          "start_time": "2021-08-17T04:39:04.284111",
          "status": "completed"
        },
        "tags": [],
        "id": "979c4346"
      },
      "source": [
        "LightGBM"
      ],
      "id": "979c4346"
    },
    {
      "cell_type": "code",
      "metadata": {
        "execution": {
          "iopub.execute_input": "2021-08-17T04:39:04.356319Z",
          "iopub.status.busy": "2021-08-17T04:39:04.355480Z",
          "iopub.status.idle": "2021-08-17T04:39:05.513542Z",
          "shell.execute_reply": "2021-08-17T04:39:05.514095Z",
          "shell.execute_reply.started": "2021-08-17T03:02:59.201278Z"
        },
        "papermill": {
          "duration": 1.18579,
          "end_time": "2021-08-17T04:39:05.514324",
          "exception": false,
          "start_time": "2021-08-17T04:39:04.328534",
          "status": "completed"
        },
        "tags": [],
        "id": "dfe636d1"
      },
      "source": [
        "from sklearn.metrics import accuracy_score\n",
        "import lightgbm as lgb"
      ],
      "id": "dfe636d1",
      "execution_count": null,
      "outputs": []
    },
    {
      "cell_type": "code",
      "metadata": {
        "execution": {
          "iopub.execute_input": "2021-08-17T04:39:05.619384Z",
          "iopub.status.busy": "2021-08-17T04:39:05.618294Z",
          "iopub.status.idle": "2021-08-17T04:39:05.624734Z",
          "shell.execute_reply": "2021-08-17T04:39:05.625242Z",
          "shell.execute_reply.started": "2021-08-17T03:03:43.206202Z"
        },
        "papermill": {
          "duration": 0.033151,
          "end_time": "2021-08-17T04:39:05.625451",
          "exception": false,
          "start_time": "2021-08-17T04:39:05.592300",
          "status": "completed"
        },
        "tags": [],
        "id": "35585cf9"
      },
      "source": [
        "# LGBMのパラメータを設定\n",
        "LGBM_params = {\n",
        "    \"task\": \"train\",\n",
        "    \"boosting_type\": \"gbdt\",\n",
        "    \"objective\": \"regression\",\n",
        "    \"metric\": \"rmse\",\n",
        "    \"learning_rate\": 0.001,\n",
        "    \"num_leaves\": 1024,\n",
        "    \"max_depth\": -1,\n",
        "    \"feature_fraction\": 0.8,\n",
        "    \"bagging_fraction\": 0.95,\n",
        "    #\"min_child_samples\": 290,\n",
        "    #\"reg_alpha\": 9.562925363678952,\n",
        "    #\"reg_lambda\": 9.355810045480153,\n",
        "    #\"max_bin\": 772,\n",
        "    #\"min_data_per_group\": 177,\n",
        "    #\"bagging_freq\": 1,\n",
        "    #\"cat_smooth\": 96,\n",
        "    #\"cat_l2\": 17,\n",
        "    \"verbosity\": -1,\n",
        "    \"bagging_seed\": SEED,\n",
        "    \"feature_fraction_seed\": SEED,\n",
        "    \"seed\": SEED\n",
        "}"
      ],
      "id": "35585cf9",
      "execution_count": null,
      "outputs": []
    },
    {
      "cell_type": "code",
      "metadata": {
        "execution": {
          "iopub.execute_input": "2021-08-17T04:39:05.564715Z",
          "iopub.status.busy": "2021-08-17T04:39:05.563587Z",
          "iopub.status.idle": "2021-08-17T04:39:05.568712Z",
          "shell.execute_reply": "2021-08-17T04:39:05.569173Z",
          "shell.execute_reply.started": "2021-08-17T03:03:04.637143Z"
        },
        "papermill": {
          "duration": 0.031948,
          "end_time": "2021-08-17T04:39:05.569379",
          "exception": false,
          "start_time": "2021-08-17T04:39:05.537431",
          "status": "completed"
        },
        "tags": [],
        "id": "85ae4325"
      },
      "source": [
        "#KFold\n",
        "#kf = KFold(n_splits=N_FOLDS, shuffle=True, random_state=SEED)\n",
        "\n",
        "# RMSE用\n",
        "LGBM_score = 0\n",
        "\n",
        "# testデータの予測用\n",
        "LGBM_pred = np.zeros(test.shape[0])"
      ],
      "id": "85ae4325",
      "execution_count": null,
      "outputs": []
    },
    {
      "cell_type": "code",
      "metadata": {
        "execution": {
          "iopub.execute_input": "2021-08-17T04:39:05.676282Z",
          "iopub.status.busy": "2021-08-17T04:39:05.675563Z",
          "iopub.status.idle": "2021-08-17T05:08:04.460118Z",
          "shell.execute_reply": "2021-08-17T05:08:04.460903Z",
          "shell.execute_reply.started": "2021-08-17T03:03:51.84776Z"
        },
        "papermill": {
          "duration": 1738.812404,
          "end_time": "2021-08-17T05:08:04.461167",
          "exception": false,
          "start_time": "2021-08-17T04:39:05.648763",
          "status": "completed"
        },
        "tags": [],
        "id": "95ff344d",
        "colab": {
          "base_uri": "https://localhost:8080/",
          "height": 586
        },
        "outputId": "a7cd3821-0c5a-4c2a-e95f-cf1993cdc6f8"
      },
      "source": [
        "for fold_, train_index, valid_index in kfold_splits(n_splits, train):\n",
        "\n",
        "    train_x = train.iloc[train_index][ALL_FEATS]\n",
        "    valid_x = train.iloc[valid_index][ALL_FEATS]\n",
        "    train_y = target[train_index]\n",
        "    valid_y = target[valid_index]\n",
        "\n",
        "    ########\n",
        "    # LGBM #\n",
        "    ########\n",
        "    lgb_train = lgb.Dataset(train_x,train_y)\n",
        "    lgb_valid = lgb.Dataset(valid_x,valid_y)\n",
        "   \n",
        "    LGBM_model = lgb.train(LGBM_params,\n",
        "                  lgb_train,\n",
        "                  valid_names=['train', 'valid'],\n",
        "                  valid_sets=[lgb_train, lgb_valid],\n",
        "                  num_boost_round=10000,\n",
        "                  early_stopping_rounds=100,\n",
        "                  feature_name=ALL_FEATS,\n",
        "                  categorical_feature=CAT_FEATS, # categorical features\n",
        "                  verbose_eval=500)\n",
        "    \n",
        "    # predictions in test data \n",
        "    LGBM_test_pred = LGBM_model.predict(test,num_iteration=LGBM_model.best_iteration)\n",
        "    # 0より小さな値があるとエラーになるので補正\n",
        "    LGBM_test_pred = np.where(LGBM_test_pred < 0, 0, LGBM_test_pred)\n",
        "    LGBM_pred += LGBM_test_pred / N_FOLDS  #  fold回すので\n",
        "    \n",
        "    # logging\n",
        "    LGBM_score += LGBM_model.best_score[\"valid\"][\"rmse\"] / N_FOLDS\n",
        "    print(\"LGBM_END\\n\")"
      ],
      "id": "95ff344d",
      "execution_count": null,
      "outputs": [
        {
          "output_type": "stream",
          "text": [
            "Training until validation scores don't improve for 100 rounds.\n",
            "[500]\ttrain's rmse: 0.726457\tvalid's rmse: 0.737527\n",
            "[1000]\ttrain's rmse: 0.709924\tvalid's rmse: 0.732919\n",
            "[1500]\ttrain's rmse: 0.69544\tvalid's rmse: 0.729875\n",
            "[2000]\ttrain's rmse: 0.682236\tvalid's rmse: 0.727769\n",
            "[2500]\ttrain's rmse: 0.670008\tvalid's rmse: 0.726261\n",
            "[3000]\ttrain's rmse: 0.658399\tvalid's rmse: 0.725139\n",
            "[3500]\ttrain's rmse: 0.647287\tvalid's rmse: 0.724244\n",
            "[4000]\ttrain's rmse: 0.636653\tvalid's rmse: 0.723566\n",
            "[4500]\ttrain's rmse: 0.626423\tvalid's rmse: 0.723056\n",
            "[5000]\ttrain's rmse: 0.616629\tvalid's rmse: 0.722628\n"
          ],
          "name": "stdout"
        },
        {
          "output_type": "error",
          "ename": "KeyboardInterrupt",
          "evalue": "ignored",
          "traceback": [
            "\u001b[0;31m---------------------------------------------------------------------------\u001b[0m",
            "\u001b[0;31mKeyboardInterrupt\u001b[0m                         Traceback (most recent call last)",
            "\u001b[0;32m<ipython-input-51-4309db31ba12>\u001b[0m in \u001b[0;36m<module>\u001b[0;34m()\u001b[0m\n\u001b[1;32m     20\u001b[0m                   \u001b[0mfeature_name\u001b[0m\u001b[0;34m=\u001b[0m\u001b[0mALL_FEATS\u001b[0m\u001b[0;34m,\u001b[0m\u001b[0;34m\u001b[0m\u001b[0;34m\u001b[0m\u001b[0m\n\u001b[1;32m     21\u001b[0m                   \u001b[0mcategorical_feature\u001b[0m\u001b[0;34m=\u001b[0m\u001b[0mCAT_FEATS\u001b[0m\u001b[0;34m,\u001b[0m \u001b[0;31m# categorical features\u001b[0m\u001b[0;34m\u001b[0m\u001b[0;34m\u001b[0m\u001b[0m\n\u001b[0;32m---> 22\u001b[0;31m                   verbose_eval=500)\n\u001b[0m\u001b[1;32m     23\u001b[0m \u001b[0;34m\u001b[0m\u001b[0m\n\u001b[1;32m     24\u001b[0m     \u001b[0;31m# predictions in test data\u001b[0m\u001b[0;34m\u001b[0m\u001b[0;34m\u001b[0m\u001b[0;34m\u001b[0m\u001b[0m\n",
            "\u001b[0;32m/usr/local/lib/python3.7/dist-packages/lightgbm/engine.py\u001b[0m in \u001b[0;36mtrain\u001b[0;34m(params, train_set, num_boost_round, valid_sets, valid_names, fobj, feval, init_model, feature_name, categorical_feature, early_stopping_rounds, evals_result, verbose_eval, learning_rates, keep_training_booster, callbacks)\u001b[0m\n\u001b[1;32m    216\u001b[0m                                     evaluation_result_list=None))\n\u001b[1;32m    217\u001b[0m \u001b[0;34m\u001b[0m\u001b[0m\n\u001b[0;32m--> 218\u001b[0;31m         \u001b[0mbooster\u001b[0m\u001b[0;34m.\u001b[0m\u001b[0mupdate\u001b[0m\u001b[0;34m(\u001b[0m\u001b[0mfobj\u001b[0m\u001b[0;34m=\u001b[0m\u001b[0mfobj\u001b[0m\u001b[0;34m)\u001b[0m\u001b[0;34m\u001b[0m\u001b[0;34m\u001b[0m\u001b[0m\n\u001b[0m\u001b[1;32m    219\u001b[0m \u001b[0;34m\u001b[0m\u001b[0m\n\u001b[1;32m    220\u001b[0m         \u001b[0mevaluation_result_list\u001b[0m \u001b[0;34m=\u001b[0m \u001b[0;34m[\u001b[0m\u001b[0;34m]\u001b[0m\u001b[0;34m\u001b[0m\u001b[0;34m\u001b[0m\u001b[0m\n",
            "\u001b[0;32m/usr/local/lib/python3.7/dist-packages/lightgbm/basic.py\u001b[0m in \u001b[0;36mupdate\u001b[0;34m(self, train_set, fobj)\u001b[0m\n\u001b[1;32m   1800\u001b[0m             _safe_call(_LIB.LGBM_BoosterUpdateOneIter(\n\u001b[1;32m   1801\u001b[0m                 \u001b[0mself\u001b[0m\u001b[0;34m.\u001b[0m\u001b[0mhandle\u001b[0m\u001b[0;34m,\u001b[0m\u001b[0;34m\u001b[0m\u001b[0;34m\u001b[0m\u001b[0m\n\u001b[0;32m-> 1802\u001b[0;31m                 ctypes.byref(is_finished)))\n\u001b[0m\u001b[1;32m   1803\u001b[0m             \u001b[0mself\u001b[0m\u001b[0;34m.\u001b[0m\u001b[0m__is_predicted_cur_iter\u001b[0m \u001b[0;34m=\u001b[0m \u001b[0;34m[\u001b[0m\u001b[0;32mFalse\u001b[0m \u001b[0;32mfor\u001b[0m \u001b[0m_\u001b[0m \u001b[0;32min\u001b[0m \u001b[0mrange_\u001b[0m\u001b[0;34m(\u001b[0m\u001b[0mself\u001b[0m\u001b[0;34m.\u001b[0m\u001b[0m__num_dataset\u001b[0m\u001b[0;34m)\u001b[0m\u001b[0;34m]\u001b[0m\u001b[0;34m\u001b[0m\u001b[0;34m\u001b[0m\u001b[0m\n\u001b[1;32m   1804\u001b[0m             \u001b[0;32mreturn\u001b[0m \u001b[0mis_finished\u001b[0m\u001b[0;34m.\u001b[0m\u001b[0mvalue\u001b[0m \u001b[0;34m==\u001b[0m \u001b[0;36m1\u001b[0m\u001b[0;34m\u001b[0m\u001b[0;34m\u001b[0m\u001b[0m\n",
            "\u001b[0;31mKeyboardInterrupt\u001b[0m: "
          ]
        }
      ]
    },
    {
      "cell_type": "code",
      "metadata": {
        "execution": {
          "iopub.execute_input": "2021-08-17T05:08:04.578619Z",
          "iopub.status.busy": "2021-08-17T05:08:04.577887Z",
          "iopub.status.idle": "2021-08-17T05:08:04.580615Z",
          "shell.execute_reply": "2021-08-17T05:08:04.581143Z",
          "shell.execute_reply.started": "2021-08-17T03:17:19.481875Z"
        },
        "papermill": {
          "duration": 0.063762,
          "end_time": "2021-08-17T05:08:04.581330",
          "exception": false,
          "start_time": "2021-08-17T05:08:04.517568",
          "status": "completed"
        },
        "tags": [],
        "id": "467facf1",
        "outputId": "589a6b48-e9e7-4a84-97b4-c5ddcb192274"
      },
      "source": [
        "#prediction\n",
        "pred = LGBM_pred\n",
        "print(f\"Mean RMSE SCORE :{LGBM_score}\")"
      ],
      "id": "467facf1",
      "execution_count": null,
      "outputs": [
        {
          "output_type": "stream",
          "text": [
            "Mean RMSE SCORE :0.7173708670186565\n"
          ],
          "name": "stdout"
        }
      ]
    },
    {
      "cell_type": "code",
      "metadata": {
        "execution": {
          "iopub.execute_input": "2021-08-17T05:08:04.698875Z",
          "iopub.status.busy": "2021-08-17T05:08:04.698029Z",
          "iopub.status.idle": "2021-08-17T05:08:05.302232Z",
          "shell.execute_reply": "2021-08-17T05:08:05.301708Z",
          "shell.execute_reply.started": "2021-08-17T03:17:23.41106Z"
        },
        "papermill": {
          "duration": 0.665351,
          "end_time": "2021-08-17T05:08:05.302399",
          "exception": false,
          "start_time": "2021-08-17T05:08:04.637048",
          "status": "completed"
        },
        "tags": [],
        "id": "c79c9c54",
        "outputId": "a4619677-6378-4e3c-b527-c9de75358487"
      },
      "source": [
        "# 特徴量の重要度をプロットする\n",
        "# plot importance\n",
        "lgb.plot_importance(LGBM_model,importance_type=\"gain\", figsize=(10,10))"
      ],
      "id": "c79c9c54",
      "execution_count": null,
      "outputs": [
        {
          "output_type": "execute_result",
          "data": {
            "text/plain": [
              "<AxesSubplot:title={'center':'Feature importance'}, xlabel='Feature importance', ylabel='Features'>"
            ]
          },
          "metadata": {
            "tags": []
          },
          "execution_count": 19
        },
        {
          "output_type": "display_data",
          "data": {
            "image/png": "[encoded data removed]",
            "text/plain": [
              "<Figure size 720x720 with 1 Axes>"
            ]
          },
          "metadata": {
            "tags": []
          }
        }
      ]
    },
    {
      "cell_type": "code",
      "metadata": {
        "execution": {
          "iopub.execute_input": "2021-08-17T05:08:05.429473Z",
          "iopub.status.busy": "2021-08-17T05:08:05.427048Z",
          "iopub.status.idle": "2021-08-17T05:09:42.959457Z",
          "shell.execute_reply": "2021-08-17T05:09:42.958805Z",
          "shell.execute_reply.started": "2021-08-17T03:18:33.126108Z"
        },
        "papermill": {
          "duration": 97.598071,
          "end_time": "2021-08-17T05:09:42.959611",
          "exception": false,
          "start_time": "2021-08-17T05:08:05.361540",
          "status": "completed"
        },
        "tags": [],
        "id": "7a327340",
        "colab": {
          "base_uri": "https://localhost:8080/",
          "height": 320
        },
        "outputId": "b86a7678-ca48-4721-a51a-3623e492f602"
      },
      "source": [
        "# Model\n",
        "%%time\n",
        "LGBM_test_pred = LGBM_model.predict(train[ALL_FEATS], num_iteration=LGBM_model.best_iteration)\n",
        "tea_ans = target\n",
        "\n",
        "# draw a comparison between train and target\n",
        "sns.distplot(LGBM_test_pred)\n",
        "sns.distplot(target)"
      ],
      "id": "7a327340",
      "execution_count": null,
      "outputs": [
        {
          "output_type": "stream",
          "text": [
            "CPU times: user 19.8 s, sys: 330 ms, total: 20.1 s\n",
            "Wall time: 11 s\n"
          ],
          "name": "stdout"
        },
        {
          "output_type": "display_data",
          "data": {
            "image/png": "[encoded data removed]",
            "text/plain": [
              "<Figure size 432x288 with 1 Axes>"
            ]
          },
          "metadata": {
            "tags": []
          }
        }
      ]
    },
    {
      "cell_type": "code",
      "metadata": {
        "execution": {
          "iopub.execute_input": "2021-08-17T05:09:43.087028Z",
          "iopub.status.busy": "2021-08-17T05:09:43.086236Z",
          "iopub.status.idle": "2021-08-17T05:09:43.900020Z",
          "shell.execute_reply": "2021-08-17T05:09:43.899326Z",
          "shell.execute_reply.started": "2021-08-17T03:24:31.817215Z"
        },
        "papermill": {
          "duration": 0.880438,
          "end_time": "2021-08-17T05:09:43.900174",
          "exception": false,
          "start_time": "2021-08-17T05:09:43.019736",
          "status": "completed"
        },
        "tags": [],
        "id": "8e87a664",
        "outputId": "abdf763b-d6b4-4116-cc1f-cb31ac6abe07"
      },
      "source": [
        "# make submission file\n",
        "sub = pd.read_csv(input_path / 'sample_submission.csv')\n",
        "sub['target'] = pred\n",
        "sub.to_csv('20210817_SFK_LGBM_submission.csv', index=False)\n",
        "sub.head()"
      ],
      "id": "8e87a664",
      "execution_count": null,
      "outputs": [
        {
          "output_type": "execute_result",
          "data": {
            "text/html": [
              "<div>\n",
              "<style scoped>\n",
              "    .dataframe tbody tr th:only-of-type {\n",
              "        vertical-align: middle;\n",
              "    }\n",
              "\n",
              "    .dataframe tbody tr th {\n",
              "        vertical-align: top;\n",
              "    }\n",
              "\n",
              "    .dataframe thead th {\n",
              "        text-align: right;\n",
              "    }\n",
              "</style>\n",
              "<table border=\"1\" class=\"dataframe\">\n",
              "  <thead>\n",
              "    <tr style=\"text-align: right;\">\n",
              "      <th></th>\n",
              "      <th>id</th>\n",
              "      <th>target</th>\n",
              "    </tr>\n",
              "  </thead>\n",
              "  <tbody>\n",
              "    <tr>\n",
              "      <th>0</th>\n",
              "      <td>0</td>\n",
              "      <td>8.057624</td>\n",
              "    </tr>\n",
              "    <tr>\n",
              "      <th>1</th>\n",
              "      <td>5</td>\n",
              "      <td>8.340325</td>\n",
              "    </tr>\n",
              "    <tr>\n",
              "      <th>2</th>\n",
              "      <td>15</td>\n",
              "      <td>8.369175</td>\n",
              "    </tr>\n",
              "    <tr>\n",
              "      <th>3</th>\n",
              "      <td>16</td>\n",
              "      <td>8.461016</td>\n",
              "    </tr>\n",
              "    <tr>\n",
              "      <th>4</th>\n",
              "      <td>17</td>\n",
              "      <td>8.143834</td>\n",
              "    </tr>\n",
              "  </tbody>\n",
              "</table>\n",
              "</div>"
            ],
            "text/plain": [
              "   id    target\n",
              "0   0  8.057624\n",
              "1   5  8.340325\n",
              "2  15  8.369175\n",
              "3  16  8.461016\n",
              "4  17  8.143834"
            ]
          },
          "metadata": {
            "tags": []
          },
          "execution_count": 21
        }
      ]
    }
  ]
}