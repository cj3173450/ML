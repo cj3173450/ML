{
 "cells": [
  {
   "cell_type": "code",
   "execution_count": 1,
   "id": "331fefcd",
   "metadata": {
    "_cell_guid": "b1076dfc-b9ad-4769-8c92-a6c4dae69d19",
    "_uuid": "8f2839f25d086af736a60e9eeb907d3b93b6e0e5",
    "execution": {
     "iopub.execute_input": "2021-08-23T14:26:14.896393Z",
     "iopub.status.busy": "2021-08-23T14:26:14.895680Z",
     "iopub.status.idle": "2021-08-23T14:26:16.583489Z",
     "shell.execute_reply": "2021-08-23T14:26:16.582523Z",
     "shell.execute_reply.started": "2021-08-23T14:22:54.075837Z"
    },
    "papermill": {
     "duration": 1.706483,
     "end_time": "2021-08-23T14:26:16.583651",
     "exception": false,
     "start_time": "2021-08-23T14:26:14.877168",
     "status": "completed"
    },
    "tags": []
   },
   "outputs": [],
   "source": [
    "import pandas as pd\n",
    "import numpy as np\n",
    "from sklearn import preprocessing\n",
    "from sklearn.metrics import mean_squared_error\n",
    "from xgboost import XGBRegressor\n",
    "import optuna"
   ]
  },
  {
   "cell_type": "code",
   "execution_count": 2,
   "id": "f127f93f",
   "metadata": {
    "execution": {
     "iopub.execute_input": "2021-08-23T14:26:16.606854Z",
     "iopub.status.busy": "2021-08-23T14:26:16.606171Z",
     "iopub.status.idle": "2021-08-23T14:26:27.765031Z",
     "shell.execute_reply": "2021-08-23T14:26:27.764447Z",
     "shell.execute_reply.started": "2021-08-23T14:23:04.385992Z"
    },
    "papermill": {
     "duration": 11.174473,
     "end_time": "2021-08-23T14:26:27.765169",
     "exception": false,
     "start_time": "2021-08-23T14:26:16.590696",
     "status": "completed"
    },
    "tags": []
   },
   "outputs": [],
   "source": [
    "df = pd.read_csv(\"../input/30days-folds/train_folds.csv\")\n",
    "df_test = pd.read_csv(\"../input/30-days-of-ml/test.csv\")\n",
    "sample_submission = pd.read_csv(\"../input/30-days-of-ml/sample_submission.csv\")\n",
    "\n",
    "useful_features = [c for c in df.columns if c not in (\"id\", \"target\", \"kfold\")]\n",
    "object_cols = [col for col in useful_features if col.startswith(\"cat\")]\n",
    "df_test = df_test[useful_features]\n",
    "\n",
    "for col in object_cols:\n",
    "    temp_df = []\n",
    "    temp_test_feat = None\n",
    "    for fold in range(5):\n",
    "        xtrain =  df[df.kfold != fold].reset_index(drop=True)\n",
    "        xvalid = df[df.kfold == fold].reset_index(drop=True)\n",
    "        feat = xtrain.groupby(col)[\"target\"].agg(\"mean\")\n",
    "        feat = feat.to_dict()\n",
    "        xvalid.loc[:, f\"tar_enc_{col}\"] = xvalid[col].map(feat)\n",
    "        temp_df.append(xvalid)\n",
    "        if temp_test_feat is None:\n",
    "            temp_test_feat = df_test[col].map(feat)\n",
    "        else:\n",
    "            temp_test_feat += df_test[col].map(feat)\n",
    "    \n",
    "    temp_test_feat /= 5\n",
    "    df_test.loc[:, f\"tar_enc_{col}\"] = temp_test_feat\n",
    "    df = pd.concat(temp_df)\n",
    "    \n",
    "\n",
    "useful_features = [c for c in df.columns if c not in (\"id\", \"target\", \"kfold\")]\n",
    "object_cols = [col for col in useful_features if col.startswith(\"cat\")]\n",
    "df_test = df_test[useful_features]"
   ]
  },
  {
   "cell_type": "code",
   "execution_count": 3,
   "id": "af135fc1",
   "metadata": {
    "execution": {
     "iopub.execute_input": "2021-08-23T14:26:27.785111Z",
     "iopub.status.busy": "2021-08-23T14:26:27.784479Z",
     "iopub.status.idle": "2021-08-23T14:26:27.788119Z",
     "shell.execute_reply": "2021-08-23T14:26:27.787705Z",
     "shell.execute_reply.started": "2021-08-23T14:23:14.329957Z"
    },
    "papermill": {
     "duration": 0.017824,
     "end_time": "2021-08-23T14:26:27.788231",
     "exception": false,
     "start_time": "2021-08-23T14:26:27.770407",
     "status": "completed"
    },
    "tags": []
   },
   "outputs": [],
   "source": [
    "def run(trial):\n",
    "    fold = 0\n",
    "    learning_rate = trial.suggest_float(\"learning_rate\", 1e-2, 0.25, log=True)\n",
    "    reg_lambda = trial.suggest_loguniform(\"reg_lambda\", 1e-8, 100.0)\n",
    "    reg_alpha = trial.suggest_loguniform(\"reg_alpha\", 1e-8, 100.0)\n",
    "    subsample = trial.suggest_float(\"subsample\", 0.1, 1.0)\n",
    "    colsample_bytree = trial.suggest_float(\"colsample_bytree\", 0.1, 1.0)\n",
    "    max_depth = trial.suggest_int(\"max_depth\", 1, 7)\n",
    "\n",
    "    xtrain = df[df.kfold != fold].reset_index(drop=True)\n",
    "    xvalid = df[df.kfold == fold].reset_index(drop=True)\n",
    "\n",
    "    ytrain = xtrain.target\n",
    "    yvalid = xvalid.target\n",
    "\n",
    "    xtrain = xtrain[useful_features]\n",
    "    xvalid = xvalid[useful_features]\n",
    "\n",
    "    ordinal_encoder = preprocessing.OrdinalEncoder()\n",
    "    xtrain[object_cols] = ordinal_encoder.fit_transform(xtrain[object_cols])\n",
    "    xvalid[object_cols] = ordinal_encoder.transform(xvalid[object_cols])\n",
    "\n",
    "    model = XGBRegressor(\n",
    "        random_state=42,\n",
    "        tree_method=\"gpu_hist\",\n",
    "        gpu_id=1,\n",
    "        predictor=\"gpu_predictor\",\n",
    "        n_estimators=7000,\n",
    "        learning_rate=learning_rate,\n",
    "        reg_lambda=reg_lambda,\n",
    "        reg_alpha=reg_alpha,\n",
    "        subsample=subsample,\n",
    "        colsample_bytree=colsample_bytree,\n",
    "        max_depth=max_depth,\n",
    "    )\n",
    "    model.fit(xtrain, ytrain, early_stopping_rounds=300, eval_set=[(xvalid, yvalid)], verbose=1000)\n",
    "    preds_valid = model.predict(xvalid)\n",
    "    rmse = mean_squared_error(yvalid, preds_valid, squared=False)\n",
    "    return rmse"
   ]
  },
  {
   "cell_type": "code",
   "execution_count": 4,
   "id": "1a6de545",
   "metadata": {
    "execution": {
     "iopub.execute_input": "2021-08-23T14:26:27.804709Z",
     "iopub.status.busy": "2021-08-23T14:26:27.801831Z",
     "iopub.status.idle": "2021-08-23T14:27:31.630201Z",
     "shell.execute_reply": "2021-08-23T14:27:31.629692Z",
     "shell.execute_reply.started": "2021-08-23T14:23:17.675651Z"
    },
    "papermill": {
     "duration": 63.83692,
     "end_time": "2021-08-23T14:27:31.630344",
     "exception": false,
     "start_time": "2021-08-23T14:26:27.793424",
     "status": "completed"
    },
    "tags": []
   },
   "outputs": [
    {
     "name": "stderr",
     "output_type": "stream",
     "text": [
      "\u001b[32m[I 2021-08-23 14:26:27,800]\u001b[0m A new study created in memory with name: no-name-971dd5da-8fa7-4b97-a0e0-770b215ef836\u001b[0m\n"
     ]
    },
    {
     "name": "stdout",
     "output_type": "stream",
     "text": [
      "[14:26:30] WARNING: ../src/learner.cc:231: Only 1 GPUs are visible, setting `gpu_id` to 0\n",
      "[0]\tvalidation_0-rmse:6.48157\n",
      "[1000]\tvalidation_0-rmse:0.72711\n",
      "[2000]\tvalidation_0-rmse:0.72463\n",
      "[3000]\tvalidation_0-rmse:0.72318\n",
      "[4000]\tvalidation_0-rmse:0.72215\n",
      "[5000]\tvalidation_0-rmse:0.72137\n",
      "[6000]\tvalidation_0-rmse:0.72082\n",
      "[6999]\tvalidation_0-rmse:0.72033\n"
     ]
    },
    {
     "name": "stderr",
     "output_type": "stream",
     "text": [
      "\u001b[32m[I 2021-08-23 14:26:45,249]\u001b[0m Trial 0 finished with value: 0.7203216783964389 and parameters: {'learning_rate': 0.16863562371470991, 'reg_lambda': 0.00213735442160522, 'reg_alpha': 0.005877169105900977, 'subsample': 0.7075822416620647, 'colsample_bytree': 0.8376750199672234, 'max_depth': 1}. Best is trial 0 with value: 0.7203216783964389.\u001b[0m\n"
     ]
    },
    {
     "name": "stdout",
     "output_type": "stream",
     "text": [
      "[14:26:47] WARNING: ../src/learner.cc:231: Only 1 GPUs are visible, setting `gpu_id` to 0\n",
      "[0]\tvalidation_0-rmse:7.58039\n",
      "[1000]\tvalidation_0-rmse:0.73385\n",
      "[2000]\tvalidation_0-rmse:0.73106\n",
      "[3000]\tvalidation_0-rmse:0.72965\n",
      "[4000]\tvalidation_0-rmse:0.72864\n",
      "[5000]\tvalidation_0-rmse:0.72784\n",
      "[6000]\tvalidation_0-rmse:0.72717\n",
      "[6999]\tvalidation_0-rmse:0.72659\n"
     ]
    },
    {
     "name": "stderr",
     "output_type": "stream",
     "text": [
      "\u001b[32m[I 2021-08-23 14:27:02,019]\u001b[0m Trial 1 finished with value: 0.7265843315303601 and parameters: {'learning_rate': 0.025883586001082638, 'reg_lambda': 0.00011166766563913344, 'reg_alpha': 0.00011063517935014173, 'subsample': 0.6044479881702076, 'colsample_bytree': 0.9033246491964274, 'max_depth': 1}. Best is trial 0 with value: 0.7203216783964389.\u001b[0m\n"
     ]
    },
    {
     "name": "stdout",
     "output_type": "stream",
     "text": [
      "[14:27:04] WARNING: ../src/learner.cc:231: Only 1 GPUs are visible, setting `gpu_id` to 0\n",
      "[0]\tvalidation_0-rmse:6.66636\n",
      "[791]\tvalidation_0-rmse:0.72084\n"
     ]
    },
    {
     "name": "stderr",
     "output_type": "stream",
     "text": [
      "\u001b[32m[I 2021-08-23 14:27:07,271]\u001b[0m Trial 2 finished with value: 0.7203879162948018 and parameters: {'learning_rate': 0.144607750993663, 'reg_lambda': 4.317964505286956e-08, 'reg_alpha': 1.4990047247773775e-05, 'subsample': 0.5198688561483064, 'colsample_bytree': 0.19934165695029948, 'max_depth': 4}. Best is trial 0 with value: 0.7203216783964389.\u001b[0m\n"
     ]
    },
    {
     "name": "stdout",
     "output_type": "stream",
     "text": [
      "[14:27:09] WARNING: ../src/learner.cc:231: Only 1 GPUs are visible, setting `gpu_id` to 0\n",
      "[0]\tvalidation_0-rmse:7.19977\n",
      "[904]\tvalidation_0-rmse:0.71977\n"
     ]
    },
    {
     "name": "stderr",
     "output_type": "stream",
     "text": [
      "\u001b[32m[I 2021-08-23 14:27:15,423]\u001b[0m Trial 3 finished with value: 0.7194712240560249 and parameters: {'learning_rate': 0.07530206262581056, 'reg_lambda': 1.132014403606756e-05, 'reg_alpha': 4.146131556492896e-05, 'subsample': 0.6671061536867464, 'colsample_bytree': 0.10778806404406721, 'max_depth': 6}. Best is trial 3 with value: 0.7194712240560249.\u001b[0m\n"
     ]
    },
    {
     "name": "stdout",
     "output_type": "stream",
     "text": [
      "[14:27:17] WARNING: ../src/learner.cc:231: Only 1 GPUs are visible, setting `gpu_id` to 0\n",
      "[0]\tvalidation_0-rmse:6.84466\n",
      "[1000]\tvalidation_0-rmse:0.72783\n",
      "[2000]\tvalidation_0-rmse:0.72523\n",
      "[3000]\tvalidation_0-rmse:0.72371\n",
      "[4000]\tvalidation_0-rmse:0.72272\n",
      "[5000]\tvalidation_0-rmse:0.72191\n",
      "[6000]\tvalidation_0-rmse:0.72133\n",
      "[6999]\tvalidation_0-rmse:0.72096\n"
     ]
    },
    {
     "name": "stderr",
     "output_type": "stream",
     "text": [
      "\u001b[32m[I 2021-08-23 14:27:31,623]\u001b[0m Trial 4 finished with value: 0.7208955305592295 and parameters: {'learning_rate': 0.1214317144598447, 'reg_lambda': 1.486660387264361e-06, 'reg_alpha': 2.6503957160366253e-08, 'subsample': 0.5526699691712402, 'colsample_bytree': 0.9002282109115242, 'max_depth': 1}. Best is trial 3 with value: 0.7194712240560249.\u001b[0m\n"
     ]
    }
   ],
   "source": [
    "study = optuna.create_study(direction=\"minimize\")\n",
    "study.optimize(run, n_trials=5)"
   ]
  },
  {
   "cell_type": "code",
   "execution_count": 5,
   "id": "e81fde83",
   "metadata": {
    "execution": {
     "iopub.execute_input": "2021-08-23T14:27:31.669835Z",
     "iopub.status.busy": "2021-08-23T14:27:31.669108Z",
     "iopub.status.idle": "2021-08-23T14:27:31.672539Z",
     "shell.execute_reply": "2021-08-23T14:27:31.673019Z",
     "shell.execute_reply.started": "2021-08-23T14:24:32.568555Z"
    },
    "papermill": {
     "duration": 0.026642,
     "end_time": "2021-08-23T14:27:31.673162",
     "exception": false,
     "start_time": "2021-08-23T14:27:31.646520",
     "status": "completed"
    },
    "tags": []
   },
   "outputs": [
    {
     "data": {
      "text/plain": [
       "{'learning_rate': 0.07530206262581056,\n",
       " 'reg_lambda': 1.132014403606756e-05,\n",
       " 'reg_alpha': 4.146131556492896e-05,\n",
       " 'subsample': 0.6671061536867464,\n",
       " 'colsample_bytree': 0.10778806404406721,\n",
       " 'max_depth': 6}"
      ]
     },
     "execution_count": 5,
     "metadata": {},
     "output_type": "execute_result"
    }
   ],
   "source": [
    "study.best_params"
   ]
  },
  {
   "cell_type": "code",
   "execution_count": null,
   "id": "b1aa03e4",
   "metadata": {
    "papermill": {
     "duration": 0.015791,
     "end_time": "2021-08-23T14:27:31.704583",
     "exception": false,
     "start_time": "2021-08-23T14:27:31.688792",
     "status": "completed"
    },
    "tags": []
   },
   "outputs": [],
   "source": []
  }
 ],
 "metadata": {
  "kernelspec": {
   "display_name": "Python 3",
   "language": "python",
   "name": "python3"
  },
  "language_info": {
   "codemirror_mode": {
    "name": "ipython",
    "version": 3
   },
   "file_extension": ".py",
   "mimetype": "text/x-python",
   "name": "python",
   "nbconvert_exporter": "python",
   "pygments_lexer": "ipython3",
   "version": "3.7.10"
  },
  "papermill": {
   "default_parameters": {},
   "duration": 84.433028,
   "end_time": "2021-08-23T14:27:32.530104",
   "environment_variables": {},
   "exception": null,
   "input_path": "__notebook__.ipynb",
   "output_path": "__notebook__.ipynb",
   "parameters": {},
   "start_time": "2021-08-23T14:26:08.097076",
   "version": "2.3.3"
  }
 },
 "nbformat": 4,
 "nbformat_minor": 5
}
